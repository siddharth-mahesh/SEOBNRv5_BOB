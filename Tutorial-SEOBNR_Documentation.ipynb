{
 "cells": [
  {
   "cell_type": "markdown",
   "metadata": {},
   "source": [
    "# The Spinning Effective One-Body Hamiltonian\n",
    "\n",
    "## Author: Tyler Knowles\n",
    "### Formatting improvements courtesy Brandon Clark\n",
    "\n",
    "## This module documents the reduced spinning effective one-body Hamiltonian as numerically implemented in LALSuite's SEOBNRv3 gravitational waveform approximant.\n",
    "\n",
    "\n",
    "**Module Status:** <font color='red'><b> In progress </b></font>\n",
    "\n",
    "**Validation Notes:** This module is under active development -- do ***not*** use the resulting code for scientific applications.  In the future, this module will be validated against the LALSuite [SEOBNRv3/SEOBNRv3_opt code]( https://git.ligo.org/lscsoft/lalsuite.) that was reviewed and approved for LIGO parameter estimation by the LIGO Scientific Collaboration.\n",
    "\n",
    "\n",
    "## Introduction\n",
    "### The Physical System of Interest\n",
    "\n",
    "Consider two black holes with masses $m_{1}$, $m_{2}$ and spins ${\\bf S}_{1}$, ${\\bf S}_{2}$ in a binary system.  The spinning effective one-body (\"SEOB\") Hamiltonian $H_{\\rm real}$ (defined in [this cell](#hreal)) describes the dynamics of this system; we will define $H_{\\rm real}$ as in [Barausse and Buonanno (2010)](https://arxiv.org/abs/0912.3517) Section VE.  There, $H_{\\rm real}$ is canonically transformed and mapped to an effective Hamiltonian $H_{\\rm eff}$ (defined in [this cell](#heff)) describing the motion of a test particle of mass $\\mu$ (defined in [this cell](#mu)) and spin ${\\bf S}^{*}$ (defined in [this cell](#sstar)) moving in a defomred Kerr metric of mass $M$ (defined in [this cell](#m)) and spin ${\\bf S}_{\\rm Kerr}$ (defined in [this cell](#skerr)).  Here we seek to break up $H_{\\rm real}$ and document the terms in such a way that the resulting Python code can be used to numerically evaluate $H_{\\rm real}$.\n",
    "\n",
    "We write $H_{\\rm real}$ in terms of Cartesian quasi-isotropic coordinates $x$, $y$, and $z$ (see [Barausse and Buonanno (2010)](https://arxiv.org/abs/0912.3517) Section III).  The spatial coordinates $r$, $\\theta$, and $\\phi$ referenced throughout are [Boyer-Lindquist coordinates](https://en.wikipedia.org/wiki/Boyer%E2%80%93Lindquist_coordinates) (see [Barausse and Buonanno (2010)](https://arxiv.org/abs/0912.3517) Section IV).\n",
    "\n",
    "Please note that throughout this notebook we adpot the following conventions:\n",
    "\n",
    "1. $c = 1$ where $c$ is the speed of light in a vacuum,\n",
    "1. spacial tensor indicies are denoted by lowercase Latin letters, and\n",
    "1. repeated indices indicate Einstein summation notation.\n",
    "\n",
    "<font color='red'>**Please note: LALSuite computes $\\eta H_{\\rm real}$ (for example, in LALSimIMRSpinPrecEOBHcapExactDerivative.c Lines 185--192 we divide $H_{\\rm real}$ by $\\eta$).  We write the terms here as they are written in [BB2010](https://arxiv.org/abs/0912.3517).  (It may be helpful to see the first paragraph in [Pan, Buonanno, Taracchini, et. al. (2014)](https://arxiv.org/abs/1307.6232#) Section IIA.)**</font>\n",
    "\n",
    "### Citations\n",
    "Throughout this module, we will refer to\n",
    "* [Barausse and Buonanno (2010)](https://arxiv.org/abs/0912.3517) as BB2010,\n",
    "* [Barausse and Buonanno (2011)](https://arxiv.org/abs/1107.2904) as BB2011,\n",
    "* [Pan, Buonanno, Buchman, et. al. 2010](https://arxiv.org/abs/0912.3466v2) as P2010,\n",
    "* [Taracchini, Pan, Buonanno, et al (2012)](https://arxiv.org/abs/1202.0790) as T2012, and\n",
    "* [Damour, Jaranowski, and Schaefer (2000)](https://arxiv.org/abs/gr-qc/0005034) as D2000."
   ]
  },
  {
   "cell_type": "markdown",
   "metadata": {},
   "source": [
    "<a id='toc'></a>\n",
    "\n",
    "# Table of Contents\n",
    "$$\\label{toc}$$\n",
    "\n",
    "This module is organized as follows\n",
    "\n",
    "1. [Step 1](#hreal): The Real Hamiltonian $H_{\\rm real}$\n",
    "1. [Step 2](#heff): The Effective Hamiltonian $H_{\\rm eff}$\n",
    "1. [Step 3](#heff_terms): Terms of $H_{\\rm eff}$  \n",
    "    1. [Step 3.a](#hs): Leading Order Spin Effects $H_{\\rm S}$  \n",
    "    1. [Step 3.b](#hns): The Nonspinning Hamiltonian $H_{\\rm NS}$  \n",
    "    1. [Step 3.c](#hd): The Quadrupole Deformation $H_{\\rm D}$\n",
    "1. [Step 4](#hso): The Spin-Orbit Term $H_{\\rm SO}$  \n",
    "    1. [Step 4.a](#hsoterm1): $H_{\\rm SO}$ Term 1  \n",
    "    1. [Step 4.b](#hsoterm2coeff): $H_{\\rm SO}$ Term 2 Coefficient  \n",
    "    1. [Step 4.c](#hsoterm2): $H_{\\rm SO}$ Term 2  \n",
    "        1. [Step 4.c.i](#hsoterm2a): $H_{\\rm SO}$ Term 2a  \n",
    "        1. [Step 4.c.ii](#hsoterm2b): $H_{\\rm SO}$ Term 2b  \n",
    "        1. [Step 4.c.iii](#hsoterm2c): $H_{\\rm SO}$ Term 2c\n",
    "1. [Step 5](#hss): The Spin-Spin Term $H_{\\rm SS}$  \n",
    "    1. [Step 5.a](#hssterm1): $H_{\\rm SS}$ Term 1  \n",
    "    1. [Step 5.b](#hssterm2coeff): $H_{\\rm SS}$ Term 2 coefficient  \n",
    "    1. [Step 5.c](#hssterm2): $H_{\\rm SS}$ Term 2  \n",
    "    1. [Step 5.d](#hssterm3coeff): $H_{\\rm SS}$ Term 3 coefficient  \n",
    "    1. [Step 5.e](#hssterm3): $H_{\\rm SS}$ Term 3\n",
    "1. [Step 6](#hnsterms): The $H_{\\rm NS}$ Terms  \n",
    "    1. [Step 6.a](#betapsum): $\\beta p$ Sum  \n",
    "    1. [Step 6.b](#alpha): $\\alpha$  \n",
    "    1. [Step 6.c](#hnsradicand): $H_{\\rm NS}$ Radicand  \n",
    "        1. [Step 6.c.i](#gammappsum): $\\gamma p$ Sum  \n",
    "        1. [Step 6.c.ii](#q4): ${\\cal Q}_{4}$\n",
    "1. [Step 7](#hdterms): The $H_{\\rm D}$ Terms  \n",
    "    1. [Step 7.a](#hdcoeff): $H_{\\rm D}$ Coefficient  \n",
    "    1. [Step 7.b](#hdsum): $H_{\\rm D}$ Sum  \n",
    "        1. [Step 7.b.i](#hdsumterm1): $H_{\\rm D}$ Sum Term 1  \n",
    "        1. [Step 7.b.ii](#hdsumterm2): $H_{\\rm D}$ Sum Term 2\n",
    "1. [Step 8](#dotproducts): Common Dot Products  \n",
    "    1. [Step 8.a](#sdotskerr): ${\\bf S} \\cdot {\\bf S}_{\\rm Kerr}$  \n",
    "    1. [Step 8.b](#sdotxi): ${\\bf S} \\cdot \\boldsymbol{\\xi}$  \n",
    "    1. [Step 8.c](#sdotv): ${\\bf S} \\cdot {\\bf v}$  \n",
    "    1. [Step 8.d](#sdotn): ${\\bf S} \\cdot {\\bf n}$  \n",
    "    1. [Step 8.e](#sdotskerrhat): ${\\bf S} \\cdot \\hat{\\bf S}_{\\rm Kerr}$  \n",
    "    1. [Step 8.f](#sstardotn): ${\\bf S}^{*} \\cdot {\\bf n}$\n",
    "1. [Step 9](#hreal_spin_combos): $H_{\\rm real}$ Spin Combination ${\\bf S}^{*}$  \n",
    "    1. [Step 9a](#sstar): ${\\bf S}^{*}$  \n",
    "    1. [Step 9b](#deltasigmastar): $\\Delta_{\\sigma^{*}}$  \n",
    "    1. [Step 9c](#sigmastarcoeff): $\\sigma^{*}$ Coefficient  \n",
    "        1. [Step 9c i](#sigmastarcoeffterm1): $\\sigma^{*}$ Coefficient Term 1  \n",
    "        1. [Step 9c ii](#sigmastarcoeffterm2): $\\sigma^{*}$ Coefficient Term 2  \n",
    "        1. [Step 9c iii](#sigmastarcoeffterm3): $\\sigma^{*}$ Coefficient Term 3  \n",
    "    1. [Step 9d](#sigmacoeff): $\\sigma$ Coefficient  \n",
    "        1. [Step 9d i](#sigmacoeffterm1): $\\sigma$ Coefficient Term 1  \n",
    "        1. [Step 9d ii](#sigmacoeffterm2): $\\sigma$ Coefficient Term 2  \n",
    "        1. [Step 9d iii](#sigmacoeffterm3): $\\sigma$ Coefficient Term 3\n",
    "1. [Step 10](#metpotderivs): Derivatives of the Metric Potential  \n",
    "    1. [Step 10.a](#omegar): $\\omega_{r}$  \n",
    "    1. [Step 10.b](#nur): $\\nu_{r}$  \n",
    "    1. [Step 10.c](#mur): $\\mu_{r}$  \n",
    "    1. [Step 10.d](#omegacostheta): $\\omega_{\\cos\\theta}$  \n",
    "    1. [Step 10.e](#nucostheta): $\\nu_{\\cos\\theta}$  \n",
    "    1. [Step 10.f](#mucostheta): $\\mu_{\\cos\\theta}$  \n",
    "    1. [Step 10.g](#lambdatprm): $\\Lambda_{t}^{\\prime}$  \n",
    "    1. [Step 10.h](#omegatildeprm): $\\tilde{\\omega}_{\\rm fd}^{\\prime}$\n",
    "1. [Step 11](#metpots): The Deformed and Rescaled Metric Potentials  \n",
    "    1. [Step 11.a](#omega): $\\omega$  \n",
    "    1. [Step 11.b](#exp2nu): $e^{2 \\nu}$  \n",
    "    1. [Step 11.c](#btilde): $\\tilde{B}$  \n",
    "    1. [Step 11.d](#brtilde): $\\tilde{B}_{r}$  \n",
    "    1. [Step 11.e](#exp2mu): $e^{2 \\tilde{\\mu}}$  \n",
    "    1. [Step 11.f](#jtilde): $\\tilde{J}$  \n",
    "    1. [Step 11.g](#q): $Q$  \n",
    "        1. [Step 11.g.i](#drsipn2): $\\frac{ \\Delta_{r} }{ \\Sigma } \\left( \\hat{\\bf p} \\cdot {\\bf n} \\right)^{2}$  \n",
    "        1. [Step 11.g.ii](#qcoeff1): Q Coefficient 1  \n",
    "        1. [Step 11.g.iii](#qcoeff2): Q Coefficient 2\n",
    "1. [Step 12](#tort): Tortoise terms  \n",
    "    1. [Step 12.a](#pphi): $p_{\\phi}$  \n",
    "    1. [Step 12.b](#pdotvr): $\\hat{\\bf p} \\cdot {\\bf v} r$  \n",
    "    1. [Step 12.c](#pdotn): $\\hat{\\bf p} \\cdot {\\bf n}$  \n",
    "    1. [Step 12.d](#pdotxir): $\\hat{\\bf p} \\cdot \\boldsymbol{\\xi} r$  \n",
    "    1. [Step 12.e](#hatp): $\\hat{\\bf p}$  \n",
    "    1. [Step 12.f](#prt): prT  \n",
    "    1. [Step 12.g](#csi2): csi2  \n",
    "    1. [Step 12.h](#csi1): csi1  \n",
    "    1. [Step 12.i](#csi): csi\n",
    "1. [Step 13](#metric): Metric Terms  \n",
    "    1. [Step 13.a](#lambdat): $\\Lambda_{t}$  \n",
    "    1. [Step 13.b](#deltar): $\\Delta_{r}$  \n",
    "    1. [Step 13.c](#deltat): $\\Delta_{t}$  \n",
    "    1. [Step 13.d](#deltatprm): $\\Delta_{t}^{\\prime}$  \n",
    "    1. [Step 13.e](#deltau): $\\Delta_{u}$  \n",
    "        1. [Step 13.e.i](#deltaubar): $\\bar{\\Delta}_{u}$  \n",
    "        1. [Step 13.e.ii](#deltaucalib): $\\Delta_{u}$ Calibration Term  \n",
    "        1. [Step 13.e.iii](#calib_coeffs): Calibration Coefficients  \n",
    "        1. [Step 13.e.iv](#k): $K$  \n",
    "    1. [Step 13.f](#omegatilde): $\\tilde{\\omega}_{\\rm fd}$  \n",
    "    1. [Step 13.g](#dinv): $D^{-1}$\n",
    "1. [Step 14](#coord): Terms Dependent on Coordinates  \n",
    "    1. [Step 14.a](#usigma): $\\Sigma$  \n",
    "    1. [Step 14.b](#w2): $\\varpi^{2}$   \n",
    "    1. [Step 14.d](#sin2theta): $\\sin^{2}\\theta$  \n",
    "    1. [Step 14.e](#costheta): $\\cos\\theta$\n",
    "1. [Step 15](#vectors): Important Vectors  \n",
    "    1. [Step 15.a](#v): ${\\bf v}$  \n",
    "    1. [Step 15.b](#xi): $\\boldsymbol{\\xi}$  \n",
    "    1. [Step 15.c](#e3): ${\\bf e}_{3}$  \n",
    "    1. [Step 15.d](#n): ${\\bf n}$\n",
    "1. [Step 16](#spin_combos): Spin Combinations $\\boldsymbol{\\sigma}$, $\\boldsymbol{\\sigma}^{*}$, and ${\\bf S}_{\\rm Kerr}$  \n",
    "    1. [Step 16.a](#a2m2inv): a2M2inv  \n",
    "    1. [Step 16.b](#a): $a$  \n",
    "    1. [Step 16.c](#skerrhat): $\\hat{\\bf S}_{\\rm Kerr}$  \n",
    "    1. [Step 16.d](#skerrmag): $\\left\\lvert {\\bf S}_{\\rm Kerr} \\right\\rvert$  \n",
    "    1. [Step 16.e](#skerr): ${\\bf S}_{\\rm Kerr}$  \n",
    "    1. [Step 16.f](#sigma): $\\boldsymbol{\\sigma}$  \n",
    "    1. [Step 16.g](#sigmastar): $\\boldsymbol{\\sigma}^{*}$\n",
    "1. [Step 17](#fundquant): Fundamental Quantities  \n",
    "    1. [Step 17.a](#u): $u$  \n",
    "    1. [Step 17.b](#r): $r$  \n",
    "    1. [Step 17.c](#eta): $\\eta$  \n",
    "    1. [Step 17.d](#mu): $\\mu$  \n",
    "    1. [Step 17.e](#m): $M$\n",
    "1. [Step 18](#latex_pdf_output): Output this module to $\\LaTeX$-formatted PDF"
   ]
  },
  {
   "cell_type": "markdown",
   "metadata": {},
   "source": [
    "<a id='hreal'></a>\n",
    "\n",
    "# Step 1: The real Hamiltonian $H_{\\textrm{real}}$ \\[Back to [top](#toc)\\]\n",
    "$$\\label{hreal}$$\n",
    "\n",
    "The SEOB Hamiltonian $H_{\\rm real}$ is given by [BB2010](https://arxiv.org/abs/0912.3517) Equation (5.69):\n",
    "\n",
    "\\begin{equation*}\n",
    "    H_{\\rm real} = M \\sqrt{ 1 + 2 \\eta \\left( \\frac{ H_{\\rm eff} }{ \\mu } - 1 \\right) }.\n",
    "\\end{equation*}\n",
    "\n",
    "Here $H_{\\rm eff}$ (defined in [this cell](#heff)) is an *effective* Hamiltonian (see [this cell](#intro)) and $M$ (defined in [this cell](#m)), $\\mu$ (defined in [this cell](#mu)), and $\\eta$ (defined in [this cell](#eta)) are constants determined by $m_{1}$ and $m_{2}$."
   ]
  },
  {
   "cell_type": "code",
   "execution_count": 1,
   "metadata": {},
   "outputs": [
    {
     "name": "stdout",
     "output_type": "stream",
     "text": [
      "Overwriting SEOBNR/Hamiltonian-Hreal_on_top.txt\n"
     ]
    }
   ],
   "source": [
    "%%writefile SEOBNR/Hamiltonian-Hreal_on_top.txt\n",
    "Hreal = M*sp.sqrt(1 + 2*eta*(Heff/mu - 1))"
   ]
  },
  {
   "cell_type": "markdown",
   "metadata": {},
   "source": [
    "<a id='heff'></a>\n",
    "\n",
    "# Step 2: The Effective Hamiltonian $H_{\\rm eff}$ \\[Back to [top](#toc)\\]\n",
    "$$\\label{heff}$$\n",
    "\n",
    "The effective Hamiltonian $H_{\\rm eff}$ is given by [BB2010](https://arxiv.org/abs/0912.3517) Equation (5.70):\n",
    "\n",
    "\\begin{equation*}\n",
    "    H_{\\rm eff} = H_{\\rm S} + \\underbrace{ \\beta^{i} p_{i} + \\alpha \\sqrt{ \\mu^{2} + \\gamma^{ij} p_{i} p_{j} + {\\cal Q}_{4} } }_{ H_{\\rm NS} } - \\underbrace{ \\frac{ \\mu }{ 2 M r^{3} } \\left( \\delta^{ij} - 3 n^{i} n^{j} \\right) S^{*}_{i} S^{*}_{j} }_{ H_{\\rm D} }.\n",
    "\\end{equation*}\n",
    "\n",
    "Here $H_{\\rm S}$ (considered further in [this cell](#hs)) denotes leading order effects of spin-spin and spin-orbit coupling, $H_{\\rm NS}$ (considered further in [this cell](#hns)) is the Hamiltonian for a nonspinning test particle, and $H_{\\rm D}$ (considered further in [this cell](#hd)) describes quadrupole deformation of the coupling of the particle's spin with itself to leading order."
   ]
  },
  {
   "cell_type": "code",
   "execution_count": 2,
   "metadata": {},
   "outputs": [
    {
     "name": "stdout",
     "output_type": "stream",
     "text": [
      "Appending to SEOBNR/Hamiltonian-Hreal_on_top.txt\n"
     ]
    }
   ],
   "source": [
    "%%writefile -a SEOBNR/Hamiltonian-Hreal_on_top.txt\n",
    "\n",
    "Heff = Hs + Hns - Hd"
   ]
  },
  {
   "cell_type": "markdown",
   "metadata": {},
   "source": [
    "<a id='heff_terms'></a>\n",
    "\n",
    "# Step 3: Terms of $H_{\\rm eff}$ \\[Back to [top](#toc)\\]\n",
    "$$\\label{heff_terms}$$\n",
    "\n",
    "In this step, we break down each of the terms $H_{\\rm S}$ (defined in [this cell](#hs)), $H_{\\rm NS}$ (defined in [this cell](#hns)), and $H_{\\rm D}$ (defined in [this cell](#hd)) in $H_{\\rm eff}$ (defined in [this cell](#heff))."
   ]
  },
  {
   "cell_type": "markdown",
   "metadata": {},
   "source": [
    "<a id='hs'></a>\n",
    "\n",
    "## Step 3.a: Leading Order Spin Effects $H_{\\rm S}$ \\[Back to [top](#toc)\\]\n",
    "$$\\label{hs}$$\n",
    "\n",
    "From [BB2010](https://arxiv.org/abs/0912.3517) Equation (4.17),\n",
    "\n",
    "\\begin{equation*}\n",
    "    H_{\\rm S} = H_{\\rm SO} + H_{\\rm SS}\n",
    "\\end{equation*}\n",
    "\n",
    "where $H_{\\rm SO}$ (defined in [this cell](#hso)) includes spin-orbit terms and $H_{\\rm SS}$ (defined in [this cell](#hss)) includes spin-spin terms."
   ]
  },
  {
   "cell_type": "code",
   "execution_count": 3,
   "metadata": {},
   "outputs": [
    {
     "name": "stdout",
     "output_type": "stream",
     "text": [
      "Appending to SEOBNR/Hamiltonian-Hreal_on_top.txt\n"
     ]
    }
   ],
   "source": [
    "%%writefile -a SEOBNR/Hamiltonian-Hreal_on_top.txt\n",
    "\n",
    "Hs = Hso + Hss"
   ]
  },
  {
   "cell_type": "markdown",
   "metadata": {},
   "source": [
    "<a id='hns'></a>\n",
    "\n",
    "## Step 3.b: The Nonspinning Hamiltonian $H_{\\rm NS}$ \\[Back to [top](#toc)\\]\n",
    "$$\\label{hns}$$\n",
    "\n",
    "We defined $H_{\\rm NS}$ in [this cell](#heff) as\n",
    "\n",
    "\\begin{equation*}\n",
    "    H_{\\rm NS} = \\underbrace{ \\beta^{i} p_{i} }_{ \\beta\\ p\\ \\rm sum } + \\alpha \\sqrt{ \\smash[b]{ \\underbrace{ \\mu^{2} + \\gamma^{ij} p_{i} p_{j} + {\\cal Q}_{4} }_{ H_{\\rm NS}\\ \\rm radicand } } }.\n",
    "\\end{equation*}\n",
    "\n",
    "We compute $\\beta\\ p$ sum in [this cell](#betapsum), $\\alpha$ in [this cell](#alpha), and $H_{\\rm NS}$ radicand in [this cell](#hnsradicand)."
   ]
  },
  {
   "cell_type": "code",
   "execution_count": 4,
   "metadata": {
    "scrolled": true
   },
   "outputs": [
    {
     "name": "stdout",
     "output_type": "stream",
     "text": [
      "Appending to SEOBNR/Hamiltonian-Hreal_on_top.txt\n"
     ]
    }
   ],
   "source": [
    "%%writefile -a SEOBNR/Hamiltonian-Hreal_on_top.txt\n",
    "\n",
    "Hns = betapsum + alpha*sp.sqrt(Hnsradicand)"
   ]
  },
  {
   "cell_type": "markdown",
   "metadata": {},
   "source": [
    "<a id='hd'></a>\n",
    "\n",
    "## Step 3.c: The Quadrupole Deformation $H_{\\rm D}$ \\[Back to [top](#toc)\\]\n",
    "$$\\label{hd}$$\n",
    "\n",
    "We defined $H_{\\rm D}$ in [this cell](#heff) as:\n",
    "\n",
    "\\begin{equation*}\n",
    "    H_{\\rm D} = \\underbrace{ \\frac{ \\mu }{ 2 M r^{3} } }_{H_{\\rm D}\\ {\\rm coefficient}} \\underbrace{ \\left( \\delta^{ij} - 3 n^{i} n^{j} \\right) S^{*}_{i} S^{*}_{j} }_{H_{\\rm D}\\ {\\rm sum}}\n",
    "\\end{equation*}\n",
    "\n",
    "We compute $H_{\\rm D}$ coefficient in [this cell](#hdcoeff) and $H_{\\rm D}$ sum in [this cell](#hdsum)."
   ]
  },
  {
   "cell_type": "code",
   "execution_count": 5,
   "metadata": {},
   "outputs": [
    {
     "name": "stdout",
     "output_type": "stream",
     "text": [
      "Appending to SEOBNR/Hamiltonian-Hreal_on_top.txt\n"
     ]
    }
   ],
   "source": [
    "%%writefile -a SEOBNR/Hamiltonian-Hreal_on_top.txt\n",
    "\n",
    "Hd = Hdcoeff*Hdsum"
   ]
  },
  {
   "cell_type": "markdown",
   "metadata": {},
   "source": [
    "<a id='hso'></a>\n",
    "\n",
    "# Step 4: The Spin-Orbit Term $H_{\\rm SO}$ \\[Back to [top](#toc)\\]\n",
    "$$\\label{hso}$$\n",
    "\n",
    "We will write [BB2010](https://arxiv.org/abs/0912.3517) Equation (4.18) as:\n",
    "\n",
    "\\begin{align*}\n",
    "    H_{\\rm SO} = H_{\\rm SO}\\ {\\rm Term\\ 1} + H_{\\rm SO}\\ {\\rm Term\\ 2\\ coefficient} * H_{\\rm SO}\\ {\\rm Term\\ 2}.\n",
    "\\end{align*}\n",
    "\n",
    "We define and consider $H_{\\rm SO}$ Term 1 in [this cell](#hsoterm1), $H_{\\rm SO}$ Term 2 coefficient in [this cell](#hsoterm2coeff), and $H_{\\rm SO}$ Term 2 in [this cell](#hsoterm2)."
   ]
  },
  {
   "cell_type": "code",
   "execution_count": 6,
   "metadata": {},
   "outputs": [
    {
     "name": "stdout",
     "output_type": "stream",
     "text": [
      "Appending to SEOBNR/Hamiltonian-Hreal_on_top.txt\n"
     ]
    }
   ],
   "source": [
    "%%writefile -a SEOBNR/Hamiltonian-Hreal_on_top.txt\n",
    "\n",
    "Hso = HsoTerm1 + HsoTerm2coeff*HsoTerm2"
   ]
  },
  {
   "cell_type": "markdown",
   "metadata": {},
   "source": [
    "<a id='hsoterm1'></a>\n",
    "\n",
    "## Step 4.a: $H_{\\rm SO}$ Term 1 \\[Back to [top](#toc)\\]\n",
    "$$\\label{hsoterm1}$$\n",
    "\n",
    "Combining our notation $H_{\\rm SO}$ (defined in [this cell](#hso)) with [BB2010](https://arxiv.org/abs/0912.3517) Equation (4.18), we have\n",
    "\n",
    "\\begin{equation*}\n",
    "    H_{\\rm SO}\\ {\\rm Term\\ 1} = \\frac{ e^{2 \\nu - \\tilde{\\mu} } \\left( e^{\\tilde{\\mu} + \\nu} - \\tilde{B} \\right) \\left( \\hat{\\bf p} \\cdot \\boldsymbol{\\xi} r \\right) \\left( {\\bf S} \\cdot \\hat{\\bf S}_{\\rm Kerr} \\right) }{ \\tilde{B}^{2} \\sqrt{Q} \\xi^{2} }.\n",
    "\\end{equation*}\n",
    "\n",
    "We will write\n",
    "\n",
    "\\begin{equation*}\n",
    "    H_{\\rm SO}\\ {\\rm Term\\ 1} = \\frac{ e^{2 \\nu} \\left( e^{\\tilde{\\mu}} e^{\\nu} - \\tilde{B} \\right) \\left( \\hat{\\bf p} \\cdot \\boldsymbol{\\xi} r \\right) \\left( {\\bf S} \\cdot \\hat{\\bf S}_{\\rm Kerr} \\right) }{ e^{ \\tilde{\\mu} } \\tilde{B}^{2} \\sqrt{Q} \\xi^{2} }.\n",
    "\\end{equation*}\n",
    "\n",
    "We define $e^{\\tilde{\\mu}}$ in [this cell](#exp2mu), $e^{\\nu}$ in [this cell](#exp2nu), $\\tilde{B}$ in [this cell](#btilde), $\\hat{\\bf p} \\cdot \\boldsymbol{\\xi} r$ in [this cell](#pdotxir), ${\\bf S} \\cdot \\hat{\\bf S}_{\\rm Kerr}$ in [this cell](#sdotskerrhat), $Q$ in [this cell](#q), and $\\boldsymbol{\\xi}^{2}$ in [this cell](#sin2theta)."
   ]
  },
  {
   "cell_type": "code",
   "execution_count": 7,
   "metadata": {},
   "outputs": [
    {
     "name": "stdout",
     "output_type": "stream",
     "text": [
      "Appending to SEOBNR/Hamiltonian-Hreal_on_top.txt\n"
     ]
    }
   ],
   "source": [
    "%%writefile -a SEOBNR/Hamiltonian-Hreal_on_top.txt\n",
    "\n",
    "HsoTerm1 = exp2nu*(expmu*expnu - Btilde)*pdotxir*SdotSkerrhat/(expmu*Btilde*Btilde*sp.sqrt(Q)*xisq)"
   ]
  },
  {
   "cell_type": "markdown",
   "metadata": {},
   "source": [
    "<a id='hsoterm2coeff'></a>\n",
    "\n",
    "## Step 4.b: $H_{\\rm SO}$ Term 2 Coefficient \\[Back to [top](#toc)\\]\n",
    "$$\\label{hsoterm2coeff}$$\n",
    "\n",
    "Combining our notation $H_{\\rm SO}$ (defined in [this cell](#hso)) with [BB2010](https://arxiv.org/abs/0912.3517) Equation (4.18), we have\n",
    "\n",
    "\\begin{equation*}\n",
    "    H_{\\rm SO}\\ {\\rm Term\\ 2\\ coefficient} = \\frac{ e^{\\nu - 2 \\tilde{\\mu}} }{ \\tilde{B}^{2} \\left( \\sqrt{Q} + 1 \\right) \\sqrt{Q} \\xi^{2} }\n",
    "\\end{equation*}\n",
    "\n",
    "which we write in the form\n",
    "\n",
    "\\begin{equation*}\n",
    "    H_{\\rm SO}\\ {\\rm Term\\ 2\\ coefficient} = \\frac{ e^{\\nu} }{ e^{2 \\tilde{\\mu}} \\tilde{B}^{2} \\left( Q + \\sqrt{Q} \\right) \\xi^{2} }.\n",
    "\\end{equation*}\n",
    "\n",
    "We define and consider $e^{\\nu}$ in [this cell](#exp2nu), $e^{\\tilde{\\mu}}$ in [this cell](#exp2mu), $\\tilde{B}$ in [this cell](#btilde), $Q$ in [this cell](#q), and $\\xi^{2}$ in [this cell](#sin2theta)."
   ]
  },
  {
   "cell_type": "code",
   "execution_count": 8,
   "metadata": {
    "scrolled": true
   },
   "outputs": [
    {
     "name": "stdout",
     "output_type": "stream",
     "text": [
      "Appending to SEOBNR/Hamiltonian-Hreal_on_top.txt\n"
     ]
    }
   ],
   "source": [
    "%%writefile -a SEOBNR/Hamiltonian-Hreal_on_top.txt\n",
    "\n",
    "HsoTerm2coeff = expnu/(exp2mu*Btilde*Btilde*(Q + sp.sqrt(Q))*xisq)"
   ]
  },
  {
   "cell_type": "markdown",
   "metadata": {},
   "source": [
    "<a id='hsoterm2'></a>\n",
    "\n",
    "## Step 4.c: $H_{\\rm SO}$ Term 2 \\[Back to [top](#toc)\\]\n",
    "$$\\label{hsoterm2}$$\n",
    "\n",
    "Combining our notation $H_{\\rm SO}$ (defined in [this cell](#hso)) with [BB2010](https://arxiv.org/abs/0912.3517) Equation (4.18), we have\n",
    "\n",
    "\\begin{align*}\n",
    "    H_{\\rm SO}\\ {\\rm Term\\ 2} &= \\underbrace{ \\left( {\\bf S} \\cdot \\boldsymbol{\\xi} \\right) \\tilde{J} \\left[ \\mu_r \\left( \\hat{\\bf p} \\cdot {\\bf v} r \\right) \\left( \\sqrt{Q} + 1 \\right) - \\mu_{\\cos \\theta} \\left( \\hat{\\bf p} \\cdot {\\bf n} \\right) \\xi^{2} -\\sqrt{Q} \\left( \\nu_r \\left( \\hat{\\bf p} \\cdot {\\bf v} r \\right) + \\left( \\mu_{\\cos \\theta} - \\nu_{\\cos \\theta} \\right) \\left( \\hat{\\bf p} \\cdot {\\bf n} \\right) \\xi^{2} \\right) \\right] \\tilde{B}^{2} }_{H_{\\rm SO}\\ {\\rm Term\\ 2a}} \\\\\n",
    "        &\\ \\ \\ \\ \\ + \\underbrace{ e^{\\tilde{\\mu} + \\nu} \\left( \\hat{\\bf p} \\cdot \\boldsymbol{\\xi} r \\right) \\left( 2 \\sqrt{Q} + 1 \\right) \\left[ \\tilde{J} \\nu_r \\left( {\\bf S} \\cdot {\\bf v} \\right) - \\nu_{\\cos \\theta} \\left( {\\bf S} \\cdot {\\bf n} \\right) \\xi^{2} \\right] \\tilde{B} }_{H_{\\rm SO}\\ {\\rm Term\\ 2b}} - \\underbrace{ \\tilde{J} \\tilde{B}_{r} e^{\\tilde{\\mu} + \\nu} \\left( \\hat{\\bf p} \\cdot \\boldsymbol{\\xi} r \\right) \\left( \\sqrt{Q} + 1 \\right) \\left( {\\bf S} \\cdot {\\bf v} \\right) }_{H_{\\rm SO}\\ {\\rm Term\\ 2c}}\n",
    "\\end{align*}\n",
    "\n",
    "We compute $H_{\\rm SO}$ Term 2a in [this cell](#hsoterm2a), $H_{\\rm SO}$ Term 2b in [this cell](#hsoterm2b), and $H_{\\rm SO}$ Term 2c in [this cell](#hsoterm2c)."
   ]
  },
  {
   "cell_type": "code",
   "execution_count": 9,
   "metadata": {},
   "outputs": [
    {
     "name": "stdout",
     "output_type": "stream",
     "text": [
      "Appending to SEOBNR/Hamiltonian-Hreal_on_top.txt\n"
     ]
    }
   ],
   "source": [
    "%%writefile -a SEOBNR/Hamiltonian-Hreal_on_top.txt\n",
    "\n",
    "HsoTerm2 = HsoTerm2a + HsoTerm2b - HsoTerm2c"
   ]
  },
  {
   "cell_type": "markdown",
   "metadata": {},
   "source": [
    "<a id='hsoterm2a'></a>\n",
    "\n",
    "### Step 4.c.i: $H_{\\rm SO}$ Term 2a \\[Back to [top](#toc)\\]\n",
    "$$\\label{hsoterm2a}$$\n",
    "\n",
    "We defined $H_{\\rm S0}$ Term 2a  in [this cell](#hsoterm2) as\n",
    "\n",
    "\\begin{equation*}\n",
    "    H_{\\rm SO}\\ {\\rm Term\\ 2a} = \\left( {\\bf S} \\cdot \\boldsymbol{\\xi} \\right) \\tilde{J} \\left[ \\mu_r \\left( \\hat{\\bf p} \\cdot {\\bf v} r \\right) \\left( \\sqrt{Q} + 1 \\right) - \\mu_{\\cos \\theta} \\left( \\hat{\\bf p} \\cdot {\\bf n} \\right) \\xi^{2} -\\sqrt{Q} \\left( \\nu_r \\left( \\hat{\\bf p} \\cdot {\\bf v} r \\right) + \\left( \\mu_{\\cos \\theta} - \\nu_{\\cos \\theta} \\right) \\left( \\hat{\\bf p} \\cdot {\\bf n} \\right) \\xi^{2} \\right) \\right] \\tilde{B}^{2}.\n",
    "\\end{equation*}\n",
    "\n",
    "We define ${\\bf S} \\cdot \\boldsymbol{\\xi}$ in [this cell](#sdotxi), $\\tilde{J}$ in [this cell](#jtilde), $\\mu_{r}$ in [this cell](#mur), $\\hat{\\bf p} \\cdot {\\bf v} r$ in [this cell](#pdotvr), $Q$ in [this cell](#q), $\\mu_{\\cos \\theta}$ in [this cell](#mucostheta), $\\hat{\\bf p} \\cdot {\\bf n}$ in [this cell](#pdotn), $\\xi^{2}$ in [this cell](#sin2theta), $\\nu_{r}$ in [this cell](#nur), $\\nu_{\\cos\\theta}$ in [this cell](#nucostheta), and $\\tilde{B}$ in [this cell](#btilde)."
   ]
  },
  {
   "cell_type": "code",
   "execution_count": 10,
   "metadata": {},
   "outputs": [
    {
     "name": "stdout",
     "output_type": "stream",
     "text": [
      "Appending to SEOBNR/Hamiltonian-Hreal_on_top.txt\n"
     ]
    }
   ],
   "source": [
    "%%writefile -a SEOBNR/Hamiltonian-Hreal_on_top.txt\n",
    "\n",
    "HsoTerm2a = Sdotxi*Jtilde*(mur*pdotvr*(sp.sqrt(Q) + 1) - mucostheta*pdotn*xisq\n",
    "                           - sp.sqrt(Q)*(nur*pdotnr + (mucostheta - nucostheta)*pdotn*xisq))*Btilde*Btilde"
   ]
  },
  {
   "cell_type": "markdown",
   "metadata": {},
   "source": [
    "<a id='hsoterm2b'></a>\n",
    "\n",
    "### Step 4.c.ii: $H_{\\rm SO}$ Term 2b \\[Back to [top](#toc)\\]\n",
    "$$\\label{hsoterm2b}$$\n",
    "\n",
    "We defined $H_{\\rm S0}$ Term 2b  in [this cell](#hsoterm2) as\n",
    "\n",
    "\\begin{equation*}\n",
    "    H_{\\rm SO}\\ {\\rm Term\\ 2b} = e^{\\tilde{\\mu} + \\nu} \\left( \\hat{\\bf p} \\cdot \\boldsymbol{\\xi} r \\right) \\left( 2 \\sqrt{Q} + 1 \\right) \\left[ \\tilde{J} \\nu_r \\left( {\\bf S} \\cdot {\\bf v} \\right) - \\nu_{\\cos \\theta} \\left( {\\bf S} \\cdot {\\bf n} \\right) \\xi^{2} \\right] \\tilde{B}.\n",
    "\\end{equation*}\n",
    "\n",
    "We define $e^{\\tilde{\\mu}}$ in [this cell](#exp2mu), $e^{\\nu}$ in [this cell](#exp2nu), $\\hat{\\bf p} \\cdot \\xi r$ in [this cell](#pdotxir), $Q$ in [this cell](#q), $\\tilde{J}$ in [this cell](#jtilde), $\\nu_{r}$ in [this cell](#nur), ${\\bf S} \\cdot {\\bf v}$ in [this cell](#sdotv), $\\nu_{\\cos\\theta}$ in [this cell](#nucostheta), ${\\bf S} \\cdot {\\bf n}$ in [this cell](#sdotn), $\\xi^{2}$ in [this cell](#sin2theta), and $\\tilde{B}$ in [this cell](#btilde)."
   ]
  },
  {
   "cell_type": "code",
   "execution_count": 11,
   "metadata": {},
   "outputs": [
    {
     "name": "stdout",
     "output_type": "stream",
     "text": [
      "Appending to SEOBNR/Hamiltonian-Hreal_on_top.txt\n"
     ]
    }
   ],
   "source": [
    "%%writefile -a SEOBNR/Hamiltonian-Hreal_on_top.txt\n",
    "\n",
    "HsoTerm2b = expmu*expnu*pdotxir*(2*sp.sqrt(Q) + 1)*(Jtilde*nur*Sdotv - nucostheta*Sdotn*xisq)*Btilde"
   ]
  },
  {
   "cell_type": "markdown",
   "metadata": {},
   "source": [
    "<a id='hsoterm2c'></a>\n",
    "\n",
    "### Step 4.c.iii: $H_{\\rm SO}$ Term 2c \\[Back to [top](#toc)\\]\n",
    "$$\\label{hsoterm2c}$$\n",
    "\n",
    "We defined $H_{\\rm S0}$ Term 2c in [this cell](#hsoterm2) as\n",
    "\n",
    "\\begin{equation*}\n",
    "    H_{\\rm SO}\\ {\\rm Term\\ 2c} = \\tilde{J} \\tilde{B}_{r} e^{\\tilde{\\mu} + \\nu} \\left( \\hat{\\bf p} \\cdot \\boldsymbol{\\xi} r \\right) \\left( \\sqrt{Q} + 1 \\right) \\left( {\\bf S} \\cdot {\\bf v} \\right)\n",
    "\\end{equation*}\n",
    "\n",
    "We define $\\tilde{J}$ in [this cell](#jtilde), $\\tilde{B}_{r}$ in [this cell](#brtilde), $e^{\\tilde{\\mu}}$ in [this cell](#exp2mu), $e^{\\nu}$ in [this cell](#exp2nu), $\\hat{\\bf p} \\cdot \\xi r$ in [this cell](#pdotxir), $Q$ in [this cell](#q), and ${\\bf S} \\cdot {\\bf v}$ in [this cell](#sdotv)."
   ]
  },
  {
   "cell_type": "code",
   "execution_count": 12,
   "metadata": {},
   "outputs": [
    {
     "name": "stdout",
     "output_type": "stream",
     "text": [
      "Appending to SEOBNR/Hamiltonian-Hreal_on_top.txt\n"
     ]
    }
   ],
   "source": [
    "%%writefile -a SEOBNR/Hamiltonian-Hreal_on_top.txt\n",
    "\n",
    "HsoTerm2c = Jtilde*Brtilde*expmu*expnu*pdotxir*(sp.sqrt(Q) + 1)*Sdotv"
   ]
  },
  {
   "cell_type": "markdown",
   "metadata": {},
   "source": [
    "<a id='hss'></a>\n",
    "\n",
    "# Step 5: The Spin-Spin Term $H_{\\rm SS}$ \\[Back to [top](#toc)\\]\n",
    "$$\\label{hss}$$\n",
    "\n",
    "We will write [BB2010](https://arxiv.org/abs/0912.3517) Equation (4.19) as\n",
    "\n",
    "\\begin{equation*}\n",
    "    H_{\\rm SS} = H_{\\rm SS}\\ {\\rm Term\\ 1} + H_{\\rm SS}\\ {\\rm Term\\ 2\\ coefficient} * H_{\\rm SS}\\ {\\rm Term\\ 2} + H_{\\rm SS}\\ {\\rm Term\\ 3\\ coefficient} * H_{\\rm SS}\\ {\\rm Term\\ 3}.\n",
    "\\end{equation*}\n",
    "\n",
    "We define $H_{\\rm SS}$ Term 1 in [this cell](#hssterm1), $H_{\\rm SS}$ Term 2 coefficient in [this cell](#hssterm2coeff), $H_{\\rm SS}$ Term 2 in [this cell](#hssterm2), $H_{\\rm SS}$ Term 3 coefficient in [this cell](#hssterm3coeff), and $H_{\\rm SS}$ Term 3 in [this cell](#hssterm3)."
   ]
  },
  {
   "cell_type": "markdown",
   "metadata": {},
   "source": [
    "<a id='hssterm1'></a>\n",
    "\n",
    "## Step 5.a: $H_{\\rm SS}$ Term 1 \\[Back to [top](#toc)\\]\n",
    "$$\\label{hssterm1}$$\n",
    "\n",
    "Combining [BB2010](https://arxiv.org/abs/0912.3517) Equation (4.19) with our definition of $H_{\\rm SS}$ Term 1 in [this cell](#hss), we have\n",
    "\n",
    "\\begin{equation*}\n",
    "    H_{\\rm SS}\\ {\\rm Term\\ 1} = \\omega \\left( {\\bf S} \\cdot \\hat{\\bf S}_{\\rm Kerr} \\right).\n",
    "\\end{equation*}\n",
    "\n",
    "We define $\\omega$ in [this cell](#omega) and ${\\bf S} \\cdot \\hat{\\bf S}_{\\rm Kerr}$ in [this cell](#sdotskerrhat)."
   ]
  },
  {
   "cell_type": "code",
   "execution_count": 13,
   "metadata": {},
   "outputs": [
    {
     "name": "stdout",
     "output_type": "stream",
     "text": [
      "Appending to SEOBNR/Hamiltonian-Hreal_on_top.txt\n"
     ]
    }
   ],
   "source": [
    "%%writefile -a SEOBNR/Hamiltonian-Hreal_on_top.txt\n",
    "\n",
    "HssTerm1 = omega*SdotSkerrhat"
   ]
  },
  {
   "cell_type": "markdown",
   "metadata": {},
   "source": [
    "<a id='hssterm2coeff'></a>\n",
    "\n",
    "## Step 5.b: $H_{\\rm SS}$ Term 2 Coefficient \\[Back to [top](#toc)\\]\n",
    "$$\\label{hssterm2coeff}$$\n",
    "\n",
    "Combining [BB2010](https://arxiv.org/abs/0912.3517) Equation (4.19) with ore definition of $H_{\\rm SS}$ Term 2 coefficient in [this cell](#hss), we have\n",
    "\n",
    "\\begin{equation*}\n",
    "    H_{\\rm SS}\\ {\\rm Term\\ 2\\ coefficient} = \\frac{ e^{-3 \\tilde{\\mu} -\\nu} \\tilde{J} \\omega_{r} }{ 2 \\tilde{B} \\left( \\sqrt{Q} + 1 \\right) \\sqrt{Q} \\xi^{2} }\n",
    "\\end{equation*}\n",
    "\n",
    "which we write as\n",
    "\n",
    "\\begin{equation*}\n",
    "    H_{\\rm SS}\\ {\\rm Term\\ 2\\ coefficient} = \\frac{ \\tilde{J} \\omega_{r} }{ 2 e^{2 \\tilde{\\mu}} e^{\\tilde{\\mu}} e^{\\nu} \\tilde{B} \\left( Q + \\sqrt{Q} \\right) \\xi^{2} }.\n",
    "\\end{equation*}\n",
    "\n",
    "We define $\\tilde{J}$ in [this cell](#jtilde), $\\omega_{r}$ in [this cell](#omegar), $e^{\\tilde{\\mu}}$ in [this cell](#exp2mu), $e^{\\nu}$ in [this cell](#exp2nu), $\\tilde{B}$ in [this cell](#btilde), $Q$ in [this cell](#q),  and $\\xi^{2}$ in [this cell](#sin2theta)."
   ]
  },
  {
   "cell_type": "code",
   "execution_count": 14,
   "metadata": {},
   "outputs": [
    {
     "name": "stdout",
     "output_type": "stream",
     "text": [
      "Appending to SEOBNR/Hamiltonian-Hreal_on_top.txt\n"
     ]
    }
   ],
   "source": [
    "%%writefile -a SEOBNR/Hamiltonian-Hreal_on_top.txt\n",
    "\n",
    "HssTerm2coeff = Jtilde*omegar/(2*exp2mu*expmu*expnu*Btilde*(Q + sp.sqrt(Q))*xisq)"
   ]
  },
  {
   "cell_type": "markdown",
   "metadata": {},
   "source": [
    "<a id='hssterm2'></a>\n",
    "\n",
    "## Step 5.c: $H_{\\rm SS}$ Term 2 \\[Back to [top](#toc)\\]\n",
    "$$\\label{hssterm2}$$\n",
    "\n",
    "Combining [BB2010](https://arxiv.org/abs/0912.3517) Equation (4.19) with our definition of $H_{\\rm SS}$ Term 2 in [this cell](#hss), we have\n",
    "\n",
    "\\begin{equation*}\n",
    "    H_{\\rm SS}\\ {\\rm Term\\ 2} = -e^{\\tilde{\\mu} + \\nu} \\left( {\\bf \\hat{p}} \\cdot {\\bf v} r \\right) \\left( {\\bf \\hat{p}} \\cdot {\\bf \\xi} r \\right) \\left( {\\bf S} \\cdot {\\bf \\xi} \\right)\n",
    "\\tilde{B} + e^{2 \\left( \\tilde{\\mu} + \\nu \\right)} \\left( {\\bf \\hat{p}} \\cdot {\\bf \\xi} r \\right)^2 \\left( {\\bf S}\n",
    "\\cdot {\\bf v} \\right) + e^{2 \\tilde{\\mu}} \\left( 1 + \\sqrt{Q} \\right) \\sqrt{Q} \\left( {\\bf S} \\cdot {\\bf v} \\right)\\xi^2 \\tilde{B}^{2} + \\tilde{J} \\left( {\\bf \\hat{p}} \\cdot {\\bf n} \\right) \\left[ \\left( {\\bf \\hat{p}} \\cdot {\\bf v} r \\right)\n",
    "\\left( {\\bf S} \\cdot {\\bf n}\\right) - \\tilde{J} \\left( {\\bf \\hat{p}} \\cdot {\\bf n} \\right) \\left( {\\bf S} \\cdot {\\bf v} \\right)\\right] \\xi^{2} \\tilde{B}^{2}\n",
    "\\end{equation*}\n",
    "\n",
    "which we write as\n",
    "\n",
    "\\begin{align*}\n",
    "    H_{\\rm SS}\\ {\\rm Term\\ 2} &= e^{\\tilde{\\mu}} \\left( {\\bf \\hat{p}} \\cdot {\\bf \\xi} r \\right) \\left[ e^{\\tilde{\\mu}} e^{2 \\nu} \\left( {\\bf \\hat{p}} \\cdot {\\bf \\xi} r \\right) \\left( {\\bf S} \\cdot {\\bf v} \\right) - e^{\\nu} \\left( {\\bf \\hat{p}} \\cdot {\\bf v} r \\right) \\left( {\\bf S} \\cdot {\\bf \\xi} \\right)\n",
    "\\tilde{B} \\right] \\\\\n",
    "&\\ \\ \\ \\ \\ + \\xi^2 \\tilde{B}^{2} \\left\\{ e^{2 \\tilde{\\mu}} \\left( \\sqrt{Q} + Q \\right) \\left( {\\bf S} \\cdot {\\bf v} \\right) + \\tilde{J} \\left( {\\bf \\hat{p}} \\cdot {\\bf n} \\right) \\left[ \\left( {\\bf \\hat{p}} \\cdot {\\bf v} r \\right)\n",
    "\\left( {\\bf S} \\cdot {\\bf n}\\right) - \\tilde{J} \\left( {\\bf \\hat{p}} \\cdot {\\bf n} \\right) \\left( {\\bf S} \\cdot {\\bf v} \\right)\\right] \\right\\}\n",
    "\\end{align*}\n",
    "\n",
    "We define $e^{\\tilde{\\mu}}$ in [this cell](#exp2mu), $\\hat{\\bf p} \\cdot \\boldsymbol{\\xi} r$ in [this cell](#pdotxir), $e^{\\nu}$ in [this cell](#exp2nu), ${\\bf S} \\cdot {\\bf v}$ in [this cell](#sdotv), $\\hat{\\bf p} \\cdot {\\bf v} r$ in [this cell](#pdotvr), ${\\bf S} \\cdot \\boldsymbol{\\xi}$ in [this cell](#sdotxi), $\\tilde{B}$ in [this cell](#btilde), $Q$ in [this cell](#q), $\\tilde{J}$ in [this cell](#jtilde), $\\hat{\\bf p} \\cdot {\\bf n}$ in [this cell](#pdotn), ${\\bf S} \\cdot {\\bf n}$ in [this cell](#sdotn), and $\\xi^{2}$ in [this cell](#sin2theta)."
   ]
  },
  {
   "cell_type": "code",
   "execution_count": 15,
   "metadata": {},
   "outputs": [
    {
     "name": "stdout",
     "output_type": "stream",
     "text": [
      "Appending to SEOBNR/Hamiltonian-Hreal_on_top.txt\n"
     ]
    }
   ],
   "source": [
    "%%writefile -a SEOBNR/Hamiltonian-Hreal_on_top.txt\n",
    "\n",
    "HssTerm2 = expmu*pdotxir*(expmu*exp2nu*pdotxir*Sdotv - expnu*pdotvr*Sdotxi*Btilde)\n",
    "            + xisq*Btilde*Btilde*(exp2mu*(sp.sqrt(Q) + Q)*Sdotv\n",
    "            + Jtilde*pdotn*(pdotvr*Sdotn - Jtilde*pdotn*Sdotv))"
   ]
  },
  {
   "cell_type": "markdown",
   "metadata": {},
   "source": [
    "<a id='hssterm3coeff'></a>\n",
    "\n",
    "## Step 5.d: $H_{\\rm SS}$ Term 3 Coefficient \\[Back to [top](#toc)\\]\n",
    "$$\\label{hssterm3coeff}$$\n",
    "\n",
    "Combining [BB2010](https://arxiv.org/abs/0912.3517) Equation (4.19) with our definition of $H_{\\rm SS}$ Term 3 coefficient in [this cell](#hss), we have\n",
    "\n",
    "\\begin{equation*}\n",
    "    H_{\\rm SS}\\ {\\rm Term\\ 3\\ coefficient} = \\frac{ e^{-3 \\tilde{\\mu} - \\nu} \\omega_{\\cos\\theta} }{ 2 \\tilde{B} \\left( \\sqrt{Q} + 1 \\right) \\sqrt{Q} }\n",
    "\\end{equation*}\n",
    "\n",
    "which we write as\n",
    "\n",
    "\\begin{equation*}\n",
    "    H_{\\rm SS}\\ {\\rm Term\\ 3\\ coefficient} = \\frac{ \\omega_{\\cos\\theta} }{ 2 e^{2 \\tilde{\\mu}} e^{\\tilde{\\mu}} e^{\\nu} \\tilde{B} \\left( Q + \\sqrt{Q} \\right) }.\n",
    "\\end{equation*}\n",
    "\n",
    "We define $\\omega_{\\cos\\theta}$ in [this cell](#omegacostheta), $e^{\\tilde{\\mu}}$ in [this cell](#exp2mu), $e^{\\nu}$ in [this cell](#exp2nu), and $\\tilde{B}$ in [this cell](#btilde), $Q$ in [this cell](#q)."
   ]
  },
  {
   "cell_type": "code",
   "execution_count": 16,
   "metadata": {},
   "outputs": [
    {
     "name": "stdout",
     "output_type": "stream",
     "text": [
      "Appending to SEOBNR/Hamiltonian-Hreal_on_top.txt\n"
     ]
    }
   ],
   "source": [
    "%%writefile -a SEOBNR/Hamiltonian-Hreal_on_top.txt\n",
    "\n",
    "HssTerm3coeff = omegacostheta/(2*exp2mu*expmu*expnu*Btilde*(Q + sp.sqrt(Q)))"
   ]
  },
  {
   "cell_type": "markdown",
   "metadata": {},
   "source": [
    "<a id='hssterm3'></a>\n",
    "\n",
    "## Step 5.e: $H_{\\rm SS}$ Term 3 \\[Back to [top](#toc)\\]\n",
    "$$\\label{hssterm3}$$\n",
    "\n",
    "Combining [BB2010](https://arxiv.org/abs/0912.3517) Equation (4.19) with our definition of $H_{\\rm SS}$ Term 3 in [this cell](#hss), we have\n",
    "\n",
    "\\begin{align*}\n",
    "    H_{\\rm SS}\\ {\\rm Term\\ 3} &= -e^{2 \\left( \\tilde{\\mu} + \\nu \\right)} \\left( \\hat{\\bf p} \\cdot {\\bf \\xi} r \\right)^{2} \\left( {\\bf S} \\cdot {\\bf n} \\right) + e^{\\tilde{\\mu} +\\nu} \\tilde{J} \\left( {\\bf \\hat{p}} \\cdot {\\bf n} \\right) \\left( {\\bf \\hat{p}} \\cdot {\\bf \\xi} r \\right) \\left( {\\bf S} \\cdot {\\bf \\xi} \\right) \\tilde{B} \\\\\n",
    "        &\\ \\ \\ \\ \\ + \\left[ \\left( {\\bf S} \\cdot {\\bf n} \\right) \\left( {\\bf \\hat{p}} \\cdot {\\bf v} r \\right)^{2} - \\tilde{J} \\left( {\\bf \\hat{p}} \\cdot {\\bf n} \\right) \\left( {\\bf S} \\cdot {\\bf v} \\right) \\left( {\\bf \\hat{p}} \\cdot {\\bf v} r\\right) - e^{2 \\tilde{\\mu}} \\left( 1 + \\sqrt{Q} \\right) \\sqrt{Q} \\left( {\\bf S} \\cdot {\\bf n} \\right) \\xi^{2} \\right] \\tilde{B}^{2}\n",
    "\\end{align*}\n",
    "\n",
    "which we write as\n",
    "\n",
    "\\begin{align*}\n",
    "    H_{\\rm SS}\\ {\\rm Term\\ 3} &= e^{\\tilde{\\mu}} e^{\\nu} \\left( \\hat{\\bf p} \\cdot {\\bf \\xi} r \\right) \\left[ \\tilde{J} \\left( {\\bf \\hat{p}} \\cdot {\\bf n} \\right) \\left( {\\bf S} \\cdot {\\bf \\xi} \\right) \\tilde{B} - e^{\\tilde{\\mu}} e^{\\nu} \\left( \\hat{\\bf p} \\cdot {\\bf \\xi} r \\right) \\left( {\\bf S} \\cdot {\\bf n} \\right) \\right] \\\\\n",
    "        &\\ \\ \\ \\ \\ + \\left\\{ \\left( {\\bf \\hat{p}} \\cdot {\\bf v} r \\right) \\left[ \\left( {\\bf S} \\cdot {\\bf n} \\right) \\left( {\\bf \\hat{p}} \\cdot {\\bf v} r \\right) - \\tilde{J} \\left( {\\bf \\hat{p}} \\cdot {\\bf n} \\right) \\left( {\\bf S} \\cdot {\\bf v} \\right) \\right] - e^{2 \\tilde{\\mu}} \\left( \\sqrt{Q} + Q \\right) \\left( {\\bf S} \\cdot {\\bf n} \\right) \\xi^{2} \\right\\} \\tilde{B}^{2}\n",
    "\\end{align*}\n",
    "\n",
    "We define $e^{\\tilde{\\mu}}$ in [this cell](#exp2mu), $e^{\\nu}$ in [this cell](#exp2nu), $\\hat{\\bf p} \\cdot \\boldsymbol{\\xi} r$ in [this cell](#pdotxir), $\\tilde{J}$ in [this cell](#jtilde), $\\hat{\\bf p} \\cdot {\\bf n}$ in [this cell](#pdotn), ${\\bf S} \\cdot \\boldsymbol{\\xi}$ in [this cell](#sdotxi), $\\tilde{B}$ in [this cell](#btilde), ${\\bf S} \\cdot {\\bf n}$ in [this cell](#sdotn), $\\hat{\\bf p} \\cdot {\\bf v} r$ in [this cell](#pdotvr), ${\\bf S} \\cdot {\\bf v}$ in [this cell](#sdotv), $Q$ in [this cell](#q), and $\\xi^{2}$ in [this cell](#sin2theta)."
   ]
  },
  {
   "cell_type": "code",
   "execution_count": 17,
   "metadata": {},
   "outputs": [
    {
     "name": "stdout",
     "output_type": "stream",
     "text": [
      "Appending to SEOBNR/Hamiltonian-Hreal_on_top.txt\n"
     ]
    }
   ],
   "source": [
    "%%writefile -a SEOBNR/Hamiltonian-Hreal_on_top.txt\n",
    "\n",
    "HssTerm3 = expmu*expnu*pdotxir*(Jtilde*pdotn*Sdotxi*Btilde - expmu*expnu*pdotxir*Sdotn)\n",
    "            + (pdotvr*(Sdotn*pdotvr - Jtilde*pdotn*Sdotv) - exp2mu*(sp.sqrt(Q) + Q)*Sdotn*xisq)*Btilde*Btilde"
   ]
  },
  {
   "cell_type": "markdown",
   "metadata": {},
   "source": [
    "<a id='hnsterms'></a>\n",
    "\n",
    "# Step 6: $H_{\\rm NS}$ Terms \\[Back to [top](#toc)\\]\n",
    "$$\\label{hnsterms}$$\n",
    "\n",
    "We collect here the terms in $H_{\\rm NS}$ (defined in [this cell](#hns))."
   ]
  },
  {
   "cell_type": "markdown",
   "metadata": {},
   "source": [
    "<a id='betapsum'></a>\n",
    "\n",
    "## Step 6.a: $\\beta p$ sum \\[Back to [top](#toc)\\]\n",
    "$$\\label{betapsum}$$\n",
    "\n",
    "We defined the term $\\beta p$ sum in [this cell](#hns) as\n",
    "\n",
    "\\begin{equation*}\n",
    "    \\beta p\\ {\\rm sum} = \\beta^{i} p_{i}.\n",
    "\\end{equation*}\n",
    "\n",
    "From [BB2010](https://arxiv.org/abs/0912.3517) Equation (5.45), we have\n",
    "\n",
    "\\begin{equation*}\n",
    "    \\beta^{i} = \\frac{ g^{ti} }{ g^{tt} },\n",
    "\\end{equation*}\n",
    "\n",
    "but from [BB2010](https://arxiv.org/abs/0912.3517) Equations (5.36) we see that $g^{tr} = g^{t \\theta} = 0$.  Thus only $\\beta^{\\phi}$ is nonzero.  Combining [BB2010](https://arxiv.org/abs/0912.3517) Equations (5.45), (5.36e), and (5.36a), we find\n",
    "\n",
    "\\begin{equation*}\n",
    "    \\beta^{\\phi} = \\frac{ -\\frac{ \\tilde{\\omega}_{\\rm fd} }{ \\Delta_{t} \\Sigma } }{ -\\frac{ \\Lambda_{t} }{ \\Delta_{t} \\Sigma } } = \\frac{ \\tilde{\\omega}_{\\rm fd} }{ \\Lambda_{t} }\n",
    "\\end{equation*}\n",
    "\n",
    "Therefore\n",
    "\n",
    "\\begin{equation*}\n",
    "    \\beta^{i} p_{i} = \\frac{ \\tilde{\\omega}_{\\rm fd} }{ \\Lambda_{t} } p_{\\phi}.\n",
    "\\end{equation*}\n",
    "\n",
    "We define $\\tilde{\\omega}_{\\rm fd}$ in [this cell](#omegatilde), $\\Lambda_{t}$ in [this cell](#lambdat), and $p_{\\phi}$ in [this cell](#pphi)."
   ]
  },
  {
   "cell_type": "code",
   "execution_count": 18,
   "metadata": {},
   "outputs": [
    {
     "name": "stdout",
     "output_type": "stream",
     "text": [
      "Appending to SEOBNR/Hamiltonian-Hreal_on_top.txt\n"
     ]
    }
   ],
   "source": [
    "%%writefile -a SEOBNR/Hamiltonian-Hreal_on_top.txt\n",
    "\n",
    "betapsum = omegatilde*pphi/Lambdat"
   ]
  },
  {
   "cell_type": "markdown",
   "metadata": {},
   "source": [
    "<a id='alpha'></a>\n",
    "\n",
    "## Step 6.b: $\\alpha$ \\[Back to [top](#toc)\\]\n",
    "$$\\label{alpha}$$\n",
    "\n",
    "From [BB2010](https://arxiv.org/abs/0912.3517) Equation (5.44), we have\n",
    "\\begin{equation*}\n",
    "    \\alpha = \\frac{ 1 }{ \\sqrt{ -g^{tt}} },\n",
    "\\end{equation*}\n",
    "\n",
    "and from [BB2010](https://arxiv.org/abs/0912.3517) Equation (5.36a) we have\n",
    "\n",
    "\\begin{equation*}\n",
    "    g^{tt} = -\\frac{ \\Lambda_{t} }{ \\Delta_{t} \\Sigma }.\n",
    "\\end{equation*}\n",
    "\n",
    "Therefore\n",
    "\n",
    "\\begin{equation*}\n",
    "    \\alpha = \\sqrt{ \\frac{ \\Delta_{t} \\Sigma }{ \\Lambda_{t} } }.\n",
    "\\end{equation*}\n",
    "\n",
    "We define $\\Delta_{t}$ in [this cell](#deltat), $\\Sigma$ in [this cell](#usigma), and $\\Lambda_{t}$ in [this cell](#lambdat)."
   ]
  },
  {
   "cell_type": "code",
   "execution_count": 19,
   "metadata": {},
   "outputs": [
    {
     "name": "stdout",
     "output_type": "stream",
     "text": [
      "Appending to SEOBNR/Hamiltonian-Hreal_on_top.txt\n"
     ]
    }
   ],
   "source": [
    "%%writefile -a SEOBNR/Hamiltonian-Hreal_on_top.txt\n",
    "\n",
    "alpha = sp.sqrt(Deltat*Sigma/Lambdat)"
   ]
  },
  {
   "cell_type": "markdown",
   "metadata": {},
   "source": [
    "<a id='hnsradicand'></a>\n",
    "\n",
    "## Step 6.c: $H_{\\rm NS}$ radicand \\[Back to [top](#toc)\\]\n",
    "$$\\label{hnsradicand}$$\n",
    "\n",
    "Recall that we defined $H_{\\rm NS}$ radicand in [this cell](#hns) as\n",
    "\n",
    "\\begin{equation*}\n",
    "    H_{\\rm NS}\\ {\\rm radicand} = \\mu^{2} + \\underbrace{\\gamma^{ij} p_{i} p_{j}}_{\\gamma p\\ \\rm sum} + {\\cal Q}_{4}\n",
    "\\end{equation*}\n",
    "\n",
    "We define $\\mu$ in [this cell](#mu), $\\gamma p$ sum in [this cell](#gammappsum), and ${\\cal Q}_{4}$ in [this cell](#q4)."
   ]
  },
  {
   "cell_type": "code",
   "execution_count": 20,
   "metadata": {},
   "outputs": [
    {
     "name": "stdout",
     "output_type": "stream",
     "text": [
      "Appending to SEOBNR/Hamiltonian-Hreal_on_top.txt\n"
     ]
    }
   ],
   "source": [
    "%%writefile -a SEOBNR/Hamiltonian-Hreal_on_top.txt\n",
    "\n",
    "Hnsradicand = mu*mu + gammappsum + Q4"
   ]
  },
  {
   "cell_type": "markdown",
   "metadata": {},
   "source": [
    "<a id='gammappsum'></a>\n",
    "\n",
    "### Step 6.c.i: $\\gamma^{ij} p_{i} p_{j}$ \\[Back to [top](#toc)\\]\n",
    "$$\\label{gammappsum}$$\n",
    "\n",
    "From [BB2010](https://arxiv.org/abs/0912.3517) Equation (5.46), we have\n",
    "\n",
    "\\begin{equation*}\n",
    "    \\gamma^{ij} = g^{ij} - \\frac{ g^{ti} g^{tj} }{ g^{tt} }.\n",
    "\\end{equation*}\n",
    "\n",
    "Combining this result with [BB2010](https://arxiv.org/abs/0912.3517) Equations 5.36, we have\n",
    "\n",
    "\\begin{equation*}\n",
    "    \\gamma^{r\\theta} = \\gamma^{r\\phi} = \\gamma^{\\theta r} = \\gamma^{\\theta\\phi} = \\gamma^{\\phi r} = \\gamma^{\\phi\\theta} = 0\n",
    "\\end{equation*}\n",
    "\n",
    "and\n",
    "\n",
    "\\begin{align*}\n",
    "    \\gamma^{rr} &= g^{rr} = \\frac{ \\Delta_{r} }{ \\Sigma } \\\\\n",
    "    \\gamma^{\\theta\\theta} &= g^{\\theta\\theta} = \\frac{ 1 }{ \\Sigma } \\\\\n",
    "    \\gamma^{\\phi\\phi} &= \\frac{ \\Sigma }{ \\Lambda_{t} \\sin^{2} \\theta }.\n",
    "\\end{align*}\n",
    "\n",
    "Therefore\n",
    "\n",
    "\\begin{align*}\n",
    "    \\gamma^{ij} p_{i} p_{j} &= \\gamma^{rr} p_{r} p_{r} + \\gamma^{\\theta\\theta} p_{\\theta} p_{\\theta} + \\gamma^{\\phi\\phi} p_{\\phi} p_{\\phi} \\\\\n",
    "        &= \\frac{ \\Delta_{r} }{ \\Sigma } p_{r}^{2} + \\frac{ 1 }{ \\Sigma } p_{\\theta}^{2} + \\frac{ \\Sigma }{ \\Lambda_{t} \\sin^{2} \\theta } p_{\\phi}^{2}.\n",
    "\\end{align*}\n",
    "\n",
    "Converting Boyer-Lindquist coordinates to tortoise coordinates <font color='red'>(the transformation of which is found in the Appendix of [P2010](https://arxiv.org/abs/0912.3466v2) but does not agree with the following)</font>, we have\n",
    "\n",
    "\\begin{align*}\n",
    "    p_{r} &= \\hat{\\bf p} \\cdot {\\bf n} \\\\\n",
    "    p_{\\theta} &= \\hat{\\bf p} \\cdot {\\bf v} \\frac{ r }{ \\sin \\theta } \\\\\n",
    "    p_{\\phi} &= \\hat{\\bf p} \\cdot \\boldsymbol{\\xi} r.\n",
    "\\end{align*}\n",
    "\n",
    "Therefore\n",
    "\n",
    "\\begin{equation*}\n",
    "    \\gamma^{ij} p_{i} p_{j} = \\frac{ \\Delta_{r} }{ \\Sigma } \\left( \\hat{\\bf p} \\cdot {\\bf n} \\right)^{2} + \\Sigma^{-1} \\left( \\hat{\\bf p} \\cdot {\\bf v} \\frac{ r }{ \\sin \\theta } \\right)^{2} + \\frac{ \\Sigma }{ \\Lambda_{t} \\sin^{2} \\theta } \\left( \\hat{\\bf p} \\cdot \\boldsymbol{\\xi} r \\right)^{2}.\n",
    "\\end{equation*}\n",
    "\n",
    "We define $\\Delta_{r}$ in [this cell](#deltar), $\\Sigma$ in [this cell](#sigma), $\\hat{\\bf p} \\cdot {\\bf n}$ in [this cell](#pdotn), $\\hat{\\bf p} \\cdot {\\bf v} r$ in [this cell](#pdotvr), $\\sin^{2} \\theta$ in [this cell](#sin2theta), $\\Lambda_{t}$ in [this cell](#lambdat), and $\\hat{\\bf p} \\cdot \\boldsymbol{\\xi} r$ in [this cell](#pdotxir)."
   ]
  },
  {
   "cell_type": "code",
   "execution_count": 21,
   "metadata": {},
   "outputs": [
    {
     "name": "stdout",
     "output_type": "stream",
     "text": [
      "Appending to SEOBNR/Hamiltonian-Hreal_on_top.txt\n"
     ]
    }
   ],
   "source": [
    "%%writefile -a SEOBNR/Hamiltonian-Hreal_on_top.txt\n",
    "\n",
    "gammappsum = Deltar/Sigma*pdotn*pdotn + 1/Sigma*pdotvr*pdotvr/sin2theta + Sigma/Lambdat/sin2theta*pdotxir*pdotxir"
   ]
  },
  {
   "cell_type": "markdown",
   "metadata": {},
   "source": [
    "<a id='q4'></a>\n",
    "\n",
    "### Step 6.c.ii: ${\\cal Q}_{4}$ \\[Back to [top](#toc)\\]\n",
    "$$\\label{q4}$$\n",
    "\n",
    "From [T2012](https://arxiv.org/abs/1202.0790) Equation (15),\n",
    "\n",
    "\\begin{equation*}\n",
    "    {\\cal Q}_{4} \\propto \\frac{ p_{r^{*}}^{4} }{ r^{2} } \\left( r^{2} + \\chi_{\\rm Kerr}^{2} \\right)^{4}.\n",
    "\\end{equation*}\n",
    "\n",
    "We denote $p_{r^{*}}$ by prT.  On Line 340 of LALSimIMRSpinEOBHamiltonianPrec.c <font color='red'>(find a real reference for this)</font>, we find\n",
    "\n",
    "\\begin{equation*}\n",
    "    {\\cal Q}_{4} = \\frac{ prT^{4} }{ r^{2} } z_{3}\n",
    "\\end{equation*}\n",
    "\n",
    "where $z_{3}$ is found in [D2000](https://arxiv.org/abs/gr-qc/0005034) Equation (4.34):\n",
    "\n",
    "\\begin{equation*}\n",
    "    z_{3} = 2 \\left( 4 - 3 \\nu \\right) \\nu.\n",
    "\\end{equation*}\n",
    "\n",
    "In the notation of [BB2010](https://arxiv.org/abs/0912.3517), $\\nu = \\eta$ (see discussion after [T2012](https://arxiv.org/abs/1202.0790) Equation (2)).  Thus\n",
    "\n",
    "\\begin{equation*}\n",
    "    {\\cal Q}_{4} = 2 prT^{4} u^{2} \\left( 4 - 3 \\eta \\right) \\eta.\n",
    "\\end{equation*}\n",
    "\n",
    "We define prT in [this cell](#prt), $u$ in [this cell](#u), and $\\eta$ in [this cell](#eta) below."
   ]
  },
  {
   "cell_type": "code",
   "execution_count": 22,
   "metadata": {},
   "outputs": [
    {
     "name": "stdout",
     "output_type": "stream",
     "text": [
      "Appending to SEOBNR/Hamiltonian-Hreal_on_top.txt\n"
     ]
    }
   ],
   "source": [
    "%%writefile -a SEOBNR/Hamiltonian-Hreal_on_top.txt\n",
    "\n",
    "Q4 = 2*prT*prT*prT*prT*u*u*(4 - 3*eta)*eta"
   ]
  },
  {
   "cell_type": "markdown",
   "metadata": {},
   "source": [
    "<a id='hdterms'></a>\n",
    "\n",
    "# Step 7: The $H_{\\rm D}$ Terms \\[Back to [top](#toc)\\]\n",
    "$$\\label{hdterms}$$\n",
    "\n",
    "Recall we defined $H_{\\rm D}$ in [this cell](#hd) as\n",
    "\n",
    "\\begin{equation*}\n",
    "    H_{\\rm D} = H_{\\rm D}\\ {\\rm coeffecient} * H_{\\rm D}\\ {\\rm sum}.\n",
    "\\end{equation*}\n",
    "\n",
    "In this step we break down each of $H_{\\rm D}$ coefficient (defined in [this cell](#hdcoeff)) and $H_{\\rm D}$ sum (defined in [this cell](#hdsum))."
   ]
  },
  {
   "cell_type": "markdown",
   "metadata": {},
   "source": [
    "<a id='hdcoeff'></a>\n",
    "\n",
    "## Step 7.a: $H_{\\rm D}$ Coefficient \\[Back to [top](#toc)\\]\n",
    "$$\\label{hdcoeff}$$\n",
    "\n",
    "From our definition of $H_{\\rm D}$ in [this cell](#hd), we have\n",
    "\n",
    "\\begin{equation*}\n",
    "    H_{\\rm D}\\ {\\rm coefficient} = \\frac{ \\mu }{ 2 M r^{3} },\n",
    "\\end{equation*}\n",
    "\n",
    "and recalling the definition of [$\\eta$](#eta) we'll write\n",
    "\n",
    "\\begin{equation*}\n",
    "    H_{\\rm D}\\ {\\rm coefficient} = \\frac{ \\eta }{ 2 r^{3} }.\n",
    "\\end{equation*}\n",
    "\n",
    "We define $\\eta$ in [this cell](#eta) and $r$ in [this cell](#r)."
   ]
  },
  {
   "cell_type": "code",
   "execution_count": 23,
   "metadata": {},
   "outputs": [
    {
     "name": "stdout",
     "output_type": "stream",
     "text": [
      "Appending to SEOBNR/Hamiltonian-Hreal_on_top.txt\n"
     ]
    }
   ],
   "source": [
    "%%writefile -a SEOBNR/Hamiltonian-Hreal_on_top.txt\n",
    "\n",
    "Hdcoeff = sp.Rational(1,2)*eta/(r*r*r)"
   ]
  },
  {
   "cell_type": "markdown",
   "metadata": {},
   "source": [
    "<a id='hdsum'></a>\n",
    "\n",
    "## Step 7.b: $H_{\\rm D}$ Sum \\[Back to [top](#toc)\\]\n",
    "$$\\label{hdsum}$$\n",
    "\n",
    "From our definition of $H_{\\rm D}$ in [this cell](#hd), we have\n",
    "\n",
    "\\begin{align*}\n",
    "    H_{\\rm D}\\ {\\rm sum} &= \\left( \\delta^{ij} - 3 n^{i} n^{j} \\right) S^{*}_{i} S^{*}_{j} \\\\\n",
    "        &= \\underbrace{\\delta^{ij} S^{*}_{i} S^{*}_{j}}_{\\rm Term\\ 1} - \\underbrace{3 n^{i} n^{j} S^{*}_{i} S^{*}_{j}}_{\\rm Term\\ 2}.\n",
    "\\end{align*}\n",
    "\n",
    "We compute $H_{\\rm D}$ Term 1 in [this cell](#hdsumterm1) and $H_{\\rm D}$ Term 2 in [this cell](#hdsumterm2)."
   ]
  },
  {
   "cell_type": "code",
   "execution_count": 24,
   "metadata": {},
   "outputs": [
    {
     "name": "stdout",
     "output_type": "stream",
     "text": [
      "Appending to SEOBNR/Hamiltonian-Hreal_on_top.txt\n"
     ]
    }
   ],
   "source": [
    "%%writefile -a SEOBNR/Hamiltonian-Hreal_on_top.txt\n",
    "\n",
    "Hdsum = HdsumTerm1 - HdsumTerm2"
   ]
  },
  {
   "cell_type": "markdown",
   "metadata": {},
   "source": [
    "<a id='hdsumterm1'></a>\n",
    "\n",
    "### Step 7.b.i: $H_{\\rm D}$ Sum Term 1 \\[Back to [top](#toc)\\]\n",
    "$$\\label{hdsumterm1}$$\n",
    "\n",
    "From our definition of $H_{\\rm D}$ sum Term 1 in [this cell](#hdsum), we have\n",
    "\n",
    "\\begin{equation*}\n",
    "    H_{\\rm D}\\ {\\rm sum\\ Term\\ 1} = \\delta^{ij} S^{*}_{i} S^{*}_{j}\n",
    "\\end{equation*}\n",
    "\n",
    "where $\\delta^{ij}$ is the Kronecker delta:\n",
    "\n",
    "\\begin{equation*}\n",
    "    \\delta_{ij} = \\left\\{ \\begin{array}{cc}\n",
    "        0, & i \\not= j \\\\\n",
    "        1, & i = j. \\end{array} \\right.\n",
    "\\end{equation*}\n",
    "\n",
    "Thus we have\n",
    "\n",
    "\\begin{equation*}\n",
    "    H_{\\rm D}\\ {\\rm sum\\ Term\\ 1} = S^{*}_{1} S^{*}_{1} + S^{*}_{2} S^{*}_{2} + S^{*}_{3} S^{*}_{3}\n",
    "\\end{equation*}\n",
    "\n",
    "We define ${\\bf S}^{*}$ in [this cell](#hreal_spin_combos)."
   ]
  },
  {
   "cell_type": "code",
   "execution_count": 25,
   "metadata": {},
   "outputs": [
    {
     "name": "stdout",
     "output_type": "stream",
     "text": [
      "Appending to SEOBNR/Hamiltonian-Hreal_on_top.txt\n"
     ]
    }
   ],
   "source": [
    "%%writefile -a SEOBNR/Hamiltonian-Hreal_on_top.txt\n",
    "\n",
    "HdsumTerm1 = Sstar1*Sstar1 + Sstar2*Sstar2 + Sstar3*Sstar3"
   ]
  },
  {
   "cell_type": "markdown",
   "metadata": {},
   "source": [
    "<a id='hdsumterm2'></a>\n",
    "\n",
    "### Step 7.b.ii: $H_{\\rm D}$ Sum Term 2 \\[Back to [top](#toc)\\]\n",
    "$$\\label{hdsumterm2}$$\n",
    "\n",
    "From our definition of $H_{\\rm D}$ sum Term 2 in [this cell](#hdsum), we have\n",
    "\n",
    "\\begin{align*}\n",
    "    H_{\\rm D}\\ {\\rm sum\\ Term\\ 2} &= 3 n^{i} n^{j} S^{*}_{i} S^{*}_{j} \\\\\n",
    "        &= 3 \\left( {\\bf S}^{*} \\cdot {\\bf n} \\right)^{2} \\\\\n",
    "\\end{align*}\n",
    "\n",
    "\n",
    "We define ${\\bf S}^{*} \\cdot {\\bf n}$ in [this cell](#sstardotn)."
   ]
  },
  {
   "cell_type": "code",
   "execution_count": 26,
   "metadata": {},
   "outputs": [
    {
     "name": "stdout",
     "output_type": "stream",
     "text": [
      "Appending to SEOBNR/Hamiltonian-Hreal_on_top.txt\n"
     ]
    }
   ],
   "source": [
    "%%writefile -a SEOBNR/Hamiltonian-Hreal_on_top.txt\n",
    "\n",
    "HdsumTerm2 = 3*Sstardotn*Sstardotn"
   ]
  },
  {
   "cell_type": "markdown",
   "metadata": {},
   "source": [
    "<a id='dotproducts'></a>\n",
    "\n",
    "# Step 8: Common Dot Products \\[Back to [top](#toc)\\]\n",
    "$$\\label{dotproducts}$$\n",
    "\n",
    "What follows are definitions of many common dot products."
   ]
  },
  {
   "cell_type": "markdown",
   "metadata": {},
   "source": [
    "<a id='sdotskerr'></a>\n",
    "\n",
    "## Step 8.a: ${\\bf S} \\cdot {\\bf S}_{\\rm Kerr}$ \\[Back to [top](#toc)\\]\n",
    "$$\\label{sdotskerr}$$\n",
    "\n",
    "We have\n",
    "\n",
    "\\begin{equation*}\n",
    "    {\\bf S} \\cdot {\\bf S}_{\\rm Kerr} = S^{1} S^{1}_{\\rm Kerr} + S^{2} S^{2}_{\\rm Kerr} + S^{3} S^{3}_{\\rm Kerr}.\n",
    "\\end{equation*}\n",
    "\n",
    "We define ${\\bf S}_{\\rm Kerr}$ in [this cell](#skerr)."
   ]
  },
  {
   "cell_type": "code",
   "execution_count": 27,
   "metadata": {},
   "outputs": [
    {
     "name": "stdout",
     "output_type": "stream",
     "text": [
      "Appending to SEOBNR/Hamiltonian-Hreal_on_top.txt\n"
     ]
    }
   ],
   "source": [
    "%%writefile -a SEOBNR/Hamiltonian-Hreal_on_top.txt\n",
    "\n",
    "SdotSkerr = S1*Skerr1 + S2*Skerr2 + S3*Skerr3"
   ]
  },
  {
   "cell_type": "markdown",
   "metadata": {},
   "source": [
    "<a id='sdotxi'></a>\n",
    "\n",
    "## Step 8.b: ${\\bf S} \\cdot \\boldsymbol{\\xi}$ \\[Back to [top](#toc)\\]\n",
    "$$\\label{sdotxi}$$\n",
    "\n",
    "We have\n",
    "\n",
    "\\begin{equation*}\n",
    "    {\\bf S} \\cdot \\boldsymbol{\\xi} = S^{1} \\xi^{1} + S^{2} \\xi^{2} + S^{3} \\xi^{3}\n",
    "\\end{equation*}\n",
    "\n",
    "We define $\\xi$ in [this cell](#xi)."
   ]
  },
  {
   "cell_type": "code",
   "execution_count": 28,
   "metadata": {},
   "outputs": [
    {
     "name": "stdout",
     "output_type": "stream",
     "text": [
      "Appending to SEOBNR/Hamiltonian-Hreal_on_top.txt\n"
     ]
    }
   ],
   "source": [
    "%%writefile -a SEOBNR/Hamiltonian-Hreal_on_top.txt\n",
    "\n",
    "Sdotxi = S1*xi1 + S2*xi2 + S3*Sxi3"
   ]
  },
  {
   "cell_type": "markdown",
   "metadata": {},
   "source": [
    "<a id='sdotv'></a>\n",
    "\n",
    "## Step 8.c: ${\\bf S} \\cdot {\\bf v}$ \\[Back to [top](#toc)\\]\n",
    "$$\\label{sdotv}$$\n",
    "\n",
    "We have\n",
    "\n",
    "\\begin{equation*}\n",
    "    {\\bf S} \\cdot {\\bf v} = S^{1} v^{1} + S^{2} v^{2} + S^{3} v^{3}.\n",
    "\\end{equation*}\n",
    "\n",
    "We define ${\\bf v}$ in [this cell](#v)."
   ]
  },
  {
   "cell_type": "code",
   "execution_count": 29,
   "metadata": {},
   "outputs": [
    {
     "name": "stdout",
     "output_type": "stream",
     "text": [
      "Appending to SEOBNR/Hamiltonian-Hreal_on_top.txt\n"
     ]
    }
   ],
   "source": [
    "%%writefile -a SEOBNR/Hamiltonian-Hreal_on_top.txt\n",
    "\n",
    "Sdotv = S1*v1 + S2*v2 + S3*v3"
   ]
  },
  {
   "cell_type": "markdown",
   "metadata": {},
   "source": [
    "<a id='sdotn'></a>\n",
    "\n",
    "## Step 8.d: ${\\bf S} \\cdot {\\bf n}$ \\[Back to [top](#toc)\\]\n",
    "$$\\label{sdotn}$$\n",
    "\n",
    "We have\n",
    "\n",
    "\\begin{equation*}\n",
    "    {\\bf S} \\cdot {\\bf n} = S^{1} n^{1} + S^{2} n^{2} + S^{3} n^{3}.\n",
    "\\end{equation*}\n",
    "\n",
    "We define ${\\bf n}$ in [this cell](#n)."
   ]
  },
  {
   "cell_type": "code",
   "execution_count": 30,
   "metadata": {},
   "outputs": [
    {
     "name": "stdout",
     "output_type": "stream",
     "text": [
      "Appending to SEOBNR/Hamiltonian-Hreal_on_top.txt\n"
     ]
    }
   ],
   "source": [
    "%%writefile -a SEOBNR/Hamiltonian-Hreal_on_top.txt\n",
    "\n",
    "Sdotn = S1*n1 + S2*n2 + S3*n3"
   ]
  },
  {
   "cell_type": "markdown",
   "metadata": {},
   "source": [
    "<a id='sdotskerrhat'></a>\n",
    "\n",
    "## Step 8.e: ${\\bf S} \\cdot \\hat{\\bf S}_{\\rm Kerr}$ \\[Back to [top](#toc)\\]\n",
    "$$\\label{sdotskerrhat}$$\n",
    "\n",
    "We have\n",
    "\n",
    "\\begin{equation*}\n",
    "    {\\bf S} \\cdot \\hat{\\bf S}_{\\rm Kerr} = S^{1} \\hat{S}_{\\rm Kerr}^{1} + S^{2} \\hat{S}_{\\rm Kerr}^{2} + S^{3} \\hat{S}_{\\rm Kerr}^{3}.\n",
    "\\end{equation*}\n",
    "\n",
    "We define $\\hat{\\bf S}_{\\rm Kerr}$ in [this cell](#skerrhat)."
   ]
  },
  {
   "cell_type": "code",
   "execution_count": 31,
   "metadata": {},
   "outputs": [
    {
     "name": "stdout",
     "output_type": "stream",
     "text": [
      "Appending to SEOBNR/Hamiltonian-Hreal_on_top.txt\n"
     ]
    }
   ],
   "source": [
    "%%writefile -a SEOBNR/Hamiltonian-Hreal_on_top.txt\n",
    "\n",
    "SdotSkerrhat = S1*Skerrhat1 + S2*Skerrhat2 + S3*Skerrhat3"
   ]
  },
  {
   "cell_type": "markdown",
   "metadata": {},
   "source": [
    "<a id='sstardotn'></a>\n",
    "\n",
    "## Step 8.f: ${\\bf S}^{*} \\cdot {\\bf n}$ \\[Back to [top](#toc)\\]\n",
    "$$\\label{sstardotn}$$\n",
    "\n",
    "We have\n",
    "\n",
    "\\begin{equation*}\n",
    "    {\\bf S}^{*} \\cdot {\\bf n} = {\\bf S}^{*}_{1} n_{1} + {\\bf S}^{*}_{2} n_{2} + {\\bf S}^{*}_{3} n_{3}.\n",
    "\\end{equation*}\n",
    "\n",
    "We define ${\\bf S}^{*}$ in [this cell](#sstar) and ${\\bf n}$ in [this cell](#n)."
   ]
  },
  {
   "cell_type": "code",
   "execution_count": 32,
   "metadata": {},
   "outputs": [
    {
     "name": "stdout",
     "output_type": "stream",
     "text": [
      "Appending to SEOBNR/Hamiltonian-Hreal_on_top.txt\n"
     ]
    }
   ],
   "source": [
    "%%writefile -a SEOBNR/Hamiltonian-Hreal_on_top.txt\n",
    "\n",
    "Sstardotn = Sstar1*n1 + Sstar2*n2 + Sstar3*n3"
   ]
  },
  {
   "cell_type": "markdown",
   "metadata": {},
   "source": [
    "<a id='hreal_spin_combos'></a>\n",
    "\n",
    "# Step 9: $H_{\\rm real}$ Spin Combination ${\\bf S}^{*}$ \\[Back to [top](#toc)\\]\n",
    "$$\\label{hreal_spin_combos}$$\n",
    "\n",
    "We collect here terms defining and containing ${\\bf S}^{*}$."
   ]
  },
  {
   "cell_type": "markdown",
   "metadata": {},
   "source": [
    "<a id='sstar'></a>\n",
    "\n",
    "## Step 9.a: ${\\bf S}^{*}$ \\[Back to [top](#toc)\\]\n",
    "$$\\label{sstar}$$\n",
    "\n",
    "From [BB2010](https://arxiv.org/abs/0912.3517) Equation (5.63):\n",
    "\n",
    "\\begin{equation*}\n",
    "    {\\bf S}^{*} = \\boldsymbol{\\sigma}^{*} + \\frac{ 1 }{ c^{2} } \\boldsymbol{\\Delta}_{\\sigma^{*}}.\n",
    "\\end{equation*}\n",
    "\n",
    "We define $\\boldsymbol{\\sigma}^{*}$ in [this cell](#sigmastar) and $\\boldsymbol{\\Delta}_{\\sigma^{*}}$ in [this cell](#deltasigmastar).\n",
    "\n",
    "<font color='red'>Please note: in LALSimIMRSpinEOBHamiltonianPrec.c lines 442--444 (compare with the first term of [BB2010](https://arxiv.org/abs/0912.3517) equation (4.19) on line 467), $S$ is taken to be $S^{*}$.  Is there a paper reference for this ($S$ is not \"defined\" in [BB2010](https://arxiv.org/abs/0912.3517))."
   ]
  },
  {
   "cell_type": "code",
   "execution_count": 33,
   "metadata": {},
   "outputs": [
    {
     "name": "stdout",
     "output_type": "stream",
     "text": [
      "Appending to SEOBNR/Hamiltonian-Hreal_on_top.txt\n"
     ]
    }
   ],
   "source": [
    "%%writefile -a SEOBNR/Hamiltonian-Hreal_on_top.txt\n",
    "\n",
    "S1 = Sstart1\n",
    "S2 = Sstart2\n",
    "S3 = Sstart3\n",
    "\n",
    "Sstar1 = sigmastar1 + Deltasigmastar1\n",
    "Sstar2 = sigmastar2 + Deltasigmastar2\n",
    "Sstar3 = sigmastar3 + Deltasigmastar3"
   ]
  },
  {
   "cell_type": "markdown",
   "metadata": {},
   "source": [
    "<a id='deltasigmastar'></a>\n",
    "\n",
    "## Step 9.b: $\\boldsymbol{\\Delta}_{\\sigma^{*}}$ \\[Back to [top](#toc)\\]\n",
    "$$\\label{deltasigmastar}$$\n",
    "\n",
    "We can write $\\boldsymbol{\\Delta}_{\\sigma^{*}}$ as\n",
    "\n",
    "\\begin{equation*}\n",
    "    \\boldsymbol{\\Delta}_{\\sigma^{*}} = \\boldsymbol{\\sigma}^{*} \\left( \\boldsymbol{\\sigma}^{*}\\ {\\rm coefficient} \\right) + \\boldsymbol{\\sigma} \\left( \\boldsymbol{\\sigma}\\ {\\rm coefficient} \\right)\n",
    "\\end{equation*}\n",
    "\n",
    "For further dissection, see $\\boldsymbol{\\sigma}^{*}$ in [this cell](#sigmastar), $\\boldsymbol{\\sigma}^{*}$ coefficient in [this cell](#sigmastarcoeff), $\\boldsymbol{\\sigma}$ in [this cell](#sigma), and $\\boldsymbol{\\sigma}$ coefficient in [this cell](#sigmacoeff)."
   ]
  },
  {
   "cell_type": "code",
   "execution_count": 34,
   "metadata": {},
   "outputs": [
    {
     "name": "stdout",
     "output_type": "stream",
     "text": [
      "Appending to SEOBNR/Hamiltonian-Hreal_on_top.txt\n"
     ]
    }
   ],
   "source": [
    "%%writefile -a SEOBNR/Hamiltonian-Hreal_on_top.txt\n",
    "\n",
    "Deltasigmastar1 = sigmastar1*sigmastarcoeff + sigma1*sigmacoeff\n",
    "Deltasigmastar2 = sigmastar2*sigmastarcoeff + sigma2*sigmacoeff\n",
    "Deltasigmastar3 = sigmastar3*sigmastarcoeff + sigma3*sigmacoeff"
   ]
  },
  {
   "cell_type": "markdown",
   "metadata": {},
   "source": [
    "<a id='sigmastarcoeff'></a>\n",
    "\n",
    "## Step 9.c: $\\boldsymbol{\\sigma}^{*}$ coefficient \\[Back to [top](#toc)\\]\n",
    "$$\\label{sigmastarcoeff}$$\n",
    "\n",
    "We will break down $\\boldsymbol{\\sigma}^{*}\\ {\\rm coefficient}$ into three terms:\n",
    "\n",
    "\\begin{equation*}\n",
    "    \\boldsymbol{\\sigma}^{*}\\ {\\rm coefficient} = \\boldsymbol{\\sigma}^{*}\\ {\\rm coefficient\\ Term\\ 1} + \\boldsymbol{\\sigma}^{*}\\ {\\rm coefficient\\ Term\\ 2} + \\boldsymbol{\\sigma}^{*}\\ {\\rm coefficient\\ Term\\ 3}\n",
    "\\end{equation*}\n",
    "\n",
    "We compute $\\boldsymbol{\\sigma}^{*}$ coefficient Term 1 in [this cell](#sigmastarcoeffterm1), $\\boldsymbol{\\sigma}^{*}$ coefficient Term 2 in [this cell](#sigmastarcoeffterm2), and $\\boldsymbol{\\sigma}^{*}$ coefficient Term 3 in [this cell](#sigmastarcoeffterm3)."
   ]
  },
  {
   "cell_type": "code",
   "execution_count": 35,
   "metadata": {},
   "outputs": [
    {
     "name": "stdout",
     "output_type": "stream",
     "text": [
      "Appending to SEOBNR/Hamiltonian-Hreal_on_top.txt\n"
     ]
    }
   ],
   "source": [
    "%%writefile -a SEOBNR/Hamiltonian-Hreal_on_top.txt\n",
    "\n",
    "sigmastarcoeff = sigmastarcoeffTerm1 + sigmastarcoeffTerm2 + sigmastarcoeffTerm3"
   ]
  },
  {
   "cell_type": "markdown",
   "metadata": {},
   "source": [
    "<a id='sigmastarcoeffterm1'></a>\n",
    "\n",
    "### Step 9.c.i: $\\boldsymbol{\\sigma}^{*}$ Coefficient Term 1 \\[Back to [top](#toc)\\]\n",
    "$$\\label{sigmastarcoeffterm1}$$\n",
    "\n",
    "We build this term from [BB2011](https://arxiv.org/abs/1107.2904) Equation (51) with $b_{0} = 0$ (<font color='red'>Why?  Find a paper justifying this</font>), where what is listed below is the coefficient on $\\boldsymbol{\\sigma}^{*}$:\n",
    "\n",
    "\\begin{align*}\n",
    "    \\boldsymbol{\\sigma}^{*}\\ {\\rm coefficient\\ Term\\ 1} &= \\frac{7}{6} \\eta \\frac{M}{r} + \\frac{1}{3} \\eta \\left( Q - 1 \\right) - \\frac{5}{2} \\eta \\frac{ \\Delta_r }{ \\Sigma } \\left( {\\bf n} \\cdot \\hat{\\bf p} \\right)^{2} \\\\\n",
    "        &= \\frac{ \\eta }{ 12 } \\left( 14 \\frac{ M }{ r } + 4 \\left( Q - 1 \\right) - 30 \\frac{ \\Delta_r }{ \\Sigma } \\left( {\\bf n} \\cdot \\hat{\\bf p} \\right)^{2} \\right)\n",
    "\\end{align*}\n",
    "\n",
    "We group together and compute $Q-1$ in [this cell](#q) and $\\frac{ \\Delta_r }{ \\Sigma } \\left( {\\bf n} \\cdot \\hat{\\bf p} \\right)^{2}$ in [this cell](#drsipn2); we define $r$ in [this cell](#r), $\\eta$ in [this cell](#eta), and $M$ in [this cell](#m) below."
   ]
  },
  {
   "cell_type": "code",
   "execution_count": 36,
   "metadata": {},
   "outputs": [
    {
     "name": "stdout",
     "output_type": "stream",
     "text": [
      "Appending to SEOBNR/Hamiltonian-Hreal_on_top.txt\n"
     ]
    }
   ],
   "source": [
    "%%writefile -a SEOBNR/Hamiltonian-Hreal_on_top.txt\n",
    "\n",
    "sigmastarcoeffTerm1 = eta/12*(14*M/r + 4*Qminus1 - 30*DrSinp2)"
   ]
  },
  {
   "cell_type": "markdown",
   "metadata": {},
   "source": [
    "<a id='sigmastarcoeffterm2'></a>\n",
    "\n",
    "### Step 9.c.ii: $\\boldsymbol{\\sigma}^{*}$ Coefficient Term 2 \\[Back to [top](#toc)\\]\n",
    "$$\\label{sigmastarcoeffterm2}$$\n",
    "\n",
    "We build this term from [BB2011](https://arxiv.org/abs/1107.2904) Equation (52) with all $b_{i} = 0$, $i \\in \\left\\{0, 1, 2, 3\\right\\}$ (<font color='red'>why?</font>), and just the coefficient on $\\boldsymbol{\\sigma}^{*}$.  In the LALSuite code this is the variable 'sMultiplier1':\n",
    "\n",
    "\\begin{align*}\n",
    "    \\boldsymbol{\\sigma}^{*}\\ {\\rm coefficient\\ Term\\ 2} &= \\frac{1}{36} \\left( 353 \\eta - 27 \\eta^2 \\right) \\left( \\frac{M}{r} \\right)^{2} + \\frac{5}{3} \\left( 3 \\eta^2 \\right) \\frac{ \\Delta_{r}^{2} }{ \\Sigma^{2} } \\left( {\\bf n} \\cdot \\hat{\\bf p} \\right)^{4} \\\\\n",
    "            &\\ \\ \\ \\ \\ + \\frac{1}{72} \\left( -23 \\eta -3 \\eta^{2} \\right) \\left( Q - 1 \\right)^{2} + \\frac{1}{36} \\left( -103 \\eta + 60 \\eta^{2} \\right) \\frac{M}{r} \\left( Q - 1 \\right) \\\\\n",
    "            &\\ \\ \\ \\ \\ + \\frac{1}{12} \\left( 16 \\eta - 21 \\eta^{2} \\right) \\frac{ \\Delta_{r} }{ \\Sigma } \\left( {\\bf n} \\cdot \\hat{\\bf p} \\right)^{2} \\left( Q - 1 \\right) + \\frac{1}{12} \\left( 47 \\eta - 54 \\eta^{2} \\right) \\frac{M}{r} \\frac{ \\Delta_{r} }{ \\Sigma } \\left( {\\bf n} \\cdot \\hat{\\bf p} \\right)^{2} \\\\\n",
    "        &= \\frac{ \\eta }{ 72 r^{2} } \\left[ \\left( 706 - 54 \\eta \\right) M^{2} + 360 \\eta r^{2} \\frac{ \\Delta_{r}^{2} }{ \\Sigma^{2} } \\left( {\\bf n} \\cdot \\hat{\\bf p} \\right)^{4} + r^{2} \\left( -23 - 3 \\eta \\right) \\left( Q - 1 \\right)^{2} + \\left( -206 + 120 \\eta \\right) M r \\left( Q - 1 \\right) \\right. \\\\\n",
    "            &\\ \\ \\ \\ \\ + \\left. \\left( 96 - 126 \\eta \\right) r^{2} \\frac{ \\Delta_{r} }{ \\Sigma } \\left( {\\bf n} \\cdot \\hat{\\bf p} \\right)^{2} \\left( Q - 1 \\right) + \\left( 282 - 324 \\eta \\right) M r \\frac{ \\Delta_{r} }{ \\Sigma } \\left( {\\bf n} \\cdot \\hat{\\bf p} \\right)^{2} \\right] \\\\\n",
    "        &= \\frac{ \\eta }{ 72 r^{2} } \\left[ 706 + r \\left( -206 M \\left( Q - 1 \\right) + 282 M \\frac{ \\Delta_{r} }{ \\Sigma } \\left( {\\bf n} \\cdot \\hat{\\bf p} \\right)^{2} + r \\left( Q -1 \\right) \\left( 96 \\frac{ \\Delta_{r} }{ \\Sigma } \\left( {\\bf n} \\cdot \\hat{\\bf p} \\right)^{2} - 23 \\left( Q - 1 \\right) \\right) \\right) \\right. \\\\\n",
    "            &\\ \\ \\ \\ \\ + \\left. \\eta \\left( 54 M^{2} + r \\left( 120 M \\left( Q -1 \\right) - 324 M \\frac{ \\Delta_{r} }{ \\Sigma } \\left( {\\bf n} \\cdot \\hat{\\bf p} \\right)^{2} \\right.\\right.\\right. \\\\\n",
    "            &\\ \\ \\ \\ \\ + \\left.\\left.\\left. r \\left( 360 \\frac{ \\Delta_{r}^{2} }{ \\Sigma^{2} } \\left( {\\bf n} \\cdot \\hat{\\bf p} \\right)^{4} + \\left( Q - 1 \\right) \\left( -126 \\frac{ \\Delta_{r} }{ \\Sigma } \\left( {\\bf n} \\cdot \\hat{\\bf p} \\right)^{2} - 3 \\left( Q - 1 \\right) \\right) \\right)\\right) \\right) \\right]\n",
    "\\end{align*}\n",
    "\n",
    "We define $r$ in [this cell](#r), $\\eta$ in [this cell](#eta), and $M$ in [this cell](#m); we group together and define $Q - 1$ in [this cell](#q), and $\\frac{ \\Delta_{r} }{ \\Sigma } \\left( {\\bf n} \\cdot \\hat{\\bf p} \\right)^{2}$ in [this cell](#drsipn2)."
   ]
  },
  {
   "cell_type": "code",
   "execution_count": 37,
   "metadata": {},
   "outputs": [
    {
     "name": "stdout",
     "output_type": "stream",
     "text": [
      "Appending to SEOBNR/Hamiltonian-Hreal_on_top.txt\n"
     ]
    }
   ],
   "source": [
    "%%writefile -a SEOBNR/Hamiltonian-Hreal_on_top.txt\n",
    "\n",
    "sigmastarcoeffTerm2 = eta/(72*r*r)*(706 + r*(-206*M*Qminus1 + 282*M*DrSinp2 + r*Qminus1*(96*DrSinp2 - 23*Qminus1))\n",
    "                                    + eta*(54*M**2 + r*(120*M*Qminus1-324*M*DrSinp2\n",
    "                                                        + r*(360*DrSinp2**2 + Qminus1*(-126*DrSinp2 - 3*Qminus1)))))"
   ]
  },
  {
   "cell_type": "markdown",
   "metadata": {},
   "source": [
    "<a id='sigmastarcoeffterm3'></a>\n",
    "\n",
    "### Step 9.c.iii: $\\boldsymbol{\\sigma}^{*}$ Coefficient Term 3 \\[Back to [top](#toc)\\]\n",
    "$$\\label{sigmastarcoeffterm3}$$\n",
    "\n",
    "<font color='red'>From an unidentified source,</font>\n",
    "\n",
    "\\begin{equation*}\n",
    "    \\boldsymbol{\\sigma}^{*}\\ {\\rm coefficient\\ Term\\ 3} = \\eta d_{1} u^{3}.\n",
    "\\end{equation*}\n",
    "\n",
    "We define $\\eta$ in [this cell](#eta), $u$ in [this cell](#u), and we do not know the origin of $d_{1}$."
   ]
  },
  {
   "cell_type": "code",
   "execution_count": 38,
   "metadata": {},
   "outputs": [
    {
     "name": "stdout",
     "output_type": "stream",
     "text": [
      "Appending to SEOBNR/Hamiltonian-Hreal_on_top.txt\n"
     ]
    }
   ],
   "source": [
    "%%writefile -a SEOBNR/Hamiltonian-Hreal_on_top.txt\n",
    "\n",
    "sigmastarcoeffTerm3 = d1*eta*sigmaStar1/(r*r*r)"
   ]
  },
  {
   "cell_type": "markdown",
   "metadata": {},
   "source": [
    "<a id='sigmacoeff'></a>\n",
    "\n",
    "## Step 9.d: $\\boldsymbol{\\sigma}$ coefficient \\[Back to [top](#toc)\\]\n",
    "$$\\label{sigmacoeff}$$\n",
    "\n",
    "We will break down $\\boldsymbol{\\sigma}\\ {\\rm coefficient}$ into three terms:\n",
    "\n",
    "\\begin{equation*}\n",
    "    \\boldsymbol{\\sigma}\\ {\\rm coefficient} = \\boldsymbol{\\sigma}\\ {\\rm coefficient\\ Term\\ 1} + \\boldsymbol{\\sigma}\\ {\\rm coefficient\\ Term\\ 2} + \\boldsymbol{\\sigma}\\ {\\rm coefficient\\ Term\\ 3}\n",
    "\\end{equation*}\n",
    "\n",
    "We compute $\\boldsymbol{\\sigma}$ coefficient Term 1 in [this cell](#sigmacoeffterm1), $\\boldsymbol{\\sigma}$ coefficient Term 2 in [this cell](#sigmacoeffterm2), and $\\boldsymbol{\\sigma}$ coefficient Term 3 in [this cell](#sigmacoeffterm3)."
   ]
  },
  {
   "cell_type": "code",
   "execution_count": 39,
   "metadata": {},
   "outputs": [
    {
     "name": "stdout",
     "output_type": "stream",
     "text": [
      "Appending to SEOBNR/Hamiltonian-Hreal_on_top.txt\n"
     ]
    }
   ],
   "source": [
    "%%writefile -a SEOBNR/Hamiltonian-Hreal_on_top.txt\n",
    "\n",
    "sigmacoeff = sigmacoeffTerm1 + sigmacoeffTerm2 + sigmacoeffTerm3"
   ]
  },
  {
   "cell_type": "markdown",
   "metadata": {},
   "source": [
    "<a id='sigmacoeffterm1'></a>\n",
    "\n",
    "### Step 9.d.i: $\\boldsymbol{\\sigma}$ Coefficient Term 1 \\[Back to [top](#toc)\\]\n",
    "$$\\label{sigmacoeffterm1}$$\n",
    "\n",
    "We build this term from [BB2011](https://arxiv.org/abs/1107.2904) Equation (51) with $a_{0} = 0$ (<font color='red'>why?</font>), where what is listed below is the coefficient on $\\boldsymbol{\\sigma}$:\n",
    "\n",
    "\\begin{align*}\n",
    "    \\boldsymbol{\\sigma}\\ {\\rm coefficient\\ Term\\ 1} &= -\\frac{2}{3} \\eta \\frac{ M }{ r } + \\frac{1}{4} \\eta \\left( Q - 1 \\right) - 3 \\eta \\frac{ \\Delta_r }{ \\Sigma } \\left( {\\bf n} \\cdot \\hat{\\bf p} \\right)^{2} \\\\\n",
    "        &= \\frac{ \\eta }{ 12 } \\left( -8 \\frac{ M }{ r } + 3 \\left( Q - 1 \\right) - 36 \\smash[b]{\\underbrace{ \\frac{ \\Delta_r }{ \\Sigma } \\left( {\\bf n} \\cdot \\hat{\\bf p} \\right)^{2} }_{\\rm DrSipn2}} \\vphantom{\\underbrace{a}_{b}} \\right)\n",
    "\\end{align*}\n",
    "\n",
    "We define $\\eta$ in [this cell](#eta), $M$ in [this cell](#m), $Q-1$ in [this cell](#q), and $\\frac{ \\Delta_r }{ \\Sigma } \\left( {\\bf n} \\cdot \\hat{\\bf p} \\right)^{2}$ in [this cell](#drsipn2)."
   ]
  },
  {
   "cell_type": "code",
   "execution_count": 40,
   "metadata": {},
   "outputs": [
    {
     "name": "stdout",
     "output_type": "stream",
     "text": [
      "Appending to SEOBNR/Hamiltonian-Hreal_on_top.txt\n"
     ]
    }
   ],
   "source": [
    "%%writefile -a SEOBNR/Hamiltonian-Hreal_on_top.txt\n",
    "\n",
    "sigmacoeffTerm1 = eta/12*(-8*M/r + 3*Qminus1 - 36*DrSinp2)"
   ]
  },
  {
   "cell_type": "markdown",
   "metadata": {},
   "source": [
    "<a id='sigmacoeffterm2'></a>\n",
    "\n",
    "### Step 9.d.ii: $\\boldsymbol{\\sigma}$ Coefficient Term 2 \\[Back to [top](#toc)\\]\n",
    "$$\\label{sigmacoeffterm2}$$\n",
    "\n",
    "We build this term from [BB2011](https://arxiv.org/abs/1107.2904) Equation (52) with all $a_{i} = 0$, $i \\in \\left\\{0, 1, 2, 3\\right\\}$ (<font color='red'>why?</font>), and just the coefficient on $\\boldsymbol{\\sigma}$:\n",
    "\n",
    "\\begin{align*}\n",
    "    \\boldsymbol{\\sigma}\\ {\\rm coefficient\\ Term\\ 2} &= \\frac{1}{9} \\left( -56 \\eta -21 \\eta^{2} \\right) \\left( \\frac{ M }{ r } \\right)^{2} + \\frac{5}{24} \\left( 27 \\eta^{2} \\right) \\frac{ \\Delta_r^{2} }{ \\Sigma^{2} } \\left( {\\bf n} \\cdot \\hat{\\bf p} \\right)^{4} \\\\\n",
    "            &\\ \\ \\ \\ \\ + \\frac{1}{144} \\left(-45 \\eta \\right) \\left( Q - 1 \\right)^{2} + \\frac{1}{36} \\left( -109 \\eta + 51 \\eta^{2} \\right) \\frac{ M }{ r } \\left( Q - 1 \\right) \\\\\n",
    "        &\\ \\ \\ \\ \\ + \\frac{1}{24} \\left( 6 \\eta - 39\\eta^{2} \\right) \\frac{ \\Delta_{r} }{ \\Sigma } \\left( {\\bf n} \\cdot \\hat{\\bf p} \\right)^{2} \\left( Q - 1 \\right) + \\frac{1}{24} \\left( -16 \\eta - 147 \\eta^{2} \\right) \\frac{ M }{ r } \\frac{ \\Delta_{r} }{ \\Sigma } \\left( {\\bf n} \\cdot \\hat{\\bf p} \\right)^{2} \\\\\n",
    "        &= \\frac{ \\eta }{ 144 r^{2} } \\left[ -896 M^{2} + r \\left( -436 M \\left( Q - 1 \\right) - 96 M \\frac{ \\Delta_{r} }{ \\Sigma } \\left( {\\bf n} \\cdot \\hat{\\bf p} \\right)^{2} \\right.\\right. \\\\\n",
    "            &\\ \\ \\ \\ \\ \\left.\\left. + r \\left( -45 \\left( Q - 1 \\right)^{2} + 36 \\left( Q - 1 \\right) \\frac{ \\Delta_{r} }{ \\Sigma } \\left( {\\bf n} \\cdot \\hat{\\bf p} \\right)^{2} \\right) \\right) + \\eta \\left( -336 M^{2} + r \\left( 204 M \\left( Q -1 \\right) - 882 M \\frac{ \\Delta_{r} }{ \\Sigma } \\left( {\\bf n} \\cdot \\hat{\\bf p} \\right)^{2} \\right.\\right.\\right. \\\\\n",
    "            &\\ \\ \\ \\ \\ \\left.\\left.\\left. + r \\left( 810 \\frac{ \\Delta_{r}^{2} }{ \\Sigma^{2} } \\left( {\\bf n} \\cdot \\hat{\\bf p} \\right)^{4}  - 234 \\left( Q - 1 \\right) \\frac{ \\Delta_{r} }{ \\Sigma } \\left( {\\bf n} \\cdot \\hat{\\bf p} \\right)^{2} \\right) \\right) \\right) \\right]\n",
    "\\end{align*}\n",
    "\n",
    "We define $\\eta$ in [this cell](#eta), $M$ in [this cell](#M), $Q - 1$ in [this cell](#q), and $\\frac{ \\Delta_{r} }{ \\Sigma } \\left( {\\bf n} \\cdot \\hat{\\bf p} \\right)^{2}$ in [this cell](#drsipn2)."
   ]
  },
  {
   "cell_type": "code",
   "execution_count": 41,
   "metadata": {},
   "outputs": [
    {
     "name": "stdout",
     "output_type": "stream",
     "text": [
      "Appending to SEOBNR/Hamiltonian-Hreal_on_top.txt\n"
     ]
    }
   ],
   "source": [
    "%%writefile -a SEOBNR/Hamiltonian-Hreal_on_top.txt\n",
    "\n",
    "sigmacoeffTerm2 = eta/(144*r**2)*(-896*M**2 + r*(-436*Qminus1 - 96*M*DrSinp2 + r*(-45*Qminus1**2 + 36*Qminus1*DrSinp2))\n",
    "                                 + eta*(-336*M**2 + r*(204*M*Qminus1 - 882*M*DrSinp2 + r*(810*DrSinp2**2 - 234*Qminus1*DrSinp2))))"
   ]
  },
  {
   "cell_type": "markdown",
   "metadata": {},
   "source": [
    "<a id='sigmacoeffterm3'></a>\n",
    "\n",
    "### Step 9.d.iii: $\\boldsymbol{\\sigma}$ Coefficient Term 3 \\[Back to [top](#toc)\\]\n",
    "$$\\label{sigmacoeffterm3}$$\n",
    "\n",
    "<font color='red'>From an unidentified source,</font>\n",
    "\n",
    "\\begin{equation*}\n",
    "    \\boldsymbol{\\sigma}\\ {\\rm coefficient\\ Term\\ 3} = \\eta d_{v1} u^{3}.\n",
    "\\end{equation*}\n",
    "\n",
    "We define $\\eta$ in [this cell](#eta), $u$ in [this cell](#u), and we do not know the origin of $dv_{1}$."
   ]
  },
  {
   "cell_type": "code",
   "execution_count": 42,
   "metadata": {},
   "outputs": [
    {
     "name": "stdout",
     "output_type": "stream",
     "text": [
      "Appending to SEOBNR/Hamiltonian-Hreal_on_top.txt\n"
     ]
    }
   ],
   "source": [
    "%%writefile -a SEOBNR/Hamiltonian-Hreal_on_top.txt\n",
    "\n",
    "sigmacoeffTerm3 = eta*dv1"
   ]
  },
  {
   "cell_type": "markdown",
   "metadata": {},
   "source": [
    "<a id='metpotderivs'></a>\n",
    "\n",
    "# Step 10: Derivatives of the Metric Potential \\[Back to [top](#toc)\\]\n",
    "$$\\label{metpotderivs}$$\n",
    "\n",
    "We collect here terms dependent on derivatives of the metric potential (see [BB2010](https://arxiv.org/abs/0912.3517) Equations (5.47))."
   ]
  },
  {
   "cell_type": "markdown",
   "metadata": {},
   "source": [
    "<a id='omegar'></a>\n",
    "\n",
    "## Step 10.a: $\\omega_{r}$ \\[Back to [top](#toc)\\]\n",
    "$$\\label{omegar}$$\n",
    "\n",
    "From [BB2010](https://arxiv.org/abs/0912.3517) Equation (5.47b) we have\n",
    "\n",
    "\\begin{equation*}\n",
    "    \\omega_{r} = \\frac{ \\Lambda_{t} \\tilde{\\omega}_{\\rm fd}^{\\prime} - \\Lambda_{t}^{\\prime} \\tilde{\\omega}_{\\rm fd} }{ \\Lambda_{t}^{2} }.\n",
    "\\end{equation*}\n",
    "\n",
    "We define $\\Lambda_{t}$ in [this cell](#lambdat), $\\tilde{\\omega}_{\\rm fd}^{\\prime}$ in [this cell](#omegatildeprm), $\\Lambda_{t}^{\\prime}$ in [this cell](#lambdatprm), and $\\tilde{\\omega}_{\\rm fd}$ in [this cell](#omegatilde)."
   ]
  },
  {
   "cell_type": "code",
   "execution_count": 43,
   "metadata": {},
   "outputs": [
    {
     "name": "stdout",
     "output_type": "stream",
     "text": [
      "Appending to SEOBNR/Hamiltonian-Hreal_on_top.txt\n"
     ]
    }
   ],
   "source": [
    "%%writefile -a SEOBNR/Hamiltonian-Hreal_on_top.txt\n",
    "\n",
    "omegar = (Lambdat*omegatildeprm - Lambdatprm*omegatilde)/(Lambdat*Lambdat)"
   ]
  },
  {
   "cell_type": "markdown",
   "metadata": {},
   "source": [
    "<a id='nur'></a>\n",
    "\n",
    "## Step 10.b: $\\nu_{r}$ \\[Back to [top](#toc)\\]\n",
    "$$\\label{nur}$$\n",
    "\n",
    "From [BB2010](https://arxiv.org/abs/0912.3517) Equation (5.47c) we have\n",
    "\n",
    "\\begin{equation*}\n",
    "    \\nu_{r} =  \\frac{ r }{ \\Sigma } + \\frac{ \\varpi^{2} \\left( \\varpi^{2} \\Delta^{\\prime}_{t} - 4 r \\Delta_{t} \\right) }{ 2 \\Lambda_{t} \\Delta_{t} }.\n",
    "\\end{equation*}\n",
    "\n",
    "We define $r$ in [this cell](#r), $\\Sigma$ in [this cell](#usigma), $\\varpi^{2}$ in [this cell](#w2), $\\Delta_{t}^{\\prime}$ in [this cell](#deltatprm), $\\Delta_{t}$ in [this cell](#deltat), and $\\Lambda_{t}$ in [this cell](#lambdat)."
   ]
  },
  {
   "cell_type": "code",
   "execution_count": 44,
   "metadata": {},
   "outputs": [
    {
     "name": "stdout",
     "output_type": "stream",
     "text": [
      "Appending to SEOBNR/Hamiltonian-Hreal_on_top.txt\n"
     ]
    }
   ],
   "source": [
    "%%writefile -a SEOBNR/Hamiltonian-Hreal_on_top.txt\n",
    "\n",
    "nur = r/Sigma + w2*(w2*Deltatprm - 4*r*Deltat)/(2*Lambdat*Deltat)"
   ]
  },
  {
   "cell_type": "markdown",
   "metadata": {},
   "source": [
    "<a id='mur'></a>\n",
    "\n",
    "## Step 10.c: $\\mu_{r}$ \\[Back to [top](#toc)\\]\n",
    "$$\\label{mur}$$\n",
    "\n",
    "From [BB2010](https://arxiv.org/abs/0912.3517) Equation (5.47d) we have\n",
    "\n",
    "\\begin{equation*}\n",
    "    \\mu_{r} =  \\frac{ r }{ \\Sigma } - \\frac{ 1 }{ \\sqrt{ \\Delta_{r} } }.\n",
    "\\end{equation*}\n",
    "\n",
    "We define $r$ in [this cell](#r), $\\Sigma$ in [this cell](#usigma), and $\\Delta_{r}$ in [this cell](#deltar)."
   ]
  },
  {
   "cell_type": "code",
   "execution_count": 45,
   "metadata": {},
   "outputs": [
    {
     "name": "stdout",
     "output_type": "stream",
     "text": [
      "Appending to SEOBNR/Hamiltonian-Hreal_on_top.txt\n"
     ]
    }
   ],
   "source": [
    "%%writefile -a SEOBNR/Hamiltonian-Hreal_on_top.txt\n",
    "\n",
    "mur = r/Sigma - 1/sp.sqrt(Deltar)"
   ]
  },
  {
   "cell_type": "markdown",
   "metadata": {},
   "source": [
    "<a id='omegacostheta'></a>\n",
    "\n",
    "## Step 10.d: $\\omega_{\\cos\\theta}$ \\[Back to [top](#toc)\\]\n",
    "$$\\label{omegacostheta}$$\n",
    "\n",
    "From [BB2010](https://arxiv.org/abs/0912.3517) Equation (5.47f), we have\n",
    "\n",
    "\\begin{equation*}\n",
    "    \\omega_{\\cos\\theta} = -\\frac{ 2 a^{2} \\cos\\theta \\Delta_{t} \\tilde{\\omega}_{\\rm fd} }{ \\Lambda_{t}^{2} }.\n",
    "\\end{equation*}\n",
    "\n",
    "We define $a$ in [this cell](#a), $\\cos\\theta$ in [this cell](#costheta), $\\Delta_{t}$ in [this cell](#deltat), $\\tilde{\\omega}_{\\rm fd}$ in [this cell](#omegatilde), and $\\Lambda_{t}$ in [this cell](#lambdat)."
   ]
  },
  {
   "cell_type": "code",
   "execution_count": 46,
   "metadata": {},
   "outputs": [
    {
     "name": "stdout",
     "output_type": "stream",
     "text": [
      "Appending to SEOBNR/Hamiltonian-Hreal_on_top.txt\n"
     ]
    }
   ],
   "source": [
    "%%writefile -a SEOBNR/Hamiltonian-Hreal_on_top.txt\n",
    "\n",
    "omegacostheta = -2*a*a*costheta*Deltat*omegatilde/(Lambdat*Lambdat)"
   ]
  },
  {
   "cell_type": "markdown",
   "metadata": {},
   "source": [
    "<a id='nucostheta'></a>\n",
    "\n",
    "## Step 10.e: $\\nu_{\\cos\\theta}$ \\[Back to [top](#toc)\\]\n",
    "$$\\label{nucostheta}$$\n",
    "\n",
    "From [BB2010](https://arxiv.org/abs/0912.3517) Equation (5.47g) we have\n",
    "\n",
    "\\begin{equation*}\n",
    "    \\nu_{\\cos\\theta} = \\frac{ a^{2} \\varpi^{2} \\cos\\theta \\left( \\varpi^{2} - \\Delta_{t} \\right) }{ \\Lambda_{t} \\Sigma }.\n",
    "\\end{equation*}\n",
    "\n",
    "We define $a$ in [this cell](#a), $\\varpi^{2}$ in [this cell](#w2), $\\cos\\theta$ in [this cell](#costheta), $\\Delta_{t}$ in [this cell](#deltat), $\\Lambda_{t}$ in [this cell](#lambdat), and $\\Sigma$ in [this cell](#usigma)."
   ]
  },
  {
   "cell_type": "code",
   "execution_count": 47,
   "metadata": {},
   "outputs": [
    {
     "name": "stdout",
     "output_type": "stream",
     "text": [
      "Appending to SEOBNR/Hamiltonian-Hreal_on_top.txt\n"
     ]
    }
   ],
   "source": [
    "%%writefile -a SEOBNR/Hamiltonian-Hreal_on_top.txt\n",
    "\n",
    "nucostheta = a*a*w2*costheta*(w2 - Deltat)/(Lambdat*Sigma)"
   ]
  },
  {
   "cell_type": "markdown",
   "metadata": {},
   "source": [
    "<a id='mucostheta'></a>\n",
    "\n",
    "## Step 10.f: $\\mu_{\\cos \\theta}$ \\[Back to [top](#toc)\\]\n",
    "$$\\label{mucostheta}$$\n",
    "\n",
    "From [BB2010](https://arxiv.org/abs/0912.3517) Equation (5.47h) we have\n",
    "\n",
    "\\begin{equation*}\n",
    "    \\mu_{\\cos \\theta} =  \\frac{ a^{2} \\cos \\theta }{ \\Sigma }.\n",
    "\\end{equation*}\n",
    "\n",
    "We define $a$ in [this cell](#a), $\\cos \\theta$ in [this cell](#costheta), and $\\Sigma$ in [this cell](#usigma) below."
   ]
  },
  {
   "cell_type": "code",
   "execution_count": 48,
   "metadata": {},
   "outputs": [
    {
     "name": "stdout",
     "output_type": "stream",
     "text": [
      "Appending to SEOBNR/Hamiltonian-Hreal_on_top.txt\n"
     ]
    }
   ],
   "source": [
    "%%writefile -a SEOBNR/Hamiltonian-Hreal_on_top.txt\n",
    "\n",
    "mucostheta = a*a*costheta/Sigma"
   ]
  },
  {
   "cell_type": "markdown",
   "metadata": {},
   "source": [
    "<a id='lambdatprm'></a>\n",
    "\n",
    "## Step 10.g: $\\Lambda_{t}^{\\prime}$ \\[Back to [top](#toc)\\]\n",
    "$$\\label{lambdatprm}$$\n",
    "\n",
    "From the discussion after [BB2010](https://arxiv.org/abs/0912.3517) Equations (5.47), we know that the prime notation indicates a derivative with respect to $r$.  Using the definiton of $\\Lambda_{t}$ in [this cell](#lambdat), we have\n",
    "\n",
    "\\begin{equation*}\n",
    "    \\Lambda_{t}^{\\prime} = 4 \\left( a^{2} + r^{2} \\right) r - 2 a^{2} r \\Delta_{u} \\sin^{2} \\theta.\n",
    "\\end{equation*}\n",
    "\n",
    "We define $a$ in [this cell](#a), $r$ in [this cell](#r), $\\Delta_{u}$ in [this cell](#deltau), and $\\sin^{2}\\theta$ in [this cell](#sin2theta)."
   ]
  },
  {
   "cell_type": "code",
   "execution_count": 49,
   "metadata": {},
   "outputs": [
    {
     "name": "stdout",
     "output_type": "stream",
     "text": [
      "Appending to SEOBNR/Hamiltonian-Hreal_on_top.txt\n"
     ]
    }
   ],
   "source": [
    "%%writefile -a SEOBNR/Hamiltonian-Hreal_on_top.txt\n",
    "\n",
    "Lambdatprm = 4*(a*a + r*r)*r - 2*a*a*r*Deltau*sin2theta"
   ]
  },
  {
   "cell_type": "markdown",
   "metadata": {},
   "source": [
    "<a id='omegatildeprm'></a>\n",
    "\n",
    "## Step 10.h: $\\tilde{\\omega}_{\\rm fd}^{\\prime}$ \\[Back to [top](#toc)\\]\n",
    "$$\\label{omegatildeprm}$$\n",
    "\n",
    "From the discussion after [BB2010](https://arxiv.org/abs/0912.3517) Equation (5.47), we know that the prime notation indicates a derivative with respect to $r$.  Using the definiton of $\\tilde{\\omega}_{\\rm fd}$ in [this cell](#omegatilde), we have\n",
    "\n",
    "\\begin{equation*}\n",
    "    \\tilde{\\omega}_{\\rm fd}^{\\prime} = 2 a M.\n",
    "\\end{equation*}\n",
    "\n",
    "We define $a$ in [this cell](#a) and $M$ in [this cell](#m)."
   ]
  },
  {
   "cell_type": "code",
   "execution_count": 50,
   "metadata": {},
   "outputs": [
    {
     "name": "stdout",
     "output_type": "stream",
     "text": [
      "Appending to SEOBNR/Hamiltonian-Hreal_on_top.txt\n"
     ]
    }
   ],
   "source": [
    "%%writefile -a SEOBNR/Hamiltonian-Hreal_on_top.txt\n",
    "\n",
    "omegatildeprm = 2*a*M"
   ]
  },
  {
   "cell_type": "markdown",
   "metadata": {},
   "source": [
    "<a id='metpots'></a>\n",
    "\n",
    "# Step 11: The Deformed and Rescaled Metric Potentials \\[Back to [top](#toc)\\]\n",
    "$$\\label{metpots}$$\n",
    "\n",
    "We collect here terms of the deformed and scaled metric potentils.  See [BB2010](https://arxiv.org/abs/0912.3517) Equations (5.30)--(5.34) and (5.48)--(5.52)."
   ]
  },
  {
   "cell_type": "markdown",
   "metadata": {},
   "source": [
    "<a id='omega'></a>\n",
    "\n",
    "## Step 11.a: $\\omega$ \\[Back to [top](#toc)\\]\n",
    "$$\\label{omega}$$\n",
    "\n",
    "From [BB2010](https://arxiv.org/abs/0912.3517) Equation (5.31) we have\n",
    "\n",
    "\\begin{equation*}\n",
    "    \\omega = \\frac{ \\tilde{\\omega}_{\\rm fd} }{ \\Lambda_{t} }.\n",
    "\\end{equation*}\n",
    "\n",
    "We define $\\tilde{\\omega}_{\\rm fd}$ in [this cell](#omegatilde) and $\\Lambda_{t}$ in [this cell](#lambdat)."
   ]
  },
  {
   "cell_type": "code",
   "execution_count": 51,
   "metadata": {},
   "outputs": [
    {
     "name": "stdout",
     "output_type": "stream",
     "text": [
      "Appending to SEOBNR/Hamiltonian-Hreal_on_top.txt\n"
     ]
    }
   ],
   "source": [
    "%%writefile -a SEOBNR/Hamiltonian-Hreal_on_top.txt\n",
    "\n",
    "omega = omegatilde/Lambdat"
   ]
  },
  {
   "cell_type": "markdown",
   "metadata": {},
   "source": [
    "<a id='exp2nu'></a>\n",
    "\n",
    "## Step 11.b: $e^{2\\nu}$ and $e^{\\nu}$ \\[Back to [top](#toc)\\]\n",
    "$$\\label{exp2nu}$$\n",
    "\n",
    "From [BB2010](https://arxiv.org/abs/0912.3517) Equation (5.32), we have\n",
    "\n",
    "\\begin{equation*}\n",
    "    e^{2 \\nu} = \\frac{ \\Delta_{t} \\Sigma }{ \\Lambda_t }.\n",
    "\\end{equation*}\n",
    "\n",
    "It follows that\n",
    "\n",
    "\\begin{equation*}\n",
    "    e^{\\nu} = \\sqrt{ \\frac{ \\Delta_{t} \\Sigma }{ \\Lambda_t } }.\n",
    "\\end{equation*}\n",
    "\n",
    "We define $\\Delta_{t}$ in [this cell](#deltat), $\\Sigma$ in [this cell](#usigma), and $\\Lambda_{t}$ in [this cell](#lambdat)."
   ]
  },
  {
   "cell_type": "code",
   "execution_count": 52,
   "metadata": {},
   "outputs": [
    {
     "name": "stdout",
     "output_type": "stream",
     "text": [
      "Appending to SEOBNR/Hamiltonian-Hreal_on_top.txt\n"
     ]
    }
   ],
   "source": [
    "%%writefile -a SEOBNR/Hamiltonian-Hreal_on_top.txt\n",
    "\n",
    "expnu = sp.sqrt(exp2nu)\n",
    "exp2nu = Deltat*Sigma/Lambdat"
   ]
  },
  {
   "cell_type": "markdown",
   "metadata": {},
   "source": [
    "<a id='btilde'></a>\n",
    "\n",
    "## Step 11.c: $\\tilde{B}$ \\[Back to [top](#toc)\\]\n",
    "$$\\label{btilde}$$\n",
    "\n",
    "From [BB2010](https://arxiv.org/abs/0912.3517) Equation (5.48), we have\n",
    "\n",
    "\\begin{equation*}\n",
    "    \\tilde{B} = \\sqrt{ \\Delta_{t} }.\n",
    "\\end{equation*}\n",
    "\n",
    "We define $\\Delta_{t}$ in [this cell](#deltat)."
   ]
  },
  {
   "cell_type": "code",
   "execution_count": 53,
   "metadata": {},
   "outputs": [
    {
     "name": "stdout",
     "output_type": "stream",
     "text": [
      "Appending to SEOBNR/Hamiltonian-Hreal_on_top.txt\n"
     ]
    }
   ],
   "source": [
    "%%writefile -a SEOBNR/Hamiltonian-Hreal_on_top.txt\n",
    "\n",
    "Btilde = sp.sqrt(Deltat)"
   ]
  },
  {
   "cell_type": "markdown",
   "metadata": {},
   "source": [
    "<a id='brtilde'></a>\n",
    "\n",
    "## Step 11.d: $\\tilde{B}_{r}$ \\[Back to [top](#toc)\\]\n",
    "$$\\label{brtilde}$$\n",
    "\n",
    "From [BB2010](https://arxiv.org/abs/0912.3517) Equation (5.49), we have\n",
    "\n",
    "\\begin{equation*}\n",
    "    \\tilde{B}_{r} = \\frac{ \\sqrt{ \\Delta_{r} } \\Delta_{t}^{\\prime} - 2 \\Delta_{t} }{ 2 \\sqrt{ \\Delta_{r} \\Delta_{t} } }.\n",
    "\\end{equation*}\n",
    "\n",
    "We define $\\Delta_{r}$ in [this cell](#deltar), $\\Delta_{t}^{\\prime}$ in [this cell](#deltatprm), and $\\Delta_{t}$ in [this cell](#deltat)."
   ]
  },
  {
   "cell_type": "code",
   "execution_count": 54,
   "metadata": {},
   "outputs": [
    {
     "name": "stdout",
     "output_type": "stream",
     "text": [
      "Appending to SEOBNR/Hamiltonian-Hreal_on_top.txt\n"
     ]
    }
   ],
   "source": [
    "%%writefile -a SEOBNR/Hamiltonian-Hreal_on_top.txt\n",
    "\n",
    "Brtilde = (sp.sqrt(Deltar)*Deltatprm - 2*Deltat)/(2*sp.sqrt(Deltar*Deltat))"
   ]
  },
  {
   "cell_type": "markdown",
   "metadata": {},
   "source": [
    "<a id='exp2mu'></a>\n",
    "\n",
    "## Step 11.e: $e^{2\\tilde{\\mu}}$ and $e^{\\tilde{\\mu}}$ \\[Back to [top](#toc)\\]\n",
    "$$\\label{exp2mu}$$\n",
    "\n",
    "From [BB2010](https://arxiv.org/abs/0912.3517) Equation (5.50), we have\n",
    "\n",
    "\\begin{equation*}\n",
    "    e^{2 \\tilde{\\mu}} = \\Sigma.\n",
    "\\end{equation*}\n",
    "\n",
    "It follows that\n",
    "\n",
    "\\begin{equation*}\n",
    "    e^{\\tilde{\\mu}} = \\sqrt{ \\Sigma }.\n",
    "\\end{equation*}\n",
    "\n",
    "\n",
    "We define $\\Sigma$ in [this cell](#usigma)."
   ]
  },
  {
   "cell_type": "code",
   "execution_count": 55,
   "metadata": {},
   "outputs": [
    {
     "name": "stdout",
     "output_type": "stream",
     "text": [
      "Appending to SEOBNR/Hamiltonian-Hreal_on_top.txt\n"
     ]
    }
   ],
   "source": [
    "%%writefile -a SEOBNR/Hamiltonian-Hreal_on_top.txt\n",
    "\n",
    "expnu = sp.sqrt(exp2mu)\n",
    "exp2mu = Sigma"
   ]
  },
  {
   "cell_type": "markdown",
   "metadata": {},
   "source": [
    "<a id='jtilde'></a>\n",
    "\n",
    "## Step 11.f: $\\tilde{J}$ \\[Back to [top](#toc)\\]\n",
    "$$\\label{jtilde}$$\n",
    "\n",
    "From [BB2010](https://arxiv.org/abs/0912.3517) Equation (5.51) we have\n",
    "\n",
    "\\begin{equation*}\n",
    "    \\tilde{J} = \\sqrt{ \\Delta_{r} }.\n",
    "\\end{equation*}\n",
    "\n",
    "We define $\\Delta_{r}$ in [this cell](#deltar) below."
   ]
  },
  {
   "cell_type": "code",
   "execution_count": 56,
   "metadata": {},
   "outputs": [
    {
     "name": "stdout",
     "output_type": "stream",
     "text": [
      "Appending to SEOBNR/Hamiltonian-Hreal_on_top.txt\n"
     ]
    }
   ],
   "source": [
    "%%writefile -a SEOBNR/Hamiltonian-Hreal_on_top.txt\n",
    "\n",
    "Jtilde = sp.sqrt(Deltar)"
   ]
  },
  {
   "cell_type": "markdown",
   "metadata": {},
   "source": [
    "<a id='q'></a>\n",
    "\n",
    "## Step 11.g: $Q$ \\[Back to [top](#toc)\\]\n",
    "$$\\label{q}$$\n",
    "\n",
    "From [BB2010](https://arxiv.org/abs/0912.3517) Equation (5.52),\n",
    "\n",
    "\\begin{equation*}\n",
    "    Q = 1 + \\underbrace{ \\frac{ \\Delta_{r} }{ \\Sigma } \\left( \\hat{\\bf p} \\cdot {\\bf n} \\right)^{2} }_{\\rm DrSipn2} + \\underbrace{ \\frac{ \\Sigma }{ \\Lambda_t \\sin^{2} \\theta } }_{\\rm Q\\ coefficient\\ 1} \\left( \\smash[b]{ \\underbrace{ \\hat{\\bf p} \\cdot \\boldsymbol{\\xi} r }_{\\rm pdotxir} } \\right)^{2} + \\underbrace{ \\frac{ 1 }{ \\Sigma \\sin^{2} \\theta } }_{\\rm Q\\ coefficient\\ 2} \\left( \\smash[b]{ \\underbrace{ \\hat{\\bf p} \\cdot {\\bf v} r }_{\\rm pdotvr} } \\right)^{2};\n",
    "\\end{equation*}\n",
    "\n",
    "We group togther and compute $\\frac{ \\Delta_{r} }{ \\Sigma } \\left( \\hat{\\bf p} \\cdot {\\bf n} \\right)^{2}$ in [this cell](#drsipn2), $\\frac{ \\Sigma }{ \\Lambda_t \\sin^{2} \\theta }$ in [this cell](#qcoeff1), $\\hat{\\bf p} \\cdot \\boldsymbol{\\xi} r$ in [this cell](#pdotxir), $\\frac{ 1 }{ \\Sigma \\sin^{2} \\theta }$ in [this cell](#qcoeff2), and $\\hat{\\bf p} \\cdot {\\bf v} r$ in [this cell](#pdotvr)."
   ]
  },
  {
   "cell_type": "code",
   "execution_count": 57,
   "metadata": {},
   "outputs": [
    {
     "name": "stdout",
     "output_type": "stream",
     "text": [
      "Appending to SEOBNR/Hamiltonian-Hreal_on_top.txt\n"
     ]
    }
   ],
   "source": [
    "%%writefile -a SEOBNR/Hamiltonian-Hreal_on_top.txt\n",
    "\n",
    "Qminus1 = Q - 1\n",
    "Q = 1 + DrSipn2 + Qcoeff1*pdotxir*pdotxir + Qcoeff2*pdotvr*pdotvr"
   ]
  },
  {
   "cell_type": "markdown",
   "metadata": {},
   "source": [
    "<a id='drsipn2'></a>\n",
    "\n",
    "### Step 11.g.i: $\\frac{ \\Delta_{r} }{ \\Sigma } \\left( \\hat{\\bf p} \\cdot {\\bf n} \\right)^{2}$ \\[Back to [top](#toc)\\]\n",
    "$$\\label{drsipn2}$$\n",
    "\n",
    "We define $\\Delta_{r}$ in [this cell](#deltar), $\\Sigma$ in [this cell](#usigma), and $\\hat{\\bf p} \\cdot {\\bf n}$ in [this cell](#pdotn)."
   ]
  },
  {
   "cell_type": "code",
   "execution_count": 58,
   "metadata": {},
   "outputs": [
    {
     "name": "stdout",
     "output_type": "stream",
     "text": [
      "Appending to SEOBNR/Hamiltonian-Hreal_on_top.txt\n"
     ]
    }
   ],
   "source": [
    "%%writefile -a SEOBNR/Hamiltonian-Hreal_on_top.txt\n",
    "\n",
    "DrSipn2 = Deltar*pdotn*pdotn/Sigma"
   ]
  },
  {
   "cell_type": "markdown",
   "metadata": {},
   "source": [
    "<a id='qcoeff1'></a>\n",
    "\n",
    "### Step 11.g.ii: Q Coefficient 1 \\[Back to [top](#toc)\\]\n",
    "$$\\label{qcoeff1}$$\n",
    "\n",
    "We defined $Q$ coefficient 1 in [this cell](#q) as\n",
    "\n",
    "\\begin{equation*}\n",
    "    Q\\ {\\rm coefficient\\ 1} = \\frac{ \\Sigma }{ \\Lambda_t \\sin^{2} \\theta }\n",
    "\\end{equation*}\n",
    "\n",
    "We define $\\Sigma$ in [this cell](#usigma), $\\Lambda_{t}$ in [this cell](#lambdat), and $\\sin^{2} \\theta$ in [this cell](#sin2theta)."
   ]
  },
  {
   "cell_type": "code",
   "execution_count": 59,
   "metadata": {},
   "outputs": [
    {
     "name": "stdout",
     "output_type": "stream",
     "text": [
      "Appending to SEOBNR/Hamiltonian-Hreal_on_top.txt\n"
     ]
    }
   ],
   "source": [
    "%%writefile -a SEOBNR/Hamiltonian-Hreal_on_top.txt\n",
    "\n",
    "Qcoeff1 = Sigma/(Lambdat*sin2theta)"
   ]
  },
  {
   "cell_type": "markdown",
   "metadata": {},
   "source": [
    "<a id='qcoeff2'></a>\n",
    "\n",
    "### Step 11.g.iii: Q Coefficient 2 \\[Back to [top](#toc)\\]\n",
    "$$\\label{qcoeff2}$$\n",
    "\n",
    "We defined $Q$ coefficient 2 in [this cell](#q) as\n",
    "\n",
    "\\begin{equation*}\n",
    "    Q\\ {\\rm coefficient\\ 2} = \\frac{ 1 }{ \\Sigma \\sin^{2} \\theta }\n",
    "\\end{equation*}\n",
    "\n",
    "We define $\\Sigma$ in [this cell](#usigma) and $\\sin^{2} \\theta$ in [this cell](#sin2theta)."
   ]
  },
  {
   "cell_type": "code",
   "execution_count": 60,
   "metadata": {},
   "outputs": [
    {
     "name": "stdout",
     "output_type": "stream",
     "text": [
      "Appending to SEOBNR/Hamiltonian-Hreal_on_top.txt\n"
     ]
    }
   ],
   "source": [
    "%%writefile -a SEOBNR/Hamiltonian-Hreal_on_top.txt\n",
    "\n",
    "Qcoeff2 = 1/(Sigma*sin2theta)"
   ]
  },
  {
   "cell_type": "markdown",
   "metadata": {},
   "source": [
    "<a id='tort'></a>\n",
    "\n",
    "# Step 12: Tortoise Terms \\[Back to [top](#toc)\\]\n",
    "$$\\label{tort}$$\n",
    "\n",
    "We collect here terms related to the conversion from Boyer-Lindquist coordinates to tortoise coordinates.  Details of the converstion are given in the appendix of [P2010](https://arxiv.org/abs/0912.3466v2)."
   ]
  },
  {
   "cell_type": "markdown",
   "metadata": {},
   "source": [
    "<a id='pphi'></a>\n",
    "\n",
    "## Step 12.a: $p_{\\phi}$ \\[Back to [top](#toc)\\]\n",
    "$$\\label{pphi}$$\n",
    "\n",
    "From the discussion preceding [BB2010](https://arxiv.org/abs/0912.3517) Equation (3.41), the phi component of the tortoise momentum $p_{\\phi}$ is given by\n",
    "\n",
    "\\begin{equation*}\n",
    "    p_{\\phi} = \\hat{\\bf p} \\cdot \\boldsymbol{\\xi} r.\n",
    "\\end{equation*}\n",
    "\n",
    "We define $\\hat{\\bf p} \\cdot \\boldsymbol{\\xi} r$ in [this cell](#pdotxir)."
   ]
  },
  {
   "cell_type": "code",
   "execution_count": 61,
   "metadata": {},
   "outputs": [
    {
     "name": "stdout",
     "output_type": "stream",
     "text": [
      "Appending to SEOBNR/Hamiltonian-Hreal_on_top.txt\n"
     ]
    }
   ],
   "source": [
    "%%writefile -a SEOBNR/Hamiltonian-Hreal_on_top.txt\n",
    "\n",
    "pphi = pdotxir"
   ]
  },
  {
   "cell_type": "markdown",
   "metadata": {},
   "source": [
    "<a id='pdotvr'></a>\n",
    "\n",
    "## Step 12.b: $\\hat{\\bf p} \\cdot {\\bf v} r$ \\[Back to [top](#toc)\\]\n",
    "$$\\label{pdotvr}$$\n",
    "\n",
    "We have\n",
    "\n",
    "\\begin{equation*}\n",
    "    \\hat{\\bf p} \\cdot {\\bf v} r = \\left( \\hat{p}_{1} v_{1} + \\hat{p}_{2} v_{2} + \\hat{p}_{3} v_{3} \\right) r\n",
    "\\end{equation*}\n",
    "\n",
    "We define $\\hat{\\bf p}$ in [this cell](#hatp), ${\\bf v}$ in [this cell](#v), and $r$ in [this cell](#r)."
   ]
  },
  {
   "cell_type": "code",
   "execution_count": 62,
   "metadata": {},
   "outputs": [
    {
     "name": "stdout",
     "output_type": "stream",
     "text": [
      "Appending to SEOBNR/Hamiltonian-Hreal_on_top.txt\n"
     ]
    }
   ],
   "source": [
    "%%writefile -a SEOBNR/Hamiltonian-Hreal_on_top.txt\n",
    "\n",
    "pdotvr = (phat1*v1 + phat2*v2 + phat3*v3)*r"
   ]
  },
  {
   "cell_type": "markdown",
   "metadata": {},
   "source": [
    "<a id='pdotn'></a>\n",
    "\n",
    "## Step 12.c: $\\hat{\\bf p} \\cdot {\\bf n}$ \\[Back to [top](#toc)\\]\n",
    "$$\\label{pdotn}$$\n",
    "\n",
    "We have\n",
    "\n",
    "\\begin{equation*}\n",
    "    \\hat{\\bf p} \\cdot {\\bf n} = \\hat{p}_{1} n_{1} + \\hat{p}_{2} n_{2} + \\hat{p}_{3} n_{3}\n",
    "\\end{equation*}\n",
    "\n",
    "We define $\\hat{\\bf p}$ in [this cell](#hatp) and ${\\bf n}$ in [this cell](#n)."
   ]
  },
  {
   "cell_type": "code",
   "execution_count": 63,
   "metadata": {},
   "outputs": [
    {
     "name": "stdout",
     "output_type": "stream",
     "text": [
      "Appending to SEOBNR/Hamiltonian-Hreal_on_top.txt\n"
     ]
    }
   ],
   "source": [
    "%%writefile -a SEOBNR/Hamiltonian-Hreal_on_top.txt\n",
    "\n",
    "pdotn = phat1*n1 + phat2*n2 + phat3*n3"
   ]
  },
  {
   "cell_type": "markdown",
   "metadata": {},
   "source": [
    "<a id='pdotxir'></a>\n",
    "\n",
    "## Step 12.d: $\\hat{\\bf p} \\cdot \\boldsymbol{\\xi} r$ \\[Back to [top](#toc)\\]\n",
    "$$\\label{pdotxir}$$\n",
    "\n",
    "We have\n",
    "\n",
    "\\begin{equation*}\n",
    "    \\hat{\\bf p} \\cdot \\boldsymbol{\\xi} r = \\left( \\hat{p}_{1} \\xi_{1} + \\hat{p}_{2} \\xi_{2} + \\hat{p}_{3} \\xi_{3} \\right) r\n",
    "\\end{equation*}\n",
    "\n",
    "We define $\\hat{\\bf p}$ in [this cell](#hatp), $\\boldsymbol{\\xi}$ in [this cell](#xi), and $r$ in [this cell](#r)."
   ]
  },
  {
   "cell_type": "code",
   "execution_count": 64,
   "metadata": {},
   "outputs": [
    {
     "name": "stdout",
     "output_type": "stream",
     "text": [
      "Appending to SEOBNR/Hamiltonian-Hreal_on_top.txt\n"
     ]
    }
   ],
   "source": [
    "%%writefile -a SEOBNR/Hamiltonian-Hreal_on_top.txt\n",
    "\n",
    "pdotxir = (phat1*xi1 + phat2*xi2 + phat3*xi3)*r"
   ]
  },
  {
   "cell_type": "markdown",
   "metadata": {},
   "source": [
    "<a id='hatp'></a>\n",
    "\n",
    "## Step 12.e: $\\hat{\\bf p}$ \\[Back to [top](#toc)\\]\n",
    "$$\\label{hatp}$$\n",
    "\n",
    "From the discussion after [BB2010](https://arxiv.org/abs/0912.3517) Equation (3.41), we have $\\hat{\\bf p} = {\\bf p}/m$ where $m$ is the mass of a nonspinning test particle and ${\\bf p}$ is *conjugate* momentum.  Following Lines 319--321 of LALSimIMRSpinEOBHamiltonianPrec.c, we convert the Boyer-Lindquist momentum ${\\bf p}$ to the tortoise momentum (see the appendix of [P2010](https://arxiv.org/abs/0912.3466v2)) via (<font color='red'>doesn't match...</font>)\n",
    "\n",
    "\\begin{align*}\n",
    "    \\hat{\\bf p} = {\\bf p} + {\\rm prT} \\left( 1 - \\frac{1}{\\rm csi1} \\right) {\\bf n}\n",
    "\\end{align*}\n",
    "\n",
    "We define prT in [this cell](#prt), csi1 in [this cell](#csi1), and ${\\bf n}$ in [this cell](#n)."
   ]
  },
  {
   "cell_type": "code",
   "execution_count": 65,
   "metadata": {},
   "outputs": [
    {
     "name": "stdout",
     "output_type": "stream",
     "text": [
      "Appending to SEOBNR/Hamiltonian-Hreal_on_top.txt\n"
     ]
    }
   ],
   "source": [
    "%%writefile -a SEOBNR/Hamiltonian-Hreal_on_top.txt\n",
    "\n",
    "phat1 = p1 + prT*(1 - 1/csi1)*n1\n",
    "phat1 = p2 + prT*(1 - 1/csi1)*n2\n",
    "phat1 = p3 + prT*(1 - 1/csi1)*n3"
   ]
  },
  {
   "cell_type": "markdown",
   "metadata": {},
   "source": [
    "<a id='prt'></a>\n",
    "\n",
    "## Step 12.f: prT \\[Back to [top](#toc)\\]\n",
    "$$\\label{prt}$$\n",
    "\n",
    "<font color='red'>Following LALSimIMRSpinEOBHamiltonianPrec.c lines 307--311, (there is no source listed for this)</font>\n",
    "\n",
    "\\begin{align*}\n",
    "    {\\rm prT} = {\\rm csi2}\\left( p_{1} n_{1} + p_{2} n_{2} + p_{3} n_{3} \\right)\n",
    "\\end{align*}\n",
    "\n",
    "We define csi1 in [this cell](#csi1) and ${\\bf n}$ in [this cell](#n)."
   ]
  },
  {
   "cell_type": "code",
   "execution_count": 66,
   "metadata": {},
   "outputs": [
    {
     "name": "stdout",
     "output_type": "stream",
     "text": [
      "Appending to SEOBNR/Hamiltonian-Hreal_on_top.txt\n"
     ]
    }
   ],
   "source": [
    "%%writefile -a SEOBNR/Hamiltonian-Hreal_on_top.txt\n",
    "\n",
    "PrT = csi2*(p1n1 + p2n2 + p3n3)"
   ]
  },
  {
   "cell_type": "markdown",
   "metadata": {},
   "source": [
    "<a id='csi2'></a>\n",
    "\n",
    "## Step 12.g: csi2 \\[Back to [top](#toc)\\]\n",
    "$$\\label{csi2}$$\n",
    "\n",
    "At this point I am following the LALSuite code; the conversion to EOB tortoise coordinates is apparently in [P2010](https://arxiv.org/abs/0912.3466v2). (<font color='red'>This source does not quite give the same conversion in its appendix.</font>)  From Line 309 of LALSimIMRSpinEOBHamiltonianPrec.c, we have\n",
    "\n",
    "\\begin{equation*}\n",
    "    {\\rm csi2} = 1 + \\left( \\frac{1}{2} - \\frac{1}{2}{\\rm sign}\\left( \\frac{3}{2} - \\tau \\right) \\right) \\left( {\\rm csi} - 1 \\right)\n",
    "\\end{equation*}\n",
    "\n",
    "We define csi in [this cell](#csi); $\\tau$ is a tortoise coordinate ($\\tau \\in \\left\\{ 0, 1 ,2 \\right\\}$)."
   ]
  },
  {
   "cell_type": "code",
   "execution_count": 67,
   "metadata": {},
   "outputs": [
    {
     "name": "stdout",
     "output_type": "stream",
     "text": [
      "Appending to SEOBNR/Hamiltonian-Hreal_on_top.txt\n"
     ]
    }
   ],
   "source": [
    "%%writefile -a SEOBNR/Hamiltonian-Hreal_on_top.txt\n",
    "\n",
    "csi2 = 1 + (sp.Rational(1,2) - sp.Rational(1,2)*sp.sign(sp.Rational(3,2) - tortoise))*(csi - 1)"
   ]
  },
  {
   "cell_type": "markdown",
   "metadata": {},
   "source": [
    "<a id='csi1'></a>\n",
    "\n",
    "## Step 12.h: csi1 \\[Back to [top](#toc)\\]\n",
    "$$\\label{csi1}$$\n",
    "\n",
    "At this point I am following the LALSuite code; the conversion to EOB tortoise coordinates is apparently in [P2010](https://arxiv.org/abs/0912.3466v2). (<font color='red'>This source does not quite give the same conversion in its appendix.</font>)  From Line 309 of LALSimIMRSpinEOBHamiltonianPrec.c, we have\n",
    "\n",
    "\\begin{equation*}\n",
    "    {\\rm csi1} = 1 + \\left( 1 - \\left\\lvert 1 - \\tau \\right\\rvert \\right) \\left( {\\rm csi} - 1 \\right)\n",
    "\\end{equation*}\n",
    "\n",
    "We define csi in [this cell](#csi); $\\tau$ is a tortoise coordinate ($\\tau \\in \\left\\{ 0, 1 ,2 \\right\\}$)."
   ]
  },
  {
   "cell_type": "code",
   "execution_count": 68,
   "metadata": {},
   "outputs": [
    {
     "name": "stdout",
     "output_type": "stream",
     "text": [
      "Appending to SEOBNR/Hamiltonian-Hreal_on_top.txt\n"
     ]
    }
   ],
   "source": [
    "%%writefile -a SEOBNR/Hamiltonian-Hreal_on_top.txt\n",
    "\n",
    "csi1 = 1 + (1 - sp.abs(1-tortoise))*(csi - 1)"
   ]
  },
  {
   "cell_type": "markdown",
   "metadata": {},
   "source": [
    "<a id='csi'></a>\n",
    "\n",
    "## Step 12.i: csi \\[Back to [top](#toc)\\]\n",
    "$$\\label{csi}$$\n",
    "\n",
    "At this point I am following the LALSuite code; the conversion to EOB tortoise coordinates is apparently in [P2010](https://arxiv.org/abs/0912.3466v2). (<font color='red'>This source does not quite give the same conversion in its appendix.</font>)  From Line 307 of LALSimIMRSpinEOBHamiltonianPrec.c and Equation (28) of [P2010](https://arxiv.org/abs/0912.3466v2), we have\n",
    "\n",
    "\\begin{equation*}\n",
    "    {\\rm csi} = \\frac{ \\sqrt{ \\Delta_{t} \\Delta_{r} } }{ \\varpi^{2} }.\n",
    "\\end{equation*}\n",
    "\n",
    "We define $\\Delta_{t}$ in [this cell](#deltat), $\\Delta_{r}$ in [this cell](#deltar), and $\\varpi^{2}$ in [this cell](#w2)."
   ]
  },
  {
   "cell_type": "code",
   "execution_count": 69,
   "metadata": {},
   "outputs": [
    {
     "name": "stdout",
     "output_type": "stream",
     "text": [
      "Appending to SEOBNR/Hamiltonian-Hreal_on_top.txt\n"
     ]
    }
   ],
   "source": [
    "%%writefile -a SEOBNR/Hamiltonian-Hreal_on_top.txt\n",
    "\n",
    "csi = sp.sqrt(Deltar*Deltat)/w2"
   ]
  },
  {
   "cell_type": "markdown",
   "metadata": {},
   "source": [
    "<a id='metric'></a>\n",
    "\n",
    "# Step 13: Metric Terms \\[Back to [top](#toc)\\]\n",
    "$$\\label{metric}$$\n",
    "\n",
    "We collect here terms used to define the deformed Kerr metric.  See [BB2010](https://arxiv.org/abs/0912.3517) Equations (5.38)--(5.40) and (5.71)--(5.75)."
   ]
  },
  {
   "cell_type": "markdown",
   "metadata": {},
   "source": [
    "<a id='lambdat'></a>\n",
    "\n",
    "## Step 13.a: $\\Lambda_{t}$ \\[Back to [top](#toc)\\]\n",
    "$$\\label{lambdat}$$\n",
    "\n",
    "From [BB2010](https://arxiv.org/abs/0912.3517) Equation (5.39),\n",
    "\n",
    "\\begin{equation*}\n",
    "    \\Lambda_{t} = \\varpi^{4} - a^{2} \\Delta_{t} \\sin^{2} \\theta.\n",
    "\\end{equation*}\n",
    "\n",
    "We define $\\varpi^{2}$ in [this cell](#w2), $a$ in [this cell](#a), $\\Delta_{t}$ in [this cell](#deltat), and $\\sin^{2}\\theta$ in [this cell](#sin2theta).  <font color='red'>Note that we take the absolute value of $\\Lambda_{t}$ in the LALSuite code (see LALSimIMRSpinEOBHamiltonianPrec.c line 289).</font>"
   ]
  },
  {
   "cell_type": "code",
   "execution_count": 70,
   "metadata": {},
   "outputs": [
    {
     "name": "stdout",
     "output_type": "stream",
     "text": [
      "Appending to SEOBNR/Hamiltonian-Hreal_on_top.txt\n"
     ]
    }
   ],
   "source": [
    "%%writefile -a SEOBNR/Hamiltonian-Hreal_on_top.txt\n",
    "\n",
    "Lambdat = w2*w2 - a*a*Deltat*sin2theta"
   ]
  },
  {
   "cell_type": "markdown",
   "metadata": {},
   "source": [
    "<a id='deltar'></a>\n",
    "\n",
    "## Step 13.b: $\\Delta_{r}$ \\[Back to [top](#toc)\\]\n",
    "$$\\label{deltar}$$\n",
    "\n",
    "From [BB2010](https://arxiv.org/abs/0912.3517) Equation (5.38),\n",
    "\n",
    "\\begin{equation*}\n",
    "    \\Delta_{r} = \\Delta_{t} D^{-1}.\n",
    "\\end{equation*}\n",
    "\n",
    "We define $\\Delta_{t}$ in [this cell](#deltat) and $D^{-1}$ in [this cell](#dinv)."
   ]
  },
  {
   "cell_type": "code",
   "execution_count": 71,
   "metadata": {},
   "outputs": [
    {
     "name": "stdout",
     "output_type": "stream",
     "text": [
      "Appending to SEOBNR/Hamiltonian-Hreal_on_top.txt\n"
     ]
    }
   ],
   "source": [
    "%%writefile -a SEOBNR/Hamiltonian-Hreal_on_top.txt\n",
    "\n",
    "Deltar = Deltat*Dinv"
   ]
  },
  {
   "cell_type": "markdown",
   "metadata": {},
   "source": [
    "<a id='deltat'></a>\n",
    "\n",
    "## Step 13.c: $\\Delta_{t}$ \\[Back to [top](#toc)\\]\n",
    "$$\\label{deltat}$$\n",
    "\n",
    "From [BB2010](https://arxiv.org/abs/0912.3517) Equation (5.71), we have\n",
    "\n",
    "\\begin{equation*}\n",
    "    \\Delta_{t} = r^{2} \\Delta_{u}.\n",
    "\\end{equation*}\n",
    "\n",
    "We define $\\Delta_{u}$ in [this cell](#deltau) and $r$ in [this cell](#r)."
   ]
  },
  {
   "cell_type": "code",
   "execution_count": 72,
   "metadata": {},
   "outputs": [
    {
     "name": "stdout",
     "output_type": "stream",
     "text": [
      "Appending to SEOBNR/Hamiltonian-Hreal_on_top.txt\n"
     ]
    }
   ],
   "source": [
    "%%writefile -a SEOBNR/Hamiltonian-Hreal_on_top.txt\n",
    "\n",
    "Deltat = r*r*Deltau"
   ]
  },
  {
   "cell_type": "markdown",
   "metadata": {},
   "source": [
    "<a id='deltatprm'></a>\n",
    "\n",
    "## Step 13.d: $\\Delta_{t}^{\\prime}$ \\[Back to [top](#toc)\\]\n",
    "$$\\label{deltatprm}$$\n",
    "\n",
    "From the discussion after [BB2010](https://arxiv.org/abs/0912.3517) Equation (5.47), we know that the prime notation indicates a derivative with respect to $r$.  Using the definition of [$\\Delta_{t}$](#Deltat) and noting that $\\Delta_{u}$ has no $r$ dependence, we have\n",
    "\n",
    "\\begin{equation*}\n",
    "    \\Delta_{t}^{\\prime} = 2 r \\Delta_{u}.\n",
    "\\end{equation*}\n",
    "\n",
    "We define $\\Delta_{u}$ in [this cell](#deltau) and $r$ in [this cell](#r)."
   ]
  },
  {
   "cell_type": "code",
   "execution_count": 73,
   "metadata": {},
   "outputs": [
    {
     "name": "stdout",
     "output_type": "stream",
     "text": [
      "Appending to SEOBNR/Hamiltonian-Hreal_on_top.txt\n"
     ]
    }
   ],
   "source": [
    "%%writefile -a SEOBNR/Hamiltonian-Hreal_on_top.txt\n",
    "\n",
    "Deltatprm = 2*r*Deltau"
   ]
  },
  {
   "cell_type": "markdown",
   "metadata": {},
   "source": [
    "<a id='deltau'></a>\n",
    "\n",
    "## Step 13.e: $\\Delta_{u}$ \\[Back to [top](#toc)\\]\n",
    "$$\\label{deltau}$$\n",
    "\n",
    "From [BB2010](https://arxiv.org/abs/0912.3517) Equation (5.73), we have\n",
    "\n",
    "\\begin{equation*}\n",
    "    \\Delta_u = \\bar{\\Delta}_{u} \\left[ \\smash[b]{\\underbrace{ 1 + \\eta \\Delta_{0} + \\eta \\log \\left( 1 + \\Delta_{1} u + \\Delta_{2} u^{2} + \\Delta_{3} u^{3} + \\Delta_{4} u^{4} \\right) }_{\\Delta_{u}\\ {\\rm calibration\\ term}}} \\vphantom{\\underbrace{1}_{n}} \\right]\n",
    "\\end{equation*}\n",
    "\n",
    "We compute $\\bar{\\Delta}_{u}$  in [this cell](#deltaubar) and $\\Delta_{u}$ calibration term in [this cell](#deltaucalib).  <font color='red'>Note that we take the absolute value of $\\Delta_{u}$ in the LALSuite code (see LALSimIMRSpinEOBHamiltonianPrec.c line 279).  The absolute value is coded below but not notated above.  Also note that there are two additional terms in the LALSuite code whose origin is unclear.  The LIGO doc \"Prescriptions for SEOBNRv2\" (\"Changes to SEOBNRv1\") cites PRD 89 (2014) 061502, which cites BB2011, which does not include any information on these additional terms (as far as I can tell).</font>"
   ]
  },
  {
   "cell_type": "code",
   "execution_count": 74,
   "metadata": {},
   "outputs": [
    {
     "name": "stdout",
     "output_type": "stream",
     "text": [
      "Appending to SEOBNR/Hamiltonian-Hreal_on_top.txt\n"
     ]
    }
   ],
   "source": [
    "%%writefile -a SEOBNR/Hamiltonian-Hreal_on_top.txt\n",
    "\n",
    "Deltau = Deltaubar*Deltaucalib"
   ]
  },
  {
   "cell_type": "markdown",
   "metadata": {},
   "source": [
    "<a id='deltaubar'></a>\n",
    "\n",
    "### Step 13.e.i: $\\bar{\\Delta}_{u}$ \\[Back to [top](#toc)\\]\n",
    "$$\\label{deltaubar}$$\n",
    "\n",
    "From [BB2010](https://arxiv.org/abs/0912.3517) Equation (5.75), we have\n",
    "\n",
    "\\begin{equation*}\n",
    "    \\bar{\\Delta}_u = \\frac{ a^{2} u^{2} }{ M^{2} } + \\frac{ 1 }{ \\eta K - 1 } \\left( 2 u + \\frac{ 1 }{ \\eta K - 1 } \\right).\n",
    "\\end{equation*}\n",
    "\n",
    "We define $a$ in [this cell](#a), $u$ in [this cell](#u), $M$ in [this cell](#m), $\\eta$ in [this cell](#eta), and $K$ in [this cell](#k)."
   ]
  },
  {
   "cell_type": "code",
   "execution_count": 75,
   "metadata": {},
   "outputs": [
    {
     "name": "stdout",
     "output_type": "stream",
     "text": [
      "Appending to SEOBNR/Hamiltonian-Hreal_on_top.txt\n"
     ]
    }
   ],
   "source": [
    "%%writefile -a SEOBNR/Hamiltonian-Hreal_on_top.txt\n",
    "\n",
    "Deltaubar = a*a*u*u/(M*M) + (2*u + 1/etaKminus1)/etaKminus1"
   ]
  },
  {
   "cell_type": "markdown",
   "metadata": {},
   "source": [
    "<a id='deltaucalib'></a>\n",
    "\n",
    "### Step 13.e.ii: $\\Delta_{u}$ Calibration Term \\[Back to [top](#toc)\\]\n",
    "$$\\label{deltaucalib}$$\n",
    "\n",
    "From [BB2010](https://arxiv.org/abs/0912.3517) Equation (5.73), we have\n",
    "\n",
    "\\begin{align*}\n",
    "    \\Delta_u\\ {\\rm calibration\\ term} &= 1 + \\eta \\Delta_{0} + \\eta \\log \\left( 1 + \\Delta_{1} u + \\Delta_{2} u^{2} + \\Delta_{3} u^{3} + \\Delta_{4} u^{4} \\right) \\\\\n",
    "        &= 1 + \\eta \\left[ \\Delta_{0} + \\log \\left( 1 + \\Delta_{1} u + \\Delta_{2} u^{2} + \\Delta_{3} u^{3} + \\Delta_{4} u^{4} \\right) \\right].\n",
    "\\end{align*}\n",
    "\n",
    "In [Taracchini, Buonanno, et. al (2014)](https://arxiv.org/pdf/1311.2544.pdf) Equation (2), an additional term is added but is only defined in the LIGO document [Changes to SEOBNRv1](https://dcc.ligo.org/DocDB/0114/T1400476/003/ChangesToSEOBNRv1.pdf) (see the subsection \"New 4PN term in the radial potential $\\Delta_{u}$\" under the \"Hamiltonian\" section).  We then have\n",
    "\n",
    "\\begin{equation*}\n",
    "    \\Delta_u\\ {\\rm calibration\\ term} = 1 + \\eta \\left[ \\Delta_{0} + \\log \\left( 1 + \\Delta_{1} u + \\Delta_{2} u^{2} + \\Delta_{3} u^{3} + \\Delta_{4} u^{4} + \\Delta_{5} u^{5} \\right) \\right].\n",
    "\\end{equation*}\n",
    "\n",
    "In the LALSuite code itself (see LALSimIMRSpinEOBHamiltonianPrec.c line 274 on Git commit a70b43d), there's one more term, for which documentation is elusive.  That bring us to\n",
    "\n",
    "\\begin{equation*}\n",
    "    \\Delta_u\\ {\\rm calibration\\ term} = 1 + \\eta \\left[ \\Delta_{0} + \\log \\left( 1 + \\Delta_{1} u + \\Delta_{2} u^{2} + \\Delta_{3} u^{3} + \\Delta_{4} u^{4} + \\Delta_{5} u^{5} + \\Delta_{5\\ell} u^{5} \\ln\\left(u\\right) \\right) \\right].\n",
    "\\end{equation*}\n",
    "\n",
    "We define $u$ in [this cell](#u), $\\eta$ in [this cell](#eta), and the calibration coefficients $\\Delta_{i}$, $i \\in \\left\\{0, 1, 2, 3, 4\\right\\}$, in [this cell](#calib_coeffs). <font color='red'>We need documentation for the final term.  As coded in LALSuite, there exits an absolute value inside the logarithm.  Why?  Is it really safe and/or necessary?</font>"
   ]
  },
  {
   "cell_type": "code",
   "execution_count": 76,
   "metadata": {},
   "outputs": [
    {
     "name": "stdout",
     "output_type": "stream",
     "text": [
      "Appending to SEOBNR/Hamiltonian-Hreal_on_top.txt\n"
     ]
    }
   ],
   "source": [
    "%%writefile -a SEOBNR/Hamiltonian-Hreal_on_top.txt\n",
    "\n",
    "Deltaucalib = 1 + eta*(Delta0 + sp.log(1 + Delta1*u + Delta2*u*u + Delta3*u*u*u + Delta4*u*u*u*u + Delta5*u*u*u*u*u\n",
    "                                       + Delta5l*u*u*u*u*u*sp.log(u)))"
   ]
  },
  {
   "cell_type": "markdown",
   "metadata": {},
   "source": [
    "<a id='calib_coeffs'></a>\n",
    "\n",
    "### Step 13.e.iii: Calibration Coefficients $\\Delta_{i}$, $i \\in \\left\\{0, 1, 2, 3, 4\\right\\}$ \\[Back to [top](#toc)\\]\n",
    "$$\\label{calib_coeffs}$$\n",
    "\n",
    "From [BB2010](https://arxiv.org/abs/0912.3517) Equations (5.77)--(5.81), we have\n",
    "\n",
    "\\begin{align*}\n",
    "    \\Delta_{0} &= K \\left( \\eta K - 2 \\right) \\\\\n",
    "    \\Delta_{1} &= -2 \\left( \\eta K - 1 \\right) \\left( K + \\Delta_{0} \\right) \\\\\n",
    "    \\Delta_{2} &= \\frac{1}{2} \\Delta_{1} \\left( -4 \\eta K + \\Delta_{1} + 4 \\right) - \\frac{ a^{2} }{ M^{2} } \\left( \\eta K - 1 \\right)^{2} \\Delta_{0}\\\\\n",
    "    \\Delta_{3} &= \\frac{1}{3} \\left[ -\\Delta_{1}^{3} + 3 \\left( \\eta K - 1 \\right) \\Delta_{1}^{2} + 3 \\Delta_{2} \\Delta_{1} - 6 \\left( \\eta K - 1 \\right) \\left( -\\eta K + \\Delta_{2} + 1 \\right) - 3 \\frac{ a^{2} }{ M^{2} } \\left( \\eta K - 1 \\right)^{2} \\Delta_{1} \\right] \\\\\n",
    "    \\Delta_{4} &= \\frac{1}{12} \\left\\{ 6 \\frac{ a^{2} }{ M^{2} } \\left( \\Delta_{1}^{2} - 2 \\Delta_{2} \\right) \\left( \\eta K - 1 \\right)^{2} + 3 \\Delta_{1}^{4} - 8 \\left( \\eta K - 1 \\right) \\Delta_{1}^{3} - 12 \\Delta_{2} \\Delta_{1}^{2} + 12 \\left[ 2 \\left( \\eta K - 1 \\right) \\Delta_{2} + \\Delta_{3} \\right] \\Delta_{1} \\right.\\\\\n",
    "        &\\left.\\ \\ \\ \\ \\ + 12 \\left( \\frac{94}{3} - \\frac{41}{32} \\pi^{2} \\right) \\left( \\eta K - 1 \\right)^{2} + 6 \\left[ \\Delta_{2}^{2} - 4 \\Delta_{3} \\left( \\eta K - 1 \\right) \\right] \\right\\} \\\\\n",
    "    \\Delta_{5} &= \\left( \\eta K - 1 \\right)^{2} \\left\\{ \\left( -\\frac{4237}{60} + \\frac{128}{5}\\gamma + \\frac{2275}{512} \\pi^{2} - \\frac{1}{3} a^{2} \\left\\{ \\Delta_{1}^{3} - 3 \\Delta_{1} \\Delta_{2} + 3 \\Delta_{3} \\right\\} \\right.\\right. \\\\\n",
    "        &\\ \\ \\ \\ \\ - \\frac{ \\Delta_{1}^{5} - 5 \\Delta_{1}^{3} \\Delta_{2} + 5 \\Delta_{1} \\Delta_{2}^{2} + 5 \\Delta_{1}^{2} \\Delta_{3} - 5 \\Delta_{2} \\Delta_{3} - 5 \\Delta_{1} \\Delta_{4} }{ 5 \\left( \\eta K - 1 \\right)^{2} } \\\\\n",
    "         &\\left.\\left.\\ \\ \\ \\ \\  + \\frac{ \\Delta_{1}^{4} - 4 \\Delta_{1}^{2}  \\Delta_{2} + 2 \\Delta_{2}^{2} + 4 \\Delta_{1} \\Delta_{3} - 4 \\Delta_{4} }{ 2\\left( \\eta K - 1 \\right) } + \\frac{256}{5} \\log(2) \\right) + \\frac{64}{5} \\log(u) \\right\\} \\\\\n",
    "        \\Delta_{5\\ell} &= \\frac{64}{5} \\left( \\eta K - 1 \\right)^{2}.\n",
    "\\end{align*}\n",
    "\n",
    "We define $K$ in [this cell](#k), $\\eta$ in [this cell](#eta), $a$ in [this cell](#a), and $M$ in [this cell](#m), and a2M2inv in [this cell](#a2m2inv)."
   ]
  },
  {
   "cell_type": "code",
   "execution_count": 77,
   "metadata": {},
   "outputs": [
    {
     "name": "stdout",
     "output_type": "stream",
     "text": [
      "Appending to SEOBNR/Hamiltonian-Hreal_on_top.txt\n"
     ]
    }
   ],
   "source": [
    "%%writefile -a SEOBNR/Hamiltonian-Hreal_on_top.txt\n",
    "\n",
    "Delta5l = etaKminus1**2*64./5.\n",
    "Delta5 = etaKminus1**2*((sp.Rational(-4237,60) + sp.Rational(128,5)*gamma + sp.Rational(2275,512)*sp.pi**2\n",
    "                         - sp.Rational(1,3)*a**2*(Delta1**3 - 3*Delta1*Delta2 + 3*Delta3)\n",
    "                         - (Delta1**5 - 5*Delta1**3*Delta2 + 5*Delta1*Delta2**2 + 5*Delta1**2*Delta3 - 5*Delta2*Delta3\n",
    "                            - 5*Delta1*Delta4)/(5*etaKminus1**2)\n",
    "                         + (Delta1**4 - 4*Delta1**2*Delta2 + 2*Delta2**2 + 4*Delta1*Delta3 - 4*Delta4)/(2*etaKminus1)\n",
    "                        + sp.Rational(256,5)*sp.log(2)) + sp.rational(64,5)*sp.log(u))\n",
    "Delta4 = sp.Rational(1,12)*(6*a2M2inv*(Delta1**2 - 2*Delta2)*etaKminus1**2 + 3*Delta1**4 - 8*etaKminus1*Delta1**3\n",
    "                           -12*Delta2*Delta1**2 + 12*(2*etaKminus1*Delta2 + Delta3)*Delta1\n",
    "                           + 12*(sp.Rational(94,3) - sp.Rational(41,32)*pi**2)*etaKminus1**2\n",
    "                           + 6*(Delta2**2 - 4*Delta3*etaKminus1))\n",
    "Delta3 = sp.Rational(1,3)*(-Delta1**3 + 3*etaKminus1*Delta1**2 + 3*Delta2*Delta1 - 6*etaKminus1*(-eta*K + Delta2 + 1)\n",
    "                           - 3*a2M2inv*etaKminus1**2*Delta1)\n",
    "Delta2 = sp.Rational(1,2)*Delta1*(-4*eta*K + Delta1 + 4) - a2M2inv*etaKminus1*etaKminus1*Delta0\n",
    "Delta1 = -2*etaKminus1*(K + Delta0)\n",
    "Delta0 = K*(eta*K - 2)"
   ]
  },
  {
   "cell_type": "markdown",
   "metadata": {},
   "source": [
    "<a id='k'></a>\n",
    "\n",
    "### Step 13.e.iv: $K$ \\[Back to [top](#toc)\\]\n",
    "$$\\label{k}$$\n",
    "\n",
    "Following the discussion in the two paragrahs after [BB2010](https://arxiv.org/abs/0912.3517) Equation (6.11), we have\n",
    "\n",
    "\\begin{equation*}\n",
    "    K = 1.4467 \\left( 1 - 4 \\eta \\right)^{2} + 4 \\left( 1 - 2 \\eta \\right) \\eta.\n",
    "\\end{equation*}\n",
    "\n",
    "The term $\\eta K - 1$ is sufficiently common that we also define it:\n",
    "\n",
    "\\begin{equation*}\n",
    "    {\\rm etaKminus1} = \\eta K - 1.\n",
    "\\end{equation*}\n",
    "\n",
    "We define $\\eta$ in [this cell](#eta) below."
   ]
  },
  {
   "cell_type": "code",
   "execution_count": 78,
   "metadata": {},
   "outputs": [
    {
     "name": "stdout",
     "output_type": "stream",
     "text": [
      "Appending to SEOBNR/Hamiltonian-Hreal_on_top.txt\n"
     ]
    }
   ],
   "source": [
    "%%writefile -a SEOBNR/Hamiltonian-Hreal_on_top.txt\n",
    "\n",
    "etaKminus1 = eta*K - 1\n",
    "K = 1.4467*(1 - 4*eta)*(1 - 4*eta) + 4*(1 - 2*eta)*eta"
   ]
  },
  {
   "cell_type": "markdown",
   "metadata": {},
   "source": [
    "<a id='omegatilde'></a>\n",
    "\n",
    "## Step 13.f: $\\tilde{\\omega}_{\\rm fd}$ \\[Back to [top](#toc)\\]\n",
    "$$\\label{omegatilde}$$\n",
    "\n",
    "From [BB2010](https://arxiv.org/abs/0912.3517) Equation (5.40), we have\n",
    "\n",
    "\\begin{equation*}\n",
    "    \\tilde{\\omega}_{\\rm fd} = 2 a M r + \\omega_{1}^{\\rm fd} \\eta \\frac{ a M^{3} }{ r } + \\omega_{2}^{\\rm fd} \\eta \\frac{ M a^{3} }{ r }.\n",
    "\\end{equation*}\n",
    "\n",
    "From discussion after [BB2010](https://arxiv.org/abs/0912.3517) Equation (6.7), we set $\\omega_{1}^{\\rm fd} = \\omega_{2}^{\\rm fd} = 0$.  Thus\n",
    "\n",
    "\\begin{equation*}\n",
    "    \\tilde{\\omega}_{\\rm fd} = 2 a M r.\n",
    "\\end{equation*}\n",
    "\n",
    "We define $a$ in [this cell](#a), $M$ in [this cell](#m), and $r$ in [this cell](#r) below."
   ]
  },
  {
   "cell_type": "code",
   "execution_count": 79,
   "metadata": {},
   "outputs": [
    {
     "name": "stdout",
     "output_type": "stream",
     "text": [
      "Appending to SEOBNR/Hamiltonian-Hreal_on_top.txt\n"
     ]
    }
   ],
   "source": [
    "%%writefile -a SEOBNR/Hamiltonian-Hreal_on_top.txt\n",
    "\n",
    "omegatilde = 2*a*M*r"
   ]
  },
  {
   "cell_type": "markdown",
   "metadata": {},
   "source": [
    "<a id='dinv'></a>\n",
    "\n",
    "## Step 13.g: $D^{-1}$ \\[Back to [top](#toc)\\]\n",
    "$$\\label{dinv}$$\n",
    "\n",
    "From [BB2010](https://arxiv.org/abs/0912.3517) Equation (5.83),\n",
    "\n",
    "\\begin{equation*}\n",
    "    D^{-1} = 1 + \\log \\left[ 1 + 6 \\eta u^{2} + 2 \\left( 26 - 3 \\eta \\right) \\eta u^{3} \\right].\n",
    "\\end{equation*}\n",
    "\n",
    "We define $\\eta$ in [this cell](#eta) and $u$ in [this cell](#u)."
   ]
  },
  {
   "cell_type": "code",
   "execution_count": 80,
   "metadata": {},
   "outputs": [
    {
     "name": "stdout",
     "output_type": "stream",
     "text": [
      "Appending to SEOBNR/Hamiltonian-Hreal_on_top.txt\n"
     ]
    }
   ],
   "source": [
    "%%writefile -a SEOBNR/Hamiltonian-Hreal_on_top.txt\n",
    "\n",
    "Dinv = 1 + sp.log(1 + 6*eta*u*u + 2*(26 - 3*eta)*eta*u*u*u)"
   ]
  },
  {
   "cell_type": "markdown",
   "metadata": {},
   "source": [
    "<a id='coord'></a>\n",
    "\n",
    "# Step 14: Terms Dependent on Coordinates \\[Back to [top](#toc)\\]\n",
    "$$\\label{coord}$$\n",
    "\n",
    "We collect here terms directly dependend on the coordinates.  See [BB2010](https://arxiv.org/abs/0912.3517) Equations (4.5) and (4.6)."
   ]
  },
  {
   "cell_type": "markdown",
   "metadata": {},
   "source": [
    "<a id='usigma'></a>\n",
    "\n",
    "## Step 14.a: $\\Sigma$ \\[Back to [top](#toc)\\]\n",
    "$$\\label{usigma}$$\n",
    "\n",
    "From [BB2010](https://arxiv.org/abs/0912.3517) Equation (4.5), we have\n",
    "\n",
    "\\begin{equation*}\n",
    "    \\Sigma = r^{2} + a^{2} \\cos^{2} \\theta.\n",
    "\\end{equation*}\n",
    "\n",
    "We define $r$ in [this cell](#r), $a$ in [this cell](#a), and $\\cos \\theta$ in [this cell](#costheta)."
   ]
  },
  {
   "cell_type": "code",
   "execution_count": 81,
   "metadata": {},
   "outputs": [
    {
     "name": "stdout",
     "output_type": "stream",
     "text": [
      "Appending to SEOBNR/Hamiltonian-Hreal_on_top.txt\n"
     ]
    }
   ],
   "source": [
    "%%writefile -a SEOBNR/Hamiltonian-Hreal_on_top.txt\n",
    "\n",
    "Sigma = r*r + a*a*costheta*costheta"
   ]
  },
  {
   "cell_type": "markdown",
   "metadata": {},
   "source": [
    "<a id='w2'></a>\n",
    "\n",
    "## Step 14.b: $\\varpi^{2}$ \\[Back to [top](#toc)\\]\n",
    "$$\\label{w2}$$\n",
    "\n",
    "From [BB2010](https://arxiv.org/abs/0912.3517) Equation (4.7),\n",
    "\n",
    "\\begin{equation*}\n",
    "    \\varpi^{2} = a^{2} + r^{2}.\n",
    "\\end{equation*}\n",
    "\n",
    "We define $a$ in [this cell](#a) and $r$ in [this cell](#r)."
   ]
  },
  {
   "cell_type": "code",
   "execution_count": 82,
   "metadata": {},
   "outputs": [
    {
     "name": "stdout",
     "output_type": "stream",
     "text": [
      "Appending to SEOBNR/Hamiltonian-Hreal_on_top.txt\n"
     ]
    }
   ],
   "source": [
    "%%writefile -a SEOBNR/Hamiltonian-Hreal_on_top.txt\n",
    "\n",
    "w2 = a*a + r*r"
   ]
  },
  {
   "cell_type": "markdown",
   "metadata": {},
   "source": [
    "<a id='sin2theta'></a>\n",
    "\n",
    "## Step 14.d: $\\sin^{2} \\theta$ \\[Back to [top](#toc)\\]\n",
    "$$\\label{sin2theta}$$\n",
    "\n",
    "Using a common trigonometric idenitity,\n",
    "\n",
    "\\begin{equation*}\n",
    "    \\sin^{2} \\theta = 1 - \\cos^{2} \\theta.\n",
    "\\end{equation*}\n",
    "\n",
    "We define $\\cos \\theta$ in [this cell](#costheta).  Note that by construction (from discussion after [BB2010](https://arxiv.org/abs/0912.3517) Equation (5.52))\n",
    "\n",
    "\\begin{equation*}\n",
    "    \\xi^{2} = \\sin^{2} \\theta.\n",
    "\\end{equation*}"
   ]
  },
  {
   "cell_type": "code",
   "execution_count": 83,
   "metadata": {},
   "outputs": [
    {
     "name": "stdout",
     "output_type": "stream",
     "text": [
      "Appending to SEOBNR/Hamiltonian-Hreal_on_top.txt\n"
     ]
    }
   ],
   "source": [
    "%%writefile -a SEOBNR/Hamiltonian-Hreal_on_top.txt\n",
    "\n",
    "xi2 = sin2theta\n",
    "sin2theta = 1 - costheta*costheta"
   ]
  },
  {
   "cell_type": "markdown",
   "metadata": {},
   "source": [
    "<a id='costheta'></a>\n",
    "\n",
    "## Step 14.e: $\\cos \\theta$ \\[Back to [top](#toc)\\]\n",
    "$$\\label{costheta}$$\n",
    "\n",
    "From the discussion in [BB2010](https://arxiv.org/abs/0912.3517) after equation (5.52) (noting that ${\\bf e}_{3} = \\hat{\\bf S}_{\\rm Kerr}$),\n",
    "\n",
    "\\begin{equation*}\n",
    "    \\cos \\theta = {\\bf e}_{3} \\cdot {\\bf n} = {\\bf e}_{3}^{1} n^{1} + {\\bf e}_{3}^{2} n^{2} + {\\bf e}_{3}^{3} n^{3}.\n",
    "\\end{equation*}\n",
    "\n",
    "We define ${\\bf e}_{3}$ in [this cell](#e3) and ${\\bf n}$ in [this cell](#n)."
   ]
  },
  {
   "cell_type": "code",
   "execution_count": 84,
   "metadata": {},
   "outputs": [
    {
     "name": "stdout",
     "output_type": "stream",
     "text": [
      "Appending to SEOBNR/Hamiltonian-Hreal_on_top.txt\n"
     ]
    }
   ],
   "source": [
    "%%writefile -a SEOBNR/Hamiltonian-Hreal_on_top.txt\n",
    "\n",
    "costheta = e31*n1 + e32*n2 + e33*n3"
   ]
  },
  {
   "cell_type": "markdown",
   "metadata": {},
   "source": [
    "<a id='vectors'></a>\n",
    "\n",
    "# Step 15: Important Vectors \\[Back to [top](#toc)\\]\n",
    "$$\\label{vectors}$$\n",
    "\n",
    "We collect the vectors common for computing $H_{\\rm real}$ (defined in [this cell](#hreal)) below."
   ]
  },
  {
   "cell_type": "markdown",
   "metadata": {},
   "source": [
    "<a id='v'></a>\n",
    "\n",
    "## Step 15.a: ${\\bf v}$ \\[Back to [top](#toc)\\]\n",
    "$$\\label{v}$$\n",
    "\n",
    "From [BB2010](https://arxiv.org/abs/0912.3517) Equation (3.39), we have\n",
    "\n",
    "\\begin{equation*}\n",
    "    {\\bf v} = {\\bf n} \\times \\boldsymbol{\\xi}.\n",
    "\\end{equation*}\n",
    "\n",
    "We define ${\\bf n}$ in [this cell](#n) and $\\boldsymbol{\\xi}$ in [this cell](#xi)."
   ]
  },
  {
   "cell_type": "code",
   "execution_count": 85,
   "metadata": {},
   "outputs": [
    {
     "name": "stdout",
     "output_type": "stream",
     "text": [
      "Appending to SEOBNR/Hamiltonian-Hreal_on_top.txt\n"
     ]
    }
   ],
   "source": [
    "%%writefile -a SEOBNR/Hamiltonian-Hreal_on_top.txt\n",
    "\n",
    "v1 = n2*xi3 - n3*xi2\n",
    "v2 = n1*xi3 + n3*xi1\n",
    "v3 = n1*xi2 - n2*xi1"
   ]
  },
  {
   "cell_type": "markdown",
   "metadata": {},
   "source": [
    "<a id='xi'></a>\n",
    "\n",
    "## Step 15.b: $\\boldsymbol{\\xi}$ \\[Back to [top](#toc)\\]\n",
    "$$\\label{xi}$$\n",
    "\n",
    "From [BB2010](https://arxiv.org/abs/0912.3517) Equation (3.38), we have\n",
    "\n",
    "\\begin{equation*}\n",
    "    \\boldsymbol{\\xi} = {\\bf e}_{3} \\times {\\bf n}.\n",
    "\\end{equation*}\n",
    "\n",
    "We define ${\\bf e}_{3}$ in [this cell](#e3) and ${\\bf n}$ in [this cell](#n)."
   ]
  },
  {
   "cell_type": "code",
   "execution_count": 86,
   "metadata": {},
   "outputs": [
    {
     "name": "stdout",
     "output_type": "stream",
     "text": [
      "Appending to SEOBNR/Hamiltonian-Hreal_on_top.txt\n"
     ]
    }
   ],
   "source": [
    "%%writefile -a SEOBNR/Hamiltonian-Hreal_on_top.txt\n",
    "\n",
    "xi1 = e32*n3 - e33*n2\n",
    "xi2 = e31*n3 + e33*n1\n",
    "xi3 = e31*n2 - e32*n1"
   ]
  },
  {
   "cell_type": "markdown",
   "metadata": {},
   "source": [
    "<a id='e3'></a>\n",
    "\n",
    "## Step 15.c: ${\\bf e}_{3}$ \\[Back to [top](#toc)\\]\n",
    "$$\\label{e3}$$\n",
    "\n",
    "From the discussion in [BB2010](https://arxiv.org/abs/0912.3517) after equation (5.52),\n",
    "\n",
    "\\begin{equation*}\n",
    "    {\\bf e}_{3} = \\hat{\\bf S}_{\\rm Kerr}.\n",
    "\\end{equation*}\n",
    "\n",
    "We define $\\hat{\\bf S}_{\\rm Kerr}$ in [this cell](#skerrhat).\n",
    "\n",
    "<font color='red'>From Lines 228--230 of LALSimIMRSpinPrecEOBHamiltonianPrec.c,\n",
    "\n",
    "\\begin{equation*}\n",
    "    {\\bf e}_{3} = \\frac{ {\\bf S}_{\\rm Kerr} }{ a }.\n",
    "\\end{equation*}\n",
    "\n",
    "We define ${\\bf S}_{\\rm Kerr}$ in [this cell](#skerr) and $a$ in [this cell](#a).  Note that in the LALSuite code, e31 is written as e3_x (and similarly for other coordinates).  Be a bit careful here because of the factor of $M$ that's not computed!</font>"
   ]
  },
  {
   "cell_type": "code",
   "execution_count": 87,
   "metadata": {},
   "outputs": [
    {
     "name": "stdout",
     "output_type": "stream",
     "text": [
      "Appending to SEOBNR/Hamiltonian-Hreal_on_top.txt\n"
     ]
    }
   ],
   "source": [
    "%%writefile -a SEOBNR/Hamiltonian-Hreal_on_top.txt\n",
    "\n",
    "e31 = Skerrhat1\n",
    "e32 = Skerrhat2\n",
    "e33 = Skerrhat3"
   ]
  },
  {
   "cell_type": "markdown",
   "metadata": {},
   "source": [
    "<a id='n'></a>\n",
    "\n",
    "## Step 15.d: ${\\bf n}$ \\[Back to [top](#toc)\\]\n",
    "$$\\label{n}$$\n",
    "\n",
    "From [BB2010](https://arxiv.org/abs/0912.3517) Equation (3.37), we have\n",
    "\n",
    "\\begin{equation*}\n",
    "    {\\bf n} = \\frac{\\bf x }{ r }\n",
    "\\end{equation*}\n",
    "\n",
    "where ${\\bf x} = (x, y, z)$.  We define $r$ in [this cell](#r)."
   ]
  },
  {
   "cell_type": "code",
   "execution_count": 88,
   "metadata": {},
   "outputs": [
    {
     "name": "stdout",
     "output_type": "stream",
     "text": [
      "Appending to SEOBNR/Hamiltonian-Hreal_on_top.txt\n"
     ]
    }
   ],
   "source": [
    "%%writefile -a SEOBNR/Hamiltonian-Hreal_on_top.txt\n",
    "\n",
    "n1 = x/r\n",
    "n2 = y/r\n",
    "n3 = z/r"
   ]
  },
  {
   "cell_type": "markdown",
   "metadata": {},
   "source": [
    "<a id='spin_combos'></a>\n",
    "\n",
    "# Step 16: Spin Combinations $\\boldsymbol{\\sigma}$, $\\boldsymbol{\\sigma}^{*}$, and ${\\bf S}_{\\rm Kerr}$ \\[Back to [top](#toc)\\]\n",
    "$$\\label{spin_combos}$$\n",
    "\n",
    "We collect here various combinations of the spins."
   ]
  },
  {
   "cell_type": "markdown",
   "metadata": {},
   "source": [
    "<a id='a2m2inv'></a>\n",
    "\n",
    "## Step 16.a: a2M2inv \\[Back to [top](#toc)\\]\n",
    "$$\\label{a2m2inv}$$\n",
    "\n",
    "We have\n",
    "\n",
    "\\begin{equation*}\n",
    "    {\\rm a2M2inv} = \\frac{ a^{2} }{ M^{2} }\n",
    "\\end{equation*}\n",
    "\n",
    "We define $a$ in [this cell](#a) and $M$ in [this cell](#m)."
   ]
  },
  {
   "cell_type": "code",
   "execution_count": 89,
   "metadata": {},
   "outputs": [
    {
     "name": "stdout",
     "output_type": "stream",
     "text": [
      "Appending to SEOBNR/Hamiltonian-Hreal_on_top.txt\n"
     ]
    }
   ],
   "source": [
    "%%writefile -a SEOBNR/Hamiltonian-Hreal_on_top.txt\n",
    "\n",
    "a2M2inv = a*a/(M*M)"
   ]
  },
  {
   "cell_type": "markdown",
   "metadata": {},
   "source": [
    "<a id='a'></a>\n",
    "\n",
    "## Step 16.b: $a$ \\[Back to [top](#toc)\\]\n",
    "$$\\label{a}$$\n",
    "\n",
    "From [BB2010](https://arxiv.org/abs/0912.3517) Equation (4.9), we have\n",
    "\n",
    "\\begin{equation*}\n",
    "    a = \\frac{ \\left\\lvert {\\bf S}_{\\rm Kerr} \\right\\rvert }{ M }.\n",
    "\\end{equation*}\n",
    "\n",
    "We define $\\left\\lvert{\\bf S}_{\\rm Kerr}\\right\\rvert$ in [this cell](#skerrmag) and $M$ in [this cell](#m)."
   ]
  },
  {
   "cell_type": "code",
   "execution_count": 90,
   "metadata": {},
   "outputs": [
    {
     "name": "stdout",
     "output_type": "stream",
     "text": [
      "Appending to SEOBNR/Hamiltonian-Hreal_on_top.txt\n"
     ]
    }
   ],
   "source": [
    "%%writefile -a SEOBNR/Hamiltonian-Hreal_on_top.txt\n",
    "\n",
    "a = Skerrmag/M"
   ]
  },
  {
   "cell_type": "markdown",
   "metadata": {},
   "source": [
    "<a id='skerrhat'></a>\n",
    "\n",
    "## Step 16.c: $\\hat{\\bf S}_{\\rm Kerr}$ \\[Back to [top](#toc)\\]\n",
    "$$\\label{skerrhat}$$\n",
    "\n",
    "From [BB2010](https://arxiv.org/abs/0912.3517) Equation (4.24), we have\n",
    "\n",
    "\\begin{equation*}\n",
    "    \\hat{\\bf S}_{\\rm Kerr} = \\frac{ {\\bf S}_{\\rm Kerr} }{ \\left\\lvert {\\bf S}_{\\rm Kerr} \\right\\rvert }.\n",
    "\\end{equation*}\n",
    "\n",
    "We define ${\\bf S}_{\\rm Kerr}$ in [this cell](#skerr)."
   ]
  },
  {
   "cell_type": "code",
   "execution_count": 91,
   "metadata": {},
   "outputs": [
    {
     "name": "stdout",
     "output_type": "stream",
     "text": [
      "Appending to SEOBNR/Hamiltonian-Hreal_on_top.txt\n"
     ]
    }
   ],
   "source": [
    "%%writefile -a SEOBNR/Hamiltonian-Hreal_on_top.txt\n",
    "\n",
    "Skerrhat1 = Skerr1/Skerrmag\n",
    "Skerrhat2 = Skerr2/Skerrmag\n",
    "Skerrhat3 = Skerr3/Skerrmag"
   ]
  },
  {
   "cell_type": "markdown",
   "metadata": {},
   "source": [
    "<a id='skerrmag'></a>\n",
    "\n",
    "## Step 16.d: $\\left\\lvert {\\bf S}_{\\rm Kerr} \\right\\rvert$ \\[Back to [top](#toc)\\]\n",
    "$$\\label{skerrmag}$$\n",
    "\n",
    "We have\n",
    "\n",
    "\\begin{equation*}\n",
    "    \\left\\lvert {\\bf S}_{\\rm Kerr} \\right\\rvert = \\sqrt{ {\\bf S}_{\\rm Kerr}^{1} {\\bf S}_{\\rm Kerr}^{1} + {\\bf S}_{\\rm Kerr}^{2} {\\bf S}_{\\rm Kerr}^{2} + {\\bf S}_{\\rm Kerr}^{3} {\\bf S}_{\\rm Kerr}^{3} }.\n",
    "\\end{equation*}\n",
    "\n",
    "We define ${\\bf S}_{\\rm Kerr}$ in [this cell](#skerr)."
   ]
  },
  {
   "cell_type": "code",
   "execution_count": 92,
   "metadata": {},
   "outputs": [
    {
     "name": "stdout",
     "output_type": "stream",
     "text": [
      "Appending to SEOBNR/Hamiltonian-Hreal_on_top.txt\n"
     ]
    }
   ],
   "source": [
    "%%writefile -a SEOBNR/Hamiltonian-Hreal_on_top.txt\n",
    "\n",
    "Skerrmag = sp.sqrt(Skerr1*Skerr1 + Skerr2*Skerr2 + Skerr3*Skerr3)"
   ]
  },
  {
   "cell_type": "markdown",
   "metadata": {},
   "source": [
    "<a id='skerr'></a>\n",
    "\n",
    "## Step 16.e: ${\\bf S}_{\\rm Kerr}$ \\[Back to [top](#toc)\\]\n",
    "$$\\label{skerr}$$\n",
    "\n",
    "From [BB2010](https://arxiv.org/abs/0912.3517) Equation (5.64):\n",
    "\n",
    "\\begin{equation*}\n",
    "    {\\bf S}_{\\rm Kerr} = \\boldsymbol{\\sigma} + \\frac{ 1 }{ c^{2} } \\boldsymbol{\\Delta}_{\\sigma}.\n",
    "\\end{equation*}\n",
    "\n",
    "In [BB2010](https://arxiv.org/abs/0912.3517) Equation (5.67), $\\boldsymbol{\\Delta}_{\\sigma} = 0$.  Thus\n",
    "\n",
    "\\begin{equation*}\n",
    "    {\\bf S}_{\\rm Kerr} = \\boldsymbol{\\sigma}.\n",
    "\\end{equation*}\n",
    "\n",
    "We define $\\boldsymbol{\\sigma}$ in [this cell](#sigma)."
   ]
  },
  {
   "cell_type": "code",
   "execution_count": 93,
   "metadata": {},
   "outputs": [
    {
     "name": "stdout",
     "output_type": "stream",
     "text": [
      "Appending to SEOBNR/Hamiltonian-Hreal_on_top.txt\n"
     ]
    }
   ],
   "source": [
    "%%writefile -a SEOBNR/Hamiltonian-Hreal_on_top.txt\n",
    "\n",
    "Skerr1 = sigma1\n",
    "Skerr2 = sigma2\n",
    "Skerr3 = sigma3"
   ]
  },
  {
   "cell_type": "markdown",
   "metadata": {},
   "source": [
    "<a id='sigma'></a>\n",
    "\n",
    "## Step 16.f: $\\boldsymbol{\\sigma}$ \\[Back to [top](#toc)\\]\n",
    "$$\\label{sigma}$$\n",
    "\n",
    "From [BB2010](https://arxiv.org/abs/0912.3517) Equation (5.2):\n",
    "\n",
    "\\begin{equation*}\n",
    "    \\boldsymbol{\\sigma} = {\\bf S}_{1} + {\\bf S}_{2}.\n",
    "\\end{equation*}"
   ]
  },
  {
   "cell_type": "code",
   "execution_count": 94,
   "metadata": {},
   "outputs": [
    {
     "name": "stdout",
     "output_type": "stream",
     "text": [
      "Appending to SEOBNR/Hamiltonian-Hreal_on_top.txt\n"
     ]
    }
   ],
   "source": [
    "%%writefile -a SEOBNR/Hamiltonian-Hreal_on_top.txt\n",
    "\n",
    "sigma1 = S1x + S2x\n",
    "sigma2 = S1y + S2y\n",
    "sigma3 = S3z + S3z"
   ]
  },
  {
   "cell_type": "markdown",
   "metadata": {},
   "source": [
    "<a id='sigmastar'></a>\n",
    "\n",
    "## Step 16.g: $\\boldsymbol{\\sigma}^{*}$ \\[Back to [top](#toc)\\]\n",
    "$$\\label{sigmastar}$$\n",
    "\n",
    "From [BB2010](https://arxiv.org/abs/0912.3517) Equation (5.3):\n",
    "\n",
    "\\begin{equation*}\n",
    "    \\boldsymbol{\\sigma}^{*} = \\frac{ m_{2} }{ m_{1} } {\\bf S}_{1} + \\frac{ m_{1} }{ m_{2} }{\\bf S}_{2}.\n",
    "\\end{equation*}"
   ]
  },
  {
   "cell_type": "code",
   "execution_count": 95,
   "metadata": {},
   "outputs": [
    {
     "name": "stdout",
     "output_type": "stream",
     "text": [
      "Appending to SEOBNR/Hamiltonian-Hreal_on_top.txt\n"
     ]
    }
   ],
   "source": [
    "%%writefile -a SEOBNR/Hamiltonian-Hreal_on_top.txt\n",
    "\n",
    "sigmastar1 = m2/m1*S1x + m1/m2*S2x\n",
    "sigmastar2 = m2/m1*S1y + m1/m2*S2y\n",
    "sigmastar3 = m2/m1*S1z + m1/m2*S2z"
   ]
  },
  {
   "cell_type": "markdown",
   "metadata": {},
   "source": [
    "<a id='fundquant'></a>\n",
    "\n",
    "# Step 17: Fundamental Quantities \\[Back to [top](#toc)\\]\n",
    "$$\\label{fundquant}$$\n",
    "\n",
    " We collect here fundamental quantities from which we build $H_{\\rm real}$ (defined in [this cell](#Hreal))."
   ]
  },
  {
   "cell_type": "markdown",
   "metadata": {},
   "source": [
    "<a id='u'></a>\n",
    "\n",
    "## Step 17.a: $u$ \\[Back to [top](#toc)\\]\n",
    "$$\\label{u}$$\n",
    "\n",
    "From the discussion after [BB2010](https://arxiv.org/abs/0912.3517) Equation (5.40),\n",
    "\n",
    "\\begin{equation*}\n",
    "    u = \\frac{ M }{ r }.\n",
    "\\end{equation*}\n",
    "\n",
    "We define $M$ in [this cell](#m) and $r$ in [this cell](#r)."
   ]
  },
  {
   "cell_type": "code",
   "execution_count": 96,
   "metadata": {},
   "outputs": [
    {
     "name": "stdout",
     "output_type": "stream",
     "text": [
      "Appending to SEOBNR/Hamiltonian-Hreal_on_top.txt\n"
     ]
    }
   ],
   "source": [
    "%%writefile -a SEOBNR/Hamiltonian-Hreal_on_top.txt\n",
    "\n",
    "u = M/r"
   ]
  },
  {
   "cell_type": "markdown",
   "metadata": {},
   "source": [
    "<a id='r'></a>\n",
    "\n",
    "## Step 17.b: $r$ \\[Back to [top](#toc)\\]\n",
    "$$\\label{r}$$\n",
    "\n",
    "From the the discussion after [BB2010](https://arxiv.org/abs/0912.3517) Equation (5.52),\n",
    "\n",
    "\\begin{equation*}\n",
    "    r = \\sqrt{ x^{2} + y^{2} + z^{2} }.\n",
    "\\end{equation*}"
   ]
  },
  {
   "cell_type": "code",
   "execution_count": 97,
   "metadata": {},
   "outputs": [
    {
     "name": "stdout",
     "output_type": "stream",
     "text": [
      "Appending to SEOBNR/Hamiltonian-Hreal_on_top.txt\n"
     ]
    }
   ],
   "source": [
    "%%writefile -a SEOBNR/Hamiltonian-Hreal_on_top.txt\n",
    "\n",
    "r = sp.sqrt(x*x + y*y + z*z)"
   ]
  },
  {
   "cell_type": "markdown",
   "metadata": {},
   "source": [
    "<a id='eta'></a>\n",
    "\n",
    "## Step 17.c: $\\eta$ \\[Back to [top](#toc)\\]\n",
    "$$\\label{eta}$$\n",
    "\n",
    "From the the discussion preceding [BB2010](https://arxiv.org/abs/0912.3517) Equation (5.1),\n",
    "\n",
    "\\begin{equation*}\n",
    "    \\eta = \\frac{ \\mu }{ M }.\n",
    "\\end{equation*}\n",
    "\n",
    "We define $\\mu$ in [this cell](#mu)."
   ]
  },
  {
   "cell_type": "code",
   "execution_count": 98,
   "metadata": {},
   "outputs": [
    {
     "name": "stdout",
     "output_type": "stream",
     "text": [
      "Appending to SEOBNR/Hamiltonian-Hreal_on_top.txt\n"
     ]
    }
   ],
   "source": [
    "%%writefile -a SEOBNR/Hamiltonian-Hreal_on_top.txt\n",
    "\n",
    "eta = mu/M"
   ]
  },
  {
   "cell_type": "markdown",
   "metadata": {},
   "source": [
    "<a id='mu'></a>\n",
    "\n",
    "## Step 17.d: $\\mu$ \\[Back to [top](#toc)\\]\n",
    "$$\\label{mu}$$\n",
    "\n",
    "From the the discussion preceding [BB2010](https://arxiv.org/abs/0912.3517) Equation (5.1),\n",
    "\n",
    "\\begin{equation*}\n",
    "    \\mu = \\frac{ m_{1} m_{2} }{ M }.\n",
    "\\end{equation*}\n",
    "\n",
    "We define $M$ in [this cell](#m)."
   ]
  },
  {
   "cell_type": "code",
   "execution_count": 99,
   "metadata": {},
   "outputs": [
    {
     "name": "stdout",
     "output_type": "stream",
     "text": [
      "Appending to SEOBNR/Hamiltonian-Hreal_on_top.txt\n"
     ]
    }
   ],
   "source": [
    "%%writefile -a SEOBNR/Hamiltonian-Hreal_on_top.txt\n",
    "\n",
    "mu = m1*m2/M"
   ]
  },
  {
   "cell_type": "markdown",
   "metadata": {},
   "source": [
    "<a id='m'></a>\n",
    "\n",
    "## Step 17.e: $M$ \\[Back to [top](#toc)\\]\n",
    "$$\\label{m}$$\n",
    "\n",
    "From the the discussion preceding [BB2010](https://arxiv.org/abs/0912.3517) Equation (5.1),\n",
    "\n",
    "\\begin{equation*}\n",
    "    M = m_{1} + m_{2}.\n",
    "\\end{equation*}"
   ]
  },
  {
   "cell_type": "code",
   "execution_count": 100,
   "metadata": {},
   "outputs": [
    {
     "name": "stdout",
     "output_type": "stream",
     "text": [
      "Appending to SEOBNR/Hamiltonian-Hreal_on_top.txt\n"
     ]
    }
   ],
   "source": [
    "%%writefile -a SEOBNR/Hamiltonian-Hreal_on_top.txt\n",
    "\n",
    "M = m1 + m2"
   ]
  },
  {
   "cell_type": "markdown",
   "metadata": {},
   "source": [
    "<a id='latex_pdf_output'></a>\n",
    "\n",
    "# Step 18: Output this module to $\\LaTeX$-formatted PDF file \\[Back to [top](#toc)\\]\n",
    "$$\\label{latex_pdf_output}$$\n",
    "\n",
    "The following code cell converts this Jupyter notebook into a proper, clickable $\\LaTeX$-formatted PDF file. After the cell is successfully run, the generated PDF may be found in the root NRPy+ tutorial directory, with filename\n",
    "[Tutorial-SEOBNR_Documentation.pdf](Tutorial-SEOBNR_Documentation.pdf) (Note that clicking on this link may not work; you may need to open the PDF file through another means.)"
   ]
  },
  {
   "cell_type": "code",
   "execution_count": 101,
   "metadata": {
    "scrolled": true
   },
   "outputs": [
    {
     "name": "stdout",
     "output_type": "stream",
     "text": [
      "[NbConvertApp] Converting notebook Tutorial-SEOBNR_Documentation.ipynb to latex\n",
      "[NbConvertApp] Writing 175931 bytes to Tutorial-SEOBNR_Documentation.tex\n",
      "This is pdfTeX, Version 3.14159265-2.6-1.40.18 (TeX Live 2017/Debian) (preloaded format=pdflatex)\n",
      " restricted \\write18 enabled.\n",
      "entering extended mode\n",
      "This is pdfTeX, Version 3.14159265-2.6-1.40.18 (TeX Live 2017/Debian) (preloaded format=pdflatex)\n",
      " restricted \\write18 enabled.\n",
      "entering extended mode\n",
      "This is pdfTeX, Version 3.14159265-2.6-1.40.18 (TeX Live 2017/Debian) (preloaded format=pdflatex)\n",
      " restricted \\write18 enabled.\n",
      "entering extended mode\n"
     ]
    }
   ],
   "source": [
    "!jupyter nbconvert --to latex --template latex_nrpy_style.tplx Tutorial-SEOBNR_Documentation.ipynb\n",
    "!pdflatex -interaction=batchmode Tutorial-SEOBNR_Documentation.tex\n",
    "!pdflatex -interaction=batchmode Tutorial-SEOBNR_Documentation.tex\n",
    "!pdflatex -interaction=batchmode Tutorial-SEOBNR_Documentation.tex\n",
    "!rm -f Tut*.out Tut*.aux Tut*.log"
   ]
  },
  {
   "cell_type": "code",
   "execution_count": null,
   "metadata": {},
   "outputs": [],
   "source": []
  }
 ],
 "metadata": {
  "kernelspec": {
   "display_name": "Python 2",
   "language": "python",
   "name": "python2"
  },
  "language_info": {
   "codemirror_mode": {
    "name": "ipython",
    "version": 2
   },
   "file_extension": ".py",
   "mimetype": "text/x-python",
   "name": "python",
   "nbconvert_exporter": "python",
   "pygments_lexer": "ipython2",
   "version": "2.7.13"
  }
 },
 "nbformat": 4,
 "nbformat_minor": 2
}
