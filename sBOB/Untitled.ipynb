{
 "cells": [
  {
   "cell_type": "markdown",
   "id": "90a1840e-c69d-45c5-b42d-c7acecab8c25",
   "metadata": {},
   "source": [
    "# Standalone Backwards-One-Body Merger Model\n",
    "\n",
    "## Author: Siddharth Mahesh\n",
    "\n",
    "## Introduction\n",
    "\n",
    "We code up the backwards-one-body waveform model.\n",
    "\n",
    "# Step 0: Create the output directory for BOB\n"
   ]
  },
  {
   "cell_type": "code",
   "execution_count": 1,
   "id": "6f283b54-4cac-4f76-805d-6b5de88447e4",
   "metadata": {},
   "outputs": [],
   "source": [
    "import sys#TylerK: Add sys to get cmdline_helper from NRPy top directory; remove this line and next when debugged\n",
    "sys.path.append('../')\n",
    "import cmdline_helper as cmd     # NRPy+: Multi-platform Python command-line interface\n",
    "from outputC import outputC,outCfunction # NRPy+: Core C code output module\n",
    "import sympy as sp                       # SymPy: The Python computer algebra package upon which NRPy+ depends\n",
    "import numpy as np\n",
    "\n",
    "# Create C code output directory:\n",
    "Ccodesdir = \"BOB\"\n",
    "# Then create an output directory in case it does not exist\n",
    "cmd.mkdir(Ccodesdir)"
   ]
  },
  {
   "cell_type": "markdown",
   "id": "3b27ca74-dbfd-4864-b3ae-961cb65063da",
   "metadata": {},
   "source": [
    "# Step : The strain amplitude, $h$\n",
    "\n",
    "The strain amplitude, $h$, is given by:\n",
    "\n",
    "$$\n",
    "h = \\underbrace{\\left(\\frac{M_{1/2}}{M_f}\\right)^2}_{M_{1/2}\\mathrm{-over-} M_f} \\omega^2\\psi_4\n",
    "$$\n",
    "\n",
    "Where, $M_{1/2}$ is defined here, $\\Omega$ is defined here, and $\\psi_4$ is defined here"
   ]
  },
  {
   "cell_type": "code",
   "execution_count": null,
   "id": "2a582ce6-cbbf-4743-9d82-b374cd33bc95",
   "metadata": {},
   "outputs": [],
   "source": [
    "%%writefile $Ccodesdir/bob_strain-h_on_top.txt\n",
    "h = (Mhalf_over_Mf**2)*(omega**2)*psi4"
   ]
  },
  {
   "cell_type": "markdown",
   "id": "6832979b-ea43-4157-a4fe-0ebfe3c356e7",
   "metadata": {},
   "source": [
    "# Step : The $\\psi_4$ amplitude\n",
    "\n",
    "The $\\psi_4$ amplitude is given by\n",
    "\n",
    "$$\n",
    "\\psi_4 = A_p \\rm{sech} \\left( \\frac{t}{T} \\right)\n",
    "$$\n",
    "\n",
    "Where $A_p$ is defined here, $T$ is defined here, and $t$ is the input parameter of time. \n"
   ]
  },
  {
   "cell_type": "code",
   "execution_count": null,
   "id": "07b46008-10d7-4870-8e83-f07f7827e7ce",
   "metadata": {},
   "outputs": [],
   "source": [
    "%%writefile -a $Ccodesdir/bob_strain-h_on_top.txt\n",
    "psi4 = Ap*sp.sech(t/T)"
   ]
  },
  {
   "cell_type": "markdown",
   "id": "f42a1081-4ef5-4573-bd59-c27047f55dab",
   "metadata": {},
   "source": [
    "# Step : The QNM e-folding time $T$\n",
    "\n",
    "The WNM e-folding time $T$ is given by\n",
    "\n",
    "$$\n",
    "T = 2\\tau\n",
    "$$\n",
    "\n",
    "Where $tau$ is defined here"
   ]
  },
  {
   "cell_type": "code",
   "execution_count": null,
   "id": "511bbf5f-56b0-4c0a-8ccc-3a67022af05b",
   "metadata": {},
   "outputs": [],
   "source": [
    "%%writefile -a $Ccodesdir/bob_strain-h_on_top.txt\n",
    "T = 2*tau"
   ]
  },
  {
   "cell_type": "markdown",
   "id": "d00d4151-3005-4b56-a2a2-aa778f2889fe",
   "metadata": {},
   "source": [
    "# Step : The peak $\\psi_4$ amplitude, $A_p$\n",
    "\n",
    "The peak $\\psi_4$ amplitude is given by\n",
    "\n",
    "$$\n",
    "A_p = 0.908(1 - M_f)^{0.794}\n",
    "$$\n",
    "\n",
    "Where $M_f$ is the input parameter of final mass"
   ]
  },
  {
   "cell_type": "code",
   "execution_count": null,
   "id": "cab07d3d-5088-401f-ad68-a479e1708107",
   "metadata": {},
   "outputs": [],
   "source": [
    "%%writefile -a $Ccodesdir/bob_strain-h_on_top.txt\n",
    "Ap = 9.08e-1*((1-Mf)**7.94e-1)"
   ]
  },
  {
   "cell_type": "markdown",
   "id": "5af87bdc-fe63-459c-82e4-00d7ea0eacaa",
   "metadata": {},
   "source": [
    "# Step : The GW angular frequency $\\omega$\n",
    "\n",
    "The GW angular frequency $\\omega$ is given as\n",
    "\n",
    "$$\n",
    "\\omega = 2\\Omega\n",
    "$$\n"
   ]
  },
  {
   "cell_type": "code",
   "execution_count": null,
   "id": "f717b6d1-084b-4682-b022-5e2bc2caf1d5",
   "metadata": {},
   "outputs": [],
   "source": [
    "%%writefile -a $Ccodesdir/bob_strain-h_on_top.txt\n",
    "omega = 2*Omega"
   ]
  },
  {
   "cell_type": "markdown",
   "id": "f7f075b7-6871-4e83-b36b-47950b98a7fc",
   "metadata": {},
   "source": [
    "# Step : The normalization factor $M_{1/2}\\mathrm{-over-} M_f$\n",
    "\n",
    "The normalization factor is given by\n",
    "\n",
    "$$\n",
    "M_{1/2}\\mathrm{-over-}M_f = \\frac{M_{1/2}}{M_f}\n",
    "$$\n",
    "\n",
    "Where, $M_{1/2}$ is defined here, and $M_f$ is the input parameter of final mass"
   ]
  },
  {
   "cell_type": "code",
   "execution_count": null,
   "id": "320d685c-4f07-47ee-8559-f90a2c00c8d4",
   "metadata": {},
   "outputs": [],
   "source": [
    "%%writefile -a $Ccodesdir/bob_strain-h_on_top.txt\n",
    "Mhalf_over_Mf = Mhalf/Mf"
   ]
  }
 ],
 "metadata": {
  "kernelspec": {
   "display_name": "Python 3",
   "language": "python",
   "name": "python3"
  },
  "language_info": {
   "codemirror_mode": {
    "name": "ipython",
    "version": 3
   },
   "file_extension": ".py",
   "mimetype": "text/x-python",
   "name": "python",
   "nbconvert_exporter": "python",
   "pygments_lexer": "ipython3",
   "version": "3.8.8"
  }
 },
 "nbformat": 4,
 "nbformat_minor": 5
}
