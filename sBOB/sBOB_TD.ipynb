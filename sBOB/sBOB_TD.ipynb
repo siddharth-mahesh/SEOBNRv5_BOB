{
 "cells": [
  {
   "cell_type": "markdown",
   "metadata": {},
   "source": [
    "# Getting Standalone BOB (sBOB) Waveforms using NRPy+\n",
    "\n",
    "### Author: Siddharth Mahesh\n",
    "\n",
    "In this tutorial, we document the standalone Backwards One Body model for the late merger-ringdown phase of Binary Black Hole mergers. \n",
    "\n",
    "## Importing Core Modules\n",
    "\n",
    "We first import the necessary Nrpy+ and python modules in order to build the waveform "
   ]
  },
  {
   "cell_type": "code",
   "execution_count": 1,
   "metadata": {},
   "outputs": [],
   "source": [
    "# Step 1: Initialize core Python/NRPy+ modules\n",
    "import os,sys                    # Standard Python modules for multiplatform OS-level functions\n",
    "nrpy_dir_path = os.path.join(\"..\")\n",
    "if nrpy_dir_path not in sys.path:\n",
    "    sys.path.append(nrpy_dir_path)\n",
    "from outputC import outputC,outCfunction # NRPy+: Core C code output module\n",
    "import sympy as sp                       # SymPy: The Python computer algebra package upon which NRPy+ depends"
   ]
  },
  {
   "cell_type": "markdown",
   "metadata": {},
   "source": [
    "## Initialize input parameters and variables\n",
    "\n",
    "The standalone BOB model has two input parameters, the final mass and final spin. The first quantities we compute from them are the ISCO orbital frequency and the QNM frequency. The second is the peak strain, which can be matched to the peak strain of any waveform approximant. The third and fourth are the frequency and damping time of the $2,2$ Quasinormal Mode (QNM) of the merged black hole.\n",
    "\n",
    "We declare these below as sympy symbols. Furthermore, the model's expressions are more concisely given by the following reductions:\n",
    "\n",
    "$$\n",
    "\\Omega^4_\\pm = \\frac{\\Omega_{\\rm{QNM}} \\pm \\Omega_0}{2}\n",
    "$$\n",
    "\n",
    "Lastly, in this module, we wish to implement a time-domain sBOB waveform and will therefore define the time symbol to use as an argument in future computations. "
   ]
  },
  {
   "cell_type": "code",
   "execution_count": 2,
   "metadata": {},
   "outputs": [],
   "source": [
    "t = sp.Symbol(\"t\")\n",
    "Mf, af = sp.symbols('Mf af')\n",
    "\n",
    "## Fits From Sean's Code\n",
    "Mhalf = 1 - (1 - Mf)/2\n",
    "Omega_0 = (-0.091933*af + 0.097593)/(af*af - 2.4228*af + 1.4366)\n",
    "omega_QNM = (1.5251-1.1568*(1-af)**0.1292)/Mf\n",
    "\n",
    "##\n",
    "Omega_QNM = omega_QNM/2\n",
    "Omega4_plus , Omega4_minus = (Omega_QNM**4 + Omega_0**4)/2 , (Omega_QNM**4 - Omega_0**4)/2"
   ]
  },
  {
   "cell_type": "markdown",
   "metadata": {},
   "source": [
    "## Define the QNM damping time\n",
    "\n",
    "The QNM damping time $\\tau$ is given by\n",
    "\n",
    "$$\n",
    "\\tau = \\frac{Q}{\\omega_{\\rm QNM}}\n",
    "$$"
   ]
  },
  {
   "cell_type": "code",
   "execution_count": 3,
   "metadata": {},
   "outputs": [],
   "source": [
    "Q = 0.7+1.4187*(1-af)**(-0.499)\n",
    "tau = Q/omega_QNM"
   ]
  },
  {
   "cell_type": "markdown",
   "metadata": {},
   "source": [
    "## Define the peak $\\psi_4$ time \n",
    "\n",
    "The standalone BOB model sets the time of the peak strain amplitude to $t_{p,strain} = 0$. However, model quantities are derived based on the time of the peak of the Weyl scalar $\\psi_4$ which we will denote as $t_p$. This is given in terms of the input parameters as:\n",
    "\n",
    "$$\n",
    "t_p = -\\tau\\log\\left(\\frac{\\Omega_0}{\\Omega_{QNM}}\\right)\n",
    "$$\n"
   ]
  },
  {
   "cell_type": "code",
   "execution_count": 4,
   "metadata": {},
   "outputs": [],
   "source": [
    "t_p = -1*tau*sp.log(Omega_0/Omega_QNM)"
   ]
  },
  {
   "cell_type": "markdown",
   "metadata": {},
   "source": [
    "## Define the Orbital Frequency evolution\n",
    "\n",
    "Now that we have defined the peak $\\psi_4$ time, we can define the evolution of the orbital frequency as a function of time as follows:\n",
    "\n",
    "$$\n",
    "\\Omega = \\left\\{\\Omega_+^4 + \\Omega_-^4\\tanh\\left(\\frac{t - t_p}{\\tau}\\right)\\right\\}^{1/4}\n",
    "$$"
   ]
  },
  {
   "cell_type": "code",
   "execution_count": 5,
   "metadata": {},
   "outputs": [],
   "source": [
    "Omega = (Omega4_plus + Omega4_minus*sp.tanh((t - t_p)/tau))**sp.Rational(1,4)\n",
    "omega = 2*Omega"
   ]
  },
  {
   "cell_type": "markdown",
   "metadata": {},
   "source": [
    "## Define the Orbital Phase evolution\n",
    "\n",
    "The orbital phase is given as follows:\n",
    "\n",
    "\\begin{align}\n",
    "\\Phi = \\tau \\left( \\kappa_-\\left(\\tan^{-1}\\left(\\frac{\\Omega}{\\kappa_-}\\right) - \\tan^{-1}\\left(\\frac{\\Omega_+}{\\kappa_-}\\right)\\right)\\\\\n",
    "\\quad\\quad + \\kappa_-\\left(\\tanh^{-1}\\left(\\frac{\\Omega}{\\kappa_-}\\right) - \\tanh^{-1}\\left(\\frac{\\Omega_+}{\\kappa_-}\\right)\\right)\\\\\n",
    "\\quad\\quad - \\kappa_+\\left(\\tan^{-1}\\left(\\frac{\\Omega}{\\kappa_+}\\right) - \\tan^{-1}\\left(\\frac{\\Omega_+}{\\kappa_+}\\right)\\right)\\\\\n",
    "\\quad\\quad- \\kappa_+\\left(\\tanh^{-1}\\left(\\frac{\\Omega}{\\kappa_+}\\right) - \\tanh^{-1}\\left(\\frac{\\Omega_+}{\\kappa_+}\\right)\\right) \\right)\n",
    "\\end{align} \n",
    "\n",
    "Where the terms $\\kappa_\\pm$ are given by:\n",
    "\n",
    "$$\n",
    "\\kappa_+ = \\Omega_0\\\\\n",
    "\\kappa_- = \\Omega_{QNM}\n",
    "$$\n",
    "\n",
    "Also, to avoid domain errors in the inverse hyperbolic arctangent, we introduce the alternative form:\n",
    "\n",
    "$$\n",
    "\\tanh^{-1}x = \\frac{1}{2}\\ln\\left(\\frac{1 + x}{1 - x}\\right)\n",
    "$$\n",
    "\n",
    "Finally, in the quasicircular case, the waveform phase is given by:\n",
    "\n",
    "$$\n",
    "\\varphi = 2\\Phi\n",
    "$$"
   ]
  },
  {
   "cell_type": "code",
   "execution_count": 6,
   "metadata": {},
   "outputs": [],
   "source": [
    "## Compute Phase:\n",
    "## We use here the alternative definition of arctan\n",
    "## arctan(x) = 0.5*ln( (1+x)/(1-x) )\n",
    "Omega_plus = Omega4_plus**sp.Rational(1,4)\n",
    "arctanhp = sp.Rational(1,2)*Omega_QNM*tau*sp.log( (1 + Omega/Omega_QNM)*(1 - Omega_plus/Omega_QNM) / ( (1 - Omega/Omega_QNM)*(1 + Omega_plus/Omega_QNM) ) )\n",
    "arctanhm = sp.Rational(1,2)*Omega_0*tau*sp.log( (1 + Omega/Omega_0)*(1 - Omega_plus/Omega_0) / ( (1 - Omega/Omega_0)*(1 + Omega_plus/Omega_0) ) )\n",
    "arctanp = Omega_QNM*tau*( sp.atan(Omega/Omega_QNM) - sp.atan(Omega_plus/Omega_QNM) )\n",
    "arctanm = Omega_0*tau*( sp.atan(Omega/Omega_0) - sp.atan(Omega_plus/Omega_0) )\n",
    "\n",
    "Phi = arctanhp+arctanp-arctanhm-arctanm\n",
    "\n",
    "phase = 2*Phi"
   ]
  },
  {
   "cell_type": "markdown",
   "metadata": {},
   "source": [
    "## Define the Strain Amplitude evolution\n",
    "\n",
    "In order to define the strain amplitude, we first define the BOB $\\psi_4$ amplitude as:\n",
    "\n",
    "$$\n",
    "|\\psi_4| = A_p\\mathrm{sech}\\left(\\frac{t - t_p}{\\tau}\\right)\n",
    "$$\n",
    "\n",
    "Where $A_p$ is the peak value of $\\psi_4$. We then apply the quasicircular approximation to get the strain amplitude:\n",
    "\n",
    "$$\n",
    "|h| = \\frac{A_p}{\\omega^2}\\mathrm{sech}\\left(\\frac{t - t_p}{\\tau}\\right)\n",
    "$$\n",
    "We also use the normalization $M_{1/2}/M_f$ to account for the loss in total energy due to radiation.\n",
    "We use a fit for $A_p$."
   ]
  },
  {
   "cell_type": "code",
   "execution_count": 7,
   "metadata": {},
   "outputs": [],
   "source": [
    "A_p = 0.908*(1-Mf)**0.794 ## From Sean's Code\n",
    "strain_amplitude = ((Mhalf/Mf)**2)/omega**2/sp.cosh((t-t_p)/tau)"
   ]
  },
  {
   "cell_type": "markdown",
   "metadata": {},
   "source": [
    "## Creating C functions with Nrpy+'s OutCfunction capabilities\n",
    "\n",
    "At long last, we have obtained sympy-compliant symbolic expressions for the strain amplitude and phase in accordance for implementing the sBOB model. We now use Nrpy+'s OutCfunction function to generate optimized C functions that will be use towards implementing the model."
   ]
  },
  {
   "cell_type": "code",
   "execution_count": 8,
   "metadata": {},
   "outputs": [],
   "source": [
    "strainampfunc_desc=\"Output sBOB strain amplitude\"\n",
    "strainampfunc_name=\"get_sBOB_strainamplitude\"\n",
    "strainampfunc_params=\"const double t, double *strain_amplitude\"\n",
    "strainamp_string = outCfunction(\n",
    "    outfile  = \"returnstring\", desc=strainampfunc_desc, name=strainampfunc_name,\n",
    "    params   = strainampfunc_params,\n",
    "    body     = outputC(strain_amplitude,\"*strain_amplitude\",filename=\"returnstring\",params=\"includebraces=False,preindent=1\"))\n",
    "\n",
    "phasefunc_desc=\"Output sBOB waveform phase\"\n",
    "phasefunc_name=\"get_sBOB_phase\"\n",
    "phasefunc_params=\"const double t, double *phase\"\n",
    "phase_string = outCfunction(\n",
    "    outfile  = \"returnstring\", desc=phasefunc_desc, name=phasefunc_name,\n",
    "    params   = phasefunc_params,\n",
    "    body     = outputC(phase,\"*phase\",filename=\"returnstring\",params=\"includebraces=False,preindent=1\"),)"
   ]
  },
  {
   "cell_type": "markdown",
   "metadata": {},
   "source": [
    "## Outputting C expressions into a C header\n",
    "\n",
    "In order to construct the C implementation of the sBOB model, the ampitude and phase C functions will be placed in a C header file that will be included in the main C module.\n",
    "\n",
    "To do so, we use Python's file I/O capabilities and write in our header file. "
   ]
  },
  {
   "cell_type": "code",
   "execution_count": 9,
   "metadata": {},
   "outputs": [],
   "source": [
    "header_name = \"sBOB_funcs.h\"\n",
    "header_caps = \"SBOB_FUNCS_H\"\n",
    "include_headers = \"#include <stdio.h> \\n #include<math.h> \\n #include<stdlib.h> \\n #include<string.h>\\n\"\n",
    "header_text = \"/* \\n* Header file for sBOB waveform functions \\n* Author: Siddharth Mahesh \\n* Standard order of input for all functions is as follows: \\n* time, QNM frequency, QNM damping time, reference frequency, peak strain \\n* This module was generated using Nrpy+ \\n*/\\n\"\n",
    "func_names_to_define = [strainampfunc_name,phasefunc_name]\n",
    "func_args_to_define = [strainampfunc_params,phasefunc_params]\n",
    "outfile = open(header_name,\"w\")\n",
    "outfile.write(header_text)\n",
    "outfile.write(include_headers)\n",
    "outfile.write(\"#ifndef {hcaps}\\n\".format(hcaps = header_caps))\n",
    "outfile.write(\"#define {hcaps}\\n\".format(hcaps = header_caps))\n",
    "for i in range(len(func_names_to_define)):\n",
    "    outfile.write(\"void {funcname}({funcparams});\\n\".format(funcname = func_names_to_define[i],funcparams=func_args_to_define[i]))\n",
    "outfile.write(\"#endif\\n\")\n",
    "outfile.write(strainamp_string)\n",
    "outfile.write(phase_string)\n",
    "outfile.close()\n"
   ]
  },
  {
   "cell_type": "code",
   "execution_count": null,
   "metadata": {},
   "outputs": [],
   "source": []
  }
 ],
 "metadata": {
  "kernelspec": {
   "display_name": "Python 3 (ipykernel)",
   "language": "python",
   "name": "python3"
  },
  "language_info": {
   "codemirror_mode": {
    "name": "ipython",
    "version": 3
   },
   "file_extension": ".py",
   "mimetype": "text/x-python",
   "name": "python",
   "nbconvert_exporter": "python",
   "pygments_lexer": "ipython3",
   "version": "3.11.5"
  }
 },
 "nbformat": 4,
 "nbformat_minor": 4
}
