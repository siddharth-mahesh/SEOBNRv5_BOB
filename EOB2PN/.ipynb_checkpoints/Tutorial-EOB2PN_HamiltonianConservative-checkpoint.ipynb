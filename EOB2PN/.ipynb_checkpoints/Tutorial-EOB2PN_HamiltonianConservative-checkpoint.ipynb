{
 "cells": [
  {
   "cell_type": "markdown",
   "metadata": {},
   "source": [
    "# The 2-PN Effective One-Body Hamiltonian\n",
    "\n",
    "## Author: Sid Mahesh\n",
    "\n",
    "## This module documents the original 2PN effective one-body Hamiltonian as described in the original 1998 paper.\n",
    "\n",
    "\n",
    "**Notebook Status:** <font color='red'><b> In Progress </b></font>\n",
    "\n",
    "<a id='intro'></a>\n",
    "\n",
    "## Introduction\n",
    "$$\\label{intro}$$\n",
    "\n",
    "### The Physical System of Interest\n",
    "\n",
    "Consider two black holes with masses $m_{1}$, $m_{2}$ and spins ${\\bf S}_{1}$, ${\\bf S}_{2}$ in a binary system.  The effective one-body (\"SEOB\") Hamiltonian $H_{\\rm real}$ (defined in [this cell](#hreal)) describes the dynamics of this system; we will define $H_{\\rm real}$ as in [Buonanno and Damour(1998)](https://arxiv.org/pdf/gr-qc/9811091.pdf).  There, $H_{\\rm real}$ is canonically transformed and mapped to an effective Hamiltonian $H_{\\rm eff}$ (defined in [this cell](#heff)) describing the motion of a test particle of mass $\\mu$ (defined in [this cell](#mu)) moving in a deformed Schwarzschild background.  Here we seek to break up $H_{\\rm real}$ and document the terms in such a way that the resulting Python code can be used to numerically evaluate $H_{\\rm real}$.\n",
    "\n",
    "We write $H_{\\rm real}$ in terms of Cartesian quasi-isotropic coordinates $x$, $y$.\n",
    "\n",
    "Please note that throughout this notebook we adpot the following conventions:\n",
    "\n",
    "1. $c = 1$ where $c$ is the speed of light in a vacuum,\n",
    "1. spacial tensor indicies are denoted by lowercase Latin letters,\n",
    "1. repeated indices indicate Einstein summation notation, and\n",
    "1. we normalize $M=1$ in all terms except for $\\eta$ and $\\mu$ for agreement with LALSuite.  Nonetheless, $M$ appears in other text cells for comparison with the cited literature.\n",
    "\n",
    "Running this notebook to completion will generate a file called Hreal_on_bottom.py.  This file contains the Python function compute_Hreal(), which takes as input m1, m2 (each in solar masses), and values for all four dynamic variables (2 components of the separation vector, 2 components of the momentum vector).  Note that the spin components should be dimensionless.\n",
    "\n",
    "### Citations\n",
    "Throughout this module, we will refer to\n",
    "* [Buonanno and Damour (1998)](https://arxiv.org/pdf/gr-qc/9811091.pdf) as BD1998,\n"
   ]
  },
  {
   "cell_type": "markdown",
   "metadata": {},
   "source": [
    "<a id='toc'></a>\n",
    "\n",
    "# Table of Contents\n",
    "$$\\label{toc}$$\n",
    "\n",
    "This notebook is organized as follows:\n",
    "\n",
    "1. [Step 0](#outputcreation): Creating the output directory for SEOBNR\n",
    "1. [Step 1](#hreal): The Real Hamiltonian $H_{\\rm real}$\n",
    "1. [Step 2](#heff): The Effective Hamiltonian $H_{\\rm eff}$\n",
    "1. [Step 3](#heff_terms): Terms of $H_{\\rm eff}$  \n",
    "    1. [Step 3.a](#hs): Leading Order Spin Effects $H_{\\rm S}$  \n",
    "    1. [Step 3.b](#hns): The Nonspinning Hamiltonian $H_{\\rm NS}$  \n",
    "    1. [Step 3.c](#hd): The Quadrupole Deformation $H_{\\rm D}$\n",
    "1. [Step 4](#hso): The Spin-Orbit Term $H_{\\rm SO}$  \n",
    "    1. [Step 4.a](#hsoterm1): $H_{\\rm SO}$ Term 1  \n",
    "    1. [Step 4.b](#hsoterm2coeff): $H_{\\rm SO}$ Term 2 Coefficient  \n",
    "    1. [Step 4.c](#hsoterm2): $H_{\\rm SO}$ Term 2  \n",
    "        1. [Step 4.c.i](#hsoterm2a): $H_{\\rm SO}$ Term 2a  \n",
    "        1. [Step 4.c.ii](#hsoterm2b): $H_{\\rm SO}$ Term 2b  \n",
    "        1. [Step 4.c.iii](#hsoterm2c): $H_{\\rm SO}$ Term 2c\n",
    "1. [Step 5](#hss): The Spin-Spin Term $H_{\\rm SS}$  \n",
    "    1. [Step 5.a](#hssterm1): $H_{\\rm SS}$ Term 1  \n",
    "    1. [Step 5.b](#hssterm2coeff): $H_{\\rm SS}$ Term 2 coefficient  \n",
    "    1. [Step 5.c](#hssterm2): $H_{\\rm SS}$ Term 2  \n",
    "    1. [Step 5.d](#hssterm3coeff): $H_{\\rm SS}$ Term 3 coefficient  \n",
    "    1. [Step 5.e](#hssterm3): $H_{\\rm SS}$ Term 3\n",
    "1. [Step 6](#hnsterms): The $H_{\\rm NS}$ Terms  \n",
    "    1. [Step 6.a](#betapsum): $\\beta p$ Sum  \n",
    "    1. [Step 6.b](#alpha): $\\alpha$  \n",
    "    1. [Step 6.c](#hnsradicand): $H_{\\rm NS}$ Radicand  \n",
    "        1. [Step 6.c.i](#gammappsum): $\\gamma p$ Sum  \n",
    "        1. [Step 6.c.ii](#q4): ${\\cal Q}_{4}$\n",
    "1. [Step 7](#hdterms): The $H_{\\rm D}$ Terms  \n",
    "    1. [Step 7.a](#hdcoeff): $H_{\\rm D}$ Coefficient  \n",
    "    1. [Step 7.b](#hdsum): $H_{\\rm D}$ Sum  \n",
    "        1. [Step 7.b.i](#hdsumterm1): $H_{\\rm D}$ Sum Term 1  \n",
    "        1. [Step 7.b.ii](#hdsumterm2): $H_{\\rm D}$ Sum Term 2\n",
    "1. [Step 8](#dotproducts): Common Dot Products\n",
    "    1. [Step 8.a](#sdotxi): ${\\bf S} \\cdot \\boldsymbol{\\xi}$  \n",
    "    1. [Step 8.b](#sdotv): ${\\bf S} \\cdot {\\bf v}$  \n",
    "    1. [Step 8.c](#sdotn): ${\\bf S} \\cdot {\\bf n}$  \n",
    "    1. [Step 8.d](#sdotskerrhat): ${\\bf S} \\cdot \\hat{\\bf S}_{\\rm Kerr}$  \n",
    "    1. [Step 8.e](#sstardotn): ${\\bf S}^{*} \\cdot {\\bf n}$\n",
    "1. [Step 9](#hreal_spin_combos): $H_{\\rm real}$ Spin Combination ${\\bf S}^{*}$  \n",
    "    1. [Step 9a](#sstar): ${\\bf S}^{*}$  \n",
    "    1. [Step 9b](#deltasigmastar): $\\Delta_{\\sigma^{*}}$  \n",
    "    1. [Step 9c](#sigmastarcoeff): $\\sigma^{*}$ Coefficient  \n",
    "        1. [Step 9c i](#sigmastarcoeffterm1): $\\sigma^{*}$ Coefficient Term 1  \n",
    "        1. [Step 9c ii](#sigmastarcoeffterm2): $\\sigma^{*}$ Coefficient Term 2   \n",
    "    1. [Step 9d](#sigmacoeff): $\\sigma$ Coefficient  \n",
    "        1. [Step 9d i](#sigmacoeffterm1): $\\sigma$ Coefficient Term 1  \n",
    "        1. [Step 9d ii](#sigmacoeffterm2): $\\sigma$ Coefficient Term 2  \n",
    "        1. [Step 9d iii](#sigmacoeffterm3): $\\sigma$ Coefficient Term 3\n",
    "1. [Step 10](#metpotderivs): Derivatives of the Metric Potential  \n",
    "    1. [Step 10.a](#omegar): $\\omega_{r}$  \n",
    "    1. [Step 10.b](#nur): $\\nu_{r}$  \n",
    "    1. [Step 10.c](#mur): $\\mu_{r}$  \n",
    "    1. [Step 10.d](#omegacostheta): $\\omega_{\\cos\\theta}$  \n",
    "    1. [Step 10.e](#nucostheta): $\\nu_{\\cos\\theta}$  \n",
    "    1. [Step 10.f](#mucostheta): $\\mu_{\\cos\\theta}$  \n",
    "    1. [Step 10.g](#lambdatprime): $\\Lambda_{t}^{\\prime}$  \n",
    "    1. [Step 10.h](#omegatildeprime): $\\tilde{\\omega}_{\\rm fd}^{\\prime}$\n",
    "1. [Step 11](#metpots): The Deformed and Rescaled Metric Potentials  \n",
    "    1. [Step 11.a](#omega): $\\omega$  \n",
    "    1. [Step 11.b](#exp2nu): $e^{2 \\nu}$  \n",
    "    1. [Step 11.c](#btilde): $\\tilde{B}$  \n",
    "    1. [Step 11.d](#brtilde): $\\tilde{B}_{r}$  \n",
    "    1. [Step 11.e](#exp2mu): $e^{2 \\tilde{\\mu}}$  \n",
    "    1. [Step 11.f](#jtilde): $\\tilde{J}$  \n",
    "    1. [Step 11.g](#q): $Q$  \n",
    "        1. [Step 11.g.i](#drsipn2): $\\frac{ \\Delta_{r} }{ \\Sigma } \\left( \\hat{\\bf p} \\cdot {\\bf n} \\right)^{2}$  \n",
    "        1. [Step 11.g.ii](#qcoeff1): Q Coefficient 1  \n",
    "        1. [Step 11.g.iii](#qcoeff2): Q Coefficient 2\n",
    "1. [Step 12](#tort): Tortoise terms  \n",
    "    1. [Step 12.a](#pphi): $p_{\\phi}$  \n",
    "    1. [Step 12.b](#pdotvr): $\\hat{\\bf p} \\cdot {\\bf v} r$  \n",
    "    1. [Step 12.c](#pdotn): $\\hat{\\bf p} \\cdot {\\bf n}$  \n",
    "    1. [Step 12.d](#pdotxir): $\\hat{\\bf p} \\cdot \\boldsymbol{\\xi} r$  \n",
    "    1. [Step 12.e](#hatp): $\\hat{\\bf p}$  \n",
    "    1. [Step 12.f](#prt): prT  \n",
    "    1. [Step 12.g](#csi2): csi2  \n",
    "    1. [Step 12.h](#csi1): csi1  \n",
    "    1. [Step 12.i](#csi): csi\n",
    "1. [Step 13](#metric): Metric Terms  \n",
    "    1. [Step 13.a](#lambdat): $\\Lambda_{t}$  \n",
    "    1. [Step 13.b](#deltar): $\\Delta_{r}$  \n",
    "    1. [Step 13.c](#deltat): $\\Delta_{t}$  \n",
    "    1. [Step 13.d](#deltatprime): $\\Delta_{t}^{\\prime}$  \n",
    "    1. [Step 13.e](#deltau): $\\Delta_{u}$  \n",
    "        1. [Step 13.e.i](#deltaubar): $\\bar{\\Delta}_{u}$  \n",
    "        1. [Step 13.e.ii](#deltaucalib): $\\Delta_{u}$ Calibration Term  \n",
    "        1. [Step 13.e.iii](#calib_coeffs): Calibration Coefficients  \n",
    "        1. [Step 13.e.iv](#k): $K$  \n",
    "        1. [Step 13.e.v](#chi): $\\chi$ \n",
    "    1. [Step 13.f](#omegatilde): $\\tilde{\\omega}_{\\rm fd}$  \n",
    "    1. [Step 13.g](#dinv): $D^{-1}$\n",
    "1. [Step 14](#coord): Terms Dependent on Coordinates  \n",
    "    1. [Step 14.a](#usigma): $\\Sigma$  \n",
    "    1. [Step 14.b](#w2): $\\varpi^{2}$   \n",
    "    1. [Step 14.d](#sin2theta): $\\sin^{2}\\theta$  \n",
    "    1. [Step 14.e](#costheta): $\\cos\\theta$\n",
    "1. [Step 15](#vectors): Important Vectors  \n",
    "    1. [Step 15.a](#v): ${\\bf v}$  \n",
    "    1. [Step 15.b](#xi): $\\boldsymbol{\\xi}$  \n",
    "    1. [Step 15.c](#e3): ${\\bf e}_{3}$  \n",
    "    1. [Step 15.d](#n): ${\\bf n}$\n",
    "    1. [Step 15.e](#sperp): ${\\bf S}^{\\perp}$\n",
    "    1. [Step 15.f](#orb_momentum): ${\\bf L}$\n",
    "1. [Step 16](#spin_combos): Spin Combinations $\\boldsymbol{\\sigma}$, $\\boldsymbol{\\sigma}^{*}$, and ${\\bf S}_{\\rm Kerr}$   \n",
    "    1. [Step 16.a](#a): $a$  \n",
    "    1. [Step 16.b](#skerrhat): $\\hat{\\bf S}_{\\rm Kerr}$  \n",
    "    1. [Step 16.c](#skerrmag): $\\left\\lvert {\\bf S}_{\\rm Kerr} \\right\\rvert$  \n",
    "    1. [Step 16.d](#skerr): ${\\bf S}_{\\rm Kerr}$  \n",
    "    1. [Step 16.e](#sigma): $\\boldsymbol{\\sigma}$  \n",
    "    1. [Step 16.f](#sigmastar): $\\boldsymbol{\\sigma}^{*}$\n",
    "1. [Step 17](#fundquant): Fundamental Quantities  \n",
    "    1. [Step 17.a](#u): $u$  \n",
    "    1. [Step 17.b](#r): $r$  \n",
    "    1. [Step 17.c](#eta): $\\eta$  \n",
    "    1. [Step 17.d](#mu): $\\mu$  \n",
    "    1. [Step 17.e](#m): $M$\n",
    "1. [Step 18](#validation): Validation\n",
    "1. [Step 19](#latex_pdf_output): Output this notebook to $\\LaTeX$-formatted PDF file"
   ]
  },
  {
   "cell_type": "markdown",
   "metadata": {},
   "source": [
    "<a id='outputcreation'></a>\n",
    "\n",
    "# Step 0: Creating the output directory for SEOBNR \\[Back to [top](#toc)\\]\n",
    "$$\\label{outputcreation}$$\n",
    "\n",
    "First we create the output directory for SEOBNR (if it does not already exist):"
   ]
  },
  {
   "cell_type": "code",
   "execution_count": 1,
   "metadata": {},
   "outputs": [],
   "source": [
    "import sys#TylerK: Add sys to get cmdline_helper from NRPy top directory; remove this line and next when debugged\n",
    "sys.path.append('../')\n",
    "import cmdline_helper as cmd     # NRPy+: Multi-platform Python command-line interface\n",
    "\n",
    "# Create C code output directory:\n",
    "Ccodesdir = \"Hamiltonian\"\n",
    "# Then create an output directory in case it does not exist\n",
    "cmd.mkdir(Ccodesdir)"
   ]
  },
  {
   "cell_type": "markdown",
   "metadata": {},
   "source": [
    "<a id='hreal'></a>\n",
    "\n",
    "# Step 1: The real Hamiltonian $H_{\\textrm{real}}$ \\[Back to [top](#toc)\\]\n",
    "$$\\label{hreal}$$\n",
    "\n",
    "The SEOB Hamiltonian $H_{\\rm real}$ is given by [BD1998](https://arxiv.org/abs/0912.3517) Equation (7.8):\n",
    "\n",
    "\\begin{equation*}\n",
    "    H_{\\rm real} = \\frac{1}{\\eta} \\sqrt{ 1 + 2 \\eta \\left( H_{\\rm eff} - 1 \\right) }.\n",
    "\\end{equation*}\n",
    "\n",
    "Here $H_{\\rm eff}$ (defined in [this cell](#heff)) is an *effective* Hamiltonian (see [this cell](#intro)) and $M$ (defined in [this cell](#m)), $\\mu$ (defined in [this cell](#mu)), and $\\eta$ (defined in [this cell](#eta)) are constants determined by $m_{1}$ and $m_{2}$."
   ]
  },
  {
   "cell_type": "code",
   "execution_count": 2,
   "metadata": {},
   "outputs": [
    {
     "name": "stdout",
     "output_type": "stream",
     "text": [
      "Overwriting Hamiltonian/EOB2PN_Hamiltonian-Hreal_on_top.txt\n"
     ]
    }
   ],
   "source": [
    "%%writefile $Ccodesdir/EOB2PN_Hamiltonian-Hreal_on_top.txt\n",
    "Hreal = sp.sqrt(1 + 2*eta*(Heff - 1))/eta"
   ]
  },
  {
   "cell_type": "markdown",
   "metadata": {},
   "source": [
    "<a id='heff'></a>\n",
    "\n",
    "# Step 2: The Effective Hamiltonian $H_{\\rm eff}$ \\[Back to [top](#toc)\\]\n",
    "$$\\label{heff}$$\n",
    "\n",
    "The effective Hamiltonian $H_{\\rm eff}$ is given by [BD1998](https://arxiv.org/pdf/gr-qc/9811091.pdf) Equation (6.5):\n",
    "\n",
    "\\begin{equation*}\n",
    "    H_{\\rm eff} = \\sqrt{ A \\left( 1 + p'^2 + ({\\bf p'} \\cdot {\\bf n'})^2 \\left( \\frac{1}{B} - 1 \\right) \\right)}  .\n",
    "\\end{equation*}\n",
    "\n",
    "Where, $p'$ denotes components of the Schwarzschild gauge momenta (as defined in [this cell](#pprime) and $n'$ denotes the normal vector for that gauge (as defined in [this cell](#nrpime). we define $B$ in [this cell](#B), and $A$ in [this cell](#A) "
   ]
  },
  {
   "cell_type": "code",
   "execution_count": 3,
   "metadata": {},
   "outputs": [
    {
     "name": "stdout",
     "output_type": "stream",
     "text": [
      "Appending to Hamiltonian/EOB2PN_Hamiltonian-Hreal_on_top.txt\n"
     ]
    }
   ],
   "source": [
    "%%writefile -a $Ccodesdir/EOB2PN_Hamiltonian-Hreal_on_top.txt\n",
    "\n",
    "Heff = sp.sqrt( A * (1 + pprimesq + nprimedotpprimesq*(Binv - 1)) )"
   ]
  },
  {
   "cell_type": "markdown",
   "metadata": {},
   "source": [
    "<a id='metpots'></a>\n",
    "\n",
    "# Step 3: The Deformed and Rescaled Metric Potentials \\[Back to [top](#toc)\\]\n",
    "$$\\label{metpots}$$\n",
    "\n",
    "We collect here terms of the deformed and scaled metric potentils.  See [BD1998](https://arxiv.org/pdf/gr-qc/9811091.pdf) Equations (5.30)--(5.34) and (5.48)--(5.52)."
   ]
  },
  {
   "cell_type": "markdown",
   "metadata": {},
   "source": [
    "<a id='A'></a>\n",
    "\n",
    "## Step 3.a: $A$ \\[Back to [top](#toc)\\]\n",
    "$$\\label{A}$$\n",
    "\n",
    "From [BD1998](https://arxiv.org/pdf/gr-qc/9811091.pdf) Equation (5.6) we have\n",
    "\n",
    "\\begin{equation*}\n",
    "    A = 1 - 2u' + 2\\eta u'^3.\n",
    "\\end{equation*}\n",
    "\n",
    "We define $u' = \\frac{1}{r'}$ in [this cell](#uprime) and $\\eta$ in [this cell](#eta)."
   ]
  },
  {
   "cell_type": "code",
   "execution_count": 4,
   "metadata": {},
   "outputs": [
    {
     "name": "stdout",
     "output_type": "stream",
     "text": [
      "Appending to Hamiltonian/EOB2PN_Hamiltonian-Hreal_on_top.txt\n"
     ]
    }
   ],
   "source": [
    "%%writefile -a $Ccodesdir/EOB2PN_Hamiltonian-Hreal_on_top.txt\n",
    "\n",
    "A = 1 - 2*uprime + 2*eta*uprime*uprime*uprime"
   ]
  },
  {
   "cell_type": "markdown",
   "metadata": {},
   "source": [
    "<a id='B'></a>\n",
    "\n",
    "## Step 11.b: $B$\\[Back to [top](#toc)\\]\n",
    "$$\\label{B}$$\n",
    "\n",
    "From [BB2010](https://arxiv.org/pdf/gr-qc/9811091.pdf) Equation (5.7), we have\n",
    "\n",
    "\\begin{equation*}\n",
    "    B = 1 + 2u' + (4-6\\eta)u'^2.\n",
    "\\end{equation*}\n",
    "\n",
    "We define $u'$ in [this cell](#uprime), and $eta$ in [this cell](#eta)."
   ]
  },
  {
   "cell_type": "code",
   "execution_count": 5,
   "metadata": {},
   "outputs": [
    {
     "name": "stdout",
     "output_type": "stream",
     "text": [
      "Appending to Hamiltonian/EOB2PN_Hamiltonian-Hreal_on_top.txt\n"
     ]
    }
   ],
   "source": [
    "%%writefile -a $Ccodesdir/EOB2PN_Hamiltonian-Hreal_on_top.txt\n",
    "\n",
    "Binv = 1/B\n",
    "B = 1 + 2*uprime + (4 - 6*eta)*uprime*uprime"
   ]
  },
  {
   "cell_type": "markdown",
   "metadata": {},
   "source": [
    "<a id='pphi'></a>\n",
    "\n",
    "## Step 12.a: $p'^2$ \\[Back to [top](#toc)\\]\n",
    "$$\\label{pphi}$$\n",
    "\n",
    "We define $p'^2$ as \n",
    "\n",
    "\\begin{equation*}\n",
    "    p'^2 = {\\bf p'} \\cdot {\\bf p'}.\n",
    "\\end{equation*}\n",
    "\n",
    "We define ${\\bf p'}$ in [this cell](#pprime)."
   ]
  },
  {
   "cell_type": "code",
   "execution_count": 6,
   "metadata": {},
   "outputs": [
    {
     "name": "stdout",
     "output_type": "stream",
     "text": [
      "Appending to Hamiltonian/EOB2PN_Hamiltonian-Hreal_on_top.txt\n"
     ]
    }
   ],
   "source": [
    "%%writefile -a $Ccodesdir/EOB2PN_Hamiltonian-Hreal_on_top.txt\n",
    "\n",
    "pprimesq = pprime1*pprime1 + pprime2*pprime2 + pprime3*pprime3"
   ]
  },
  {
   "cell_type": "markdown",
   "metadata": {},
   "source": [
    "<a id='pdotvr'></a>\n",
    "\n",
    "## Step 12.b: ${\\bf p'} \\cdot {\\bf n'}$ \\[Back to [top](#toc)\\]\n",
    "$$\\label{pprimedotnprime}$$\n",
    "\n",
    "We have\n",
    "\n",
    "\\begin{equation*}\n",
    "    {\\bf p'} \\cdot {\\bf n'} = \\left( {p'}_{1} n'_{1} + {p'}_{2} n'_{2} + {p'}_{3} n'_{3} \\right) \n",
    "\\end{equation*}\n",
    "\n",
    "We define ${\\bf p'}$ in [this cell](#pprimevec), and ${\\bf n'}$ in [this cell](#nprimevec)."
   ]
  },
  {
   "cell_type": "code",
   "execution_count": 7,
   "metadata": {},
   "outputs": [
    {
     "name": "stdout",
     "output_type": "stream",
     "text": [
      "Appending to Hamiltonian/EOB2PN_Hamiltonian-Hreal_on_top.txt\n"
     ]
    }
   ],
   "source": [
    "%%writefile -a $Ccodesdir/EOB2PN_Hamiltonian-Hreal_on_top.txt\n",
    "\n",
    "nprimedotpprimesq = pprimedotnprime*pprimedotnprime\n",
    "pprimedotnprime = pprime1*nprime1 + pprime2*nprime2 + pprime3*nprime3"
   ]
  },
  {
   "cell_type": "markdown",
   "metadata": {},
   "source": [
    "<a id='nprimevec'></a>\n",
    "\n",
    "## Step 12.b: ${\\bf n'}$ \\[Back to [top](#toc)\\]\n",
    "$$\\label{nprimevec}$$\n",
    "\n",
    "We have\n",
    "\n",
    "\\begin{equation*}\n",
    "    {\\bf n'} = \\frac{\\bf{q'}}{q'} \n",
    "\\end{equation*}\n",
    "\n",
    "We define ${\\bf q'}$ in [this cell](#qprimevec), and $q'$ in [this cell](#qprime)."
   ]
  },
  {
   "cell_type": "code",
   "execution_count": 8,
   "metadata": {},
   "outputs": [
    {
     "name": "stdout",
     "output_type": "stream",
     "text": [
      "Appending to Hamiltonian/EOB2PN_Hamiltonian-Hreal_on_top.txt\n"
     ]
    }
   ],
   "source": [
    "%%writefile -a $Ccodesdir/EOB2PN_Hamiltonian-Hreal_on_top.txt\n",
    "\n",
    "nprime1 = qprime1/qprime\n",
    "nprime2 = qprime2/qprime\n",
    "nprime3 = qprime3/qprime"
   ]
  },
  {
   "cell_type": "markdown",
   "metadata": {},
   "source": [
    "<a id='uprime'></a>\n",
    "\n",
    "## Step 12.b: $u'$ \\[Back to [top](#toc)\\]\n",
    "$$\\label{uprime}$$\n",
    "\n",
    "We have\n",
    "\n",
    "\\begin{equation*}\n",
    "    u' = \\frac{1}{q'} \n",
    "\\end{equation*}\n",
    "\n",
    "We define $q'$ in [this cell](#qprime)."
   ]
  },
  {
   "cell_type": "code",
   "execution_count": 9,
   "metadata": {},
   "outputs": [
    {
     "name": "stdout",
     "output_type": "stream",
     "text": [
      "Appending to Hamiltonian/EOB2PN_Hamiltonian-Hreal_on_top.txt\n"
     ]
    }
   ],
   "source": [
    "%%writefile -a $Ccodesdir/EOB2PN_Hamiltonian-Hreal_on_top.txt\n",
    "\n",
    "uprime = 1/qprime"
   ]
  },
  {
   "cell_type": "markdown",
   "metadata": {},
   "source": [
    "<a id='qprime'></a>\n",
    "\n",
    "## Step 12.b: $q'$ \\[Back to [top](#toc)\\]\n",
    "$$\\label{qprime}$$\n",
    "\n",
    "We have\n",
    "\n",
    "\\begin{equation*}\n",
    "    q' = \\sqrt{{\\bf q'}\\cdot{\\bf q'}} \n",
    "\\end{equation*}\n",
    "\n",
    "We define ${\\bf q'}$ in [this cell](#qprimevec)."
   ]
  },
  {
   "cell_type": "code",
   "execution_count": 10,
   "metadata": {},
   "outputs": [
    {
     "name": "stdout",
     "output_type": "stream",
     "text": [
      "Appending to Hamiltonian/EOB2PN_Hamiltonian-Hreal_on_top.txt\n"
     ]
    }
   ],
   "source": [
    "%%writefile -a $Ccodesdir/EOB2PN_Hamiltonian-Hreal_on_top.txt\n",
    "\n",
    "qprime = sp.sqrt(qprimesq)\n",
    "qprimesq = qprime1*qprime1 + qprime2*qprime2 + qprime3*qprime3"
   ]
  },
  {
   "cell_type": "markdown",
   "metadata": {},
   "source": [
    "<a id='tort'></a>\n",
    "\n",
    "# Step 12: Schwarzschild Terms \\[Back to [top](#toc)\\]\n",
    "$$\\label{tort}$$\n",
    "\n",
    "We collect here terms related to the conversion from ADM coordinates to Schwarzschild coordinates.  Details of the converstion are given in the Sec.VI of [BD1998](https://arxiv.org/pdf/gr-qc/9811091.pdf)."
   ]
  },
  {
   "cell_type": "markdown",
   "metadata": {},
   "source": [
    "<a id='hatp'></a>\n",
    "\n",
    "## Step 12.e: ${\\bf p'}$ \\[Back to [top](#toc)\\]\n",
    "$$\\label{pprimevec}$$\n",
    "\n",
    "From the discussion after [BD1998](https://arxiv.org/pdf/gr-qc/9811091.pdf) Sec.VI, we have ${\\bf p'}$ as the *conjugate* momentum. Following Eq.(6.23) of [B1998](https://arxiv.org/pdf/gr-qc/9811091.pdf) \n",
    "\n",
    "\\begin{equation*}\n",
    "    p'_i =  p_i \n",
    "    + \\underbrace{\\left\\{ -\\left(1 + \\frac{\\eta}{2}\\right)u p_i + \\frac{eta {\\bf p}^2}{2} p_i + \\left(1 + \\frac{eta}{2}\\right)u({\\bf n}\\cdot{\\bf p})n_i   \\right\\}}_{p'_{\\rm 1PN}} \n",
    "    + \\underbrace{ \\left\\{ \\frac{\\eta \\left(-1 + 3\\eta\\right){\\bf p}^4}{8} p_i + \\frac{(3 + 11\\eta)u^2 }{4} p_i - \\left(3 + \\frac{eta}{2}\\right)\\frac{3\\eta{\\bf p}^2 u}{4} p_i + \\left(-2 - 18\\eta + \\eta^2\\right)\\frac{({\\bf n}\\cdot{\\bf p}) u^2}{4} n_i + \\left(10 - \\eta\\right)\\frac{\\eta u ({\\bf n}\\cdot{\\bf p}) {\\bf p}^2}{8} n_i - \\left(16 + 5\\eta\\right)\\frac{\\eta u ({\\bf n}\\cdot{\\bf p})^2}{8} p_i + \\frac{3\\eta u ({\\bf n}\\cdot{\\bf p})^3}{8} n_i  \\right\\} }_{p'_{\\rm 2PN}}. \n",
    "\\end{equation*}\n",
    "\n",
    "We define $p'_{\\rm 1PN}$ in [this cell](#pprime1pn), and $p'_{\\rm 2PN}$ in [this cell](#pprime2PN)."
   ]
  },
  {
   "cell_type": "code",
   "execution_count": 11,
   "metadata": {},
   "outputs": [
    {
     "name": "stdout",
     "output_type": "stream",
     "text": [
      "Appending to Hamiltonian/EOB2PN_Hamiltonian-Hreal_on_top.txt\n"
     ]
    }
   ],
   "source": [
    "%%writefile -a $Ccodesdir/EOB2PN_Hamiltonian-Hreal_on_top.txt\n",
    "\n",
    "pprime1 = p1 + pprime1PN1 + pprime2PN1\n",
    "pprime2 = p2 + pprime1PN2 + pprime2PN2\n",
    "pprime3 = p3 + pprime1PN3 + pprime2PN3"
   ]
  },
  {
   "cell_type": "markdown",
   "metadata": {},
   "source": [
    "<a id='hatp'></a>\n",
    "\n",
    "## Step 12.e: ${\\bf p'}_{\\rm 1PN}$ \\[Back to [top](#toc)\\]\n",
    "$$\\label{pprimevec}$$\n",
    "\n",
    "We have,\n",
    "\n",
    "\\begin{equation*}\n",
    "    p'_{{\\rm 1PN}, i} =  \\left\\{ -\\left(1 + \\frac{\\eta}{2}\\right)u p_i + \\frac{eta {\\bf p}^2}{2} p_i + \\left(1 + \\frac{eta}{2}\\right)u({\\bf n}\\cdot{\\bf p})n_i   \\right\\} \n",
    "   . \n",
    "\\end{equation*}\n",
    "\n",
    "We define $p'_{\\rm 1PN}$ in [this cell](#pprime1pn), and $p'_{\\rm 2PN}$ in [this cell](#pprime2PN)."
   ]
  },
  {
   "cell_type": "code",
   "execution_count": 12,
   "metadata": {},
   "outputs": [
    {
     "name": "stdout",
     "output_type": "stream",
     "text": [
      "Appending to Hamiltonian/EOB2PN_Hamiltonian-Hreal_on_top.txt\n"
     ]
    }
   ],
   "source": [
    "%%writefile -a $Ccodesdir/EOB2PN_Hamiltonian-Hreal_on_top.txt\n",
    "\n",
    "pprime1PN1 = -(1 + 0.5*eta)*u*p1 + 0.5*eta*psq*p1 + (1 + 0.5*eta)*u*ndotp*n1\n",
    "pprime1PN2 = -(1 + 0.5*eta)*u*p2 + 0.5*eta*psq*p2 + (1 + 0.5*eta)*u*ndotp*n2\n",
    "pprime1PN3 = -(1 + 0.5*eta)*u*p3 + 0.5*eta*psq*p3 + (1 + 0.5*eta)*u*ndotp*n3"
   ]
  },
  {
   "cell_type": "markdown",
   "metadata": {},
   "source": [
    "<a id='hatp'></a>\n",
    "\n",
    "## Step 12.e: ${\\bf p'}_{\\rm 2PN}$ \\[Back to [top](#toc)\\]\n",
    "$$\\label{pprimevec}$$\n",
    "\n",
    "We have,\n",
    "\n",
    "\\begin{equation*}\n",
    "    p'_{{\\rm 2PN}, i} =  \\frac{\\eta \\left(-1 + 3\\eta\\right){\\bf p}^4}{8} p_i + \\frac{(3 + 11\\eta)u^2 }{4} p_i - \\left(3 + \\frac{eta}{2}\\right)\\frac{3\\eta{\\bf p}^2 u}{4} p_i + \\left(-2 - 18\\eta + \\eta^2\\right)\\frac{({\\bf n}\\cdot{\\bf p}) u^2}{4} n_i + \\left(10 - \\eta\\right)\\frac{\\eta u ({\\bf n}\\cdot{\\bf p}) {\\bf p}^2}{8} n_i - \\left(16 + 5\\eta\\right)\\frac{\\eta u ({\\bf n}\\cdot{\\bf p})^2}{8} p_i + \\frac{3\\eta u ({\\bf n}\\cdot{\\bf p})^3}{8} n_i . \n",
    "\\end{equation*}\n",
    "\n",
    "We define $p'_{\\rm 1PN}$ in [this cell](#pprime1pn), and $p'_{\\rm 2PN}$ in [this cell](#pprime2PN)."
   ]
  },
  {
   "cell_type": "code",
   "execution_count": 13,
   "metadata": {},
   "outputs": [
    {
     "name": "stdout",
     "output_type": "stream",
     "text": [
      "Appending to Hamiltonian/EOB2PN_Hamiltonian-Hreal_on_top.txt\n"
     ]
    }
   ],
   "source": [
    "%%writefile -a $Ccodesdir/EOB2PN_Hamiltonian-Hreal_on_top.txt\n",
    "\n",
    "pprime2PN1 = 0.125*eta*psq*psq*(-1 + 3*eta)*p1 + 0.25*(3 + 11*eta)*u*u*p1 - 0.75*(3 + 0.5*eta)*ndotp*u*u*n1 + 0.25*(-2 -18*eta+ eta*eta)*u*u*n1 + 0.125*(10 - eta)*eta*u*ndotp*psq*n1 - 0.125*(16+5*eta)*eta*u*ndotp*ndotp*p1 + 0.375*eta*u*ndotp*ndotp*ndotp*n1\n",
    "pprime2PN2 = 0.125*eta*psq*psq*(-1 + 3*eta)*p2 + 0.25*(3 + 11*eta)*u*u*p2 - 0.75*(3 + 0.5*eta)*ndotp*u*u*n2 + 0.25*(-2 -18*eta+ eta*eta)*u*u*n2 + 0.125*(10 - eta)*eta*u*ndotp*psq*n2 - 0.125*(16+5*eta)*eta*u*ndotp*ndotp*p2 + 0.375*eta*u*ndotp*ndotp*ndotp*n2\n",
    "pprime2PN3 = 0.125*eta*psq*psq*(-1 + 3*eta)*p3 + 0.25*(3 + 11*eta)*u*u*p3 - 0.75*(3 + 0.5*eta)*ndotp*u*u*n3 + 0.25*(-2 -18*eta+ eta*eta)*u*u*n3 + 0.125*(10 - eta)*eta*u*ndotp*psq*n3 - 0.125*(16+5*eta)*eta*u*ndotp*ndotp*p3 + 0.375*eta*u*ndotp*ndotp*ndotp*n3"
   ]
  },
  {
   "cell_type": "markdown",
   "metadata": {},
   "source": [
    "<a id='hatp'></a>\n",
    "\n",
    "## Step 12.e: ${\\bf q'}$ \\[Back to [top](#toc)\\]\n",
    "$$\\label{pprime}$$\n",
    "\n",
    "From the discussion after [BD1998](https://arxiv.org/pdf/gr-qc/9811091.pdf) Sec.VI, we have ${\\bf q'}$ as the ADM coordinate. Following Eq.(6.23) of [B1998](https://arxiv.org/pdf/gr-qc/9811091.pdf) \n",
    "\n",
    "\\begin{equation*}\n",
    "    q'^i =  q^i  + \\underbrace{\\left\\{ \\left(1 + \\frac{\\eta}{2}\\right) n^i - \\frac{eta {\\bf p}^2}{2} q^i - \\eta q ({\\bf n}\\cdot{\\bf p}) p^i \\right\\}}_{q'_{\\rm 1PN}}    \n",
    "    + \\underbrace{ \\left\\{ \\left(1 + \\frac{eta}{8}\\right)\\eta({\\bf n}\\cdot{\\bf p})^2n^i + \\left(5 - \\frac{eta}{2}\\right)\\frac{\\eta {\\bf p}^2}{4}n^i + \\left(1 - \\frac{eta}{2}\\right)\\frac{3\\eta ({\\bf n}\\cdot{\\bf p})}{2}p^i + \\left(1 - 7\\eta + \\eta^2\\right)\\frac{u}{4} n^i + \\left(1 - \\eta\\right)\\frac{\\eta q{\\bf p}^4}{8} n^i + \\left(1 + \\eta\\right)\\frac{\\eta q({\\bf n}\\cdot{\\bf p}){\\bf p}^2}{2}p^i \\right\\} }_{p'_{\\rm 2PN}}. \n",
    "\\end{equation*}\n",
    "\n",
    "We define $q'_{\\rm 1PN}$ in [this cell](#qprime1pn), and $q'_{\\rm 2PN}$ in [this cell](#qprime2PN)."
   ]
  },
  {
   "cell_type": "code",
   "execution_count": 14,
   "metadata": {},
   "outputs": [
    {
     "name": "stdout",
     "output_type": "stream",
     "text": [
      "Appending to Hamiltonian/EOB2PN_Hamiltonian-Hreal_on_top.txt\n"
     ]
    }
   ],
   "source": [
    "%%writefile -a $Ccodesdir/EOB2PN_Hamiltonian-Hreal_on_top.txt\n",
    "\n",
    "qprime1 = q1 + qprime1PN1 + qprime2PN1\n",
    "qprime2 = q2 + qprime1PN2 + qprime2PN2\n",
    "qprime3 = q3 + qprime1PN3 + qprime2PN3"
   ]
  },
  {
   "cell_type": "markdown",
   "metadata": {},
   "source": [
    "<a id='qprime1PN'></a>\n",
    "\n",
    "## Step 12.e: ${\\bf q'}_{\\rm 1PN}$ \\[Back to [top](#toc)\\]\n",
    "$$\\label{qprime1PN}$$\n",
    "\n",
    "We have,\n",
    "\n",
    "\\begin{equation*}\n",
    "    q'^i_{{\\rm 1PN}} =  \\left\\{ \\left(1 + \\frac{\\eta}{2}\\right) n^i + \\frac{eta {\\bf p}^2}{2} q^i + \\eta q({\\bf n}\\cdot{\\bf p}) p^i   \\right\\} \n",
    "   . \n",
    "\\end{equation*}\n",
    "\n",
    "We define $\\eta$ in [this cell](#eta), ${\\bf n}$ in [this cell](#nvec), ${\\bf p}^2$ in [this cell](#psq) and ${\\bf n}\\cdot{\\bf p}$ in [this cell](#ndotp)."
   ]
  },
  {
   "cell_type": "code",
   "execution_count": 15,
   "metadata": {},
   "outputs": [
    {
     "name": "stdout",
     "output_type": "stream",
     "text": [
      "Appending to Hamiltonian/EOB2PN_Hamiltonian-Hreal_on_top.txt\n"
     ]
    }
   ],
   "source": [
    "%%writefile -a $Ccodesdir/EOB2PN_Hamiltonian-Hreal_on_top.txt\n",
    "\n",
    "qprime1PN1 = (1 + 0.5*eta)*n1 + 0.5*eta*psq*q1 + eta*q*ndotp*p1\n",
    "qprime1PN2 = (1 + 0.5*eta)*n2 + 0.5*eta*psq*q2 + eta*q*ndotp*p2\n",
    "qprime1PN3 = (1 + 0.5*eta)*n3 + 0.5*eta*psq*q3 + eta*q*ndotp*p3"
   ]
  },
  {
   "cell_type": "markdown",
   "metadata": {},
   "source": [
    "<a id='qprime2PN'></a>\n",
    "\n",
    "## Step 12.e: ${\\bf q'}_{\\rm 2PN}$ \\[Back to [top](#toc)\\]\n",
    "$$\\label{qprime2PN}$$\n",
    "\n",
    "We have,\n",
    "\n",
    "\\begin{equation*}\n",
    "    q'^i_{{\\rm 2PN}} =  \\left\\{ \\left(1 + \\frac{eta}{8}\\right)\\eta({\\bf n}\\cdot{\\bf p})^2n^i + \\left(5 - \\frac{eta}{2}\\right)\\frac{\\eta {\\bf p}^2}{4}n^i + \\left(1 - \\frac{eta}{2}\\right)\\frac{3\\eta ({\\bf n}\\cdot{\\bf p})}{2}p^i + \\left(1 - 7\\eta + \\eta^2\\right)\\frac{u}{4} n^i + \\left(1 - \\eta\\right)\\frac{\\eta q{\\bf p}^4}{8} n^i + \\left(1 + \\eta\\right)\\frac{\\eta q({\\bf n}\\cdot{\\bf p}){\\bf p}^2}{2}p^i \\right\\}. \n",
    "\\end{equation*}\n",
    "\n",
    "We define $p'_{\\rm 1PN}$ in [this cell](#pprime1pn), and $p'_{\\rm 2PN}$ in [this cell](#pprime2PN)."
   ]
  },
  {
   "cell_type": "code",
   "execution_count": 16,
   "metadata": {},
   "outputs": [
    {
     "name": "stdout",
     "output_type": "stream",
     "text": [
      "Appending to Hamiltonian/EOB2PN_Hamiltonian-Hreal_on_top.txt\n"
     ]
    }
   ],
   "source": [
    "%%writefile -a $Ccodesdir/EOB2PN_Hamiltonian-Hreal_on_top.txt\n",
    "\n",
    "qprime2PN1 = (1 + 0.125*eta)*eta*ndotp*ndotp*n1 + 0.25*(5 - 0.5*eta)*eta*psq*n1 + 1.5*(1 - 0.5*eta)*eta*ndotp*p1  + 0.25*(1 - 7*eta + eta*eta)*u*n1 + 0.125*(1 - eta)*eta*q*psq*psq*n1 + 0.5*(1 + eta)*eta*q*ndotp*psq*p1\n",
    "qprime2PN2 = (1 + 0.125*eta)*eta*ndotp*ndotp*n2 + 0.25*(5 - 0.5*eta)*eta*psq*n2 + 1.5*(1 - 0.5*eta)*eta*ndotp*p2  + 0.25*(1 - 7*eta + eta*eta)*u*n2 + 0.125*(1 - eta)*eta*q*psq*psq*n2 + 0.5*(1 + eta)*eta*q*ndotp*psq*p2\n",
    "qprime2PN3 = (1 + 0.125*eta)*eta*ndotp*ndotp*n3 + 0.25*(5 - 0.5*eta)*eta*psq*n3 + 1.5*(1 - 0.5*eta)*eta*ndotp*p3  + 0.25*(1 - 7*eta + eta*eta)*u*n3 + 0.125*(1 - eta)*eta*q*psq*psq*n3 + 0.5*(1 + eta)*eta*q*ndotp*psq*p3"
   ]
  },
  {
   "cell_type": "markdown",
   "metadata": {},
   "source": [
    "<a id='coord'></a>\n",
    "\n",
    "# Step 14: Terms Dependent on Coordinates \\[Back to [top](#toc)\\]\n",
    "$$\\label{coord}$$\n",
    "\n",
    "We collect here terms directly dependend on the coordinates.  See [BB2010](https://arxiv.org/abs/0912.3517) Equations (4.5) and (4.6)."
   ]
  },
  {
   "cell_type": "markdown",
   "metadata": {},
   "source": [
    "<a id='ndotp'></a>\n",
    "\n",
    "## Step 15.d: ${\\bf n}\\cdot{\\bf p}$ \\[Back to [top](#toc)\\]\n",
    "$$\\label{ndotp}$$\n",
    "\n",
    "We have\n",
    "\n",
    "\\begin{equation*}\n",
    "    {\\bf n}\\cdot{\\bf p} = p_1n^1 + p_2n^2 + p_3n^3\n",
    "\\end{equation*}\n",
    "\n",
    "We define ${\\bf n}$ in [this cell](#nvec)."
   ]
  },
  {
   "cell_type": "code",
   "execution_count": 17,
   "metadata": {},
   "outputs": [
    {
     "name": "stdout",
     "output_type": "stream",
     "text": [
      "Appending to Hamiltonian/EOB2PN_Hamiltonian-Hreal_on_top.txt\n"
     ]
    }
   ],
   "source": [
    "%%writefile -a $Ccodesdir/EOB2PN_Hamiltonian-Hreal_on_top.txt\n",
    "\n",
    "ndotp = n1*p1 + n2*p2 + n3*p3"
   ]
  },
  {
   "cell_type": "markdown",
   "metadata": {},
   "source": [
    "<a id='n'></a>\n",
    "\n",
    "## Step 15.d: ${\\bf n}$ \\[Back to [top](#toc)\\]\n",
    "$$\\label{n}$$\n",
    "\n",
    "From [BB2010](https://arxiv.org/abs/0912.3517) Equation (3.37), we have\n",
    "\n",
    "\\begin{equation*}\n",
    "    {\\bf n} = \\frac{\\bf x }{ r }\n",
    "\\end{equation*}\n",
    "\n",
    "where ${\\bf x} = (x, y, z)$.  We define $r$ in [this cell](#r)."
   ]
  },
  {
   "cell_type": "code",
   "execution_count": 18,
   "metadata": {},
   "outputs": [
    {
     "name": "stdout",
     "output_type": "stream",
     "text": [
      "Appending to Hamiltonian/EOB2PN_Hamiltonian-Hreal_on_top.txt\n"
     ]
    }
   ],
   "source": [
    "%%writefile -a $Ccodesdir/EOB2PN_Hamiltonian-Hreal_on_top.txt\n",
    "\n",
    "n1 = q1/q\n",
    "n2 = q2/q\n",
    "n3 = q3/q"
   ]
  },
  {
   "cell_type": "markdown",
   "metadata": {},
   "source": [
    "<a id='psq'></a>\n",
    "\n",
    "## Step 17.b: ${\\bf p}^2$ \\[Back to [top](#toc)\\]\n",
    "$$\\label{psq}$$\n",
    "\n",
    "we have,\n",
    "\n",
    "\\begin{equation*}\n",
    "    {\\bf p}^2 = p1^{2} + p2^{2} + p3^{2} .\n",
    "\\end{equation*}"
   ]
  },
  {
   "cell_type": "code",
   "execution_count": 19,
   "metadata": {},
   "outputs": [
    {
     "name": "stdout",
     "output_type": "stream",
     "text": [
      "Appending to Hamiltonian/EOB2PN_Hamiltonian-Hreal_on_top.txt\n"
     ]
    }
   ],
   "source": [
    "%%writefile -a $Ccodesdir/EOB2PN_Hamiltonian-Hreal_on_top.txt\n",
    "\n",
    "psq = p1*p1 + p2*p2 + p3*p3"
   ]
  },
  {
   "cell_type": "markdown",
   "metadata": {},
   "source": [
    "<a id='u'></a>\n",
    "\n",
    "## Step 17.a: $u$ \\[Back to [top](#toc)\\]\n",
    "$$\\label{u}$$\n",
    "\n",
    "From the discussion after [BB2010](https://arxiv.org/abs/0912.3517) Equation (5.40),\n",
    "\n",
    "\\begin{equation*}\n",
    "    u = \\frac{ M }{ r }.\n",
    "\\end{equation*}\n",
    "\n",
    "We define $M$ in [this cell](#m) and $r$ in [this cell](#r)."
   ]
  },
  {
   "cell_type": "code",
   "execution_count": 20,
   "metadata": {},
   "outputs": [
    {
     "name": "stdout",
     "output_type": "stream",
     "text": [
      "Appending to Hamiltonian/EOB2PN_Hamiltonian-Hreal_on_top.txt\n"
     ]
    }
   ],
   "source": [
    "%%writefile -a $Ccodesdir/EOB2PN_Hamiltonian-Hreal_on_top.txt\n",
    "\n",
    "u = 1/q"
   ]
  },
  {
   "cell_type": "markdown",
   "metadata": {},
   "source": [
    "<a id='r'></a>\n",
    "\n",
    "## Step 17.b: $r$ \\[Back to [top](#toc)\\]\n",
    "$$\\label{r}$$\n",
    "\n",
    "From the discussion after [BB2010](https://arxiv.org/abs/0912.3517) Equation (5.52),\n",
    "\n",
    "\\begin{equation*}\n",
    "    r = \\sqrt{ x^{2} + y^{2} + z^{2} }.\n",
    "\\end{equation*}"
   ]
  },
  {
   "cell_type": "code",
   "execution_count": 21,
   "metadata": {},
   "outputs": [
    {
     "name": "stdout",
     "output_type": "stream",
     "text": [
      "Appending to Hamiltonian/EOB2PN_Hamiltonian-Hreal_on_top.txt\n"
     ]
    }
   ],
   "source": [
    "%%writefile -a $Ccodesdir/EOB2PN_Hamiltonian-Hreal_on_top.txt\n",
    "\n",
    "q = sp.sqrt(q1*q1 + q2*q2 + q3*q3)"
   ]
  },
  {
   "cell_type": "markdown",
   "metadata": {},
   "source": [
    "<a id='eta'></a>\n",
    "\n",
    "## Step 17.c: $\\eta$ \\[Back to [top](#toc)\\]\n",
    "$$\\label{eta}$$\n",
    "\n",
    "From the discussion preceding [BB2010](https://arxiv.org/abs/0912.3517) Equation (5.1),\n",
    "\n",
    "\\begin{equation*}\n",
    "    \\eta = \\frac{ \\mu }{ M }.\n",
    "\\end{equation*}\n",
    "\n",
    "We define $\\mu$ in [this cell](#mu)."
   ]
  },
  {
   "cell_type": "code",
   "execution_count": 22,
   "metadata": {},
   "outputs": [
    {
     "name": "stdout",
     "output_type": "stream",
     "text": [
      "Appending to Hamiltonian/EOB2PN_Hamiltonian-Hreal_on_top.txt\n"
     ]
    }
   ],
   "source": [
    "%%writefile -a $Ccodesdir/EOB2PN_Hamiltonian-Hreal_on_top.txt\n",
    "\n",
    "eta = mu/M"
   ]
  },
  {
   "cell_type": "markdown",
   "metadata": {},
   "source": [
    "<a id='mu'></a>\n",
    "\n",
    "## Step 17.d: $\\mu$ \\[Back to [top](#toc)\\]\n",
    "$$\\label{mu}$$\n",
    "\n",
    "From the discussion preceding [BB2010](https://arxiv.org/abs/0912.3517) Equation (5.1),\n",
    "\n",
    "\\begin{equation*}\n",
    "    \\mu = \\frac{ m_{1} m_{2} }{ M }.\n",
    "\\end{equation*}\n",
    "\n",
    "We define $M$ in [this cell](#m)."
   ]
  },
  {
   "cell_type": "code",
   "execution_count": 23,
   "metadata": {},
   "outputs": [
    {
     "name": "stdout",
     "output_type": "stream",
     "text": [
      "Appending to Hamiltonian/EOB2PN_Hamiltonian-Hreal_on_top.txt\n"
     ]
    }
   ],
   "source": [
    "%%writefile -a $Ccodesdir/EOB2PN_Hamiltonian-Hreal_on_top.txt\n",
    "\n",
    "mu = m1*m2/M"
   ]
  },
  {
   "cell_type": "markdown",
   "metadata": {},
   "source": [
    "<a id='m'></a>\n",
    "\n",
    "## Step 17.e: $M$ \\[Back to [top](#toc)\\]\n",
    "$$\\label{m}$$\n",
    "\n",
    "From the discussion preceding [BB2010](https://arxiv.org/abs/0912.3517) Equation (5.1),\n",
    "\n",
    "\\begin{equation*}\n",
    "    M = m_{1} + m_{2}.\n",
    "\\end{equation*}"
   ]
  },
  {
   "cell_type": "code",
   "execution_count": 24,
   "metadata": {
    "tags": []
   },
   "outputs": [
    {
     "name": "stdout",
     "output_type": "stream",
     "text": [
      "Appending to Hamiltonian/EOB2PN_Hamiltonian-Hreal_on_top.txt\n"
     ]
    }
   ],
   "source": [
    "%%writefile -a $Ccodesdir/EOB2PN_Hamiltonian-Hreal_on_top.txt\n",
    "\n",
    "M = m1 + m2"
   ]
  },
  {
   "cell_type": "markdown",
   "metadata": {},
   "source": [
    "<a id='validation'></a>\n",
    "\n",
    "# Step 18: Validation \\[Back to [top](#toc)\\]\n",
    "$$\\label{validation}$$\n",
    "\n",
    "The following code cell reverses the order of the expressions output to SEOBNR/Hamiltonian_on_top.txt and creates a Python function to validate the value of $H_{\\rm real}$ against the SEOBNRv3 Hamiltonian value computed in LALSuite git commit bba40f21e9 for command-line input parameters\n",
    "\n",
    "-M 23 -m 10 -f 20 -X 0.01 -Y 0.02 -Z -0.03 -x 0.04 -y -0.05 -z 0.06."
   ]
  },
  {
   "cell_type": "code",
   "execution_count": 25,
   "metadata": {},
   "outputs": [],
   "source": [
    "import numpy as np\n",
    "import difflib, sys, os\n",
    "\n",
    "# The subterms in the Hamiltonian expression are sometimes written on more than\n",
    "# one line for readability in this Jupyter notebook.  We first create a file of\n",
    "# one-line expressions, Hamiltonian-Hreal_one_line_expressions.txt.\n",
    "with open(os.path.join(Ccodesdir,\"EOB2PN_Hamiltonian-Hreal_one_line_expressions.txt\"), \"w\") as output:\n",
    "    count = 0\n",
    "    # Read output of this notebook\n",
    "    for line in list(open(os.path.join(Ccodesdir,\"EOB2PN_Hamiltonian-Hreal_on_top.txt\"))):\n",
    "        # Read the first line\n",
    "        if count == 0:\n",
    "            prevline=line\n",
    "        #Check if prevline is a complete expression\n",
    "        elif \"=\" in prevline and \"=\" in line:\n",
    "            output.write(\"%s\\n\" % prevline.strip('\\n'))\n",
    "            prevline=line\n",
    "        # Check if line needs to be adjoined to prevline\n",
    "        elif \"=\" in prevline and not \"=\" in line:\n",
    "            prevline = prevline.strip('\\n')\n",
    "            prevline = (prevline+line).replace(\" \",\"\")\n",
    "        # Be sure to print the last line.\n",
    "        if count == len(list(open(os.path.join(Ccodesdir,\"EOB2PN_Hamiltonian-Hreal_on_top.txt\"))))-1:\n",
    "            if not \"=\" in line:\n",
    "                print(\"ERROR. Algorithm not robust if there is no equals sign on the final line. Sorry.\")\n",
    "                sys.exit(1)\n",
    "            else:\n",
    "                output.write(\"%s\" % line)\n",
    "        count = count + 1\n",
    "\n",
    "# Now reverse the expressions and write them in a function\n",
    "# This formulation is used to check that we get a reasonable H_real value\n",
    "with open(os.path.join(Ccodesdir,\"EOB2PN_Hreal_on_bottom.py\"), \"w\") as output:\n",
    "    output.write(\"import numpy as np\\ndef compute_EOB2PN_Hreal(m1=23., m2=10., q1=2.1242072413581923e+01, q2=0., q3=0., p1=0., p2=2.1696072000958128e-01, p3=1.0000000000000000e-03):\\n\")\n",
    "    for line in reversed(list(open(os.path.join(Ccodesdir,\"EOB2PN_Hamiltonian-Hreal_one_line_expressions.txt\")))):\n",
    "        output.write(\"    %s\\n\" % line.rstrip().replace(\"sp.sqrt\", \"np.sqrt\"))    \n",
    "    output.write(\"    return Hreal\")\n",
    "\n",
    "with open(os.path.join(Ccodesdir,\"sympy_EOB2PN_Hreal_on_bottom.txt\"), \"w\") as output:\n",
    "    for line in reversed(list(open(os.path.join(Ccodesdir,\"EOB2PN_Hamiltonian-Hreal_one_line_expressions.txt\")))):\n",
    "        output.write(\"    %s\\n\" % line.rstrip())\n",
    "  "
   ]
  },
  {
   "cell_type": "code",
   "execution_count": 28,
   "metadata": {},
   "outputs": [
    {
     "name": "stdout",
     "output_type": "stream",
     "text": [
      "4.704970479464614\n"
     ]
    }
   ],
   "source": [
    "## full validation\n",
    "values = {'x': 1.4259078376654086e+01, 'y': 4.6517844216509792e+00, 'z': -1.6649957934359583e-01,'p1': -9.0348390910360066e-02, 'p2': 2.7336861213133029e-01, 'p3': -5.4799993224698335e-04,'tortoise': 2}\n",
    "m1 = 23.\n",
    "m2 = 10.\n",
    "\n",
    "import Hamiltonian.EOB2PN_Hreal_on_bottom as Hreal_full\n",
    "\n",
    "output = Hreal_full.compute_EOB2PN_Hreal(m1,m2,values['x'],values['y'],values['z'],values['p1'],values['p2'],values['p3'])\n",
    "\n",
    "print(output)\n"
   ]
  },
  {
   "cell_type": "markdown",
   "metadata": {},
   "source": [
    "<a id='latex_pdf_output'></a>\n",
    "\n",
    "# Step 19: Output this notebook to $\\LaTeX$-formatted PDF file \\[Back to [top](#toc)\\]\n",
    "$$\\label{latex_pdf_output}$$\n",
    "\n",
    "The following code cell converts this Jupyter notebook into a proper, clickable $\\LaTeX$-formatted PDF file. After the cell is successfully run, the generated PDF may be found in the root NRPy+ tutorial directory, with filename\n",
    "[Tutorial-SEOBNR_Documentation.pdf](Tutorial-SEOBNR_Documentation.pdf) (Note that clicking on this link may not work; you may need to open the PDF file through another means.)"
   ]
  },
  {
   "cell_type": "code",
   "execution_count": 27,
   "metadata": {
    "scrolled": true
   },
   "outputs": [
    {
     "name": "stdout",
     "output_type": "stream",
     "text": [
      "[NbConvertApp] WARNING | pattern 'Tutorial-SEOBNR_Documentation.ipynb' matched no files\n"
     ]
    },
    {
     "ename": "FileNotFoundError",
     "evalue": "[WinError 2] The system cannot find the file specified",
     "output_type": "error",
     "traceback": [
      "\u001b[1;31m---------------------------------------------------------------------------\u001b[0m",
      "\u001b[1;31mFileNotFoundError\u001b[0m                         Traceback (most recent call last)",
      "\u001b[1;32m<ipython-input-27-9c300e7f83d4>\u001b[0m in \u001b[0;36m<module>\u001b[1;34m\u001b[0m\n\u001b[0;32m      1\u001b[0m \u001b[1;32mimport\u001b[0m \u001b[0mcmdline_helper\u001b[0m \u001b[1;32mas\u001b[0m \u001b[0mcmd\u001b[0m    \u001b[1;31m# NRPy+: Multi-platform Python command-line interface\u001b[0m\u001b[1;33m\u001b[0m\u001b[1;33m\u001b[0m\u001b[0m\n\u001b[1;32m----> 2\u001b[1;33m \u001b[0mcmd\u001b[0m\u001b[1;33m.\u001b[0m\u001b[0moutput_Jupyter_notebook_to_LaTeXed_PDF\u001b[0m\u001b[1;33m(\u001b[0m\u001b[1;34m\"Tutorial-SEOBNR_Documentation\"\u001b[0m\u001b[1;33m)\u001b[0m\u001b[1;33m\u001b[0m\u001b[1;33m\u001b[0m\u001b[0m\n\u001b[0m",
      "\u001b[1;32m~\\OneDrive\\Documents\\GitHub\\bob\\cmdline_helper.py\u001b[0m in \u001b[0;36moutput_Jupyter_notebook_to_LaTeXed_PDF\u001b[1;34m(notebookname, location_of_template_file, verbose)\u001b[0m\n\u001b[0;32m    247\u001b[0m                          +r\" --log-level='WARN' \"+notebookname+\".ipynb\",verbose=False)\n\u001b[0;32m    248\u001b[0m     \u001b[1;32mfor\u001b[0m \u001b[0m_i\u001b[0m \u001b[1;32min\u001b[0m \u001b[0mrange\u001b[0m\u001b[1;33m(\u001b[0m\u001b[1;36m3\u001b[0m\u001b[1;33m)\u001b[0m\u001b[1;33m:\u001b[0m  \u001b[1;31m# _i is an unused variable.\u001b[0m\u001b[1;33m\u001b[0m\u001b[1;33m\u001b[0m\u001b[0m\n\u001b[1;32m--> 249\u001b[1;33m         \u001b[0mExecute_input_string\u001b[0m\u001b[1;33m(\u001b[0m\u001b[1;34mr\"pdflatex -interaction=batchmode \"\u001b[0m\u001b[1;33m+\u001b[0m\u001b[0mnotebookname\u001b[0m\u001b[1;33m+\u001b[0m\u001b[1;34m\".tex\"\u001b[0m\u001b[1;33m,\u001b[0m\u001b[0mverbose\u001b[0m\u001b[1;33m=\u001b[0m\u001b[1;32mFalse\u001b[0m\u001b[1;33m)\u001b[0m\u001b[1;33m\u001b[0m\u001b[1;33m\u001b[0m\u001b[0m\n\u001b[0m\u001b[0;32m    250\u001b[0m     \u001b[0mdelete_existing_files\u001b[0m\u001b[1;33m(\u001b[0m\u001b[0mnotebookname\u001b[0m\u001b[1;33m+\u001b[0m\u001b[1;34m\".out \"\u001b[0m\u001b[1;33m+\u001b[0m\u001b[0mnotebookname\u001b[0m\u001b[1;33m+\u001b[0m\u001b[1;34m\".aux \"\u001b[0m\u001b[1;33m+\u001b[0m\u001b[0mnotebookname\u001b[0m\u001b[1;33m+\u001b[0m\u001b[1;34m\".log\"\u001b[0m\u001b[1;33m)\u001b[0m\u001b[1;33m\u001b[0m\u001b[1;33m\u001b[0m\u001b[0m\n\u001b[0;32m    251\u001b[0m     \u001b[1;32mif\u001b[0m \u001b[0mverbose\u001b[0m\u001b[1;33m:\u001b[0m\u001b[1;33m\u001b[0m\u001b[1;33m\u001b[0m\u001b[0m\n",
      "\u001b[1;32m~\\OneDrive\\Documents\\GitHub\\bob\\cmdline_helper.py\u001b[0m in \u001b[0;36mExecute_input_string\u001b[1;34m(input_string, file_to_redirect_stdout, verbose)\u001b[0m\n\u001b[0;32m    214\u001b[0m     \u001b[0mfilename\u001b[0m \u001b[1;33m=\u001b[0m \u001b[1;34m\"tmp.txt\"\u001b[0m\u001b[1;33m\u001b[0m\u001b[1;33m\u001b[0m\u001b[0m\n\u001b[0;32m    215\u001b[0m     \u001b[1;32mwith\u001b[0m \u001b[0mio\u001b[0m\u001b[1;33m.\u001b[0m\u001b[0mopen\u001b[0m\u001b[1;33m(\u001b[0m\u001b[0mfilename\u001b[0m\u001b[1;33m,\u001b[0m \u001b[1;34m'w'\u001b[0m\u001b[1;33m)\u001b[0m \u001b[1;32mas\u001b[0m \u001b[0mwriter\u001b[0m\u001b[1;33m,\u001b[0m \u001b[0mio\u001b[0m\u001b[1;33m.\u001b[0m\u001b[0mopen\u001b[0m\u001b[1;33m(\u001b[0m\u001b[0mfilename\u001b[0m\u001b[1;33m,\u001b[0m \u001b[1;34m'rb'\u001b[0m\u001b[1;33m,\u001b[0m \u001b[0mbuffering\u001b[0m\u001b[1;33m=\u001b[0m\u001b[1;33m-\u001b[0m\u001b[1;36m1\u001b[0m\u001b[1;33m)\u001b[0m \u001b[1;32mas\u001b[0m \u001b[0mreader\u001b[0m\u001b[1;33m,\u001b[0m \u001b[0mio\u001b[0m\u001b[1;33m.\u001b[0m\u001b[0mopen\u001b[0m\u001b[1;33m(\u001b[0m\u001b[0mfile_to_redirect_stdout\u001b[0m\u001b[1;33m,\u001b[0m \u001b[1;34m'wb'\u001b[0m\u001b[1;33m)\u001b[0m \u001b[1;32mas\u001b[0m \u001b[0mrdirect\u001b[0m\u001b[1;33m:\u001b[0m\u001b[1;33m\u001b[0m\u001b[1;33m\u001b[0m\u001b[0m\n\u001b[1;32m--> 216\u001b[1;33m         \u001b[0mprocess\u001b[0m \u001b[1;33m=\u001b[0m \u001b[0msubprocess\u001b[0m\u001b[1;33m.\u001b[0m\u001b[0mPopen\u001b[0m\u001b[1;33m(\u001b[0m\u001b[0margs\u001b[0m\u001b[1;33m,\u001b[0m \u001b[0mstdout\u001b[0m\u001b[1;33m=\u001b[0m\u001b[0mrdirect\u001b[0m\u001b[1;33m,\u001b[0m \u001b[0mstderr\u001b[0m\u001b[1;33m=\u001b[0m\u001b[0mwriter\u001b[0m\u001b[1;33m)\u001b[0m\u001b[1;33m\u001b[0m\u001b[1;33m\u001b[0m\u001b[0m\n\u001b[0m\u001b[0;32m    217\u001b[0m         \u001b[1;32mwhile\u001b[0m \u001b[0mprocess\u001b[0m\u001b[1;33m.\u001b[0m\u001b[0mpoll\u001b[0m\u001b[1;33m(\u001b[0m\u001b[1;33m)\u001b[0m \u001b[1;32mis\u001b[0m \u001b[1;32mNone\u001b[0m\u001b[1;33m:\u001b[0m\u001b[1;33m\u001b[0m\u001b[1;33m\u001b[0m\u001b[0m\n\u001b[0;32m    218\u001b[0m             \u001b[1;31m# https://stackoverflow.com/questions/21689365/python-3-typeerror-must-be-str-not-bytes-with-sys-stdout-write/21689447\u001b[0m\u001b[1;33m\u001b[0m\u001b[1;33m\u001b[0m\u001b[1;33m\u001b[0m\u001b[0m\n",
      "\u001b[1;32m~\\anaconda3\\lib\\subprocess.py\u001b[0m in \u001b[0;36m__init__\u001b[1;34m(self, args, bufsize, executable, stdin, stdout, stderr, preexec_fn, close_fds, shell, cwd, env, universal_newlines, startupinfo, creationflags, restore_signals, start_new_session, pass_fds, encoding, errors, text)\u001b[0m\n\u001b[0;32m    856\u001b[0m                             encoding=encoding, errors=errors)\n\u001b[0;32m    857\u001b[0m \u001b[1;33m\u001b[0m\u001b[0m\n\u001b[1;32m--> 858\u001b[1;33m             self._execute_child(args, executable, preexec_fn, close_fds,\n\u001b[0m\u001b[0;32m    859\u001b[0m                                 \u001b[0mpass_fds\u001b[0m\u001b[1;33m,\u001b[0m \u001b[0mcwd\u001b[0m\u001b[1;33m,\u001b[0m \u001b[0menv\u001b[0m\u001b[1;33m,\u001b[0m\u001b[1;33m\u001b[0m\u001b[1;33m\u001b[0m\u001b[0m\n\u001b[0;32m    860\u001b[0m                                 \u001b[0mstartupinfo\u001b[0m\u001b[1;33m,\u001b[0m \u001b[0mcreationflags\u001b[0m\u001b[1;33m,\u001b[0m \u001b[0mshell\u001b[0m\u001b[1;33m,\u001b[0m\u001b[1;33m\u001b[0m\u001b[1;33m\u001b[0m\u001b[0m\n",
      "\u001b[1;32m~\\anaconda3\\lib\\subprocess.py\u001b[0m in \u001b[0;36m_execute_child\u001b[1;34m(self, args, executable, preexec_fn, close_fds, pass_fds, cwd, env, startupinfo, creationflags, shell, p2cread, p2cwrite, c2pread, c2pwrite, errread, errwrite, unused_restore_signals, unused_start_new_session)\u001b[0m\n\u001b[0;32m   1309\u001b[0m             \u001b[1;31m# Start the process\u001b[0m\u001b[1;33m\u001b[0m\u001b[1;33m\u001b[0m\u001b[1;33m\u001b[0m\u001b[0m\n\u001b[0;32m   1310\u001b[0m             \u001b[1;32mtry\u001b[0m\u001b[1;33m:\u001b[0m\u001b[1;33m\u001b[0m\u001b[1;33m\u001b[0m\u001b[0m\n\u001b[1;32m-> 1311\u001b[1;33m                 hp, ht, pid, tid = _winapi.CreateProcess(executable, args,\n\u001b[0m\u001b[0;32m   1312\u001b[0m                                          \u001b[1;31m# no special security\u001b[0m\u001b[1;33m\u001b[0m\u001b[1;33m\u001b[0m\u001b[1;33m\u001b[0m\u001b[0m\n\u001b[0;32m   1313\u001b[0m                                          \u001b[1;32mNone\u001b[0m\u001b[1;33m,\u001b[0m \u001b[1;32mNone\u001b[0m\u001b[1;33m,\u001b[0m\u001b[1;33m\u001b[0m\u001b[1;33m\u001b[0m\u001b[0m\n",
      "\u001b[1;31mFileNotFoundError\u001b[0m: [WinError 2] The system cannot find the file specified"
     ]
    }
   ],
   "source": [
    "import cmdline_helper as cmd    # NRPy+: Multi-platform Python command-line interface\n",
    "cmd.output_Jupyter_notebook_to_LaTeXed_PDF(\"Tutorial-SEOBNR_Documentation\")"
   ]
  },
  {
   "cell_type": "code",
   "execution_count": null,
   "metadata": {},
   "outputs": [],
   "source": []
  }
 ],
 "metadata": {
  "kernelspec": {
   "display_name": "Python 3",
   "language": "python",
   "name": "python3"
  },
  "language_info": {
   "codemirror_mode": {
    "name": "ipython",
    "version": 3
   },
   "file_extension": ".py",
   "mimetype": "text/x-python",
   "name": "python",
   "nbconvert_exporter": "python",
   "pygments_lexer": "ipython3",
   "version": "3.8.8"
  }
 },
 "nbformat": 4,
 "nbformat_minor": 4
}
