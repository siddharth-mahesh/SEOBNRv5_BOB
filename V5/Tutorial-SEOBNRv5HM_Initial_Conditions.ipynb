{
 "cells": [
  {
   "cell_type": "markdown",
   "id": "b680443e",
   "metadata": {},
   "source": [
    "# Initial Conditions\n",
    "\n",
    "\n",
    "In order to compute the dynamics in SEOBNRv5HM, we will need accurate quasi-circular initial conditions. these initial conditions need to be computed given the following waveform parameters:\n",
    "\n",
    "- The total mass $M$ in solar masses\n",
    "- The mass ratio $q$ given as $\\tfrac{m_1}{m_2}$ s.t $q \\geq 1$.\n",
    "- The spins $S_1$, and $S_2$ of the binary in dimensionless units\n",
    "- The starting gravitational wave frequency in Hz\n",
    "\n",
    "First, we implement the systems of equations needed to be solved for the primitive variables and then build the initial conditions routine to get the primitive variables from the above inputs."
   ]
  },
  {
   "cell_type": "code",
   "execution_count": 1,
   "id": "87571223",
   "metadata": {},
   "outputs": [],
   "source": [
    "import sys,os#Add sys to get cmdline_helper from NRPy top directory; remove this line and next when debugged\n",
    "sys.path.append('../')\n",
    "import cmdline_helper as cmd     # NRPy+: Multi-platform Python command-line interface\n",
    "\n",
    "# Create C code output directory:\n",
    "Ccodesdir = \"Dynamics\"\n",
    "# Then create an output directory in case it does not exist\n",
    "cmd.mkdir(Ccodesdir)"
   ]
  },
  {
   "cell_type": "markdown",
   "id": "983d1e50",
   "metadata": {},
   "source": [
    "# Step : Transform mass ratio to individual masses\n",
    "\n",
    "We use the normalization choice $m_1 + m_2 \\equiv M = 1$ to get\n",
    "\n",
    "$$\n",
    "m_1 = \\frac{q}{1 + q}\\\\\n",
    "m_2 = \\frac{1}{1 + q}\n",
    "$$"
   ]
  },
  {
   "cell_type": "code",
   "execution_count": 2,
   "id": "b43d801c",
   "metadata": {},
   "outputs": [
    {
     "name": "stdout",
     "output_type": "stream",
     "text": [
      "Writing Dynamics/v5HM_Initial_Conditions.txt\n"
     ]
    }
   ],
   "source": [
    "%%writefile -a $Ccodesdir/v5HM_Initial_Conditions.txt\n",
    "m1 = q/(1 + q)\n",
    "m2 = 1/(1 + q)"
   ]
  },
  {
   "cell_type": "markdown",
   "id": "85449b9d",
   "metadata": {},
   "source": [
    "# Step : Incorporate the spins\n",
    "\n",
    "We define the spins as \n",
    "\n",
    "$$\n",
    "\\chi_{1,2} = S_{1,2}\n",
    "$$\n",
    "\n",
    "Since in the spin-aligned model only the z-component is needed."
   ]
  },
  {
   "cell_type": "code",
   "execution_count": 3,
   "id": "ab24ca92",
   "metadata": {},
   "outputs": [
    {
     "name": "stdout",
     "output_type": "stream",
     "text": [
      "Appending to Dynamics/v5HM_Initial_Conditions.txt\n"
     ]
    }
   ],
   "source": [
    "%%writefile -a $Ccodesdir/v5HM_Initial_Conditions.txt\n",
    "chi1 = S1\n",
    "chi2 = S2"
   ]
  },
  {
   "cell_type": "markdown",
   "id": "a4fa344c",
   "metadata": {},
   "source": [
    "# Step : Convert the starting frequency to orbital frequency\n",
    "\n",
    "Noting that the plane of the polarization of the gravitational wave \"rotates at twice the orbital rate\" (see the \"Effects of passing\" section of [this Wikipedia article](https://en.wikipedia.org/wiki/Gravitational_wave#Effects_of_passing)), the initial orbital frequency is\n",
    " \n",
    "\\begin{equation*}\n",
    "    \\omega = M \\mathcal{M}_{\\odot} \\pi f.\n",
    "\\end{equation*}\n"
   ]
  },
  {
   "cell_type": "code",
   "execution_count": 4,
   "id": "9b7bed7b",
   "metadata": {},
   "outputs": [
    {
     "name": "stdout",
     "output_type": "stream",
     "text": [
      "Appending to Dynamics/v5HM_Initial_Conditions.txt\n"
     ]
    }
   ],
   "source": [
    "%%writefile -a $Ccodesdir/v5HM_Initial_Conditions.txt\n",
    "Msol = 4.925491025543575903411922162094833998e-6\n",
    "Omega_start = M*Msol*sp.pi*f"
   ]
  },
  {
   "cell_type": "markdown",
   "id": "dfb87341",
   "metadata": {},
   "source": [
    "# Step : Get the initial guess for the radius and angular momentum\n",
    "\n",
    "We use Kepler's law for circular orbits to get the following guess\n",
    "\n",
    "$$\n",
    "r_{\\rm guess} = \\omega^{-2/3}\\\\\n",
    "p_{\\phi,\\rm guess} = r_{\\rm guess}^{2}\\omega = \\omega^{-1/3}\n",
    "$$"
   ]
  },
  {
   "cell_type": "code",
   "execution_count": 5,
   "id": "6f464b12",
   "metadata": {},
   "outputs": [
    {
     "name": "stdout",
     "output_type": "stream",
     "text": [
      "Appending to Dynamics/v5HM_Initial_Conditions.txt\n"
     ]
    }
   ],
   "source": [
    "%%writefile -a $Ccodesdir/v5HM_Initial_Conditions.txt\n",
    "r_guess = Omega_start**(-2/3)\n",
    "pphi_guess = Omega_start**(-1/3)"
   ]
  },
  {
   "cell_type": "markdown",
   "id": "e9a8f487",
   "metadata": {},
   "source": [
    "# Step : Compute the conservative initial conditions\n",
    "\n",
    "In this step, we compute the purely conservative (i.e in the absence of radiation reaction) circular initial conditions.\n",
    "The equations for a circular orbit with orbital frequency $\\omega$ is given by:\n",
    "\n",
    "$$\n",
    "\\dot{\\phi} = \\omega = \\left.\\frac{\\partial H}{\\partial p_{\\phi}}\\right|_{p_{r_*} = 0}\\\\\n",
    "\\dot{p}_{r} = -\\left.\\frac{\\partial H}{\\partial r}\\right|_{p_{r_*} = 0}\n",
    "$$\n",
    "\n",
    "We solve the above system of non-linear system of equations.\n",
    "Note: We are using a tolerance of `6e-12` as this is the choice pyseobnr makes."
   ]
  },
  {
   "cell_type": "code",
   "execution_count": 6,
   "id": "c235216a",
   "metadata": {},
   "outputs": [
    {
     "name": "stdout",
     "output_type": "stream",
     "text": [
      "Appending to Dynamics/v5HM_Initial_Conditions.txt\n"
     ]
    }
   ],
   "source": [
    "%%writefile -a $Ccodesdir/v5HM_Initial_Conditions.txt\n",
    "sol_cons_guess = np.array(r_guess)\n",
    "params_cons = np.array([m1,m2,chi1,chi2,Omega_start])\n",
    "sol_cons = root(IC_cons,sol_cons_guess,args = (params),tol = 6e-12)\n",
    "r , pphi = sol_cons.x[0] , sol_cons.x[1]"
   ]
  },
  {
   "cell_type": "markdown",
   "id": "b7525c7c",
   "metadata": {},
   "source": [
    "# Step : Compute the dissipative initial conditions\n",
    "\n",
    "In this step, we find the value of $p_{r_*}$ using the ansatz:\n",
    "\n",
    "$$\n",
    "\\frac{d r}{dt} \\equiv \\left[ \\frac{ \\frac{d p_{\\phi}}{d t} }{ \\frac{d p_{\\phi}}{d r} } \\right].\n",
    "$$\n",
    "\n",
    "Where, $\\frac{d p_{\\phi}}{d t} = \\mathcal{F}_{\\phi}$. In the quasi-circular limit $d\\left(\\frac{\\partial H}{\\partial r}\\right) = 0$ we get:\n",
    "\n",
    "$$\n",
    "\\frac{dl}{dr} = -\\frac{ \\frac{\\partial^2 H}{\\partial r^2} }{ \\frac{\\partial^2 H}{\\partial r \\partial p_{\\phi}} }.\n",
    "$$\n",
    "\n",
    "Thus, we can find the initial value by $p_{r_*}$ by solving the following non-linear equation:\n",
    "\n",
    "$$\n",
    "\\xi\\frac{\\partial H}{\\partial p_{r_{*}}} = -\\frac{ \\mathcal{F}_{\\phi} \\frac{\\partial^2 H}{\\partial r \\partial p_{\\phi}} }{ \\frac{\\partial^2 H}{\\partial r^2} }\n",
    "$$\n",
    "\n",
    "We use a guess bracket (i.e an interval the contains the root c.f [scipy.optimise documentation](https://docs.scipy.org/doc/scipy/reference/generated/scipy.optimize.root_scalar.html#scipy.optimize.root_scalar)) of $[-3\\times10^{-2},0]$ that is consistent with pyseobnr. Additionally, pyseobnr uses an absolute tolerance of `1e-12`, and a relative tolerance of `1e-10`.\n"
   ]
  },
  {
   "cell_type": "code",
   "execution_count": 7,
   "id": "f94866b3",
   "metadata": {},
   "outputs": [
    {
     "name": "stdout",
     "output_type": "stream",
     "text": [
      "Appending to Dynamics/v5HM_Initial_Conditions.txt\n"
     ]
    }
   ],
   "source": [
    "%%writefile -a $Ccodesdir/v5HM_Initial_Conditions.txt\n",
    "params_diss = np.array([r,pphi,m1,m2,chi1,chi2])\n",
    "prstar_bracket = [-3e-2,0]\n",
    "prstar_sol = root_scalar(IC_diss, args = params, bracket = prstar_bracket, xtol = 1e-12, rtol = 1e-10)\n",
    "prstar = prstar_sol.root"
   ]
  },
  {
   "cell_type": "markdown",
   "id": "c988d3ef",
   "metadata": {},
   "source": [
    "# Step : Store the routine in a python file"
   ]
  },
  {
   "cell_type": "code",
   "execution_count": 9,
   "id": "24a97985",
   "metadata": {},
   "outputs": [],
   "source": [
    "with open(os.path.join(Ccodesdir,\"v5HM_Initial_Conditions.py\"),\"w\") as output:\n",
    "    output.write(\"import numpy as np\\n from scipy.optimize import root, root_scalar\\nfrom ..Derivatives.v5HM_Initial_Conditions_Conservative import v5HM_unoptimized_IC_cons as IC_cons\\nfrom ..Derivatives.v5HM_Initial_Conditions_Dissipative import v5HM_unoptimized_IC_diss as IC_diss\\n\")\n",
    "    output.write(\"def v5HM_initial_conditions(M,q,S1,S2,f):\\n\")\n",
    "    for line in list(open(os.path.join(Ccodesdir,\"v5HM_Initial_Conditions.txt\"),\"r\")):\n",
    "        output.write(\"   %s \\n\"%line.rstrip())\n",
    "    output.write(\"    return np.array([r,0.,prstar,pphi])\")"
   ]
  },
  {
   "cell_type": "code",
   "execution_count": null,
   "id": "cc9ebcf5",
   "metadata": {},
   "outputs": [],
   "source": []
  }
 ],
 "metadata": {
  "kernelspec": {
   "display_name": "Python 3",
   "language": "python",
   "name": "python3"
  },
  "language_info": {
   "codemirror_mode": {
    "name": "ipython",
    "version": 3
   },
   "file_extension": ".py",
   "mimetype": "text/x-python",
   "name": "python",
   "nbconvert_exporter": "python",
   "pygments_lexer": "ipython3",
   "version": "3.8.8"
  }
 },
 "nbformat": 4,
 "nbformat_minor": 5
}
