{
 "cells": [
  {
   "cell_type": "markdown",
   "id": "b680443e",
   "metadata": {},
   "source": [
    "# Initialization Routine\n",
    "\n",
    "\n",
    "In order to compute the dynamics in SEOBNRv5HM, we will need accurate quasi-circular initial conditions. these initial conditions need to be computed given the following waveform parameters:\n",
    "\n",
    "- The total mass $M$ in solar masses\n",
    "- The mass ratio $q$ given as $\\tfrac{m_1}{m_2}$ s.t $q \\geq 1$.\n",
    "- The spins $S_1$, and $S_2$ of the binary in dimensionless units\n",
    "- The starting gravitational wave frequency in Hz\n",
    "\n",
    "First, we implement the systems of equations needed to be solved for the primitive variables and then build the initial conditions routine to get the primitive variables from the above inputs.\n",
    "\n",
    "Additionally, SEOBNRv5HM calculates quantities related to the end stages of the inspiral. These include:\n",
    "\n",
    "- The stopping radius at which to terminate the integration\n",
    "- A fit for the strain and frequency of the "
   ]
  },
  {
   "cell_type": "code",
   "execution_count": 1,
   "id": "87571223",
   "metadata": {},
   "outputs": [],
   "source": [
    "import sys,os#Add sys to get cmdline_helper from NRPy top directory; remove this line and next when debugged\n",
    "sys.path.append('../')\n",
    "import cmdline_helper as cmd     # NRPy+: Multi-platform Python command-line interface\n",
    "\n",
    "# Create C code output directory:\n",
    "Ccodesdir = \"Dynamics\"\n",
    "# Then create an output directory in case it does not exist\n",
    "cmd.mkdir(Ccodesdir)"
   ]
  },
  {
   "cell_type": "markdown",
   "id": "983d1e50",
   "metadata": {},
   "source": [
    "# Step : Transform mass ratio to individual masses\n",
    "\n",
    "We use the normalization choice $m_1 + m_2 \\equiv M = 1$ to get\n",
    "\n",
    "$$\n",
    "m_1 = \\frac{q}{1 + q}\\\\\n",
    "m_2 = \\frac{1}{1 + q}\n",
    "$$"
   ]
  },
  {
   "cell_type": "code",
   "execution_count": 2,
   "id": "b43d801c",
   "metadata": {},
   "outputs": [
    {
     "name": "stdout",
     "output_type": "stream",
     "text": [
      "Overwriting Dynamics/v5HM_BOB_Initial_Conditions_Calibration.txt\n"
     ]
    }
   ],
   "source": [
    "%%writefile $Ccodesdir/v5HM_BOB_Initial_Conditions_Calibration.txt\n",
    "m1 = q/(1 + q)\n",
    "m2 = 1/(1 + q)\n",
    "nu = m1*m2"
   ]
  },
  {
   "cell_type": "markdown",
   "id": "85449b9d",
   "metadata": {},
   "source": [
    "# Step : Incorporate the spins\n",
    "\n",
    "We define the spins as \n",
    "\n",
    "$$\n",
    "\\chi_{1,2} = S_{1,2}\n",
    "$$\n",
    "\n",
    "Since in the spin-aligned model only the z-component is needed."
   ]
  },
  {
   "cell_type": "code",
   "execution_count": 3,
   "id": "ab24ca92",
   "metadata": {},
   "outputs": [
    {
     "name": "stdout",
     "output_type": "stream",
     "text": [
      "Appending to Dynamics/v5HM_BOB_Initial_Conditions_Calibration.txt\n"
     ]
    }
   ],
   "source": [
    "%%writefile -a $Ccodesdir/v5HM_BOB_Initial_Conditions_Calibration.txt\n",
    "chi1 = S1\n",
    "chi2 = S2"
   ]
  },
  {
   "cell_type": "markdown",
   "id": "a4fa344c",
   "metadata": {},
   "source": [
    "# Step : Convert the starting frequency to orbital frequency\n",
    "\n",
    "Noting that the plane of the polarization of the gravitational wave \"rotates at twice the orbital rate\" (see the \"Effects of passing\" section of [this Wikipedia article](https://en.wikipedia.org/wiki/Gravitational_wave#Effects_of_passing)), the initial orbital frequency is\n",
    " \n",
    "\\begin{equation*}\n",
    "    \\omega = M \\mathcal{M}_{\\odot} \\pi f.\n",
    "\\end{equation*}\n"
   ]
  },
  {
   "cell_type": "code",
   "execution_count": 4,
   "id": "9b7bed7b",
   "metadata": {
    "scrolled": true
   },
   "outputs": [
    {
     "name": "stdout",
     "output_type": "stream",
     "text": [
      "Appending to Dynamics/v5HM_BOB_Initial_Conditions_Calibration.txt\n"
     ]
    }
   ],
   "source": [
    "%%writefile -a $Ccodesdir/v5HM_BOB_Initial_Conditions_Calibration.txt\n",
    "Msol = 4.925491025543575903411922162094833998e-6\n",
    "Omega_0 = M*Msol*np.pi*f"
   ]
  },
  {
   "cell_type": "markdown",
   "id": "b83a2312",
   "metadata": {},
   "source": [
    "# Step : Compute initial step size\n",
    "\n",
    "In this step we will define the initial choice for the step size given in line 117 of pyseobnr's [integrate_ode.py](https://git.ligo.org/waveforms/software/pyseobnr/-/blob/main/pyseobnr/eob/dynamics/integrate_ode.py):\n",
    "\n",
    "$$\n",
    "h = \\frac{2\\pi}{5\\Omega_0 }\n",
    "$$"
   ]
  },
  {
   "cell_type": "code",
   "execution_count": 5,
   "id": "58052d58",
   "metadata": {},
   "outputs": [
    {
     "name": "stdout",
     "output_type": "stream",
     "text": [
      "Appending to Dynamics/v5HM_BOB_Initial_Conditions_Calibration.txt\n"
     ]
    }
   ],
   "source": [
    "%%writefile -a $Ccodesdir/v5HM_BOB_Initial_Conditions_Calibration.txt\n",
    "\n",
    "h = 2*np.pi/5/Omega_0"
   ]
  },
  {
   "cell_type": "markdown",
   "id": "dfb87341",
   "metadata": {},
   "source": [
    "# Step : Get the initial guess for the radius and angular momentum\n",
    "\n",
    "We use Kepler's law for circular orbits to get the following guess\n",
    "\n",
    "$$\n",
    "r_{\\rm guess} = \\omega^{-2/3}\\\\\n",
    "p_{\\phi,\\rm guess} = r_{\\rm guess}^{2}\\omega = \\omega^{-1/3}\n",
    "$$"
   ]
  },
  {
   "cell_type": "code",
   "execution_count": 6,
   "id": "6f464b12",
   "metadata": {},
   "outputs": [
    {
     "name": "stdout",
     "output_type": "stream",
     "text": [
      "Appending to Dynamics/v5HM_BOB_Initial_Conditions_Calibration.txt\n"
     ]
    }
   ],
   "source": [
    "%%writefile -a $Ccodesdir/v5HM_BOB_Initial_Conditions_Calibration.txt\n",
    "r_guess = Omega_0**(-2/3)\n",
    "pphi_guess = Omega_0**(-1/3)"
   ]
  },
  {
   "cell_type": "markdown",
   "id": "e9a8f487",
   "metadata": {},
   "source": [
    "# Step : Compute the conservative initial conditions\n",
    "\n",
    "In this step, we compute the purely conservative (i.e in the absence of radiation reaction) circular initial conditions.\n",
    "The equations for a circular orbit with orbital frequency $\\omega$ is given by:\n",
    "\n",
    "$$\n",
    "\\dot{\\phi} = \\omega = \\left.\\frac{\\partial H}{\\partial p_{\\phi}}\\right|_{p_{r_*} = 0}\\\\\n",
    "\\dot{p}_{r} = -\\left.\\frac{\\partial H}{\\partial r}\\right|_{p_{r_*} = 0}\n",
    "$$\n",
    "\n",
    "We solve the above system of non-linear system of equations.\n",
    "Note: We are using a tolerance of `6e-12` as this is the choice pyseobnr makes."
   ]
  },
  {
   "cell_type": "code",
   "execution_count": 7,
   "id": "c235216a",
   "metadata": {},
   "outputs": [
    {
     "name": "stdout",
     "output_type": "stream",
     "text": [
      "Appending to Dynamics/v5HM_BOB_Initial_Conditions_Calibration.txt\n"
     ]
    }
   ],
   "source": [
    "%%writefile -a $Ccodesdir/v5HM_BOB_Initial_Conditions_Calibration.txt\n",
    "sol_cons_guess = np.array([r_guess,pphi_guess])\n",
    "params_cons = np.array([m1,m2,chi1,chi2,a6,dSO,Omega_0])\n",
    "sol_cons = root(IC_cons,sol_cons_guess,args = params_cons,tol = 6e-12)\n",
    "r , pphi = sol_cons.x[0] , sol_cons.x[1]"
   ]
  },
  {
   "cell_type": "markdown",
   "id": "b7525c7c",
   "metadata": {},
   "source": [
    "# Step : Compute the dissipative initial conditions\n",
    "\n",
    "In this step, we find the value of $p_{r_*}$ using the ansatz:\n",
    "\n",
    "$$\n",
    "\\frac{d r}{dt} \\equiv \\left[ \\frac{ \\frac{d p_{\\phi}}{d t} }{ \\frac{d p_{\\phi}}{d r} } \\right].\n",
    "$$\n",
    "\n",
    "Where, $\\frac{d p_{\\phi}}{d t} = \\mathcal{F}_{\\phi}$. In the quasi-circular limit $d\\left(\\frac{\\partial H}{\\partial r}\\right) = 0$ we get:\n",
    "\n",
    "$$\n",
    "\\frac{dl}{dr} = -\\frac{ \\frac{\\partial^2 H}{\\partial r^2} }{ \\frac{\\partial^2 H}{\\partial r \\partial p_{\\phi}} }.\n",
    "$$\n",
    "\n",
    "Thus, we can find the initial value by $p_{r_*}$ by solving the following non-linear equation:\n",
    "\n",
    "$$\n",
    "\\xi\\frac{\\partial H}{\\partial p_{r_{*}}} = -\\frac{ \\mathcal{F}_{\\phi} \\frac{\\partial^2 H}{\\partial r \\partial p_{\\phi}} }{ \\frac{\\partial^2 H}{\\partial r^2} }\n",
    "$$\n",
    "\n",
    "We use a guess bracket (i.e an interval the contains the root c.f [scipy.optimise documentation](https://docs.scipy.org/doc/scipy/reference/generated/scipy.optimize.root_scalar.html#scipy.optimize.root_scalar)) of $[-3\\times10^{-2},0]$ that is consistent with pyseobnr. Additionally, pyseobnr uses an absolute tolerance of `1e-12`, and a relative tolerance of `1e-10`.\n"
   ]
  },
  {
   "cell_type": "code",
   "execution_count": 8,
   "id": "7fd621fd",
   "metadata": {},
   "outputs": [
    {
     "name": "stdout",
     "output_type": "stream",
     "text": [
      "Appending to Dynamics/v5HM_BOB_Initial_Conditions_Calibration.txt\n"
     ]
    }
   ],
   "source": [
    "%%writefile -a $Ccodesdir/v5HM_BOB_Initial_Conditions_Calibration.txt\n",
    "params_diss = np.array([m1,m2,r,pphi,chi1,chi2,a6,dSO])\n",
    "prstar_bracket = [-3e-2,0]\n",
    "prstar_sol = root_scalar(IC_diss, args = params_diss, bracket = prstar_bracket, xtol = 1e-12, rtol = 1e-10)\n",
    "prstar = prstar_sol.root"
   ]
  },
  {
   "cell_type": "markdown",
   "id": "894bc0dc",
   "metadata": {},
   "source": [
    "# Step : $r_{\\rm ISCO}^{\\rm eff}$\n",
    "\n",
    "To define the Kerr ISCO, we also require the spin parameter $a_{f}$ of the final Kerr black hole. In this case, SEOBNRv5 uses the numerical estimate provided by Equations 12-13 of [Hoffman, et. al.](https://iopscience.iop.org/article/10.3847/2041-8205/825/2/L19/pdf), hereby HBR2016. to define this, we first require an effective ISCO radius given by Equation 4-6 of HBR2016:\n",
    "$$\n",
    "r_{\\rm ISCO}^{\\rm eff} = 3 + Z_2 - \\frac{a^{\\rm eff}}{|a^{\\rm eff}|}\\sqrt{(3 - Z_1)(3 + Z_1 + 2Z_2)}\\\\\n",
    "Z_2 = \\sqrt{3 a^{\\textrm{eff},2} + Z_1^2}\\\\\n",
    "Z_1 = 1 + (1 - a^{\\textrm{eff},2})^{1/3}\\left[ (1 + a^{\\rm eff})^{1/3} + (1 - a^{\\rm eff})^{1/3} \\right]\\\\\n",
    "a^{\\rm eff} = a_{\\rm tot} + \\xi\\nu(\\chi_1 + \\chi_2)\\\\\n",
    "a_{\\rm tot} = m_1^2\\chi_1 + m_2^2\\chi_2\\\\\n",
    "\\xi = 0.474046\n",
    "$$\n",
    "\n",
    "Where, the value of $\\xi$ is taken from Table 1 of HBR2016 with the choice of $n_M = 3, n_J = 4$ as evident in line 130 of [postadiabatic_C.pyx](https://git.ligo.org/waveforms/software/pyseobnr/-/blob/main/pyseobnr/eob/dynamics/postadiabatic_C.pyx) of the pyseobnr code."
   ]
  },
  {
   "cell_type": "code",
   "execution_count": 9,
   "id": "6a97cd41",
   "metadata": {},
   "outputs": [
    {
     "name": "stdout",
     "output_type": "stream",
     "text": [
      "Appending to Dynamics/v5HM_BOB_Initial_Conditions_Calibration.txt\n"
     ]
    }
   ],
   "source": [
    "%%writefile -a $Ccodesdir/v5HM_BOB_Initial_Conditions_Calibration.txt\n",
    "atot = m1*m1*chi1 + m2*m2*chi2\n",
    "aeff = atot + .474046*nu*(chi1 + chi2)\n",
    "aeff_max1 = min(aeff,1)\n",
    "Z1eff = 1 + (np.cbrt(1 - aeff_max1*aeff_max1))*(np.cbrt(1 + aeff_max1) + np.cbrt(1 - aeff_max1))\n",
    "Z2eff = np.sqrt(3*aeff_max1*aeff_max1 + Z1eff*Z1eff)\n",
    "rISCOeff = 3 + Z2eff - np.sign(aeff_max1)*np.sqrt((3 - Z1eff)*(3 + Z1eff + Z2eff))"
   ]
  },
  {
   "cell_type": "markdown",
   "id": "16fbce29",
   "metadata": {},
   "source": [
    "# Step : $L_{\\rm ISCO}^{\\rm eff}$\n",
    "\n",
    "Following Equations 2-3 of [HBR2016](https://iopscience.iop.org/article/10.3847/2041-8205/825/2/L19/pdf), we define the effective angular momentum:\n",
    "$$\n",
    "L_{\\rm ISCO}^{\\rm eff} = \\frac{2}{3\\sqrt{3}}\\left[ 1 + 2\\sqrt{3r_{\\rm ISCO}^{\\rm eff} - 2} \\right]\n",
    "$$"
   ]
  },
  {
   "cell_type": "code",
   "execution_count": 10,
   "id": "fc72a7b3",
   "metadata": {},
   "outputs": [
    {
     "name": "stdout",
     "output_type": "stream",
     "text": [
      "Appending to Dynamics/v5HM_BOB_Initial_Conditions_Calibration.txt\n"
     ]
    }
   ],
   "source": [
    "%%writefile -a $Ccodesdir/v5HM_BOB_Initial_Conditions_Calibration.txt\n",
    "LISCOeff = (2/3/np.sqrt(3))*(1 + 2*np.sqrt(3*rISCOeff - 2))"
   ]
  },
  {
   "cell_type": "markdown",
   "id": "52725b24",
   "metadata": {},
   "source": [
    "# Step : $E_{\\rm ISCO}^{\\rm eff}$\n",
    "\n",
    "Following Equations 2-3 of [HBR2016](https://iopscience.iop.org/article/10.3847/2041-8205/825/2/L19/pdf), we define the effective binding energy:\n",
    "$$\n",
    "E_{\\rm ISCO}^{\\rm eff} = \\sqrt{1 - \\frac{2}{3r_{\\rm ISCO}^{\\rm eff}}}\n",
    "$$"
   ]
  },
  {
   "cell_type": "code",
   "execution_count": 11,
   "id": "de8c812a",
   "metadata": {},
   "outputs": [
    {
     "name": "stdout",
     "output_type": "stream",
     "text": [
      "Appending to Dynamics/v5HM_BOB_Initial_Conditions_Calibration.txt\n"
     ]
    }
   ],
   "source": [
    "%%writefile -a $Ccodesdir/v5HM_BOB_Initial_Conditions_Calibration.txt\n",
    "EISCOeff = np.sqrt(1 - 2/(3*rISCOeff))"
   ]
  },
  {
   "cell_type": "markdown",
   "id": "a636ad54",
   "metadata": {},
   "source": [
    "# Step : $\\mathcal{l}$\n",
    "\n",
    "Following Equations 13 of [HBR2016](https://iopscience.iop.org/article/10.3847/2041-8205/825/2/L19/pdf), we define the angular momentum contribution as:\n",
    "$$\n",
    "\\mathcal{l} = L_{\\rm ISCO}^{\\rm eff} - 2a_{\\rm tot}(E_{\\rm ISCO}^{\\rm eff} - 1) + \\sum_{i = 0}^{3}\\sum_{j = 0}^{4} k_{ij}\\nu^{2 + i}a^{\\textrm{eff},j}\n",
    "$$\n",
    "\n",
    "Where, the NR coefficients $k_{ij}$ are given in Table 1 of HBR2016 for the choice of $n_M = 3, n_J = 4$.\n",
    "\n",
    "$$\n",
    "k_{00} = -5.97723\\\\\n",
    "k_{01} = 3.39221\\\\\n",
    "k_{02} = 4.48865\\\\\n",
    "k_{03} = -5.77101\\\\\n",
    "k_{04} = -13.0459\\\\\n",
    "k_{10} = 35.1278\\\\\n",
    "k_{11} = -72.9336\\\\\n",
    "k_{12} = -86.0036\\\\\n",
    "k_{13} = 93.7371\\\\\n",
    "k_{14} = 200.975\\\\\n",
    "k_{20} = -146.822\\\\\n",
    "k_{21} = 387.184\\\\\n",
    "k_{22} = 447.009\\\\\n",
    "k_{23} = -467.383\\\\\n",
    "k_{24} = -884.339\\\\\n",
    "k_{30} = 223.911\\\\\n",
    "k_{31} = -648.502\\\\\n",
    "k_{32} = -697.177\\\\\n",
    "k_{33} = 753.738\\\\\n",
    "k_{34} = 1166.89\n",
    "$$"
   ]
  },
  {
   "cell_type": "code",
   "execution_count": 12,
   "id": "e2e48c44",
   "metadata": {},
   "outputs": [
    {
     "name": "stdout",
     "output_type": "stream",
     "text": [
      "Appending to Dynamics/v5HM_BOB_Initial_Conditions_Calibration.txt\n"
     ]
    }
   ],
   "source": [
    "%%writefile -a $Ccodesdir/v5HM_BOB_Initial_Conditions_Calibration.txt\n",
    "k = np.zeros([4,5])\n",
    "k[0,0] = -5.97723\n",
    "k[0,1] = 3.39221\n",
    "k[0,2] = 4.48865\n",
    "k[0,3] = -5.77101\n",
    "k[0,4] = -13.0459\n",
    "k[1,0] = 35.1278\n",
    "k[1,1] = -72.9336\n",
    "k[1,2] = -86.0036\n",
    "k[1,3] = 93.7371\n",
    "k[1,4] = 200.975\n",
    "k[2,0] = -146.822\n",
    "k[2,1] = 387.184\n",
    "k[2,2] = 447.009\n",
    "k[2,3] = -467.383\n",
    "k[2,4] = -884.339\n",
    "k[3,0] = 223.911\n",
    "k[3,1] = -648.502\n",
    "k[3,2] = -697.177\n",
    "k[3,3] = 753.738\n",
    "k[3,4] = 1166.89\n",
    "\n",
    "NRfactor = 0\n",
    "nu_2plusi = nu*nu\n",
    "for i in range(len(k)):\n",
    "    aeff_j = 1 \n",
    "    for j in range(len(k[i])):\n",
    "        NRfactor += k[i,j]*nu_2plusi*aeff_j\n",
    "        aeff_j *= aeff\n",
    "    nu_2plusi *= nu\n",
    "ell = np.abs(LISCOeff - 2*atot*(EISCOeff - 1) + NRfactor)"
   ]
  },
  {
   "cell_type": "markdown",
   "id": "445ad6b9",
   "metadata": {},
   "source": [
    "# Step : $a_{f}$\n",
    "\n",
    "Following Equations 13 of [HBR2016](https://iopscience.iop.org/article/10.3847/2041-8205/825/2/L19/pdf), we define the final spin:\n",
    "$$\n",
    "a_{f} = a_{\\rm tot} + \\nu \\mathcal{l}\n",
    "$$"
   ]
  },
  {
   "cell_type": "code",
   "execution_count": 13,
   "id": "fd53e10b",
   "metadata": {},
   "outputs": [
    {
     "name": "stdout",
     "output_type": "stream",
     "text": [
      "Appending to Dynamics/v5HM_BOB_Initial_Conditions_Calibration.txt\n"
     ]
    }
   ],
   "source": [
    "%%writefile -a $Ccodesdir/v5HM_BOB_Initial_Conditions_Calibration.txt\n",
    "af = atot + nu*ell"
   ]
  },
  {
   "cell_type": "markdown",
   "id": "b0517248",
   "metadata": {},
   "source": [
    "# Step : $r_{\\rm ISCO}$\n",
    "\n",
    "Equations 4-6 of [HBR2016](https://iopscience.iop.org/article/10.3847/2041-8205/825/2/L19/pdf) are a general formula for the radius of the ISCO. In this case, we use the final spin calculated above:\n",
    "$$\n",
    "r_{\\rm ISCO} = 3 + Z_2 - \\frac{a_{f}}{|a_{f}|}\\sqrt{(3 - Z_1)(3 + Z_1 + 2Z_2)}\\\\\n",
    "Z_2 = \\sqrt{3 a_{f}^{2} + Z_1^2}\\\\\n",
    "Z_1 = 1 + (1 - a_{f}^{2})^{1/3}\\left[ (1 + a_{f})^{1/3} + (1 - a_{f})^{1/3} \\right]\\\\\n",
    "$$"
   ]
  },
  {
   "cell_type": "code",
   "execution_count": 14,
   "id": "c3223350",
   "metadata": {},
   "outputs": [
    {
     "name": "stdout",
     "output_type": "stream",
     "text": [
      "Appending to Dynamics/v5HM_BOB_Initial_Conditions_Calibration.txt\n"
     ]
    }
   ],
   "source": [
    "%%writefile -a $Ccodesdir/v5HM_BOB_Initial_Conditions_Calibration.txt\n",
    "Z1f = 1 + (np.cbrt(1 - af*af))*(np.cbrt(1 + af) + np.cbrt(1 - af))\n",
    "Z2f = np.sqrt(3*af*af + Z1f*Z1f)\n",
    "rISCO = 3 + Z2f - np.sign(af)*np.sqrt((3 - Z1f)*(3 + Z1f + Z2f))"
   ]
  },
  {
   "cell_type": "markdown",
   "id": "d04c7ce1",
   "metadata": {},
   "source": [
    "# Step : $r_{\\rm stop}$\n",
    "\n",
    "As defined earlier, the stopping radius is given by:\n",
    "\n",
    "$$\n",
    "r_{\\rm stop} =\n",
    "\\bigg\\lbrace\n",
    "    \\begin{array}{lr}\n",
    "        0.98r_{\\rm ISCO} & \\Delta t_{\\rm NR} > 0,\\\\\n",
    "        -1 & \\rm otherwise,\n",
    "    \\end{array}\n",
    "$$\n",
    "\n",
    "Where, $\\Delta t$ is provided as an input parameter."
   ]
  },
  {
   "cell_type": "code",
   "execution_count": 15,
   "id": "40767689",
   "metadata": {},
   "outputs": [
    {
     "name": "stdout",
     "output_type": "stream",
     "text": [
      "Appending to Dynamics/v5HM_BOB_Initial_Conditions_Calibration.txt\n"
     ]
    }
   ],
   "source": [
    "%%writefile -a $Ccodesdir/v5HM_BOB_Initial_Conditions_Calibration.txt\n",
    "rstop = -1\n",
    "if Deltat > 0:\n",
    "    rstop = 0.98*rISCO"
   ]
  },
  {
   "cell_type": "markdown",
   "id": "67a3ac70",
   "metadata": {},
   "source": [
    "# Step : $M_{f}$\n",
    "\n",
    "In accordance with pyseobnr, cf line 178 of [compute_hlms.py](https://git.ligo.org/waveforms/software/pyseobnr/-/blob/main/pyseobnr/eob/waveform/compute_hlms.py), [Jimenez-Forteza et. al](https://arxiv.org/pdf/1611.00332.pdf), hereby UIB2016, is used to compute the mass of the final black hole. From the discussion above Equation 4 and Equation 28 of UIB2016 we find:\n",
    "\n",
    "$$\n",
    "M_f = 1 - E_{\\rm rad}\\\\\n",
    "E_{\\rm rad} \\equiv E_{\\rm rad}(\\nu,\\hat{S},\\Delta\\chi) = E_{\\rm rad}(\\nu,\\hat{S}) + \\Delta E_{\\rm rad}(\\eta,\\hat{S},\\Delta\\chi) \n",
    "$$\n",
    "Where, $E_{\\rm rad}$ is the energy radiated through gravitational waves.\n",
    "We derive all the quantities and build the final mass."
   ]
  },
  {
   "cell_type": "markdown",
   "id": "abfcf6cc",
   "metadata": {},
   "source": [
    "# Step : $\\hat{S}$\n",
    "\n",
    "We define $\\hat{S}$ as per Equation 1 of [UIB2016](https://arxiv.org/pdf/1611.00332.pdf) as:\n",
    "\n",
    "$$\n",
    "\\hat{S} = \\frac{m_1^2\\chi_1 + m_2^2\\chi_2}{m_1^2 + m_2^2}\n",
    "$$"
   ]
  },
  {
   "cell_type": "code",
   "execution_count": 16,
   "id": "d4183ce7",
   "metadata": {},
   "outputs": [
    {
     "name": "stdout",
     "output_type": "stream",
     "text": [
      "Appending to Dynamics/v5HM_BOB_Initial_Conditions_Calibration.txt\n"
     ]
    }
   ],
   "source": [
    "%%writefile -a $Ccodesdir/v5HM_BOB_Initial_Conditions_Calibration.txt\n",
    "Shat = (m1*m1*chi1 + m2*m2*chi2)/(m1*m1 + m2*m2)\n",
    "Shat2 = Shat*Shat\n",
    "Shat3 = Shat2*Shat\n",
    "Shat4 = Shat3*Shat\n",
    "nu2 = nu*nu\n",
    "nu3 = nu2*nu\n",
    "nu4 = nu3*nu\n",
    "sqrt1m4nu = np.sqrt(1. - 4.*nu)"
   ]
  },
  {
   "cell_type": "markdown",
   "id": "aa6c50dd",
   "metadata": {},
   "source": [
    "# Step : $\\Delta \\chi$\n",
    "\n",
    "We define $\\Delta \\chi$ as per the discussion below Equation 1 of [UIB2016](https://arxiv.org/pdf/1611.00332.pdf):\n",
    "\n",
    "$$\n",
    "\\Delta\\chi = \\chi_1-\\chi_2\n",
    "$$"
   ]
  },
  {
   "cell_type": "code",
   "execution_count": 17,
   "id": "a7b8d738",
   "metadata": {},
   "outputs": [
    {
     "name": "stdout",
     "output_type": "stream",
     "text": [
      "Appending to Dynamics/v5HM_BOB_Initial_Conditions_Calibration.txt\n"
     ]
    }
   ],
   "source": [
    "%%writefile -a $Ccodesdir/v5HM_BOB_Initial_Conditions_Calibration.txt\n",
    "Deltachi = chi1-chi2\n",
    "Deltachi2 = Deltachi*Deltachi"
   ]
  },
  {
   "cell_type": "markdown",
   "id": "571e1710",
   "metadata": {},
   "source": [
    "# Step : $E_{\\rm rad}(\\nu,0)$\n",
    "\n",
    "We define the non-spinning fit to the radiated energy as per Equation 21 of [UIB2016](https://arxiv.org/pdf/1611.00332.pdf):\n",
    "\n",
    "$$\n",
    "E_{\\rm rad}(\\nu,\\hat{S} = 0) = a_4\\nu^4 + a_3\\nu^3 + a_2\\nu^2 + \\left(1 - \\frac{2\\sqrt{2}}{3}\\right)\\nu \n",
    "$$\n",
    "\n",
    "Where, the coefficients are given in this [arXiv ancilliary file](https://arxiv.org/src/1611.00332v2/anc/FinalStateUIB2016_suppl_Erad_coeffs.txt):\n",
    "\n",
    "$$\n",
    "a_2 = 0.5609904135313374\\\\\n",
    "a_3 = -0.84667563764404 \\\\\n",
    "a_4 = 3.145145224278187 \n",
    "$$"
   ]
  },
  {
   "cell_type": "code",
   "execution_count": 18,
   "id": "55c61467",
   "metadata": {},
   "outputs": [
    {
     "name": "stdout",
     "output_type": "stream",
     "text": [
      "Appending to Dynamics/v5HM_BOB_Initial_Conditions_Calibration.txt\n"
     ]
    }
   ],
   "source": [
    "%%writefile -a $Ccodesdir/v5HM_BOB_Initial_Conditions_Calibration.txt\n",
    "a2 = 0.5609904135313374 \n",
    "a3 = -0.84667563764404\n",
    "a4 = 3.145145224278187\n",
    "Erad_nu_0 = a4*nu4 + a3*nu3 + a2*nu2 + (1. - 2.*np.sqrt(2.)/3.)*nu"
   ]
  },
  {
   "cell_type": "markdown",
   "id": "f66bc5c2",
   "metadata": {},
   "source": [
    "# Step : $E_{\\rm rad}(0.25,\\hat{S})$ coefficients\n",
    "\n",
    "Before implementing the spin contributions to the radiated energy, we should implement the modified coefficients. That is, the non-spinning and spinning contributions represent one dimensional fits to numerical relativity data at the higher end of the mass ratio. In order to develop a two dimensional fit in mass ratio and spin as well as to include effects at extreme mass ratio, coefficients for the spinning 1-D fit are modified (cf discussion above Equation 9 of [UIB2016](https://arxiv.org/pdf/1611.00332.pdf)).\n",
    "\n",
    "The coefficients are defined in this [arXiv ancilliary file](https://arxiv.org/src/1611.00332v2/anc/FinalStateUIB2016_suppl_Erad_coeffs.txt).\n",
    "\n",
    "\n",
    "$$\n",
    "b_1 = -0.2091189048177395 \\\\\n",
    "b_2 = -0.19709136361080587 \\\\\n",
    "b_3 = -0.1588185739358418 \\\\\n",
    "b_5 = 2.9852925538232014 \\\\\n",
    "f_{20} = 4.271313308472851 \\\\\n",
    "f_{30} = 31.08987570280556 \\\\\n",
    "f_{50} = 1.5673498395263061 \\\\\n",
    "f_{10} = 1.8083565298668276 \\\\\n",
    "f_{21} = 0. \\\\\n",
    "f_{11} = 15.738082204419655 \\\\\n",
    "f_{31} = -243.6299258830685 \\\\\n",
    "f_{51} = -0.5808669012986468 \\\\\n",
    "f_{j2} = 16 - 16f_{j0} - 4f_{j1} \\\\\n",
    "$$\n",
    "\n",
    "The final coefficients given by Equation 9 of UIB2016:\n",
    "\n",
    "$$\n",
    "b^{\\rm fin}_{i} = b_{i}\\sum{j = 0}^{2} f_{ij}\\nu^j\n",
    "$$"
   ]
  },
  {
   "cell_type": "code",
   "execution_count": 19,
   "id": "48b262ac",
   "metadata": {},
   "outputs": [
    {
     "name": "stdout",
     "output_type": "stream",
     "text": [
      "Appending to Dynamics/v5HM_BOB_Initial_Conditions_Calibration.txt\n"
     ]
    }
   ],
   "source": [
    "%%writefile -a $Ccodesdir/v5HM_BOB_Initial_Conditions_Calibration.txt\n",
    "b1 = -0.2091189048177395\n",
    "b2 = -0.19709136361080587\n",
    "b3 = -0.1588185739358418\n",
    "b5 = 2.9852925538232014\n",
    "f20 = 4.271313308472851\n",
    "f30 = 31.08987570280556\n",
    "f50 = 1.5673498395263061\n",
    "f10 = 1.8083565298668276\n",
    "f21 = 0.\n",
    "d10 = -0.09803730445895877\n",
    "d11 = -3.2283713377939134\n",
    "d20 = 0.01118530335431078\n",
    "d30 = -0.01978238971523653\n",
    "d31 = -4.91667749015812\n",
    "f11 = 15.738082204419655\n",
    "f31 = -243.6299258830685\n",
    "f51 = -0.5808669012986468\n",
    "bfin1 = b1*(f10 + f11*nu + (16. - 16.*f10 - 4.*f11)*nu2)\n",
    "bfin2 = b2*(f20 + f21*nu + (16. - 16.*f20 - 4.*f21)*nu2)\n",
    "bfin3 = b3*(f30 + f31*nu + (16. - 16.*f30 - 4.*f31)*nu2)\n",
    "bfin5 = b5*(f50 + f51*nu + (16. - 16.*f50 - 4.*f51)*nu2)"
   ]
  },
  {
   "cell_type": "markdown",
   "id": "a618e930",
   "metadata": {},
   "source": [
    "# Step : $E_{\\rm rad}(0.25,\\hat{S})$\n",
    "\n",
    "We define the spin contributions fit to the radiated energy as per Equation 22 of [UIB2016](https://arxiv.org/pdf/1611.00332.pdf):\n",
    "\n",
    "$$\n",
    "E_{\\rm rad}(\\nu = 0.25,\\hat{S}) = \\frac{1 + 0.346b_1^{\\rm fin}\\hat{S} + 0.211b_2^{\\rm fin}\\hat{S}^2 + 0.128b_3^{\\rm fin}\\hat{S}^3}{1 - 0.212b_5^{\\rm fin}\\hat{S}} \n",
    "$$\n",
    "\n",
    "Note: We do not use the multiplicative factor of 0.0484161 as it will be normalized away in the final fit (cf Equation 23 of UIB2016)"
   ]
  },
  {
   "cell_type": "code",
   "execution_count": 20,
   "id": "4290741b",
   "metadata": {},
   "outputs": [
    {
     "name": "stdout",
     "output_type": "stream",
     "text": [
      "Appending to Dynamics/v5HM_BOB_Initial_Conditions_Calibration.txt\n"
     ]
    }
   ],
   "source": [
    "%%writefile -a $Ccodesdir/v5HM_BOB_Initial_Conditions_Calibration.txt\n",
    "Erad_eq_Shat = (0.128*bfin3*Shat3 + 0.211*bfin2*Shat2 + 0.346*bfin1*Shat + 1.)/(1 - 0.212*bfin5*Shat)"
   ]
  },
  {
   "cell_type": "markdown",
   "id": "669b6fb3",
   "metadata": {},
   "source": [
    "# Step : $E_{\\rm rad}(\\nu,\\hat{S})$\n",
    "\n",
    "We define the 2-D fit to the radiated energy as per Equation 23 of [UIB2016](https://arxiv.org/pdf/1611.00332.pdf):\n",
    "\n",
    "$$\n",
    "E_{\\rm rad}(\\nu,\\hat{S}) = E_{\\rm rad}(\\nu,0)E_{\\rm rad}(0.25,\\hat{S})\n",
    "$$"
   ]
  },
  {
   "cell_type": "code",
   "execution_count": 21,
   "id": "4695a848",
   "metadata": {},
   "outputs": [
    {
     "name": "stdout",
     "output_type": "stream",
     "text": [
      "Appending to Dynamics/v5HM_BOB_Initial_Conditions_Calibration.txt\n"
     ]
    }
   ],
   "source": [
    "%%writefile -a $Ccodesdir/v5HM_BOB_Initial_Conditions_Calibration.txt\n",
    "Erad_nu_Shat = Erad_nu_0*Erad_eq_Shat"
   ]
  },
  {
   "cell_type": "markdown",
   "id": "196e0d17",
   "metadata": {},
   "source": [
    "# Step : $\\Delta E_{\\rm rad}(\\nu,\\hat{S},\\Delta\\chi)$\n",
    "\n",
    "We define the 3-D correction to the radiated energy as per Equation 27 of [UIB2016](https://arxiv.org/pdf/1611.00332.pdf) and the discussion above.:\n",
    "\n",
    "$$\n",
    "\\Delta E_{\\rm rad}(\\nu,\\hat{S},\\Delta \\chi) = A_1\\Delta \\chi + A_2 \\Delta\\chi^2 + A_3\\hat{S}\\Delta\\chi\\\\\n",
    "A_1 = d_{10}\\sqrt{1 - 4\\nu}\\nu^2(d_{11}\\nu + 1) \\\\\n",
    "A_2 = d_{20}\\nu^3 \\\\\n",
    "A_3 = d_{30}\\sqrt{1 - 4\\nu}\\nu(d_{31}\\nu + 1) \\\\\n",
    "$$\n",
    "\n",
    "The coefficients are given in this [arXiv ancilliary file](https://arxiv.org/src/1611.00332v2/anc/FinalStateUIB2016_suppl_Erad_coeffs.txt):\n",
    "\n",
    "$$\n",
    "d_{10} = -0.09803730445895877 \\\\\n",
    "d_{11} = -3.2283713377939134 \\\\\n",
    "d_{20} = 0.01118530335431078 \\\\\n",
    "d_{30} = -0.01978238971523653 \\\\\n",
    "d_{31} = -4.91667749015812 \\\\\n",
    "$$"
   ]
  },
  {
   "cell_type": "code",
   "execution_count": 22,
   "id": "0234254d",
   "metadata": {},
   "outputs": [
    {
     "name": "stdout",
     "output_type": "stream",
     "text": [
      "Appending to Dynamics/v5HM_BOB_Initial_Conditions_Calibration.txt\n"
     ]
    }
   ],
   "source": [
    "%%writefile -a $Ccodesdir/v5HM_BOB_Initial_Conditions_Calibration.txt\n",
    "d10 = -0.09803730445895877\n",
    "d11 = -3.2283713377939134\n",
    "d20 = 0.01118530335431078\n",
    "d30 = -0.01978238971523653\n",
    "d31 = -4.91667749015812\n",
    "A_1 = d10*sqrt1m4nu*nu2*(d11*nu+1)\n",
    "A_2 = d20*nu3\n",
    "A_3 = d30*sqrt1m4nu*nu*(d31*nu + 1)\n",
    "DeltaErad_nu_Shat_Deltachi = A_1*Deltachi + A_2*Deltachi2 + A_3*Deltachi*Shat"
   ]
  },
  {
   "cell_type": "markdown",
   "id": "0a3e6fa1",
   "metadata": {},
   "source": [
    "# Step : $M_f$\n",
    "\n",
    "We define the full fit to the radiated energy as per Equation 28 of [UIB2016](https://arxiv.org/pdf/1611.00332.pdf) and thus, the final mass as per Equation 4 of the same:\n",
    "\n",
    "$$\n",
    "E_{\\rm rad}(\\nu,\\hat{S},\\Delta\\chi) = E_{\\rm rad}(\\nu,\\hat{S}) + \\Delta E_{\\rm rad}(\\nu,\\hat{S},\\Delta\\chi)\\\\\n",
    "M_f = 1 - E_{\\rm rad}(\\nu,\\hat{S},\\Delta \\chi)\n",
    "$$"
   ]
  },
  {
   "cell_type": "code",
   "execution_count": 23,
   "id": "76a1b89a",
   "metadata": {},
   "outputs": [
    {
     "name": "stdout",
     "output_type": "stream",
     "text": [
      "Appending to Dynamics/v5HM_BOB_Initial_Conditions_Calibration.txt\n"
     ]
    }
   ],
   "source": [
    "%%writefile -a $Ccodesdir/v5HM_BOB_Initial_Conditions_Calibration.txt\n",
    "Mf = 1 - (Erad_nu_Shat + DeltaErad_nu_Shat_Deltachi)"
   ]
  },
  {
   "cell_type": "markdown",
   "id": "8ff91a13",
   "metadata": {},
   "source": [
    "# Step : Strain Amplitude\n",
    "\n",
    "We define the numerical fit to the peak strain amplitude of the $l = 2, m = 2$ mode as per Equation C8 of [UIB2016](https://arxiv.org/pdf/1611.00332.pdf) and thus, the final mass as per Equation 4 of the same:\n",
    "\n",
    "$$\n",
    "h_{22}^{\\rm NR} = \\nu\\left|71.97969776036882194603 \\nu^4\n",
    "            - 13.35761402231352157344 \\nu^3 \\hat{S}\n",
    "            - 46.87585958426210908101 \\nu^3\n",
    "            + 0.61988944517825661507 \\nu^2 \\hat{S}^2\n",
    "            + 7.19426416189229733789 \\nu^2 \\hat{S}\n",
    "            + 12.44040490932310127903 \\nu^2\n",
    "            + 0.43014673069078152023 \\nu \\hat{S}^3\n",
    "            - 1.74313546783413597652 \\nu \\hat{S}\n",
    "            - 0.86828935763242798274 \\nu\n",
    "            - 0.08493901280736430859 \\hat{S}^3\n",
    "            - 0.02082621429567295401 \\hat{S}^2\n",
    "            + 0.18693991146784910695 \\hat{S}\n",
    "            + 1.46709663479911811557\n",
    "\\right|\n",
    "$$"
   ]
  },
  {
   "cell_type": "code",
   "execution_count": 24,
   "id": "47795ec2",
   "metadata": {},
   "outputs": [
    {
     "name": "stdout",
     "output_type": "stream",
     "text": [
      "Appending to Dynamics/v5HM_BOB_Initial_Conditions_Calibration.txt\n"
     ]
    }
   ],
   "source": [
    "%%writefile -a $Ccodesdir/v5HM_BOB_Initial_Conditions_Calibration.txt\n",
    "h22NR = nu*np.abs(71.97969776036882194603 * nu4\n",
    "            - 13.35761402231352157344 * nu3 * Shat\n",
    "            - 46.87585958426210908101 * nu3\n",
    "            + 0.61988944517825661507 * nu2 * Shat2\n",
    "            + 7.19426416189229733789 * nu2 * Shat\n",
    "            + 12.44040490932310127903 * nu2\n",
    "            + 0.43014673069078152023 * nu * Shat3\n",
    "            - 1.74313546783413597652 * nu * Shat\n",
    "            - 0.86828935763242798274 * nu\n",
    "            - 0.08493901280736430859 * Shat3\n",
    "            - 0.02082621429567295401 * Shat2\n",
    "            + 0.18693991146784910695 * Shat\n",
    "            + 1.46709663479911811557)"
   ]
  },
  {
   "cell_type": "markdown",
   "id": "2a842d4c",
   "metadata": {},
   "source": [
    "# Step : Frequency\n",
    "\n",
    "We define the numerical fit to the waveform frequency corresponding to the peak strain amplitude as per Equation C29 of [UIB2016](https://arxiv.org/pdf/1611.00332.pdf):\n",
    "\n",
    "$$\n",
    "\\omega_{22}^{\\rm NR} = \\left(5.89352329617707670906 \\nu^4\n",
    "            + 3.75145580491965446868 \\nu^3 \\hat{S}\n",
    "            - 3.34930536209472551334 \\nu^3\n",
    "            - 0.97140932625194231775 \\nu^2 \\hat{S}^2\n",
    "            - 1.69734302394369973577 \\nu^2 \\hat{S}\n",
    "            + 0.28539204856044564362 \\nu^2\n",
    "            + 0.2419483723662931296 \\nu\\hat{S}^3\n",
    "            + 0.51801427018052081941 \\nu\\hat{S}^2\n",
    "            + 0.25096450064948544467 \\nu\\hat{S}\n",
    "            - 0.31709602351033533418 \\nu\n",
    "            - 0.01525897668158244028 \\hat{S}^4\n",
    "            - 0.06692658483513916345 \\hat{S}^3\n",
    "            - 0.08715176045684569495 \\hat{S}^2\n",
    "            - 0.09133931944098934441 \\hat{S}\n",
    "            - 0.2685414392185025978\n",
    "\\right)\n",
    "$$"
   ]
  },
  {
   "cell_type": "code",
   "execution_count": 25,
   "id": "724a0ddd",
   "metadata": {},
   "outputs": [
    {
     "name": "stdout",
     "output_type": "stream",
     "text": [
      "Appending to Dynamics/v5HM_BOB_Initial_Conditions_Calibration.txt\n"
     ]
    }
   ],
   "source": [
    "%%writefile -a $Ccodesdir/v5HM_BOB_Initial_Conditions_Calibration.txt\n",
    "omega22NR = (5.89352329617707670906 * nu4\n",
    "            + 3.75145580491965446868 * nu3 * Shat\n",
    "            - 3.34930536209472551334 * nu3\n",
    "            - 0.97140932625194231775 * nu2 * Shat2\n",
    "            - 1.69734302394369973577 * nu2 * Shat\n",
    "            + 0.28539204856044564362 * nu2\n",
    "            + 0.2419483723662931296 * nu * Shat3\n",
    "            + 0.51801427018052081941 * nu * Shat2\n",
    "            + 0.25096450064948544467 * nu * Shat\n",
    "            - 0.31709602351033533418 * nu\n",
    "            - 0.01525897668158244028 * Shat4\n",
    "            - 0.06692658483513916345 * Shat3\n",
    "            - 0.08715176045684569495 * Shat2\n",
    "            - 0.09133931944098934441 * Shat\n",
    "            - 0.2685414392185025978\n",
    ")"
   ]
  },
  {
   "cell_type": "markdown",
   "id": "c988d3ef",
   "metadata": {},
   "source": [
    "# Step : Store the routine in a python file"
   ]
  },
  {
   "cell_type": "code",
   "execution_count": 26,
   "id": "24a97985",
   "metadata": {},
   "outputs": [
    {
     "name": "stdout",
     "output_type": "stream",
     "text": [
      "(0.6969696969696969, 0.30303030303030304, 0.5, 0.9, array([ 2.12155008e+01,  0.00000000e+00, -2.86537636e-04,  4.88471098e+00]), 0.010212765037972303, 123.04572334363787, 2.2236685572617088, 2.2690495482262336, 6.493255996236028, 0.9651759994518843, 0.9461645795886238, 0.3276331834048432, -0.3980351614903812) [21.21550081935077, 0.0, -0.00028653763604539854, 4.884710982418403]\n"
     ]
    }
   ],
   "source": [
    "with open(os.path.join(Ccodesdir,\"v5HM_BOB_initial_conditions_calibration.py\"),\"w\") as output:\n",
    "    output.write(\"import numpy as np\\nfrom scipy.optimize import root, root_scalar\\nfrom Derivatives.v5HM_BOB_initial_conditions_conservative_calibration import v5HM_BOB_unoptimized_IC_cons_calibration as IC_cons\\nfrom Derivatives.v5HM_BOB_initial_conditions_dissipative_calibration import v5HM_BOB_unoptimized_IC_diss_calibration as IC_diss\\n\")\n",
    "    output.write(\"def v5HM_BOB_unoptimized_initial_conditions_calibration(M,q,S1,S2,f,a6,dSO,Deltat):\\n\")\n",
    "    for line in list(open(os.path.join(Ccodesdir,\"v5HM_BOB_Initial_Conditions_Calibration.txt\"),\"r\")):\n",
    "        output.write(\"    %s \\n\"%line.rstrip())\n",
    "    output.write(\"    return m1,m2,chi1,chi2,np.array([r,0.,prstar,pphi]),Omega_0,h,rstop,rISCO,af,Mf,h22NR,omega22NR\")\n",
    "    \n",
    "import numpy as np\n",
    "from Dynamics.v5HM_Initial_Conditions import v5HM_unoptimized_initial_conditions as IC_final\n",
    "from Dynamics.pyseobnr_initial_conditions import computeIC_opt as IC_true\n",
    "M = 33.\n",
    "q = 23./10.\n",
    "f = 20\n",
    "chi_1 = 0.5\n",
    "chi_2 = 0.9\n",
    "Msol = 4.925491025543575903411922162094833998e-6\n",
    "Omega_start = M*Msol*np.pi*f\n",
    "m1 = q/(1 + q)\n",
    "m2 = 1/(1 + q)\n",
    "print(IC_final(M,q,chi_1,chi_2,f),IC_true(Omega_start,chi_1, chi_2, m1, m2))"
   ]
  },
  {
   "cell_type": "code",
   "execution_count": null,
   "id": "cc9ebcf5",
   "metadata": {},
   "outputs": [],
   "source": []
  }
 ],
 "metadata": {
  "kernelspec": {
   "display_name": "Python 3 (ipykernel)",
   "language": "python",
   "name": "python3"
  },
  "language_info": {
   "codemirror_mode": {
    "name": "ipython",
    "version": 3
   },
   "file_extension": ".py",
   "mimetype": "text/x-python",
   "name": "python",
   "nbconvert_exporter": "python",
   "pygments_lexer": "ipython3",
   "version": "3.11.5"
  }
 },
 "nbformat": 4,
 "nbformat_minor": 5
}
