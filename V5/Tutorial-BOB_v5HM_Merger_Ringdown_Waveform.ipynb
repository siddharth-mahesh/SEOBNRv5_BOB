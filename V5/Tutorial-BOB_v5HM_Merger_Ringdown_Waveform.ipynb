{
 "cells": [
  {
   "cell_type": "markdown",
   "id": "955e7747",
   "metadata": {},
   "source": [
    "# The Backwards One Body Waveform: \"BOB\"\n",
    "\n",
    "## Author: Siddharth Mahesh\n",
    "\n",
    "## This module documents the Backwards One Body waveform calibrated to numerical fits from pySEOBNR's SEOBNRv5HM gravitational waveform approximant.\n",
    "\n",
    "\n",
    "**Notebook Status:** <font color='red'><b> In Progress? </b></font>\n",
    "\n",
    "**Validation Notes:** \n",
    "\n",
    "### NRPy+ Source Code for this module: [v5HM-BOB_unoptimized_merger_ringdown.py](./Radiation/v5HM-BOB_unoptimized_merger_ringdown.py)\n",
    "\n",
    "<a id='intro'></a>\n",
    "\n",
    "## Introduction\n",
    "$$\\label{intro}$$\n",
    "\n",
    "### The Physical System of Interest\n",
    "\n",
    "Consider two black holes with masses $m_{1}$, $m_{2}$ and spins ${S}_{1}$, ${S}_{2}$ that are aligned (i.e parallel or antiparallel with respect to each other) in a binary system.  The Backwards One Body (\"BOB\") waveform $h^{\\rm BOB}$ (defined in [this cell](#hBOB)) describes the gravitational wave radiation in the late-inspiral and merger-ringdown stages of this system; we will define $h^{\\rm BOB}$ as in [McWilliams,S.T(2019)](https://arxiv.org/pdf/1810.00040.pdf).  There, $h^{\\rm BOB}$ is described in terms of the characteristics of final merged black hole. Here, we seek to break up $h^{\\rm BOB}$ and document the terms in such a way that the resulting Python code can be used to numerically evaluate it.\n",
    "\n",
    "Please note that throughout this notebook we adopt the following convention $G = M = c = 1$, where $G$ is the universal gravitational constant, $M = m_1 + m_2$ is the total mass of the binary (**NOT** the mass of the final black hole $M_f$) and, $c$ is the speed of light in vacuum.\n",
    "\n",
    "Running this notebook to completion will generate a file called v5HM-BOB_unoptimized_merger_ringdown.py. This file contains the Python function v5HM-BOB_unoptimized_merger_ringdown(), which takes as input the initial mass m1, m2 (normalized by the total mass, i.e, $m_! + m_2 = 1$), the values of the normalized spins $\\chi_{1,2} = \\frac{S_{1,2}}{m_{1,2}^2}$, values for the final mass $M_f$, final spin $\\chi_f$, peak waveform frequency $\\omega_{22}^{\\rm peak}$ .\n",
    "\n",
    "### Citations\n",
    "Throughout this module, we will refer to\n",
    "* [McWilliams,S.T(2019)](https://arxiv.org/pdf/1810.00040.pdf) as BOB\n",
    "* [Pompili, Buonanno, et al (2023)](https://arxiv.org/pdf/2303.18039.pdf) as PB2023,\n",
    "* [SEOBNRv5HM-Notes](https://dcc.ligo.org/public/0186/T2300060/002/SEOBNRv5HM.pdf) as V5HM,\n",
    "* [pySEOBNR documentation/code](https://git.ligo.org/waveforms/software/pyseobnr/) as pySEOBNR."
   ]
  },
  {
   "cell_type": "markdown",
   "id": "7762cb74",
   "metadata": {},
   "source": [
    "<a id='outputcreation'></a>\n",
    "\n",
    "# Step 0: Creating the output directory for SEOBNR \\[Back to [top](#toc)\\]\n",
    "$$\\label{outputcreation}$$\n",
    "\n",
    "First we create the output directory for SEOBNR (if it does not already exist):"
   ]
  },
  {
   "cell_type": "code",
   "execution_count": 1,
   "id": "f82311b8",
   "metadata": {},
   "outputs": [],
   "source": [
    "import sys#Add sys to get cmdline_helper from NRPy top directory; remove this line and next when debugged\n",
    "sys.path.append('../')\n",
    "import cmdline_helper as cmd     # NRPy+: Multi-platform Python command-line interface\n",
    "\n",
    "# Create C code output directory:\n",
    "Ccodesdir = \"Radiation\"\n",
    "# Then create an output directory in case it does not exist\n",
    "cmd.mkdir(Ccodesdir)"
   ]
  },
  {
   "cell_type": "markdown",
   "id": "edfe856d",
   "metadata": {},
   "source": [
    "<a id='hBOB'></a>\n",
    "\n",
    "# Step : The BOB waveform polarizations $h^{\\textrm{BOB}}$ \\[Back to [top](#toc)\\]\n",
    "$$\\label{hBOB}$$\n",
    "\n",
    "The BOB waveform polarizations $h^{\\rm BOB}$ are given as:\n",
    "\n",
    "\\begin{equation*}\n",
    "    h^{\\rm BOB}_{+} = h\\cos{\\phi}\\\\\n",
    "    h^{\\rm BOB}_{\\times} = h\\sin{\\phi}.\n",
    "\\end{equation*}\n",
    "\n",
    "Here $h$ (defined in [this cell](#h)) is the strain amplitude, and $\\phi$ (defined in [this cell](#phi)) is the waveform phase."
   ]
  },
  {
   "cell_type": "code",
   "execution_count": 2,
   "id": "08305089",
   "metadata": {},
   "outputs": [
    {
     "name": "stdout",
     "output_type": "stream",
     "text": [
      "Overwriting Hamiltonian/v5HM_Hamiltonian-Hreal_on_top.txt\n"
     ]
    }
   ],
   "source": [
    "%%writefile $Ccodesdir/v5HM-BOB_merger_ringdown_on_top.txt\n",
    "hplus = h*sp.cos(phi)\n",
    "hcross = h*sp.sin(phi)"
   ]
  },
  {
   "cell_type": "markdown",
   "id": "92c06b7b",
   "metadata": {},
   "source": [
    "<a id='h'></a>\n",
    "\n",
    "# Step : The strain amplitude $h$ \\[Back to [top](#toc)\\]\n",
    "$$\\label{h}$$\n",
    "\n",
    "The strain amplitude as stated in the discussion below Equation 5 of [BOB](https://arxiv.org/pdf/1810.00040.pdf) :\n",
    "\n",
    "\\begin{equation*}\n",
    "    h = \\frac{A_p}{4\\Omega^2}\\textrm{sech}\\left(\\frac{t - t_p}{\\tau}\\right)\n",
    "\\end{equation*}\n",
    "\n",
    "Here, $A_p$ is defined in [this cell](#ap), $t_{p}$ is defined in [this cell](#tp), $\\Omega$ is defined in [this cell](#omega). The time $t$ and the QNM damping timescale $\\tau$ are given as inputs. "
   ]
  },
  {
   "cell_type": "code",
   "execution_count": 3,
   "id": "ccdfd945",
   "metadata": {},
   "outputs": [
    {
     "name": "stdout",
     "output_type": "stream",
     "text": [
      "Appending to Hamiltonian/v5HM_Hamiltonian-Hreal_on_top.txt\n"
     ]
    }
   ],
   "source": [
    "%%writefile -a $Ccodesdir/v5HM-BOB_merger_ringdown_on_top.txt\n",
    "h = (Ap/4/Omega2)*sp.sech((t - tp)/tau)"
   ]
  },
  {
   "cell_type": "markdown",
   "id": "94fa6fea",
   "metadata": {},
   "source": [
    "<a id='phi'></a>\n",
    "\n",
    "# Step : The waveform phase $\\phi$ \\[Back to [top](#toc)\\]\n",
    "$$\\label{\\phi}$$\n",
    "\n",
    "The waveform phase is given in terms of the orbital phase which is given by equation 10 of [BOB](https://arxiv.org/pdf/1810.00040.pdf):\n",
    "\\begin{equation*}\n",
    "    \\phi = 2\\Phi\\\\\n",
    "    \\Phi = \\textrm{arctan}_{+} + \\textrm{arctanh}_{+} - \\textrm{arctan}_{-} - \\textrm{arctanh}_{-}.\n",
    "\\end{equation*}\n",
    "\n",
    "Here, $\\textrm{arctan}[\\textrm{h}]_{\\pm}$ is defined in [this cell](#arctanhpm). "
   ]
  },
  {
   "cell_type": "code",
   "execution_count": 4,
   "id": "bf31b01e",
   "metadata": {},
   "outputs": [
    {
     "name": "stdout",
     "output_type": "stream",
     "text": [
      "Appending to Hamiltonian/v5HM_Hamiltonian-Hreal_on_top.txt\n"
     ]
    }
   ],
   "source": [
    "%%writefile -a $Ccodesdir/v5HM-BOB_merger_ringdown_on_top.txt\n",
    "phi = 2*Phi\n",
    "Phi = arctanp + arctanhp - arctanm - arctanhm"
   ]
  },
  {
   "cell_type": "markdown",
   "id": "a2ca7f3f",
   "metadata": {},
   "source": [
    "<a id='arctanhpm'></a>\n",
    "\n",
    "# Step : ${\\rm arctan}[{\\rm h}]_{\\pm}$ \\[Back to [top](#toc)\\]\n",
    "$$\\label{arctanhpm}$$\n",
    "\n",
    "The phase terms are described in Equation 10 of [BOB](https://arxiv.org/pdf/1810.00040.pdf):\n",
    "\\begin{equation*}\n",
    "    {\\rm arctan}[{\\rm h}]_{\\pm} = \\kappa_{\\pm}\\tau\\left[ {\\rm arctan}[{\\rm h}]\\left(\\frac{\\Omega}{\\kappa_{\\pm}}\\right) - {\\rm arctan}[{\\rm h}]\\left(\\frac{\\Omega_0}{\\kappa_{\\pm}}\\right) \\right]\n",
    "\\end{equation*}\n",
    "\n",
    "Here,\n",
    "\n",
    "Note: due to some errors in sympy's handling of inverse hyperbolic tangents, we choose the alternative definition\n",
    "\n",
    "$$\n",
    "    {\\rm arctanh}(x) \\equiv \\frac{1}{2}\\ln\\left(\\frac{1 + x}{1 - x}\\right)\n",
    "$$"
   ]
  },
  {
   "cell_type": "code",
   "execution_count": 7,
   "id": "bb727735",
   "metadata": {},
   "outputs": [
    {
     "name": "stdout",
     "output_type": "stream",
     "text": [
      "Appending to Hamiltonian/v5HM_Hamiltonian-Hreal_on_top.txt\n"
     ]
    }
   ],
   "source": [
    "%%writefile -a $Ccodesdir/v5HM-BOB_merger_ringdown_on_top.txt\n",
    "arctanp = kappap*tau*( sp.atan(Omega/kappap) - sp.atan(Omega0/kappap) )\n",
    "arctanm = kappam*tau*( sp.atan(Omega/kappam) - sp.atan(Omega0/kappam) )\n",
    "arctanhp = kappap*tau*( atanh_Omega_kappap - atanh_Omega0_kappap )\n",
    "arctanhm = kappam*tau*( atanh_Omega_kappam - atanh_Omega0_kappam )\n",
    "atanh_Omega_kappap = sp.Rational(1,2)*sp.log( (1 + Omega/kappap)/(1 - Omega/kappap) )\n",
    "atanh_Omega0_kappap = sp.Rational(1,2)*sp.log( (1 + Omega0/kappap)/(1 - Omega0/kappap) )\n",
    "atanh_Omega_kappam = sp.Rational(1,2)*sp.log( (1 + Omega/kappam)/(1 - Omega/kappam) )\n",
    "atanh_Omega0_kappam = sp.Rational(1,2)*sp.log( (1 + Omega0/kappam)/(1 - Omega0/kappam) )"
   ]
  },
  {
   "cell_type": "markdown",
   "id": "89eb82bd",
   "metadata": {},
   "source": [
    "<a id='omega'></a>\n",
    "\n",
    "# Step : The Effective Orbital Frequency $\\Omega$ \\[Back to [top](#toc)\\]\n",
    "$$\\label{omega}$$\n",
    "\n",
    "The effective orbital frequency is given defined in Equation 7 of [BOB](https://arxiv.org/pdf/1810.00040.pdf):\n",
    "\n",
    "\\begin{equation*}\n",
    "    \\Omega = \\left\\{ \\Omega_0^4 + k\\left[ \\tanh\\left(\\frac{t - t_p}{\\tau}\\right) - \\tanh\\left(\\frac{t_0 - t_p}{\\tau}\\right) \\right] \\right\\}^{1/4}.\n",
    "\\end{equation*}\n",
    "\n",
    "Where, the reference frequency $\\Omega_0$ is defined in [this cell](#omega0), $k$ is defined in [this cell], and $t_p$ is defined in [this cell](tp). The times $t$, $t_0$, and the QNM damping timescale $\\tau$ are given as inputs. "
   ]
  },
  {
   "cell_type": "code",
   "execution_count": 6,
   "id": "42c631a7",
   "metadata": {},
   "outputs": [
    {
     "name": "stdout",
     "output_type": "stream",
     "text": [
      "Appending to Hamiltonian/v5HM_Hamiltonian-Hreal_on_top.txt\n"
     ]
    }
   ],
   "source": [
    "%%writefile -a $Ccodesdir/v5HM-BOB_merger_ringdown_on_top.txt\n",
    "Omega = ( Omega0**4 + k*( sp.tanh((t - tp)/tau) - sp.tanh((t0 - tp)/tau) ) )**(1/4)"
   ]
  },
  {
   "cell_type": "markdown",
   "id": "b2a89130",
   "metadata": {},
   "source": [
    "<a id='kappapm'></a>\n",
    "\n",
    "# Step : $\\kappa_{\\pm}$ \\[Back to [top](#toc)\\]\n",
    "$$\\label{kappapm}$$\n",
    "\n",
    "The coefficient $\\kappa_{\\pm}$ is expressed in Equation 10 of [BOB](https://arxiv.org/pdf/1810.00040.pdf):\n",
    "\\begin{equation*}\n",
    "    \\kappa_{\\pm} = \\left\\{ \\Omega_0^4 \\pm k\\left[ 1 \\mp \\tanh\\left(\\frac{t_0 - t_p}{\\tau}\\right) \\right] \\right\\}^{1/4}.\n",
    "\\end{equation*}\n",
    "\n",
    "Here, $\\Omega_0$ is defined in [this cell](#omega0), $t_p$ is defined in [this cell](#tp) and $k$ is defined [in this cell](#k)."
   ]
  },
  {
   "cell_type": "code",
   "execution_count": 8,
   "id": "86abfa7b",
   "metadata": {},
   "outputs": [
    {
     "name": "stdout",
     "output_type": "stream",
     "text": [
      "Appending to Hamiltonian/v5HM_Hamiltonian-Hreal_on_top.txt\n"
     ]
    }
   ],
   "source": [
    "%%writefile -a $Ccodesdir/v5HM-BOB_merger_ringdown_on_top.txt\n",
    "kappap = (Omega0**4 + k*( 1 - sp.tanh((t0 - tp)/tau) ))**(1/4)"
   ]
  },
  {
   "cell_type": "markdown",
   "id": "5e17e912",
   "metadata": {},
   "source": [
    "<a id='k'></a>\n",
    "\n",
    "# Step : $k$ \\[Back to [top](#toc)\\]\n",
    "$$\\label{bkerrnpa}$$\n",
    "\n",
    "The coefficient $k$ is expressed in Equation 8 of [BOB](https://arxiv.org/pdf/1810.00040.pdf):\n",
    "\\begin{equation*}\n",
    "    k = \\left( \\frac{\\Omega_{\\rm QNM}^4 - \\Omega_0^4}{1 - \\tanh\\left[(t_0 - t_p)/\\tau\\right]} \\right).\n",
    "\\end{equation*}\n",
    "\n",
    "Here, $\\Omega_0$ is defined in [this cell](#omega0), $t_p$ is defined in [this cell](#t_p). The reference time $t_0$, the QNM frequency $\\Omega_{\\rm QNM}$, and the QNM damping time $\\tau$ are given as inputs."
   ]
  },
  {
   "cell_type": "code",
   "execution_count": 9,
   "id": "0c94a3af",
   "metadata": {},
   "outputs": [
    {
     "name": "stdout",
     "output_type": "stream",
     "text": [
      "Appending to Hamiltonian/v5HM_Hamiltonian-Hreal_on_top.txt\n"
     ]
    }
   ],
   "source": [
    "%%writefile -a $Ccodesdir/v5HM-BOB_merger_ringdown_on_top.txt\n",
    "k = (OmegaQNM**4 - Omega0**4)/(1 - sp.tanh((t0 - tp)/tau))"
   ]
  },
  {
   "cell_type": "markdown",
   "id": "24f2a37a",
   "metadata": {},
   "source": [
    "<a id='ap'></a>\n",
    "\n",
    "# Step : $A_p$ \\[Back to [top](#toc)\\]\n",
    "$$\\label{ap}$$\n",
    "\n",
    "The peak $\\psi_4$ amplitude is calculated by matching the strain amplitude $h$ at the peak strain time to it's value given by numerical relativity fits:\n",
    "\\begin{equation*}\n",
    "    A_p = h_{\\rm NR}\\omega^2_{\\rm NR}\\cosh\\left( \\frac{t_0 - t_p}{\\tau} \\right).\n",
    "\\end{equation*}\n",
    "\n",
    "Here, $h_{\\rm NR}$ and $\\omega_{rm NR}$ are the peak strain ampitude and the corresponding frequency as determined by numerical relativity fits. $t_0$ and $\\tau$ are given as inputs and $t_p$ is defined in [this cell](#tp)."
   ]
  },
  {
   "cell_type": "code",
   "execution_count": 10,
   "id": "37cf1251",
   "metadata": {},
   "outputs": [
    {
     "name": "stdout",
     "output_type": "stream",
     "text": [
      "Appending to Hamiltonian/v5HM_Hamiltonian-Hreal_on_top.txt\n"
     ]
    }
   ],
   "source": [
    "%%writefile -a $Ccodesdir/v5HM-BOB_merger_ringdown_on_top.txt\n",
    "Ap = hNR*(omegaNR**2)*sp.cosh((t0 - tp)/tau)"
   ]
  },
  {
   "cell_type": "markdown",
   "id": "ce4f6c65",
   "metadata": {},
   "source": [
    "<a id='tp'></a>\n",
    "\n",
    "# Step : $t_p$ \\[Back to [top](#toc)\\]\n",
    "$$\\label{tp}$$\n",
    "\n",
    "The peak $\\psi_4$ time $t_p$ is obtained by solving for it under the condition that the reference time corresponds to the peak of the strain amplitude $\\dot{h}(t_0) = 0$ to give:\n",
    "\\begin{equation*}\n",
    "    t_p = t_0 - 2\\tau\\ln\\left(\\frac{\\Omega_0}{\\Omega_{\\rm QNM}}\\right).\n",
    "\\end{equation*}\n",
    "\n",
    "Here, $\\Omega_0$ is defined in [this cell](#omega0). The QNM frequency $\\Omega_{\\rm QNM}$, the QNM damping time $\\tau$, and the reference time $t_0$ are given as inputs."
   ]
  },
  {
   "cell_type": "code",
   "execution_count": 12,
   "id": "7e2e6c2a",
   "metadata": {},
   "outputs": [
    {
     "name": "stdout",
     "output_type": "stream",
     "text": [
      "Appending to Hamiltonian/v5HM_Hamiltonian-Hreal_on_top.txt\n"
     ]
    }
   ],
   "source": [
    "%%writefile -a $Ccodesdir/v5HM-BOB_merger_ringdown_on_top.txt\n",
    "tp = t0 - 2*tau*sp.log(Omega0/OmegaQNM)"
   ]
  },
  {
   "cell_type": "markdown",
   "id": "c53bc721",
   "metadata": {},
   "source": [
    "<a id='omega0'></a>\n",
    "\n",
    "# Step : $\\Omega_0$ \\[Back to [top](#toc)\\]\n",
    "$$\\label{omega0}$$\n",
    "\n",
    "The reference effective orbital frequency $\\Omega_{0}$ is expressed in terms of the waveform frequency corresponding to the peak of the strain amplitude:\n",
    "\\begin{equation*}\n",
    "    \\Omega_0 = \\frac{\\omega_{\\rm NR}}{2}.\n",
    "\\end{equation*}\n",
    "\n",
    "Here, $\\omega_{\\rm NR}$ is given as an input."
   ]
  },
  {
   "cell_type": "code",
   "execution_count": 11,
   "id": "f88447ba",
   "metadata": {},
   "outputs": [
    {
     "name": "stdout",
     "output_type": "stream",
     "text": [
      "Appending to Hamiltonian/v5HM_Hamiltonian-Hreal_on_top.txt\n"
     ]
    }
   ],
   "source": [
    "%%writefile -a $Ccodesdir/v5HM-BOB_merger_ringdown_on_top.txt\n",
    "Omega0 = omegaNR/2"
   ]
  },
  {
   "cell_type": "markdown",
   "id": "c45681c2",
   "metadata": {},
   "source": [
    "# Step : Saving the expressions\n",
    "\n",
    "Up till now, the expressions required for the Hamiltonian have been stored in a .txt file. for the sake of readability, some of the expressions have been written in more than one line. \n",
    "\n",
    "Therefore, we save the expressions in one-line format to parse into sympy for generating optimized code or derivative expressions."
   ]
  },
  {
   "cell_type": "code",
   "execution_count": 27,
   "id": "aedc704e",
   "metadata": {},
   "outputs": [],
   "source": [
    "import os \n",
    "with open(os.path.join(Ccodesdir,\"v5HM_Hamiltonian-Hreal_on_top-oneline.txt\"), \"w\") as output:\n",
    "    count = 0\n",
    "    # Read output of this notebook\n",
    "    for line in list(open(os.path.join(Ccodesdir,\"v5HM_Hamiltonian-Hreal_on_top.txt\"),\"r\")):\n",
    "        # Read the first line\n",
    "        if count == 0:\n",
    "            prevline=line\n",
    "        #Check if prevline is a complete expression\n",
    "        elif \"=\" in prevline and \"=\" in line:\n",
    "            output.write(\"%s\\n\" % prevline.strip('\\n'))\n",
    "            prevline=line\n",
    "        # Check if line needs to be adjoined to prevline\n",
    "        elif \"=\" in prevline and not \"=\" in line:\n",
    "            prevline = prevline.strip('\\n')\n",
    "            prevline = (prevline+line).replace(\" \",\"\")\n",
    "        # Be sure to print the last line.\n",
    "        if count == len(list(open(os.path.join(Ccodesdir,\"v5HM_Hamiltonian-Hreal_on_top.txt\"))))-1:\n",
    "            if not \"=\" in line:\n",
    "                print(\"ERROR. Algorithm not robust if there is no equals sign on the final line. Sorry.\")\n",
    "                sys.exit(1)\n",
    "            else:\n",
    "                output.write(\"%s\" % line)\n",
    "        count = count + 1\n",
    "\n",
    "with open(os.path.join(Ccodesdir,\"v5HM_Hamiltonian-Hreal_on_bottom.txt\"), \"w\") as output:\n",
    "    for line in reversed(list(open(os.path.join(Ccodesdir,\"v5HM_Hamiltonian-Hreal_on_top-oneline.txt\"),\"r\"))):\n",
    "        output.write(\"%s\\n\"%line.rstrip())\n"
   ]
  },
  {
   "cell_type": "markdown",
   "id": "0a50e1e3",
   "metadata": {},
   "source": [
    "# Generate unoptimized python code\n",
    "\n",
    "In this step, we'll simply store the Hamiltonian expressions in a python module as is in order to run preliminary validation tests. In addition, we will compare the results of our Hamiltonian function with that of the pyseobnr Hamiltonian function."
   ]
  },
  {
   "cell_type": "code",
   "execution_count": 28,
   "id": "7b3cd9e4",
   "metadata": {},
   "outputs": [
    {
     "name": "stdout",
     "output_type": "stream",
     "text": [
      "Of total  10000  comparisons,\n",
      " number of cases with relative error (total)  greater than allowed:  0 \n",
      " number of cases with relative error O(10)    greater than allowed:  0 \n",
      " number of cases with relative error O(100)   greater than allowed:  0 \n",
      " number of cases with relative error O(1000+) greater than allowed:  0\n"
     ]
    }
   ],
   "source": [
    "with open(os.path.join(Ccodesdir,\"v5HM_unoptimized_hamiltonian.py\"), \"w\") as output:\n",
    "    output.write(\"import numpy as np\\ndef v5HM_unoptimized_hamiltonian(m1, m2, r, prstar, pphi, chi1, chi2,verbose = False):\\n\")\n",
    "    for line in reversed(list(open(os.path.join(Ccodesdir,\"v5HM_Hamiltonian-Hreal_on_top-oneline.txt\"),\"r\"))):\n",
    "        output.write(\"    %s\\n\" % line.rstrip().replace(\"sp.sqrt\", \"np.sqrt\").replace(\"sp.Rational\",\n",
    "                                \"np.divide\").replace(\"sp.log\",\"np.log\").replace(\"sp.pi\",\"np.pi\").replace(\"sp.EulerGamma\",\"np.euler_gamma\"))\n",
    "    output.write(\"    if not verbose:\\n        return Hreal,xi\\n    else:\\n        return Hreal,xi,Aalign,Balignnp,Bkerreqnp,Qalign,Heven,Hodd,QalignSS,Qnos,Galigna3,gam,gap,SOcalib,u,nu,ap,am,r,prstar,pphi,chi1,chi2,m1,m2\")\n",
    "    \n",
    "import Hamiltonian.v5HM_unoptimized_hamiltonian as Hreal_unopt\n",
    "import Hamiltonian.pyseobnr_hamiltonian as Hreal_true\n",
    "import numpy as np\n",
    "\n",
    "#generate random input data\n",
    "gt_pert_total = []\n",
    "gt_pert_O1 = []\n",
    "gt_pert_O2 = []\n",
    "gt_pert_gtO3 = []\n",
    "N = 10000\n",
    "rng = np.random.default_rng(seed = 50)\n",
    "nu = rng.random(N)*.25\n",
    "chi1 = 2.*rng.random(N)-1.\n",
    "chi2 = 2.*rng.random(N)-1.\n",
    "m2 = (1 - np.sqrt(1 - 4*nu))*.5\n",
    "m1 = (1 + np.sqrt(1 - 4*nu))*.5\n",
    "r = rng.random(N)*17 + 3.\n",
    "phi = rng.random(N)*2.*np.pi\n",
    "prstar = rng.random(N)*20. - 10.\n",
    "pphi = rng.random(N)*20. - 10.\n",
    "\n",
    "# generate randomized perturbation in order to find the appropriate tolerance\n",
    "pert_exponent = 1e-14;\n",
    "pert_sign = 2*rng.integers(0,high = 2,size = N) - 1;\n",
    "pert_mantissa = 3.*rng.random(N) + 1. ;\n",
    "pert = 1. + pert_sign*pert_mantissa*pert_exponent\n",
    "chi1pert = chi1*pert \n",
    "chi2pert = chi2*pert\n",
    "m2pert = m2*pert\n",
    "m1pert = m1*pert\n",
    "rpert = r*pert\n",
    "phipert = phi*pert\n",
    "prstarpert = prstar*pert\n",
    "pphipert = pphi*pert\n",
    "\n",
    "nans = []\n",
    "def E_rel(a,b):\n",
    "    return np.abs((a - b)/a)\n",
    "\n",
    "for i in range(N):\n",
    "    q  = [r[i],phi[i]]\n",
    "    p = [prstar[i],pphi[i]]\n",
    "    qpert  = [rpert[i],phipert[i]]\n",
    "    ppert = [prstarpert[i],pphipert[i]]\n",
    "    H_unopt,xi = Hreal_unopt.v5HM_unoptimized_hamiltonian(m1[i],m2[i],r[i],prstar[i],pphi[i],chi1[i],chi2[i],verbose = False)\n",
    "    H_pyseobnr,xi = Hreal_true.evaluate_H(q,p, chi1[i], chi2[i], m1[i], m2[i],verbose = False)\n",
    "    H_pert,xi = Hreal_true.evaluate_H(qpert,ppert, chi1pert[i], chi2pert[i], m1pert[i], m2pert[i],verbose = False)\n",
    "    e_rel = E_rel(H_pyseobnr,H_unopt)\n",
    "    tol = E_rel(H_pyseobnr,H_pert)\n",
    "    if (np.isnan(H_pyseobnr) and np.isnan(H_unopt) and np.isnan(H_pert)):\n",
    "        nans.append(i)\n",
    "    else:\n",
    "        if e_rel>tol:\n",
    "            gt_pert_total.append(i)\n",
    "            if e_rel > 1000*tol:\n",
    "                gt_pert_gtO3.append(i)\n",
    "            elif e_rel > 100*tol:\n",
    "                gt_pert_O2.append(i)\n",
    "            elif e_rel > 10*tol:\n",
    "                gt_pert_O1.append(i)\n",
    "\n",
    "print(\"Of total \",str(N),\" comparisons,\\n\",\n",
    "     \"number of cases with relative error (total)  greater than allowed: \",len(gt_pert_total),\"\\n\",\n",
    "     \"number of cases with relative error O(10)    greater than allowed: \",len(gt_pert_O1),\"\\n\",\n",
    "     \"number of cases with relative error O(100)   greater than allowed: \",len(gt_pert_O2),\"\\n\",\n",
    "     \"number of cases with relative error O(1000+) greater than allowed: \",len(gt_pert_gtO3))\n",
    "\n"
   ]
  }
 ],
 "metadata": {
  "kernelspec": {
   "display_name": "Python 3 (ipykernel)",
   "language": "python",
   "name": "python3"
  },
  "language_info": {
   "codemirror_mode": {
    "name": "ipython",
    "version": 3
   },
   "file_extension": ".py",
   "mimetype": "text/x-python",
   "name": "python",
   "nbconvert_exporter": "python",
   "pygments_lexer": "ipython3",
   "version": "3.11.5"
  }
 },
 "nbformat": 4,
 "nbformat_minor": 5
}
