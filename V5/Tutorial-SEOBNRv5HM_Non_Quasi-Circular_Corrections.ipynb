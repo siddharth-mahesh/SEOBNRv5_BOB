{
 "cells": [
  {
   "cell_type": "code",
   "execution_count": null,
   "id": "99165dcc",
   "metadata": {},
   "outputs": [],
   "source": [
    "import sys#Add sys to get cmdline_helper from NRPy top directory; remove this line and next when debugged\n",
    "sys.path.append('../')\n",
    "import cmdline_helper as cmd     # NRPy+: Multi-platform Python command-line interface\n",
    "\n",
    "# Create C code output directory:\n",
    "Ccodesdir = \"NQC\"\n",
    "# Then create an output directory in case it does not exist\n",
    "cmd.mkdir(Ccodesdir)"
   ]
  },
  {
   "cell_type": "markdown",
   "id": "370f5fa0",
   "metadata": {},
   "source": [
    "# Non-Quasi Circular Corrections\n",
    "\n",
    "In EOBNR models, the inspiral trajectory is integrated up to a peak of the orbital frequency. In order to generate the complete inspiral-merger-ringdown waveform, it is essential to ensure that the inspiral-plunge component matches the merger-ringdown component at the time of peak amplitude. In order to accomplish this, a non-quasi circular (NQC) correction is multiplied to the inspiral-plung waveform. \n",
    "\n",
    "To compute the NQC corrections, one needs to step back $250M$ in time and generate the inspiral dynamics at a high sampling rate. The inspiral waveform is calculated for the high sampling dynamics. As per the discussion above equation 35 of Pompili, Buonanno, et al ([PB2023](https://arxiv.org/pdf/2303.18039.pdf)), the waveform is modified to account for "
   ]
  },
  {
   "cell_type": "code",
   "execution_count": null,
   "id": "eb46b501",
   "metadata": {},
   "outputs": [],
   "source": []
  }
 ],
 "metadata": {
  "kernelspec": {
   "display_name": "Python 3",
   "language": "python",
   "name": "python3"
  },
  "language_info": {
   "codemirror_mode": {
    "name": "ipython",
    "version": 3
   },
   "file_extension": ".py",
   "mimetype": "text/x-python",
   "name": "python",
   "nbconvert_exporter": "python",
   "pygments_lexer": "ipython3",
   "version": "3.8.8"
  }
 },
 "nbformat": 4,
 "nbformat_minor": 5
}
