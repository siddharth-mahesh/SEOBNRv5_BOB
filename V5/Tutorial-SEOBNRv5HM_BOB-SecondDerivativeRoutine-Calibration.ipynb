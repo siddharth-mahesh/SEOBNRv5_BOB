{
 "cells": [
  {
   "cell_type": "markdown",
   "id": "0ab1ed56-1f20-4647-b708-da4a26941663",
   "metadata": {},
   "source": [
    "# Symbolic Partial Derivative Routine\n",
    "\n",
    "## Authors: Zach Etienne, Tyler Knowles & Siddharth Mahesh\n",
    "\n",
    "## This module contains a routine for computing partial derivatives of a mathematical expression that is written as several subexpressions.\n",
    "\n",
    "**Notebook Status:** <font color='green'><b> Validated </b></font>\n",
    "\n",
    "**Validation Notes:** This tutorial notebook has been confirmed to be self-consistent with its corresponding NRPy+ module, as documented [below](#code_validation). Additionally, this notebook has been validated by checking that results are consistent with exact derivative expressions used in the SEOBNRv3_opt approixment of [LALSuite](https://git.ligo.org/lscsoft/lalsuite).\n",
    "\n",
    "### NRPy+ Source Code for this module: [SEOBNR_Derivative_Routine.py](../edit/SEOBNR/SEOBNR_Derivative_Routine.py)\n",
    "\n",
    "## Introduction\n",
    "$$\\label{intro}$$\n",
    "\n",
    "This notebook documents the symbolic partial derivative routine used to generate analytic derivatives of the [SEOBNRv3](https://git.ligo.org/lscsoft/lalsuite) Hamiltonian (documented [here](../Tutorial-SEOBNR_v3_Hamiltonian.ipynb)) and described in [this article](https://arxiv.org/abs/1803.06346).  In general, this notebook takes as input a file of inter-dependent mathematical expressions (in SymPy syntax), a file listing the names of values within those expressions, and a file listing all variables with which to take partial derivatives of each expression.  The output is a text file containing the original expression and those for each partial derivative computation.  The intention is to perform CSE on these expressions to create efficient partial derivative code!"
   ]
  },
  {
   "cell_type": "markdown",
   "id": "b50fc401-5924-4387-a58c-b62b0ec3e0bb",
   "metadata": {},
   "source": [
    "<a id='toc'></a>\n",
    "\n",
    "# Table of Contents\n",
    "$$\\label{toc}$$\n",
    "\n",
    "This notebook is organized as follows\n",
    "\n",
    "1. [Step 1](#initializenrpy): Initialize core Python/NRPy+ modules\n",
    "1. [Step 2:](#read_expressions) Read in Hamiltonian expressions from `Sympy_Hreal_on_Bottom.txt`\n",
    "1. [Step 3:](#list_constants) Specify constants and variables in Hamiltonian expression\n",
    "1. [Step 4:](#list_free_symbols) Extract free symbols\n",
    "1. [Step 5:](#convert_to_func) Convert variables to function notation; e.g., `var` goes to `var(xx)`\n",
    "1. [Step 6:](#differentiate) Differentiate with respect to `xx`\n",
    "1. [Step 7:](#remove_zeros) Remove derivatives (of constants) that evaluate to zero, simplifying derivative expressions\n",
    "1. [Step 8:](#store_results) Store partial derivatives to SymPy notebook `partial_derivatives.txt-VALIDATION.txt`\n",
    "1. [Step 9:](#numpy_function) Create numpy function to output exact derivatives for all 12 dynamic variables \n",
    "1. [Step 10:](#code_validation) Validate against LALSuite and trusted `SEOBNR_Derivative_Routine` NRPy+ module\n",
    "1. [Step 11:](#spherical_orbit) Spherical Orbit Test\n",
    "1. [Step 11:](#latex_pdf_output) Output this notebook to $\\LaTeX$-formatted PDF file"
   ]
  },
  {
   "cell_type": "markdown",
   "id": "767bff5f-7649-4612-b82a-f70e1c0ef905",
   "metadata": {},
   "source": [
    "<a id='initializenrpy'></a>\n",
    "\n",
    "# Step 1: Initialize core Python/NRPy+ modules \\[Back to [top](#toc)\\]\n",
    "$$\\label{initializenrpy}$$\n",
    "\n",
    "Let's start by importing all the needed modules from Python/NRPy+ and creating the output directory (if it does not already exist). Note that since the expression 'Q' appears in the Hamiltonian and is a protected symbol in sympy we must create a new global dictionary to ensure that sympy does not spit out errors."
   ]
  },
  {
   "cell_type": "code",
   "execution_count": 1,
   "id": "67fb819c-2004-4297-9361-c8d9ce9d859e",
   "metadata": {},
   "outputs": [
    {
     "name": "stdout",
     "output_type": "stream",
     "text": [
      "2.1\n"
     ]
    }
   ],
   "source": [
    "# Step 1.a: import all needed modules from Python/NRPy+:\n",
    "import sympy as sp                # SymPy: The Python computer algebra package upon which NRPy+ depends\n",
    "import sys, os     # Standard Python modules for multiplatform OS-level functions\n",
    "sys.path.append('../')\n",
    "import cmdline_helper as cmd     # NRPy+: Multi-platform Python command-line interface\n",
    "\n",
    "from outputC import superfast_uniq, lhrh, outputC      # Remove duplicate entries from a Python array; store left- and right-\n",
    "                                              #   hand sides of mathematical expressions\n",
    "                                              #   create optimized C expressions\n",
    "\n",
    "# As of April 2021, \"sp.sympify(\"Q+1\")\" fails because Q is a reserved keyword.\n",
    "#   This is the workaround, courtesy Ken Sible.\n",
    "custom_global_dict = {}\n",
    "exec('from sympy import *', custom_global_dict)\n",
    "del custom_global_dict['Q']\n",
    "\n",
    "# Step 1.b: Check for a sufficiently new version of SymPy (for validation)\n",
    "# Ignore the rc's and b's for release candidates & betas.\n",
    "sympy_version = sp.__version__.replace('rc', '...').replace('b', '...')\n",
    "sympy_version_decimal = float(int(sympy_version.split(\".\")[0]) + int(sympy_version.split(\".\")[1])/10.0)\n",
    "print(sympy_version_decimal)\n",
    "if sympy_version_decimal > 1.2:\n",
    "    custom_parse_expr = lambda expr: sp.parse_expr(expr, global_dict=custom_global_dict)\n",
    "else:\n",
    "    custom_parse_expr = lambda expr: sp.sympify(expr)\n",
    "\n",
    "if sympy_version_decimal < 1.2:\n",
    "    print('Error: NRPy+ does not support SymPy < 1.2')\n",
    "    sys.exit(1)\n",
    "\n",
    "# Step 1.c: Name of the directory containing the input/output file\n",
    "inputdir = \"Derivatives\"\n",
    "outputdir = \"Derivatives\"\n",
    "\n",
    "cmd.mkdir(outputdir)"
   ]
  },
  {
   "cell_type": "markdown",
   "id": "8ce1dc0f-0c03-47c7-8bac-d0561e7d6844",
   "metadata": {},
   "source": [
    "<a id='read_expressions'></a>\n",
    "\n",
    "# Step 2: Read in Hamiltonian expressions from `Sympy_Hreal_on_Bottom.txt` \\[Back to [top](#toc)\\]\n",
    "$$\\label{read_expressions}$$\n",
    "\n",
    "We read in the expressions of which we will compute partial derivatives in a single large string before splitting the string by line (carriage return) and by \"=\".  Doing so allows us to manipulate the right- and left-hand sides of the expressions appropriately.  We store the left- and right-hand sides in the array `lr`, which consists of `lhrh` arrays with left-hand sides `lhs` and right-hand sides `rhs`.  Note that `Lambda` is a protected keyword in Python, so the variable $\\Lambda$ in the Hamiltonian is renamed `Lamb`."
   ]
  },
  {
   "cell_type": "code",
   "execution_count": 2,
   "id": "4cccacea-a177-4c37-8d26-a7cc147791c9",
   "metadata": {},
   "outputs": [],
   "source": [
    "# Step 2.a: Read in expressions as a (single) string\n",
    "with open(os.path.join(inputdir,'v5HM_BOB_Hamiltonian-Calibration_Derivative_dr.txt'), 'r') as file:\n",
    "    expressions_as_lines = file.readlines()\n",
    "\n",
    "# Step 2.b: Create and populate the \"lr\" array, which separates each line into left- and right-hand sides\n",
    "#   Each entry is a string of the form lhrh(lhs='',rhs='')\n",
    "lr = []\n",
    "\n",
    "for i in range(len(expressions_as_lines)):\n",
    "    # Ignore lines with 2 or fewer characters and those starting with #\n",
    "    if len(expressions_as_lines[i]) > 2 and expressions_as_lines[i][0] != \"#\":\n",
    "        # Split each line by its equals sign\n",
    "        split_line = expressions_as_lines[i].split(\"=\")\n",
    "        # Append the line to \"lr\", removing spaces, \"sp.\" prefixes, and replacing Lambda->Lamb\n",
    "        #   (Lambda is a protected keyword):\n",
    "        lr.append(lhrh(lhs=split_line[0].replace(\" \",\"\").replace(\"Lambda\",\"Lamb\"),\n",
    "                       rhs=split_line[1].replace(\" \",\"\").replace(\"sp.\",\"\").replace(\"Lambda\",\"Lamb\")))\n",
    "\n",
    "# Step 2.c: Separate and sympify right- and left-hand sides into separate arrays\n",
    "lhss = []\n",
    "rhss = []\n",
    "for i in range(len(lr)):\n",
    "    lhss.append(custom_parse_expr(lr[i].lhs))\n",
    "    rhss.append(custom_parse_expr(lr[i].rhs))"
   ]
  },
  {
   "cell_type": "markdown",
   "id": "4120292c-4f8f-4812-8385-1bb6ca3707e9",
   "metadata": {},
   "source": [
    "<a id='list_constants'></a>\n",
    "\n",
    "# Step 3: Specify constants and variables in Hamiltonian expression \\[Back to [top](#toc)\\]\n",
    "$$\\label{list_constants}$$\n",
    "\n",
    "We read in and declare as SymPy symbols the constant values; derivatives with respect to these variables will be set to zero.  We then read in the variables with respect to which we want to take derivatives and declare those as SymPy variables as well."
   ]
  },
  {
   "cell_type": "code",
   "execution_count": 3,
   "id": "a122a72f-99a3-4baa-bb71-367503b9dece",
   "metadata": {},
   "outputs": [],
   "source": [
    "# Step 3.a: Create `input_constants` array and populate with SymPy symbols\n",
    "m1,m2,chi1,chi2,a6,dSO = sp.symbols('m1 m2 chi1 chi2 a6 dSO',real=True)\n",
    "\n",
    "input_constants = [m1,m2,chi1,chi2,a6,dSO]\n",
    "# Step 3.b: Create `dynamic_variables` array and populate with SymPy symbols\n",
    "r,prstar,pphi = sp.symbols(\"r prstar pphi\", real=True)\n",
    "dynamic_variables = [r,prstar,pphi]"
   ]
  },
  {
   "cell_type": "markdown",
   "id": "1b6d0132-5f9f-4df5-b0e1-6972123504d4",
   "metadata": {},
   "source": [
    "<a id='list_free_symbols'></a>\n",
    "\n",
    "# Step 4: Extract free symbols \\[Back to [top](#toc)\\]\n",
    "$$\\label{list_free_symbols}$$\n",
    "\n",
    "By ''free symbols'' we mean the variables in the right-hand sides.  We first create a list of all such terms (using SymPy's built-in free_symbol attribute), including duplicates, and then strip the duplicates.  We then remove input constants from the symbol list."
   ]
  },
  {
   "cell_type": "code",
   "execution_count": 4,
   "id": "939c1c97-3a44-4ab3-93de-b2266356296a",
   "metadata": {},
   "outputs": [],
   "source": [
    "# Step 4.a: Prepare array of \"free symbols\" in the right-hand side expressions\n",
    "full_symbol_list_with_dups = []\n",
    "for i in range(len(lr)):\n",
    "    for variable in rhss[i].free_symbols:\n",
    "        full_symbol_list_with_dups.append(variable)\n",
    "\n",
    "# Step 4.b: Remove duplicate free symbols\n",
    "full_symbol_list = superfast_uniq(full_symbol_list_with_dups)\n",
    "\n",
    "# Step 4.c: Remove input constants from symbol list\n",
    "for inputconst in input_constants:\n",
    "    for symbol in full_symbol_list:\n",
    "        if str(symbol) == str(inputconst):\n",
    "            full_symbol_list.remove(symbol)"
   ]
  },
  {
   "cell_type": "markdown",
   "id": "cb3004a0-35f5-4b0b-b308-6e225b5f053a",
   "metadata": {},
   "source": [
    "<a id='convert_to_func'></a>\n",
    "\n",
    "# Step 5: Convert variables to function notation; e.g., `var` goes to `var(xx)` \\[Back to [top](#toc)\\]\n",
    "$$\\label{convert_to_func}$$\n",
    "\n",
    "In order to compute the partial derivative of each right-hand side, we mark each variable (left-hand side) and each free symbol (in right-hand sides) as a function with the dynamic variables as arguments."
   ]
  },
  {
   "cell_type": "code",
   "execution_count": 5,
   "id": "c9b297f2-8c60-4988-94fe-2e9b493de607",
   "metadata": {},
   "outputs": [
    {
     "name": "stdout",
     "output_type": "stream",
     "text": [
      "[r(xx), M(xx), nu(xx), pphi(xx), prstar(xx), d5(xx), Anons(xx), ap(xx), Dnons(xx), u(xx), xi(xx), am(xx), delta(xx), pr(xx), QalignSS(xx), Qnos(xx), BnpalignSS(xx), AalignSS(xx), Aalign(xx), Bkerreqnp(xx), Balignnp(xx), Qalign(xx), gap(xx), Galigna3(xx), gam(xx), SOcalib(xx), Hodd(xx), Heven(xx), Heff(xx), u_prmr(xx), Anons_prmr(xx), Dnons_prmr(xx), xi_prmr(xx), pr_prmr(xx), QalignSS_prmr(xx), Qnos_prmr(xx), BnpalignSS_prmr(xx), AalignSS_prmr(xx), Bkerreqnp_prmr(xx), Balignnp_prmr(xx), Aalign_prmr(xx), Qalign_prmr(xx), gap_prmr(xx), Galigna3_prmr(xx), SOcalib_prmr(xx), gam_prmr(xx), Heven_prmr(xx), Hodd_prmr(xx), Heff_prmr(xx)]\n"
     ]
    }
   ],
   "source": [
    "# Step 5.a: Convert each left-hand side to function notation\n",
    "#   while separating and simplifying left- and right-hand sides\n",
    "xx = sp.Symbol('xx',real=True)\n",
    "func = []\n",
    "for i in range(len(lr)):\n",
    "    func.append(sp.sympify(sp.Function(lr[i].lhs,real=True)(xx)))\n",
    "\n",
    "# Step 5.b: Mark each free variable as a function with arguments as the dynamic variables\n",
    "full_function_list = []\n",
    "for symb in full_symbol_list:\n",
    "    func = sp.sympify(sp.Function(str(symb),real=True)(xx))\n",
    "    full_function_list.append(func)\n",
    "    for i in range(len(rhss)):\n",
    "        for var in rhss[i].free_symbols:\n",
    "            if str(var) == str(symb):\n",
    "                rhss[i] = rhss[i].subs(var,func)\n",
    "print(full_function_list)"
   ]
  },
  {
   "cell_type": "markdown",
   "id": "7e288e96-4643-4b70-9e06-1d7f885136ca",
   "metadata": {},
   "source": [
    "<a id='differentiate'></a>\n",
    "\n",
    "# Step 6: Differentiate with respect to dynamic variables \\[Back to [top](#toc)\\]\n",
    "$$\\label{differentiate}$$\n",
    "\n",
    "Now we differentiate the right-hand expressions with respect to the dynamic variabls.  We use the SymPy $\\texttt{diff}$ command, differentiating with respect to each dynamic variable.  After so doing, we remove $\\texttt{(xx)}$, where 'xx' represents a dynamic variable and \"Derivative\" (which is output by $\\texttt{diff}$), and use \"prm_xx\" suffix to denote the derivative with respect to $\\texttt{xx}$."
   ]
  },
  {
   "cell_type": "code",
   "execution_count": 6,
   "id": "56d4132a-98e0-476b-8524-3826a3f06f97",
   "metadata": {},
   "outputs": [],
   "source": [
    "# Step 6: Use SymPy's diff function to differentiate right-hand sides with respect to dynamic variables\n",
    "#   and append \"prm\" notation to left-hand sides\n",
    "lhss_deriv = []\n",
    "rhss_deriv = []\n",
    "for i in range(len(rhss)):\n",
    "    lhss_deriv.append(custom_parse_expr(str(lhss[i])+\"prm2\"))\n",
    "    newrhs = custom_parse_expr(str(sp.diff(rhss[i],xx)).replace(\"(xx)\",\"\").replace(\", xx\",\"prm2\").replace(\"Derivative\",\"\"))\n",
    "    rhss_deriv.append(newrhs)    "
   ]
  },
  {
   "cell_type": "markdown",
   "id": "d7a8d93e-fe35-4c88-a0b5-cfedc3c26e21",
   "metadata": {},
   "source": [
    "<a id='remove_zeros'></a>\n",
    "\n",
    "# Step 7: Remove derivatives (of constants) that evaluate to zero, simplifying derivative expressions \\[Back to [top](#toc)\\]\n",
    "$$\\label{remove_zeros}$$\n",
    "\n",
    "We declare a function to simply the derivative expressions.  In particular, we want to remove terms equal to zero."
   ]
  },
  {
   "cell_type": "code",
   "execution_count": 7,
   "id": "3f9dc3f1-040d-43f5-9b8c-c305ed9c6495",
   "metadata": {},
   "outputs": [],
   "source": [
    "# Step 7.a: Define derivative simplification function\n",
    "def simplify_deriv(lhss_deriv,rhss_deriv):\n",
    "    # Copy expressions into another array\n",
    "    lhss_deriv_simp = []\n",
    "    rhss_deriv_simp = []\n",
    "    for i in range(len(rhss_deriv)):\n",
    "        \n",
    "        lhss_deriv_simp.append(lhss_deriv[i])\n",
    "        rhss_deriv_simp.append(rhss_deriv[i])\n",
    "    # If a right-hand side is 0, substitute value 0 for the corresponding left-hand side in later terms\n",
    "    for i in range(len(rhss_deriv_simp)):\n",
    "        if rhss_deriv_simp[i] == 0:\n",
    "            for j in range(i+1,len(rhss_deriv_simp)):\n",
    "                for var in rhss_deriv_simp[j].free_symbols:\n",
    "                    if str(var) == str(lhss_deriv_simp[i]):\n",
    "                        rhss_deriv_simp[j] = rhss_deriv_simp[j].subs(var,0)\n",
    "    zero_elements_to_remove = []\n",
    "    # Create array of indices for expressions that are zero\n",
    "    for i in range(len(rhss_deriv_simp)):\n",
    "        if rhss_deriv_simp[i] == sp.sympify(0):\n",
    "            zero_elements_to_remove.append(i)\n",
    "    # When removing terms that are zero, we need to take into account their new index (after each removal)\n",
    "    count = 0\n",
    "    for i in range(len(zero_elements_to_remove)):\n",
    "        del lhss_deriv_simp[zero_elements_to_remove[i]+count]\n",
    "        del rhss_deriv_simp[zero_elements_to_remove[i]+count]\n",
    "        count -= 1\n",
    "    return lhss_deriv_simp,rhss_deriv_simp\n",
    "\n",
    "# Step 7.b: Call the simplication function and then copy results\n",
    "lhss_deriv_simp,rhss_deriv_simp = simplify_deriv(lhss_deriv,rhss_deriv)\n",
    "lhss_deriv = lhss_deriv_simp\n",
    "rhss_deriv = rhss_deriv_simp"
   ]
  },
  {
   "cell_type": "markdown",
   "id": "7ddd5189",
   "metadata": {},
   "source": [
    "<a id='partial_derivative'></a>\n",
    "\n",
    "# Step 8: Simplify derivatives with respect to specific variables \\[Back to [top](#toc)\\]\n",
    "$$\\label{partial_derivative}$$\n",
    "\n",
    "In [Step 6](#differentiate) we took a generic derivative of each expression, assuming all variables were functions of `xx`.  We now define a function that will select a specific dynamic variable (element of `dynamic_variables`) and set the derivative of the variable to 1 and all others to 0."
   ]
  },
  {
   "cell_type": "code",
   "execution_count": 8,
   "id": "f6f24ad7",
   "metadata": {},
   "outputs": [],
   "source": [
    "# Step 8.a: Define onevar derivative function\n",
    "# deriv_onevar() replaces variable derivatives with 1 or 0 depending on which partial derivaitve is computed.  For\n",
    "# example, pass 'xprm=1' to replace each instance of 'xprm' with 1 and 'qprm' with 0 for each q in (y,z,p1,p2,p3,S1x,\n",
    "# S1y,S1z,S2x,S2y,S2z).  This produces expressions which compute the partial derivative of the Hamiltonian with respect\n",
    "# to x.\n",
    "def deriv_onevar(lhss_deriv, rhss_deriv, rprm=0, prstarprm=0, pphiprm=0):\n",
    "    if rprm + prstarprm + pphiprm != 1:\n",
    "        print(\"deriv_onevar() cannot take more than one derivative at a time!\")\n",
    "        sys.exit()\n",
    "\n",
    "    # Create 'new' arrays to store and manipulate derivative terms.\n",
    "    lhss_deriv_new = []\n",
    "    rhss_deriv_new = []\n",
    "    # Append derivative terms to 'new' arrays\n",
    "    for i in range(len(rhss_deriv)):\n",
    "        lhss_deriv_new.append(lhss_deriv[i])\n",
    "        rhss_deriv_new.append(rhss_deriv[i])\n",
    "    # Replace each instance of 'qprm', q in (x,y,z,p1,p2,p3,S1x,S1y,S1z,S2x,S2y,S2z), with either 0 or 1.\n",
    "    for i in range(len(rhss_deriv_new)):\n",
    "        for var in rhss_deriv_new[i].free_symbols:\n",
    "            if str(var) == \"rprm2\":\n",
    "                rhss_deriv_new[i] = rhss_deriv_new[i].subs(var, rprm)\n",
    "            elif str(var) == \"prstarprm2\":\n",
    "                rhss_deriv_new[i] = rhss_deriv_new[i].subs(var, prstarprm)\n",
    "            elif str(var) == \"pphiprm2\":\n",
    "                rhss_deriv_new[i] = rhss_deriv_new[i].subs(var, pphiprm)\n",
    "    # Simplify the derivative expressions with simplify_deriv().\n",
    "    lhss_deriv_simp, rhss_deriv_simp = simplify_deriv(lhss_deriv_new, rhss_deriv_new)\n",
    "    # Return simplified derivative expression.\n",
    "    return lhss_deriv_simp, rhss_deriv_simp"
   ]
  },
  {
   "cell_type": "markdown",
   "id": "22e4d7f5-b072-48a7-a163-41eddb85e736",
   "metadata": {},
   "source": [
    "<a id='store_results'></a>\n",
    "\n",
    "# Step 9: Store partial derivatives to SymPy notebook `partial_derivatives.txt-VALIDATION.txt` \\[Back to [top](#toc)\\]\n",
    "$$\\label{store_results}$$\n",
    "\n",
    "We write the resulting derivatives in SymPy syntax.  Each partial derivative is output in its own file, in a similar format to the input expressions."
   ]
  },
  {
   "cell_type": "code",
   "execution_count": 9,
   "id": "dda1c8f9-a837-4643-9ccf-d0f471eb1d6f",
   "metadata": {},
   "outputs": [],
   "source": [
    "# Step 9: Output original expression and each partial derivative expression in SymPy snytax\n",
    "with open(os.path.join(outputdir,'v5HM_BOB_second_partial_derivatives-Calibration.txt'), 'w') as output:\n",
    "    for i in range(len(lr)):\n",
    "        right_side = lr[i].rhs\n",
    "        right_side_in_sp = right_side.replace(\"sqrt(\",\"sp.sqrt(\").replace(\"log(\",\"sp.log(\").replace(\"pi\",\n",
    "                                                \"sp.pi\").replace(\"EulerGamma\",\"sp.EulerGamma\").replace(\"Rational(\",\"sp.Rational(\")\n",
    "        #print(str(lr[i].lhs)+\" = \"+right_side_in_sp) \n",
    "        output.write(str(lr[i].lhs)+\" = \"+right_side_in_sp)\n",
    "    output.write(\"\\n\")\n",
    "    for i in range(len(lhss_deriv)):\n",
    "        right_side = str(rhss_deriv[i])\n",
    "        right_side_in_sp = right_side.replace(\"sqrt(\",\"sp.sqrt(\").replace(\"log(\",\"sp.log(\").replace(\"pi\",\n",
    "                                                \"sp.pi\").replace(\"EulerGamma\",\"sp.EulerGamma\").replace(\"Rational(\",\"sp.Rational(\").replace(\"prm1\",\"_prm1\")\n",
    "        output.write(str(lhss_deriv[i]).replace(\"prm2\",\"_prm2\")+\" = \"+right_side_in_sp+\"\\n\")"
   ]
  },
  {
   "cell_type": "markdown",
   "id": "dc442914-7461-4c22-bc79-5a9b86bd0efc",
   "metadata": {},
   "source": [
    "<a id='specific_derivatives'></a>\n",
    "\n",
    "# Step 10: Compute specific derivatives  \\[Back to [top](#toc)\\]\n",
    "$$\\label{specific _derivatives}$$\n",
    "\n",
    "We write resulting specific derivatives in sympy syntax. The derivatives needed for initial conditions, integrating the trajectory, and computing the waveform are as follows\n",
    "\n",
    "- For the initial conditions, $\\xi\\frac{\\partial \\mathcal{H}}{\\partial p_{r_*}} + \\frac{\\frac{\\partial^2 \\mathcal{H}}{\\partial r \\partial p_{\\phi}}\\mathcal{F}_{\\phi}}{\\frac{\\partial^2 \\mathcal{H}}{\\partial r^2}}$"
   ]
  },
  {
   "cell_type": "code",
   "execution_count": 10,
   "id": "bc20b0d3-c7c2-48fc-af5b-b91409bf92d1",
   "metadata": {},
   "outputs": [],
   "source": [
    "# Step 10: output exact derivatives for all required cases\n",
    "lhss_deriv_r_r, rhss_deriv_r_r = deriv_onevar(lhss_deriv, rhss_deriv, rprm = 1, prstarprm = 0, pphiprm = 0)\n",
    "lhss_deriv_r_pphi, rhss_deriv_r_pphi = deriv_onevar(lhss_deriv, rhss_deriv, rprm = 0, prstarprm = 0, pphiprm = 1)\n",
    "\n",
    "\n",
    "# Store Variables\n",
    "\n",
    "with open(os.path.join(outputdir,'v5HM_BOB_Hamiltonian-Calibration_Derivative_dr_dr.txt'), 'w') as output:\n",
    "    for i in range(len(lr)):\n",
    "        right_side = lr[i].rhs\n",
    "        right_side_in_sp = right_side.replace(\"sqrt(\",\"sp.sqrt(\").replace(\"log(\",\"sp.log(\").replace(\"pi\",\n",
    "                                                \"sp.pi\").replace(\"EulerGamma\",\"sp.EulerGamma\").replace(\"Rational(\",\"sp.Rational(\")\n",
    "        output.write(str(lr[i].lhs)+\" = \"+right_side_in_sp)\n",
    "    output.write(\"\\n\")\n",
    "    for i in range(len(lhss_deriv_r_r)):\n",
    "        right_side = str(rhss_deriv_r_r[i])\n",
    "        right_side_in_sp = right_side.replace(\"sqrt(\",\"sp.sqrt(\").replace(\"log(\",\"sp.log(\").replace(\"pi\",\n",
    "                                                \"sp.pi\").replace(\"EulerGamma\",\"sp.EulerGamma\").replace(\"Rational(\",\"sp.Rational(\").replace(\"prm2\",\"_prmr\")\n",
    "        output.write(str(lhss_deriv_r_r[i]).replace(\"prm2\",\"_prmr\")+\" = \"+right_side_in_sp+\"\\n\")\n",
    "\n",
    "with open(os.path.join(outputdir,'v5HM_BOB_Hamiltonian-Calibration_Derivative_dr_dpphi.txt'), 'w') as output:\n",
    "    for i in range(len(lr)):\n",
    "        right_side = lr[i].rhs\n",
    "        right_side_in_sp = right_side.replace(\"sqrt(\",\"sp.sqrt(\").replace(\"log(\",\"sp.log(\").replace(\"pi\",\n",
    "                                                \"sp.pi\").replace(\"EulerGamma\",\"sp.EulerGamma\").replace(\"Rational(\",\"sp.Rational(\")\n",
    "        output.write(str(lr[i].lhs)+\" = \"+right_side_in_sp)\n",
    "    output.write(\"\\n\")\n",
    "    for i in range(len(lhss_deriv_r_pphi)):\n",
    "        right_side = str(rhss_deriv_r_pphi[i])\n",
    "        right_side_in_sp = right_side.replace(\"sqrt(\",\"sp.sqrt(\").replace(\"log(\",\"sp.log(\").replace(\"pi\",\n",
    "                                                \"sp.pi\").replace(\"EulerGamma\",\"sp.EulerGamma\").replace(\"Rational(\",\"sp.Rational(\").replace(\"prm2\",\"_prmpphi\")\n",
    "        output.write(str(lhss_deriv_r_pphi[i]).replace(\"prm2\",\"_prmpphi\")+\" = \"+right_side_in_sp+\"\\n\")"
   ]
  },
  {
   "cell_type": "code",
   "execution_count": 11,
   "id": "e51053b7-df77-4c55-ba94-2b66652741eb",
   "metadata": {},
   "outputs": [],
   "source": [
    "with open(os.path.join(outputdir,\"v5HM_BOB_unoptimized_hamiltonian_second_derivatives_calibration.py\"), \"w\") as output:\n",
    "    output.write(\"import numpy as np\\n\")\n",
    "    output.write(\"def v5HM_BOB_unoptimized_dH_dr_dr_calibration(m1, m2, r, prstar, pphi, chi1, chi2,a6,dSO,verbose = False):\\n\")\n",
    "    for line in list(open(os.path.join(outputdir,\"v5HM_BOB_Hamiltonian-Calibration_Derivative_dr_dr.txt\"),\"r\")):\n",
    "        output.write(\"    %s\\n\" % line.rstrip().replace(\"sp.sqrt\", \"np.sqrt\").replace(\"sp.Rational\",\n",
    "                                \"np.divide\").replace(\"sp.log\",\"np.log\").replace(\"sp.pi\",\"np.pi\").replace(\"sp.EulerGamma\",\"np.euler_gamma\"))\n",
    "    output.write(\"    if not verbose:\\n        return Hreal_prmr_prmr\\n    else:\\n        return Hreal,xi,Aalign,Balignnp,Bkerreqnp,Qalign,Heven,Hodd,QalignSS,Qnos,Galigna3,gam,gap,SOcalib,u,eta,ap,am,r,prstar,pphi,chi1,chi2,m1,m2\\n\")\n",
    "    output.write(\"def v5HM_BOB_unoptimized_dH_dr_dpphi_calibration(m1, m2, r, prstar, pphi, chi1, chi2,a6,dSO,verbose = False):\\n\")\n",
    "    for line in list(open(os.path.join(outputdir,\"v5HM_BOB_Hamiltonian-Calibration_Derivative_dr_dpphi.txt\"),\"r\")):\n",
    "        output.write(\"    %s\\n\" % line.rstrip().replace(\"sp.sqrt\", \"np.sqrt\").replace(\"sp.Rational\",\n",
    "                                \"np.divide\").replace(\"sp.log\",\"np.log\").replace(\"sp.pi\",\"np.pi\").replace(\"sp.EulerGamma\",\"np.euler_gamma\"))\n",
    "    output.write(\"    if not verbose:\\n        return Hreal_prmr_prmpphi\\n    else:\\n        return Hreal,xi,Aalign,Balignnp,Bkerreqnp,Qalign,Heven,Hodd,QalignSS,Qnos,Galigna3,gam,gap,SOcalib,u,eta,ap,am,r,prstar,pphi,chi1,chi2,m1,m2\\n\")"
   ]
  },
  {
   "cell_type": "code",
   "execution_count": 12,
   "id": "c9dadbe1",
   "metadata": {},
   "outputs": [],
   "source": [
    "Validation = False\n",
    "if Validation:\n",
    "    from Derivatives.v5HM_Hamiltonian_Second_Derivatives_unoptimized import v5HM_unoptimized_dH_dr_dr as d2Hdr2\n",
    "    from Derivatives.v5HM_Hamiltonian_Second_Derivatives_unoptimized import v5HM_unoptimized_dH_dr_dpphi as d2Hdrdpphi\n",
    "    from Derivatives.pyseobnr_derivatives import hessian as hess\n",
    "    import numpy as np\n",
    "    N = 100000\n",
    "    eta = 0.1\n",
    "    m1 = 0.5*(1 + np.sqrt(1 - 4*eta))\n",
    "    m2 = 0.5*(1 - np.sqrt(1 - 4*eta))\n",
    "    r = 10\n",
    "    prstar = 3\n",
    "    phi = 2\n",
    "    pphi = 30\n",
    "    chi1 = 0.5\n",
    "    chi2 = 0.3\n",
    "    d2Hdrdr_ans = d2Hdr2(m1, m2, r, prstar, pphi, chi1, chi2)\n",
    "    d2Hdrdr_true = hess([r,phi], [prstar,pphi], chi1, chi2, m1, m2)[0]\n",
    "    d2Hdrdr_pert = hess([r,phi], [prstar,pphi], chi1, chi2, m1*(1 + 1e-12), m2)[0]\n",
    "    print(d2Hdrdr_ans/eta,d2Hdrdr_true,np.abs((d2Hdrdr_true - d2Hdrdr_pert)/d2Hdrdr_true))\n",
    "\n"
   ]
  },
  {
   "cell_type": "code",
   "execution_count": 13,
   "id": "e6b31bc3",
   "metadata": {},
   "outputs": [],
   "source": [
    "with open(os.path.join(outputdir,\"v5HM_BOB_initial_conditions_dissipative_calibration.py\"), \"w\") as output:\n",
    "    output.write(\"import numpy as np\\n\")\n",
    "    output.write(\"from Radiation.v5HM_Flux_unoptimized import v5HM_unoptimized_flux as flux\\n\")\n",
    "    output.write(\"from Derivatives.v5HM_BOB_unoptimized_hamiltonian_second_derivatives_calibration import v5HM_BOB_unoptimized_dH_dr_dpphi_calibration as d2Hdrdpphi\\n\")\n",
    "    output.write(\"from Derivatives.v5HM_BOB_unoptimized_hamiltonian_second_derivatives_calibration import v5HM_BOB_unoptimized_dH_dr_dr_calibration as d2Hdr2\\n\")\n",
    "    output.write(\"from Derivatives.v5HM_BOB_unoptimized_hamiltonian_first_derivatives_calibration import v5HM_BOB_unoptimized_omega_circ_calibration as omega_circ\\n\")\n",
    "    output.write(\"from Derivatives.v5HM_BOB_unoptimized_hamiltonian_first_derivatives_calibration import v5HM_BOB_unoptimized_dH_dpphi_calibration as omega\\n\")\n",
    "    output.write(\"from Derivatives.v5HM_BOB_unoptimized_hamiltonian_first_derivatives_calibration import v5HM_BOB_unoptimized_dH_dprstar_calibration as dHdprstar\\n\")\n",
    "    output.write(\"from Hamiltonian.v5HM_BOB_unoptimized_hamiltonian_calibration import v5HM_BOB_unoptimized_hamiltonian_calibration as H\\n\")\n",
    "    output.write(\"def v5HM_unoptimized_IC_diss_calibration(prstar, params):\\n\")\n",
    "    output.write(\"    m1, m2, r, pphi, chi1, chi2, a6, dSO = params[0], params[1], params[2], params[3], params[4], params[5], params[6], params[7]\\n\")\n",
    "    output.write(\"    M = m1 + m2\\n    eta = m1*m2/M/M\\n\")\n",
    "    output.write(\"    Hreal , xi = H(m1,m2,r,prstar,pphi,chi1,chi2,a6,dSO)\\n\")\n",
    "    output.write(\"    dHdpr = xi*dHdprstar(m1,m2,r,prstar,pphi,chi1,chi2,a6,dSO)/eta\\n\")\n",
    "    output.write(\"    Omega = omega(m1,m2,r,prstar,pphi,chi1,chi2,a6,dSO)/eta\\n\")\n",
    "    output.write(\"    Omega_circ = omega_circ(m1,m2,r,pphi,chi1,chi2,a6,dSO)/eta\\n\")\n",
    "    output.write(\"    dLdr = -d2Hdr2(m1,m2,r,prstar,pphi,chi1,chi2,a6,dSO)/d2Hdrdpphi(m1,m2,r,prstar,pphi,chi1,chi2,a6,dSO)\\n\")\n",
    "    output.write(\"    dLdt = flux(m1, m2, r, 0., prstar, pphi, chi1, chi2,Omega,Omega_circ,Hreal)/eta/Omega\\n\")\n",
    "    output.write(\"    rdot = dLdt/dLdr\\n\")\n",
    "    output.write(\"    return rdot - dHdpr\")"
   ]
  },
  {
   "cell_type": "code",
   "execution_count": null,
   "id": "de8079be",
   "metadata": {},
   "outputs": [],
   "source": []
  }
 ],
 "metadata": {
  "kernelspec": {
   "display_name": "Python 3 (ipykernel)",
   "language": "python",
   "name": "python3"
  },
  "language_info": {
   "codemirror_mode": {
    "name": "ipython",
    "version": 3
   },
   "file_extension": ".py",
   "mimetype": "text/x-python",
   "name": "python",
   "nbconvert_exporter": "python",
   "pygments_lexer": "ipython3",
   "version": "3.11.5"
  }
 },
 "nbformat": 4,
 "nbformat_minor": 5
}
