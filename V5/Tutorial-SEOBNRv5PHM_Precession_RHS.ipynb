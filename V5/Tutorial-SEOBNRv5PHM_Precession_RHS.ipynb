{
 "cells": [
  {
   "cell_type": "code",
   "execution_count": null,
   "id": "88e66651",
   "metadata": {},
   "outputs": [],
   "source": []
  },
  {
   "cell_type": "code",
   "execution_count": 1,
   "id": "01a288a3",
   "metadata": {},
   "outputs": [],
   "source": [
    "import sys#Add sys to get cmdline_helper from NRPy top directory; remove this line and next when debugged\n",
    "sys.path.append('../')\n",
    "import cmdline_helper as cmd     # NRPy+: Multi-platform Python command-line interface\n",
    "\n",
    "# Create C code output directory:\n",
    "Ccodesdir = \"Precession\"\n",
    "# Then create an output directory in case it does not exist\n",
    "cmd.mkdir(Ccodesdir)"
   ]
  },
  {
   "cell_type": "markdown",
   "id": "7bebc0ff",
   "metadata": {},
   "source": [
    "# Step : The Newtonian Angular Momentum\n",
    "\n",
    "The time derivative of the direction of the Newtonian angular momentum ${\\bf l}_{N}$ is expressed in Eq 71a of [MK2023](https://arxiv.org/pdf/2303.18143.pdf):\n",
    "\n",
    "\\begin{equation*}\n",
    "    \\dot{{\\bf l}}_{N} = \\dot{{\\bf l}}_{N}^{\\rm SO} + \\dot{{\\bf l}}_{N}^{S_{1}S_{2}} + \\dot{{\\bf l}}_{N}^{S^2}  \n",
    "\\end{equation*}\n",
    "\n",
    "Where, the spin-orbit component is defined in [this cell](#lnso), the cross spin component is defined in [this cell](#lns1s2), and the quadratic spin component is defined in [this cell](#lnssq)."
   ]
  },
  {
   "cell_type": "code",
   "execution_count": 2,
   "id": "c99a677a",
   "metadata": {},
   "outputs": [
    {
     "name": "stdout",
     "output_type": "stream",
     "text": [
      "Writing Precession/v5PHM_Precession-RHS_on_top.txt\n"
     ]
    }
   ],
   "source": [
    "%%writefile $Ccodesdir/v5PHM_Precession-RHS_on_top.txt\n",
    "lndot_1 = lndotso_1 + lndots1s2_1 + lndotssq_1\n",
    "lndot_2 = lndotso_2 + lndots1s2_2 + lndotssq_2\n",
    "lndot_3 = lndotso_3 + lndots1s2_3 + lndotssq_3"
   ]
  },
  {
   "cell_type": "markdown",
   "id": "15256e1d",
   "metadata": {},
   "source": [
    "# Step : The Spins\n",
    "\n",
    "The time derivative of the spins ${\\bf S}_{a}$ is expressed in Eq 66a of [MK2023](https://arxiv.org/pdf/2303.18143.pdf):\n",
    "\n",
    "\\begin{equation*}\n",
    "    \\dot{{\\bf S}}_{a} = {\\bf \\Omega}_{S_a} \\times {\\bf S}_a  \n",
    "\\end{equation*}\n",
    "\n",
    "Where, the spin-precession frequency ${\\bf \\Omega}_{S_a}$ is defined in [this cell](#omegaspin)."
   ]
  },
  {
   "cell_type": "code",
   "execution_count": 3,
   "id": "342ac4c6",
   "metadata": {},
   "outputs": [
    {
     "name": "stdout",
     "output_type": "stream",
     "text": [
      "Appending to Precession/v5PHM_Precession-RHS_on_top.txt\n"
     ]
    }
   ],
   "source": [
    "%%writefile -a $Ccodesdir/v5PHM_Precession-RHS_on_top.txt\n",
    "s1dot_1 = omegas1_2*s1_3 - omegas1_3*s1_2\n",
    "s1dot_2 = omegas1_3*s1_1 - omegas1_1*s1_3\n",
    "s1dot_3 = omegas1_1*s1_2 - omegas1_2*s1_1\n",
    "s2dot_1 = omegas2_2*s2_3 - omegas2_3*s2_2\n",
    "s2dot_2 = omegas2_3*s2_1 - omegas2_1*s2_3\n",
    "s2dot_3 = omegas2_1*s2_2 - omegas2_2*s2_1"
   ]
  },
  {
   "cell_type": "markdown",
   "id": "0ae7c00d",
   "metadata": {},
   "source": [
    "# Step : The Post-Newtonian Frequency\n",
    "\n",
    "The time derivative of the Post-Newtonian frequency ${\\omega}_{\\rm PN}$ is expressed by taking the definition of $v$ from below Eq 58 of [MK2023](https://arxiv.org/pdf/2303.18143.pdf) and introducing the time derivative of $v$ from Eq 69a of the same paper:\n",
    "\n",
    "\\begin{equation*}\n",
    "    \\dot{\\omega}_{\\rm PN} = \\frac{96\\eta v^{11}}{5}\\left(\\dot{v}_{S^{0}} + \\dot{v}_{\\rm SO} + \\dot{v}_{S_{1}S_{2}} + \\dot{v}_{S^2}\\right)  \n",
    "\\end{equation*}\n",
    "\n",
    "Where, the non-spinning component is defined in [this cell](#vnos) the spin-orbit component is defined in [this cell](#vso), the cross spin component is defined in [this cell](#vs1s2), and the quadratic spin component is defined in [this cell](#vssq)."
   ]
  },
  {
   "cell_type": "code",
   "execution_count": 4,
   "id": "e6255068",
   "metadata": {},
   "outputs": [
    {
     "name": "stdout",
     "output_type": "stream",
     "text": [
      "Appending to Precession/v5PHM_Precession-RHS_on_top.txt\n"
     ]
    }
   ],
   "source": [
    "%%writefile -a $Ccodesdir/v5PHM_Precession-RHS_on_top.txt\n",
    "omegadot = sp.Rational(96,5)*eta*(v**11)*(vdotnos + vdotso + vdots1s2 + vdotssq)"
   ]
  },
  {
   "cell_type": "markdown",
   "id": "e6b69043",
   "metadata": {},
   "source": [
    "# Step : The Angular Momentum Derivatives"
   ]
  },
  {
   "cell_type": "markdown",
   "id": "981a28b6",
   "metadata": {},
   "source": [
    "# Step : The spin-orbit term\n",
    "\n",
    "The spin-orbit term in the angular momentum derivative $\\dot{\\bf l}_{N}^{\\rm SO}$ is expressed in Eq 71b of [KB2023](https://arxiv.org/pdf/2303.18143.pdf):\n",
    "\n",
    "\\begin{equation*}\n",
    "\\dot{{\\bf l}}_{N}^{\\rm SO} = {\\bf l}_{N}\\times{\\bf S}_1 \\left\\{ v^6 \\left(-\\frac{\\eta }{2}-\\frac{3 X_2}{2}\\right) + v^8 \\left[\\frac{\\eta ^2}{4}-\\frac{9 \\eta }{4}+\\left(\\frac{9 \\eta }{4}+\\frac{9}{4}\\right) X_2\\right] \\\\\n",
    "+ v^{10} \\left[-\\frac{\\eta ^3}{48}+\\frac{81 \\eta ^2}{16}-\\frac{27 \\eta }{16}+\\left(-\\frac{21 \\eta ^2}{16}+\\frac{63 \\eta }{16}+\\frac{27}{16}\\right) X_2\\right]\\right\\} + 1 \\leftrightarrow 2,\n",
    "\\end{equation*}\n",
    "\n",
    "$1 \\leftrightarrow 2$ indicates switching of the indices.\n",
    "Where, $X_{1,2}$ is defined in [this cell](#x), $\\eta$ is defined in [this cell](#eta), $v$ is defined in [this cell](#v), and ${\\bf l}\\times{\\bf S}_{1,2}$ is defined in [this cell](#lcrosss)."
   ]
  },
  {
   "cell_type": "code",
   "execution_count": 5,
   "id": "8256cbd9",
   "metadata": {},
   "outputs": [
    {
     "name": "stdout",
     "output_type": "stream",
     "text": [
      "Appending to Precession/v5PHM_Precession-RHS_on_top.txt\n"
     ]
    }
   ],
   "source": [
    "%%writefile -a $Ccodesdir/v5PHM_Precession-RHS_on_top.txt\n",
    "lndotso_1 = lndotso_spin1*lncrosss1_1 + lndotso_spin2*lncrosss2_1\n",
    "lndotso_2 = lndotso_spin1*lncrosss1_2 + lndotso_spin2*lncrosss2_2\n",
    "lndotso_3 = lndotso_spin1*lncrosss1_3 + lndotso_spin2*lncrosss2_3\n",
    "lndotso_spin1 = (v**6 * (-sp.Rational(1, 2)*eta - sp.Rational(3, 2)*X2) +v**8 * (sp.Rational(1, 4)*eta**2 - sp.Rational(9, 4)*eta + (sp.Rational(9, 4)*eta + sp.Rational(9, 4))*X2) +v**10 * (-sp.Rational(1, 48)*eta**3 + sp.Rational(81, 16)*eta**2 - sp.Rational(27, 16)*eta + (-sp.Rational(21, 16)*eta**2 + sp.Rational(63, 16)*eta + sp.Rational(27, 16))*X2))\n",
    "lndotso_spin2 = (v**6 * (-sp.Rational(1, 2)*eta - sp.Rational(3, 2)*X1) +v**8 * (sp.Rational(1, 4)*eta**2 - sp.Rational(9, 4)*eta + (sp.Rational(9, 4)*eta + sp.Rational(9, 4))*X1) +v**10 * (-sp.Rational(1, 48)*eta**3 + sp.Rational(81, 16)*eta**2 - sp.Rational(27, 16)*eta + (-sp.Rational(21, 16)*eta**2 + sp.Rational(63, 16)*eta + sp.Rational(27, 16))*X1))"
   ]
  },
  {
   "cell_type": "markdown",
   "id": "7b408811",
   "metadata": {},
   "source": [
    "# Step : The cross-spin term\n",
    "\n",
    "The cross-spin term in the angular momentum derivative $\\dot{\\bf l}_{N}^{S_1S_2}$ is expressed in Eq 71c of [KB2023](https://arxiv.org/pdf/2303.18143.pdf):\n",
    "\n",
    "\\begin{equation*}\n",
    "\\dot{\\bf l}_{N}^{S_1S_2} = \\eta \\left\\{ \\\\\n",
    "\\frac{3}{2} v^7 \\left[({\\bf l}_{N}\\times{\\bf S}_1)({\\bf l}_{N}\\cdot{\\bf S}_2) + ({\\bf l}_{N}\\times{\\bf S}_2)({\\bf l}_{N}\\cdot{\\bf S}_1) \\right]\\\\\n",
    "+ v^9 \\left[ ({\\bf l}_{N}\\times{\\bf S}_1)({\\bf l}_{N}\\cdot{\\bf S}_2) \\left(-\\frac{5 \\eta }{4}-\\frac{15 X_2}{8}-\\frac{21}{4}\\right) + ({\\bf l}_{N}\\times{\\bf S}_2)({\\bf l}_{N}\\cdot{\\bf S}_1) \\left(-\\frac{5 \\eta }{4}+\\frac{15 X_2}{8}-\\frac{57}{8}\\right) \\\\\n",
    "- \\frac{5}{8} \\delta {\\bf l}_{N} ({\\bf l}_{N}\\cdot{\\bf S}_1\\times{\\bf S}_2) + \\frac{3}{8} \\delta ({\\bf S}_1\\times{\\bf S}_2) \\right] \\\\\n",
    "+ v^{11} \\left\\{ ({\\bf l}_{N}\\times{\\bf S}_1)({\\bf l}_{N}\\cdot{\\bf S}_2)\\left[-\\frac{\\eta ^2}{6}+\\frac{25 \\eta }{4}+\\left(\\frac{71 \\eta }{32}+\\frac{9}{32}\\right) X_2+\\frac{15}{16}\\right] \\\\\n",
    "+ ({\\bf l}_{N}\\times{\\bf S}_2)({\\bf l}_{N}\\cdot{\\bf S}_1) \\left[-\\frac{\\eta ^2}{6}+\\frac{271 \\eta }{32}+\\left(-\\frac{71 \\eta }{32}-\\frac{9}{32}\\right) X_2+\\frac{39}{32}\\right] \\\\\n",
    "+ \\frac{\\delta}{96} (89 \\eta -27){\\bf l}_{N} ({\\bf l}_{N}\\cdot{\\bf S}_1\\times{\\bf S}_2)  -\\frac{9}{32} \\delta (2 \\eta +1) ({\\bf S}_1\\times{\\bf S}_2) \\right\\} \\\\\n",
    "\\right\\}\n",
    "\\end{equation*}\n",
    "\n",
    "\n",
    "For simplicity of coding, we can rearrange the above equation as follows:\n",
    "\n",
    "\\begin{equation*}\n",
    "\\dot{\\bf l}_{N}^{S_1S_2} = \\eta\\left\\{ \\\\\n",
    "+ ({\\bf l}_{N}\\times{\\bf S}_{1})({\\bf l}_{N}\\cdot{\\bf S}_{2})\\underbrace{\\left[ \\frac{3}{7} v^7 + \\left(-\\frac{5 \\eta }{4}-\\frac{15 X_2}{8}-\\frac{21}{4}\\right)v^9 + \\left(-\\frac{\\eta ^2}{6}+\\frac{25 \\eta }{4}+\\left(\\frac{71 \\eta }{32}+\\frac{9}{32}\\right) X_2+\\frac{15}{16}\\right)v^{11} \\right]}_{{S_1S_2}\\textrm{coefft1}} \\\\\n",
    "+ ({\\bf l}_{N}\\times{\\bf S}_{2})({\\bf l}_{N}\\cdot{\\bf S}_{1})\\underbrace{\\left[ \\frac{3}{7} v^7 + \\left(-\\frac{5 \\eta }{4}+\\frac{15 X_2}{8}-\\frac{57}{8}\\right)v^9 + \\left(-\\frac{\\eta ^2}{6}+\\frac{271 \\eta }{32}-\\left(\\frac{71 \\eta }{32}+\\frac{9}{32}\\right) X_2+\\frac{39}{32}\\right)v^{11} \\right]}_{{S_1S_2}\\textrm{coefft2}} \\\\\n",
    "+ \\delta{\\bf l}_{N} ({\\bf l}_{N}\\cdot({\\bf S}_1\\times{\\bf S}_2))\\underbrace{\\left[ -\\frac{5}{8}v^9 + \\left( \\frac{89}{96}\\eta - \\frac{9}{32} \\right)v^{11} \\right]}_{{S_1S_2}\\textrm{coefft3}} \\\\\n",
    "+ \\delta ({\\bf S}_{1}\\times{\\bf S}_{2})\\underbrace{\\left[ \\frac{3}{8}v^9 -\\frac{9}{32}(2 \\eta +1) \\right]}_{{S_1S_2}\\textrm{coefft4}} \\\\\n",
    "\\right\\}\n",
    "\\end{equation*}\n",
    "\n",
    "Where, $X_{1,2}$ is defined in [this cell](#x), $\\eta$ is defined in [this cell](#eta), $\\delta$ is defined in [this cell](#delta), $v$ is defined in [this cell](#v), ${\\bf l}\\cdot{\\bf S}_{1,2}$ and ${\\bf l}\\cdot({\\bf S}_{1}\\times{\\bf S}_{2})$ are defined in [this cell](#ldots), ${\\bf l}\\times{\\bf S}_{1,2}$ is defined in [this cell](#lcrosss), and ${\\bf S}_{1}\\times{\\bf S}_{2}$ is defined in [this cell](#s1crosss2)."
   ]
  },
  {
   "cell_type": "code",
   "execution_count": 6,
   "id": "722da66c",
   "metadata": {},
   "outputs": [
    {
     "name": "stdout",
     "output_type": "stream",
     "text": [
      "Appending to Precession/v5PHM_Precession-RHS_on_top.txt\n"
     ]
    }
   ],
   "source": [
    "%%writefile -a $Ccodesdir/v5PHM_Precession-RHS_on_top.txt\n",
    "lndots1s2_1 = eta*( lncrosss1_1*lndots2*s1s2coefft1 + lncrosss2_1*lndots1*s1s2coefft2 + delta*ln_1*lndots1crosss2*s1s2coefft3 + s1crosss2_1*s1s2coefft4 )\n",
    "lndots1s2_2 = eta*( lncrosss1_2*lndots2*s1s2coefft1 + lncrosss2_2*lndots1*s1s2coefft2 + delta*ln_2*lndots1crosss2*s1s2coefft3 + s1crosss2_2*s1s2coefft4 )\n",
    "lndots1s2_3 = eta*( lncrosss1_3*lndots2*s1s2coefft1 + lncrosss2_3*lndots1*s1s2coefft2 + delta*ln_3*lndots1crosss2*s1s2coefft3 + s1crosss2_3*s1s2coefft4 )\n",
    "s1s2coefft1 = ( sp.Rational(3, 7) * v**7 + (-sp.Rational(5, 4)*eta - sp.Rational(15, 8)*X2 - sp.Rational(21, 4)) * v**9 + (-sp.Rational(1, 6)*eta**2 + sp.Rational(25,   4)*eta + (sp.Rational(71, 32)*eta + sp.Rational(9, 32))*X2 + sp.Rational(15, 16)) * v**11 )\n",
    "s1s2coefft2 = ( sp.Rational(3, 7) * v**7 + (-sp.Rational(5, 4)*eta + sp.Rational(15, 8)*X2 - sp.Rational(57, 8)) * v**9 + (-sp.Rational(1, 6)*eta**2 + sp.Rational(271, 32)*eta - (sp.Rational(71, 32)*eta + sp.Rational(9, 32))*X2 + sp.Rational(39, 32)) * v**11 )\n",
    "s1s2coefft3 = ( -sp.Rational(5,8) * v**9 + ( sp.Rational(89,96)*eta - sp.Rational(9,32) ) * v**11 )\n",
    "s1s2coefft4 = ( sp.Rational(3,8) * v**9 - sp.Rational(9,32)*(2*eta + 1) )"
   ]
  },
  {
   "cell_type": "markdown",
   "id": "5faddc98",
   "metadata": {},
   "source": [
    "# Step : The quadratic spin term\n",
    "\n",
    "The quadratic spin term in the angular momentum derivative $\\dot{\\bf l}_{N}^{S^2}$ is expressed in Eq 71d of [KB2023](https://arxiv.org/pdf/2303.18143.pdf):\n",
    "\n",
    "\\begin{equation*}\n",
    "\\dot{\\bf l}_{N}^{S^2} = ({\\bf l}_{N}\\times{\\bf S}_1)({\\bf l}_{N}\\cdot{\\bf S}_1) \\left\\{ v^7 \\left(\\frac{3 X_2}{2}-\\frac{3 \\eta }{2}\\right) + v^9 \\left[2 \\eta ^2+9 \\eta +(3 \\eta -9) X_2\\right] \\\\\n",
    "+ v^{11} \\left[-\\frac{23 \\eta ^3}{16}-\\frac{157 \\eta ^2}{16}-\\frac{93 \\eta }{16}+\\left(-\\frac{439 \\eta ^2}{48}+4 \\eta +\\frac{93}{16}\\right) X_2\\right] \\right\\} + 1 \\leftrightarrow 2\n",
    "\\end{equation*}\n",
    "\n",
    "$1 \\leftrightarrow 2$ indicates switching of the indices.\n",
    "Where, $X_{1,2}$ is defined in [this cell](#x), $\\eta$ is defined in [this cell](#eta), $v$ is defined in [this cell](#v), ${\\bf l}_{N}\\cdot{\\bf S}_{1,2}$ is defined in [this cell](#ldots) and ${\\bf l}\\times{\\bf S}_{1,2}$ is defined in [this cell](#lcrosss)."
   ]
  },
  {
   "cell_type": "code",
   "execution_count": 7,
   "id": "951b7554",
   "metadata": {},
   "outputs": [
    {
     "name": "stdout",
     "output_type": "stream",
     "text": [
      "Appending to Precession/v5PHM_Precession-RHS_on_top.txt\n"
     ]
    }
   ],
   "source": [
    "%%writefile -a $Ccodesdir/v5PHM_Precession-RHS_on_top.txt\n",
    "lndots2_1 = lndots2_lncross1lndots2term*lncrosss1_1*lndots2 + lndots2_lncross2lndots1term*lncrosss2_1*lndots1\n",
    "lndots2_2 = lndots2_lncross1lndots2term*lncrosss1_2*lndots2 + lndots2_lncross2lndots1term*lncrosss2_2*lndots1\n",
    "lndots2_3 = lndots2_lncross1lndots2term*lncrosss1_3*lndots2 + lndots2_lncross2lndots1term*lncrosss2_3*lndots1\n",
    "lndots2_lncrosss1lndots2term = ( v**7 * (sp.Rational(3, 2)*X2 - sp.Rational(3, 2)*eta) + v**9 * (2*eta**2 + 9*eta + (3*eta - 9)*X2) + v**11 * (-sp.Rational(23, 16)*eta**3 - sp.Rational(157, 16)*eta**2 - sp.Rational(93, 16)*eta + (-sp.Rational(439, 48)*eta**2 + 4*eta + sp.Rational(93, 16))*X2))\n",
    "lndots2_lncrosss2lndots1term = ( v**7 * (sp.Rational(3, 2)*X1 - sp.Rational(3, 2)*eta) + v**9 * (2*eta**2 + 9*eta + (3*eta - 9)*X1) + v**11 * (-sp.Rational(23, 16)*eta**3 - sp.Rational(157, 16)*eta**2 - sp.Rational(93, 16)*eta + (-sp.Rational(439, 48)*eta**2 + 4*eta + sp.Rational(93, 16))*X1))"
   ]
  },
  {
   "cell_type": "markdown",
   "id": "137f7174",
   "metadata": {},
   "source": [
    "# Step : The Spin-Precession Frequency\n",
    "\n",
    "The spin precession frequency ${\\bf \\Omega}_{S_a}$ is expressed in Eq 66b of [MK2023](https://arxiv.org/pdf/2303.18143.pdf):\n",
    "\n",
    "\\begin{equation*}\n",
    "    {\\bf \\Omega}_{S_1} = {\\bf l}_{N} \\left\\{ v^5 \\left(\\frac{3 X_2}{2}+\\frac{\\nu }{2}\\right) + v^7 \\left[\\left(\\frac{9}{8}-\\frac{5 \\nu }{4}\\right) X_2-\\frac{\\nu ^2}{24}+\\frac{15 \\nu }{8}\\right] \\\\\n",
    "    + v^9 \\left[\\left(\\frac{5 \\nu ^2}{16}-\\frac{39 \\nu }{4}+\\frac{27}{16}\\right) X_2-\\frac{\\nu ^3}{48}-\\frac{55 \\nu ^2}{16}+\\frac{81 \\nu }{16}\\right]\\right\\} \\\\\n",
    "    + \\frac{v^6}{M^2\\mu} \\left\\{ {\\bf l}_{N} \\left[{\\bf l}_{N}\\cdot{\\bf S}_1 \\left(\\frac{3 \\nu }{2}-\\frac{3 X_2}{2}\\right)-\\frac{3  \\nu }{2}{\\bf l}_{N}\\cdot{\\bf S}_2\\right]+\\frac{\\nu}{2}{\\bf S}_2 \\right\\} \\\\\n",
    "    + \\frac{v^8}{M^2\\mu} \\left\\{ {\\bf l}_{N} \\left[{\\bf l}_{N}\\cdot{\\bf S}_1 \\left(-\\frac{17 \\nu ^2}{12}-\\frac{9 \\nu }{4}+\\left(\\frac{9}{4}-\\frac{15 \\nu }{4}\\right) X_2\\right)+{\\bf l}_{N}\\cdot{\\bf S}_2 \\left(\\frac{\\nu ^2}{12}-\\frac{\\nu }{2}\\right)\\right]-\\frac{\\nu^2}{4}{\\bf S}_2 \\right\\} \\\\\n",
    "    + \\frac{v^{10}}{M^2\\mu} \\left\\{ {\\bf l}_{N} \\left[{\\bf l}_{N}\\cdot{\\bf S}_1 \\left(\\frac{121 \\nu ^3}{144}-\\frac{91 \\nu ^2}{16}-\\frac{27 \\nu }{16}+\\left(\\frac{385 \\nu ^2}{48}-\\frac{97 \\nu }{16}+\\frac{27}{16}\\right) X_2\\right) \\\\\n",
    "    +{\\bf l}_{N}\\cdot{\\bf S}_2 \\left(\\frac{103 \\nu ^3}{144}+\\frac{139 \\nu ^2}{48}-\\frac{9 \\nu }{4}\\right)\\right] \\\\\n",
    "    +\\left(\\frac{\\nu ^3}{48}+\\frac{49 \\nu ^2}{16}+\\frac{3 \\nu }{8}\\right) {\\bf S}_2\n",
    "\\right\\}\n",
    "\\end{equation*}\n",
    "\n",
    "The secondary counterpart ${\\bf \\Omega}_{S_2}$ is obtained by switching the indices $1 \\leftrightarrow 2$ on the mass components $X_{1,2}$ and the spins:\n",
    "\n",
    "\\begin{equation*}\n",
    "    {\\bf \\Omega}_{S_2} = {\\bf l}_{N} \\left\\{ v^5 \\left(\\frac{3 X_1}{2}+\\frac{\\nu }{2}\\right) + v^7 \\left[\\left(\\frac{9}{8}-\\frac{5 \\nu }{4}\\right) X_1-\\frac{\\nu ^2}{24}+\\frac{15 \\nu }{8}\\right] \\\\\n",
    "    + v^9 \\left[\\left(\\frac{5 \\nu ^2}{16}-\\frac{39 \\nu }{4}+\\frac{27}{16}\\right) X_1-\\frac{\\nu ^3}{48}-\\frac{55 \\nu ^2}{16}+\\frac{81 \\nu }{16}\\right]\\right\\} \\\\\n",
    "    + \\frac{v^6}{M^2\\mu} \\left\\{ {\\bf l}_{N} \\left[{\\bf l}_{N}\\cdot{\\bf S}_2 \\left(\\frac{3 \\nu }{2}-\\frac{3 X_1}{2}\\right)-\\frac{3  \\nu }{2}{\\bf l}_{N}\\cdot{\\bf S}_1\\right]+\\frac{\\nu}{2}{\\bf S}_1 \\right\\} \\\\\n",
    "    + \\frac{v^8}{M^2\\mu} \\left\\{ {\\bf l}_{N} \\left[{\\bf l}_{N}\\cdot{\\bf S}_2 \\left(-\\frac{17 \\nu ^2}{12}-\\frac{9 \\nu }{4}+\\left(\\frac{9}{4}-\\frac{15 \\nu }{4}\\right) X_1\\right)+{\\bf l}_{N}\\cdot{\\bf S}_1 \\left(\\frac{\\nu ^2}{12}-\\frac{\\nu }{2}\\right)\\right]-\\frac{\\nu^2}{4}{\\bf S}_1 \\right\\} \\\\\n",
    "    + \\frac{v^{10}}{M^2\\mu} \\left\\{ {\\bf l}_{N} \\left[{\\bf l}_{N}\\cdot{\\bf S}_2 \\left(\\frac{121 \\nu ^3}{144}-\\frac{91 \\nu ^2}{16}-\\frac{27 \\nu }{16}+\\left(\\frac{385 \\nu ^2}{48}-\\frac{97 \\nu }{16}+\\frac{27}{16}\\right) X_1\\right) \\\\\n",
    "    +{\\bf l}_{N}\\cdot{\\bf S}_1 \\left(\\frac{103 \\nu ^3}{144}+\\frac{139 \\nu ^2}{48}-\\frac{9 \\nu }{4}\\right)\\right] \\\\\n",
    "    +\\left(\\frac{\\nu ^3}{48}+\\frac{49 \\nu ^2}{16}+\\frac{3 \\nu }{8}\\right) {\\bf S}_1\n",
    "\\right\\}\n",
    "\\end{equation*}\n",
    "\n",
    "\n",
    "We split the contribution of the odd-$v$ component, defined in [this cell](#omegaspinoddv). the even-$v$ components are also split, with the $v^6$ component defined in [this cell](#omegaspinv6), the $v^8$ component defined in [this cell](#omegaspinv8), and the $v^10$ component defined in [this cell](#omegaspinv10)."
   ]
  },
  {
   "cell_type": "code",
   "execution_count": 8,
   "id": "9a2a6506",
   "metadata": {},
   "outputs": [
    {
     "name": "stdout",
     "output_type": "stream",
     "text": [
      "Appending to Precession/v5PHM_Precession-RHS_on_top.txt\n"
     ]
    }
   ],
   "source": [
    "%%writefile -a $Ccodesdir/v5PHM_Precession-RHS_on_top.txt\n",
    "omegas1_1 = ln_1*omegas1oddv + (v**6)*omegas1v6_1 + (v**8)*omegas1v8_1 + (v**10)*omegas1v10_1\n",
    "omegas1_2 = ln_2*omegas1oddv + (v**6)*omegas1v6_2 + (v**8)*omegas1v8_2 + (v**10)*omegas1v10_2\n",
    "omegas1_3 = ln_3*omegas1oddv + (v**6)*omegas1v6_3 + (v**8)*omegas1v8_3 + (v**10)*omegas1v10_3\n",
    "omegas2_1 = ln_1*omegas2oddv + (v**6)*omegas2v6_1 + (v**8)*omegas2v8_1 + (v**10)*omegas2v10_1\n",
    "omegas2_2 = ln_2*omegas2oddv + (v**6)*omegas2v6_2 + (v**8)*omegas2v8_2 + (v**10)*omegas2v10_2\n",
    "omegas2_3 = ln_3*omegas2oddv + (v**6)*omegas2v6_3 + (v**8)*omegas2v8_3 + (v**10)*omegas2v10_3"
   ]
  },
  {
   "cell_type": "markdown",
   "id": "8dd069c9",
   "metadata": {},
   "source": [
    "# Step: The Spin-Precession Terms"
   ]
  },
  {
   "cell_type": "markdown",
   "id": "566789ac",
   "metadata": {},
   "source": [
    "# Step : The odd-$v$ term\n",
    "\n",
    "The odd-$v$ term in the spin precession frequency ${\\bf \\Omega}_{S_a}$ is expressed here, from Eq 66b of [MK2023](https://arxiv.org/pdf/2303.18143.pdf):\n",
    "\n",
    "\\begin{equation*}\n",
    "    {\\bf \\Omega}_{S_1}^{ \\textrm{odd-}v} =  v^5 \\left(\\frac{3 X_2}{2}+\\frac{\\nu }{2}\\right) + v^7 \\left[\\left(\\frac{9}{8}-\\frac{5 \\nu }{4}\\right) X_2-\\frac{\\nu ^2}{24}+\\frac{15 \\nu }{8}\\right] + v^9 \\left[\\left(\\frac{5 \\nu ^2}{16}-\\frac{39 \\nu }{4}+\\frac{27}{16}\\right) X_2-\\frac{\\nu ^3}{48}-\\frac{55 \\nu ^2}{16}+\\frac{81 \\nu }{16}\\right]\n",
    "\\end{equation*}\n",
    "\n",
    "The secondary counterpart ${\\bf \\Omega}_{S_2}$ is obtained by switching the indices $1 \\leftrightarrow 2$:\n",
    "\n",
    "\\begin{equation*}\n",
    "    {\\bf \\Omega}_{S_2}^{\\textrm{odd-}v} = v^5 \\left(\\frac{3 X_1}{2}+\\frac{\\nu }{2}\\right) + v^7 \\left[\\left(\\frac{9}{8}-\\frac{5 \\nu }{4}\\right) X_1-\\frac{\\nu ^2}{24}+\\frac{15 \\nu }{8}\\right] \\\\\n",
    "    + v^9 \\left[\\left(\\frac{5 \\nu ^2}{16}-\\frac{39 \\nu }{4}+\\frac{27}{16}\\right) X_1-\\frac{\\nu ^3}{48}-\\frac{55 \\nu ^2}{16}+\\frac{81 \\nu }{16}\\right]\n",
    "\\end{equation*}\n",
    "\n",
    "Where, $X_{1,2}$ is defined in [this cell](#x), $\\eta$ is defined in [this cell](#eta), $v$ is defined in [this cell](#v)."
   ]
  },
  {
   "cell_type": "code",
   "execution_count": 9,
   "id": "8e4c3496",
   "metadata": {},
   "outputs": [
    {
     "name": "stdout",
     "output_type": "stream",
     "text": [
      "Appending to Precession/v5PHM_Precession-RHS_on_top.txt\n"
     ]
    }
   ],
   "source": [
    "%%writefile -a $Ccodesdir/v5PHM_Precession-RHS_on_top.txt\n",
    "omegas1oddv = v**5 * (sp.Rational(3, 2)*X2 + sp.Rational(1, 2)*nu) + v**7 * ((sp.Rational(9, 8) - sp.Rational(5, 4)*nu)*X2 - sp.Rational(1, 24)*nu**2 + sp.Rational(15, 8)*nu) +v**9 * ((sp.Rational(5, 16)*nu**2 - sp.Rational(39, 4)*nu + sp.Rational(27, 16))*X2 - sp.Rational(1, 48)*nu**3 - sp.Rational(55, 16)*nu**2 + sp.Rational(81, 16)*nu)\n",
    "omegas2oddv = v**5 * (sp.Rational(3, 2)*X1 + sp.Rational(1, 2)*nu) + v**7 * ((sp.Rational(9, 8) - sp.Rational(5, 4)*nu)*X1 - sp.Rational(1, 24)*nu**2 + sp.Rational(15, 8)*nu) +v**9 * ((sp.Rational(5, 16)*nu**2 - sp.Rational(39, 4)*nu + sp.Rational(27, 16))*X1 - sp.Rational(1, 48)*nu**3 - sp.Rational(55, 16)*nu**2 + sp.Rational(81, 16)*nu)"
   ]
  },
  {
   "cell_type": "markdown",
   "id": "281dea6a",
   "metadata": {},
   "source": [
    "# Step : The $v^6$ contribution\n",
    "\n",
    "The $v^6$ contribution to the spin precession frequency ${\\bf \\Omega}_{S_a}$ is expressed here, from Eq 66b of [MK2023](https://arxiv.org/pdf/2303.18143.pdf):\n",
    "\n",
    "\\begin{equation*}\n",
    "    {\\bf \\Omega}_{S_1}^{v^6} = {\\bf l}_{N} \\left[{\\bf l}_{N}\\cdot{\\bf S}_1 \\left(\\frac{3 \\nu }{2}-\\frac{3 X_2}{2}\\right)-\\frac{3  \\nu }{2}{\\bf l}_{N}\\cdot{\\bf S}_2\\right]+\\frac{\\nu}{2}{\\bf S}_2\n",
    "\\end{equation*}\n",
    "\n",
    "The secondary counterpart ${\\bf \\Omega}_{S_2}$ is obtained by switching the indices $1 \\leftrightarrow 2$:\n",
    "\n",
    "\\begin{equation*}\n",
    "    {\\bf \\Omega}_{S_2}^{v^6} = {\\bf l}_{N} \\left[{\\bf l}_{N}\\cdot{\\bf S}_2 \\left(\\frac{3 \\nu }{2}-\\frac{3 X_1}{2}\\right)-\\frac{3  \\nu }{2}{\\bf l}_{N}\\cdot{\\bf S}_1\\right]+\\frac{\\nu}{2}{\\bf S}_1\n",
    "\\end{equation*}\n",
    "\n",
    "\n",
    "Where, ${\\bf S}_{1,2}$ is defined in [this cell](#s), $X_{1,2}$ is defined in [this cell](#x), ${\\bf l}_{N}\\cdot{\\bf S}_{1,2}$ is defined in [this cell](lndots), and $\\eta$ is defined in [this cell](#eta)."
   ]
  },
  {
   "cell_type": "code",
   "execution_count": 10,
   "id": "0bd037fb",
   "metadata": {},
   "outputs": [
    {
     "name": "stdout",
     "output_type": "stream",
     "text": [
      "Appending to Precession/v5PHM_Precession-RHS_on_top.txt\n"
     ]
    }
   ],
   "source": [
    "%%writefile -a $Ccodesdir/v5PHM_Precession-RHS_on_top.txt\n",
    "omegas1v6_1 = ln_1 * (lndots1 * (sp.Rational(3, 2) * eta - sp.Rational(3, 2) * X2) - sp.Rational(3, 2) * eta * lndots2) + sp.Rational(1, 2) * eta * s2_1\n",
    "omegas1v6_2 = ln_2 * (lndots1 * (sp.Rational(3, 2) * eta - sp.Rational(3, 2) * X2) - sp.Rational(3, 2) * eta * lndots2) + sp.Rational(1, 2) * eta * s2_2\n",
    "omegas1v6_3 = ln_3 * (lndots1 * (sp.Rational(3, 2) * eta - sp.Rational(3, 2) * X2) - sp.Rational(3, 2) * eta * lndots2) + sp.Rational(1, 2) * eta * s2_3\n",
    "omegas1v6_1 = ln_1 * (lndots2 * (sp.Rational(3, 2) * eta - sp.Rational(3, 2) * X1) - sp.Rational(3, 2) * eta * lndots1) + sp.Rational(1, 2) * eta * s1_1\n",
    "omegas1v6_2 = ln_2 * (lndots2 * (sp.Rational(3, 2) * eta - sp.Rational(3, 2) * X1) - sp.Rational(3, 2) * eta * lndots1) + sp.Rational(1, 2) * eta * s1_2\n",
    "omegas1v6_3 = ln_3 * (lndots2 * (sp.Rational(3, 2) * eta - sp.Rational(3, 2) * X1) - sp.Rational(3, 2) * eta * lndots1) + sp.Rational(1, 2) * eta * s1_3"
   ]
  },
  {
   "cell_type": "markdown",
   "id": "209c0f2b",
   "metadata": {},
   "source": [
    "# Step : The $v^8$ contribution\n",
    "\n",
    "The $v^8$ contribution to the spin precession frequency ${\\bf \\Omega}_{S_a}$ is expressed here, from Eq 66b of [MK2023](https://arxiv.org/pdf/2303.18143.pdf):\n",
    "\n",
    "\\begin{equation*}\n",
    "    {\\bf \\Omega}_{S_1}^{v^8} = {\\bf l}_{N} \\left[{\\bf l}_{N}\\cdot{\\bf S}_1 \\left(-\\frac{17 \\nu ^2}{12}-\\frac{9 \\nu }{4}+\\left(\\frac{9}{4}-\\frac{15 \\nu }{4}\\right) X_2\\right)+{\\bf l}_{N}\\cdot{\\bf S}_2 \\left(\\frac{\\nu ^2}{12}-\\frac{\\nu }{2}\\right)\\right]-\\frac{\\nu^2}{4}{\\bf S}_2\n",
    "\\end{equation*}\n",
    "\n",
    "The secondary counterpart ${\\bf \\Omega}_{S_2}$ is obtained by switching the indices $1 \\leftrightarrow 2$:\n",
    "\n",
    "\\begin{equation*}\n",
    "    {\\bf \\Omega}_{S_2}^{v^8} = {\\bf l}_{N} \\left[{\\bf l}_{N}\\cdot{\\bf S}_2 \\left(-\\frac{17 \\nu ^2}{12}-\\frac{9 \\nu }{4}+\\left(\\frac{9}{4}-\\frac{15 \\nu }{4}\\right) X_1\\right)+{\\bf l}_{N}\\cdot{\\bf S}_1 \\left(\\frac{\\nu ^2}{12}-\\frac{\\nu }{2}\\right)\\right]-\\frac{\\nu^2}{4}{\\bf S}_1\n",
    "\\end{equation*}\n",
    "\n",
    "Where, ${\\bf S}_{1,2}$ is defined in [this cell](#s), $X_{1,2}$ is defined in [this cell](#x), ${\\bf l}_{N}\\cdot{\\bf S}_{1,2}$ is defined in [this cell](lndots), and $\\eta$ is defined in [this cell](#eta)."
   ]
  },
  {
   "cell_type": "code",
   "execution_count": 11,
   "id": "628a83e5",
   "metadata": {},
   "outputs": [
    {
     "name": "stdout",
     "output_type": "stream",
     "text": [
      "Appending to Precession/v5PHM_Precession-RHS_on_top.txt\n"
     ]
    }
   ],
   "source": [
    "%%writefile -a $Ccodesdir/v5PHM_Precession-RHS_on_top.txt\n",
    "omegas1v8_1 = ln_1 * (lndots1 * (-sp.Rational(17, 12)*eta**2 - sp.Rational(9, 4)*eta +(sp.Rational(9, 4) - sp.Rational(15, 4)*eta)*X2) + lndots2 * (sp.Rational(1, 12)*eta**2 - sp.Rational(1, 2)*eta)) - sp.Rational(1, 4)*eta**2*s2_1\n",
    "omegas1v8_2 = ln_2 * (lndots1 * (-sp.Rational(17, 12)*eta**2 - sp.Rational(9, 4)*eta +(sp.Rational(9, 4) - sp.Rational(15, 4)*eta)*X2) + lndots2 * (sp.Rational(1, 12)*eta**2 - sp.Rational(1, 2)*eta)) - sp.Rational(1, 4)*eta**2*s2_2\n",
    "omegas1v8_3 = ln_3 * (lndots1 * (-sp.Rational(17, 12)*eta**2 - sp.Rational(9, 4)*eta +(sp.Rational(9, 4) - sp.Rational(15, 4)*eta)*X2) + lndots2 * (sp.Rational(1, 12)*eta**2 - sp.Rational(1, 2)*eta)) - sp.Rational(1, 4)*eta**2*s2_3\n",
    "omegas2v8_1 = ln_1 * (lndots2 * (-sp.Rational(17, 12)*eta**2 - sp.Rational(9, 4)*eta +(sp.Rational(9, 4) - sp.Rational(15, 4)*eta)*X1) + lndots1 * (sp.Rational(1, 12)*eta**2 - sp.Rational(1, 2)*eta)) - sp.Rational(1, 4)*eta**2*s1_1\n",
    "omegas2v8_2 = ln_2 * (lndots2 * (-sp.Rational(17, 12)*eta**2 - sp.Rational(9, 4)*eta +(sp.Rational(9, 4) - sp.Rational(15, 4)*eta)*X1) + lndots1 * (sp.Rational(1, 12)*eta**2 - sp.Rational(1, 2)*eta)) - sp.Rational(1, 4)*eta**2*s1_2\n",
    "omegas2v8_3 = ln_3 * (lndots2 * (-sp.Rational(17, 12)*eta**2 - sp.Rational(9, 4)*eta +(sp.Rational(9, 4) - sp.Rational(15, 4)*eta)*X1) + lndots1 * (sp.Rational(1, 12)*eta**2 - sp.Rational(1, 2)*eta)) - sp.Rational(1, 4)*eta**2*s1_3"
   ]
  },
  {
   "cell_type": "markdown",
   "id": "224ac339",
   "metadata": {},
   "source": [
    "# Step : The $v^{10}$ component\n",
    "\n",
    "The $v^{10}$ component of the spin precession frequency ${\\bf \\Omega}_{S_a}$ is expressed here, from Eq 66b of [MK2023](https://arxiv.org/pdf/2303.18143.pdf):\n",
    "\n",
    "\\begin{equation*}\n",
    "    {\\bf \\Omega}_{S_1}^{v^{10}} = {\\bf l}_{N} \\left[{\\bf l}_{N}\\cdot{\\bf S}_1 \\left(\\frac{121 \\nu ^3}{144}-\\frac{91 \\nu ^2}{16}-\\frac{27 \\nu }{16}+\\left(\\frac{385 \\nu ^2}{48}-\\frac{97 \\nu }{16}+\\frac{27}{16}\\right) X_2\\right) \\\\\n",
    "    +{\\bf l}_{N}\\cdot{\\bf S}_2 \\left(\\frac{103 \\nu ^3}{144}+\\frac{139 \\nu ^2}{48}-\\frac{9 \\nu }{4}\\right)\\right] \\\\\n",
    "    +\\left(\\frac{\\nu ^3}{48}+\\frac{49 \\nu ^2}{16}+\\frac{3 \\nu }{8}\\right) {\\bf S}_2\n",
    "\\end{equation*}\n",
    "\n",
    "The secondary counterpart ${\\bf \\Omega}_{S_2}$ is obtained by switching the indices $1 \\leftrightarrow 2$:\n",
    "\n",
    "\\begin{equation*}\n",
    "    {\\bf \\Omega}_{S_2} = {\\bf l}_{N} \\left[{\\bf l}_{N}\\cdot{\\bf S}_2 \\left(\\frac{121 \\nu ^3}{144}-\\frac{91 \\nu ^2}{16}-\\frac{27 \\nu }{16}+\\left(\\frac{385 \\nu ^2}{48}-\\frac{97 \\nu }{16}+\\frac{27}{16}\\right) X_1\\right) \\\\\n",
    "    +{\\bf l}_{N}\\cdot{\\bf S}_1 \\left(\\frac{103 \\nu ^3}{144}+\\frac{139 \\nu ^2}{48}-\\frac{9 \\nu }{4}\\right)\\right] \\\\\n",
    "    +\\left(\\frac{\\nu ^3}{48}+\\frac{49 \\nu ^2}{16}+\\frac{3 \\nu }{8}\\right) {\\bf S}_1\n",
    "\\end{equation*}\n",
    "\n",
    "\n",
    "We split the contribution of the odd-$v$ component, defined in [this cell](#omegaspinoddv). the even-$v$ components are also split, with the $v^6$ component defined in [this cell](#omegaspinv6), the $v^8$ component defined in [this cell](#omegaspinv8), and the $v^10$ component defined in [this cell](#omegaspinv10)."
   ]
  },
  {
   "cell_type": "code",
   "execution_count": 12,
   "id": "12a02332",
   "metadata": {},
   "outputs": [
    {
     "name": "stdout",
     "output_type": "stream",
     "text": [
      "Appending to Precession/v5PHM_Precession-RHS_on_top.txt\n"
     ]
    }
   ],
   "source": [
    "%%writefile -a $Ccodesdir/v5PHM_Precession-RHS_on_top.txt\n",
    "omegas1v10_1 = ln_1*( (lndots1) * ( sp.Rational(121, 144)*eta**3 - sp.Rational(91, 16)*eta**2 - sp.Rational(27, 16)*eta +(sp.Rational(385, 48)*eta**2 - sp.Rational(97, 16)*eta + sp.Rational(27, 16))*X2) +(lndots2) * (sp.Rational(103, 144)*eta**3 + sp.Rational(139, 48)*eta**2 - sp.Rational(9, 4)*eta)) +(sp.Rational(1, 48)*eta**3 + sp.Rational(49, 16)*eta**2 + sp.Rational(3, 8)*eta)*s2_1\n",
    "omegas1v10_1 = ln_2*( (lndots1) * ( sp.Rational(121, 144)*eta**3 - sp.Rational(91, 16)*eta**2 - sp.Rational(27, 16)*eta +(sp.Rational(385, 48)*eta**2 - sp.Rational(97, 16)*eta + sp.Rational(27, 16))*X2) +(lndots2) * (sp.Rational(103, 144)*eta**3 + sp.Rational(139, 48)*eta**2 - sp.Rational(9, 4)*eta)) +(sp.Rational(1, 48)*eta**3 + sp.Rational(49, 16)*eta**2 + sp.Rational(3, 8)*eta)*s2_2\n",
    "omegas1v10_1 = ln_3*( (lndots1) * ( sp.Rational(121, 144)*eta**3 - sp.Rational(91, 16)*eta**2 - sp.Rational(27, 16)*eta +(sp.Rational(385, 48)*eta**2 - sp.Rational(97, 16)*eta + sp.Rational(27, 16))*X2) +(lndots2) * (sp.Rational(103, 144)*eta**3 + sp.Rational(139, 48)*eta**2 - sp.Rational(9, 4)*eta)) +(sp.Rational(1, 48)*eta**3 + sp.Rational(49, 16)*eta**2 + sp.Rational(3, 8)*eta)*s2_3\n",
    "omegas2v10_1 = ln_1*( (lndots2) * ( sp.Rational(121, 144)*eta**3 - sp.Rational(91, 16)*eta**2 - sp.Rational(27, 16)*eta +(sp.Rational(385, 48)*eta**2 - sp.Rational(97, 16)*eta + sp.Rational(27, 16))*X1) +(lndots1) * (sp.Rational(103, 144)*eta**3 + sp.Rational(139, 48)*eta**2 - sp.Rational(9, 4)*eta)) +(sp.Rational(1, 48)*eta**3 + sp.Rational(49, 16)*eta**2 + sp.Rational(3, 8)*eta)*s1_1\n",
    "omegas2v10_1 = ln_2*( (lndots2) * ( sp.Rational(121, 144)*eta**3 - sp.Rational(91, 16)*eta**2 - sp.Rational(27, 16)*eta +(sp.Rational(385, 48)*eta**2 - sp.Rational(97, 16)*eta + sp.Rational(27, 16))*X1) +(lndots1) * (sp.Rational(103, 144)*eta**3 + sp.Rational(139, 48)*eta**2 - sp.Rational(9, 4)*eta)) +(sp.Rational(1, 48)*eta**3 + sp.Rational(49, 16)*eta**2 + sp.Rational(3, 8)*eta)*s1_2\n",
    "omegas2v10_1 = ln_3*( (lndots2) * ( sp.Rational(121, 144)*eta**3 - sp.Rational(91, 16)*eta**2 - sp.Rational(27, 16)*eta +(sp.Rational(385, 48)*eta**2 - sp.Rational(97, 16)*eta + sp.Rational(27, 16))*X1) +(lndots1) * (sp.Rational(103, 144)*eta**3 + sp.Rational(139, 48)*eta**2 - sp.Rational(9, 4)*eta)) +(sp.Rational(1, 48)*eta**3 + sp.Rational(49, 16)*eta**2 + sp.Rational(3, 8)*eta)*s1_3"
   ]
  },
  {
   "cell_type": "markdown",
   "id": "dfe4a784",
   "metadata": {},
   "source": [
    "# Step : The PN Frequency Derivatives"
   ]
  },
  {
   "cell_type": "markdown",
   "id": "e53c2893",
   "metadata": {},
   "source": [
    "# Step : The non-spinning term\n",
    "\n",
    "The non-spinning term in the PN frequency derivative $\\dot{v}^{\\rm SO}$ is expressed in Eq 69b of [KB2023](https://arxiv.org/pdf/2303.18143.pdf):\n",
    "\n",
    "\\begin{equation*}\n",
    "\\dot{v}_{S^0} = 1 + \\left(-\\frac{11 \\eta }{4}-\\frac{743}{336}\\right) v^2\n",
    "+4 \\pi  v^3 + \\left(\\frac{59 \\eta ^2}{18}+\\frac{13661 \\eta }{2016}+\\frac{34103}{18144}\\right) v^4 + \\pi  \\left(-\\frac{189 \\eta }{8}-\\frac{4159}{672}\\right) v^5\\\\\n",
    "+ v^6 \\left[\\frac{541 \\eta ^2}{896}-\\frac{5605 \\eta ^3}{2592}-\\frac{56198689 \\eta }{217728}+\\pi ^2 \\left(\\frac{451 \\eta }{48}+\\frac{16}{3}\\right)-\\frac{1712 \\ln v}{105}-\\frac{1712 \\gamma_E }{105}+\\frac{16447322263}{139708800}-\\frac{3424 \\ln 2}{105}\\right] \\\\\n",
    "+ \\pi  \\left(\\frac{91495 \\eta ^2}{1512}+\\frac{358675 \\eta }{6048}-\\frac{4415}{4032}\\right) v^7\n",
    "\\end{equation*}\n",
    "\n",
    "Where, $X_{1,2}$ is defined in [this cell](#x), $\\eta$ is defined in [this cell](#eta), and $v$ is defined in [this cell](#v)."
   ]
  },
  {
   "cell_type": "code",
   "execution_count": 13,
   "id": "37df0ab3",
   "metadata": {},
   "outputs": [
    {
     "name": "stdout",
     "output_type": "stream",
     "text": [
      "Appending to Precession/v5PHM_Precession-RHS_on_top.txt\n"
     ]
    }
   ],
   "source": [
    "%%writefile -a $Ccodesdir/v5PHM_Precession-RHS_on_top.txt\n",
    "vdots0 = 1 + (-sp.Rational(11, 4)*eta - sp.Rational(743, 336))*v**2 + 4*sp.pi*v**3 + (sp.Rational(59, 18)*eta**2 + sp.Rational(13661, 2016)*eta + sp.Rational(34103, 18144))*v**4 + sp.pi*(-sp.Rational(189, 8)*eta - sp.Rational(4159, 672))*v**5 + v**6 * ( sp.Rational(541, 896)*eta**2 - sp.Rational(5605, 2592)*eta**3 - sp.Rational(56198689, 217728)*eta + sp.pi**2 * (sp.Rational(451, 48)*eta + sp.Rational(16, 3)) - sp.Rational(1712, 105)*sp.ln(v) - sp.Rational(1712, 105)*sp.EulerGamma + sp.Rational(16447322263, 139708800) - sp.Rational(3424, 105)*sp.ln(2)) + sp.pi * (sp.Rational(91495, 1512)*eta**2 + sp.Rational(358675, 6048)*eta - sp.Rational(4415, 4032))*v**7"
   ]
  },
  {
   "cell_type": "markdown",
   "id": "93e9a2c6",
   "metadata": {},
   "source": [
    "# Step : The spin-orbit term\n",
    "\n",
    "The spin-orbit term in the PN frequency derivative $\\dot{v}^{\\rm SO}$ is expressed in Eq 69c of [KB2023](https://arxiv.org/pdf/2303.18143.pdf):\n",
    "\n",
    "\\begin{equation*}\n",
    "\\dot{v}_{\\rm SO} = \\frac{{\\bf l}_{N}\\cdot{\\bf S}_1}{M\\mu} \\left\\{\n",
    "v^3 \\left(-\\frac{19 \\eta }{6}-\\frac{25 X_2}{4}\\right) + v^5 \\left[\\frac{79 \\eta ^2}{6}-\\frac{21611 \\eta }{1008}+\\left(\\frac{281 \\eta }{8}-\\frac{809}{84}\\right) X_2\\right] + \\pi  v^6 \\left(-\\frac{37 \\eta }{3}-\\frac{151 X_2}{6}\\right) \\\\\n",
    "+v^7 \\left[-\\frac{10819 \\eta ^3}{432}+\\frac{40289 \\eta ^2}{288}-\\frac{1932041 \\eta }{18144}+\\left(-\\frac{2903 \\eta ^2}{32}+\\frac{257023 \\eta }{1008}-\\frac{1195759}{18144}\\right) X_2\\right] \\\\ \n",
    "+ \\pi  v^8 \\left[\\frac{34303 \\eta ^2}{336}-\\frac{46957 \\eta }{504}+\\left(\\frac{50483 \\eta }{224}-\\frac{1665}{28}\\right) X_2\\right] \\right\\} + 1\\leftrightarrow 2, \\\\\n",
    "\\end{equation*}\n",
    "\n",
    "$1 \\leftrightarrow 2$ indicates switching of the indices.\n",
    "Where, $X_{1,2}$ is defined in [this cell](#x), $\\eta$ is defined in [this cell](#eta), $v$ is defined in [this cell](#v), and ${\\bf l}\\cdot{\\bf S}_{1,2}$ is defined in [this cell](#ldots)."
   ]
  },
  {
   "cell_type": "code",
   "execution_count": 14,
   "id": "b6a339a3",
   "metadata": {},
   "outputs": [
    {
     "name": "stdout",
     "output_type": "stream",
     "text": [
      "Appending to Precession/v5PHM_Precession-RHS_on_top.txt\n"
     ]
    }
   ],
   "source": [
    "%%writefile -a $Ccodesdir/v5PHM_Precession-RHS_on_top.txt\n",
    "vdotso = lndots1*vdotso_spin1 + lndots2*vdotso_spin2\n",
    "vdotso_spin1 = (-sp.Rational(19,6)*eta - sp.Rational(25,4)X2) * v**3 + (sp.Rational(79, 6)*eta**2 - sp.Rational(21611, 1008)*eta + (sp.Rational(281, 8)*eta - sp.Rational(809, 84))*X2) * v**5 + (-sp.Rational(37,3)*eta - sp.Rational(151,6)X2) * sp.pi * v**6 + (-sp.Rational(10819, 432)*eta**3 + sp.Rational(40289, 288)*eta**2 - sp.Rational(1932041, 18144)*eta + (-sp.Rational(2903, 32)*eta**2 + sp.Rational(257023, 1008)*eta - sp.Rational(1195759, 18144))*X2) * v**7 + ( sp.Rational(34303, 336)*eta**2 - sp.Rational(46957, 504)*eta + (sp.Rational(50483, 224)*eta - sp.Rational(1665, 28))*X2 ) * sp.pi * v**8\n",
    "vdotso_spin2 = (-sp.Rational(19,6)*eta - sp.Rational(25,4)X1) * v**3 + (sp.Rational(79, 6)*eta**2 - sp.Rational(21611, 1008)*eta + (sp.Rational(281, 8)*eta - sp.Rational(809, 84))*X1) * v**5 + (-sp.Rational(37,3)*eta - sp.Rational(151,6)X1) * sp.pi * v**6 + (-sp.Rational(10819, 432)*eta**3 + sp.Rational(40289, 288)*eta**2 - sp.Rational(1932041, 18144)*eta + (-sp.Rational(2903, 32)*eta**2 + sp.Rational(257023, 1008)*eta - sp.Rational(1195759, 18144))*X1) * v**7 + ( sp.Rational(34303, 336)*eta**2 - sp.Rational(46957, 504)*eta + (sp.Rational(50483, 224)*eta - sp.Rational(1665, 28))*X1 ) * sp.pi * v**8"
   ]
  },
  {
   "cell_type": "markdown",
   "id": "1bbdf696",
   "metadata": {},
   "source": [
    "# Step : The cross-spin term\n",
    "\n",
    "The cross-spin term in the PN frequency derivative $\\dot{v}^{S_1S_2}$ is expressed in Eq 69d of [KB2023](https://arxiv.org/pdf/2303.18143.pdf):\n",
    "\n",
    "\\begin{equation*}\n",
    "\\dot{v}_{S_1S_2} = \\frac{\\eta}{(M\\mu)^2} \\left\\{\n",
    "v^4 \\left[\\frac{721 ({\\bf l}_{N}\\cdot{\\bf S}_1)({\\bf l}_{N}\\cdot{\\bf S}_2)}{48}-\\frac{247 ({\\bf S}_1\\cdot{\\bf S}_2)}{48}\\right]\\\\\n",
    "+ v^6 \\left[({\\bf l}_{N}\\cdot{\\bf S}_1)({\\bf l}_{N}\\cdot{\\bf S}_2) \\left(\\frac{14433}{224}-\\frac{11779 \\eta }{288}\\right)+\\left(\\frac{6373 \\eta }{288}+\\frac{16255}{672}\\right) ({\\bf S}_1\\cdot{\\bf S}_2)\\right] \\\\\n",
    "+ \\pi  v^7 \\left[\\frac{207 ({\\bf l}_{N}\\cdot{\\bf S}_1)({\\bf l}_{N}\\cdot{\\bf S}_2)}{4}-12 ({\\bf S}_1\\cdot{\\bf S}_2)\\right]\n",
    "+ v^8 \\left[\n",
    "\\left(-\\frac{162541 \\eta ^2}{3456}-\\frac{195697 \\eta }{896}-\\frac{9355721}{72576}\\right) ({\\bf S}_1\\cdot{\\bf S}_2) \\\\\n",
    "+ ({\\bf l}_{N}\\cdot{\\bf S}_1)({\\bf l}_{N}\\cdot{\\bf S}_2) \\left(\\frac{33163 \\eta ^2}{3456}-\\frac{10150387 \\eta }{24192}+\\frac{21001565}{24192}\\right)\n",
    "\\right]\\right\\}, \\\\\n",
    "\\end{equation*}\n",
    "\n",
    "Where, $X_{1,2}$ is defined in [this cell](#x), $\\eta$ is defined in [this cell](#eta), $\\delta$ is defined in [this cell](#delta), $v$ is defined in [this cell](#v), ${\\bf l}\\cdot{\\bf S}_{1,2}$ is defined in [this cell](#ldots), and ${\\bf S}_{1}\\cdot{\\bf S}_{2}$ is defined in [this cell](#s1dots2)."
   ]
  },
  {
   "cell_type": "code",
   "execution_count": 15,
   "id": "53ecb33f",
   "metadata": {},
   "outputs": [
    {
     "name": "stdout",
     "output_type": "stream",
     "text": [
      "Appending to Precession/v5PHM_Precession-RHS_on_top.txt\n"
     ]
    }
   ],
   "source": [
    "%%writefile -a $Ccodesdir/v5PHM_Precession-RHS_on_top.txt\n",
    "vdots1s2 = eta*( ( sp.Rational(721,48)*lndots1*lndots2 - sp.Rational(247,48)*s1dots2) * v**4 + ( (sp.Rational(14433,224) - sp.Rational(1179,288)*eta)*lndots1*lndots2 + (sp.Rational(6373,288)*eta + sp.Rational(16255,672))*s1dots2 ) * v**6 + ( sp.Rational(207,4)*lndots1*lndots2 - 12*s1dots2 ) * sp.pi * v**7 + ( (-sp.Rational(162541,3456)*eta**2 - sp.Rational(195697,896)*eta - sp.Rational(9355721,72576))*s1dots2 + (sp.Rational(33163,3456)*eta**2 - sp.Rational(10150387,24192)*eta + sp.Rational(21001565,24192))*lndots1*lndots2 ) * v**8 )"
   ]
  },
  {
   "cell_type": "markdown",
   "id": "0daa58e0",
   "metadata": {},
   "source": [
    "# Step : The quadratic spin term\n",
    "\n",
    "The quadratic spin term in the PN frequency derivative $\\dot{v}^{S^2}$ is expressed in Eq 69e of [KB2023](https://arxiv.org/pdf/2303.18143.pdf):\n",
    "\n",
    "\\begin{equation*}\n",
    "\\dot{v}_{S^2} = \n",
    "\\frac{v^4}{(M\\mu)^2} \\left[({\\bf l}_{N}\\cdot{\\bf S}_1)^2 \\left(\\frac{719 X_2}{96}-\\frac{719 \\eta }{96}\\right)+S_1^2 \\left(\\frac{233 \\eta }{96}-\\frac{233 X_2}{96}\\right)\\right] \\\\\n",
    "+ \\frac{v^6}{(M\\mu)^2} \\left\\{\n",
    "({\\bf l}_{N}\\cdot{\\bf S}_1)^2 \\left[\\frac{25373 \\eta ^2}{576}+\\frac{2185 \\eta }{448}+\\left(\\frac{19423 \\eta }{576}-\\frac{2185}{448}\\right) X_2\\right] \\\\\n",
    "+S_1^2 \\left[-\\frac{6011 \\eta ^2}{576}-\\frac{8503 \\eta }{448}+\\left(\\frac{8503}{448}-\\frac{1177 \\eta }{576}\\right) X_2\\right]\n",
    "\\right\\} \\\\\n",
    "+\\frac{\\pi  v^7}{(M\\mu)^2} \\left[({\\bf l}_{N}\\cdot{\\bf S}_1)^2 \\left(\\frac{209 X_2}{8}-\\frac{209 \\eta }{8}\\right)+S_1^2 \\left(6 \\eta -6 X_2\\right)\\right] \\\\\n",
    "+ \\frac{v^8}{(M\\mu)^2}\\left\\{\n",
    "({\\bf l}_{N}\\cdot{\\bf S}_1)^2 \\left[\\left(\\frac{11888267}{48384}-\\frac{2392243 \\eta ^2}{6912}+\\frac{4063301 \\eta }{16128}\\right) X_2-\\frac{869429 \\eta ^3}{6912}+\\frac{14283281 \\eta ^2}{48384}-\\frac{11888267 \\eta }{48384}\\right] \\\\\n",
    "+S_1^2 \\left[\\frac{138323 \\eta ^3}{6912}+\\frac{711521 \\eta ^2}{5376}+\\frac{8207303 \\eta }{145152}+\\left(\\frac{250693 \\eta ^2}{6912}-\\frac{812353 \\eta }{5376}-\\frac{8207303}{145152}\\right) X_2\\right]\n",
    "\\right\\} + 1\\leftrightarrow 2.\n",
    "\\end{equation*}\n",
    "\n",
    "$1 \\leftrightarrow 2$ indicates switching of the indices. For simplicity of coding, we rearrange the above equation as follows:\n",
    "\n",
    "\\begin{equation*}\n",
    "\\dot{v}_{S^2} = ({\\bf l}_{N}\\cdot{\\bf S}_{1})^2 \\left\\{ \\frac{719}{96}(X_2 - \\eta)v^4 + \\left[\\frac{25373 \\eta ^2}{576}+\\frac{2185 \\eta }{448}+\\left(\\frac{19423 \\eta }{576}-\\frac{2185}{448}\\right) X_2\\right]v^6 + \\left(\\frac{209 X_2}{8}-\\frac{209 \\eta }{8}\\right)\\pi v^7 + \\left[\\left(\\frac{11888267}{48384}-\\frac{2392243 \\eta ^2}{6912}+\\frac{4063301 \\eta }{16128}\\right) X_2-\\frac{869429 \\eta ^3}{6912}+\\frac{14283281 \\eta ^2}{48384}-\\frac{11888267 \\eta }{48384}\\right]v^8  \\right\\} \\\\\n",
    "+ ({\\bf l}_{N}\\cdot{\\bf S}_{2})^2 \\left\\{ \\frac{719}{96}(X_1 - \\eta)v^4 + \\left[\\frac{25373 \\eta ^2}{576}+\\frac{2185 \\eta }{448}+\\left(\\frac{19423 \\eta }{576}-\\frac{2185}{448}\\right) X_1\\right]v^6 + \\left(\\frac{209 X_1}{8}-\\frac{209 \\eta }{8}\\right)\\pi v^7 + \\left[\\left(\\frac{11888267}{48384}-\\frac{2392243 \\eta ^2}{6912}+\\frac{4063301 \\eta }{16128}\\right) X_1-\\frac{869429 \\eta ^3}{6912}+\\frac{14283281 \\eta ^2}{48384}-\\frac{11888267 \\eta }{48384}\\right]v^8  \\right\\}\\\\\n",
    "+ S_{1}^2 \\left\\{ \\left(\\frac{233 \\eta }{96}-\\frac{233 X_2}{96}\\right)v^4 + \\left[-\\frac{6011 \\eta ^2}{576}-\\frac{8503 \\eta }{448}+\\left(\\frac{8503}{448}-\\frac{1177 \\eta }{576}\\right) X_2\\right]v^6 + \\left(6 \\eta -6 X_2\\right)\\pi v^7 + \\left[\\frac{138323 \\eta ^3}{6912}+\\frac{711521 \\eta ^2}{5376}+\\frac{8207303 \\eta }{145152}+\\left(\\frac{250693 \\eta ^2}{6912}-\\frac{812353 \\eta }{5376}-\\frac{8207303}{145152}\\right) X_2\\right]v^8 \\right\\}\\\\\n",
    "+ S_{2}^2\\left\\{ \\left(\\frac{233 \\eta }{96}-\\frac{233 X_1}{96}\\right)v^4 + \\left[-\\frac{6011 \\eta ^2}{576}-\\frac{8503 \\eta }{448}+\\left(\\frac{8503}{448}-\\frac{1177 \\eta }{576}\\right) X_1\\right]v^6 + \\left(6 \\eta -6 X_1\\right)\\pi v^7 + \\left[\\frac{138323 \\eta ^3}{6912}+\\frac{711521 \\eta ^2}{5376}+\\frac{8207303 \\eta }{145152}+\\left(\\frac{250693 \\eta ^2}{6912}-\\frac{812353 \\eta }{5376}-\\frac{8207303}{145152}\\right) X_1\\right]v^8 \\right\\}\n",
    "\\end{equation*}\n",
    "\n",
    "Where, $X_{1,2}$ is defined in [this cell](#x), $\\eta$ is defined in [this cell](#eta), $v$ is defined in [this cell](#v), and ${\\bf l}_{N}\\cdot{\\bf S}_{1,2}$ is defined in [this cell](#ldots)."
   ]
  },
  {
   "cell_type": "code",
   "execution_count": 16,
   "id": "e6d5e113",
   "metadata": {},
   "outputs": [
    {
     "name": "stdout",
     "output_type": "stream",
     "text": [
      "Appending to Precession/v5PHM_Precession-RHS_on_top.txt\n"
     ]
    }
   ],
   "source": [
    "%%writefile -a $Ccodesdir/v5PHM_Precession-RHS_on_top.txt\n",
    "vdots2 = lndots1coefficient*lndots1**2 + lndots2coefficient*lndots1**2 + s1coefficient*s1sq + s2coefficient*s2sq\n",
    "lndots1coefficient = sp.Rational(719, 96)*(X2 - eta)*v**4 + (sp.Rational(25373, 576)*eta**2 + sp.Rational(2185, 448)*eta + (sp.Rational(19423, 576)*eta - sp.Rational(2185, 448))*X2)*v**6 + (sp.Rational(209, 8)*X2 - sp.Rational(209, 8)*eta)*sp.pi*v**7 + ((sp.Rational(11888267, 48384) - sp.Rational(2392243, 6912)*eta**2 + sp.Rational(4063301, 16128)*eta)*X2 - sp.Rational(869429, 6912)*eta**3 + sp.Rational(14283281, 48384)*eta**2 - sp.Rational(11888267, 48384)*eta)*v**8\n",
    "lndots2coefficient = sp.Rational(719, 96)*(X1 - eta)*v**4 + (sp.Rational(25373, 576)*eta**2 + sp.Rational(2185, 448)*eta + (sp.Rational(19423, 576)*eta - sp.Rational(2185, 448))*X1)*v**6 + (sp.Rational(209, 8)*X1 - sp.Rational(209, 8)*eta)*sp.pi*v**7 + ((sp.Rational(11888267, 48384) - sp.Rational(2392243, 6912)*eta**2 + sp.Rational(4063301, 16128)*eta)*X1 - sp.Rational(869429, 6912)*eta**3 + sp.Rational(14283281, 48384)*eta**2 - sp.Rational(11888267, 48384)*eta)*v**8\n",
    "s1coefficient = (sp.Rational(233, 96)*eta - sp.Rational(233, 96)*X2)*v**4 + (-sp.Rational(6011, 576)*eta**2 - sp.Rational(8503, 448)*eta + (sp.Rational(8503, 448) - sp.Rational(1177, 576)*eta)*X2)*v**6 + (6*eta - 6*X2)*sp.pi*v**7 + (sp.Rational(138323, 6912)*eta**3 + sp.Rational(711521, 5376)*eta**2 + sp.Rational(8207303, 145152)*eta + (sp.Rational(250693, 6912)*eta**2 - sp.Rational(812353, 5376)*eta - sp.Rational(8207303, 145152))*X2)*v**8\n",
    "s2coefficient = (sp.Rational(233, 96)*eta - sp.Rational(233, 96)*X1)*v**4 + (-sp.Rational(6011, 576)*eta**2 - sp.Rational(8503, 448)*eta + (sp.Rational(8503, 448) - sp.Rational(1177, 576)*eta)*X1)*v**6 + (6*eta - 6*X1)*sp.pi*v**7 + (sp.Rational(138323, 6912)*eta**3 + sp.Rational(711521, 5376)*eta**2 + sp.Rational(8207303, 145152)*eta + (sp.Rational(250693, 6912)*eta**2 - sp.Rational(812353, 5376)*eta - sp.Rational(8207303, 145152))*X1)*v**8"
   ]
  }
 ],
 "metadata": {
  "kernelspec": {
   "display_name": "Python 3",
   "language": "python",
   "name": "python3"
  },
  "language_info": {
   "codemirror_mode": {
    "name": "ipython",
    "version": 3
   },
   "file_extension": ".py",
   "mimetype": "text/x-python",
   "name": "python",
   "nbconvert_exporter": "python",
   "pygments_lexer": "ipython3",
   "version": "3.8.8"
  }
 },
 "nbformat": 4,
 "nbformat_minor": 5
}
