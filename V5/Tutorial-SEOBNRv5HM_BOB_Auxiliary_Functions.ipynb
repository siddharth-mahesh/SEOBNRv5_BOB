{
 "cells": [
  {
   "cell_type": "markdown",
   "id": "e7c105b9",
   "metadata": {},
   "source": [
    "# Step : Initialize Core Modules"
   ]
  },
  {
   "cell_type": "code",
   "execution_count": 1,
   "id": "ecb8a51a",
   "metadata": {},
   "outputs": [],
   "source": [
    "import sys,os#Add sys to get cmdline_helper from NRPy top directory; remove this line and next when debugged\n",
    "sys.path.append('../')\n",
    "import cmdline_helper as cmd     # NRPy+: Multi-platform Python command-line interface\n",
    "\n",
    "# Create C code output directory:\n",
    "Ccodesdir = \"Dynamics\"\n",
    "# Then create an output directory in case it does not exist\n",
    "cmd.mkdir(Ccodesdir)"
   ]
  },
  {
   "cell_type": "markdown",
   "id": "e4dbc13b",
   "metadata": {},
   "source": [
    "# Step : Augment Dynamics"
   ]
  },
  {
   "cell_type": "code",
   "execution_count": 2,
   "id": "cc114387",
   "metadata": {},
   "outputs": [
    {
     "name": "stdout",
     "output_type": "stream",
     "text": [
      "Overwriting Dynamics/v5HM_unoptimized_auxiliary_functions.py\n"
     ]
    }
   ],
   "source": [
    "%%writefile $Ccodesdir/v5HM_unoptimized_auxiliary_functions.py\n",
    "\n",
    "import numpy as np\n",
    "from scipy.signal import argrelmin\n",
    "from scipy.interpolate import CubicSpline\n",
    "from pygsl_lite import spline\n",
    "from Hamiltonian.v5HM_unoptimized_hamiltonian import v5HM_unoptimized_hamiltonian as H\n",
    "from Hamiltonian.v5HM_BOB_unoptimized_hamiltonian_calibration import v5HM_BOB_unoptimized_hamiltonian_calibration as H_calib\n",
    "from Derivatives.v5HM_Hamiltonian_Derivatives_unoptimized import v5HM_unoptimized_dH_dpphi as omega\n",
    "from Derivatives.v5HM_Hamiltonian_Derivatives_unoptimized import v5HM_unoptimized_omega_circ as omega_circ\n",
    "from Derivatives.v5HM_BOB_unoptimized_hamiltonian_first_derivatives_calibration import v5HM_BOB_unoptimized_dH_dpphi_calibration as omega_calib\n",
    "from Derivatives.v5HM_BOB_unoptimized_hamiltonian_first_derivatives_calibration import v5HM_BOB_unoptimized_omega_circ_calibration as omega_circ_calib\n",
    "from Radiation.v5HM_unoptimized_waveform import v5HM_unoptimized_waveform as hlm\n",
    "\n",
    "def augment_dynamics(dynamics, m1, m2, chi1, chi2):\n",
    "    result = []\n",
    "    eta = m1*m2/(m1 + m2)/(m1 + m2)\n",
    "    N = dynamics.shape[0]\n",
    "    for i in range(N):\n",
    "        dyn = dynamics[i]\n",
    "        Hreal,xi = H(m1,m2,dyn[1],dyn[3],dyn[4],chi1,chi2)\n",
    "        Omega = omega(m1,m2,dyn[1],dyn[3],dyn[4],chi1,chi2)/eta\n",
    "        Omega_c = omega_circ(m1,m2,dyn[1],dyn[4],chi1,chi2)/eta\n",
    "        result.append([Hreal,Omega,Omega_c])\n",
    "    result = np.array(result)\n",
    "    return np.c_[dynamics,result]\n",
    "\n",
    "def augment_dynamics_calib(dynamics, m1, m2, chi1, chi2,a6,dSO):\n",
    "    result = []\n",
    "    eta = m1*m2/(m1 + m2)/(m1 + m2)\n",
    "    N = dynamics.shape[0]\n",
    "    for i in range(N):\n",
    "        dyn = dynamics[i]\n",
    "        Hreal,xi = H_calib(m1,m2,dyn[1],dyn[3],dyn[4],chi1,chi2,a6,dSO)\n",
    "        Omega = omega_calib(m1,m2,dyn[1],dyn[3],dyn[4],chi1,chi2,a6,dSO)/eta\n",
    "        Omega_c = omega_circ_calib(m1,m2,dyn[1],dyn[4],chi1,chi2,a6,dSO)/eta\n",
    "        result.append([Hreal,Omega,Omega_c])\n",
    "    result = np.array(result)\n",
    "    return np.c_[dynamics,result]"
   ]
  },
  {
   "cell_type": "markdown",
   "id": "7458f31e",
   "metadata": {},
   "source": [
    "# Step : Iterative Refinement"
   ]
  },
  {
   "cell_type": "code",
   "execution_count": 3,
   "id": "f07c9cd5",
   "metadata": {},
   "outputs": [
    {
     "name": "stdout",
     "output_type": "stream",
     "text": [
      "Appending to Dynamics/v5HM_unoptimized_auxiliary_functions.py\n"
     ]
    }
   ],
   "source": [
    "%%writefile -a $Ccodesdir/v5HM_unoptimized_auxiliary_functions.py\n",
    "\n",
    "def iterative_refinement(var_dot, interval, peak_pr = False):\n",
    "    left = interval[0]\n",
    "    right = interval[1]\n",
    "    dt = 0.1\n",
    "    for n in range(2):\n",
    "        dt /= 10\n",
    "        t_array_fine = np.arange(interval[0],interval[1],dt)\n",
    "        abs_var_dot = np.abs(var_dot(t_array_fine))\n",
    "        minima = argrelmin(abs_var_dot, order = 3)[0]\n",
    "        \n",
    "        if len(minima) > 0:\n",
    "            result = t_array_fine[minima[0]]\n",
    "            interval = [ max(left,result - 10*dt) , min(right,result + 10*dt)]\n",
    "        else:\n",
    "            if peak_pr:\n",
    "                return interval[-1]\n",
    "            else:\n",
    "                return ( interval[0] + interval[-1] ) / 2\n",
    "    return result    "
   ]
  },
  {
   "cell_type": "markdown",
   "id": "89882172",
   "metadata": {},
   "source": [
    "# Step : Interpolate Dynamics"
   ]
  },
  {
   "cell_type": "code",
   "execution_count": 4,
   "id": "d27f9119",
   "metadata": {},
   "outputs": [
    {
     "name": "stdout",
     "output_type": "stream",
     "text": [
      "Appending to Dynamics/v5HM_unoptimized_auxiliary_functions.py\n"
     ]
    }
   ],
   "source": [
    "%%writefile -a $Ccodesdir/v5HM_unoptimized_auxiliary_functions.py\n",
    "\n",
    "def interpolate_dynamics(dynamics_fine, omega_peak = None, step_back = 250):\n",
    "    res = []\n",
    "    n = len(dynamics_fine)\n",
    "    \n",
    "    if omega_peak:\n",
    "        t_start_fine = max(omega_peak - step_back, dynamics_fine[0,0])\n",
    "        t_new = np.arange(t_start_fine, omega_peak, 0.1)\n",
    "    else:\n",
    "        t_new = np.arange(dynamics_fine[0,0], dynamics_fine[-1,0], 0.1)\n",
    "    \n",
    "    for i in range(1, dynamics_fine.shape[1]):\n",
    "        interpolant = CubicSpline(dynamics_fine[:,0], dynamics_fine[:,i])\n",
    "        res.append(interpolant(t_new))\n",
    "    \n",
    "    res = np.array(res)\n",
    "    res_transposed = res.T\n",
    "    \n",
    "    return np.c_[t_new,res_transposed]"
   ]
  },
  {
   "cell_type": "markdown",
   "id": "dbdeee81",
   "metadata": {},
   "source": [
    "# Step : Get Inspiral Waveform (Currently only 2,2 mode)"
   ]
  },
  {
   "cell_type": "code",
   "execution_count": 5,
   "id": "14196944",
   "metadata": {},
   "outputs": [
    {
     "name": "stdout",
     "output_type": "stream",
     "text": [
      "Appending to Dynamics/v5HM_unoptimized_auxiliary_functions.py\n"
     ]
    }
   ],
   "source": [
    "%%writefile -a $Ccodesdir/v5HM_unoptimized_auxiliary_functions.py\n",
    "\n",
    "def get_waveforms_inspiral(m1,m2,augmented_dynamics,chi1,chi2):\n",
    "    nu = m1*m2/(m1 + m2)/(m1 + m2)\n",
    "    N = augmented_dynamics.shape[0]\n",
    "    h22 = []\n",
    "    for i in range(N):\n",
    "        r = augmented_dynamics[i,1]\n",
    "        phi = augmented_dynamics[i,2]\n",
    "        prstar = augmented_dynamics[i,3]\n",
    "        pphi = augmented_dynamics[i,4]\n",
    "        Hreal = augmented_dynamics[i,5]\n",
    "        Omega = augmented_dynamics[i,6]\n",
    "        Omega_circ = augmented_dynamics[i,7]\n",
    "        h22.append(hlm(m1,m2,r,phi,prstar,pphi,chi1,chi2,Hreal,Omega,Omega_circ))\n",
    "    h22 = np.array(h22)\n",
    "    return np.c_[augmented_dynamics[:,0],h22]"
   ]
  },
  {
   "cell_type": "markdown",
   "id": "ee2950b1",
   "metadata": {},
   "source": [
    "# Step : Interpolate waveform\n",
    "\n",
    "Note: As discussed in Section IIIA of [Cotesta 2020](https://arxiv.org/abs/2003.12079), the inspiral-plunge waveform has an effective scaling given by:\n",
    "\n",
    "$$\n",
    "h^{\\rm inspiral-plunge}_{lm} \\propto \\exp^{-im\\phi_{\\rm orb}}\n",
    "$$\n",
    "\n",
    "with $\\phi_{\\rm orb}$ being the \\textit{orbital phase} (not to be confused with waveform phase).\n",
    "Thus, when interpolating the waveform modes to the desired sampling, it is important to rescale the orbital phase and waveform separately to avoid possible discontinuities. \n",
    "\n",
    "Therefore, the following strategy is applied. Let, $h^{\\rm init}$ be the complex waveform evaluated from the dynamics and $\\phi^{\\rm init}_{\\rm orb}$ be the orbital phase:\n",
    "\n",
    "1. Step 1: Obtain $h^{\\rm no phase scaling} = h^{\\rm init}\\exp^{im\\phi^{\\rm init}_{\\rm orb}}$ \n",
    "1. Step 2: Interpolate above to get $h^{\\textrm{no phase scaling, interp}}$ and $\\phi^{\\rm interp}_{\\rm orb}$\n",
    "1. Step 3: Obtain $h^{\\rm interp} = h^{\\textrm{no phase scaling, interp}}\\exp^{-im\\phi^{\\rm interp}_{\\rm orb}}$"
   ]
  },
  {
   "cell_type": "code",
   "execution_count": 6,
   "id": "23dd116e",
   "metadata": {},
   "outputs": [
    {
     "name": "stdout",
     "output_type": "stream",
     "text": [
      "Appending to Dynamics/v5HM_unoptimized_auxiliary_functions.py\n"
     ]
    }
   ],
   "source": [
    "%%writefile -a $Ccodesdir/v5HM_unoptimized_auxiliary_functions.py\n",
    "\n",
    "def interpolate_modes_fast(t_new,waveform_mode, dynamics):\n",
    "    n = len(waveform_mode)\n",
    "    orbital_phase = dynamics[:,2]\n",
    "    intrp_orbital_phase = spline.cspline(n)\n",
    "    intrp_orbital_phase.init(dynamics[:,0],dynamics[:,2])\n",
    "    orbital_phase_intrp = intrp_orbital_phase.eval_e_vector(t_new)\n",
    "    intrp_real_mode, intrp_imag_mode = spline.cspline(n), spline.cspline(n)\n",
    "    h22_remove_phase_scaling = waveform_mode[:,1]*np.exp(1j*2*orbital_phase)\n",
    "    intrp_real_mode.init(waveform_mode[:,0],np.real(waveform_mode[:,1]))\n",
    "    intrp_imag_mode.init(waveform_mode[:,0],np.imag(waveform_mode[:,1]))\n",
    "    h22_real = intrp_real_mode.eval_e_vector(t_new)\n",
    "    h22_imag = intrp_imag_mode.eval_e_vector(t_new)\n",
    "    h22_rescaled = (h22_real + 1j*h22_imag)*np.exp(-1j*2*orbital_phase_intrp)\n",
    "    return np.c_[t_new,h22_rescaled]    "
   ]
  },
  {
   "cell_type": "markdown",
   "id": "cbb624e1",
   "metadata": {},
   "source": [
    "# Step : Custom ${\\rm tanh}^{-1}$ function\n",
    "\n",
    "when using BOB, sympy returns errors when using the canned inverse tanh function. Thus, the inverse formula is coded directly"
   ]
  },
  {
   "cell_type": "code",
   "execution_count": null,
   "id": "cb7dbdd8",
   "metadata": {},
   "outputs": [],
   "source": [
    "%%writefile -a $Ccodesdir/v5HM_unoptimized_auxiliary_functions.py\n",
    "\n",
    "def bob_atanh(x):\n",
    "    return 0.5*np.log((1 - x)/(1 + x)) "
   ]
  }
 ],
 "metadata": {
  "kernelspec": {
   "display_name": "Python 3 (ipykernel)",
   "language": "python",
   "name": "python3"
  },
  "language_info": {
   "codemirror_mode": {
    "name": "ipython",
    "version": 3
   },
   "file_extension": ".py",
   "mimetype": "text/x-python",
   "name": "python",
   "nbconvert_exporter": "python",
   "pygments_lexer": "ipython3",
   "version": "3.11.5"
  }
 },
 "nbformat": 4,
 "nbformat_minor": 5
}
