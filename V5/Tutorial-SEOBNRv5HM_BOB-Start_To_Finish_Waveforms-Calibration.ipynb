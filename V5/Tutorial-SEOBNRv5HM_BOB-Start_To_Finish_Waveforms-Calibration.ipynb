{
 "cells": [
  {
   "cell_type": "markdown",
   "id": "e7c105b9",
   "metadata": {},
   "source": [
    "# Step : Initialize Core Modules"
   ]
  },
  {
   "cell_type": "code",
   "execution_count": 1,
   "id": "ecb8a51a",
   "metadata": {},
   "outputs": [],
   "source": [
    "import sys,os#Add sys to get cmdline_helper from NRPy top directory; remove this line and next when debugged\n",
    "sys.path.append('../')\n",
    "import cmdline_helper as cmd     # NRPy+: Multi-platform Python command-line interface\n",
    "\n",
    "# Create C code output directory:\n",
    "Ccodesdir = \"IMR\"\n",
    "# Then create an output directory in case it does not exist\n",
    "cmd.mkdir(Ccodesdir)"
   ]
  },
  {
   "cell_type": "markdown",
   "id": "d9cb39d2",
   "metadata": {},
   "source": [
    "# Step : Call Initial Conditions\n",
    "Note : Our new choice of calibration is to obtain $\\Delta t$ from BOB at the end of the dynamics. However, if we opt to set $\\Delta t$ as a free parameter, then we can feed a value directly. Since the dynamics terminate before ISCO for a positive $\\Delta t$, we set the provisional $\\Delta t$ for BOB as negative to ensure the dynamics is integrated to one of the ordinary termination conditions. \n",
    "LIGO approximants generally provide times in seconds. Thus, the desired sampling `dt` is scaled by the mass factor as EOB uses time in geomtrized units."
   ]
  },
  {
   "cell_type": "code",
   "execution_count": 2,
   "id": "2822c655",
   "metadata": {},
   "outputs": [
    {
     "name": "stdout",
     "output_type": "stream",
     "text": [
      "Overwriting IMR/v5HM_BOB_Generate_Waveform_Calibration.txt\n"
     ]
    }
   ],
   "source": [
    "%%writefile $Ccodesdir/v5HM_BOB_Generate_Waveform_Calibration.txt\n",
    "Deltat_init = Delta_t\n",
    "if Delta_t == 'BOB':\n",
    "    Deltat_init = -1\n",
    "dT = dt/M/4.925490947641266978197229498498379006e-6\n",
    "m1,m2,chi1,chi2,y_init,Omega_0,h_init,rstop,rISCO,af,Mf,h22NR,omega22NR = v5HM_BOB_optimized_initial_conditions(M,q,S1,S2,f,a6,dSO,Deltat_init)\n",
    "omega22NR *= -1\n",
    "if af > 0:\n",
    "    qnm_cache = qnm.modes_cache(s = -2, l = 2, m = 2, n= 0)\n",
    "    omega_complex, _, _ = qnm_cache(a = af, interp_only = True)\n",
    "else:\n",
    "    qnm_cache = qnm.modes_cache(s = -2, l = 2, m = -2, n= 0)\n",
    "    omega_complex, _, _ = qnm_cache(a = np.abs(af), interp_only = True)\n",
    "\n",
    "omega_complex_norm = omega_complex/Mf\n",
    "omega_qnm = np.real(omega_complex_norm)\n",
    "tau = -1./(np.imag(omega_complex_norm))"
   ]
  },
  {
   "cell_type": "markdown",
   "id": "0546b3e7",
   "metadata": {},
   "source": [
    "# Step : Evaluate Dynamics\n"
   ]
  },
  {
   "cell_type": "code",
   "execution_count": 3,
   "id": "05187d5c",
   "metadata": {},
   "outputs": [
    {
     "name": "stdout",
     "output_type": "stream",
     "text": [
      "Appending to IMR/v5HM_BOB_Generate_Waveform_Calibration.txt\n"
     ]
    }
   ],
   "source": [
    "%%writefile -a $Ccodesdir/v5HM_BOB_Generate_Waveform_Calibration.txt\n",
    "dynamics_coarse, dynamics_fine = v5HM_BOB_integrator_calibration(m1,m2,chi1,chi2,y_init,Omega_0,a6,dSO,rstop,h_init)\n",
    "dynamics = np.vstack((dynamics_coarse,dynamics_fine))"
   ]
  },
  {
   "cell_type": "markdown",
   "id": "960cc8e6",
   "metadata": {},
   "source": [
    "# Step : Find ISCO crossing\n",
    "\n",
    "Note : pySEOBNR puts in checks for situations where the dynamics are terminated before the perturber crosses the ISCO of the final black hole. In such a case, we choose the end point of the dynamics as the effective ISCO crossing time. (Calibration Notes: In this case, a BOB $\\Delta t$ will take in inputs before ISCO. Would be worthwhile to check how accurate the waveform is in this case or if using the BOB $\\Delta t$ allows us to push the integration past ISCO.)"
   ]
  },
  {
   "cell_type": "code",
   "execution_count": 4,
   "id": "04c921df",
   "metadata": {},
   "outputs": [
    {
     "name": "stdout",
     "output_type": "stream",
     "text": [
      "Appending to IMR/v5HM_BOB_Generate_Waveform_Calibration.txt\n"
     ]
    }
   ],
   "source": [
    "%%writefile -a $Ccodesdir/v5HM_BOB_Generate_Waveform_Calibration.txt\n",
    "if rISCO < dynamics_fine[-1,1]:\n",
    "    t_ISCO = dynamics_fine[-1,0]\n",
    "    omega_orb_ISCO = dynamics_fine[-1,6]\n",
    "else:\n",
    "    dt_isco = 0.001\n",
    "    N = int((dynamics_fine[-1,0] - dynamics_fine[0,0]) / dt_isco)\n",
    "    zoom = np.linspace(dynamics_fine[0,0],dynamics_fine[-1,0], N)\n",
    "    n = len(dynamics_fine)\n",
    "    intrp_r = spline.cspline(n)\n",
    "    intrp_r.init(dynamics_fine[:,0], dynamics_fine[:,1])\n",
    "    r_zoomed_in = intrp_r.eval_e_vector(zoom)\n",
    "    intrp_omega = spline.cspline(n)\n",
    "    intrp_omega.init(dynamics_fine[:,0], dynamics_fine[:,6])\n",
    "    omega_zoomed_in = intrp_omega.eval_e_vector(zoom)\n",
    "    idx = (np.abs(r_zoomed_in - rISCO)).argmin()\n",
    "    t_ISCO = zoom[idx]\n",
    "    omega_orb_ISCO = omega_zoomed_in[idx]"
   ]
  },
  {
   "cell_type": "markdown",
   "id": "c589320a",
   "metadata": {},
   "source": [
    "# Compute t_attach\n",
    "\n",
    "Note: pySEOBNR has checks for situations where the dynamics are terminated before the peak strain time, in which case the merger-ringdown is attached the end time of the dynamics. While pySEOBNR chooses to set the peak strain time at this attachment time, the BOB-generated NQCs makes no assumptions of the attachment time when generating the right-hand-sides."
   ]
  },
  {
   "cell_type": "code",
   "execution_count": 5,
   "id": "01d612d8",
   "metadata": {},
   "outputs": [
    {
     "name": "stdout",
     "output_type": "stream",
     "text": [
      "Appending to IMR/v5HM_BOB_Generate_Waveform_Calibration.txt\n"
     ]
    }
   ],
   "source": [
    "%%writefile -a $Ccodesdir/v5HM_BOB_Generate_Waveform_Calibration.txt\n",
    "Delta_t_attach = Delta_t\n",
    "if Delta_t == 'BOB':\n",
    "    Omega_QNM = omega_qnm/2\n",
    "    Omega_QNM4 = Omega_QNM * Omega_QNM * Omega_QNM * Omega_QNM\n",
    "    Omega_0 = omega22NR/2\n",
    "    Omega_04 = Omega_0 * Omega_0 * Omega_0 * Omega_0\n",
    "    omega_orb_ISCO4 = omega_orb_ISCO * omega_orb_ISCO * omega_orb_ISCO * omega_orb_ISCO\n",
    "    Delta_t_attach = tau*np.arctanh( ( 2*(omega_orb_ISCO4)*(Omega_QNM4) - Omega_QNM4*Omega_QNM4 - Omega_04*Omega_04 ) / ( Omega_QNM4*Omega_QNM4 - Omega_04*Omega_04 ) ) - 2*tau*np.log(Omega_0/Omega_QNM)\n",
    "\n",
    "t_peak_strain = t_ISCO - Delta_t_attach\n",
    "t_attach = t_peak_strain\n",
    "if t_peak_strain > dynamics_fine[-1,0]:\n",
    "    t_peak_strain = dynamics_fine[-1,0]\n",
    "    t_attach = dynamics_fine[-1,0]"
   ]
  },
  {
   "cell_type": "markdown",
   "id": "827c414e",
   "metadata": {},
   "source": [
    "# Compute the fine dynamics waveform and calculate NQC coefficients"
   ]
  },
  {
   "cell_type": "code",
   "execution_count": 6,
   "id": "9e51765a",
   "metadata": {},
   "outputs": [
    {
     "name": "stdout",
     "output_type": "stream",
     "text": [
      "Appending to IMR/v5HM_BOB_Generate_Waveform_Calibration.txt\n"
     ]
    }
   ],
   "source": [
    "%%writefile -a $Ccodesdir/v5HM_BOB_Generate_Waveform_Calibration.txt\n",
    "h22_inspiral_plunge_fine = get_waveforms_inspiral(m1,m2,dynamics_fine,chi1,chi2)\n",
    "h22_inspiral_plunge_coarse = get_waveforms_inspiral(m1,m2,dynamics_coarse,chi1,chi2)\n",
    "nqc_coefficients = v5HM_BOB_compute_optimized_nqc_coefficients(t_peak_strain,t_attach,h22_inspiral_plunge_fine, dynamics_fine, h22NR, omega22NR, omega_qnm, tau)\n",
    "h22_inspiral_plunge_combined = np.concatenate((h22_inspiral_plunge_coarse,h22_inspiral_plunge_fine))\n",
    "h22_inspiral_plunge_NQC = v5HM_BOB_apply_nqc_correction(nqc_coefficients, h22_inspiral_plunge_combined, dynamics)"
   ]
  },
  {
   "cell_type": "markdown",
   "id": "89667634",
   "metadata": {},
   "source": [
    "# Step:  Compute desired spacing and interpolate dynamics\n"
   ]
  },
  {
   "cell_type": "code",
   "execution_count": 7,
   "id": "f7c75bd4",
   "metadata": {},
   "outputs": [
    {
     "name": "stdout",
     "output_type": "stream",
     "text": [
      "Appending to IMR/v5HM_BOB_Generate_Waveform_Calibration.txt\n"
     ]
    }
   ],
   "source": [
    "%%writefile -a $Ccodesdir/v5HM_BOB_Generate_Waveform_Calibration.txt\n",
    "t_new = np.arange(dynamics[0,0], dynamics[-1,0], dT)\n",
    "h22_inspiral_plunge = interpolate_modes_fast(t_new,h22_inspiral_plunge_NQC, dynamics)\n",
    "h22amp_inspiral_plunge = np.abs(h22_inspiral_plunge)\n",
    "h22phase_inspiral_plunge = np.unwrap(np.angle(h22_inspiral_plunge))"
   ]
  },
  {
   "cell_type": "markdown",
   "id": "6c90f994",
   "metadata": {},
   "source": [
    "# Compute the BOB waveform\n",
    "multiplying by the appropriate sign of the inspiral phase to ensure there are no phase sign issues between BOB and the inspiral"
   ]
  },
  {
   "cell_type": "code",
   "execution_count": 8,
   "id": "38a392d9",
   "metadata": {},
   "outputs": [
    {
     "name": "stdout",
     "output_type": "stream",
     "text": [
      "Appending to IMR/v5HM_BOB_Generate_Waveform_Calibration.txt\n"
     ]
    }
   ],
   "source": [
    "%%writefile -a $Ccodesdir/v5HM_BOB_Generate_Waveform_Calibration.txt\n",
    "idx_match = np.argmin(np.abs(t_new - t_attach))\n",
    "if t_new[idx_match] > t_attach:\n",
    "    idx_match -= 1\n",
    "if idx_match == len(t_new) - 1:\n",
    "    idx_match -= 1\n",
    "t_match = t_new[idx_match]\n",
    "ringdown_time = int(15*tau)\n",
    "t_BOB = np.arange(0,ringdown_time,dT) + (t_match + dT)\n",
    "h22amp_BOB = np.zeros(len(t_BOB))\n",
    "h22phase_BOB = np.zeros(len(t_BOB))\n",
    "for i in range(len(t_BOB)):\n",
    "    amp_BOB, phase_BOB = v5HM_BOB_optimized_merger_ringdown(t_BOB[i],t_peak_strain,h22NR,omega22NR,omega_qnm,tau)\n",
    "    h22amp_BOB[i] = amp_BOB\n",
    "    h22phase_BOB[i] = phase_BOB\n",
    "h22phase_BOB = np.sign(h22phase_inspiral_plunge[idx_match])*np.abs(np.unwrap(h22phase_BOB))"
   ]
  },
  {
   "cell_type": "markdown",
   "id": "5f1e5f16",
   "metadata": {},
   "source": [
    "# Compute phase matched BOB waveform\n"
   ]
  },
  {
   "cell_type": "code",
   "execution_count": 9,
   "id": "ef6784f3",
   "metadata": {},
   "outputs": [
    {
     "name": "stdout",
     "output_type": "stream",
     "text": [
      "Appending to IMR/v5HM_BOB_Generate_Waveform_Calibration.txt\n"
     ]
    }
   ],
   "source": [
    "%%writefile -a $Ccodesdir/v5HM_BOB_Generate_Waveform_Calibration.txt\n",
    "h22phase_match_BOB = h22phase_BOB[0]\n",
    "h22phase_match_inspiral_plunge = h22phase_inspiral_plunge[idx_match+1]\n",
    "h22phase_BOB = h22phase_BOB - h22phase_match_BOB + h22phase_match_inspiral_plunge\n",
    "h22_complex_BOB = h22amp_BOB*np.exp(1j*h22phase_BOB)\n",
    "h22_complex_inspiral_plunge = h22amp_inspiral_plunge*np.exp(1j*h22phase_inspiral_plunge)"
   ]
  },
  {
   "cell_type": "markdown",
   "id": "66702c3b",
   "metadata": {},
   "source": [
    "# Compute IMR waveform\n"
   ]
  },
  {
   "cell_type": "code",
   "execution_count": 10,
   "id": "7b84d0b1",
   "metadata": {},
   "outputs": [
    {
     "name": "stdout",
     "output_type": "stream",
     "text": [
      "Appending to IMR/v5HM_BOB_Generate_Waveform_Calibration.txt\n"
     ]
    }
   ],
   "source": [
    "%%writefile -a $Ccodesdir/v5HM_BOB_Generate_Waveform_Calibration.txt\n",
    "h22_IMR = np.concatenate((h22_complex_inspiral_plunge[:idx_match+1],h22_complex_BOB))\n",
    "t_IMR = np.concatenate((t_new[:idx_match+1],t_BOB)) - t_peak_strain"
   ]
  },
  {
   "cell_type": "markdown",
   "id": "2e4b70c6",
   "metadata": {},
   "source": [
    "# Write a python function"
   ]
  },
  {
   "cell_type": "code",
   "execution_count": 11,
   "id": "d19ceeae",
   "metadata": {},
   "outputs": [
    {
     "name": "stdout",
     "output_type": "stream",
     "text": [
      "[13.73610294 13.74467504 13.75324713]\n",
      "[-7.81506387e-07+8.08666677e-07j -7.30349181e-07+8.42488426e-07j\n",
      " -6.77483392e-07+8.73545069e-07j]\n",
      "11.665758495935924\n"
     ]
    },
    {
     "data": {
      "text/plain": [
       "[<matplotlib.lines.Line2D at 0x7f0000373bd0>]"
      ]
     },
     "execution_count": 11,
     "metadata": {},
     "output_type": "execute_result"
    },
    {
     "data": {
      "image/png": "[encoded data removed]",
      "text/plain": [
       "<Figure size 640x480 with 1 Axes>"
      ]
     },
     "metadata": {},
     "output_type": "display_data"
    }
   ],
   "source": [
    "with open(os.path.join(Ccodesdir,\"v5HM_BOB_generate_waveform_calibration.py\"), \"w\") as output:\n",
    "    output.write(\"import numpy as np\\nfrom pygsl_lite import spline\\n\")\n",
    "    output.write(\"from Dynamics.v5HM_BOB_optimized_initial_conditions import v5HM_BOB_optimized_initial_conditions\\n\")\n",
    "    output.write(\"from Dynamics.v5HM_BOB_integrator_calibration import v5HM_BOB_integrator_calibration\\n\")\n",
    "    output.write(\"from Dynamics.v5HM_optimized_auxiliary_functions import interpolate_modes_fast, get_waveforms_inspiral\\n\")\n",
    "    output.write(\"from IMR.v5HM_BOB_apply_nqc_corrections import v5HM_BOB_apply_nqc_correction\\n\")\n",
    "    output.write(\"from IMR.v5HM_BOB_compute_optimized_nqc_coefficients import v5HM_BOB_compute_optimized_nqc_coefficients\\n\")\n",
    "    output.write(\"import qnm\\n\")\n",
    "    output.write(\"from Radiation.v5HM_BOB_optimized_merger_ringdown import v5HM_BOB_optimized_merger_ringdown\\n\")\n",
    "    output.write(\"def v5HM_BOB_generate_waveform_calibration(M,q,S1,S2,f,a6,dSO,Delta_t,dt,debug = False):\\n\")\n",
    "    for line in list(open(os.path.join(Ccodesdir,\"v5HM_BOB_Generate_Waveform_Calibration.txt\"),\"r\")):\n",
    "        output.write(\"    %s\\n\" % line.rstrip())\n",
    "    output.write(\"    if not debug:\\n        return t_IMR, h22_IMR\\n    else:\\n        return t_IMR, h22_IMR, h22_complex_BOB, h22_inspiral_plunge, interpolate_modes_fast(t_new, h22_inspiral_plunge_combined, dynamics), dynamics, tau\")\n",
    "\n",
    "import numpy as np\n",
    "from IMR.v5HM_BOB_generate_waveform_calibration import v5HM_BOB_generate_waveform_calibration as v5HM\n",
    "\n",
    "M = 50\n",
    "f = 20\n",
    "Msol = 4.925491025543575903411922162094833998e-6\n",
    "Omega_0 = M*Msol*np.pi*f\n",
    "q = 1.5\n",
    "qs = \"15\"\n",
    "chi1 = 0.02\n",
    "chi2 = 0.01\n",
    "chi1s = \"02\"\n",
    "chi2s = \"01\"\n",
    "\n",
    "m1 = q/(1. + q)\n",
    "m2 = 1./(1. + q)\n",
    "ap = m1*chi1 + m2*chi2\n",
    "am = m1*chi1 - m2*chi2\n",
    "nu = m1*m2\n",
    "\n",
    "dSO = (\n",
    "    -7.71251231383957 * am ** 3\n",
    "    - 17.2294679794015 * am ** 2 * ap\n",
    "    - 238.430383378296 * am ** 2 * nu\n",
    "    + 69.5461667822545 * am ** 2\n",
    "    - 10.5225438990315 * am * ap ** 2\n",
    "    + 362.767393298729 * am * ap * nu\n",
    "    - 85.8036338010274 * am * ap\n",
    "    - 1254.66845939312 * am * nu ** 2\n",
    "    + 472.431937787377 * am * nu\n",
    "    - 39.742317057316 * am\n",
    "    - 7.58458103577458 * ap ** 3\n",
    "    - 42.7601129678844 * ap ** 2 * nu\n",
    "    + 18.1783435552183 * ap ** 2\n",
    "    - 201.905934468847 * ap * nu ** 2\n",
    "    - 90.5790079104259 * ap * nu\n",
    "    + 49.6299175121658 * ap\n",
    "    + 478.546231305475 * nu ** 3\n",
    "    + 679.521769948995 * nu ** 2\n",
    "    - 177.334831768076 * nu\n",
    "    - 37.6897780220529\n",
    ")\n",
    "\n",
    "para6 = np.array(\n",
    "    [4.17877875e01, -3.02193382e03, 3.34144394e04, -1.69019140e05, 3.29523262e05]\n",
    ")\n",
    "a6 = para6[0] + para6[1] * nu + para6[2] * nu ** 2 + para6[3] * nu ** 3 + para6[4] * nu ** 4\n",
    "\n",
    "pardTNS = np.array(\n",
    "    [1.00513217e01, -5.96231800e01, -1.05687385e03, -9.79317619e03, 5.55652392e04]\n",
    ")\n",
    "Deltat_NS = nu ** (-1.0 / 5 + pardTNS[0] * nu) * (\n",
    "    pardTNS[1] + pardTNS[2] * nu + pardTNS[3] * nu ** 2 + pardTNS[4] * nu ** 3\n",
    ")\n",
    "\n",
    "Deltat_S = nu ** (-1.0 / 5 + 0 * nu) * (\n",
    "    8.39238879807543 * am ** 2 * ap\n",
    "    - 16.9056858928167 * am ** 2 * nu\n",
    "    + 7.23410583477034 * am ** 2\n",
    "    + 6.38975598319936 * am * ap ** 2\n",
    "    + 179.569824846781 * am * ap * nu\n",
    "    - 40.6063653476775 * am * ap\n",
    "    + 144.253395844761 * am * nu ** 2\n",
    "    - 90.1929138487509 * am * nu\n",
    "    + 14.2203101910927 * am\n",
    "    - 6.78913884987037 * ap ** 4\n",
    "    + 5.39962303470497 * ap ** 3\n",
    "    - 132.224950777226 * ap ** 2 * nu\n",
    "    + 49.8016443361381 * ap ** 2\n",
    "    + 384.201018794943 * ap * nu ** 2\n",
    "    - 141.253181790353 * ap * nu\n",
    "    + 17.5710132409988 * ap\n",
    ")\n",
    "\n",
    "Deltat_v5HM = Deltat_NS + Deltat_S\n",
    "\n",
    "t_IMR, h_IMR, q, z, b, n, tau = v5HM(M,q,chi1,chi2,f,a6,dSO,Deltat_v5HM,2.4627455127717882e-05, debug = True)\n",
    "\n",
    "import matplotlib.pyplot as plt\n",
    "print(t_IMR[-138:-135]/tau)\n",
    "print(h_IMR[-138:-135])\n",
    "print(tau)\n",
    "plt.plot(t_IMR, np.real(h_IMR))"
   ]
  },
  {
   "cell_type": "code",
   "execution_count": null,
   "id": "885bbe03-20a9-4005-96d3-003867934323",
   "metadata": {},
   "outputs": [],
   "source": []
  }
 ],
 "metadata": {
  "kernelspec": {
   "display_name": "Python 3 (ipykernel)",
   "language": "python",
   "name": "python3"
  },
  "language_info": {
   "codemirror_mode": {
    "name": "ipython",
    "version": 3
   },
   "file_extension": ".py",
   "mimetype": "text/x-python",
   "name": "python",
   "nbconvert_exporter": "python",
   "pygments_lexer": "ipython3",
   "version": "3.11.7"
  }
 },
 "nbformat": 4,
 "nbformat_minor": 5
}
