{
 "cells": [
  {
   "cell_type": "markdown",
   "id": "8d4f7f05-657f-4de1-b494-3f8843eba02c",
   "metadata": {},
   "source": [
    "# The Final Trajectory\n",
    "\n",
    "In order to compute the dynamics in SEOBNRv5HM, we will need to implement the corresponding equations of motion and a numerical integration routine.\n",
    "\n",
    "The equations of motion require as inputs:\n",
    "- The masses $m_{1,2}$ in normalized masses, i.e $m_1 + m_2 = 1$.\n",
    "- The spins $\\chi_1$, and $\\chi_2$ of the binary in dimensionless units.\n",
    "- The values of the primitive variables $(r,\\phi,p_{r_*},p_{\\phi})$.\n",
    "It then computes:\n",
    "- The partial derivatives of the Hamiltonian w.r.t the positions, $\\tfrac{\\partial H}{\\partial r}$ and momenta $\\tfrac{\\partial H}{\\partial p_{(r_*,\\phi)}}$.\n",
    "- The tortoise parameter $\\xi$.\n",
    "- The Hamiltonian $H$, the circular frequency $\\Omega_{\\rm circ}$ that are then used to solve for the flux $F_{\\phi}$\n",
    "And returns the time derivative of each of the primitive variables given by Hamilton's equations of motion as well as the prescription for the radiation-reaction.\n",
    "\n",
    "The numerical integration routine is split into two parts\n",
    "- An initial sparsely sampled integration that stops at given stopping conditions\n",
    "- A finely-sampled interpolation of the initial integration from some stepback time to the stopping conditions to calculate the Non-Quasi-Circular (NQC) Coefficients\n",
    "\n",
    "In this notebook, we will generate three files:\n",
    "- The set of expressions needed to generate the equations of motions\n",
    "- The numerical routines needed to generate the trajectory\n",
    "\n",
    "Finally, the numerical integration requires as inputs:\n",
    "- The initial conditions, documented in the initial conditions routine\n",
    "- The stopping conditions, documented in this notebook\n",
    "- All other inputs needed for the equations of motion "
   ]
  },
  {
   "cell_type": "code",
   "execution_count": 1,
   "id": "964be92e",
   "metadata": {},
   "outputs": [],
   "source": [
    "import sys,os#Add sys to get cmdline_helper from NRPy top directory; remove this line and next when debugged\n",
    "sys.path.append('../')\n",
    "import cmdline_helper as cmd     # NRPy+: Multi-platform Python command-line interface\n",
    "\n",
    "# Create C code output directory:\n",
    "Ccodesdir = \"Dynamics\"\n",
    "# Then create an output directory in case it does not exist\n",
    "cmd.mkdir(Ccodesdir)"
   ]
  },
  {
   "cell_type": "markdown",
   "id": "5cb7fffe-a746-4407-8e92-dc7e2866c60e",
   "metadata": {
    "tags": []
   },
   "source": [
    "# Step : The Equations of Motions\n",
    "\n",
    "The equations of motion are given by:\n",
    "\n",
    "\\begin{equation*}\n",
    "\\dot{r} = \\frac{1}{\\nu}\\xi \\frac{\\partial H}{\\partial p_{r_{*}}}\\\\\n",
    "\\dot{\\phi} = \\Omega\\\\\n",
    "\\dot{p}_{r_*} = \\frac{1}{\\nu}\\left(-\\xi \\frac{\\partial H}{\\partial r} + \\frac{ p_{ r_{*} }F_{\\phi} }{ p_{\\phi} }\\right)\\\\\n",
    "\\dot{p}_{\\phi} = \\frac{1}{\\nu}F_{\\phi}\n",
    "\\end{equation*}\n",
    "\n",
    "Where, $\\nu$ is the symmetric mass ratio, $F_{\\phi}$ is the gravitational wave flux, $\\frac{\\partial H}{\\partial \\zeta}$ is the partial derivative of the Hamiltonian, $H$, with respect to the primitive variable $\\zeta = \\{r,\\phi,p_{r_{*}},p_\\phi\\}$.  "
   ]
  },
  {
   "cell_type": "code",
   "execution_count": 2,
   "id": "608b99cd",
   "metadata": {},
   "outputs": [
    {
     "name": "stdout",
     "output_type": "stream",
     "text": [
      "Overwriting Dynamics/v5HM_Equations_Of_Motion.txt\n"
     ]
    }
   ],
   "source": [
    "%%writefile $Ccodesdir/v5HM_Equations_Of_Motion.txt\n",
    "rdot = (xi/eta)*dHdprstar(m1,m2,r,prstar,pphi,chi1,chi2)\n",
    "phidot = Omega\n",
    "prstardot = (1/eta)*(-xi*dHdr(m1,m2,r,prstar,pphi,chi1,chi2) + prstar*F_phi/pphi)\n",
    "pphidot = F_phi/eta"
   ]
  },
  {
   "cell_type": "markdown",
   "id": "8c4bf6b6",
   "metadata": {},
   "source": [
    "# Step : $F_{\\phi}$\n",
    "\n",
    "The gravitational wave flux is given as a function of the primitive variables $\\{r,\\phi,p_{r_{*}},p_{\\phi}\\}$, the masses $\\{m_1,m_2\\}$, the spins $\\{\\chi_{1},\\chi_{2}\\}$, the rotational frequency $\\Omega$, the circular frequency $\\Omega_{\\rm circ}$, and the Hamiltonian $H$.\n",
    "\n",
    "$$\n",
    "F_{\\phi} \\equiv F_{\\phi}(m_1,m_2,r,p_{r_{*}},p_{\\phi},\\chi_1,\\chi_2,\\Omega,\\Omega_{\\rm circ},H)\n",
    "$$"
   ]
  },
  {
   "cell_type": "code",
   "execution_count": 3,
   "id": "56a73009",
   "metadata": {},
   "outputs": [
    {
     "name": "stdout",
     "output_type": "stream",
     "text": [
      "Appending to Dynamics/v5HM_Equations_Of_Motion.txt\n"
     ]
    }
   ],
   "source": [
    "%%writefile -a $Ccodesdir/v5HM_Equations_Of_Motion.txt\n",
    "F_phi = flux(m1, m2, r, phi, prstar, pphi, chi1, chi2,Omega,Omega_circ,H)/Omega"
   ]
  },
  {
   "cell_type": "markdown",
   "id": "0e2110ab",
   "metadata": {},
   "source": [
    "# Step : $\\Omega$\n",
    "\n",
    "The rotational frequency is given by:\n",
    "\n",
    "$$\n",
    "\\Omega = \\frac{1}{\\nu}\\frac{\\partial H}{\\partial p_{\\phi}}\n",
    "$$"
   ]
  },
  {
   "cell_type": "code",
   "execution_count": 4,
   "id": "6a7d3cf5",
   "metadata": {},
   "outputs": [
    {
     "name": "stdout",
     "output_type": "stream",
     "text": [
      "Appending to Dynamics/v5HM_Equations_Of_Motion.txt\n"
     ]
    }
   ],
   "source": [
    "%%writefile -a $Ccodesdir/v5HM_Equations_Of_Motion.txt\n",
    "Omega = (1/eta)*dHdpphi(m1,m2,r,prstar,pphi,chi1,chi2)"
   ]
  },
  {
   "cell_type": "markdown",
   "id": "9bbbbb72",
   "metadata": {},
   "source": [
    "# Step : $\\Omega_{\\rm circ}$\n",
    "\n",
    "The circular frequency is given by:\n",
    "\n",
    "$$\n",
    "\\Omega = \\frac{1}{\\nu}\\left.\\frac{\\partial H}{\\partial p_{\\phi}}\\right|_{p_{r_{*}} = 0}\n",
    "$$"
   ]
  },
  {
   "cell_type": "code",
   "execution_count": 5,
   "id": "92f481cc",
   "metadata": {},
   "outputs": [
    {
     "name": "stdout",
     "output_type": "stream",
     "text": [
      "Appending to Dynamics/v5HM_Equations_Of_Motion.txt\n"
     ]
    }
   ],
   "source": [
    "%%writefile -a $Ccodesdir/v5HM_Equations_Of_Motion.txt\n",
    "Omega_circ = (1/eta)*dHdpphi_preq0(m1,m2,r,pphi,chi1,chi2)"
   ]
  },
  {
   "cell_type": "markdown",
   "id": "63dd477a",
   "metadata": {},
   "source": [
    "# Step : $H$, $\\xi$\n",
    "\n",
    "The Hamiltonian and the tortoise parameter are given as the result of the Hamiltonian computation, which in turn is a function of the primitive variables and the input parameters"
   ]
  },
  {
   "cell_type": "code",
   "execution_count": 6,
   "id": "70d65883",
   "metadata": {},
   "outputs": [
    {
     "name": "stdout",
     "output_type": "stream",
     "text": [
      "Appending to Dynamics/v5HM_Equations_Of_Motion.txt\n"
     ]
    }
   ],
   "source": [
    "%%writefile -a $Ccodesdir/v5HM_Equations_Of_Motion.txt\n",
    "H , xi = Hamiltonian(m1,m2,r,prstar,pphi,chi1,chi2)"
   ]
  },
  {
   "cell_type": "markdown",
   "id": "aaa5a239",
   "metadata": {},
   "source": [
    "# Step : $\\eta$\n",
    "\n",
    "The symmetric mass ratio is defined as follows\n",
    "\n",
    "$$\n",
    "\\eta = \\frac{m_{1}m_{2}}{(m_1 + m_2)^2}\n",
    "$$"
   ]
  },
  {
   "cell_type": "code",
   "execution_count": 7,
   "id": "23bbe64c",
   "metadata": {},
   "outputs": [
    {
     "name": "stdout",
     "output_type": "stream",
     "text": [
      "Appending to Dynamics/v5HM_Equations_Of_Motion.txt\n"
     ]
    }
   ],
   "source": [
    "%%writefile -a $Ccodesdir/v5HM_Equations_Of_Motion.txt\n",
    "eta = m1*m2/(m1 + m2)/(m1 + m2)"
   ]
  },
  {
   "cell_type": "markdown",
   "id": "4325a343-4d0d-4012-b378-29769316b44a",
   "metadata": {
    "tags": []
   },
   "source": [
    "# Step : Write into python function"
   ]
  },
  {
   "cell_type": "code",
   "execution_count": 8,
   "id": "29fdaa23-7226-46c8-985f-ee688bc96d0d",
   "metadata": {},
   "outputs": [
    {
     "name": "stderr",
     "output_type": "stream",
     "text": [
      "C:\\Users\\sidmahesh\\Documents\\GitHub\\bob\\V5\\Radiation\\v5HM_Flux_unoptimized.py:16: RuntimeWarning: invalid value encountered in scalar power\n",
      "  vomega = Omega**(np.divide(1,3))\n",
      "C:\\Users\\sidmahesh\\Documents\\GitHub\\bob\\V5\\Radiation\\v5HM_Flux_unoptimized.py:17: RuntimeWarning: invalid value encountered in scalar power\n",
      "  vphi = Omega*(Omega_circ**(-np.divide(2,3)))\n",
      "C:\\Users\\sidmahesh\\Documents\\GitHub\\bob\\V5\\Radiation\\v5HM_Flux_unoptimized.py:348: RuntimeWarning: invalid value encountered in log\n",
      "  T55 = gamma(5 + 1 - 2*1j*khat5)*np.exp(np.pi*khat5)*(np.exp(2*1j*khat5*np.log(2*5*Omega*r0)))/factorial(5)\n",
      "C:\\Users\\sidmahesh\\Documents\\GitHub\\bob\\V5\\Radiation\\v5HM_Flux_unoptimized.py:352: RuntimeWarning: invalid value encountered in log\n",
      "  T43 = gamma(4 + 1 - 2*1j*khat3)*np.exp(np.pi*khat3)*(np.exp(2*1j*khat3*np.log(2*3*Omega*r0)))/factorial(4)\n",
      "C:\\Users\\sidmahesh\\Documents\\GitHub\\bob\\V5\\Radiation\\v5HM_Flux_unoptimized.py:354: RuntimeWarning: invalid value encountered in log\n",
      "  T44 = gamma(4 + 1 - 2*1j*khat4)*np.exp(np.pi*khat4)*(np.exp(2*1j*khat4*np.log(2*4*Omega*r0)))/factorial(4)\n",
      "C:\\Users\\sidmahesh\\Documents\\GitHub\\bob\\V5\\Radiation\\v5HM_Flux_unoptimized.py:357: RuntimeWarning: invalid value encountered in log\n",
      "  T32 = gamma(3 + 1 - 2*1j*khat2)*np.exp(np.pi*khat2)*(np.exp(2*1j*khat2*np.log(2*2*Omega*r0)))/factorial(3)\n",
      "C:\\Users\\sidmahesh\\Documents\\GitHub\\bob\\V5\\Radiation\\v5HM_Flux_unoptimized.py:359: RuntimeWarning: invalid value encountered in log\n",
      "  T33 = gamma(3 + 1 - 2*1j*khat3)*np.exp(np.pi*khat3)*(np.exp(2*1j*khat3*np.log(2*3*Omega*r0)))/factorial(3)\n",
      "C:\\Users\\sidmahesh\\Documents\\GitHub\\bob\\V5\\Radiation\\v5HM_Flux_unoptimized.py:361: RuntimeWarning: invalid value encountered in log\n",
      "  T21 = gamma(2 + 1 - 2*1j*khat1)*np.exp(np.pi*khat1)*(np.exp(2*1j*khat1*np.log(2*1*Omega*r0)))/factorial(2)\n",
      "C:\\Users\\sidmahesh\\Documents\\GitHub\\bob\\V5\\Radiation\\v5HM_Flux_unoptimized.py:363: RuntimeWarning: invalid value encountered in log\n",
      "  T22 = gamma(2 + 1 - 2*1j*khat2)*np.exp(np.pi*khat2)*(np.exp(2*1j*khat2*np.log(2*2*Omega*r0)))/factorial(2)\n",
      "C:\\Users\\sidmahesh\\Documents\\GitHub\\bob\\V5\\Radiation\\pyseobnr_waveforms.py:1238: RuntimeWarning: invalid value encountered in scalar power\n",
      "  v = omega**(1./3)\n",
      "C:\\Users\\sidmahesh\\Documents\\GitHub\\bob\\V5\\Radiation\\pyseobnr_waveforms.py:1240: RuntimeWarning: invalid value encountered in scalar power\n",
      "  vh = vh3**(1./3)\n",
      "C:\\Users\\sidmahesh\\Documents\\GitHub\\bob\\V5\\Radiation\\pyseobnr_waveforms.py:1251: RuntimeWarning: invalid value encountered in scalar power\n",
      "  v_phi = omega/omega_circ**(2./3)\n",
      "C:\\Users\\sidmahesh\\Documents\\GitHub\\bob\\V5\\Derivatives\\v5HM_Hamiltonian_Derivatives_unoptimized.py:201: RuntimeWarning: invalid value encountered in sqrt\n",
      "  Hreal = np.sqrt(1+2*nu*(Heff-1))\n",
      "C:\\Users\\sidmahesh\\Documents\\GitHub\\bob\\V5\\Derivatives\\v5HM_Hamiltonian_Derivatives_unoptimized.py:211: RuntimeWarning: invalid value encountered in sqrt\n",
      "  Hreal_prmpphi_preq0 = Heff_prmpphi_preq0*nu/np.sqrt(nu*(2*Heff - 2) + 1)\n",
      "C:\\Users\\sidmahesh\\Documents\\GitHub\\bob\\V5\\Derivatives\\pyseobnr_derivatives.py:130: RuntimeWarning: invalid value encountered in sqrt\n",
      "  H = M * sqrt(1+2*nu*(Heff-1)) / nu\n",
      "C:\\Users\\sidmahesh\\Documents\\GitHub\\bob\\V5\\Hamiltonian\\v5HM_Hamiltonian_unoptimized.py:31: RuntimeWarning: invalid value encountered in sqrt\n",
      "  Hreal = np.sqrt(1 + 2*nu*(Heff - 1))\n",
      "C:\\Users\\sidmahesh\\Documents\\GitHub\\bob\\V5\\Derivatives\\v5HM_Hamiltonian_Derivatives_unoptimized.py:129: RuntimeWarning: invalid value encountered in sqrt\n",
      "  Hreal = np.sqrt(1+2*nu*(Heff-1))\n",
      "C:\\Users\\sidmahesh\\Documents\\GitHub\\bob\\V5\\Derivatives\\v5HM_Hamiltonian_Derivatives_unoptimized.py:138: RuntimeWarning: invalid value encountered in sqrt\n",
      "  Hreal_prmpphi = Heff_prmpphi*nu/np.sqrt(nu*(2*Heff - 2) + 1)\n",
      "C:\\Users\\sidmahesh\\Documents\\GitHub\\bob\\V5\\Derivatives\\v5HM_Hamiltonian_Derivatives_unoptimized.py:31: RuntimeWarning: invalid value encountered in sqrt\n",
      "  Hreal = np.sqrt(1+2*nu*(Heff-1))\n",
      "C:\\Users\\sidmahesh\\Documents\\GitHub\\bob\\V5\\Derivatives\\v5HM_Hamiltonian_Derivatives_unoptimized.py:53: RuntimeWarning: invalid value encountered in sqrt\n",
      "  Hreal_prmr = Heff_prmr*nu/np.sqrt(nu*(2*Heff - 2) + 1)\n",
      "C:\\Users\\sidmahesh\\Documents\\GitHub\\bob\\V5\\Derivatives\\v5HM_Hamiltonian_Derivatives_unoptimized.py:87: RuntimeWarning: invalid value encountered in sqrt\n",
      "  Hreal = np.sqrt(1+2*nu*(Heff-1))\n",
      "C:\\Users\\sidmahesh\\Documents\\GitHub\\bob\\V5\\Derivatives\\v5HM_Hamiltonian_Derivatives_unoptimized.py:95: RuntimeWarning: invalid value encountered in sqrt\n",
      "  Hreal_prmprstar = Heff_prmprstar*nu/np.sqrt(nu*(2*Heff - 2) + 1)\n"
     ]
    },
    {
     "name": "stdout",
     "output_type": "stream",
     "text": [
      "Of total  100000  comparisons, for r\n",
      " number of cases with relative error (total)  greater than allowed:  1 \n",
      " number of cases with relative error O(10)    greater than allowed:  0 \n",
      " number of cases with relative error O(100)   greater than allowed:  0 \n",
      " number of cases with relative error O(1000+) greater than allowed:  0\n",
      "Of total  100000  comparisons, for phi\n",
      " number of cases with relative error (total)  greater than allowed:  418 \n",
      " number of cases with relative error O(10)    greater than allowed:  7 \n",
      " number of cases with relative error O(100)   greater than allowed:  0 \n",
      " number of cases with relative error O(1000+) greater than allowed:  0\n",
      "Of total  100000  comparisons, for prstar\n",
      " number of cases with relative error (total)  greater than allowed:  10190 \n",
      " number of cases with relative error O(10)    greater than allowed:  1564 \n",
      " number of cases with relative error O(100)   greater than allowed:  127 \n",
      " number of cases with relative error O(1000+) greater than allowed:  13\n",
      "Of total  100000  comparisons, for pphi\n",
      " number of cases with relative error (total)  greater than allowed:  284 \n",
      " number of cases with relative error O(10)    greater than allowed:  19 \n",
      " number of cases with relative error O(100)   greater than allowed:  0 \n",
      " number of cases with relative error O(1000+) greater than allowed:  0\n"
     ]
    }
   ],
   "source": [
    "with open(os.path.join(Ccodesdir,\"v5HM_Equations_Of_Motion.py\"), \"w\") as output:\n",
    "    output.write(\"import numpy as np\\n\")\n",
    "    output.write(\"from Radiation.v5HM_Flux_unoptimized import v5HM_unoptimized_flux as flux\\n\")\n",
    "    output.write(\"from Derivatives.v5HM_Hamiltonian_Derivatives_unoptimized import v5HM_unoptimized_omega_circ as dHdpphi_preq0\\n\")\n",
    "    output.write(\"from Derivatives.v5HM_Hamiltonian_Derivatives_unoptimized import v5HM_unoptimized_dH_dpphi as dHdpphi\\n\")\n",
    "    output.write(\"from Derivatives.v5HM_Hamiltonian_Derivatives_unoptimized import v5HM_unoptimized_dH_dprstar as dHdprstar\\n\")\n",
    "    output.write(\"from Derivatives.v5HM_Hamiltonian_Derivatives_unoptimized import v5HM_unoptimized_dH_dr as dHdr\\n\")\n",
    "    output.write(\"from Hamiltonian.v5HM_Hamiltonian_unoptimized import v5HM_unoptimized_hamiltonian as Hamiltonian\\n\")\n",
    "    output.write(\"def v5HM_unoptimized_rhs(t,y,m1,m2,chi1,chi2,verbose = False):\\n    r , phi , prstar , pphi = y[0] , y[1] , y[2] , y[3]\\n\")\n",
    "    for line in reversed(list(open(os.path.join(Ccodesdir,\"v5HM_Equations_Of_Motion.txt\"),\"r\"))):\n",
    "        output.write(\"    %s\\n\" % line.rstrip())\n",
    "    output.write(\"    if not verbose:\\n        return np.array([rdot,phidot,prstardot,pphidot])\\n\")\n",
    "    output.write(\"    else:\\n        return np.array([rdot,phidot,prstardot,pphidot]), F_phi, Omega, Omega_circ, xi, dHdr(m1,m2,r,prstar,pphi,chi1,chi2)/eta, eta, prstar,pphi\\n\")\n",
    "\n",
    "import numpy as np\n",
    "from Dynamics.v5HM_Equations_Of_Motion import v5HM_unoptimized_rhs as rhs_bob\n",
    "from Dynamics.pyseobnr_equations_of_motion import get_rhs as rhs_true\n",
    "\n",
    "N = 100000\n",
    "gt_pert_total = [[],[],[],[]]\n",
    "gt_pert_O1 = [[],[],[],[]]\n",
    "gt_pert_O2 = [[],[],[],[]]\n",
    "gt_pert_gtO3 = [[],[],[],[]]\n",
    "rng = np.random.default_rng(seed = 50)\n",
    "eta = rng.random(N)*.25\n",
    "chi1 = 2.*rng.random(N)-1\n",
    "chi2 = 2.*rng.random(N)-1\n",
    "m2 = (1 - np.sqrt(1 - 4*eta))*.5\n",
    "m1 = (1 + np.sqrt(1 - 4*eta))*.5\n",
    "r = rng.random(N)*17. + 3.\n",
    "phi = rng.random(N)*2.*np.pi\n",
    "prstar = rng.random(N)*20. - 10.\n",
    "pphi = rng.random(N)*20. - 10.\n",
    "\n",
    "pert_exponent = 1e-14\n",
    "pert_sign = 2*(rng.integers(0,high = 1,size = N)) - 1\n",
    "pert_mantissa = 3.*rng.random(N) + 1.\n",
    "pert = 1. + pert_sign*pert_mantissa*pert_exponent\n",
    "chi1pert = chi1*pert \n",
    "chi2pert = chi2*pert\n",
    "m2pert = m2*pert\n",
    "m1pert = m1*pert\n",
    "rpert = r*pert\n",
    "phipert = phi*pert\n",
    "prstarpert = prstar*pert\n",
    "pphipert = pphi*pert\n",
    "\n",
    "\n",
    "disagrmt_max = [0,0,0,0]\n",
    "disagrmt_max_index = [0,0,0,0]\n",
    "nans = []\n",
    "def E_rel(a,b):\n",
    "    return np.abs((a - b)/a)\n",
    "\n",
    "for i in range(N):\n",
    "    dyn_bob = rhs_bob(0.,[r[i],phi[i],prstar[i],pphi[i]],m1[i],m2[i],chi1[i],chi2[i])\n",
    "    dyn_true = rhs_true(0.,[r[i],phi[i],prstar[i],pphi[i]],chi1[i],chi2[i],m1[i],m2[i])\n",
    "    dyn_pert = rhs_true(0.,[rpert[i],phipert[i],prstarpert[i],pphipert[i]],chi1pert[i],chi2pert[i],m1pert[i],m2pert[i])\n",
    "    e_rels = [E_rel(dyn_bob[0],dyn_true[0]),E_rel(dyn_bob[1],dyn_true[1]),E_rel(dyn_bob[2],dyn_true[2]),E_rel(dyn_bob[3],dyn_true[3])]\n",
    "    tols = [E_rel(dyn_pert[0],dyn_true[0]),E_rel(dyn_pert[1],dyn_true[1]),E_rel(dyn_pert[2],dyn_true[2]),E_rel(dyn_pert[3],dyn_true[3])]\n",
    "    for j in range(4):\n",
    "        e_rel , tol = e_rels[j] , tols[j]\n",
    "        if (e_rel>tol and tol > 0):\n",
    "            gt_pert_total[j].append(i)\n",
    "            if e_rel/tol > disagrmt_max[j]:\n",
    "                disagrmt_max[j] = e_rel/tol\n",
    "                disagrmt_max_index[j] = i\n",
    "            if e_rel > 1000*tol:\n",
    "                gt_pert_gtO3[j].append(i)\n",
    "            elif e_rel > 100*tol:\n",
    "                gt_pert_O2[j].append(i)\n",
    "            elif e_rel > 10*tol:\n",
    "                gt_pert_O1[j].append(i)\n",
    "dvar = ['r','phi','prstar','pphi']\n",
    "for j in range(4):\n",
    "    print(\"Of total \",str(N),\" comparisons, for %s\\n\"%dvar[j],\n",
    "          \"number of cases with relative error (total)  greater than allowed: \",len(gt_pert_total[j]),\"\\n\",\n",
    "          \"number of cases with relative error O(10)    greater than allowed: \",len(gt_pert_O1[j]),\"\\n\",\n",
    "          \"number of cases with relative error O(100)   greater than allowed: \",len(gt_pert_O2[j]),\"\\n\",\n",
    "          \"number of cases with relative error O(1000+) greater than allowed: \",len(gt_pert_gtO3[j]))\n",
    "#results = np.array([eta,r,phi,prstar,pphi,chi1,chi2])\n",
    "#analytics = np.array([[len(gt_pert_total[0]),len(gt_pert_total[1]),len(gt_pert_total[2]),len(gt_pert_total[2])],[len(gt_pert_O1[0]),len(gt_pert_O1[1]),len(gt_pert_O1[2])],[len(gt_pert_O2[0]),len(gt_pert_O2[1]),len(gt_pert_O2[2])],[len(gt_pert_gtO3[0]),len(gt_pert_gtO3[1]),len(gt_pert_gtO3[2])],disagrmt_max,disagrmt_max_index])\n",
    "#np.savetxt(os.path.join(outputdir,\"eom_validation_results.dat\"),results)\n",
    "#np.savetxt(os.path.join(outputdir,\"eom_validation_analytics.dat\"),results)\n",
    "exit(1)"
   ]
  },
  {
   "cell_type": "markdown",
   "id": "e0388803-453f-48f4-a6fc-3303749cc6e6",
   "metadata": {},
   "source": [
    "# Step : The Stopping Conditions\n",
    "\n",
    "The stopping conditions are given in lines 152-178 of [integrate_ode.py](https://git.ligo.org/waveforms/software/pyseobnr/-/blob/main/pyseobnr/eob/dynamics/integrate_ode.py) of pyseobnr.\n",
    "\n",
    "There are several termination conditions that are checked when $r < 6$:\n",
    "\n",
    "- Peak orbital frequency : If the value of $\\Omega$ has decreased since the last timestep.\n",
    "- Positive radial velocity: If $\\dot{r} > 0$\n",
    "- Positive radial momentum derivative: If $\\dot{p_{r_{*}}} > 0$\n",
    "- Radius reaches threshold: If the radius reaches some threshold radius (conditionally defined by numerical relativity and the Kerr metric last stable circular orbit)\n",
    "- Unphysical circular frequency at low $r$'s: if $r < 3M$ and $\\Omega_{\\rm circ} > 1$\n",
    "\n",
    "We will define each of these conditions below."
   ]
  },
  {
   "cell_type": "markdown",
   "id": "d87ee9fb-63f2-4e93-adcc-c1ce0e8117d8",
   "metadata": {},
   "source": [
    "# Step : The First Integration\n",
    "\n",
    "In the first integration, the initial conditions are evaluated and the trajectory is evolved until the above specified stopping conditions are accomplished. \n",
    "pyseobnr uses `pygsl_lite` to access gsl's `odeiv2` tools. We use the equivalent `scipy.odeint` tools.\n",
    "\n",
    "We use an adaptive Runge-Kutta 45 method with relative tolerance `1e-11` and absolute tolerance `1e-12`"
   ]
  },
  {
   "cell_type": "code",
   "execution_count": 9,
   "id": "d243f98a-4f98-4413-9c74-f31c681de194",
   "metadata": {
    "tags": []
   },
   "outputs": [],
   "source": [
    "validation = False\n",
    "if validation:\n",
    "    import time\n",
    "    from Dynamics.v5HM_Initial_Conditions import v5HM_initial_conditions as IC\n",
    "    from scipy.integrate import solve_ivp\n",
    "    event = lambda t,y,m1,m2,chi1,chi2 : y[0] - 6.0\n",
    "    event.terminal = True\n",
    "\n",
    "    M = 33.\n",
    "    q = 23./10.\n",
    "    S1 = 0.5\n",
    "    S2 = 0.9\n",
    "    f = 20\n",
    "    m1 = q/(1 + q)\n",
    "    m2 = 1/(1+q)\n",
    "    event = lambda t,y,a,b,c,d : y[0] - 6.\n",
    "    event.terminal = True\n",
    "    yinit = IC(M,q,S1,S2,f)\n",
    "    sol_bob = solve_ivp(rhs_bob,[0.,20000.],yinit,method = 'RK45',events = [event], args = (m1,m2,S1,S2), rtol = 1e-11, atol = 1e-12)\n",
    "    sol_true = solve_ivp(rhs_true,[0.,20000.],yinit,method = 'RK45',events = [event], args = (S1,S2,m1,m2), rtol = 1e-11, atol = 1e-12)"
   ]
  },
  {
   "cell_type": "code",
   "execution_count": 10,
   "id": "ab92a2b8-d585-4b9a-9319-d25338972b28",
   "metadata": {
    "tags": []
   },
   "outputs": [],
   "source": [
    "if validation:\n",
    "    import matplotlib.pyplot as plt\n",
    "    import numpy as np\n",
    "    t_bob = sol_bob.t\n",
    "    t_true = sol_true.t\n",
    "    r_bob = sol_bob.y[0]\n",
    "    r_true = sol_true.y[0]\n",
    "    plt.scatter(t_bob,r_bob,s = 1,label = 'ours',color = 'black')\n",
    "    plt.plot(t_true,r_true,label = 'pyseobnr')\n",
    "    plt.xlabel(r'time($M$)')\n",
    "    plt.ylabel(r'$r$($M$)')\n",
    "    plt.legend()\n",
    "    plt.savefig('first_trajectory_eta_1_chi1_5_chi2_9.png',dpi = 300)"
   ]
  },
  {
   "cell_type": "markdown",
   "id": "10ffa7e9",
   "metadata": {},
   "source": [
    "# Step : Implement the pyseobnr integration routine\n",
    "\n",
    "In these sections we will document pyseobnr's exact method for integrating the trajectory."
   ]
  },
  {
   "cell_type": "markdown",
   "id": "e9c0bd63",
   "metadata": {},
   "source": [
    "# Step : Declare the gsl ODE solver specifications\n",
    "\n",
    "In this section, we document the steps needed to set up the ODE solver in gsl. For more details on gsl's `odeiv2` package see [this tutorial](https://www.gnu.org/software/gsl/doc/html/ode-initval.html)\n",
    "pyseobnr uses the following specifications:\n",
    "\n",
    "- step type : rk8pd (Dormand-Prince adaptive 8th order Runge-Kutta method)\n",
    "- absolute tolerance : `1e-11`\n",
    "- relative tolerance : `1e-12`"
   ]
  },
  {
   "cell_type": "code",
   "execution_count": 11,
   "id": "9d040db1",
   "metadata": {},
   "outputs": [
    {
     "name": "stdout",
     "output_type": "stream",
     "text": [
      "Overwriting Dynamics/v5HM_Integrator.txt\n"
     ]
    }
   ],
   "source": [
    "%%writefile $Ccodesdir/v5HM_Integrator.txt\n",
    "\n",
    "sys = odeiv2.system(v5HM_unoptimized_RHS,None,4,[m1,m2,chi1,chi2])\n",
    "T = odeiv2.step_rk8pd\n",
    "s = odeiv2.pygsl_lite_odeiv2_step(T,4)\n",
    "atol = 1e-11\n",
    "rtol = 1e-12\n",
    "c = odeiv2.pygsl_lite_odeiv2_control(atol,rtol,a_y = 1,a_dydt = 1,None)\n",
    "e = odeiv2.pygsl_lite_odeiv2_evolve(4)"
   ]
  },
  {
   "cell_type": "markdown",
   "id": "b83a2312",
   "metadata": {},
   "source": [
    "# Step : Compute initial conditions and step-size\n",
    "\n",
    "In this step we will call the initial conditions routine and use the stepsize choice given in line 117 of pyseobnr's [integrate_ode.py](https://git.ligo.org/waveforms/software/pyseobnr/-/blob/main/pyseobnr/eob/dynamics/integrate_ode.py):\n",
    "\n",
    "$$\n",
    "h = \\frac{2\\pi}{5\\Omega_0 }\n",
    "$$\n",
    "\n",
    "Where, $\\Omega_0$ is the starting frequency in geometric units.\n",
    "\n",
    "$\\Omega_0$ is given by:\n",
    "\n",
    "$$\n",
    "\\Omega_0 = MM_\\odot\\pi f\n",
    "$$\n",
    "\n",
    "Where, $M$ is the total mass in solar masses and $f$ is the starting gravitational wave frequency."
   ]
  },
  {
   "cell_type": "code",
   "execution_count": 12,
   "id": "58052d58",
   "metadata": {},
   "outputs": [
    {
     "name": "stdout",
     "output_type": "stream",
     "text": [
      "Appending to Dynamics/v5HM_Integrator.txt\n"
     ]
    }
   ],
   "source": [
    "%%writefile -a $Ccodesdir/v5HM_Integrator.txt\n",
    "\n",
    "y_init = v5HM_unoptimized_initial_conditions(M,q,chi1,chi2,f)\n",
    "Omega_0 = M*4.925491025543575903411922162094833998e-6*sp.pi*f\n",
    "h = 2*sp.pi/5/Omega_0\n",
    "nu = q/(1 + q)/(1 + q)\n",
    "m1 = q/(1 + q)\n",
    "m2 = 1/(1 + q)"
   ]
  },
  {
   "cell_type": "markdown",
   "id": "6ced07e9",
   "metadata": {},
   "source": [
    "# Step : Declare lists to store results as well as stopping condition checks\n",
    "\n",
    "In this step we declare lists to store the primitive variables at each point as well as variables for checking the stopping conditions.\n",
    "\n",
    "Namely, we check for \n",
    "\n",
    "- whether the frequency $\\Omega$ has peaked; the $\\Omega$ from the previous timestep is stored for this purpose\n",
    "- whether the radial momentum $p_{r_{*}}$ has peaked"
   ]
  },
  {
   "cell_type": "code",
   "execution_count": 13,
   "id": "8c9ae004",
   "metadata": {},
   "outputs": [
    {
     "name": "stdout",
     "output_type": "stream",
     "text": [
      "Appending to Dynamics/v5HM_Integrator.txt\n"
     ]
    }
   ],
   "source": [
    "%%writefile -a $Ccodesdir/v5HM_Integrator.txt\n",
    "\n",
    "prims = []\n",
    "times = []\n",
    "omega_previous = Omega_0\n",
    "omega_peak = False\n",
    "prstar_peak = False\n",
    "times.append(0.)\n",
    "prims.append(y_init)"
   ]
  },
  {
   "cell_type": "markdown",
   "id": "dbdee209",
   "metadata": {},
   "source": [
    "# Step : Declare current state and time variables\n",
    "\n",
    "In this step we assign the initial conditions to a state variable `y` and initial time as `t = 0.`."
   ]
  },
  {
   "cell_type": "code",
   "execution_count": 14,
   "id": "5a867476",
   "metadata": {},
   "outputs": [
    {
     "name": "stdout",
     "output_type": "stream",
     "text": [
      "Appending to Dynamics/v5HM_Integrator.txt\n"
     ]
    }
   ],
   "source": [
    "%%writefile -a $Ccodesdir/v5HM_Integrator.txt\n",
    "\n",
    "y = y_init\n",
    "t = 0."
   ]
  },
  {
   "cell_type": "markdown",
   "id": "697c3165",
   "metadata": {},
   "source": [
    "# Step : Declare provisional final time\n",
    "\n",
    "Pyseobnr sets a provisional end time as `2.e9` (cf line 104 of [integrate_ode.py](https://git.ligo.org/waveforms/software/pyseobnr/-/blob/main/pyseobnr/eob/dynamics/integrate_ode.py)."
   ]
  },
  {
   "cell_type": "code",
   "execution_count": 15,
   "id": "f42eea97",
   "metadata": {},
   "outputs": [
    {
     "name": "stdout",
     "output_type": "stream",
     "text": [
      "Appending to Dynamics/v5HM_Integrator.txt\n"
     ]
    }
   ],
   "source": [
    "%%writefile -a $Ccodesdir/v5HM_Integrator.txt\n",
    "\n",
    "t1 = 2.e9"
   ]
  },
  {
   "cell_type": "markdown",
   "id": "ef3d82c3",
   "metadata": {},
   "source": [
    "# Step : Compute the stopping radius\n",
    "\n",
    "The stopping radius in pyseobnr is defined in the following way, given by lines 316-320 of [SEOBNRv5HM.py\n",
    "](https://git.ligo.org/waveforms/software/pyseobnr/-/blob/main/pyseobnr/models/SEOBNRv5HM.py):\n",
    "\n",
    "$$\n",
    "r_{\\rm stop} =\n",
    "\\bigg\\lbrace\n",
    "    \\begin{array}{lr}\n",
    "        0.98r_{\\rm ISCO} & \\Delta t_{\\rm NR} > 0,\\\\\n",
    "        -1 & \\rm otherwise,\n",
    "    \\end{array}\n",
    "$$\n",
    "\n",
    "where, $r_{\\rm ISCO}$ is the radius of the innermost stable circular orbit of the final merged Kerr black hole. $\\Delta t_{\\rm NR}$ is the difference in time between when the perturbing mass reaches $r_{\\rm ISCO}$ and when the waveform reaches its peak amplitude. \n",
    "\n",
    "We first define $\\Delta t_{\\rm NR}$"
   ]
  },
  {
   "cell_type": "markdown",
   "id": "5d4018e0-6b9e-487e-a472-93d3103e1ba8",
   "metadata": {},
   "source": [
    "# Step : $\\Delta t_{\\rm NR}$\n",
    "\n",
    "$\\Delta t_{\\rm NR}$ is given in Eqs 87-90 of [SEOBNRv5HM](https://dcc.ligo.org/public/0186/T2300060/002/SEOBNRv5HM.pdf):\n",
    "\n",
    "$$\n",
    "\\Delta_t = \\Delta t^{\\rm ns} + \\Delta t^{\\rm s}\n",
    "\\Delta t^{\\rm ns} = \\nu^{10.051322\\nu - 1/5}\\left( 55565.2392\\nu^3 - 9793.17619\\nu^2 - 1056.87385\\nu - 59.62318  \\right) \\\\\n",
    "\\Delta t^{\\rm s} = \\nu^{-1/5}\\left( −6.789139a^{4}_{+} + 5.399623a^{3}_{+} + 6.389756a^{2}_{+}a_{−} − 132.224951a^{2}_{+}\\nu + 49.801644a^{2}_{+} + 8.392389a_{+}a^{2}_{−} +179.569825a_{+}a_{−}\\nu −40.606365a_{+}a_{−} +384.201019a_{+}\\nu^{2} −141.253182a_{+}\\nu + 17.571013a_{+} −16.905686a^{2}_{−}\\nu+7.234106a^{2}_{−} +144.253396a_{−}\\nu^{2} −90.192914a_{−}\\nu+14.22031a_{−} \\right)\\\\\n",
    "a_{\\pm} = \\frac{m_1}{M}\\chi_1 \\pm \\frac{m_2}{M}\\chi_2 \n",
    "$$\n",
    "\n",
    "**Note**: There seems to be some discrepancy between the literature and pyseobnr definitions of $\\Delta t_{\\rm NR}$. Particularly, line 444 (aligned spin) and line 1040 (precessing spin) of [SEOBNRv5HM.py](https://git.ligo.org/waveforms/software/pyseobnr/-/blob/main/pyseobnr/models/SEOBNRv5HM.py) use:\n",
    "``t_attach = t_ISCO - self.NR_deltaT`` \n",
    "whereas, Equation 41 of [SEOBNRv5HM](https://dcc.ligo.org/public/0186/T2300060/002/SEOBNRv5HM.pdf), and Equation 42 of the [Main SEOBNRv5 paper](https://journals.aps.org/prd/pdf/10.1103/PhysRevD.108.124035) indicate:\n",
    "\n",
    "$$\n",
    "t^{22}_{\\rm peak} = t_{\\rm ISCO} + \\Delta t^{22}_{\\rm ISCO}\n",
    "$$\n",
    "\n",
    "There is no discrepancy in sign between the values quoted in literature and in the code so the discrepancy is only in the literature.\n",
    "\n",
    "Also note, when we use precession, we must choose values for $a_{\\pm}$ as ${\\bf l}_{N}\\cdot{\\bf a}_{\\pm}$ evaluated when the perturber is at $r = 10M$. Why? Elaboration to follow once we begin work on precession."
   ]
  },
  {
   "cell_type": "code",
   "execution_count": 16,
   "id": "ae2044a7-a6fe-4b94-a0ee-0789d5c59af6",
   "metadata": {},
   "outputs": [
    {
     "name": "stdout",
     "output_type": "stream",
     "text": [
      "Appending to Dynamics/v5HM_Integrator.txt\n"
     ]
    }
   ],
   "source": [
    "%%writefile -a $Ccodesdir/v5HM_Integrator.txt\n",
    "\n",
    "ap = chi1*m1 + chi2*m2\n",
    "am = chi1*m1 - chi2*m2\n",
    "Deltatns = nu ** (-1. / 5. + 10.0513217 * nu) * (-59.62318 + -1056.87385 * nu - 9793.17619 * nu ** 2 + 55565.2392 * nu ** 3)\n",
    "Deltats = nu ** (-1. / 5.) * ( 8.39238879807543 * am ** 2 * ap - 16.9056858928167 * am ** 2 * nu + 7.23410583477034 * am ** 2 + 6.38975598319936 * am * ap ** 2 + 179.569824846781 * am * ap * nu - 40.6063653476775 * am * ap + 144.253395844761 * am * nu ** 2 - 90.1929138487509 * am * nu + 14.2203101910927 * am - 6.78913884987037 * ap ** 4 + 5.39962303470497 * ap ** 3 - 132.224950777226 * ap ** 2 * nu + 49.8016443361381 * ap ** 2 + 384.201018794943 * ap * nu ** 2 - 141.253181790353 * ap * nu + 17.5710132409988 * ap)\n",
    "Deltat = Deltatns + Deltats"
   ]
  },
  {
   "cell_type": "markdown",
   "id": "894bc0dc",
   "metadata": {},
   "source": [
    "# Step : $r_{\\rm ISCO}^{\\rm eff}$\n",
    "\n",
    "To define the Kerr ISCO, we also require the spin parameter $a_{f}$ of the final Kerr black hole. In this case, SEOBNRv5 uses the numerical estimate provided by Equations 12-13 of [Hoffman, et. al.](https://iopscience.iop.org/article/10.3847/2041-8205/825/2/L19/pdf), hereby HBR2016. to define this, we first require an effective ISCO radius given by Equation 4-6 of HBR2016:\n",
    "$$\n",
    "r_{\\rm ISCO}^{\\rm eff} = 3 + Z_2 - \\frac{a^{\\rm eff}}{|a^{\\rm eff}|}\\sqrt{(3 - Z_1)(3 + Z_1 + 2Z_2)}\\\\\n",
    "Z_2 = \\sqrt{3 a^{\\textrm{eff},2} + Z_1^2}\\\\\n",
    "Z_1 = 1 + (1 - a^{\\text{rm eff},2})^{1/3}\\left[ (1 + a^{\\rm eff})^{1/3} + (1 - a^{\\rm eff})^{1/3} \\right]\\\\\n",
    "a^{\\rm eff} = a_{\\rm tot} + \\xi\\nu(\\chi_1 + \\chi_2)\\\\\n",
    "a_{\\rm tot} = m_1^2\\chi_1 + m_2^2\\chi_2\n",
    "\\xi = 0.474046\n",
    "$$\n",
    "\n",
    "Where, the value of $\\xi$ is taken from Table 1 of HBR2016 with the choice of $n_M = 3, n_J = 4$ as evident in line 130 of [postadiabatic_C.pyx](https://git.ligo.org/waveforms/software/pyseobnr/-/blob/main/pyseobnr/eob/dynamics/postadiabatic_C.pyx) of the pyseobnr code."
   ]
  },
  {
   "cell_type": "code",
   "execution_count": 17,
   "id": "6a97cd41",
   "metadata": {},
   "outputs": [
    {
     "name": "stdout",
     "output_type": "stream",
     "text": [
      "Appending to Dynamics/v5HM_Integrator.txt\n"
     ]
    }
   ],
   "source": [
    "%%writefile -a $Ccodesdir/v5HM_Integrator.txt\n",
    "atot = m1*m1*chi1 + m2*m2*chi2\n",
    "aeff = atot + .474046*nu*(chi1 + chi2)\n",
    "Z1eff = 1 + (np.cbrt(1 - aeff*aeff))*(np.cbrt(1 + aeff) + np.cbrt(1 - aeff))\n",
    "Z2eff = np.sqrt(3*aeff*aeff + Z1eff*Z1eff)\n",
    "rISCOeff = 3 + Z2eff - np.sign(aeff)*sqrt((3 - Z1eff)*(3 + Z1eff + Z2eff))"
   ]
  },
  {
   "cell_type": "markdown",
   "id": "16fbce29",
   "metadata": {},
   "source": [
    "# Step : $L_{\\rm ISCO}^{\\rm eff}$\n",
    "\n",
    "Following Equations 2-3 of [HBR2016](https://iopscience.iop.org/article/10.3847/2041-8205/825/2/L19/pdf), we define the effective angular momentum:\n",
    "$$\n",
    "L_{\\rm ISCO}^{\\rm eff} = \\frac{2}{3\\sqrt{3}}\\left[ 1 + 2\\sqrt{3r_{\\rm ISCO}^{\\rm eff} - 2} \\right]\n",
    "$$"
   ]
  },
  {
   "cell_type": "code",
   "execution_count": 18,
   "id": "fc72a7b3",
   "metadata": {},
   "outputs": [
    {
     "name": "stdout",
     "output_type": "stream",
     "text": [
      "Appending to Dynamics/v5HM_Integrator.txt\n"
     ]
    }
   ],
   "source": [
    "%%writefile -a $Ccodesdir/v5HM_Integrator.txt\n",
    "LISCOeff = (2/3/np.sqrt(3))*(1 + 2*np.sqrt(3*rISCOeff - 1))"
   ]
  },
  {
   "cell_type": "markdown",
   "id": "52725b24",
   "metadata": {},
   "source": [
    "# Step : $E_{\\rm ISCO}^{\\rm eff}$\n",
    "\n",
    "Following Equations 2-3 of [HBR2016](https://iopscience.iop.org/article/10.3847/2041-8205/825/2/L19/pdf), we define the effective binding energy:\n",
    "$$\n",
    "E_{\\rm ISCO}^{\\rm eff} = \\sqrt{1 - \\frac{2}{3r_{\\rm ISCO}^{\\rm eff}}}\n",
    "$$"
   ]
  },
  {
   "cell_type": "code",
   "execution_count": 19,
   "id": "de8c812a",
   "metadata": {},
   "outputs": [
    {
     "name": "stdout",
     "output_type": "stream",
     "text": [
      "Appending to Dynamics/v5HM_Integrator.txt\n"
     ]
    }
   ],
   "source": [
    "%%writefile -a $Ccodesdir/v5HM_Integrator.txt\n",
    "EISCOeff = np.sqrt(1 - 2/(3*rISCOeff))"
   ]
  },
  {
   "cell_type": "markdown",
   "id": "a636ad54",
   "metadata": {},
   "source": [
    "# Step : $l$\n",
    "\n",
    "Following Equations 13 of [HBR2016](https://iopscience.iop.org/article/10.3847/2041-8205/825/2/L19/pdf), we define the angular momentum contribution as:\n",
    "$$\n",
    "l = L_{\\rm ISCO}^{\\rm eff} - 2a_{\\rm tot}(E_{\\rm ISCO}^{\\rm eff} - 1) + \\sum_{i = 0}^{3}\\sum_{j = 0}^{4} k_{ij}\\nu^{2 + i}a^{\\textrm{eff},j}\n",
    "$$\n",
    "\n",
    "Where, the NR coefficients $k_{ij}$ are given in Table 1 of HBR2016 for the choice of $n_M = 3, n_J = 4$.\n",
    "\n",
    "$$\n",
    "k_{00} = -5.97723\\\\\n",
    "k_{01} = 3.39221\\\\\n",
    "k_{02} = 4.48865\\\\\n",
    "k_{03} = -5.77101\\\\\n",
    "k_{04} = -13.0459\\\\\n",
    "k_{10} = 35.1278\\\\\n",
    "k_{11} = -72.9336\\\\\n",
    "k_{12} = -86.0036\\\\\n",
    "k_{13} = 93.7371\\\\\n",
    "k_{14} = 200.975\\\\\n",
    "k_{20} = -146.822\\\\\n",
    "k_{21} = 387.184\\\\\n",
    "k_{22} = 447.009\\\\\n",
    "k_{23} = -467.383\\\\\n",
    "k_{24} = -884.339\\\\\n",
    "k_{30} = 223.911\\\\\n",
    "k_{31} = -648.502\\\\\n",
    "k_{32} = -697.177\\\\\n",
    "k_{33} = 753.738\\\\\n",
    "k_{34} = 1166.89\n",
    "$$"
   ]
  },
  {
   "cell_type": "code",
   "execution_count": 20,
   "id": "e2e48c44",
   "metadata": {},
   "outputs": [
    {
     "name": "stdout",
     "output_type": "stream",
     "text": [
      "Appending to Dynamics/v5HM_Integrator.txt\n"
     ]
    }
   ],
   "source": [
    "%%writefile -a $Ccodesdir/v5HM_Integrator.txt\n",
    "k = np.zeros([4,5])\n",
    "k[0,0] = -5.97723\n",
    "k[0,1] = 3.39221\n",
    "k[0,2] = 4.48865\n",
    "k[0,3] = -5.77101\n",
    "k[0,4] = -13.0459\n",
    "k[1,0] = 35.1278\n",
    "k[1,1] = -72.9336\n",
    "k[1,2] = -86.0036\n",
    "k[1,3] = 93.7371\n",
    "k[1,4] = 200.975\n",
    "k[2,0] = -146.822\n",
    "k[2,1] = 387.184\n",
    "k[2,2] = 447.009\n",
    "k[2,3] = -467.383\n",
    "k[2,4] = -884.339\n",
    "k[3,0] = 223.911\n",
    "k[3,1] = -648.502\n",
    "k[3,2] = -697.177\n",
    "k[3,3] = 753.738\n",
    "k[3,4] = 1166.89\n",
    "\n",
    "NRfactor = 0\n",
    "nu_2plusi = nu*nu\n",
    "for i in range(len(k)):\n",
    "    atot_j = 1 \n",
    "    for j in range(len(k[i])):\n",
    "        NRfactor += k[i,j]*nu_2pi*aeff_j\n",
    "        atot_j *= atot\n",
    "    nu_2plusi *= nu\n",
    "ell = np.abs(LISCOeff - 2*atot*(EISCOeff - 1) + NRfactor)"
   ]
  },
  {
   "cell_type": "markdown",
   "id": "445ad6b9",
   "metadata": {},
   "source": [
    "# Step : $a_{f}$\n",
    "\n",
    "Following Equations 13 of [HBR2016](https://iopscience.iop.org/article/10.3847/2041-8205/825/2/L19/pdf), we define the final spin:\n",
    "$$\n",
    "a_{f} = a_{\\rm tot} + \\nu l\n",
    "$$"
   ]
  },
  {
   "cell_type": "code",
   "execution_count": 21,
   "id": "fd53e10b",
   "metadata": {},
   "outputs": [
    {
     "name": "stdout",
     "output_type": "stream",
     "text": [
      "Appending to Dynamics/v5HM_Integrator.txt\n"
     ]
    }
   ],
   "source": [
    "%%writefile -a $Ccodesdir/v5HM_Integrator.txt\n",
    "af = atot + nu*l"
   ]
  },
  {
   "cell_type": "markdown",
   "id": "b0517248",
   "metadata": {},
   "source": [
    "# Step : $r_{\\rm ISCO}$\n",
    "\n",
    "Equations 4-6 of [HBR2016](https://iopscience.iop.org/article/10.3847/2041-8205/825/2/L19/pdf) are a general formula for the radius of the ISCO. In this case, we use the final spin calculated above:\n",
    "$$\n",
    "r_{\\rm ISCO} = 3 + Z_2 - \\frac{a_{f}}{|a_{f}|}\\sqrt{(3 - Z_1)(3 + Z_1 + 2Z_2)}\\\\\n",
    "Z_2 = \\sqrt{3 a_{f}^{2} + Z_1^2}\\\\\n",
    "Z_1 = 1 + (1 - a_{f}^{2})^{1/3}\\left[ (1 + a_{f})^{1/3} + (1 - a_{f})^{1/3} \\right]\\\\\n",
    "$$"
   ]
  },
  {
   "cell_type": "code",
   "execution_count": 22,
   "id": "c3223350",
   "metadata": {},
   "outputs": [
    {
     "name": "stdout",
     "output_type": "stream",
     "text": [
      "Appending to Dynamics/v5HM_Integrator.txt\n"
     ]
    }
   ],
   "source": [
    "%%writefile -a $Ccodesdir/v5HM_Integrator.txt\n",
    "Z1 = 1 + (np.cbrt(1 - af*af))*(np.cbrt(1 + af) + np.cbrt(1 - af))\n",
    "Z2 = np.sqrt(3*af*af + Z1*Z1)\n",
    "rISCO = 3 + Z2 - np.sign(af)*sqrt((3 - Z1f)*(3 + Z1f + Z2f))"
   ]
  },
  {
   "cell_type": "markdown",
   "id": "d04c7ce1",
   "metadata": {},
   "source": [
    "# Step : $r_{\\rm stop}$\n",
    "\n",
    "As defined earlier, the stopping radius is given by:\n",
    "\n",
    "$$\n",
    "r_{\\rm stop} =\n",
    "\\bigg\\lbrace\n",
    "    \\begin{array}{lr}\n",
    "        0.98r_{\\rm ISCO} & \\Delta t_{\\rm NR} > 0,\\\\\n",
    "        -1 & \\rm otherwise,\n",
    "    \\end{array}\n",
    "$$\n"
   ]
  },
  {
   "cell_type": "code",
   "execution_count": 23,
   "id": "40767689",
   "metadata": {},
   "outputs": [
    {
     "name": "stdout",
     "output_type": "stream",
     "text": [
      "Appending to Dynamics/v5HM_Integrator.txt\n"
     ]
    }
   ],
   "source": [
    "%%writefile -a $Ccodesdir/v5HM_Integrator.txt\n",
    "rstop = -1\n",
    "if Deltat > 0:\n",
    "    rstop = 0.98*rISCO"
   ]
  },
  {
   "cell_type": "markdown",
   "id": "67a3ac70",
   "metadata": {},
   "source": [
    "# Step : $M_{f}$\n",
    "\n",
    "In accordance with pyseobnr, cf line 178 of [compute_hlms.py](https://git.ligo.org/waveforms/software/pyseobnr/-/blob/main/pyseobnr/eob/waveform/compute_hlms.py), [Jimenez-Forteza et. al](https://arxiv.org/pdf/1611.00332.pdf), hereby UIB2016, is used to compute the mass of the final black hole. From the discussion above Equation 4 and Equation 28 of UIB2016 we find:\n",
    "\n",
    "$$\n",
    "M_f = 1 - E_{\\rm rad}\\\\\n",
    "E_{\\rm rad} \\equiv E_{\\rm rad}(\\nu,\\hat{S},\\Delta\\chi) = E_{\\rm rad}(\\nu,\\hat{S}) + \\Delta E_{\\rm rad}(\\eta,\\hat{S},\\Delta\\chi) \n",
    "$$\n",
    "Where, $E_{\\rm rad}$ is the energy radiated through gravitational waves.\n",
    "We derive all the quantities and build the final mass."
   ]
  },
  {
   "cell_type": "markdown",
   "id": "abfcf6cc",
   "metadata": {},
   "source": [
    "# Step : $\\hat{S}$\n",
    "\n",
    "We define $\\hat{S}$ as per Equation 1 of [UIB2016](https://arxiv.org/pdf/1611.00332.pdf) as:\n",
    "\n",
    "$$\n",
    "\\hat{S} = \\frac{m_1^2\\chi_1 + m_2^2\\chi_2}{m_1^2 + m_2^2}\n",
    "$$"
   ]
  },
  {
   "cell_type": "code",
   "execution_count": 24,
   "id": "d4183ce7",
   "metadata": {},
   "outputs": [
    {
     "name": "stdout",
     "output_type": "stream",
     "text": [
      "Appending to Dynamics/v5HM_Integrator.txt\n"
     ]
    }
   ],
   "source": [
    "%%writefile -a $Ccodesdir/v5HM_Integrator.txt\n",
    "Shat = (m1*m1*chi1 + m2*m2*chi2)/(m1*m1 + m2*m2)\n",
    "Shat2 = Shat*Shat\n",
    "Shat3 = Shat2*Shat\n",
    "Shat4 = Shat3*Shat\n",
    "nu2 = nu*nu\n",
    "nu3 = nu2*nu\n",
    "nu4 = nu3*nu\n",
    "sqrt1m4nu = np.sqrt(1. - 4.*nu)"
   ]
  },
  {
   "cell_type": "markdown",
   "id": "aa6c50dd",
   "metadata": {},
   "source": [
    "# Step : $\\Delta \\chi$\n",
    "\n",
    "We define $\\Delta \\chi$ as per the discussion below Equation 1 of [UIB2016](https://arxiv.org/pdf/1611.00332.pdf):\n",
    "\n",
    "$$\n",
    "\\Delta\\chi = \\chi_1-\\chi_2\n",
    "$$"
   ]
  },
  {
   "cell_type": "code",
   "execution_count": 25,
   "id": "a7b8d738",
   "metadata": {},
   "outputs": [
    {
     "name": "stdout",
     "output_type": "stream",
     "text": [
      "Appending to Dynamics/v5HM_Integrator.txt\n"
     ]
    }
   ],
   "source": [
    "%%writefile -a $Ccodesdir/v5HM_Integrator.txt\n",
    "Deltachi = chi1-chi2\n",
    "Deltachi2 = Deltachi*Deltachi"
   ]
  },
  {
   "cell_type": "markdown",
   "id": "571e1710",
   "metadata": {},
   "source": [
    "# Step : $E_{\\rm rad}(\\nu,0)$\n",
    "\n",
    "We define the non-spinning fit to the radiated energy as per Equation 21 of [UIB2016](https://arxiv.org/pdf/1611.00332.pdf):\n",
    "\n",
    "$$\n",
    "E_{\\rm rad}(\\nu,\\hat{S} = 0) = a_4\\nu^4 + a_3\\nu^3 + a_2\\nu^2 + \\left(1 - \\frac{2\\sqrt{2}}{3}\\right)\\nu \n",
    "$$\n",
    "\n",
    "Where, the coefficients are given in this [arXiv ancilliary file](https://arxiv.org/src/1611.00332v2/anc/FinalStateUIB2016_suppl_Erad_coeffs.txt):\n",
    "\n",
    "$$\n",
    "a_2 = 0.5609904135313374\\\\\n",
    "a_3 = -0.84667563764404 \\\\\n",
    "a_4 = 3.145145224278187 \n",
    "$$"
   ]
  },
  {
   "cell_type": "code",
   "execution_count": 26,
   "id": "55c61467",
   "metadata": {},
   "outputs": [
    {
     "name": "stdout",
     "output_type": "stream",
     "text": [
      "Appending to Dynamics/v5HM_Integrator.txt\n"
     ]
    }
   ],
   "source": [
    "%%writefile -a $Ccodesdir/v5HM_Integrator.txt\n",
    "a2 = 0.5609904135313374 \n",
    "a3 = -0.84667563764404\n",
    "a4 = 3.145145224278187\n",
    "Erad_nu_0 = a4*nu4 + a3*nu3 + a2*nu2 + (1. - 2.*np.sqrt(2.)/3.)*nu"
   ]
  },
  {
   "cell_type": "markdown",
   "id": "f66bc5c2",
   "metadata": {},
   "source": [
    "# Step : $E_{\\rm rad}(0.25,\\hat{S})$ coefficients\n",
    "\n",
    "Before implementing the spin contributions to the radiated energy, we should implement the modified coefficients. That is, the non-spinning and spinning contributions represent one dimensional fits to numerical relativity data at the higher end of the mass ratio. In order to develop a two dimensional fit in mass ratio and spin as well as to include effects at extreme mass ratio, coefficients for the spinning 1-D fit are modified (cf discussion above Equation 9 of [UIB2016](https://arxiv.org/pdf/1611.00332.pdf)).\n",
    "\n",
    "The coefficients are defined in this [arXiv ancilliary file](https://arxiv.org/src/1611.00332v2/anc/FinalStateUIB2016_suppl_Erad_coeffs.txt).\n",
    "\n",
    "\n",
    "$$\n",
    "b_1 = -0.2091189048177395 \\\\\n",
    "b_2 = -0.19709136361080587 \\\\\n",
    "b_3 = -0.1588185739358418 \\\\\n",
    "b_5 = 2.9852925538232014 \\\\\n",
    "f_{20} = 4.271313308472851 \\\\\n",
    "f_{30} = 31.08987570280556 \\\\\n",
    "f_{50} = 1.5673498395263061 \\\\\n",
    "f_{10} = 1.8083565298668276 \\\\\n",
    "f_{21} = 0. \\\\\n",
    "f_{11} = 15.738082204419655 \\\\\n",
    "f_{31} = -243.6299258830685 \\\\\n",
    "f_{51} = -0.5808669012986468 \\\\\n",
    "f_{j2} = 16 - 16f_{j0} - 4f_{j1} \\\\\n",
    "$$\n",
    "\n",
    "The final coefficients given by Equation 9 of UIB2016:\n",
    "\n",
    "$$\n",
    "b^{\\rm fin}_{i} = b_{i}\\sum{j = 0}^{2} f_{ij}\\nu^j\n",
    "$$"
   ]
  },
  {
   "cell_type": "code",
   "execution_count": 27,
   "id": "48b262ac",
   "metadata": {},
   "outputs": [
    {
     "name": "stdout",
     "output_type": "stream",
     "text": [
      "Appending to Dynamics/v5HM_Integrator.txt\n"
     ]
    }
   ],
   "source": [
    "%%writefile -a $Ccodesdir/v5HM_Integrator.txt\n",
    "b1 = -0.2091189048177395\n",
    "b2 = -0.19709136361080587\n",
    "b3 = -0.1588185739358418\n",
    "b5 = 2.9852925538232014\n",
    "f20 = 4.271313308472851\n",
    "f30 = 31.08987570280556\n",
    "f50 = 1.5673498395263061\n",
    "f10 = 1.8083565298668276\n",
    "f21 = 0.\n",
    "d10 = -0.09803730445895877\n",
    "d11 = -3.2283713377939134\n",
    "d20 = 0.01118530335431078\n",
    "d30 = -0.01978238971523653\n",
    "d31 = -4.91667749015812\n",
    "f11 = 15.738082204419655\n",
    "f31 = -243.6299258830685\n",
    "f51 = -0.5808669012986468\n",
    "bfin1 = b1*(f10 + f11*nu + (16. - 16.*f10 - 4.*f11)*nu2)\n",
    "bfin2 = b2*(f20 + f21*nu + (16. - 16.*f20 - 4.*f21)*nu2)\n",
    "bfin3 = b3*(f30 + f31*nu + (16. - 16.*f30 - 4.*f31)*nu2)\n",
    "bfin5 = b5*(f50 + f51*nu + (16. - 16.*f50 - 4.*f51)*nu2)"
   ]
  },
  {
   "cell_type": "markdown",
   "id": "a618e930",
   "metadata": {},
   "source": [
    "# Step : $E_{\\rm rad}(0.25,\\hat{S})$\n",
    "\n",
    "We define the spin contributions fit to the radiated energy as per Equation 22 of [UIB2016](https://arxiv.org/pdf/1611.00332.pdf):\n",
    "\n",
    "$$\n",
    "E_{\\rm rad}(\\nu = 0.25,\\hat{S}) = \\frac{1 + 0.346b_1^{\\rm fin}\\hat{S} + 0.211b_2^{\\rm fin}\\hat{S}^2 + 0.128b_3^{\\rm fin}\\hat{S}^3}{1 - 0.212b_5^{\\rm fin}\\hat{S}} \n",
    "$$\n",
    "\n",
    "Note: We do not use the multiplicative factor of 0.0484161 as it will be normalized away in the final fit (cf Equation 23 of UIB2016)"
   ]
  },
  {
   "cell_type": "code",
   "execution_count": 28,
   "id": "4290741b",
   "metadata": {},
   "outputs": [
    {
     "name": "stdout",
     "output_type": "stream",
     "text": [
      "Appending to Dynamics/v5HM_Integrator.txt\n"
     ]
    }
   ],
   "source": [
    "%%writefile -a $Ccodesdir/v5HM_Integrator.txt\n",
    "Erad_eq_Shat = (0.128*bfin3*Shat3 + 0.211*bfin2*Shat2 + 0.346*bfin1*Shat + 1.)/(1 - 0.212*bfin5*Shat)"
   ]
  },
  {
   "cell_type": "markdown",
   "id": "669b6fb3",
   "metadata": {},
   "source": [
    "# Step : $E_{\\rm rad}(\\nu,\\hat{S})$\n",
    "\n",
    "We define the 2-D fit to the radiated energy as per Equation 23 of [UIB2016](https://arxiv.org/pdf/1611.00332.pdf):\n",
    "\n",
    "$$\n",
    "E_{\\rm rad}(\\nu,\\hat{S}) = E_{\\rm rad}(\\nu,0)E_{\\rm rad}(0.25,\\hat{S})\n",
    "$$"
   ]
  },
  {
   "cell_type": "code",
   "execution_count": 29,
   "id": "4695a848",
   "metadata": {},
   "outputs": [
    {
     "name": "stdout",
     "output_type": "stream",
     "text": [
      "Appending to Dynamics/v5HM_Integrator.txt\n"
     ]
    }
   ],
   "source": [
    "%%writefile -a $Ccodesdir/v5HM_Integrator.txt\n",
    "Erad_nu_Shat = Erad_nu_0*Erad_eq_Shat"
   ]
  },
  {
   "cell_type": "markdown",
   "id": "196e0d17",
   "metadata": {},
   "source": [
    "# Step : $\\Delta E_{\\rm rad}(\\nu,\\hat{S},\\Delta\\chi)$\n",
    "\n",
    "We define the 3-D correction to the radiated energy as per Equation 27 of [UIB2016](https://arxiv.org/pdf/1611.00332.pdf) and the discussion above.:\n",
    "\n",
    "$$\n",
    "\\Delta E_{\\rm rad}(\\nu,\\hat{S},\\Delta \\chi) = A_1\\Delta \\chi + A_2 \\Delta\\chi^2 + A_3\\hat{S}\\Delta\\chi\\\\\n",
    "A_1 = d_{10}\\sqrt{1 - 4\\nu}\\nu^2(d_{11}\\nu + 1) \\\\\n",
    "A_2 = d_{20}\\nu^3 \\\\\n",
    "A_3 = d_{30}\\sqrt{1 - 4\\nu}\\nu(d_{31}\\nu + 1) \\\\\n",
    "$$\n",
    "\n",
    "The coefficients are given in this [arXiv ancilliary file](https://arxiv.org/src/1611.00332v2/anc/FinalStateUIB2016_suppl_Erad_coeffs.txt):\n",
    "\n",
    "$$\n",
    "d_{10} = -0.09803730445895877 \\\\\n",
    "d_{11} = -3.2283713377939134 \\\\\n",
    "d_{20} = 0.01118530335431078 \\\\\n",
    "d_{30} = -0.01978238971523653 \\\\\n",
    "d_{31} = -4.91667749015812 \\\\\n",
    "$$"
   ]
  },
  {
   "cell_type": "code",
   "execution_count": 30,
   "id": "0234254d",
   "metadata": {},
   "outputs": [
    {
     "name": "stdout",
     "output_type": "stream",
     "text": [
      "Appending to Dynamics/v5HM_Integrator.txt\n"
     ]
    }
   ],
   "source": [
    "%%writefile -a $Ccodesdir/v5HM_Integrator.txt\n",
    "d10 = -0.09803730445895877\n",
    "d11 = -3.2283713377939134\n",
    "d20 = 0.01118530335431078\n",
    "d30 = -0.01978238971523653\n",
    "d31 = -4.91667749015812\n",
    "A_1 = d10*sqrt1m4nu*nu2*(d11*nu+1)\n",
    "A_2 = d20*nu3\n",
    "A_3 = d30*sqrt1m4nu*nu*(d31*nu + 1)\n",
    "DeltaErad_nu_Shat_Deltachi = A1*Deltachi + A2*Deltachi2 + A3*Deltachi*shat"
   ]
  },
  {
   "cell_type": "markdown",
   "id": "0a3e6fa1",
   "metadata": {},
   "source": [
    "# Step : $M_f$\n",
    "\n",
    "We define the full fit to the radiated energy as per Equation 28 of [UIB2016](https://arxiv.org/pdf/1611.00332.pdf) and thus, the final mass as per Equation 4 of the same:\n",
    "\n",
    "$$\n",
    "E_{\\rm rad}(\\nu,\\hat{S},\\Delta\\chi) = E_{\\rm rad}(\\nu,\\hat{S}) + \\Delta E_{\\rm rad}(\\nu,\\hat{S},\\Delta\\chi)\\\\\n",
    "M_f = 1 - E_{\\rm rad}(\\nu,\\hat{S},\\Delta \\chi)\n",
    "$$"
   ]
  },
  {
   "cell_type": "code",
   "execution_count": null,
   "id": "76a1b89a",
   "metadata": {},
   "outputs": [],
   "source": [
    "%%writefile -a $Ccodesdir/v5HM_Integrator.txt\n",
    "M_f = 1 - (Erad_nu_Shat + DeltaErad_nu_Shat_Deltachi)"
   ]
  },
  {
   "cell_type": "markdown",
   "id": "9566d6b6",
   "metadata": {},
   "source": [
    "# Step : Begin the integration loop and take a step\n",
    "\n",
    "In this step, we begin the integration loop and perform the first step, appending the results."
   ]
  },
  {
   "cell_type": "code",
   "execution_count": null,
   "id": "226898a8",
   "metadata": {},
   "outputs": [],
   "source": [
    "%%writefile -a $Ccodesdir/v5HM_Integrator.txt\n",
    "\n",
    "while t < t1:\n",
    "    status, t, h, y = e.apply(c,s,sys,t,t1,h,y)\n",
    "    if status != errno.GSL_SUCCESS:\n",
    "            print(\"break status\", status)\n",
    "            break\n",
    "    prims.append(y)\n",
    "    times.append(t)\n",
    "    "
   ]
  },
  {
   "cell_type": "markdown",
   "id": "dcef0b18",
   "metadata": {},
   "source": [
    "# Step : Do a stopping condition check\n",
    "\n",
    "In this step, we check for the stopping conditions. First, we check is the radius is less than 6M."
   ]
  },
  {
   "cell_type": "code",
   "execution_count": null,
   "id": "fa79c842",
   "metadata": {},
   "outputs": [],
   "source": [
    "%%writefile -a $Ccodesdir/v5HM_Integrator.txt\n",
    "\n",
    "    if r < = 6:"
   ]
  },
  {
   "cell_type": "markdown",
   "id": "25c0f937",
   "metadata": {},
   "source": [
    "# Step : Compute the right hand sides\n",
    "\n",
    "In this step, we compute the right hand sides in order to do the stopping condition checks."
   ]
  },
  {
   "cell_type": "code",
   "execution_count": null,
   "id": "3de996b3",
   "metadata": {},
   "outputs": [],
   "source": [
    "%%writefile -a $Ccodesdir/v5HM_Integrator.txt\n",
    "\n",
    "        rhs = v5HM_unoptimized_RHS(t,y,m1,m2,chi1,chi2)\n",
    "        drdt = rhs[0]\n",
    "        dphidt = rhs[1]\n",
    "        dprstardt = rhs[2]"
   ]
  },
  {
   "cell_type": "markdown",
   "id": "f89acc37",
   "metadata": {},
   "source": [
    "# Step : Check for a frequency peak"
   ]
  },
  {
   "cell_type": "code",
   "execution_count": null,
   "id": "16018c47",
   "metadata": {},
   "outputs": [],
   "source": [
    "%%writefile -a $Ccodesdir/v5HM_Integrator.txt\n",
    "\n",
    "        if dphidt < omega_previous:\n",
    "            omega_peak = True\n",
    "            break"
   ]
  },
  {
   "cell_type": "markdown",
   "id": "b78c0705",
   "metadata": {},
   "source": [
    "# Step : Check for a positive radial derivative"
   ]
  },
  {
   "cell_type": "code",
   "execution_count": null,
   "id": "bc1c8387",
   "metadata": {},
   "outputs": [],
   "source": [
    "%%writefile -a $Ccodesdir/v5HM_Integrator.txt\n",
    "\n",
    "        if drdt > 0:\n",
    "            break"
   ]
  },
  {
   "cell_type": "markdown",
   "id": "ee1ee275",
   "metadata": {},
   "source": [
    "# Step : Check for a positive radial momentum derivative"
   ]
  },
  {
   "cell_type": "code",
   "execution_count": null,
   "id": "6b5206b1",
   "metadata": {},
   "outputs": [],
   "source": [
    "%%writefile -a $Ccodesdir/v5HM_Integrator.txt\n",
    "\n",
    "        if dprdt > 0:\n",
    "            prstar_peak = True\n",
    "            break"
   ]
  },
  {
   "cell_type": "markdown",
   "id": "61357909",
   "metadata": {},
   "source": [
    "# Step : "
   ]
  },
  {
   "cell_type": "code",
   "execution_count": null,
   "id": "7081122a",
   "metadata": {},
   "outputs": [],
   "source": []
  }
 ],
 "metadata": {
  "kernelspec": {
   "display_name": "Python 3 (ipykernel)",
   "language": "python",
   "name": "python3"
  },
  "language_info": {
   "codemirror_mode": {
    "name": "ipython",
    "version": 3
   },
   "file_extension": ".py",
   "mimetype": "text/x-python",
   "name": "python",
   "nbconvert_exporter": "python",
   "pygments_lexer": "ipython3",
   "version": "3.11.5"
  }
 },
 "nbformat": 4,
 "nbformat_minor": 5
}
