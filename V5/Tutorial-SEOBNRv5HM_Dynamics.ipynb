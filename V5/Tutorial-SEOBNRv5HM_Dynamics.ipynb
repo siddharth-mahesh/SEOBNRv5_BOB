{
 "cells": [
  {
   "cell_type": "markdown",
   "id": "8d4f7f05-657f-4de1-b494-3f8843eba02c",
   "metadata": {},
   "source": [
    "# The Final Trajectory\n",
    "\n",
    "In order to compute the dynamics in SEOBNRv5HM, we will need to implement the corresponding equations of motion and a numerical integration routine.\n",
    "\n",
    "The equations of motion require as inputs:\n",
    "- The masses $m_{1,2}$ in normalized masses, i.e $m_1 + m_2 = 1$.\n",
    "- The spins $\\chi_1$, and $\\chi_2$ of the binary in dimensionless units.\n",
    "- The values of the primitive variables $(r,\\phi,p_{r_*},p_{\\phi})$.\n",
    "It then computes:\n",
    "- The partial derivatives of the Hamiltonian w.r.t the positions, $\\tfrac{\\partial H}{\\partial r}$ and momenta $\\tfrac{\\partial H}{\\partial p_{(r_*,\\phi)}}$.\n",
    "- The tortoise parameter $\\xi$.\n",
    "- The Hamiltonian $H$, the circular frequency $\\Omega_{\\rm circ}$ that are then used to solve for the flux $F_{\\phi}$\n",
    "And returns the time derivative of each of the primitive variables given by Hamilton's equations of motion as well as the prescription for the radiation-reaction.\n",
    "\n",
    "The numerical integration routine is split into two parts\n",
    "- An initial sparsely sampled integration that stops at given stopping conditions\n",
    "- A finely-sampled interpolation of the initial integration from some stepback time to the stopping conditions to calculate the Non-Quasi-Circular (NQC) Coefficients\n",
    "\n",
    "In this notebook, we will generate three files:\n",
    "- The set of expressions needed to generate the equations of motions\n",
    "- The numerical routines needed to generate the trajectory\n",
    "\n",
    "Finally, the numerical integration requires as inputs:\n",
    "- The initial conditions, documented in the initial conditions routine\n",
    "- The stopping conditions, documented in this notebook\n",
    "- All other inputs needed for the equations of motion "
   ]
  },
  {
   "cell_type": "code",
   "execution_count": 1,
   "id": "964be92e",
   "metadata": {},
   "outputs": [],
   "source": [
    "import sys,os#Add sys to get cmdline_helper from NRPy top directory; remove this line and next when debugged\n",
    "sys.path.append('../')\n",
    "import cmdline_helper as cmd     # NRPy+: Multi-platform Python command-line interface\n",
    "\n",
    "# Create C code output directory:\n",
    "Ccodesdir = \"Dynamics\"\n",
    "# Then create an output directory in case it does not exist\n",
    "cmd.mkdir(Ccodesdir)"
   ]
  },
  {
   "cell_type": "markdown",
   "id": "5cb7fffe-a746-4407-8e92-dc7e2866c60e",
   "metadata": {
    "tags": []
   },
   "source": [
    "# Step : The Equations of Motions\n",
    "\n",
    "The equations of motion are given by:\n",
    "\n",
    "\\begin{equation*}\n",
    "\\dot{r} = \\frac{1}{\\nu}\\xi \\frac{\\partial H}{\\partial p_{r_{*}}}\\\\\n",
    "\\dot{\\phi} = \\Omega\\\\\n",
    "\\dot{p}_{r_*} = \\frac{1}{\\nu}\\left(-\\xi \\frac{\\partial H}{\\partial r} + \\frac{ p_{ r_{*} }F_{\\phi} }{ p_{\\phi} }\\right)\\\\\n",
    "\\dot{p}_{\\phi} = \\frac{1}{\\nu}F_{\\phi}\n",
    "\\end{equation*}\n",
    "\n",
    "Where, $\\nu$ is the symmetric mass ratio, $F_{\\phi}$ is the gravitational wave flux, $\\frac{\\partial H}{\\partial \\zeta}$ is the partial derivative of the Hamiltonian, $H$, with respect to the primitive variable $\\zeta = \\{r,\\phi,p_{r_{*}},p_\\phi\\}$.  "
   ]
  },
  {
   "cell_type": "code",
   "execution_count": 2,
   "id": "608b99cd",
   "metadata": {},
   "outputs": [
    {
     "name": "stdout",
     "output_type": "stream",
     "text": [
      "Overwriting Dynamics/v5HM_Equations_Of_Motion.txt\n"
     ]
    }
   ],
   "source": [
    "%%writefile $Ccodesdir/v5HM_Equations_Of_Motion.txt\n",
    "rdot = (xi/eta)*dHdprstar(m1,m2,r,prstar,pphi,chi1,chi2)\n",
    "phidot = Omega\n",
    "prstardot = (1/eta)*(-xi*dHdr(m1,m2,r,prstar,pphi,chi1,chi2) + prstar*F_phi/pphi)\n",
    "pphidot = F_phi/eta"
   ]
  },
  {
   "cell_type": "markdown",
   "id": "8c4bf6b6",
   "metadata": {},
   "source": [
    "# Step : $F_{\\phi}$\n",
    "\n",
    "The gravitational wave flux is given as a function of the primitive variables $\\{r,\\phi,p_{r_{*}},p_{\\phi}\\}$, the masses $\\{m_1,m_2\\}$, the spins $\\{\\chi_{1},\\chi_{2}\\}$, the rotational frequency $\\Omega$, the circular frequency $\\Omega_{\\rm circ}$, and the Hamiltonian $H$.\n",
    "\n",
    "$$\n",
    "F_{\\phi} \\equiv F_{\\phi}(m_1,m_2,r,p_{r_{*}},p_{\\phi},\\chi_1,\\chi_2,\\Omega,\\Omega_{\\rm circ},H)\n",
    "$$"
   ]
  },
  {
   "cell_type": "code",
   "execution_count": 3,
   "id": "56a73009",
   "metadata": {},
   "outputs": [
    {
     "name": "stdout",
     "output_type": "stream",
     "text": [
      "Appending to Dynamics/v5HM_Equations_Of_Motion.txt\n"
     ]
    }
   ],
   "source": [
    "%%writefile -a $Ccodesdir/v5HM_Equations_Of_Motion.txt\n",
    "F_phi = flux(m1, m2, r, phi, prstar, pphi, chi1, chi2,Omega,Omega_circ,H)/Omega"
   ]
  },
  {
   "cell_type": "markdown",
   "id": "0e2110ab",
   "metadata": {},
   "source": [
    "# Step : $\\Omega$\n",
    "\n",
    "The rotational frequency is given by:\n",
    "\n",
    "$$\n",
    "\\Omega = \\frac{1}{\\nu}\\frac{\\partial H}{\\partial p_{\\phi}}\n",
    "$$"
   ]
  },
  {
   "cell_type": "code",
   "execution_count": 4,
   "id": "6a7d3cf5",
   "metadata": {},
   "outputs": [
    {
     "name": "stdout",
     "output_type": "stream",
     "text": [
      "Appending to Dynamics/v5HM_Equations_Of_Motion.txt\n"
     ]
    }
   ],
   "source": [
    "%%writefile -a $Ccodesdir/v5HM_Equations_Of_Motion.txt\n",
    "Omega = (1/eta)*dHdpphi(m1,m2,r,prstar,pphi,chi1,chi2)"
   ]
  },
  {
   "cell_type": "markdown",
   "id": "9bbbbb72",
   "metadata": {},
   "source": [
    "# Step : $\\Omega_{\\rm circ}$\n",
    "\n",
    "The circular frequency is given by:\n",
    "\n",
    "$$\n",
    "\\Omega = \\frac{1}{\\nu}\\left.\\frac{\\partial H}{\\partial p_{\\phi}}\\right|_{p_{r_{*}} = 0}\n",
    "$$"
   ]
  },
  {
   "cell_type": "code",
   "execution_count": 5,
   "id": "92f481cc",
   "metadata": {},
   "outputs": [
    {
     "name": "stdout",
     "output_type": "stream",
     "text": [
      "Appending to Dynamics/v5HM_Equations_Of_Motion.txt\n"
     ]
    }
   ],
   "source": [
    "%%writefile -a $Ccodesdir/v5HM_Equations_Of_Motion.txt\n",
    "Omega_circ = (1/eta)*dHdpphi_preq0(m1,m2,r,pphi,chi1,chi2)"
   ]
  },
  {
   "cell_type": "markdown",
   "id": "63dd477a",
   "metadata": {},
   "source": [
    "# Step : $H$, $\\xi$\n",
    "\n",
    "The Hamiltonian and the tortoise parameter are given as the result of the Hamiltonian computation, which in turn is a function of the primitive variables and the input parameters"
   ]
  },
  {
   "cell_type": "code",
   "execution_count": 6,
   "id": "70d65883",
   "metadata": {},
   "outputs": [
    {
     "name": "stdout",
     "output_type": "stream",
     "text": [
      "Appending to Dynamics/v5HM_Equations_Of_Motion.txt\n"
     ]
    }
   ],
   "source": [
    "%%writefile -a $Ccodesdir/v5HM_Equations_Of_Motion.txt\n",
    "H , xi = Hamiltonian(m1,m2,r,prstar,pphi,chi1,chi2)"
   ]
  },
  {
   "cell_type": "markdown",
   "id": "aaa5a239",
   "metadata": {},
   "source": [
    "# Step : $\\eta$\n",
    "\n",
    "The symmetric mass ratio is defined as follows\n",
    "\n",
    "$$\n",
    "\\eta = \\frac{m_{1}m_{2}}{(m_1 + m_2)^2}\n",
    "$$"
   ]
  },
  {
   "cell_type": "code",
   "execution_count": 7,
   "id": "23bbe64c",
   "metadata": {},
   "outputs": [
    {
     "name": "stdout",
     "output_type": "stream",
     "text": [
      "Appending to Dynamics/v5HM_Equations_Of_Motion.txt\n"
     ]
    }
   ],
   "source": [
    "%%writefile -a $Ccodesdir/v5HM_Equations_Of_Motion.txt\n",
    "eta = m1*m2/(m1 + m2)/(m1 + m2)"
   ]
  },
  {
   "cell_type": "markdown",
   "id": "4325a343-4d0d-4012-b378-29769316b44a",
   "metadata": {
    "tags": []
   },
   "source": [
    "# Step : Write into python function"
   ]
  },
  {
   "cell_type": "code",
   "execution_count": 8,
   "id": "29fdaa23-7226-46c8-985f-ee688bc96d0d",
   "metadata": {},
   "outputs": [],
   "source": [
    "with open(os.path.join(Ccodesdir,\"v5HM_Equations_Of_Motion.py\"), \"w\") as output:\n",
    "    output.write(\"import numpy as np\\n\")\n",
    "    output.write(\"from Radiation.v5HM_Flux_unoptimized import v5HM_unoptimized_flux as flux\\n\")\n",
    "    output.write(\"from Derivatives.v5HM_Hamiltonian_Derivatives_unoptimized import v5HM_unoptimized_omega_circ as dHdpphi_preq0\\n\")\n",
    "    output.write(\"from Derivatives.v5HM_Hamiltonian_Derivatives_unoptimized import v5HM_unoptimized_dH_dpphi as dHdpphi\\n\")\n",
    "    output.write(\"from Derivatives.v5HM_Hamiltonian_Derivatives_unoptimized import v5HM_unoptimized_dH_dprstar as dHdprstar\\n\")\n",
    "    output.write(\"from Derivatives.v5HM_Hamiltonian_Derivatives_unoptimized import v5HM_unoptimized_dH_dr as dHdr\\n\")\n",
    "    output.write(\"from Hamiltonian.v5HM_Hamiltonian_unoptimized import v5HM_unoptimized_hamiltonian as Hamiltonian\\n\")\n",
    "    output.write(\"def v5HM_unoptimized_rhs(t,y,params,verbose = False):\\n    r , phi , prstar , pphi = y[0] , y[1] , y[2] , y[3]\\n    m1 , m2 , chi1 , chi2 = params[0] , params[1] , params[2] , params[3]\\n\")\n",
    "    for line in reversed(list(open(os.path.join(Ccodesdir,\"v5HM_Equations_Of_Motion.txt\"),\"r\"))):\n",
    "        output.write(\"    %s\\n\" % line.rstrip())\n",
    "    output.write(\"    if not verbose:\\n        return np.array([rdot,phidot,prstardot,pphidot])\\n\")\n",
    "    output.write(\"    else:\\n        return np.array([rdot,phidot,prstardot,pphidot]), F_phi, Omega, Omega_circ, xi, dHdr(m1,m2,r,prstar,pphi,chi1,chi2)/eta, eta, prstar,pphi\\n\")\n",
    "\n",
    "Validation = False\n",
    "if Validation:\n",
    "    import numpy as np\n",
    "    from Dynamics.v5HM_Equations_Of_Motion import v5HM_unoptimized_rhs as rhs_bob\n",
    "    from Dynamics.pyseobnr_equations_of_motion import get_rhs as rhs_true\n",
    "\n",
    "    N = 100000\n",
    "    gt_pert_total = [[],[],[],[]]\n",
    "    gt_pert_O1 = [[],[],[],[]]\n",
    "    gt_pert_O2 = [[],[],[],[]]\n",
    "    gt_pert_gtO3 = [[],[],[],[]]\n",
    "    rng = np.random.default_rng(seed = 50)\n",
    "    eta = rng.random(N)*.25\n",
    "    chi1 = 2.*rng.random(N)-1\n",
    "    chi2 = 2.*rng.random(N)-1\n",
    "    m2 = (1 - np.sqrt(1 - 4*eta))*.5\n",
    "    m1 = (1 + np.sqrt(1 - 4*eta))*.5\n",
    "    r = rng.random(N)*17. + 3.\n",
    "    phi = rng.random(N)*2.*np.pi\n",
    "    prstar = rng.random(N)*20. - 10.\n",
    "    pphi = rng.random(N)*20. - 10.\n",
    "\n",
    "    pert_exponent = 1e-14\n",
    "    pert_sign = 2*(rng.integers(0,high = 1,size = N)) - 1\n",
    "    pert_mantissa = 3.*rng.random(N) + 1.\n",
    "    pert = 1. + pert_sign*pert_mantissa*pert_exponent\n",
    "    chi1pert = chi1*pert \n",
    "    chi2pert = chi2*pert\n",
    "    m2pert = m2*pert\n",
    "    m1pert = m1*pert\n",
    "    rpert = r*pert\n",
    "    phipert = phi*pert\n",
    "    prstarpert = prstar*pert\n",
    "    pphipert = pphi*pert\n",
    "\n",
    "\n",
    "    disagrmt_max = [0,0,0,0]\n",
    "    disagrmt_max_index = [0,0,0,0]\n",
    "    nans = []\n",
    "    def E_rel(a,b):\n",
    "        return np.abs((a - b)/a)\n",
    "\n",
    "    for i in range(N):\n",
    "        dyn_bob = rhs_bob(0.,[r[i],phi[i],prstar[i],pphi[i]],m1[i],m2[i],chi1[i],chi2[i])\n",
    "        dyn_true = rhs_true(0.,[r[i],phi[i],prstar[i],pphi[i]],chi1[i],chi2[i],m1[i],m2[i])\n",
    "        dyn_pert = rhs_true(0.,[rpert[i],phipert[i],prstarpert[i],pphipert[i]],chi1pert[i],chi2pert[i],m1pert[i],m2pert[i])\n",
    "        e_rels = [E_rel(dyn_bob[0],dyn_true[0]),E_rel(dyn_bob[1],dyn_true[1]),E_rel(dyn_bob[2],dyn_true[2]),E_rel(dyn_bob[3],dyn_true[3])]\n",
    "        tols = [E_rel(dyn_pert[0],dyn_true[0]),E_rel(dyn_pert[1],dyn_true[1]),E_rel(dyn_pert[2],dyn_true[2]),E_rel(dyn_pert[3],dyn_true[3])]\n",
    "        for j in range(4):\n",
    "            e_rel , tol = e_rels[j] , tols[j]\n",
    "            if (e_rel>tol and tol > 0):\n",
    "                gt_pert_total[j].append(i)\n",
    "                if e_rel/tol > disagrmt_max[j]:\n",
    "                    disagrmt_max[j] = e_rel/tol\n",
    "                    disagrmt_max_index[j] = i\n",
    "                if e_rel > 1000*tol:\n",
    "                    gt_pert_gtO3[j].append(i)\n",
    "                elif e_rel > 100*tol:\n",
    "                    gt_pert_O2[j].append(i)\n",
    "                elif e_rel > 10*tol:\n",
    "                    gt_pert_O1[j].append(i)\n",
    "    dvar = ['r','phi','prstar','pphi']\n",
    "    for j in range(4):\n",
    "        print(\"Of total \",str(N),\" comparisons, for %s\\n\"%dvar[j],\n",
    "              \"number of cases with relative error (total)  greater than allowed: \",len(gt_pert_total[j]),\"\\n\",\n",
    "              \"number of cases with relative error O(10)    greater than allowed: \",len(gt_pert_O1[j]),\"\\n\",\n",
    "              \"number of cases with relative error O(100)   greater than allowed: \",len(gt_pert_O2[j]),\"\\n\",\n",
    "              \"number of cases with relative error O(1000+) greater than allowed: \",len(gt_pert_gtO3[j]))\n",
    "    #results = np.array([eta,r,phi,prstar,pphi,chi1,chi2])\n",
    "    #analytics = np.array([[len(gt_pert_total[0]),len(gt_pert_total[1]),len(gt_pert_total[2]),len(gt_pert_total[2])],[len(gt_pert_O1[0]),len(gt_pert_O1[1]),len(gt_pert_O1[2])],[len(gt_pert_O2[0]),len(gt_pert_O2[1]),len(gt_pert_O2[2])],[len(gt_pert_gtO3[0]),len(gt_pert_gtO3[1]),len(gt_pert_gtO3[2])],disagrmt_max,disagrmt_max_index])\n",
    "    #np.savetxt(os.path.join(outputdir,\"eom_validation_results.dat\"),results)\n",
    "    #np.savetxt(os.path.join(outputdir,\"eom_validation_analytics.dat\"),results)\n",
    "    exit(1)"
   ]
  },
  {
   "cell_type": "code",
   "execution_count": null,
   "id": "bb068acc-f008-47cd-aa8b-ce21d0dbdc38",
   "metadata": {},
   "outputs": [],
   "source": []
  },
  {
   "cell_type": "markdown",
   "id": "d87ee9fb-63f2-4e93-adcc-c1ce0e8117d8",
   "metadata": {},
   "source": [
    "# Step : The First Integration\n",
    "\n",
    "In the first integration, the initial conditions are evaluated and the trajectory is evolved until the above specified stopping conditions are accomplished. \n",
    "pyseobnr uses `pygsl_lite` to access gsl's `odeiv2` tools. We use the equivalent `scipy.odeint` tools.\n",
    "\n",
    "We use an adaptive Runge-Kutta 45 method with relative tolerance `1e-11` and absolute tolerance `1e-12`"
   ]
  },
  {
   "cell_type": "code",
   "execution_count": 9,
   "id": "d243f98a-4f98-4413-9c74-f31c681de194",
   "metadata": {
    "tags": []
   },
   "outputs": [],
   "source": [
    "validation = False\n",
    "if validation:\n",
    "    import time\n",
    "    from Dynamics.v5HM_Initial_Conditions import v5HM_initial_conditions as IC\n",
    "    from scipy.integrate import solve_ivp\n",
    "    event = lambda t,y,m1,m2,chi1,chi2 : y[0] - 6.0\n",
    "    event.terminal = True\n",
    "\n",
    "    M = 33.\n",
    "    q = 23./10.\n",
    "    S1 = 0.5\n",
    "    S2 = 0.9\n",
    "    f = 20\n",
    "    m1 = q/(1 + q)\n",
    "    m2 = 1/(1+q)\n",
    "    event = lambda t,y,a,b,c,d : y[0] - 6.\n",
    "    event.terminal = True\n",
    "    yinit = IC(M,q,S1,S2,f)\n",
    "    sol_bob = solve_ivp(rhs_bob,[0.,20000.],yinit,method = 'RK45',events = [event], args = (m1,m2,S1,S2), rtol = 1e-11, atol = 1e-12)\n",
    "    sol_true = solve_ivp(rhs_true,[0.,20000.],yinit,method = 'RK45',events = [event], args = (S1,S2,m1,m2), rtol = 1e-11, atol = 1e-12)"
   ]
  },
  {
   "cell_type": "code",
   "execution_count": 10,
   "id": "ab92a2b8-d585-4b9a-9319-d25338972b28",
   "metadata": {
    "tags": []
   },
   "outputs": [],
   "source": [
    "if validation:\n",
    "    import matplotlib.pyplot as plt\n",
    "    import numpy as np\n",
    "    t_bob = sol_bob.t\n",
    "    t_true = sol_true.t\n",
    "    r_bob = sol_bob.y[0]\n",
    "    r_true = sol_true.y[0]\n",
    "    plt.scatter(t_bob,r_bob,s = 1,label = 'ours',color = 'black')\n",
    "    plt.plot(t_true,r_true,label = 'pyseobnr')\n",
    "    plt.xlabel(r'time($M$)')\n",
    "    plt.ylabel(r'$r$($M$)')\n",
    "    plt.legend()\n",
    "    plt.savefig('first_trajectory_eta_1_chi1_5_chi2_9.png',dpi = 300)"
   ]
  },
  {
   "cell_type": "markdown",
   "id": "10ffa7e9",
   "metadata": {},
   "source": [
    "# Step : Implement the pyseobnr integration routine\n",
    "\n",
    "In these sections we will document pyseobnr's exact method for integrating the trajectory."
   ]
  },
  {
   "cell_type": "markdown",
   "id": "b83a2312",
   "metadata": {},
   "source": [
    "# Step : Compute initial conditions, step-size, and end stage variables\n",
    "\n",
    "In this step we will call the initial conditions routine:"
   ]
  },
  {
   "cell_type": "code",
   "execution_count": 11,
   "id": "58052d58",
   "metadata": {},
   "outputs": [
    {
     "name": "stdout",
     "output_type": "stream",
     "text": [
      "Overwriting Dynamics/v5HM_Integrator.txt\n"
     ]
    }
   ],
   "source": [
    "%%writefile $Ccodesdir/v5HM_Integrator.txt\n",
    "\n",
    "m1,m2,chi1,chi2,y_init,Omega_0,h,rstop,risco,Deltat,af,Mf,h22NR,omega22NR = v5HM_unoptimized_initial_conditions(M,q,chi1,chi2,f)"
   ]
  },
  {
   "cell_type": "markdown",
   "id": "e9c0bd63",
   "metadata": {},
   "source": [
    "# Step : Declare the gsl ODE solver specifications\n",
    "\n",
    "In this section, we document the steps needed to set up the ODE solver in gsl. For more details on gsl's `odeiv2` package see [this tutorial](https://www.gnu.org/software/gsl/doc/html/ode-initval.html)\n",
    "pyseobnr uses the following specifications:\n",
    "\n",
    "- step type : rk8pd (Dormand-Prince adaptive 8th order Runge-Kutta method)\n",
    "- absolute tolerance : `1e-11`\n",
    "- relative tolerance : `1e-12`"
   ]
  },
  {
   "cell_type": "code",
   "execution_count": 12,
   "id": "9d040db1",
   "metadata": {},
   "outputs": [
    {
     "name": "stdout",
     "output_type": "stream",
     "text": [
      "Appending to Dynamics/v5HM_Integrator.txt\n"
     ]
    }
   ],
   "source": [
    "%%writefile -a $Ccodesdir/v5HM_Integrator.txt\n",
    "\n",
    "sys = odeiv2.system(v5HM_unoptimized_rhs,None,4,[m1,m2,chi1,chi2])\n",
    "T = odeiv2.step_rk8pd\n",
    "s = odeiv2.pygsl_lite_odeiv2_step(T,4)\n",
    "atol = 1e-11\n",
    "rtol = 1e-12\n",
    "c = control_y_new(atol,rtol)\n",
    "e = odeiv2.pygsl_lite_odeiv2_evolve(4)"
   ]
  },
  {
   "cell_type": "markdown",
   "id": "6ced07e9",
   "metadata": {},
   "source": [
    "# Step : Declare lists to store results as well as stopping condition checks\n",
    "\n",
    "In this step we declare lists to store the primitive variables at each point as well as variables for checking the stopping conditions.\n",
    "\n",
    "Namely, we check for \n",
    "\n",
    "- whether the frequency $\\Omega$ has peaked; the $\\Omega$ from the previous timestep is stored for this purpose\n",
    "- whether the radial momentum $p_{r_{*}}$ has peaked"
   ]
  },
  {
   "cell_type": "code",
   "execution_count": 13,
   "id": "8c9ae004",
   "metadata": {},
   "outputs": [
    {
     "name": "stdout",
     "output_type": "stream",
     "text": [
      "Appending to Dynamics/v5HM_Integrator.txt\n"
     ]
    }
   ],
   "source": [
    "%%writefile -a $Ccodesdir/v5HM_Integrator.txt\n",
    "\n",
    "prims = []\n",
    "times = []\n",
    "omega_previous = Omega_0\n",
    "omega_peak = False\n",
    "prstar_peak = False\n",
    "times.append(0.)\n",
    "prims.append(y_init)"
   ]
  },
  {
   "cell_type": "markdown",
   "id": "9566d6b6",
   "metadata": {},
   "source": [
    "# Step : Begin the integration loop and take a step\n",
    "\n",
    "In this step, we begin the integration loop and perform the first step, appending the results."
   ]
  },
  {
   "cell_type": "code",
   "execution_count": 14,
   "id": "226898a8",
   "metadata": {},
   "outputs": [
    {
     "name": "stdout",
     "output_type": "stream",
     "text": [
      "Appending to Dynamics/v5HM_Integrator.txt\n"
     ]
    }
   ],
   "source": [
    "%%writefile -a $Ccodesdir/v5HM_Integrator.txt\n",
    "t = times[0]\n",
    "y = prims[0]\n",
    "tmax = 2.0e9\n",
    "while t < tmax:\n",
    "    status, t, h, y = e.apply(c,s,sys,t,tmax,h,y)\n",
    "    if status != errno.GSL_SUCCESS:\n",
    "            print(\"break status\", status)\n",
    "            break\n",
    "    prims.append(y)\n",
    "    times.append(t)\n",
    "    "
   ]
  },
  {
   "cell_type": "markdown",
   "id": "dcef0b18",
   "metadata": {},
   "source": [
    "# Step : The Stopping Conditions\n",
    "\n",
    "The stopping conditions are given in lines 152-178 of [integrate_ode.py](https://git.ligo.org/waveforms/software/pyseobnr/-/blob/main/pyseobnr/eob/dynamics/integrate_ode.py) of pyseobnr.\n",
    "\n",
    "There are several termination conditions that are checked when $r < 6$:\n",
    "\n",
    "- Peak orbital frequency : If the value of $\\Omega$ has decreased since the last timestep.\n",
    "- Positive radial velocity: If $\\dot{r} > 0$\n",
    "- Positive radial momentum derivative: If $\\dot{p_{r_{*}}} > 0$\n",
    "- Radius reaches threshold: If the radius reaches some threshold radius (conditionally defined by numerical relativity and the Kerr metric last stable circular orbit)\n",
    "- Unphysical circular frequency at low $r$'s: if $r < 3M$ and $\\Omega_{\\rm circ} > 1$\n",
    "\n",
    "We will define each of these conditions below."
   ]
  },
  {
   "cell_type": "code",
   "execution_count": 15,
   "id": "fa79c842",
   "metadata": {},
   "outputs": [
    {
     "name": "stdout",
     "output_type": "stream",
     "text": [
      "Appending to Dynamics/v5HM_Integrator.txt\n"
     ]
    }
   ],
   "source": [
    "%%writefile -a $Ccodesdir/v5HM_Integrator.txt\n",
    "    r = y[0]\n",
    "    pphi = y[3]\n",
    "    if r <= 6:\n",
    "        rhs = v5HM_unoptimized_rhs(t,y,[m1,m2,chi1,chi2])\n",
    "        drdt = rhs[0]\n",
    "        dphidt = rhs[1]\n",
    "        dprstardt = rhs[2]\n",
    "        if dphidt < omega_previous:\n",
    "                omega_peak = True\n",
    "                break\n",
    "        if drdt > 0:\n",
    "                break    \n",
    "        if dprstardt > 0:\n",
    "            prstar_peak = True\n",
    "            break\n",
    "        if r < rstop:\n",
    "            break\n",
    "        if r < 3:\n",
    "            phidot_circ = v5HM_unoptimized_omega_circ(m1,m2,r,pphi,chi1,chi2)\n",
    "            if phidot_circ > 1:\n",
    "                break\n",
    "        omega_previous = dphidt    "
   ]
  },
  {
   "cell_type": "markdown",
   "id": "200e080f",
   "metadata": {},
   "source": [
    "# Step : Separate the trajectory into coarse and fine "
   ]
  },
  {
   "cell_type": "code",
   "execution_count": 16,
   "id": "b48caa3a",
   "metadata": {},
   "outputs": [
    {
     "name": "stdout",
     "output_type": "stream",
     "text": [
      "Appending to Dynamics/v5HM_Integrator.txt\n"
     ]
    }
   ],
   "source": [
    "%%writefile -a $Ccodesdir/v5HM_Integrator.txt\n",
    "\n",
    "t = np.array(times)\n",
    "dynamics = np.array(prims)\n",
    "step_back_time = 250.\n",
    "if omega_peak:\n",
    "    t_desired = t[-1] - step_back_time - 50\n",
    "else:\n",
    "    t_desired = t[-1] - step_back_time\n",
    "\n",
    "coarse_fine_separation_idx = np.argmin(np.abs(t - t_desired))\n",
    "\n",
    "dynamics_coarse = np.c_[t[:coarse_fine_separation_idx],dynamics[:coarse_fine_separation_idx]]\n",
    "dynamics_fine_prelim = np.c_[t[coarse_fine_separation_idx:],dynamics[coarse_fine_separation_idx:]]\n",
    "\n",
    "dynamics_coarse = augment_dynamics(dynamics_coarse,m1,m2,chi1,chi2)\n",
    "dynamics_fine_prelim = augment_dynamics(dynamics_fine_prelim,m1,m2,chi1,chi2)"
   ]
  },
  {
   "cell_type": "markdown",
   "id": "27dc59bd",
   "metadata": {},
   "source": [
    "# Step : Compute the estimated end time of the integration and fine sample dynamics"
   ]
  },
  {
   "cell_type": "code",
   "execution_count": 17,
   "id": "fbd8c581",
   "metadata": {},
   "outputs": [
    {
     "name": "stdout",
     "output_type": "stream",
     "text": [
      "Appending to Dynamics/v5HM_Integrator.txt\n"
     ]
    }
   ],
   "source": [
    "%%writefile -a $Ccodesdir/v5HM_Integrator.txt\n",
    "\n",
    "t_peak = None\n",
    "\n",
    "if omega_peak:\n",
    "    interpolant = CubicSpline(dynamics_fine_prelim[:,0],dynamics_fine_prelim[:,6])\n",
    "    t_peak = iterative_refinement(interpolant.derivative(),[dynamics_fine_prelim[0,0],dynamics_fine[-1,0]])\n",
    "if pr_peak:\n",
    "    interpolant = CubicSpline(dynamics_fine_prelim[:,0],dynamics_fine_prelim[:,3])\n",
    "    t_peak = iterative_refinement(interpolant.derivative(),[dynamics_fine_prelim[-1,0] - 10, dynamics_fine[-1,0]])\n",
    "\n",
    "dynamics_fine = interpolate_dynamics(dynamics_fine_prelim[:,:5],omega_peak,step_back_time)\n",
    "dynamics_fine = augment_dynamics(dynamics_fine,m1,m2,chi1,chi2)"
   ]
  },
  {
   "cell_type": "markdown",
   "id": "fe4d4854",
   "metadata": {},
   "source": [
    "# Step : Save into python module"
   ]
  },
  {
   "cell_type": "code",
   "execution_count": 18,
   "id": "7d56312d",
   "metadata": {},
   "outputs": [],
   "source": [
    "with open(os.path.join(Ccodesdir,\"v5HM_integrator.py\"),\"w\") as output:\n",
    "    output.write(\"import numpy as np\\nfrom scipy.interpolate import CubicSpline\\nfrom Derivatives.v5HM_Hamiltonian_Derivatives_unoptimized import v5HM_unoptimized_omega_circ\\nfrom Dynamics.v5HM_Equations_Of_Motion import v5HM_unoptimized_rhs\\nfrom Dynamics.v5HM_Initial_Conditions import v5HM_unoptimized_initial_conditions \\nfrom Dynamics.v5HM_unoptimized_auxiliary_functions import augment_dynamics, iterative_refinement, interpolate_dynamics \\nimport pygsl_lite.errno as errno\\nimport pygsl_lite.odeiv2 as odeiv2\\n\")\n",
    "    output.write(\"_control = odeiv2.pygsl_lite_odeiv2_control\\nclass control_y_new(_control):\\n    def __init__(self, eps_abs, eps_rel):\\n        a_y = 1\\n        a_dydt = 1\\n        super().__init__(eps_abs, eps_rel, a_y, a_dydt, None)\\n\")\n",
    "    output.write(\"def v5HM_integrator(M,q,chi1,chi2,f):\\n\")\n",
    "    for line in list(open(os.path.join(Ccodesdir,\"v5HM_Integrator.txt\"),\"r\")):\n",
    "        output.write(\"    %s \\n\"%line.rstrip())\n",
    "    output.write(\"    return dynamics_coarse, dynamics_fine\")\n"
   ]
  },
  {
   "cell_type": "code",
   "execution_count": null,
   "id": "64566948",
   "metadata": {},
   "outputs": [],
   "source": []
  }
 ],
 "metadata": {
  "kernelspec": {
   "display_name": "Python 3 (ipykernel)",
   "language": "python",
   "name": "python3"
  },
  "language_info": {
   "codemirror_mode": {
    "name": "ipython",
    "version": 3
   },
   "file_extension": ".py",
   "mimetype": "text/x-python",
   "name": "python",
   "nbconvert_exporter": "python",
   "pygments_lexer": "ipython3",
   "version": "3.11.5"
  }
 },
 "nbformat": 4,
 "nbformat_minor": 5
}
