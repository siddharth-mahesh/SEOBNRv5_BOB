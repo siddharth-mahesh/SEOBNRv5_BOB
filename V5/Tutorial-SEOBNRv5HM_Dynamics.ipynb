{
 "cells": [
  {
   "cell_type": "markdown",
   "id": "8d4f7f05-657f-4de1-b494-3f8843eba02c",
   "metadata": {},
   "source": [
    "# The Final Trajectory\n",
    "\n",
    "In order to compute the dynamics in SEOBNRv5HM, we will need to implement the corresponding equations of motion and a numerical integration routine.\n",
    "\n",
    "The equations of motion require as inputs:\n",
    "- The masses $m_{1,2}$ in normalized masses, i.e $m_1 + m_2 = 1$.\n",
    "- The spins $\\chi_1$, and $\\chi_2$ of the binary in dimensionless units.\n",
    "- The values of the primitive variables $(r,\\phi,p_{r_*},p_{\\phi})$.\n",
    "It then computes:\n",
    "- The partial derivatives of the Hamiltonian w.r.t the positions, $\\tfrac{\\partial H}{\\partial r}$ and momenta $\\tfrac{\\partial H}{\\partial p_{(r_*,\\phi)}}$.\n",
    "- The tortoise parameter $\\xi$.\n",
    "- The Hamiltonian $H$, the circular frequency $\\Omega_{\\rm circ}$ that are then used to solve for the flux $F_{\\phi}$\n",
    "And returns the time derivative of each of the primitive variables given by Hamilton's equations of motion as well as the prescription for the radiation-reaction.\n",
    "\n",
    "The numerical integration routine is split into two parts\n",
    "- An initial sparsely sampled integration that stops at given stopping conditions\n",
    "- A finely sampled integration from some stepback time to the stopping conditions to calculate the Non-Quasi-Circular (NQC) Coefficients\n",
    "\n",
    "In this notebook, we will generate three files:\n",
    "- The set of expressions needed to generate the equations of motions\n",
    "- The numerical routines needed to generate the trajectory\n",
    "\n",
    "Finally, the numerical integration requires as inputs:\n",
    "- The initial conditions, documented in the initial conditions routine\n",
    "- The stopping conditions, documented in this notebook\n",
    "- All other inputs needed for the equations of motion "
   ]
  },
  {
   "cell_type": "code",
   "execution_count": 1,
   "id": "964be92e",
   "metadata": {},
   "outputs": [],
   "source": [
    "import sys,os#Add sys to get cmdline_helper from NRPy top directory; remove this line and next when debugged\n",
    "sys.path.append('../')\n",
    "import cmdline_helper as cmd     # NRPy+: Multi-platform Python command-line interface\n",
    "\n",
    "# Create C code output directory:\n",
    "Ccodesdir = \"Dynamics\"\n",
    "# Then create an output directory in case it does not exist\n",
    "cmd.mkdir(Ccodesdir)"
   ]
  },
  {
   "cell_type": "markdown",
   "id": "5cb7fffe-a746-4407-8e92-dc7e2866c60e",
   "metadata": {
    "tags": []
   },
   "source": [
    "# Step : The Equations of Motions\n",
    "\n",
    "The equations of motion are given by:\n",
    "\n",
    "\\begin{equation*}\n",
    "\\dot{r} = \\frac{1}{\\nu}\\xi \\frac{\\partial H}{\\partial p_{r_{*}}}\\\\\n",
    "\\dot{\\phi} = \\Omega\\\\\n",
    "\\dot{p}_{r_*} = \\frac{1}{\\nu}\\left(-\\xi \\frac{\\partial H}{\\partial r} + \\frac{ p_{ r_{*} }F_{\\phi} }{ p_{\\phi} }\\right)\\\\\n",
    "\\dot{p}_{\\phi} = \\frac{1}{\\nu}F_{\\phi}\n",
    "\\end{equation*}\n",
    "\n",
    "Where, $\\nu$ is the symmetric mass ratio, $F_{\\phi}$ is the gravitational wave flux, $\\frac{\\partial H}{\\partial \\zeta}$ is the partial derivative of the Hamiltonian, $H$, with respect to the primitive variable $\\zeta = \\{r,\\phi,p_{r_{*}},p_\\phi\\}$.  "
   ]
  },
  {
   "cell_type": "code",
   "execution_count": 2,
   "id": "608b99cd",
   "metadata": {},
   "outputs": [
    {
     "name": "stdout",
     "output_type": "stream",
     "text": [
      "Overwriting Dynamics/v5HM_Equations_Of_Motion.txt\n"
     ]
    }
   ],
   "source": [
    "%%writefile $Ccodesdir/v5HM_Equations_Of_Motion.txt\n",
    "rdot = (xi/eta)*dHdprstar(m1,m2,r,prstar,pphi,chi1,chi2)\n",
    "phidot = Omega\n",
    "prstardot = (1/eta)*(-xi*dHdr(m1,m2,r,prstar,pphi,chi1,chi2) + prstar*F_phi/pphi)\n",
    "pphidot = F_phi/eta"
   ]
  },
  {
   "cell_type": "markdown",
   "id": "8c4bf6b6",
   "metadata": {},
   "source": [
    "# Step : $F_{\\phi}$\n",
    "\n",
    "The gravitational wave flux is given as a function of the primitive variables $\\{r,\\phi,p_{r_{*}},p_{\\phi}\\}$, the masses $\\{m_1,m_2\\}$, the spins $\\{\\chi_{1},\\chi_{2}\\}$, the rotational frequency $\\Omega$, the circular frequency $\\Omega_{\\rm circ}$, and the Hamiltonian $H$.\n",
    "\n",
    "$$\n",
    "F_{\\phi} \\equiv F_{\\phi}(m_1,m_2,r,p_{r_{*}},p_{\\phi},\\chi_1,\\chi_2,\\Omega,\\Omega_{\\rm circ},H)\n",
    "$$"
   ]
  },
  {
   "cell_type": "code",
   "execution_count": 3,
   "id": "56a73009",
   "metadata": {},
   "outputs": [
    {
     "name": "stdout",
     "output_type": "stream",
     "text": [
      "Appending to Dynamics/v5HM_Equations_Of_Motion.txt\n"
     ]
    }
   ],
   "source": [
    "%%writefile -a $Ccodesdir/v5HM_Equations_Of_Motion.txt\n",
    "F_phi = flux(m1, m2, r, phi, prstar, pphi, chi1, chi2,Omega,Omega_circ,H)/Omega"
   ]
  },
  {
   "cell_type": "markdown",
   "id": "0e2110ab",
   "metadata": {},
   "source": [
    "# Step : $\\Omega$\n",
    "\n",
    "The rotational frequency is given by:\n",
    "\n",
    "$$\n",
    "\\Omega = \\frac{1}{\\nu}\\frac{\\partial H}{\\partial p_{\\phi}}\n",
    "$$"
   ]
  },
  {
   "cell_type": "code",
   "execution_count": 4,
   "id": "6a7d3cf5",
   "metadata": {},
   "outputs": [
    {
     "name": "stdout",
     "output_type": "stream",
     "text": [
      "Appending to Dynamics/v5HM_Equations_Of_Motion.txt\n"
     ]
    }
   ],
   "source": [
    "%%writefile -a $Ccodesdir/v5HM_Equations_Of_Motion.txt\n",
    "Omega = (1/eta)*dHdpphi(m1,m2,r,prstar,pphi,chi1,chi2)"
   ]
  },
  {
   "cell_type": "markdown",
   "id": "9bbbbb72",
   "metadata": {},
   "source": [
    "# Step : $\\Omega_{\\rm circ}$\n",
    "\n",
    "The circular frequency is given by:\n",
    "\n",
    "$$\n",
    "\\Omega = \\frac{1}{\\nu}\\left.\\frac{\\partial H}{\\partial p_{\\phi}}\\right|_{p_{r_{*}} = 0}\n",
    "$$"
   ]
  },
  {
   "cell_type": "code",
   "execution_count": 5,
   "id": "92f481cc",
   "metadata": {},
   "outputs": [
    {
     "name": "stdout",
     "output_type": "stream",
     "text": [
      "Appending to Dynamics/v5HM_Equations_Of_Motion.txt\n"
     ]
    }
   ],
   "source": [
    "%%writefile -a $Ccodesdir/v5HM_Equations_Of_Motion.txt\n",
    "Omega_circ = (1/eta)*dHdpphi_preq0(m1,m2,r,pphi,chi1,chi2)"
   ]
  },
  {
   "cell_type": "markdown",
   "id": "63dd477a",
   "metadata": {},
   "source": [
    "# Step : $H$, $\\xi$\n",
    "\n",
    "The Hamiltonian and the tortoise parameter are given as the result of the Hamiltonian computation, which in turn is a function of the primitive variables and the input parameters"
   ]
  },
  {
   "cell_type": "code",
   "execution_count": 6,
   "id": "70d65883",
   "metadata": {},
   "outputs": [
    {
     "name": "stdout",
     "output_type": "stream",
     "text": [
      "Appending to Dynamics/v5HM_Equations_Of_Motion.txt\n"
     ]
    }
   ],
   "source": [
    "%%writefile -a $Ccodesdir/v5HM_Equations_Of_Motion.txt\n",
    "H , xi = Hamiltonian(m1,m2,r,prstar,pphi,chi1,chi2)"
   ]
  },
  {
   "cell_type": "markdown",
   "id": "aaa5a239",
   "metadata": {},
   "source": [
    "# Step : $\\eta$\n",
    "\n",
    "The symmetric mass ratio is defined as follows\n",
    "\n",
    "$$\n",
    "\\eta = \\frac{m_{1}m_{2}}{(m_1 + m_2)^2}\n",
    "$$"
   ]
  },
  {
   "cell_type": "code",
   "execution_count": 7,
   "id": "23bbe64c",
   "metadata": {},
   "outputs": [
    {
     "name": "stdout",
     "output_type": "stream",
     "text": [
      "Appending to Dynamics/v5HM_Equations_Of_Motion.txt\n"
     ]
    }
   ],
   "source": [
    "%%writefile -a $Ccodesdir/v5HM_Equations_Of_Motion.txt\n",
    "eta = m1*m2/(m1 + m2)/(m1 + m2)"
   ]
  },
  {
   "cell_type": "markdown",
   "id": "4325a343-4d0d-4012-b378-29769316b44a",
   "metadata": {
    "tags": []
   },
   "source": [
    "# Step : Write into python function"
   ]
  },
  {
   "cell_type": "code",
   "execution_count": 8,
   "id": "29fdaa23-7226-46c8-985f-ee688bc96d0d",
   "metadata": {},
   "outputs": [
    {
     "name": "stdout",
     "output_type": "stream",
     "text": [
      "(array([ 3.30125969e+01,  3.61796457e-04,  1.20434146e+01, -2.27212811e-07]), -2.2721281123014508e-08, 0.0003617964574513582, 0.08604882064625258, 0.8057888518672409, -14.946117393523147, 0.09999999999999999, 20.0, 22.0)\n",
      "([33.01259690985122, 0.00036179645745135826, 12.043414567842925, -2.272128112301455e-07], -2.272128112301455e-07, 0.00036179645745135826, 0.08604882064625256, 0.8057888518672411, -14.946117393523155, 0.09999999999999999, 20.0, 22.0)\n"
     ]
    }
   ],
   "source": [
    "with open(os.path.join(Ccodesdir,\"v5HM_Equations_Of_Motion.py\"), \"w\") as output:\n",
    "    output.write(\"import numpy as np\\n\")\n",
    "    output.write(\"from Radiation.v5HM_Flux_unoptimized import v5HM_unoptimized_flux as flux\\n\")\n",
    "    output.write(\"from Derivatives.v5HM_Hamiltonian_Derivatives_unoptimized import v5HM_unoptimized_omega_circ as dHdpphi_preq0\\n\")\n",
    "    output.write(\"from Derivatives.v5HM_Hamiltonian_Derivatives_unoptimized import v5HM_unoptimized_dH_dpphi as dHdpphi\\n\")\n",
    "    output.write(\"from Derivatives.v5HM_Hamiltonian_Derivatives_unoptimized import v5HM_unoptimized_dH_dprstar as dHdprstar\\n\")\n",
    "    output.write(\"from Derivatives.v5HM_Hamiltonian_Derivatives_unoptimized import v5HM_unoptimized_dH_dr as dHdr\\n\")\n",
    "    output.write(\"from Hamiltonian.v5HM_Hamiltonian_unoptimized import v5HM_unoptimized_hamiltonian as Hamiltonian\\n\")\n",
    "    output.write(\"def v5HM_unoptimized_rhs(t,y,m1,m2,chi1,chi2,verbose = False):\\n    r , phi , prstar , pphi = y[0] , y[1] , y[2] , y[3]\\n\")\n",
    "    for line in reversed(list(open(os.path.join(Ccodesdir,\"v5HM_Equations_Of_Motion.txt\"),\"r\"))):\n",
    "        output.write(\"    %s\\n\" % line.rstrip())\n",
    "    output.write(\"    if not verbose:\\n        return np.array([rdot,phidot,prstardot,pphidot])\\n\")\n",
    "    output.write(\"    else:\\n        return np.array([rdot,phidot,prstardot,pphidot]), F_phi, Omega, Omega_circ, xi, dHdr(m1,m2,r,prstar,pphi,chi1,chi2)/eta, eta, prstar,pphi\\n\")\n",
    "\n",
    "import numpy as np\n",
    "from Dynamics.v5HM_Equations_Of_Motion import v5HM_unoptimized_rhs as rhs_bob\n",
    "from Dynamics.pyseobnr_equations_of_motion import get_rhs as rhs_true\n",
    "\n",
    "eta = 0.1\n",
    "m1 = 0.5*(1 + np.sqrt(1 - 4*eta))\n",
    "m2 = 0.5*(1 - np.sqrt(1 - 4*eta))\n",
    "chi1 = 0.5\n",
    "chi2 = 0.9\n",
    "r = 10.\n",
    "phi = 0.\n",
    "prstar = 20.\n",
    "pphi = 22.\n",
    "\n",
    "dyn_bob = rhs_bob(0.,[r,phi,prstar,pphi],m1,m2,chi1,chi2,verbose = True)\n",
    "dyn_true = rhs_true(0.,[r,phi,prstar,pphi],chi1,chi2,m1,m2, verbose = True)\n",
    "\n",
    "print(dyn_bob)\n",
    "print(dyn_true)"
   ]
  },
  {
   "cell_type": "markdown",
   "id": "e0388803-453f-48f4-a6fc-3303749cc6e6",
   "metadata": {},
   "source": [
    "# Step : The Stopping Conditions\n",
    "\n",
    "The stopping conditions are given in lines 152-178 of [integrate_ode.py](https://git.ligo.org/waveforms/software/pyseobnr/-/blob/main/pyseobnr/eob/dynamics/integrate_ode.py) of pyseobnr.\n",
    "\n",
    "There are several termination conditions that are checked when $r < 6$:\n",
    "\n",
    "- Peak orbital frequency : If the value of $\\Omega$ has decreased since the last timestep.\n",
    "- Positive radial velocity: If $\\dot{r} > 0$\n",
    "- Positive radial momentum derivative: If $\\dot{p_{r_{*}}} > 0$\n",
    "- Radius reaches threshold: If the radius reaches some threshold radius (conditionally defined by numerical relativity and the Kerr metric last stable circular orbit)\n",
    "- Unphysical circular frequency at low $r$'s: if $r < 3M$ and $\\Omega_{\\rm circ} > 1$\n",
    "\n",
    "We will define each of these conditions below."
   ]
  },
  {
   "cell_type": "markdown",
   "id": "d87ee9fb-63f2-4e93-adcc-c1ce0e8117d8",
   "metadata": {},
   "source": [
    "# Step : The First Integration\n",
    "\n",
    "In the first integration, the initial conditions are evaluated and the trajectory is evolved until the above specified stopping conditions are accomplished. \n",
    "pyseobnr uses `pygsl_lite` to access gsl's `odeiv2` tools. We use the equivalent `scipy.odeint` tools.\n",
    "\n",
    "We use an adaptive Runge-Kutta 45 method with relative tolerance `1e-11` and absolute tolerance `1e-12`"
   ]
  },
  {
   "cell_type": "code",
   "execution_count": 10,
   "id": "d243f98a-4f98-4413-9c74-f31c681de194",
   "metadata": {
    "tags": []
   },
   "outputs": [],
   "source": [
    "import time\n",
    "from Dynamics.v5HM_Initial_Conditions import v5HM_initial_conditions as IC\n",
    "from scipy.integrate import solve_ivp\n",
    "event = lambda t,y,m1,m2,chi1,chi2 : y[0] - 6.0\n",
    "event.terminal = True\n",
    "\n",
    "M = 33.\n",
    "q = 23./10.\n",
    "S1 = 0.5\n",
    "S2 = 0.9\n",
    "f = 20\n",
    "m1 = q/(1 + q)\n",
    "m2 = 1/(1+q)\n",
    "event = lambda t,y,a,b,c,d : y[0] - 6.\n",
    "event.terminal = True\n",
    "yinit = IC(M,q,S1,S2,f)\n",
    "sol_bob = solve_ivp(rhs_bob,[0.,20000.],yinit,method = 'RK45',events = [event], args = (m1,m2,S1,S2), rtol = 1e-11, atol = 1e-12)\n",
    "sol_true = solve_ivp(rhs_true,[0.,20000.],yinit,method = 'RK45',events = [event], args = (S1,S2,m1,m2), rtol = 1e-11, atol = 1e-12)"
   ]
  },
  {
   "cell_type": "code",
   "execution_count": 11,
   "id": "ab92a2b8-d585-4b9a-9319-d25338972b28",
   "metadata": {
    "tags": []
   },
   "outputs": [
    {
     "data": {
      "image/png": "[encoded data removed]",
      "text/plain": [
       "<Figure size 640x480 with 1 Axes>"
      ]
     },
     "metadata": {},
     "output_type": "display_data"
    }
   ],
   "source": [
    "import matplotlib.pyplot as plt\n",
    "import numpy as np\n",
    "t_bob = sol_bob.t\n",
    "t_true = sol_true.t\n",
    "r_bob = sol_bob.y[0]\n",
    "r_true = sol_true.y[0]\n",
    "plt.scatter(t_bob,r_bob,s = 1,label = 'ours',color = 'black')\n",
    "plt.plot(t_true,r_true,label = 'pyseobnr')\n",
    "plt.xlabel(r'time($M$)')\n",
    "plt.ylabel(r'$r$($M$)')\n",
    "plt.legend()\n",
    "plt.savefig('first_trajectory_eta_1_chi1_5_chi2_9.png',dpi = 300)"
   ]
  },
  {
   "cell_type": "markdown",
   "id": "84177d4a-1189-4fa6-9e1d-b03b834a46f8",
   "metadata": {},
   "source": [
    "# Step : The Second Integration"
   ]
  },
  {
   "cell_type": "code",
   "execution_count": null,
   "id": "fc5989fb-fa8e-4a5e-ad5b-d941ffa5874b",
   "metadata": {},
   "outputs": [],
   "source": []
  }
 ],
 "metadata": {
  "kernelspec": {
   "display_name": "Python 3 (ipykernel)",
   "language": "python",
   "name": "python3"
  },
  "language_info": {
   "codemirror_mode": {
    "name": "ipython",
    "version": 3
   },
   "file_extension": ".py",
   "mimetype": "text/x-python",
   "name": "python",
   "nbconvert_exporter": "python",
   "pygments_lexer": "ipython3",
   "version": "3.11.5"
  }
 },
 "nbformat": 4,
 "nbformat_minor": 5
}
