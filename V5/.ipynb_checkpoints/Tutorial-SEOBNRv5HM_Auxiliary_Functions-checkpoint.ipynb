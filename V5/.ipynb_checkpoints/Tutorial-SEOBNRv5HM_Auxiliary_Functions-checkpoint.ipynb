{
 "cells": [
  {
   "cell_type": "markdown",
   "id": "e7c105b9",
   "metadata": {},
   "source": [
    "# Step : Initialize Core Modules"
   ]
  },
  {
   "cell_type": "code",
   "execution_count": 1,
   "id": "ecb8a51a",
   "metadata": {},
   "outputs": [],
   "source": [
    "import sys,os#Add sys to get cmdline_helper from NRPy top directory; remove this line and next when debugged\n",
    "sys.path.append('../')\n",
    "import cmdline_helper as cmd     # NRPy+: Multi-platform Python command-line interface\n",
    "\n",
    "# Create C code output directory:\n",
    "Ccodesdir = \"Dynamics\"\n",
    "# Then create an output directory in case it does not exist\n",
    "cmd.mkdir(Ccodesdir)"
   ]
  },
  {
   "cell_type": "markdown",
   "id": "e4dbc13b",
   "metadata": {},
   "source": [
    "# Step : Augment Dynamics"
   ]
  },
  {
   "cell_type": "code",
   "execution_count": 2,
   "id": "cc114387",
   "metadata": {},
   "outputs": [
    {
     "name": "stdout",
     "output_type": "stream",
     "text": [
      "Overwriting Dynamics/v5HM_unoptimized_auxiliary_functions.py\n"
     ]
    }
   ],
   "source": [
    "%%writefile $Ccodesdir/v5HM_unoptimized_auxiliary_functions.py\n",
    "\n",
    "import numpy as np\n",
    "from scipy.signal import argrelmin\n",
    "from scipy.interpolate import CubicSpline\n",
    "from Hamiltonian.v5HM_unoptimized_hamiltonian import v5HM_unoptimized_hamiltonian as H\n",
    "from Derivatives.v5HM_Hamiltonian_Derivatives_unoptimized import v5HM_unoptimized_dH_dpphi as omega\n",
    "from Derivatives.v5HM_Hamiltonian_Derivatives_unoptimized import v5HM_unoptimized_omega_circ as omega_circ\n",
    "\n",
    "\n",
    "def augment_dynamics(dynamics, m1, m2, chi1, chi2):\n",
    "    result = []\n",
    "    eta = m1*m2/(m1 + m2)/(m1 + m2)\n",
    "    N = dynamics.shape[0]\n",
    "    for i in range(N):\n",
    "        dyn = dynamics[i]\n",
    "        Hreal,xi = H(m1,m2,dyn[1],dyn[3],dyn[4],chi1,chi2)\n",
    "        Omega = omega(m1,m2,dyn[1],dyn[3],dyn[4],chi1,chi2)/eta\n",
    "        Omega_c = omega_circ(m1,m2,dyn[1],dyn[4],chi1,chi2)/eta\n",
    "        result.append([Hreal,Omega,Omega_c])\n",
    "    result = np.array(result)\n",
    "    return np.c_[dynamics,result]"
   ]
  },
  {
   "cell_type": "markdown",
   "id": "7458f31e",
   "metadata": {},
   "source": [
    "# Step : Iterative Refinement"
   ]
  },
  {
   "cell_type": "code",
   "execution_count": 3,
   "id": "f07c9cd5",
   "metadata": {},
   "outputs": [
    {
     "name": "stdout",
     "output_type": "stream",
     "text": [
      "Appending to Dynamics/v5HM_unoptimized_auxiliary_functions.py\n"
     ]
    }
   ],
   "source": [
    "%%writefile -a $Ccodesdir/v5HM_unoptimized_auxiliary_functions.py\n",
    "\n",
    "def iterative_refinement(var_dot, interval, peak_pr = False):\n",
    "    left = interval[0]\n",
    "    right = interval[1]\n",
    "    dt = 0.1\n",
    "    for n in range(2):\n",
    "        dt /= 10\n",
    "        t_array_fine = np.arange(interval[0],interval[1],dt)\n",
    "        abs_var_dot = np.abs(var_dot)\n",
    "        minima = argrelmin(abs_var_dot, order = 3)[0]\n",
    "        \n",
    "        if len(minima) > 0:\n",
    "            result = t_array_fine(minima[0])\n",
    "            interval = [ max(left,result - 10*dt) , min(right,result + 10*dt)]\n",
    "        else:\n",
    "            if peak_pr:\n",
    "                return interval[-1]\n",
    "            else:\n",
    "                return ( interval[0] + interval[-1] ) / 2\n",
    "    return result    "
   ]
  },
  {
   "cell_type": "markdown",
   "id": "89882172",
   "metadata": {},
   "source": [
    "# Step : Interpolate Dynamics"
   ]
  },
  {
   "cell_type": "code",
   "execution_count": 4,
   "id": "d27f9119",
   "metadata": {},
   "outputs": [
    {
     "name": "stdout",
     "output_type": "stream",
     "text": [
      "Appending to Dynamics/v5HM_unoptimized_auxiliary_functions.py\n"
     ]
    }
   ],
   "source": [
    "%%writefile -a $Ccodesdir/v5HM_unoptimized_auxiliary_functions.py\n",
    "\n",
    "def interpolate_dynamics(dynamics_fine, omega_peak = None, step_back = 250):\n",
    "    res = []\n",
    "    n = len(dyn_fine)\n",
    "    \n",
    "    if omega_peak:\n",
    "        t_start_fine = max(omega_peak - step_back, dynamics_fine[0,0])\n",
    "        t_new = np.arange(t_start, peak_omega, 0.1)\n",
    "    else:\n",
    "        t_new = np.arange(dynamics_fine[0,0], dynamics_fine[-1,0], 0.1)\n",
    "    \n",
    "    for i in range(1, dynamics_fine.shape[1]):\n",
    "        interpolant = CubicSpline(dynamics_fine[:,0], dynamics_fine[:,1])\n",
    "        res.append(interpolant(t_new))\n",
    "    \n",
    "    res = np.array(res)\n",
    "    res_transprosed = res.T\n",
    "    \n",
    "    return np.c_[t_new,res_transposed]"
   ]
  }
 ],
 "metadata": {
  "kernelspec": {
   "display_name": "Python 3 (ipykernel)",
   "language": "python",
   "name": "python3"
  },
  "language_info": {
   "codemirror_mode": {
    "name": "ipython",
    "version": 3
   },
   "file_extension": ".py",
   "mimetype": "text/x-python",
   "name": "python",
   "nbconvert_exporter": "python",
   "pygments_lexer": "ipython3",
   "version": "3.11.5"
  }
 },
 "nbformat": 4,
 "nbformat_minor": 5
}
