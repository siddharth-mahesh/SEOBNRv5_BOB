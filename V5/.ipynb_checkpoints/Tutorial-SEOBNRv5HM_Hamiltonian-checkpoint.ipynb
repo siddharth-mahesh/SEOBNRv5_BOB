{
 "cells": [
  {
   "cell_type": "markdown",
   "id": "955e7747",
   "metadata": {},
   "source": [
    "# The Spinning Effective One-Body Hamiltonian: \"v5HM\"\n",
    "\n",
    "## Author: Siddharth Mahesh\n",
    "\n",
    "## This module documents the reduced spinning effective one-body Hamiltonian as numerically implemented in pySEOBNR's SEOBNRv5HM gravitational waveform approximant.\n",
    "\n",
    "\n",
    "**Notebook Status:** <font color='red'><b> In Progress </b></font>\n",
    "\n",
    "**Validation Notes:** This module has been validated against the [pySEOBNR code]( https://git.ligo.org/lscsoft/lalsuite.) that was reviewed and approved for LIGO parameter estimation by the LIGO Scientific Collaboration.  That is, the value $H_{\\rm real}$ output from this notebook agrees to roundoff error with the value of $H_{\\rm real}$ computed by.\n",
    "\n",
    "### NRPy+ Source Code for this module: [SEOBNRv5HM_Hamiltonian.py](Hamiltonian/SEOBNRv5HM_Hamiltonian.py)\n",
    "\n",
    "<a id='intro'></a>\n",
    "\n",
    "## Introduction\n",
    "$$\\label{intro}$$\n",
    "\n",
    "### The Physical System of Interest\n",
    "\n",
    "Consider two black holes with masses $m_{1}$, $m_{2}$ and spins ${\\bf S}_{1}$, ${\\bf S}_{2}$ in a binary system.  The spinning effective one-body (\"SEOB\") Hamiltonian $H_{\\rm real}$ (defined in [this cell](#hreal)) describes the conservative dynamics of this system; we will define $H_{\\rm real}$ as in [Ramos-Buades, Buonnano et. al](https://arxiv.org/abs/2303.18046) Appendix A \\& B.  There, $H_{\\rm real}$ is canonically transformed and mapped to an effective Hamiltonian $H_{\\rm eff}$ (defined in [this cell](#heff)) describing the motion of a test particle of mass $\\mu$ (defined in [this cell](#mu)) moving at the equatorial plane of a deformed Kerr background, independently evolving the spins of the binary point masses.  Here we seek to break up $H_{\\rm real}$ and document the terms in such a way that the resulting Python code can be used to numerically evaluate $H_{\\rm real}$.\n",
    "\n",
    "We write $H_{\\rm real}$ in terms of $r$, and $\\phi, the [Boyer-Lindquist coordinates](https://en.wikipedia.org/wiki/Boyer%E2%80%93Lindquist_coordinates) (see [Barausse and Buonanno (2010)](https://arxiv.org/abs/0912.3517) Section IV).\n",
    "\n",
    "Please note that throughout this notebook we adpot the following conventions:\n",
    "\n",
    "1. $c = 1$ where $c$ is the speed of light in a vacuum,\n",
    "1. spacial tensor indicies are denoted by lowercase Latin letters,\n",
    "1. repeated indices indicate Einstein summation notation, and\n",
    "\n",
    "Running this notebook to completion will generate a file called v4P_Hreal_on_bottom.py.  This file contains the Python function v4P_compute_Hreal(), which takes as input m1, m2 (each in solar masses), the value of the [Euler-Mascheroni constant](https://en.wikipedia.org/wiki/Euler%E2%80%93Mascheroni_constant), a tortoise coordinate, and values for all twelve dynamic variables (3 components of the separation vector, three components of the momentum vector, andthree spin components of each compact object).  Note that the spin components should be dimensionless.\n",
    "\n",
    "### Citations\n",
    "Throughout this module, we will refer to\n",
    "* [Pompili, Buonanno, et al (2023)](https://arxiv.org/pdf/2303.18039.pdf) as PB2023,\n",
    "* [Barausse and Buonanno (2011)](https://arxiv.org/abs/1107.2904) as BB2011,\n",
    "* [Ossokine, Buonanno, Marsat, et al (2020)](https://arxiv.org/abs/2004.09442) as OB2020,\n",
    "* [Steinhoff, Hinderer, Buonanno, et al (2016)](https://arxiv.org/abs/1608.01907) as SH2016,\n",
    "* [Bohe, Shao, Taracchini, et al (2017)](https://arxiv.org/pdf/1611.03703.pdf) as BL2017,\n",
    "* [Pan, Buonanno, Buchman, et. al (2010)](https://arxiv.org/abs/0912.3466v2) as P2010,\n",
    "* [Taracchini, Buonanno, Pan, et al (2014)](https://arxiv.org/abs/1311.2544) as T2014,\n",
    "* [Taracchini, Pan, Buonanno, et al (2012)](https://arxiv.org/abs/1202.0790) as T2012, and\n",
    "* [Damour, Jaranowski, and Schaefer (2000)](https://arxiv.org/abs/gr-qc/0005034) as D2000."
   ]
  },
  {
   "cell_type": "markdown",
   "id": "7762cb74",
   "metadata": {},
   "source": [
    "<a id='outputcreation'></a>\n",
    "\n",
    "# Step 0: Creating the output directory for SEOBNR \\[Back to [top](#toc)\\]\n",
    "$$\\label{outputcreation}$$\n",
    "\n",
    "First we create the output directory for SEOBNR (if it does not already exist):"
   ]
  },
  {
   "cell_type": "code",
   "execution_count": 1,
   "id": "f82311b8",
   "metadata": {},
   "outputs": [],
   "source": [
    "import sys#Add sys to get cmdline_helper from NRPy top directory; remove this line and next when debugged\n",
    "sys.path.append('../')\n",
    "import cmdline_helper as cmd     # NRPy+: Multi-platform Python command-line interface\n",
    "\n",
    "# Create C code output directory:\n",
    "Ccodesdir = \"Hamiltonian\"\n",
    "# Then create an output directory in case it does not exist\n",
    "cmd.mkdir(Ccodesdir)"
   ]
  },
  {
   "cell_type": "markdown",
   "id": "edfe856d",
   "metadata": {},
   "source": [
    "<a id='hreal'></a>\n",
    "\n",
    "# Step : The real Hamiltonian $H_{\\textrm{real}}$ \\[Back to [top](#toc)\\]\n",
    "$$\\label{hreal}$$\n",
    "\n",
    "The SEOB Hamiltonian $H_{\\rm real}$ is given by [RBB2023](https://arxiv.org/abs/2303.18046) Equation (8):\n",
    "\n",
    "\\begin{equation*}\n",
    "    H_{\\rm real} = \\sqrt{ 1 + 2 \\eta \\left( \\frac{ H_{\\rm eff} }{ \\mu } - 1 \\right) }.\n",
    "\\end{equation*}\n",
    "\n",
    "Here $H_{\\rm eff}$ (defined in [this cell](#heff)) is an *effective* Hamiltonian (see [this cell](#intro)), and $\\eta$ (defined in [this cell](#eta)) is the symmetric mass ratio."
   ]
  },
  {
   "cell_type": "code",
   "execution_count": 2,
   "id": "08305089",
   "metadata": {},
   "outputs": [
    {
     "name": "stdout",
     "output_type": "stream",
     "text": [
      "Overwriting Hamiltonian/v5HM_Hamiltonian-Hreal_on_top.txt\n"
     ]
    }
   ],
   "source": [
    "%%writefile $Ccodesdir/v5HM_Hamiltonian-Hreal_on_top.txt\n",
    "Hreal = sp.sqrt(1 + 2*eta*(Heff - 1))"
   ]
  },
  {
   "cell_type": "markdown",
   "id": "92c06b7b",
   "metadata": {},
   "source": [
    "<a id='heff'></a>\n",
    "\n",
    "# Step : The effective Hamiltonian $H_{\\textrm{eff}}$ \\[Back to [top](#toc)\\]\n",
    "$$\\label{heff}$$\n",
    "\n",
    "The effective Hamiltonian $H_{\\rm eff}$ as stated in [RBB2023](https://arxiv.org/abs/2303.18046) under equation B2, is split into odd and even-in-spin components $H_{\\rm odd}$, and $H_{\\rm even}$ but expressed in Equation A:\n",
    "\n",
    "\\begin{equation*}\n",
    "    H_{\\rm eff} = \\underbrace{ \\frac{ p_{\\phi}\\left( g_{a_{+}} a_{+} + g_{a_{-}} \\delta a_{-} \\right) + {\\rm SO}_{\\rm calib} + G^{\\rm align}_{a^3}}{r^3 + a_{+}^2\\left(r + 2\\right)} }_{H_{\\rm odd}} + \\underbrace{ \\sqrt{A^{\\rm align} \\left( 1 + \\frac{p_{\\phi}^{2}}{r^2} + \\left(1 + B_{np}^{align}\\right)({\\bf n}\\cdot{\\bf p})^2 + B_{npa}^{\\rm Kerr eq} \\frac{p_{\\phi}^{2}\\left({\\bf l}\\cdot{\\bf a}_{+}\\right)^2}{r^2} + Q^{\\rm align} \\right) } }_{H_{\\rm even}}.\n",
    "\\end{equation*}\n",
    "\n",
    "Here, $H_{\\rm even}$ is defined in [this cell](#heven), and $H_{\\rm odd}$ is defined in [this cell](#hodd). "
   ]
  },
  {
   "cell_type": "code",
   "execution_count": 3,
   "id": "ccdfd945",
   "metadata": {},
   "outputs": [
    {
     "name": "stdout",
     "output_type": "stream",
     "text": [
      "Appending to Hamiltonian/v5HM_Hamiltonian-Hreal_on_top.txt\n"
     ]
    }
   ],
   "source": [
    "%%writefile -a $Ccodesdir/v5HM_Hamiltonian-Hreal_on_top.txt\n",
    "Heff = Hodd + Heven"
   ]
  },
  {
   "cell_type": "markdown",
   "id": "94fa6fea",
   "metadata": {},
   "source": [
    "<a id='hodd'></a>\n",
    "\n",
    "# Step : The odd-in-spin Hamiltonian $H_{\\textrm{odd}}$ \\[Back to [top](#toc)\\]\n",
    "$$\\label{hodd}$$\n",
    "\n",
    "The effective Hamiltonian $H_{\\rm eff}$ as stated in [RBB2023](https://arxiv.org/abs/2303.18046) under equation B2, is split into odd and even-in-spin components $H_{\\rm odd}$, and $H_{\\rm even}$. Here, we state the odd component in Equation A:\n",
    "\n",
    "\\begin{equation*}\n",
    "    H_{\\rm odd} = \\frac{ Mp_{\\phi}\\left( g_{a_{+}} a_{+} + g_{a_{-}} \\delta a_{-} \\right) + {\\rm SO}_{\\rm calib} + G^{\\rm align}_{a^3}}{r^3 + a_{+}^2\\left(r + 2*M\\right)}.\n",
    "\\end{equation*}\n",
    "\n",
    "Here, $M$, $p_{\\phi}$, $r$ are the total mass, azimuthal momentum and radial distance respectfully. ${\\bf l}\\cdot{\\bf a}_{\\pm}$ is defined in [this cell](#la), the gyromagnetic constants $g_{a_{\\pm}}$ are defined in [this cell](#ga) the magnitude of ${\\bf a}_{+}$ is defined in [this cell](#a),  ${\\rm SO}_{\\rm calib}$ is defined in [this cell](#socalib), and $\\langle G^{\\rm pprec}_{a^3} \\rangle$ is defined in [this cell](#gppreca3). "
   ]
  },
  {
   "cell_type": "code",
   "execution_count": 4,
   "id": "bf31b01e",
   "metadata": {},
   "outputs": [
    {
     "name": "stdout",
     "output_type": "stream",
     "text": [
      "Appending to Hamiltonian/v5HM_Hamiltonian-Hreal_on_top.txt\n"
     ]
    }
   ],
   "source": [
    "%%writefile -a $Ccodesdir/v5HM_Hamiltonian-Hreal_on_top.txt\n",
    "Hodd = (pphi*(gap*ap + delta*gam*am) + SOcalib + Galigna3)/(r**3 + ap**2*(r + 2))"
   ]
  },
  {
   "cell_type": "markdown",
   "id": "79048135",
   "metadata": {},
   "source": [
    "<a id='heven'></a>\n",
    "\n",
    "# Step : The even-in-spin Hamiltonian $H_{\\textrm{even}}$ \\[Back to [top](#toc)\\]\n",
    "$$\\label{heven}$$\n",
    "\n",
    "The effective Hamiltonian $H_{\\rm eff}$ as stated in [RBB2023](https://arxiv.org/abs/2303.18046) under equation B2, is split into odd and even-in-spin components $H_{\\rm odd}$, and $H_{\\rm even}$. Here, we state the even component in Equation A:\n",
    "\n",
    "\\begin{equation*}\n",
    "    H_{\\rm even} = \\sqrt{A^{\\rm align} \\left( 1 + \\frac{p_{\\phi}^{2}}{r^2} + \\left(1 + B_{np}^{\\rm align}\\right)({\\bf n}\\cdot{\\bf p})^2 + B_{npa}^{\\rm Kerr eq} \\frac{p_{\\phi}^{2}\\left({\\bf l}\\cdot{\\bf a}_{+}\\right)^2}{r^2} + Q^{\\rm align} \\right) }.\n",
    "\\end{equation*}\n",
    "\n",
    "Here, $r$, and $p_\\phi$ are the radius, and the azimuthal momentum respectively and the radial momentum $p_{r}$ is defined in [this cell](#pr). $A^{\\rm align}$ is defined in [this cell](#aalign), $B_{np}^{\\rm align}$ is defined in [this cell](#bnpalign), $B_{npa}^{\\rm Kerr eq}$ is defined in [this cell](#bnpakerreq), ${\\bf l}\\cdot{\\bf a}_{+}$ is defined in [this cell](#lap), and $Q^{\\rm align}$ is defined in [this cell](#qalign). "
   ]
  },
  {
   "cell_type": "code",
   "execution_count": 5,
   "id": "04319867",
   "metadata": {},
   "outputs": [
    {
     "name": "stdout",
     "output_type": "stream",
     "text": [
      "Appending to Hamiltonian/v5HM_Hamiltonian-Hreal_on_top.txt\n"
     ]
    }
   ],
   "source": [
    "%%writefile -a $Ccodesdir/v5HM_Hamiltonian-Hreal_on_top.txt\n",
    "Heven = sp.sqrt(\n",
    "    Aalign * (\n",
    "        1 \n",
    "        + pphi*pphi/r**2 \n",
    "        + (1 + Balignnp)*pr*pr \n",
    "        + Bkerreqnp*pphi*pphi*ap**2/r**2 \n",
    "        + Qalign\n",
    "    )\n",
    ")"
   ]
  },
  {
   "cell_type": "markdown",
   "id": "16f1c567",
   "metadata": {},
   "source": [
    "# Step: The Odd-In-Spin Terms"
   ]
  },
  {
   "cell_type": "markdown",
   "id": "89eb82bd",
   "metadata": {},
   "source": [
    "<a id='socalib'></a>\n",
    "\n",
    "# Step : ${\\textrm{SO}}_{\\textrm{calib}}$ \\[Back to [top](#toc)\\]\n",
    "$$\\label{socalib}$$\n",
    "\n",
    "The SO calibration term is expressed in [RBB2023](https://arxiv.org/abs/2303.18046) Equation A2. The calibration coefficient is not yet referenced but implemented in pySEOBNR [here](https://git.ligo.org/waveforms/software/pyseobnr/-/blob/main/pyseobnr/eob/fits/fits_Hamiltonian.py) and listed in Equation 91 [here](https://dcc.ligo.org/DocDB/0186/T2300060/001/SEOBNRv5HM.pdf):\n",
    "\n",
    "\\begin{equation*}\n",
    "    {\\rm SO}_{\\rm calib} = \\eta d_{\\rm SO} \\frac{p_{\\phi}}{r^3}  {a}_{+}, \\\\\n",
    "    d_{\\rm SO} = -7.71251231383957 a_{-}^{3} - 17.2294679794015 a_{-}^{2} a_{+} - 238.430383378296 a_{-}^{2}\\eta + 69.5461667822545 a_{-}^{2} - 10.5225438990315 a_{-} a_{+}^{2} + 362.767393298729 a_{-} a_{+} \\eta - 85.8036338010274 a_{-} a_{+} - 1254.66845939312 a_{-} \\eta^{2} + 472.431937787377 a_{-} \\eta - 39.742317057316 a_{-}\n",
    "        - 7.58458103577458 a_{+}^{3} - 42.7601129678844 a_{+}^{2} \\eta + 18.1783435552183 a_{+}^{2} - 201.905934468847 a_{+} \\eta^{2} - 90.5790079104259 a_{+} \\eta + 49.6299175121658 a_{+}\n",
    "        + 478.546231305475 \\eta^{3} + 679.521769948995 \\eta^{2} - 177.334831768076 \\eta - 37.6897780220529\n",
    ".\n",
    "\\end{equation*}\n",
    "\n",
    "Here, $r$, and $p_\\phi$ are the radial distance and the azimuthal momentum respectively. $\\eta$, is the symmetric mass ratio defined in [this cell](#eta), ${\\bf a}_{\\pm}$ is defined in [this cell](#a), ${\\bf l}\\cdot{\\bf a}_{+}$ is defined in [this cell](#la)."
   ]
  },
  {
   "cell_type": "code",
   "execution_count": 6,
   "id": "42c631a7",
   "metadata": {},
   "outputs": [
    {
     "name": "stdout",
     "output_type": "stream",
     "text": [
      "Appending to Hamiltonian/v5HM_Hamiltonian-Hreal_on_top.txt\n"
     ]
    }
   ],
   "source": [
    "%%writefile -a $Ccodesdir/v5HM_Hamiltonian-Hreal_on_top.txt\n",
    "SOcalib = eta*dSO*ap*pphi*(u**3)\n",
    "dSO = -7.71251231383957 * am ** 3\n",
    "        - 17.2294679794015 * am ** 2 * ap\n",
    "        - 238.430383378296 * am ** 2 * eta\n",
    "        + 69.5461667822545 * am ** 2\n",
    "        - 10.5225438990315 * am * ap ** 2\n",
    "        + 362.767393298729 * am * ap * eta\n",
    "        - 85.8036338010274 * am * ap\n",
    "        - 1254.66845939312 * am * eta ** 2\n",
    "        + 472.431937787377 * am * eta\n",
    "        - 39.742317057316 * am\n",
    "        - 7.58458103577458 * ap ** 3\n",
    "        - 42.7601129678844 * ap ** 2 * eta\n",
    "        + 18.1783435552183 * ap ** 2\n",
    "        - 201.905934468847 * ap * eta ** 2\n",
    "        - 90.5790079104259 * ap * eta\n",
    "        + 49.6299175121658 * ap\n",
    "        + 478.546231305475 * eta ** 3\n",
    "        + 679.521769948995 * eta ** 2\n",
    "        - 177.334831768076 * eta\n",
    "        - 37.6897780220529"
   ]
  },
  {
   "cell_type": "markdown",
   "id": "b2dc5673",
   "metadata": {},
   "source": [
    "<a id='galigna3'></a>\n",
    "\n",
    "# Step : $G_{a^3}^{\\textrm{align}}$ \\[Back to [top](#toc)\\]\n",
    "$$\\label{gpreca3}$$\n",
    "\n",
    "The cubic-in-spin term $G_{a^3}^{\\rm prec}$ is expressed in [LB2023](https://arxiv.org/abs/2303.18046) Equation A4:\n",
    "\\begin{equation*}\n",
    "    G_{a^3}^{\\rm prec} = \\frac{p_{\\phi}}{4r^2}\\left( \\delta a_{-}a_{+}^{2} - a_{+}^{3} \\right) \n",
    "\\end{equation*}\n",
    "\n",
    "Here, $r$, and $p_\\phi$ are the radial distance and the azimuthal momentum respectively.$\\delta$ is defined in [this cell](#delta), and ${a}_{\\pm}$ is defined in [this cell](#a)."
   ]
  },
  {
   "cell_type": "code",
   "execution_count": 7,
   "id": "4f21767b",
   "metadata": {},
   "outputs": [
    {
     "name": "stdout",
     "output_type": "stream",
     "text": [
      "Appending to Hamiltonian/v5HM_Hamiltonian-Hreal_on_top.txt\n"
     ]
    }
   ],
   "source": [
    "%%writefile -a $Ccodesdir/v5HM_Hamiltonian-Hreal_on_top.txt\n",
    "Galigna3 = pphi*(delta*am*ap**2 - ap**3)/(4*r**2)"
   ]
  },
  {
   "cell_type": "markdown",
   "id": "c8eee7e6",
   "metadata": {},
   "source": [
    "# Step : The Even-In-Spin Terms"
   ]
  },
  {
   "cell_type": "markdown",
   "id": "b2a89130",
   "metadata": {},
   "source": [
    "<a id='aalign'></a>\n",
    "\n",
    "# Step : $A^{\\textrm{align}}$ \\[Back to [top](#toc)\\]\n",
    "$$\\label{apprec}$$\n",
    "\n",
    "The potential $A^{\\rm align}$ is expressed in [RBB2023](https://arxiv.org/abs/2303.18046) Equation A5:\n",
    "\\begin{equation*}\n",
    "    A^{\\rm align} = \\frac{a_{+}^{2}/r^{2} + A_{\\rm noS} + A^{align}_{\\rm SS}}{1 + \\left(1 + 2/r\\right)a_{+}^{2}/r^{2}}.\n",
    "\\end{equation*}\n",
    "\n",
    "Here, $r$ is the radial distance and $a_{+}$ is defined [in this cell](#a). The spin-spin contribution, $ A_{\\rm SS}^{\\rm align}$ is defined in [this cell](#aalignss), and the non-spinning contribution, $A_{\\rm noS}$ is defined in [this cell](#anons)."
   ]
  },
  {
   "cell_type": "code",
   "execution_count": 8,
   "id": "86abfa7b",
   "metadata": {},
   "outputs": [
    {
     "name": "stdout",
     "output_type": "stream",
     "text": [
      "Appending to Hamiltonian/v5HM_Hamiltonian-Hreal_on_top.txt\n"
     ]
    }
   ],
   "source": [
    "%%writefile -a $Ccodesdir/v5HM_Hamiltonian-Hreal_on_top.txt\n",
    "Aalign = (ap**2*u*u + Anons + AalignSS )/(1 + ap**2*(1 + 2/r)/(r**2) )"
   ]
  },
  {
   "cell_type": "markdown",
   "id": "5e17e912",
   "metadata": {},
   "source": [
    "<a id='bkerreqnpa'></a>\n",
    "\n",
    "# Step : $B_{npa}^{\\textrm{Kerr eq}}$ \\[Back to [top](#toc)\\]\n",
    "$$\\label{bkerrnpa}$$\n",
    "\n",
    "The potential $B_{npa}^{\\rm Kerr eq}$ is expressed in [RBB2023](https://arxiv.org/abs/2303.18046) Equation A4:\n",
    "\\begin{equation*}\n",
    "    B_{npa}^{\\rm calib} = -\\frac{1 + 2/r}{r^2 + a_{+}^2\\left(1 + 2/r\\right)}.\n",
    "\\end{equation*}\n",
    "\n",
    "Here, $r$ is the radial distance, and ${a}_{+}$ is defined in [this cell](#a)."
   ]
  },
  {
   "cell_type": "code",
   "execution_count": 9,
   "id": "0c94a3af",
   "metadata": {},
   "outputs": [
    {
     "name": "stdout",
     "output_type": "stream",
     "text": [
      "Appending to Hamiltonian/v5HM_Hamiltonian-Hreal_on_top.txt\n"
     ]
    }
   ],
   "source": [
    "%%writefile -a $Ccodesdir/v5HM_Hamiltonian-Hreal_on_top.txt\n",
    "Bkerreqnp = - (1 + 2/r)/(r**2 + ap**2*(1 + 2/r))"
   ]
  },
  {
   "cell_type": "markdown",
   "id": "24f2a37a",
   "metadata": {},
   "source": [
    "<a id='bnpalign'></a>\n",
    "\n",
    "# Step : $B_{p}^{\\textrm{align}}$ \\[Back to [top](#toc)\\]\n",
    "$$\\label{bnpalign}$$\n",
    "\n",
    "The potential $B_{np}^{\\rm align}$ is expressed in [RBB2023](https://arxiv.org/abs/2303.18046) Equation A5:\n",
    "\\begin{equation*}\n",
    "    B_{np}^{\\rm align} = -1 + a_{+}^{2}/r^{2} + A_{\\rm noS}\\bar{D}_{\\rm noS} + {B}_{np,\\rm SS}^{\\rm align}.\n",
    "\\end{equation*}\n",
    "\n",
    "Here, $r$ is the radial distance, and $a_{+}$ is defined in [this cell](#a). The spin-spin contribution $ B_{np,\\rm SS}^{\\rm prec}$ is defined in [this cell](#bnpssalign). The non-spinning potential $A_{\\rm noS}$ is defined in [this cell](#anons), and $\\bar{D}_{\\rm noS}$ is defined in [this cell](#dnons)"
   ]
  },
  {
   "cell_type": "code",
   "execution_count": 10,
   "id": "37cf1251",
   "metadata": {},
   "outputs": [
    {
     "name": "stdout",
     "output_type": "stream",
     "text": [
      "Appending to Hamiltonian/v5HM_Hamiltonian-Hreal_on_top.txt\n"
     ]
    }
   ],
   "source": [
    "%%writefile -a $Ccodesdir/v5HM_Hamiltonian-Hreal_on_top.txt\n",
    "Balignnp = -1 + ap**2*u*u + Anons*Dnons + BnpalignSS"
   ]
  },
  {
   "cell_type": "markdown",
   "id": "c53bc721",
   "metadata": {},
   "source": [
    "<a id='qalign'></a>\n",
    "\n",
    "# Step : $Q^{\\textrm{align}}$ \\[Back to [top](#toc)\\]\n",
    "$$\\label{qalign}$$\n",
    "\n",
    "The potential $Q^{\\rm align}$ is expressed in [RBB2023](https://arxiv.org/abs/2303.18046) Equation A5:\n",
    "\\begin{equation*}\n",
    "    Q^{\\rm align} = Q_{\\rm noS} + Q_{\\rm SS}^{\\rm align}.\n",
    "\\end{equation*}\n",
    "\n",
    "The spin-spin contribution $ Q_{\\rm SS}^{\\rm align}$ is defined in [this cell](#qssalign). The non-spinning contribution, $Q_{\\rm noS}$ is defined in [this cell](#qnos)."
   ]
  },
  {
   "cell_type": "code",
   "execution_count": 11,
   "id": "f88447ba",
   "metadata": {},
   "outputs": [
    {
     "name": "stdout",
     "output_type": "stream",
     "text": [
      "Appending to Hamiltonian/v5HM_Hamiltonian-Hreal_on_top.txt\n"
     ]
    }
   ],
   "source": [
    "%%writefile -a $Ccodesdir/v5HM_Hamiltonian-Hreal_on_top.txt\n",
    "Qalign = Qnos + QalignSS"
   ]
  },
  {
   "cell_type": "markdown",
   "id": "5a913d7f",
   "metadata": {},
   "source": [
    "# Step : The Spin-Spin Contributions"
   ]
  },
  {
   "cell_type": "markdown",
   "id": "fccf36a8",
   "metadata": {},
   "source": [
    "<a id='aalignss'></a>\n",
    "\n",
    "# Step : $A_{\\rm SS}^{\\textrm{align}}$ \\[Back to [top](#toc)\\]\n",
    "$$\\label{aalignss}$$\n",
    "\n",
    "The potential $A_{\\rm SS}^{\\rm align}$ is expressed in [RBB2023](https://arxiv.org/abs/2303.18046) Equation A6a:\n",
    "\\begin{equation*}\n",
    "    A_{\\rm SS}^{\\rm align} = \\frac{1}{r^4}\\left[ \\frac{9a_{+}^{2}}{8} - \\frac{5}{4}\\delta {a}_{-}{a}_{+} + a_{-}^{2}\\left( \\frac{\\eta}{2} + \\frac{1}{8} \\right) \\right] + \\frac{1}{r^5}\\left[ a_{+}^{2}\\left( -\\frac{175\\eta}{64} - \\frac{225}{64} \\right) + \\delta {a}_{-}{a}_{+}\\left( \\frac{117}{32} - \\frac{39\\eta}{16} \\right) + a_{-}^{2} \\left( \\frac{21\\eta^{2}}{16} - \\frac{81\\eta}{64} - \\frac{9}{64} \\right) \\right].\n",
    "\\end{equation*}\n",
    "\n",
    "Here, $r$ is the radial distance, $\\eta$ is defined in [this cell](#eta) and ${a}_{\\pm}$ is defined [in this cell](#a). "
   ]
  },
  {
   "cell_type": "code",
   "execution_count": 12,
   "id": "c4304d23",
   "metadata": {},
   "outputs": [
    {
     "name": "stdout",
     "output_type": "stream",
     "text": [
      "Appending to Hamiltonian/v5HM_Hamiltonian-Hreal_on_top.txt\n"
     ]
    }
   ],
   "source": [
    "%%writefile -a $Ccodesdir/v5HM_Hamiltonian-Hreal_on_top.txt\n",
    "AalignSS = (\n",
    "    (1/r**4)*(\n",
    "        ap**2*sp.Rational(9,8)\n",
    "        - delta*ap*am*sp.Rational(5,4)\n",
    "        + am**2*(\n",
    "            eta*sp.Rational(1,2) \n",
    "            + sp.Rational(1,8)\n",
    "        )\n",
    "    )\n",
    "    + (1/r**5)*(\n",
    "        ap**2*(\n",
    "            -eta*sp.Rational(175,64) \n",
    "            - sp.Rational(225,64)\n",
    "        )\n",
    "        + delta*ap*am*(\n",
    "            -eta*sp.Rational(39,16) \n",
    "            + sp.Rational(117,32)\n",
    "        )\n",
    "        + am**2*(\n",
    "            eta*eta*sp.Rational(21,16) \n",
    "            - eta*sp.Rational(81,64) \n",
    "            - sp.Rational(9,64)\n",
    "        )\n",
    "    )\n",
    ")"
   ]
  },
  {
   "cell_type": "markdown",
   "id": "d6f505d5",
   "metadata": {},
   "source": [
    "<a id='bnpalignss'></a>\n",
    "\n",
    "# Step : $B_{np,\\rm SS}^{\\textrm{align}}$ \\[Back to [top](#toc)\\]\n",
    "$$\\label{bnpalignss}$$\n",
    "\n",
    "The potential $B_{\\rm SS}^{\\rm align}$ is expressed in [RBB2023](https://arxiv.org/abs/2303.18046) Equation A6b:\n",
    "\\begin{equation*}\n",
    "    B_{np,\\rm SS}^{\\rm align} = \\frac{1}{r^3}\\left[ a_{+}^{2}\\left(3\\eta + \\frac{45}{16}\\right) - \\frac{21}{8}\\delta {a}_{+}{a}_{-} + a_{-}^{2}\\left( \\frac{3\\eta}{4} - \\frac{3}{16} \\right) \\right] + \\frac{1}{r^4}\\left[ a_{+}^{2}\\left( -\\frac{1171\\eta}{64} - \\frac{861}{64} \\right) + \\delta {a}_{+}{a}_{-}\\left( \\frac{449}{32} + \\frac{13\\eta}{16} \\right) + a_{-}^{2} \\left( \\frac{\\eta^{2}}{16} + \\frac{115\\eta}{64} - \\frac{37}{64} \\right) \\right].\n",
    "\\end{equation*}\n",
    "\n",
    "Here, $r$ is the radial distance, $\\eta$ is defined in [this cell](#eta), and ${a}_{\\pm}$ is defined [in this cell](#a)."
   ]
  },
  {
   "cell_type": "code",
   "execution_count": 13,
   "id": "3d0f653a",
   "metadata": {},
   "outputs": [
    {
     "name": "stdout",
     "output_type": "stream",
     "text": [
      "Appending to Hamiltonian/v5HM_Hamiltonian-Hreal_on_top.txt\n"
     ]
    }
   ],
   "source": [
    "%%writefile -a $Ccodesdir/v5HM_Hamiltonian-Hreal_on_top.txt\n",
    "BnpalignSS = (\n",
    "    (1/r**3)*( \n",
    "        ap**2*(\n",
    "            3*eta \n",
    "            + sp.Rational(45,16)\n",
    "        )\n",
    "        - delta*ap*am*sp.Rational(21,8)\n",
    "        + am**2*(\n",
    "            eta*sp.Rational(3,4) \n",
    "            - sp.Rational(3,16)\n",
    "        )\n",
    "    )\n",
    "    + (1/r**4)*( \n",
    "        ap**2*(\n",
    "            -eta*sp.Rational(1171,64) \n",
    "            - sp.Rational(861,64)\n",
    "        )\n",
    "        + delta*ap*am*(\n",
    "            eta*sp.Rational(13,16) \n",
    "            + sp.Rational(449,32)\n",
    "        )\n",
    "        + am**2*(\n",
    "            eta*eta*sp.Rational(1,16) \n",
    "            + eta*sp.Rational(115,64) \n",
    "            - sp.Rational(37,64)\n",
    "        ) \n",
    "    )\n",
    ")"
   ]
  },
  {
   "cell_type": "markdown",
   "id": "fa1dd9ac",
   "metadata": {},
   "source": [
    "<a id='qalignss'></a>\n",
    "\n",
    "# Step : $Q_{\\rm SS}^{\\textrm{align}}$ \\[Back to [top](#toc)\\]\n",
    "$$\\label{qalignss}$$\n",
    "\n",
    "The potential $Q_{\\rm SS}^{\\rm align}$ is expressed in [RBB2023](https://arxiv.org/abs/2303.18046) Equation A6c:\n",
    "\\begin{equation*}\n",
    "    Q_{\\rm SS}^{\\rm align} = \\frac{ p_{r}^{4} }{ r^3 }\\left[ a_{+}^{2}\\left(-5\\eta^2 + \\frac{165\\eta}{32} + \\frac{25}{32} \\right) + \\delta {a}_{+}{a}_{-}\\left( \\frac{45\\eta}{8} - \\frac{5}{16} \\right) + a_{-}^{2} \\left( -\\frac{15\\eta^{2}}{8} + \\frac{75\\eta}{32} - \\frac{15}{32} \\right) \\right].\n",
    "\\end{equation*}\n",
    "\n",
    "Here, $r$ is the radial distance, $p_{r}$ is defined in [this cell](#pr), $\\eta$ is defined in [this cell](#eta), and ${a}_{\\pm}$ is defined in [this cell](#a). "
   ]
  },
  {
   "cell_type": "code",
   "execution_count": 14,
   "id": "fa612fcb",
   "metadata": {},
   "outputs": [
    {
     "name": "stdout",
     "output_type": "stream",
     "text": [
      "Appending to Hamiltonian/v5HM_Hamiltonian-Hreal_on_top.txt\n"
     ]
    }
   ],
   "source": [
    "%%writefile -a $Ccodesdir/v5HM_Hamiltonian-Hreal_on_top.txt\n",
    "QalignSS = ((pr**4)/(r**3))*( \n",
    "        ap**2*( \n",
    "            -5*eta*eta \n",
    "            + eta*sp.Rational(165,32) \n",
    "            + sp.Rational(25,32)\n",
    "        )\n",
    "        + delta*ap*am*(\n",
    "            eta*sp.Rational(45,8) \n",
    "            - sp.Rational(5,16)\n",
    "        )\n",
    "        + am**2*(\n",
    "            -eta*eta*sp.Rational(15,8) \n",
    "            + eta*sp.Rational(75,32) \n",
    "            - sp.Rational(15,32)\n",
    "        ) \n",
    "    )"
   ]
  },
  {
   "cell_type": "markdown",
   "id": "861d3b54",
   "metadata": {},
   "source": [
    "<a id='pr'></a>\n",
    "\n",
    "# Step : The canonical momentum $p_{r}$ \\[Back to [top](#toc)\\]\n",
    "$$\\label{pr}$$\n",
    "\n",
    "The canonical momentum is expressed in [KB2023](https://arxiv.org/abs/2303.18143) Equation 42:\n",
    "\\begin{equation*}\n",
    "    p_r = \\frac{p_{r_*}}{\\xi(r)}.\n",
    "\\end{equation*}\n",
    "\n",
    "Here, $p_{r_*}$ is the tortoise momentum, and $\\xi(r)$ is defined in [this cell](#xi)."
   ]
  },
  {
   "cell_type": "code",
   "execution_count": 15,
   "id": "61ee0267",
   "metadata": {},
   "outputs": [
    {
     "name": "stdout",
     "output_type": "stream",
     "text": [
      "Appending to Hamiltonian/v5HM_Hamiltonian-Hreal_on_top.txt\n"
     ]
    }
   ],
   "source": [
    "%%writefile -a $Ccodesdir/v5HM_Hamiltonian-Hreal_on_top.txt\n",
    "pr = prstar/xi"
   ]
  },
  {
   "cell_type": "markdown",
   "id": "516dedd5",
   "metadata": {},
   "source": [
    "<a id='xi'></a>\n",
    "\n",
    "# Step : The tortoise transformation $\\xi(r)$ \\[Back to [top](#toc)\\]\n",
    "$$\\label{xi}$$\n",
    "\n",
    "The canonical momentum is expressed in [KB2023](https://arxiv.org/abs/2303.18143) Equation 44:\n",
    "\\begin{equation*}\n",
    "    \\xi = \\frac{\\sqrt{D_{\\rm noS}} \\left( A_{\\rm noS} + a_{+}^{2}/r^{2} \\right) }{1 + a_{+}^2/r^2}.\n",
    "\\end{equation*}\n",
    "\n",
    "Here, $r$ is the radial distance. The potentials: $D_{\\rm noS}$ is defined in [this cell](#dnons), and $A_{\\rm noS}$ is defined in [this cell](#anons). The spin combination $a_{+}$ is given in [this cell](#a)"
   ]
  },
  {
   "cell_type": "code",
   "execution_count": 16,
   "id": "c2f0e092",
   "metadata": {},
   "outputs": [
    {
     "name": "stdout",
     "output_type": "stream",
     "text": [
      "Appending to Hamiltonian/v5HM_Hamiltonian-Hreal_on_top.txt\n"
     ]
    }
   ],
   "source": [
    "%%writefile -a $Ccodesdir/v5HM_Hamiltonian-Hreal_on_top.txt\n",
    "xi = sp.sqrt(Dnons) * ( Anons + ap**2*u*u ) / (1 + ap**2*u*u)"
   ]
  },
  {
   "cell_type": "markdown",
   "id": "bef0b7a7",
   "metadata": {},
   "source": [
    "# Step : The Non-Spinning Contributions"
   ]
  },
  {
   "cell_type": "markdown",
   "id": "5ecfec8a",
   "metadata": {},
   "source": [
    "<a id='anons'></a>\n",
    "\n",
    "# Step : $A_{\\textrm{noS}}$ \\[Back to [top](#toc)\\]\n",
    "$$\\label{anons}$$\n",
    "\n",
    "The Taylor potential $A_{\\rm noS}$ is expressed in [KB2023](https://arxiv.org/abs/2303.18143) Equation 21:\n",
    "\\begin{equation*}\n",
    "    {A}_{\\rm noS}^{\\rm Tay} = 1 + - 2u + 2\\eta u^3 + \\eta\\left(\\frac{94}{3} - \\frac{41\\pi^2}{32} \\right)u^4 + \\left[ \\eta\\left( \\frac{2275\\pi^2}{512} - \\frac{4237}{60} + \\frac{128\\gamma_E}{5} + \\frac{256 \\ln 2}{5} \\right) + \\eta^2\\left(\\frac{41\\pi^2}{32} - \\frac{221}{6}\\right) + \\frac{64}{5}\\eta \\ln u \\right]u^5 + \\left[\\eta a_6 - \\eta\\left(\\frac{144\\eta}{5} + \\frac{7004}{105}\\right)\\ln u \\right]u^6.\n",
    "\\end{equation*}\n",
    "\n",
    "Here, $u$ is the inverse of the radial distance, defined in [this cell](#u). $\\gamma_E$ is the Euler-Mascheroni constant, and $a_{6}$ is an NR calibration coefficient defined in [this cell](#nr).\n",
    "\n",
    "The non-spinning potential $A_{\\rm noS}$ is defined as the Padé approximant:\n",
    "\n",
    "\\begin{equation*}\n",
    "    A_{\\rm noS} = P^{1}_{5}\\left[ A_{\\rm noS}^{\\rm Tay} \\right]\n",
    "\\end{equation*}"
   ]
  },
  {
   "cell_type": "code",
   "execution_count": 17,
   "id": "5104af72",
   "metadata": {},
   "outputs": [
    {
     "name": "stdout",
     "output_type": "stream",
     "text": [
      "Appending to Hamiltonian/v5HM_Hamiltonian-Hreal_on_top.txt\n"
     ]
    }
   ],
   "source": [
    "%%writefile -a $Ccodesdir/v5HM_Hamiltonian-Hreal_on_top.txt\n",
    "Anons = 7680.0*r**4*(-5416406.59541186*eta**2 + 28.0*eta*(1920.0*a6 + 733955.307463037) + 2048.0*eta*(756.0*eta + 336.0*r + 407.0)*sp.log(r) - 7.0*r*(-185763.092693281*eta**2 + 938918.400156317*eta - 245760.0) - 3440640.0)/(241555486248.807*eta**4 + 1120.0*eta**3*(-17833256.898555*r**2 - 163683964.822551*r - 1188987459.03162) + 7.0*eta**2*(-39321600.0*a6*(3.0*r + 59.0) + 745857848.115604*a6 + 1426660551.8844*r**5 - 3089250703.76879*r**4 - 6178501407.53758*r**3 + 2064783811.32587*r**2 + 122635399361.987*r + 276057889687.011) + 67645734912.0*eta**2*sp.log(r)**2 + 53760.0*eta*(7680.0*a6*(r**4 + 2.0*r**3 + 4.0*r**2 + 8.0*r + 16.0) + 128.0*r*(-6852.34813868015*r**4 + 4264.6962773603*r**3 + 8529.39255472061*r**2 + 13218.7851094412*r - 33722.4297811176) + 113485.217444961*r*(-r**4 + 2.0*r**3 + 4.0*r**2 + 8.0*r + 16.0) + 148.04406601634*r*(349.0*r**4 + 1926.0*r**3 + 3852.0*r**2 + 7704.0*r + 36400.0)) + 32768.0*eta*(-1882456.23663972*eta**2 - 38842241.4769507*eta + 161280.0*r**5 + 480.0*r**4*(756.0*eta + 1079.0) + 960.0*r**3*(756.0*eta + 1079.0) + 1920.0*r**2*(588.0*eta + 1079.0) + 240.0*r*(-3024.0*eta**2 - 7466.27061066206*eta + 17264.0) + 13447680.0)*sp.log(r) + 13212057600.0*r**5)"
   ]
  },
  {
   "cell_type": "markdown",
   "id": "2673e720",
   "metadata": {},
   "source": [
    "<a id='dnons'></a>\n",
    "\n",
    "# Step : $\\bar{D}_{\\textrm{noS}}$ \\[Back to [top](#toc)\\]\n",
    "$$\\label{dnons}$$\n",
    "\n",
    "The Taylor potential $\\bar{D}_{\\rm noS}$ is expressed in [KB2023](https://arxiv.org/abs/2303.18143) Equation 23:\n",
    "\\begin{equation*}\n",
    "    \\bar{D}_{\\rm noS}^{\\rm Tay} = 1 + 6\\eta u^2 + \\left(-6\\eta^2 + 52\\eta\\right) u^3 + \\left[ \\eta\\left( -\\frac{23761\\pi^2}{1536} - \\frac{533}{45} + \\frac{1184\\gamma_E}{15} - \\frac{6496 \\ln 2}{15} + \\frac{2916 \\ln 3}{5}\\right) + \\eta^2\\left(\\frac{123\\pi^2}{16} - 260\\right) + \\frac{592}{15}\\eta \\ln u \\right]u^4 + \\left[ \\eta\\left( \\frac{294464}{175} - \\frac{2840\\gamma_E}{7} - \\frac{63707\\pi^2}{512} + \\frac{120648 \\ln 2}{35} - \\frac{19683}{7} \\right) \\left( \\frac{1069}{3} - \\frac{205\\pi^2}{16} \\right)\\eta^3 + \\left( d^{\\eta^2}_{5} - \\frac{6784\\gamma_E}{15} + \\frac{67736}{105} + \\frac{58320 \\ln 3}{7} - \\frac{326656 \\ln 2}{21} \\right)\\eta^2 \\right]u^5.\n",
    "\\end{equation*}\n",
    "\n",
    "Here, $u$ is the inverse of the radial distance, defined in [this cell](#u). $\\gamma_E$ is the Euler-Mascheroni constant, defined in [this cell](#emgamma) and $d^{\\eta^2}_{5}$ is an NR calibration coefficient that is set to zero.\n",
    "\n",
    "The non-spinning potential $\\bar{D}_{\\rm noS}$ is defined as the Padé approximant:\n",
    "\n",
    "\\begin{equation*}\n",
    "    D_{\\rm noS} = P^{2}_{3}\\left[ D_{\\rm noS}^{\\rm Tay} \\right]\n",
    "\\end{equation*}"
   ]
  },
  {
   "cell_type": "code",
   "execution_count": 18,
   "id": "74069ad0",
   "metadata": {},
   "outputs": [
    {
     "name": "stdout",
     "output_type": "stream",
     "text": [
      "Appending to Hamiltonian/v5HM_Hamiltonian-Hreal_on_top.txt\n"
     ]
    }
   ],
   "source": [
    "%%writefile -a $Ccodesdir/v5HM_Hamiltonian-Hreal_on_top.txt\n",
    "Dnons = r*(6730497718123.02*eta**3 + 22295347200.0*eta**2*d5 + 133772083200.0*eta**2*r**2 + 1822680546449.21*eta**2*r + 80059249540278.2*eta**2 + 22295347200.0*eta*d5*r - 193226342400.0*eta*d5 + 2589101062873.81*eta*r**2 + 10611661054566.2*eta*r - 12049908701745.2*eta + 5107745331375.71*r**2 - 326837426.241486*r*(14700.0*eta + 42911.0) - 39476764256925.6*r - (-5041721180160.0*eta**2 - 25392914995744.3*eta - 879923036160.0*r**2 - 283115520.0*r*(14700.0*eta + 42911.0) + 104186110149937.0)*sp.log(r) + 5787938193408.0*sp.log(r)**2 + 275059053208689.0)/(55296.0*eta*(14515200.0*eta**3 - 42636451.6032331*eta**2 - 7680.0*eta*(315.0*d5 + 890888.810272497) + 4331361844.61149*eta + 1002013764.01019) - 967680.0*r**3*(-138240.0*eta**2 - 2675575.66847905*eta - 5278341.3229329) - 9216.0*r**2*(-197773496.793534*eta**2 - 7680.0*eta*(315.0*d5 + 405152.309729121) + 2481453539.84635*eta + 5805304367.87913) + r*(5927865218923.02*eta**3 + 70778880.0*eta**2*(315.0*d5 + 2561145.80918574) - 138141470005001.0*eta**2 - 4718592.0*eta*(40950.0*d5 + 86207832.4415642) + 450172889755120.0*eta + 86618264430493.3*(1 - 0.496948781616935*eta)**2 + 188440788778196.0) + 5787938193408.0*r*sp.log(r)**2 + (-1698693120.0*eta*(11592.0*eta + 69847.0) + 879923036160.0*r**3 + 283115520.0*r**2*(14700.0*eta + 42911.0) + 49152.0*r*(102574080.0*eta**2 + 409207698.136075*eta - 2119671837.36038))*sp.log(r))\n",
    "d5 = 0"
   ]
  },
  {
   "cell_type": "markdown",
   "id": "ed09b8c2",
   "metadata": {},
   "source": [
    "<a id='qnons'></a>\n",
    "\n",
    "# Step : $Q_{\\textrm{noS}}$ \\[Back to [top](#toc)\\]\n",
    "$$\\label{qnons}$$\n",
    "\n",
    "The potential $Q_{\\rm noS}$ is expressed in [PB2023](https://arxiv.org/pdf/2303.18039.pdf) Equation A2:\n",
    "\n",
    "\\begin{align}\n",
    "\\label{QpmTay}\n",
    "Q_\\text{noS} &= {p_{r_*}^4} \\Bigg\\lbrace 2 (4 - 3 \\eta) \\eta u^2 \n",
    "+u^3 \\left[10 \\eta ^3-131 \\eta ^2+\\eta  \\left(-\\frac{4348}{15}+\\frac{496256 \\ln 2}{45}-\\frac{33048 \\ln 3}{5}\\right)\\right]\n",
    "+ u^4 \\Bigg[\\left(792-\\frac{615 \\pi ^2}{32}\\right) \\eta ^3  \\nonumber\\\\\n",
    "&\\qquad\n",
    "+\\eta ^2 \\left(-\\frac{592 \\ln u}{5}+\\frac{31633 \\pi ^2}{512}-\\frac{1184 \\gamma_E}{5}+\\frac{45683}{105}+\\frac{33693536 \\ln 2}{105}-\\frac{6396489 \\ln 3}{70}-\\frac{9765625 \\ln 5}{126}\\right) \\nonumber\\\\\n",
    "&\\qquad\n",
    "+\\eta  \\left(\\frac{5428 \\ln u}{105}+\\frac{1249177}{1050}-\\frac{93031 \\pi ^2}{1536}+\\frac{10856 \\gamma_E }{105}-\\frac{4396376}{105} \\ln 2+\\frac{9765625 \\ln 5}{504}-\\frac{601911 \\ln 3}{280}\\right)\\Bigg] \n",
    "+ \\frac{88703 \\pi  \\eta  u^{9/2}}{1890} \\Bigg\\rbrace \n",
    "\\nonumber\\\\\n",
    "&\\quad \n",
    "+ {p_{r_*}^6} \\Bigg\\lbrace\n",
    "u^2 \\left[6 \\eta ^3-\\frac{27 \\eta ^2}{5}+\\eta  \\left(-\\frac{827}{3}-\\frac{1}{25} 2358912 \\ln 2+\\frac{1399437 \\ln 3}{50}+\\frac{390625 \\ln 5}{18}\\right)\\right] \\nonumber\\\\\n",
    "&\\qquad\n",
    "+ u^3 \\Bigg[-14 \\eta ^4+188 \\eta ^3+\\eta ^2 \\left(\\frac{154229}{75}-\\frac{4998308864 \\ln 2}{1575}+\\frac{26171875 \\ln 5}{18}-\\frac{45409167 \\ln 3}{350}\\right) \\nonumber\\\\\n",
    "&\\quad\\qquad\n",
    "+\\eta  \\left(-\\frac{860317}{1050}+\\frac{305146624 \\ln 2}{945}+\\frac{35643726 \\ln 3}{175}-\\frac{52468750 \\ln 5}{189}\\right)\\Bigg]\n",
    "-\\frac{2723471 \\pi  \\eta  u^{7/2}}{756000} \\Bigg\\rbrace \n",
    "\\nonumber\\\\\n",
    "&\\quad\n",
    "+ {p_{r_*}^8} \\Bigg\\lbrace\n",
    "u \\eta  \\left[-\\frac{35772}{175}+\\frac{21668992 \\ln 2}{45}+\\frac{6591861 \\ln 3}{350}-\\frac{27734375 \\ln 5}{126}\\right]\n",
    "+\\frac{5994461 \\pi  \\eta  u^{5/2}}{12700800} + u^2 \\Bigg[-6 \\eta ^4+\\frac{24 \\eta ^3}{7} \\nonumber\\\\\n",
    "&\\quad\\qquad\n",
    "+\\eta ^2 \\left(\\frac{870976}{525}+\\frac{703189497728 \\ln 2}{33075}+\\frac{332067403089 \\ln 3}{39200}-\\frac{13841287201 \\ln 7}{4320}-\\frac{468490234375 \\ln 5}{42336}\\right) \\nonumber\\\\\n",
    "&\\quad\\qquad\n",
    "+\\eta  \\left(-\\frac{2222547}{2450}-\\frac{1347019456}{525}  \\ln 2+\\frac{278690984375 \\ln 5}{169344}+\\frac{13841287201 \\ln 7}{17280}-\\frac{346536085761 \\ln 3}{156800}\\right)\\Bigg]\n",
    "\\Bigg\\rbrace.\n",
    "\\end{align}\n",
    "\n",
    "Here, $u$ is the inverse of the radial distance, defined in [this cell](#u).$a_{6}$ is an NR calibration coefficient defined in [this cell](#nr). Following the discussion under Equation 45 in [KB2023](https://arxiv.org/abs/2303.18143), we can replace the canonical momentum $p_r$ in the above equation with the tortoise momentum $p_{r_{*}}$, which is an input variable.  $\\gamma_E$ is the Euler-Mascheroni constant, and is defined in the sympy library."
   ]
  },
  {
   "cell_type": "code",
   "execution_count": 19,
   "id": "9b0bcc2c",
   "metadata": {},
   "outputs": [
    {
     "name": "stdout",
     "output_type": "stream",
     "text": [
      "Appending to Hamiltonian/v5HM_Hamiltonian-Hreal_on_top.txt\n"
     ]
    }
   ],
   "source": [
    "%%writefile -a $Ccodesdir/v5HM_Hamiltonian-Hreal_on_top.txt\n",
    "Qnos = Qnosterm1 + Qnosterm2 + Qnosterm3\n",
    "Qnosterm1 = (prstar**4) *(\n",
    "    2 * (4 - 3 * eta) * eta * u**2\n",
    "    + u**3 * (\n",
    "        10 * eta**3 \n",
    "        - 131 * eta**2 \n",
    "        + eta * (\n",
    "            -sp.Rational(4348, 15) + sp.Rational(496256,45) * sp.log(2) - sp.Rational(33048,5) * sp.log(3)\n",
    "        )\n",
    "    )\n",
    "    + u**4 * (\n",
    "        (792 - sp.Rational(615,32) * sp.pi**2) * eta**3\n",
    "        + eta**2 * (\n",
    "            - sp.Rational(592,5)*sp.log(u) + sp.Rational(31633,512) * sp.pi**2  - sp.Rational(1184,5) * sp.EulerGamma  \n",
    "            + sp.Rational(45683, 105) + sp.Rational(33693536,105) * sp.log(2) - sp.Rational(6396489,70) * sp.log(3) \n",
    "            - sp.Rational(9765625,126) * sp.log(5)\n",
    "        )\n",
    "        + eta * (\n",
    "            sp.Rational(5428,105)*sp.log(u) + sp.Rational(1249177, 1050) - sp.Rational(93031,1536) * sp.pi**2 \n",
    "            + sp.Rational(10856,105) * sp.EulerGamma - sp.Rational(4396376, 105) * sp.log(2) + sp.Rational(9765625,504) * sp.log(5)\n",
    "            - sp.Rational(601911,280) * sp.log(3)\n",
    "        )\n",
    "    )\n",
    "    + sp.Rational(88703, 1890) * sp.pi * eta * u**(sp.Rational(9, 2))\n",
    ")\n",
    "\n",
    "Qnosterm2 = (prstar**6) * ( \n",
    "    u**2 * ( 6*eta**3 \n",
    "            - sp.Rational(27,5)*eta**2\n",
    "            + eta*(\n",
    "                -sp.Rational(827,3) - sp.Rational(2358912,25)*sp.log(2) + sp.Rational(1399437,50)*sp.log(3) \n",
    "                + sp.Rational(390625,18)*sp.log(5)\n",
    "            ) \n",
    "           )\n",
    "    + u**3 * ( -14*eta**4 \n",
    "              + 188*eta**3\n",
    "              + eta**2 * ( \n",
    "                  sp.Rational(154229,75) - sp.Rational(4998308864,1575)*sp.log(2) + sp.Rational(26171875,18)*sp.log(5)\n",
    "                  - sp.Rational(45409167,350)*sp.log(3)\n",
    "              )\n",
    "              + eta * ( \n",
    "                  -sp.Rational(860317,1050) + sp.Rational(305146624,945)*sp.log(2) + sp.Rational(35643726,175)*sp.log(3)\n",
    "                  - sp.Rational(52468750,189)*sp.log(5)\n",
    "              )\n",
    "             )\n",
    "    - sp.Rational(2723471,756000)*sp.pi*eta*u**(sp.Rational(7,2))\n",
    ")\n",
    "\n",
    "Qnosterm3 = (prstar**8) * ( \n",
    "    u*eta * ( \n",
    "        -sp.Rational(35772,175) + sp.Rational(21668992,45)*sp.log(2) + sp.Rational(6591861,350)*sp.log(3) \n",
    "        - sp.Rational(27734375,126)*sp.log(5)\n",
    "    )\n",
    "    +u**2 * (\n",
    "        -6*eta**4 + \n",
    "        sp.Rational(24,7)*eta**3\n",
    "        +eta**2 * (\n",
    "            sp.Rational(870976,525) + sp.Rational(703189497728,33075)*sp.log(2) + sp.Rational(332067403089,39200)*sp.log(3)\n",
    "            -sp.Rational(13841287201,4320)*sp.log(7) - sp.Rational(468490234375,42336)*sp.log(5)\n",
    "        )\n",
    "        +eta * (\n",
    "            -sp.Rational(2222547,2450) - sp.Rational(1347019456,525)*sp.log(2) + sp.Rational(278690984375,169344)*sp.log(5)\n",
    "            +sp.Rational(13841287201,17280)*sp.log(7) - sp.Rational(346536085761,156800)*sp.log(3)\n",
    "        )\n",
    "    )\n",
    "    +sp.Rational(5994461,12700800)*sp.pi*eta*u**(sp.Rational(5,2))\n",
    ")"
   ]
  },
  {
   "cell_type": "markdown",
   "id": "bcd2baaa",
   "metadata": {},
   "source": [
    "<a id='a'></a>\n",
    "\n",
    "# Step : The spin combinations ${a}_{\\pm}$ \\[Back to [top](#toc)\\]\n",
    "$$\\label{a}$$\n",
    "\n",
    "In this section, we define the spin combinations as expressed in [RBB2023](https://arxiv.org/abs/2303.18046) Equation 3:\n",
    "\n",
    "\\begin{equation*}\n",
    "    {a}_{\\pm} = \\frac{m_1}{M}{\\chi}_{1} \\pm \\frac{m_2}{M}{\\chi}_{2}.\n",
    "\\end{equation*}\n",
    "\n",
    "Where, ${\\chi}_{1,2}$ are the dimensionless spins. These are also provided as input parameters to the Hamiltonian function."
   ]
  },
  {
   "cell_type": "code",
   "execution_count": 20,
   "id": "a34f98df",
   "metadata": {},
   "outputs": [
    {
     "name": "stdout",
     "output_type": "stream",
     "text": [
      "Appending to Hamiltonian/v5HM_Hamiltonian-Hreal_on_top.txt\n"
     ]
    }
   ],
   "source": [
    "%%writefile -a $Ccodesdir/v5HM_Hamiltonian-Hreal_on_top.txt\n",
    "ap = (m1*chi1 + m2*chi2)/M\n",
    "am = (m1*chi1 - m2*chi2)/M"
   ]
  },
  {
   "cell_type": "markdown",
   "id": "efa61fe1",
   "metadata": {},
   "source": [
    "# Step: Calibration Coefficients and Constants"
   ]
  },
  {
   "cell_type": "markdown",
   "id": "782ea740",
   "metadata": {},
   "source": [
    "<a id='ga'></a>\n",
    "\n",
    "# Step : The gyro-gravitomagnetic factors $g_{a_\\pm}$ \\[Back to [top](#toc)\\]\n",
    "$$\\label{ga}$$\n",
    "\n",
    "In this section, we define the gyro-gravitomagnetic factors as expressed in [KB2023](https://arxiv.org/abs/2303.18143) Equation 28:\n",
    "\n",
    "\\begin{equation*}\n",
    "\\begin{aligned}\n",
    "&\\begin{aligned}\n",
    "g_{a_{+}}^{3.5 \\mathrm{PN}}=\\frac{7}{4} & +\\left[\\frac{p_{\\phi}^2}{r^2}\\left(-\\frac{45 \\eta}{32}-\\frac{15}{32}\\right)+\\frac{1}{r}\\left(\\frac{23 \\eta}{32}-\\frac{3}{32}\\right)\\right] \\\\\n",
    "+ & {\\left[\\frac{p_{\\phi}^4}{r^4}\\left(\\frac{345 \\eta^2}{256}+\\frac{75 \\eta}{128}+\\frac{105}{256}\\right)\\right.} \\\\\n",
    "& +\\frac{p_{\\phi}^2}{r^3}\\left(-\\frac{1591 \\eta^2}{768}-\\frac{267 \\eta}{128}+\\frac{59}{256}\\right) \\\\\n",
    "& \\left.+\\frac{1}{r^2}\\left(\\frac{109 \\eta^2}{192}-\\frac{177 \\eta}{32}-\\frac{5}{64}\\right)\\right],\n",
    "\\end{aligned}\\\\\n",
    "&\\begin{aligned}\n",
    "g_{a_{-}}^{3.5 \\mathrm{PN}}= & \\frac{1}{4}+\\left[\\frac{p_{\\phi}^2}{r^2}\\left(\\frac{15}{32}-\\frac{9 \\eta}{32}\\right)+\\frac{1}{r}\\left(\\frac{11 \\eta}{32}+\\frac{3}{32}\\right)\\right] \\\\\n",
    "+ & {\\left[\\frac{p_{\\phi}^4}{r^4}\\left(\\frac{75 \\eta^2}{256}-\\frac{45 \\eta}{128}-\\frac{105}{256}\\right)\\right.} \\\\\n",
    "& +\\frac{p_{\\phi}^2}{r^3}\\left(-\\frac{613 \\eta^2}{768}-\\frac{35 \\eta}{128}-\\frac{59}{256}\\right) \\\\\n",
    "& \\left.+\\frac{1}{r^2}\\left(\\frac{103 \\eta^2}{192}-\\frac{\\eta}{32}+\\frac{5}{64}\\right)\\right].\n",
    "\\end{aligned}\n",
    "\\end{aligned}\n",
    "\\end{equation*}\n",
    "Where, ${\\bf \\chi}_{1,2}$ are the dimensionless spin vectors. These are also provided as input parameters to the Hamiltonian function. More importantly, we express the magnitude of the combinations and their dot product."
   ]
  },
  {
   "cell_type": "code",
   "execution_count": 21,
   "id": "4db6c241",
   "metadata": {},
   "outputs": [
    {
     "name": "stdout",
     "output_type": "stream",
     "text": [
      "Appending to Hamiltonian/v5HM_Hamiltonian-Hreal_on_top.txt\n"
     ]
    }
   ],
   "source": [
    "%%writefile -a $Ccodesdir/v5HM_Hamiltonian-Hreal_on_top.txt\n",
    "gap = (\n",
    "    sp.Rational(7, 4)\n",
    "    + (pphi**2 / r**2) * (\n",
    "        -sp.Rational(45, 32) * eta - sp.Rational(15, 32)\n",
    "    )\n",
    "    + (1 / r) * (\n",
    "        sp.Rational(23, 32) * eta - sp.Rational(3, 32)\n",
    "    )\n",
    "    + (pphi**4 / r**4) * (\n",
    "        sp.Rational(345, 256) * eta**2 + sp.Rational(75, 128) * eta + sp.Rational(105, 256)\n",
    "    )\n",
    "    + (pphi**2 / r**3) * (\n",
    "        -sp.Rational(1591, 768) * eta**2 - sp.Rational(267, 128) * eta + sp.Rational(59, 256)\n",
    "    )\n",
    "    + (1 / r**2) * (\n",
    "        sp.Rational(109, 192) * eta**2 - sp.Rational(177, 32) * eta - sp.Rational(5, 64)\n",
    "    )\n",
    ")\n",
    "\n",
    "gam = (\n",
    "    sp.Rational(1, 4)\n",
    "    + (pphi**2 / r**2) * (\n",
    "        sp.Rational(15, 32) - sp.Rational(9, 32) * eta\n",
    "    )\n",
    "    + (1 / r) * (\n",
    "        sp.Rational(11, 32) * eta + sp.Rational(3, 32)\n",
    "    )\n",
    "    + (pphi**4 / r**4) * (\n",
    "        sp.Rational(75, 256) * eta**2 - sp.Rational(45, 128) * eta - sp.Rational(105, 256)\n",
    "    )\n",
    "    + (pphi**2 / r**3) * (\n",
    "        -sp.Rational(613, 768) * eta**2 - sp.Rational(35, 128) * eta - sp.Rational(59, 256)\n",
    "    )\n",
    "    + (1 / r**2) * (\n",
    "        sp.Rational(103, 192) * eta**2 - sp.Rational(1, 32) * eta + sp.Rational(5, 64)\n",
    "    )\n",
    ")"
   ]
  },
  {
   "cell_type": "markdown",
   "id": "792ca7cc",
   "metadata": {},
   "source": [
    "<a id='a6'></a>\n",
    "\n",
    "# Step :  $a_{6}$ \\[Back to [top](#toc)\\]\n",
    "$$\\label{a6}$$\n",
    "\n",
    "In this section, we define the calibration coefficient $a_6$ as documented [here](https://dcc.ligo.org/public/0186/T2300060/002/SEOBNRv5HM.pdf):\n",
    "\\begin{equation*}\n",
    "a_6 = 41.7877875 - 3021.93382 \\eta + 33414.4394 \\eta^2 - 169019.14 \\eta^3 + 329523.262 \\eta^4\n",
    "\\end{equation*}\n",
    "\n",
    "Where, $\\eta$ is the symmetric mass ratio and is defined in [this cell](#eta)."
   ]
  },
  {
   "cell_type": "code",
   "execution_count": 22,
   "id": "8ee122fc",
   "metadata": {},
   "outputs": [
    {
     "name": "stdout",
     "output_type": "stream",
     "text": [
      "Appending to Hamiltonian/v5HM_Hamiltonian-Hreal_on_top.txt\n"
     ]
    }
   ],
   "source": [
    "%%writefile -a $Ccodesdir/v5HM_Hamiltonian-Hreal_on_top.txt\n",
    "a6 = 41.7877875 - 3021.93382 * eta + 33414.4394 * eta**2 - 169019.14 * eta**3 + 329523.262 * eta**4"
   ]
  },
  {
   "cell_type": "markdown",
   "id": "5c7fcf1b",
   "metadata": {},
   "source": [
    "# Step : The Mass Combinations"
   ]
  },
  {
   "cell_type": "markdown",
   "id": "6489a8ec",
   "metadata": {},
   "source": [
    "<a id='eta'></a>\n",
    "\n",
    "# Step :  The symmetric mass ratio $\\eta$ \\[Back to [top](#toc)\\]\n",
    "$$\\label{eta}$$\n",
    "\n",
    "In this section, we define the symmetric mass ratio $\\eta$ as expressed in [RBB2023](https://arxiv.org/abs/2303.18046) Equation 1:\n",
    "\\begin{equation*}\n",
    "\\eta = \\frac{m_1 m_2}{M^2}\n",
    "\\end{equation*}\n",
    "\n",
    "Where, $M$ is the total mass defined in [this cell](#m)."
   ]
  },
  {
   "cell_type": "code",
   "execution_count": 23,
   "id": "86b9c406",
   "metadata": {},
   "outputs": [
    {
     "name": "stdout",
     "output_type": "stream",
     "text": [
      "Appending to Hamiltonian/v5HM_Hamiltonian-Hreal_on_top.txt\n"
     ]
    }
   ],
   "source": [
    "%%writefile -a $Ccodesdir/v5HM_Hamiltonian-Hreal_on_top.txt\n",
    "eta = m1*m2/(M**2)"
   ]
  },
  {
   "cell_type": "markdown",
   "id": "81b1ee5d",
   "metadata": {},
   "source": [
    "<a id='delta'></a>\n",
    "\n",
    "# Step :  $\\delta$ \\[Back to [top](#toc)\\]\n",
    "$$\\label{delta}$$\n",
    "\n",
    "In this section, we define $\\delta$ as expressed in [RBB2023](https://arxiv.org/abs/2303.18046) Equation 1:\n",
    "\\begin{equation*}\n",
    "\\delta = \\frac{m_1 - m_2}{M}\n",
    "\\end{equation*}\n",
    "\n",
    "Where, $M$ is the total mass defined in [this cell](#m)."
   ]
  },
  {
   "cell_type": "code",
   "execution_count": 24,
   "id": "c50fe43c",
   "metadata": {},
   "outputs": [
    {
     "name": "stdout",
     "output_type": "stream",
     "text": [
      "Appending to Hamiltonian/v5HM_Hamiltonian-Hreal_on_top.txt\n"
     ]
    }
   ],
   "source": [
    "%%writefile -a $Ccodesdir/v5HM_Hamiltonian-Hreal_on_top.txt\n",
    "delta = (m1-m2)/M"
   ]
  },
  {
   "cell_type": "markdown",
   "id": "d57c3f2d",
   "metadata": {},
   "source": [
    "<a id='m'></a>\n",
    "\n",
    "# Step :  The total mass $M$ \\[Back to [top](#toc)\\]\n",
    "$$\\label{m}$$\n",
    "\n",
    "In this section, we define the total mass as expressed in [RBB2023](https://arxiv.org/abs/2303.18046) Equation 1:\n",
    "\\begin{equation*}\n",
    "M = m_1 + m_2\n",
    "\\end{equation*}\n",
    "\n",
    "Where, $m_{1,2}$ are the individual masses of the black holes, given as input parameters."
   ]
  },
  {
   "cell_type": "code",
   "execution_count": 25,
   "id": "1d0d5945",
   "metadata": {},
   "outputs": [
    {
     "name": "stdout",
     "output_type": "stream",
     "text": [
      "Appending to Hamiltonian/v5HM_Hamiltonian-Hreal_on_top.txt\n"
     ]
    }
   ],
   "source": [
    "%%writefile -a $Ccodesdir/v5HM_Hamiltonian-Hreal_on_top.txt\n",
    "M = m1+m2"
   ]
  },
  {
   "cell_type": "markdown",
   "id": "6d56b296",
   "metadata": {},
   "source": [
    "<a id='u'></a>\n",
    "\n",
    "# Step :  The inverse radius $u$ \\[Back to [top](#toc)\\]\n",
    "$$\\label{u}$$\n",
    "\n",
    "In this section, we define the total mass as expressed in [RBB2023](https://arxiv.org/abs/2303.18046) Equation 1:\n",
    "\\begin{equation*}\n",
    "u = \\frac{1}{r}\n",
    "\\end{equation*}\n",
    "\n",
    "Where, $r$ is the radial distance."
   ]
  },
  {
   "cell_type": "code",
   "execution_count": 26,
   "id": "be007869",
   "metadata": {},
   "outputs": [
    {
     "name": "stdout",
     "output_type": "stream",
     "text": [
      "Appending to Hamiltonian/v5HM_Hamiltonian-Hreal_on_top.txt\n"
     ]
    }
   ],
   "source": [
    "%%writefile -a $Ccodesdir/v5HM_Hamiltonian-Hreal_on_top.txt\n",
    "u = 1/r"
   ]
  },
  {
   "cell_type": "markdown",
   "id": "c45681c2",
   "metadata": {},
   "source": [
    "# Step : Saving the expressions\n",
    "\n",
    "Up till now, the expressions required for the Hamiltonian have been stored in a .txt file. for the sake of readability, some of the expressions have been written in more than one line. \n",
    "\n",
    "Therefore, we save the expressions in one-line format to parse into sympy for generating optimized code or derivative expressions."
   ]
  },
  {
   "cell_type": "code",
   "execution_count": 27,
   "id": "aedc704e",
   "metadata": {},
   "outputs": [],
   "source": [
    "import os \n",
    "with open(os.path.join(Ccodesdir,\"v5HM_Hamiltonian-Hreal_on_top-oneline.txt\"), \"w\") as output:\n",
    "    count = 0\n",
    "    # Read output of this notebook\n",
    "    for line in list(open(os.path.join(Ccodesdir,\"v5HM_Hamiltonian-Hreal_on_top.txt\"),\"r\")):\n",
    "        # Read the first line\n",
    "        if count == 0:\n",
    "            prevline=line\n",
    "        #Check if prevline is a complete expression\n",
    "        elif \"=\" in prevline and \"=\" in line:\n",
    "            output.write(\"%s\\n\" % prevline.strip('\\n'))\n",
    "            prevline=line\n",
    "        # Check if line needs to be adjoined to prevline\n",
    "        elif \"=\" in prevline and not \"=\" in line:\n",
    "            prevline = prevline.strip('\\n')\n",
    "            prevline = (prevline+line).replace(\" \",\"\")\n",
    "        # Be sure to print the last line.\n",
    "        if count == len(list(open(os.path.join(Ccodesdir,\"v5HM_Hamiltonian-Hreal_on_top.txt\"))))-1:\n",
    "            if not \"=\" in line:\n",
    "                print(\"ERROR. Algorithm not robust if there is no equals sign on the final line. Sorry.\")\n",
    "                sys.exit(1)\n",
    "            else:\n",
    "                output.write(\"%s\" % line)\n",
    "        count = count + 1\n",
    "\n",
    "with open(os.path.join(Ccodesdir,\"v5HM_Hamiltonian-Hreal_on_bottom.txt\"), \"w\") as output:\n",
    "    for line in reversed(list(open(os.path.join(Ccodesdir,\"v5HM_Hamiltonian-Hreal_on_top-oneline.txt\"),\"r\"))):\n",
    "        output.write(\"%s\\n\"%line.rstrip())\n"
   ]
  },
  {
   "cell_type": "markdown",
   "id": "0a50e1e3",
   "metadata": {},
   "source": [
    "# Generate unoptimized python code\n",
    "\n",
    "In this step, we'll simply store the Hamiltonian expressions in a python module as is in order to run preliminary validation tests."
   ]
  },
  {
   "cell_type": "code",
   "execution_count": 28,
   "id": "7b3cd9e4",
   "metadata": {},
   "outputs": [
    {
     "name": "stderr",
     "output_type": "stream",
     "text": [
      "C:\\Users\\sidmahesh\\Documents\\GitHub\\bob\\V5\\Hamiltonian\\v5HM_Hamiltonian_unoptimized.py:31: RuntimeWarning: invalid value encountered in sqrt\n",
      "  Heven=np.sqrt(Aalign*(1+pphi*pphi/r**2+(1+Balignnp)*prstar*prstar+Bkerreqnp*pphi*pphi*ap**2/r**2+Qalign))\n",
      "C:\\Users\\sidmahesh\\Documents\\GitHub\\bob\\V5\\Hamiltonian\\pyseobnr_hamiltonian.py:109: RuntimeWarning: invalid value encountered in sqrt\n",
      "  Heven = sqrt(A*(Bnpa*L2*lap**2/r2 + L2/r2 + Qq + prst2*(Bnp + 1.0)/xi**2 + 1.0))\n",
      "C:\\Users\\sidmahesh\\Documents\\GitHub\\bob\\V5\\Hamiltonian\\v5HM_Hamiltonian_unoptimized.py:34: RuntimeWarning: invalid value encountered in sqrt\n",
      "  Hreal = np.sqrt(1 + 2*eta*(Heff - 1))\n",
      "C:\\Users\\sidmahesh\\Documents\\GitHub\\bob\\V5\\Hamiltonian\\pyseobnr_hamiltonian.py:130: RuntimeWarning: invalid value encountered in sqrt\n",
      "  H = M * sqrt(1+2*nu*(Heff-1)) / nu\n"
     ]
    },
    {
     "name": "stdout",
     "output_type": "stream",
     "text": [
      "Of total  1000000  comparisons,\n",
      " number of cases with relative error (total)  greater than allowed:  858741 \n",
      " number of cases with relative error O(10)    greater than allowed:  458 \n",
      " number of cases with relative error O(100)   greater than allowed:  1921 \n",
      " number of cases with relative error O(1000+) greater than allowed:  856256\n"
     ]
    }
   ],
   "source": [
    "with open(os.path.join(Ccodesdir,\"v5HM_Hamiltonian_unoptimized.py\"), \"w\") as output:\n",
    "    output.write(\"import numpy as np\\ndef v5HM_unoptimized_hamiltonian(m1, m2, r, phi, prstar, pphi, chi1, chi2,verbose = False):\\n\")\n",
    "    for line in reversed(list(open(os.path.join(Ccodesdir,\"v5HM_Hamiltonian-Hreal_on_top-oneline.txt\"),\"r\"))):\n",
    "        output.write(\"    %s\\n\" % line.rstrip().replace(\"sp.sqrt\", \"np.sqrt\").replace(\"sp.Rational\",\n",
    "                                \"np.divide\").replace(\"sp.log\",\"np.log\").replace(\"sp.pi\",\"np.pi\").replace(\"sp.EulerGamma\",\"np.euler_gamma\"))\n",
    "    output.write(\"    if not verbose:\\n        return Hreal,xi\\n    else:\\n        return Hreal,xi,Aalign,Balignnp,Bkerreqnp,Qalign,Heven,Hodd,QalignSS,Qnos,Galigna3,gam,gap,SOcalib,u,eta,ap,am,r,phi,prstar,pphi,chi1,chi2,m1,m2\")\n",
    "    \n",
    "import Hamiltonian.v5HM_Hamiltonian_unoptimized as Hreal_unopt\n",
    "import Hamiltonian.pyseobnr_hamiltonian as Hreal_true\n",
    "import numpy as np\n",
    "\n",
    "\n",
    "gt_pert_total = []\n",
    "gt_pert_O1 = []\n",
    "gt_pert_O2 = []\n",
    "gt_pert_gtO3 = []\n",
    "rng = np.random.default_rng(seed = 42)\n",
    "eta = rng.random(1000000)*.25\n",
    "chi1 = rng.random(1000000)\n",
    "chi2 = rng.random(1000000)\n",
    "m2 = (1 - np.sqrt(1 - 4*eta))*.5\n",
    "m1 = (1 + np.sqrt(1 - 4*eta))*.5\n",
    "r = rng.random(1000000)*10.\n",
    "phi = rng.random(1000000)*2.*np.pi\n",
    "prstar = rng.random(1000000)*20. - 10.\n",
    "pphi = rng.random(1000000)*20. - 10.\n",
    "nans = []\n",
    "def E_rel(a,b):\n",
    "    return np.abs((a - b)/a)\n",
    "\n",
    "for i in range(1000000):\n",
    "    q  = [r[i],phi[i]]\n",
    "    p = [prstar[i],pphi[i]]\n",
    "    H_unopt,xi = Hreal_unopt.v5HM_unoptimized_hamiltonian(m1[i],m2[i],r[i],phi[i],prstar[i],pphi[i],chi1[i],chi2[i],verbose = False)\n",
    "    H_pyseobnr,xi = Hreal_true.evaluate_H(q,p, chi1[i], chi2[i], m1[i], m2[i],verbose = False)\n",
    "    H_pert,xi = Hreal_true.evaluate_H(q,p, chi1[i], chi2[i], m1[i]*(1 + 1e-10), m2[i]*(1 + 1e-9),verbose = False)\n",
    "    e_rel = E_rel(H_pyseobnr,H_unopt)\n",
    "    tol = E_rel(H_pyseobnr,H_pert)\n",
    "    if (np.isnan(H_pyseobnr) and np.isnan(H_unopt) and np.isnan(H_pert)):\n",
    "        nans.append(i)\n",
    "    else:\n",
    "        if e_rel>tol:\n",
    "            gt_pert_total.append(i)\n",
    "            if e_rel > 1000*tol:\n",
    "                gt_pert_gtO3.append(i)\n",
    "            elif e_rel > 100*tol:\n",
    "                gt_pert_O2.append(i)\n",
    "            elif e_rel > 10*tol:\n",
    "                gt_pert_O1.append(i)\n",
    "\n",
    "print(\"Of total \",str(1000000),\" comparisons,\\n\",\n",
    "     \"number of cases with relative error (total)  greater than allowed: \",len(gt_pert_total),\"\\n\",\n",
    "     \"number of cases with relative error O(10)    greater than allowed: \",len(gt_pert_O1),\"\\n\",\n",
    "     \"number of cases with relative error O(100)   greater than allowed: \",len(gt_pert_O2),\"\\n\",\n",
    "     \"number of cases with relative error O(1000+) greater than allowed: \",len(gt_pert_gtO3))\n",
    "\n"
   ]
  },
  {
   "cell_type": "code",
   "execution_count": 29,
   "id": "e3719e23",
   "metadata": {},
   "outputs": [
    {
     "name": "stdout",
     "output_type": "stream",
     "text": [
      "Hreal:  12.351551346892663 12.352265468832769 5.781303372310207e-05 6.843211563284813e-10\n",
      "Hodd:  0.9120636245467073 0.9120636245467069 4.869059546923316e-16 4.5637682960663377e-10\n",
      "Heven:  391.74020385939133 391.78579181655095 0.00011635939360703417 2.7211342361255803e-10\n",
      "Aalign:  0.5255370009388751 0.5255370009388751 0.0 1.4283370915245372e-11\n",
      "Balign:  -0.3819977687218578 -0.38199776872185764 4.3595399588585228e-16 1.0133024044373494e-10\n",
      "Bkerr:  -0.09000508781954827 -0.09000508781954826 1.541889258042625e-16 2.9249639225068594e-12\n",
      "Qalign:  291968.5118879036 291968.51192233653 1.179336641805522e-10 5.301437713711988e-10\n",
      "QSS:  388.3799369240666 388.3799369240664 5.854413522078684e-16 1.6835097884427515e-11\n",
      "QnoS:  291580.1319509795 291580.13198541244 1.1809074988026634e-10 5.308724721531152e-10\n",
      "xi:  0.5698951131878571 0.5698951131878572 1.9481181693502053e-16 4.2061819394440285e-11\n",
      "Ga3:  -0.0437050450746195 -0.04370504507461951 1.587664282706986e-16 4.885062004161168e-10\n",
      "gam:  -9.055922006094779 -9.055922006094779 0.0 6.922515945748088e-11\n",
      "gap:  11.282601127230333 11.28260112723033 1.574421376213548e-16 1.1404384215457883e-10\n",
      "SOcalib:  -0.5054040688142268 -0.5054040688142267 2.1967037725476748e-16 2.1039391689367593e-10\n",
      "u:  0.25093320511420014 0.25093320511420014 0.0 0.0\n",
      "eta:  0.19348901213899083 0.19348901213899083 0.0 4.278969363143393e-10\n",
      "ap:  0.7322318793194633 0.7322318793194633 0.0 3.030479721274768e-11\n",
      "am:  0.2988215788666606 0.2988215788666606 0.0 8.887306559767745e-10\n",
      "r:  3.985124246689067 3.985124246689067 0.0 0.0\n",
      "phi:  3.5378853225603346 3.5378853225603346 0.0 0.0\n",
      "prst:  7.273231578401603 7.273231578401603 7.273231578401603 0.0 0.0\n",
      "pphi:  8.774216099092992 8.774216099092992 8.774216099092992 0.0 0.0\n",
      "chi1:  0.6988104573822306 0.6988104573822306 0.0 0.0\n",
      "chi2:  0.8262371491476576 0.8262371491476576 0.0 0.0\n",
      "m1:  0.7377203984958152 0.7377203984958152 0.0 1.0000008091237684e-10\n",
      "m2:  0.26227960150418483 0.26227960150418483 0.0 1.0000001561111662e-09\n"
     ]
    }
   ],
   "source": [
    "j = gt_pert_gtO3[0]\n",
    "m1j = m1[j]\n",
    "m2j = m2[j]\n",
    "qj = [r[j],phi[j]]\n",
    "pj = [prstar[j],pphi[j]]\n",
    "chi1j = chi1[j]\n",
    "chi2j = chi2[j]\n",
    "\n",
    "Hans, xians, Aans, Balignans, Bkerrans, Qans, Hevenans,Hoddans,QSSans,QnoSans,Galigna3ans,gamans,gapans,SOcalibans,uans,etaans,apans,amans,rcheckans,phicheckans,prstcheckans,Lcheckans,chi_1checkans,chi_2checkans,m_1checkans,m_2checkans = Hreal_unopt.v5HM_unoptimized_hamiltonian(m1j,m2j,qj[0],qj[1],pj[0],pj[1],chi1j,chi2j,verbose = True)\n",
    "Htrue,xitrue, Atrue, Baligntrue,Bkerrtrue, Qtrue, Heventrue,Hoddtrue,QSStrue,QnoStrue,Galigna3true,gamtrue,gaptrue,SOcalibtrue,utrue,etatrue,aptrue,amtrue,rchecktrue,phichecktrue,prstchecktrue,Lchecktrue,chi_1checktrue,chi_2checktrue,m_1checktrue,m_2checktrue = Hreal_true.evaluate_H(qj,pj, chi1j, chi2j, m1j, m2j,verbose = True)\n",
    "Hpert,xipert, Apert, Balignpert,Bkerrpert, Qpert, Hevenpert,Hoddpert,QSSpert,QnoSpert,Galigna3pert,gampert,gappert,SOcalibpert,upert,etapert,appert,ampert,rcheckpert,phicheckpert,prstcheckpert,Lcheckpert,chi_1checkpert,chi_2checkpert,m_1checkpert,m_2checkpert = Hreal_true.evaluate_H(qj,pj, chi1j, chi2j, m1j*(1 + 1e-10), m2j*(1 + 1e-9),verbose = True)\n",
    "print(\"Hreal: \",Hans,Htrue,np.abs((Hans - Htrue)/Htrue),np.abs((Hpert - Htrue)/Htrue))\n",
    "print(\"Hodd: \",Hoddans,Hoddtrue,np.abs((Hoddans - Hoddtrue)/Hoddtrue),np.abs((Hoddpert - Hoddtrue)/Hoddtrue))\n",
    "print(\"Heven: \",Hevenans,Heventrue,np.abs((Hevenans - Heventrue)/Heventrue),np.abs((Hevenpert - Heventrue)/Heventrue))\n",
    "print(\"Aalign: \",Aans,Atrue,np.abs((Aans - Atrue)/Atrue),np.abs((Apert - Atrue)/Atrue))\n",
    "print(\"Balign: \",Balignans,Baligntrue,np.abs((Balignans - Baligntrue)/Baligntrue),np.abs((Balignpert - Baligntrue)/Baligntrue))\n",
    "print(\"Bkerr: \",Bkerrans,Bkerrtrue,np.abs((Bkerrans - Bkerrtrue)/Bkerrtrue),np.abs((Bkerrpert - Bkerrtrue)/Bkerrtrue))\n",
    "print(\"Qalign: \",Qans,Qtrue,np.abs((Qans - Qtrue)/Qtrue),np.abs((Qpert - Qtrue)/Qtrue))\n",
    "print(\"QSS: \",QSSans,QSStrue,np.abs((QSSans - QSStrue)/QSStrue),np.abs((QSSpert - QSStrue)/QSStrue))\n",
    "print(\"QnoS: \",QnoSans,QnoStrue,np.abs((QnoSans - QnoStrue)/QnoStrue),np.abs((QnoSpert - QnoStrue)/QnoStrue))\n",
    "print(\"xi: \",xians,xitrue,np.abs((xians - xitrue)/xitrue),np.abs((xipert - xitrue)/xitrue))\n",
    "print(\"Ga3: \",Galigna3ans,Galigna3true,np.abs((Galigna3ans - Galigna3true)/Galigna3true),np.abs((Galigna3pert - Galigna3true)/Galigna3true))\n",
    "print(\"gam: \",gamans,gamtrue,np.abs((gamans - gamtrue)/gamtrue),np.abs((gampert - gamtrue)/gamtrue))\n",
    "print(\"gap: \",gapans,gaptrue,np.abs((gapans - gaptrue)/gaptrue),np.abs((gappert - gaptrue)/gaptrue))\n",
    "print(\"SOcalib: \",SOcalibans,SOcalibtrue,np.abs((SOcalibans - SOcalibtrue)/SOcalibtrue),np.abs((SOcalibpert - SOcalibtrue)/SOcalibtrue))\n",
    "print(\"u: \",uans,utrue,np.abs((uans - utrue)/utrue),np.abs((upert - utrue)/utrue))\n",
    "print(\"eta: \",etaans,etatrue,np.abs((etaans - etatrue)/etatrue),np.abs((etapert - etatrue)/etatrue))\n",
    "print(\"ap: \",apans,aptrue,np.abs((apans - aptrue)/aptrue),np.abs((appert - aptrue)/aptrue))\n",
    "print(\"am: \",amans,amtrue,np.abs((amans - amtrue)/amtrue),np.abs((ampert - amtrue)/amtrue))\n",
    "print(\"r: \",rcheckans,rchecktrue,np.abs((rcheckans - rchecktrue)/rchecktrue),np.abs((rcheckpert - rchecktrue)/rchecktrue))\n",
    "print(\"phi: \",phicheckans,phichecktrue,np.abs((phicheckans - phichecktrue)/phichecktrue),np.abs((phicheckpert - phichecktrue)/phichecktrue))\n",
    "print(\"prst: \",prstar[j],prstcheckans,prstchecktrue,np.abs((prstcheckans - prstchecktrue)/amtrue),np.abs((prstcheckpert - prstchecktrue)/prstchecktrue))\n",
    "print(\"pphi: \",pphi[j],Lcheckans,Lchecktrue,np.abs((Lcheckans - Lchecktrue)/Lchecktrue),np.abs((Lcheckpert - Lchecktrue)/Lchecktrue))\n",
    "print(\"chi1: \",chi_1checkans,chi_1checktrue,np.abs((chi_1checkans - chi_1checktrue)/chi_1checktrue),np.abs((chi_1checkpert - chi_1checktrue)/chi_1checktrue))\n",
    "print(\"chi2: \",chi_2checkans,chi_2checktrue,np.abs((chi_2checkans - chi_2checktrue)/chi_2checktrue),np.abs((chi_2checkpert - chi_2checktrue)/chi_2checktrue))\n",
    "print(\"m1: \",m_1checkans,m_1checktrue,np.abs((m_1checkans - m_1checktrue)/m_1checktrue),np.abs((m_1checkpert - m_1checktrue)/m_1checktrue))\n",
    "print(\"m2: \",m_2checkans,m_2checktrue,np.abs((m_2checkans - m_2checktrue)/m_2checktrue),np.abs((m_2checkpert - m_2checktrue)/m_2checktrue))"
   ]
  },
  {
   "cell_type": "code",
   "execution_count": 30,
   "id": "01936e6d",
   "metadata": {},
   "outputs": [
    {
     "name": "stdout",
     "output_type": "stream",
     "text": [
      "[3.985124246689067, 3.5378853225603346] [7.273231578401603, 8.774216099092992] 0.7377203984958152 0.26227960150418483 0.6988104573822306 0.8262371491476576\n"
     ]
    }
   ],
   "source": [
    "print(qj,pj,m1j,m2j,chi1j,chi2j)"
   ]
  },
  {
   "cell_type": "code",
   "execution_count": 31,
   "id": "45ac0b61",
   "metadata": {},
   "outputs": [
    {
     "name": "stdout",
     "output_type": "stream",
     "text": [
      "-0.5054040688142267\n"
     ]
    }
   ],
   "source": [
    "am = m1j*chi1j - m2j*chi2j\n",
    "ap = m1j*chi1j + m2j*chi2j\n",
    "nu = eta[j]\n",
    "dSOapprox = (-7.71251231383957 * am ** 3- 17.2294679794015 * am ** 2 * ap- 238.430383378296 * am ** 2 * nu+ 69.5461667822545 * am ** 2- 10.5225438990315 * am * ap ** 2+ 362.767393298729 * am * ap * nu- 85.8036338010274 * am * ap- 1254.66845939312 * am * nu ** 2+ 472.431937787377 * am * nu- 39.742317057316 * am- 7.58458103577458 * ap ** 3- 42.7601129678844 * ap ** 2 * nu+ 18.1783435552183 * ap ** 2- 201.905934468847 * ap * nu ** 2- 90.5790079104259 * ap * nu+ 49.6299175121658 * ap+ 478.546231305475 * nu ** 3+ 679.521769948995 * nu ** 2- 177.334831768076 * nu- 37.6897780220529)\n",
    "SOcalib = pj[1]*nu*dSOapprox*ap/(qj[0]**3)\n",
    "\n",
    "print(SOcalib)"
   ]
  },
  {
   "cell_type": "code",
   "execution_count": 32,
   "id": "e9ad08ec",
   "metadata": {},
   "outputs": [
    {
     "name": "stdout",
     "output_type": "stream",
     "text": [
      "-0.5054040688142266\n"
     ]
    }
   ],
   "source": [
    "dSOapprox2 =-7.71251231383957*am**3-17.2294679794015*am**2*ap-238.430383378296*am**2*nu+69.5461667822545*am**2-10.5225438990315*am*ap**2+362.767393298729*am*ap*nu-85.8036338010274*am*ap-1254.66845939312*am*nu**2+472.431937787377*am*nu-39.742317057316*am-7.58458103577458*ap**3-42.7601129678844*ap**2*nu+18.1783435552183*ap**2-201.905934468847*ap*nu**2-90.5790079104259*ap*nu+49.6299175121658*ap+478.546231305475*nu**3+679.521769948995*nu**2-177.334831768076*nu-37.6897780220529\n",
    "u = 1/(qj[0])\n",
    "SOcalibapprox2 = nu*dSOapprox2*u*u*u*ap*pj[1]\n",
    "\n",
    "print(SOcalibapprox2)"
   ]
  },
  {
   "cell_type": "code",
   "execution_count": 33,
   "id": "7c8a226d",
   "metadata": {},
   "outputs": [
    {
     "data": {
      "text/plain": [
       "140674"
      ]
     },
     "execution_count": 33,
     "metadata": {},
     "output_type": "execute_result"
    }
   ],
   "source": [
    "len(nans)"
   ]
  },
  {
   "cell_type": "code",
   "execution_count": null,
   "id": "cd00a7b3",
   "metadata": {},
   "outputs": [],
   "source": []
  }
 ],
 "metadata": {
  "kernelspec": {
   "display_name": "Python 3",
   "language": "python",
   "name": "python3"
  },
  "language_info": {
   "codemirror_mode": {
    "name": "ipython",
    "version": 3
   },
   "file_extension": ".py",
   "mimetype": "text/x-python",
   "name": "python",
   "nbconvert_exporter": "python",
   "pygments_lexer": "ipython3",
   "version": "3.8.8"
  }
 },
 "nbformat": 4,
 "nbformat_minor": 5
}
