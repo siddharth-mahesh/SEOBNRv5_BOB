{
 "cells": [
  {
   "cell_type": "code",
   "execution_count": 1,
   "id": "bdaa3322",
   "metadata": {},
   "outputs": [
    {
     "ename": "TypeError",
     "evalue": "vstack() takes 1 positional argument but 2 were given",
     "output_type": "error",
     "traceback": [
      "\u001b[1;31m---------------------------------------------------------------------------\u001b[0m",
      "\u001b[1;31mTypeError\u001b[0m                                 Traceback (most recent call last)",
      "Cell \u001b[1;32mIn[1], line 6\u001b[0m\n\u001b[0;32m      4\u001b[0m dynamics_coarse \u001b[38;5;241m=\u001b[39m np\u001b[38;5;241m.\u001b[39mloadtxt(\u001b[38;5;124m\"\u001b[39m\u001b[38;5;124mcoarse_dynamics_q2chi1_2chi2_1.dat\u001b[39m\u001b[38;5;124m\"\u001b[39m)\n\u001b[0;32m      5\u001b[0m dynamics_fine \u001b[38;5;241m=\u001b[39m np\u001b[38;5;241m.\u001b[39mloadtxt(\u001b[38;5;124m\"\u001b[39m\u001b[38;5;124mfine_dynamics_q2chi1_2chi2_1.dat\u001b[39m\u001b[38;5;124m\"\u001b[39m)\n\u001b[1;32m----> 6\u001b[0m dynamics_combined \u001b[38;5;241m=\u001b[39m np\u001b[38;5;241m.\u001b[39mvstack(dynamics_coarse,dynamics_fine)\n\u001b[0;32m      7\u001b[0m dynamics_pyseobnr \u001b[38;5;241m=\u001b[39m np\u001b[38;5;241m.\u001b[39mloadtxt(\u001b[38;5;124m\"\u001b[39m\u001b[38;5;124mpyseobnr_q2_chi1_2_chi2_1.dat\u001b[39m\u001b[38;5;124m\"\u001b[39m)\n\u001b[0;32m      9\u001b[0m plt\u001b[38;5;241m.\u001b[39mplot(dynamics_combined[:,\u001b[38;5;241m0\u001b[39m],dynamics_cominbed[:,\u001b[38;5;241m1\u001b[39m])\n",
      "File \u001b[1;32m<__array_function__ internals>:198\u001b[0m, in \u001b[0;36mvstack\u001b[1;34m(*args, **kwargs)\u001b[0m\n",
      "\u001b[1;31mTypeError\u001b[0m: vstack() takes 1 positional argument but 2 were given"
     ]
    }
   ],
   "source": [
    "import numpy as np\n",
    "import matplotlib.pyplot as plt\n",
    "\n",
    "dynamics_coarse = np.loadtxt(\"coarse_dynamics_q2chi1_2chi2_1.dat\")\n",
    "dynamics_fine = np.loadtxt(\"fine_dynamics_q2chi1_2chi2_1.dat\")\n",
    "dynamics_combined = np.vstack((dynamics_coarse,dynamics_fine))\n",
    "dynamics_pyseobnr = np.loadtxt(\"pyseobnr_q2_chi1_2_chi2_1.dat\")\n",
    "\n",
    "plt.plot(dynamics_combined[:,0],dynamics_cominbed[:,1])\n",
    "plt.plot(dynamics_pyseobnr[:,0],dynamics_pyseobnr[:,1])"
   ]
  },
  {
   "cell_type": "code",
   "execution_count": null,
   "id": "32638808",
   "metadata": {},
   "outputs": [],
   "source": []
  }
 ],
 "metadata": {
  "kernelspec": {
   "display_name": "Python 3 (ipykernel)",
   "language": "python",
   "name": "python3"
  },
  "language_info": {
   "codemirror_mode": {
    "name": "ipython",
    "version": 3
   },
   "file_extension": ".py",
   "mimetype": "text/x-python",
   "name": "python",
   "nbconvert_exporter": "python",
   "pygments_lexer": "ipython3",
   "version": "3.11.5"
  }
 },
 "nbformat": 4,
 "nbformat_minor": 5
}
