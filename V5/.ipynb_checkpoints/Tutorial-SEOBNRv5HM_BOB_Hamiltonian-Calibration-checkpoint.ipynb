{
 "cells": [
  {
   "cell_type": "markdown",
   "id": "955e7747",
   "metadata": {},
   "source": [
    "# The Spinning Effective One-Body Hamiltonian: \"v5HM\" (For Calibration)\n",
    "\n",
    "## Author: Siddharth Mahesh\n",
    "\n",
    "## This module documents the reduced spinning effective one-body Hamiltonian for the sake of calibration tests.\n",
    "\n",
    "\n",
    "**Notebook Status:** <font color='green'><b> Validation </b></font>\n",
    "\n",
    "**Validation Notes:** This module has been validated against the [pySEOBNR code](https://git.ligo.org/waveforms/software/pyseobnr/) that was reviewed and approved for LIGO parameter estimation by the LIGO Scientific Collaboration.  That is, the value $H_{\\rm real}$ output from this notebook agrees to roundoff error with the value of $H_{\\rm real}$ computed by pyseobnr for SEOBNRvHM's calibration fits.\n",
    "\n",
    "### NRPy+ Source Code for this module: [v5HM_unoptimized_hamiltonian.py](./Hamiltonian/v5HM_unoptimized_hamiltonian.py)\n",
    "\n",
    "<a id='intro'></a>\n",
    "\n",
    "## Introduction\n",
    "$$\\label{intro}$$\n",
    "\n",
    "### The Physical System of Interest\n",
    "\n",
    "Consider two black holes with masses $m_{1}$, $m_{2}$ and spins ${S}_{1}$, ${S}_{2}$ that are aligned (i.e parallel or antiparallel with respect to each other) in a binary system.  The spinning effective one-body (\"SEOB\") Hamiltonian $H_{\\rm real}$ (defined in [this cell](#hreal)) describes the conservative dynamics of this system; we will define $H_{\\rm real}$ as in [Pompili, Buonnano et. al](https://arxiv.org/pdf/2303.18039) Appendix A \\& B.  There, $H_{\\rm real}$ is canonically transformed and mapped to an effective Hamiltonian $H_{\\rm eff}$ (defined in [this cell](#heff)) describing the motion of a test particle of mass $\\mu$ (defined in [this cell](#mu)) moving at the equator of a deformed Kerr metric. Here we seek to break up $H_{\\rm real}$ and document the terms in such a way that the resulting Python code can be used to numerically evaluate $H_{\\rm real}$.\n",
    "\n",
    "We write $H_{\\rm real}$ in terms of $r$, and $\\phi, the [Boyer-Lindquist coordinates](https://en.wikipedia.org/wiki/Boyer%E2%80%93Lindquist_coordinates) (see [Barausse and Buonanno (2010)](https://arxiv.org/abs/0912.3517) Section IV).\n",
    "\n",
    "Please note that throughout this notebook we adopt the following convention $G = M = c = 1$, where $G$ is the universal gravitational constant, $M = m_1 + m_2$ is the total mass of the binary and, $c$ is the speed of light in vacuum.\n",
    "\n",
    "Running this notebook to completion will generate a file called v5HM_unoptimized_hamiltonian.py. This file contains the Python function v5HM_unoptimized_hamiltonian(), which takes as input m1, m2 (each in solar masses), the values of the normalized spins $\\chi_{1,2} = \\frac{S_{1,2}}{m_{1,2}^2}$ and values for all four dynamic variables (the radial separation $r$, the azimuthal angle $\\phi$, the radial tortoise momentum $p_{r_{*}}$ and, the angular momentum $p_{\\phi}$).\n",
    "\n",
    "### Citations\n",
    "Throughout this module, we will refer to\n",
    "* [Pompili, Buonanno, et al (2023)](https://arxiv.org/pdf/2303.18039.pdf) as PB2023,\n",
    "* [SEOBNRv5HM-Notes](https://dcc.ligo.org/public/0186/T2300060/002/SEOBNRv5HM.pdf) as V5HM,\n",
    "* [pySEOBNR documentation/code](https://git.ligo.org/waveforms/software/pyseobnr/) as pySEOBNR."
   ]
  },
  {
   "cell_type": "markdown",
   "id": "7762cb74",
   "metadata": {},
   "source": [
    "<a id='outputcreation'></a>\n",
    "\n",
    "# Step 0: Creating the output directory for SEOBNR \\[Back to [top](#toc)\\]\n",
    "$$\\label{outputcreation}$$\n",
    "\n",
    "First we create the output directory for SEOBNR (if it does not already exist):"
   ]
  },
  {
   "cell_type": "code",
   "execution_count": 1,
   "id": "f82311b8",
   "metadata": {},
   "outputs": [],
   "source": [
    "import sys#Add sys to get cmdline_helper from NRPy top directory; remove this line and next when debugged\n",
    "sys.path.append('../')\n",
    "import cmdline_helper as cmd     # NRPy+: Multi-platform Python command-line interface\n",
    "\n",
    "# Create C code output directory:\n",
    "Ccodesdir = \"Hamiltonian\"\n",
    "# Then create an output directory in case it does not exist\n",
    "cmd.mkdir(Ccodesdir)"
   ]
  },
  {
   "cell_type": "markdown",
   "id": "edfe856d",
   "metadata": {},
   "source": [
    "<a id='hreal'></a>\n",
    "\n",
    "# Step : The real Hamiltonian $H_{\\textrm{real}}$ \\[Back to [top](#toc)\\]\n",
    "$$\\label{hreal}$$\n",
    "\n",
    "The SEOB Hamiltonian $H_{\\rm real}$ is given by [RBB2023](https://arxiv.org/abs/2303.18046) Equation (8):\n",
    "\n",
    "\\begin{equation*}\n",
    "    H_{\\rm real} = \\sqrt{ 1 + 2 \\nu \\left( \\frac{ H_{\\rm eff} }{ \\mu } - 1 \\right) }.\n",
    "\\end{equation*}\n",
    "\n",
    "Here $H_{\\rm eff}$ (defined in [this cell](#heff)) is an *effective* Hamiltonian (see [this cell](#intro)), and $\\nu$ (defined in [this cell](#nu)) is the symmetric mass ratio."
   ]
  },
  {
   "cell_type": "code",
   "execution_count": 2,
   "id": "08305089",
   "metadata": {},
   "outputs": [
    {
     "name": "stdout",
     "output_type": "stream",
     "text": [
      "Writing Hamiltonian/v5HM_BOB_Hamiltonian-Calibration-Hreal_on_top.txt\n"
     ]
    }
   ],
   "source": [
    "%%writefile $Ccodesdir/v5HM_BOB_Hamiltonian-Calibration-Hreal_on_top.txt\n",
    "Hreal = sp.sqrt(1 + 2*nu*(Heff - 1))"
   ]
  },
  {
   "cell_type": "markdown",
   "id": "92c06b7b",
   "metadata": {
    "jp-MarkdownHeadingCollapsed": true,
    "tags": []
   },
   "source": [
    "<a id='heff'></a>\n",
    "\n",
    "# Step : The effective Hamiltonian $H_{\\textrm{eff}}$ \\[Back to [top](#toc)\\]\n",
    "$$\\label{heff}$$\n",
    "\n",
    "The effective Hamiltonian $H_{\\rm eff}$ as stated in [RBB2023](https://arxiv.org/abs/2303.18046) under equation B2, is split into odd and even-in-spin components $H_{\\rm odd}$, and $H_{\\rm even}$ but expressed in Equation A:\n",
    "\n",
    "\\begin{equation*}\n",
    "    H_{\\rm eff} = \\underbrace{ \\frac{ p_{\\phi}\\left( g_{a_{+}} a_{+} + g_{a_{-}} \\delta a_{-} \\right) + {\\rm SO}_{\\rm calib} + G^{\\rm align}_{a^3}}{r^3 + a_{+}^2\\left(r + 2\\right)} }_{H_{\\rm odd}} + \\underbrace{ \\sqrt{A^{\\rm align} \\left( 1 + \\frac{p_{\\phi}^{2}}{r^2} + \\left(1 + B_{np}^{align}\\right)({\\bf n}\\cdot{\\bf p})^2 + B_{npa}^{\\rm Kerr eq} \\frac{p_{\\phi}^{2}\\left({\\bf l}\\cdot{\\bf a}_{+}\\right)^2}{r^2} + Q^{\\rm align} \\right) } }_{H_{\\rm even}}.\n",
    "\\end{equation*}\n",
    "\n",
    "Here, $H_{\\rm even}$ is defined in [this cell](#heven), and $H_{\\rm odd}$ is defined in [this cell](#hodd). "
   ]
  },
  {
   "cell_type": "code",
   "execution_count": 3,
   "id": "ccdfd945",
   "metadata": {},
   "outputs": [
    {
     "name": "stdout",
     "output_type": "stream",
     "text": [
      "Appending to Hamiltonian/v5HM_BOB_Hamiltonian-Calibration-Hreal_on_top.txt\n"
     ]
    }
   ],
   "source": [
    "%%writefile -a $Ccodesdir/v5HM_BOB_Hamiltonian-Calibration-Hreal_on_top.txt\n",
    "Heff = Hodd + Heven"
   ]
  },
  {
   "cell_type": "markdown",
   "id": "94fa6fea",
   "metadata": {},
   "source": [
    "<a id='hodd'></a>\n",
    "\n",
    "# Step : The odd-in-spin Hamiltonian $H_{\\textrm{odd}}$ \\[Back to [top](#toc)\\]\n",
    "$$\\label{hodd}$$\n",
    "\n",
    "The effective Hamiltonian $H_{\\rm eff}$ as stated in [RBB2023](https://arxiv.org/abs/2303.18046) under equation B2, is split into odd and even-in-spin components $H_{\\rm odd}$, and $H_{\\rm even}$. Here, we state the odd component in Equation A:\n",
    "\n",
    "\\begin{equation*}\n",
    "    H_{\\rm odd} = \\frac{ Mp_{\\phi}\\left( g_{a_{+}} a_{+} + g_{a_{-}} \\delta a_{-} \\right) + {\\rm SO}_{\\rm calib} + G^{\\rm align}_{a^3}}{r^3 + a_{+}^2\\left(r + 2*M\\right)}.\n",
    "\\end{equation*}\n",
    "\n",
    "Here, $M$, $p_{\\phi}$, $r$ are the total mass, azimuthal momentum and radial distance respectfully. ${\\bf l}\\cdot{\\bf a}_{\\pm}$ is defined in [this cell](#la), the gyromagnetic constants $g_{a_{\\pm}}$ are defined in [this cell](#ga) the magnitude of ${\\bf a}_{+}$ is defined in [this cell](#a),  ${\\rm SO}_{\\rm calib}$ is defined in [this cell](#socalib), and $\\langle G^{\\rm pprec}_{a^3} \\rangle$ is defined in [this cell](#gppreca3). "
   ]
  },
  {
   "cell_type": "code",
   "execution_count": 4,
   "id": "bf31b01e",
   "metadata": {},
   "outputs": [
    {
     "name": "stdout",
     "output_type": "stream",
     "text": [
      "Appending to Hamiltonian/v5HM_BOB_Hamiltonian-Calibration-Hreal_on_top.txt\n"
     ]
    }
   ],
   "source": [
    "%%writefile -a $Ccodesdir/v5HM_BOB_Hamiltonian-Calibration-Hreal_on_top.txt\n",
    "Hodd = (pphi*(gap*ap + delta*gam*am) + SOcalib + Galigna3)/(r**3 + ap**2*(r + 2))"
   ]
  },
  {
   "cell_type": "markdown",
   "id": "79048135",
   "metadata": {},
   "source": [
    "<a id='heven'></a>\n",
    "\n",
    "# Step : The even-in-spin Hamiltonian $H_{\\textrm{even}}$ \\[Back to [top](#toc)\\]\n",
    "$$\\label{heven}$$\n",
    "\n",
    "The effective Hamiltonian $H_{\\rm eff}$ as stated in [RBB2023](https://arxiv.org/abs/2303.18046) under equation B2, is split into odd and even-in-spin components $H_{\\rm odd}$, and $H_{\\rm even}$. Here, we state the even component in Equation A:\n",
    "\n",
    "\\begin{equation*}\n",
    "    H_{\\rm even} = \\sqrt{A^{\\rm align} \\left( 1 + \\frac{p_{\\phi}^{2}}{r^2} + \\left(1 + B_{np}^{\\rm align}\\right)({\\bf n}\\cdot{\\bf p})^2 + B_{npa}^{\\rm Kerr eq} \\frac{p_{\\phi}^{2}\\left({\\bf l}\\cdot{\\bf a}_{+}\\right)^2}{r^2} + Q^{\\rm align} \\right) }.\n",
    "\\end{equation*}\n",
    "\n",
    "Here, $r$, and $p_\\phi$ are the radius, and the azimuthal momentum respectively and the radial momentum $p_{r}$ is defined in [this cell](#pr). $A^{\\rm align}$ is defined in [this cell](#aalign), $B_{np}^{\\rm align}$ is defined in [this cell](#bnpalign), $B_{npa}^{\\rm Kerr eq}$ is defined in [this cell](#bnpakerreq), ${\\bf l}\\cdot{\\bf a}_{+}$ is defined in [this cell](#lap), and $Q^{\\rm align}$ is defined in [this cell](#qalign). "
   ]
  },
  {
   "cell_type": "code",
   "execution_count": 5,
   "id": "04319867",
   "metadata": {},
   "outputs": [
    {
     "name": "stdout",
     "output_type": "stream",
     "text": [
      "Appending to Hamiltonian/v5HM_BOB_Hamiltonian-Calibration-Hreal_on_top.txt\n"
     ]
    }
   ],
   "source": [
    "%%writefile -a $Ccodesdir/v5HM_BOB_Hamiltonian-Calibration-Hreal_on_top.txt\n",
    "Heven = sp.sqrt(\n",
    "    Aalign * (\n",
    "        1 \n",
    "        + pphi*pphi/r**2 \n",
    "        + (1 + Balignnp)*pr*pr \n",
    "        + Bkerreqnp*pphi*pphi*ap**2/r**2 \n",
    "        + Qalign\n",
    "    )\n",
    ")"
   ]
  },
  {
   "cell_type": "markdown",
   "id": "16f1c567",
   "metadata": {},
   "source": [
    "# Step: The Odd-In-Spin Terms"
   ]
  },
  {
   "cell_type": "markdown",
   "id": "89eb82bd",
   "metadata": {},
   "source": [
    "<a id='socalib'></a>\n",
    "\n",
    "# Step : ${\\textrm{SO}}_{\\textrm{calib}}$ \\[Back to [top](#toc)\\]\n",
    "$$\\label{socalib}$$\n",
    "\n",
    "The SO calibration term is expressed in [RBB2023](https://arxiv.org/abs/2303.18046) Equation A2. The calibration coefficient $d_{\\rm SO}$ is chosen to be a free parameter that we will calibrate to NR simulations.:\n",
    "\n",
    "\\begin{equation*}\n",
    "    {\\rm SO}_{\\rm calib} = \\nu d_{\\rm SO} \\frac{p_{\\phi}}{r^3}  {a}_{+}, \\\\\n",
    "\\end{equation*}\n",
    "\n",
    "Here, $r$, and $p_\\phi$ are the radial distance and the azimuthal momentum respectively. $\\nu$, is the symmetric mass ratio defined in [this cell](#nu), ${\\bf a}_{\\pm}$ is defined in [this cell](#a), ${\\bf l}\\cdot{\\bf a}_{+}$ is defined in [this cell](#la)."
   ]
  },
  {
   "cell_type": "code",
   "execution_count": 6,
   "id": "42c631a7",
   "metadata": {},
   "outputs": [
    {
     "name": "stdout",
     "output_type": "stream",
     "text": [
      "Appending to Hamiltonian/v5HM_BOB_Hamiltonian-Calibration-Hreal_on_top.txt\n"
     ]
    }
   ],
   "source": [
    "%%writefile -a $Ccodesdir/v5HM_BOB_Hamiltonian-Calibration-Hreal_on_top.txt\n",
    "SOcalib = nu*dSO*ap*pphi*(u**3)"
   ]
  },
  {
   "cell_type": "markdown",
   "id": "b2dc5673",
   "metadata": {},
   "source": [
    "<a id='galigna3'></a>\n",
    "\n",
    "# Step : $G_{a^3}^{\\textrm{align}}$ \\[Back to [top](#toc)\\]\n",
    "$$\\label{gpreca3}$$\n",
    "\n",
    "The cubic-in-spin term $G_{a^3}^{\\rm prec}$ is expressed in [LB2023](https://arxiv.org/abs/2303.18046) Equation A4:\n",
    "\\begin{equation*}\n",
    "    G_{a^3}^{\\rm prec} = \\frac{p_{\\phi}}{4r^2}\\left( \\delta a_{-}a_{+}^{2} - a_{+}^{3} \\right) \n",
    "\\end{equation*}\n",
    "\n",
    "Here, $r$, and $p_\\phi$ are the radial distance and the azimuthal momentum respectively.$\\delta$ is defined in [this cell](#delta), and ${a}_{\\pm}$ is defined in [this cell](#a)."
   ]
  },
  {
   "cell_type": "code",
   "execution_count": 7,
   "id": "4f21767b",
   "metadata": {},
   "outputs": [
    {
     "name": "stdout",
     "output_type": "stream",
     "text": [
      "Appending to Hamiltonian/v5HM_BOB_Hamiltonian-Calibration-Hreal_on_top.txt\n"
     ]
    }
   ],
   "source": [
    "%%writefile -a $Ccodesdir/v5HM_BOB_Hamiltonian-Calibration-Hreal_on_top.txt\n",
    "Galigna3 = pphi*(delta*am*ap**2 - ap**3)/(4*r**2)"
   ]
  },
  {
   "cell_type": "markdown",
   "id": "c8eee7e6",
   "metadata": {},
   "source": [
    "# Step : The Even-In-Spin Terms"
   ]
  },
  {
   "cell_type": "markdown",
   "id": "b2a89130",
   "metadata": {},
   "source": [
    "<a id='aalign'></a>\n",
    "\n",
    "# Step : $A^{\\textrm{align}}$ \\[Back to [top](#toc)\\]\n",
    "$$\\label{apprec}$$\n",
    "\n",
    "The potential $A^{\\rm align}$ is expressed in [RBB2023](https://arxiv.org/abs/2303.18046) Equation A5:\n",
    "\\begin{equation*}\n",
    "    A^{\\rm align} = \\frac{a_{+}^{2}/r^{2} + A_{\\rm noS} + A^{align}_{\\rm SS}}{1 + \\left(1 + 2/r\\right)a_{+}^{2}/r^{2}}.\n",
    "\\end{equation*}\n",
    "\n",
    "Here, $r$ is the radial distance and $a_{+}$ is defined [in this cell](#a). The spin-spin contribution, $ A_{\\rm SS}^{\\rm align}$ is defined in [this cell](#aalignss), and the non-spinning contribution, $A_{\\rm noS}$ is defined in [this cell](#anons)."
   ]
  },
  {
   "cell_type": "code",
   "execution_count": 8,
   "id": "86abfa7b",
   "metadata": {},
   "outputs": [
    {
     "name": "stdout",
     "output_type": "stream",
     "text": [
      "Appending to Hamiltonian/v5HM_BOB_Hamiltonian-Calibration-Hreal_on_top.txt\n"
     ]
    }
   ],
   "source": [
    "%%writefile -a $Ccodesdir/v5HM_BOB_Hamiltonian-Calibration-Hreal_on_top.txt\n",
    "Aalign = (ap**2*u*u + Anons + AalignSS )/(1 + ap**2*(1 + 2/r)/(r**2) )"
   ]
  },
  {
   "cell_type": "markdown",
   "id": "5e17e912",
   "metadata": {},
   "source": [
    "<a id='bkerreqnpa'></a>\n",
    "\n",
    "# Step : $B_{npa}^{\\textrm{Kerr eq}}$ \\[Back to [top](#toc)\\]\n",
    "$$\\label{bkerrnpa}$$\n",
    "\n",
    "The potential $B_{npa}^{\\rm Kerr eq}$ is expressed in [RBB2023](https://arxiv.org/abs/2303.18046) Equation A4:\n",
    "\\begin{equation*}\n",
    "    B_{npa}^{\\rm calib} = -\\frac{1 + 2/r}{r^2 + a_{+}^2\\left(1 + 2/r\\right)}.\n",
    "\\end{equation*}\n",
    "\n",
    "Here, $r$ is the radial distance, and ${a}_{+}$ is defined in [this cell](#a)."
   ]
  },
  {
   "cell_type": "code",
   "execution_count": 9,
   "id": "0c94a3af",
   "metadata": {},
   "outputs": [
    {
     "name": "stdout",
     "output_type": "stream",
     "text": [
      "Appending to Hamiltonian/v5HM_BOB_Hamiltonian-Calibration-Hreal_on_top.txt\n"
     ]
    }
   ],
   "source": [
    "%%writefile -a $Ccodesdir/v5HM_BOB_Hamiltonian-Calibration-Hreal_on_top.txt\n",
    "Bkerreqnp = - (1 + 2/r)/(r**2 + ap**2*(1 + 2/r))"
   ]
  },
  {
   "cell_type": "markdown",
   "id": "24f2a37a",
   "metadata": {},
   "source": [
    "<a id='bnpalign'></a>\n",
    "\n",
    "# Step : $B_{p}^{\\textrm{align}}$ \\[Back to [top](#toc)\\]\n",
    "$$\\label{bnpalign}$$\n",
    "\n",
    "The potential $B_{np}^{\\rm align}$ is expressed in [RBB2023](https://arxiv.org/abs/2303.18046) Equation A5:\n",
    "\\begin{equation*}\n",
    "    B_{np}^{\\rm align} = -1 + a_{+}^{2}/r^{2} + A_{\\rm noS}\\bar{D}_{\\rm noS} + {B}_{np,\\rm SS}^{\\rm align}.\n",
    "\\end{equation*}\n",
    "\n",
    "Here, $r$ is the radial distance, and $a_{+}$ is defined in [this cell](#a). The spin-spin contribution $ B_{np,\\rm SS}^{\\rm prec}$ is defined in [this cell](#bnpssalign). The non-spinning potential $A_{\\rm noS}$ is defined in [this cell](#anons), and $\\bar{D}_{\\rm noS}$ is defined in [this cell](#dnons)"
   ]
  },
  {
   "cell_type": "code",
   "execution_count": 10,
   "id": "37cf1251",
   "metadata": {},
   "outputs": [
    {
     "name": "stdout",
     "output_type": "stream",
     "text": [
      "Appending to Hamiltonian/v5HM_BOB_Hamiltonian-Calibration-Hreal_on_top.txt\n"
     ]
    }
   ],
   "source": [
    "%%writefile -a $Ccodesdir/v5HM_BOB_Hamiltonian-Calibration-Hreal_on_top.txt\n",
    "Balignnp = -1 + ap**2*u*u + Anons*Dnons + BnpalignSS"
   ]
  },
  {
   "cell_type": "markdown",
   "id": "c53bc721",
   "metadata": {},
   "source": [
    "<a id='qalign'></a>\n",
    "\n",
    "# Step : $Q^{\\textrm{align}}$ \\[Back to [top](#toc)\\]\n",
    "$$\\label{qalign}$$\n",
    "\n",
    "The potential $Q^{\\rm align}$ is expressed in [RBB2023](https://arxiv.org/abs/2303.18046) Equation A5:\n",
    "\\begin{equation*}\n",
    "    Q^{\\rm align} = Q_{\\rm noS} + Q_{\\rm SS}^{\\rm align}.\n",
    "\\end{equation*}\n",
    "\n",
    "The spin-spin contribution $ Q_{\\rm SS}^{\\rm align}$ is defined in [this cell](#qssalign). The non-spinning contribution, $Q_{\\rm noS}$ is defined in [this cell](#qnos)."
   ]
  },
  {
   "cell_type": "code",
   "execution_count": 11,
   "id": "f88447ba",
   "metadata": {},
   "outputs": [
    {
     "name": "stdout",
     "output_type": "stream",
     "text": [
      "Appending to Hamiltonian/v5HM_BOB_Hamiltonian-Calibration-Hreal_on_top.txt\n"
     ]
    }
   ],
   "source": [
    "%%writefile -a $Ccodesdir/v5HM_BOB_Hamiltonian-Calibration-Hreal_on_top.txt\n",
    "Qalign = Qnos + QalignSS"
   ]
  },
  {
   "cell_type": "markdown",
   "id": "5a913d7f",
   "metadata": {},
   "source": [
    "# Step : The Spin-Spin Contributions"
   ]
  },
  {
   "cell_type": "markdown",
   "id": "fccf36a8",
   "metadata": {},
   "source": [
    "<a id='aalignss'></a>\n",
    "\n",
    "# Step : $A_{\\rm SS}^{\\textrm{align}}$ \\[Back to [top](#toc)\\]\n",
    "$$\\label{aalignss}$$\n",
    "\n",
    "The potential $A_{\\rm SS}^{\\rm align}$ is expressed in [RBB2023](https://arxiv.org/abs/2303.18046) Equation A6a:\n",
    "\\begin{equation*}\n",
    "    A_{\\rm SS}^{\\rm align} = \\frac{1}{r^4}\\left[ \\frac{9a_{+}^{2}}{8} - \\frac{5}{4}\\delta {a}_{-}{a}_{+} + a_{-}^{2}\\left( \\frac{\\nu}{2} + \\frac{1}{8} \\right) \\right] + \\frac{1}{r^5}\\left[ a_{+}^{2}\\left( -\\frac{175\\nu}{64} - \\frac{225}{64} \\right) + \\delta {a}_{-}{a}_{+}\\left( \\frac{117}{32} - \\frac{39\\nu}{16} \\right) + a_{-}^{2} \\left( \\frac{21\\nu^{2}}{16} - \\frac{81\\nu}{64} - \\frac{9}{64} \\right) \\right].\n",
    "\\end{equation*}\n",
    "\n",
    "Here, $r$ is the radial distance, $\\nu$ is defined in [this cell](#nu) and ${a}_{\\pm}$ is defined [in this cell](#a). "
   ]
  },
  {
   "cell_type": "code",
   "execution_count": 12,
   "id": "c4304d23",
   "metadata": {},
   "outputs": [
    {
     "name": "stdout",
     "output_type": "stream",
     "text": [
      "Appending to Hamiltonian/v5HM_BOB_Hamiltonian-Calibration-Hreal_on_top.txt\n"
     ]
    }
   ],
   "source": [
    "%%writefile -a $Ccodesdir/v5HM_BOB_Hamiltonian-Calibration-Hreal_on_top.txt\n",
    "AalignSS = (\n",
    "    (1/r**4)*(\n",
    "        ap**2*sp.Rational(9,8)\n",
    "        - delta*ap*am*sp.Rational(5,4)\n",
    "        + am**2*(\n",
    "            nu*sp.Rational(1,2) \n",
    "            + sp.Rational(1,8)\n",
    "        )\n",
    "    )\n",
    "    + (1/r**5)*(\n",
    "        ap**2*(\n",
    "            -nu*sp.Rational(175,64) \n",
    "            - sp.Rational(225,64)\n",
    "        )\n",
    "        + delta*ap*am*(\n",
    "            -nu*sp.Rational(39,16) \n",
    "            + sp.Rational(117,32)\n",
    "        )\n",
    "        + am**2*(\n",
    "            nu*nu*sp.Rational(21,16) \n",
    "            - nu*sp.Rational(81,64) \n",
    "            - sp.Rational(9,64)\n",
    "        )\n",
    "    )\n",
    ")"
   ]
  },
  {
   "cell_type": "markdown",
   "id": "d6f505d5",
   "metadata": {},
   "source": [
    "<a id='bnpalignss'></a>\n",
    "\n",
    "# Step : $B_{np,\\rm SS}^{\\textrm{align}}$ \\[Back to [top](#toc)\\]\n",
    "$$\\label{bnpalignss}$$\n",
    "\n",
    "The potential $B_{\\rm SS}^{\\rm align}$ is expressed in [RBB2023](https://arxiv.org/abs/2303.18046) Equation A6b:\n",
    "\\begin{equation*}\n",
    "    B_{np,\\rm SS}^{\\rm align} = \\frac{1}{r^3}\\left[ a_{+}^{2}\\left(3\\nu + \\frac{45}{16}\\right) - \\frac{21}{8}\\delta {a}_{+}{a}_{-} + a_{-}^{2}\\left( \\frac{3\\nu}{4} - \\frac{3}{16} \\right) \\right] + \\frac{1}{r^4}\\left[ a_{+}^{2}\\left( -\\frac{1171\\nu}{64} - \\frac{861}{64} \\right) + \\delta {a}_{+}{a}_{-}\\left( \\frac{449}{32} + \\frac{13\\nu}{16} \\right) + a_{-}^{2} \\left( \\frac{\\nu^{2}}{16} + \\frac{115\\nu}{64} - \\frac{37}{64} \\right) \\right].\n",
    "\\end{equation*}\n",
    "\n",
    "Here, $r$ is the radial distance, $\\nu$ is defined in [this cell](#nu), and ${a}_{\\pm}$ is defined [in this cell](#a)."
   ]
  },
  {
   "cell_type": "code",
   "execution_count": 13,
   "id": "3d0f653a",
   "metadata": {},
   "outputs": [
    {
     "name": "stdout",
     "output_type": "stream",
     "text": [
      "Appending to Hamiltonian/v5HM_BOB_Hamiltonian-Calibration-Hreal_on_top.txt\n"
     ]
    }
   ],
   "source": [
    "%%writefile -a $Ccodesdir/v5HM_BOB_Hamiltonian-Calibration-Hreal_on_top.txt\n",
    "BnpalignSS = (\n",
    "    (1/r**3)*( \n",
    "        ap**2*(\n",
    "            3*nu \n",
    "            + sp.Rational(45,16)\n",
    "        )\n",
    "        - delta*ap*am*sp.Rational(21,8)\n",
    "        + am**2*(\n",
    "            nu*sp.Rational(3,4) \n",
    "            - sp.Rational(3,16)\n",
    "        )\n",
    "    )\n",
    "    + (1/r**4)*( \n",
    "        ap**2*(\n",
    "            -nu*sp.Rational(1171,64) \n",
    "            - sp.Rational(861,64)\n",
    "        )\n",
    "        + delta*ap*am*(\n",
    "            nu*sp.Rational(13,16) \n",
    "            + sp.Rational(449,32)\n",
    "        )\n",
    "        + am**2*(\n",
    "            nu*nu*sp.Rational(1,16) \n",
    "            + nu*sp.Rational(115,64) \n",
    "            - sp.Rational(37,64)\n",
    "        ) \n",
    "    )\n",
    ")"
   ]
  },
  {
   "cell_type": "markdown",
   "id": "fa1dd9ac",
   "metadata": {},
   "source": [
    "<a id='qalignss'></a>\n",
    "\n",
    "# Step : $Q_{\\rm SS}^{\\textrm{align}}$ \\[Back to [top](#toc)\\]\n",
    "$$\\label{qalignss}$$\n",
    "\n",
    "The potential $Q_{\\rm SS}^{\\rm align}$ is expressed in [RBB2023](https://arxiv.org/abs/2303.18046) Equation A6c:\n",
    "\\begin{equation*}\n",
    "    Q_{\\rm SS}^{\\rm align} = \\frac{ p_{r}^{4} }{ r^3 }\\left[ a_{+}^{2}\\left(-5\\nu^2 + \\frac{165\\nu}{32} + \\frac{25}{32} \\right) + \\delta {a}_{+}{a}_{-}\\left( \\frac{45\\nu}{8} - \\frac{5}{16} \\right) + a_{-}^{2} \\left( -\\frac{15\\nu^{2}}{8} + \\frac{75\\nu}{32} - \\frac{15}{32} \\right) \\right].\n",
    "\\end{equation*}\n",
    "\n",
    "Here, $r$ is the radial distance, $p_{r}$ is defined in [this cell](#pr), $\\nu$ is defined in [this cell](#nu), and ${a}_{\\pm}$ is defined in [this cell](#a). "
   ]
  },
  {
   "cell_type": "code",
   "execution_count": 14,
   "id": "fa612fcb",
   "metadata": {},
   "outputs": [
    {
     "name": "stdout",
     "output_type": "stream",
     "text": [
      "Appending to Hamiltonian/v5HM_BOB_Hamiltonian-Calibration-Hreal_on_top.txt\n"
     ]
    }
   ],
   "source": [
    "%%writefile -a $Ccodesdir/v5HM_BOB_Hamiltonian-Calibration-Hreal_on_top.txt\n",
    "QalignSS = ((pr**4)/(r**3))*( \n",
    "        ap**2*( \n",
    "            -5*nu*nu \n",
    "            + nu*sp.Rational(165,32) \n",
    "            + sp.Rational(25,32)\n",
    "        )\n",
    "        + delta*ap*am*(\n",
    "            nu*sp.Rational(45,8) \n",
    "            - sp.Rational(5,16)\n",
    "        )\n",
    "        + am**2*(\n",
    "            -nu*nu*sp.Rational(15,8) \n",
    "            + nu*sp.Rational(75,32) \n",
    "            - sp.Rational(15,32)\n",
    "        ) \n",
    "    )"
   ]
  },
  {
   "cell_type": "markdown",
   "id": "861d3b54",
   "metadata": {},
   "source": [
    "<a id='pr'></a>\n",
    "\n",
    "# Step : The canonical momentum $p_{r}$ \\[Back to [top](#toc)\\]\n",
    "$$\\label{pr}$$\n",
    "\n",
    "The canonical momentum is expressed in [KB2023](https://arxiv.org/abs/2303.18143) Equation 42:\n",
    "\\begin{equation*}\n",
    "    p_r = \\frac{p_{r_*}}{\\xi(r)}.\n",
    "\\end{equation*}\n",
    "\n",
    "Here, $p_{r_*}$ is the tortoise momentum, and $\\xi(r)$ is defined in [this cell](#xi)."
   ]
  },
  {
   "cell_type": "code",
   "execution_count": 15,
   "id": "61ee0267",
   "metadata": {},
   "outputs": [
    {
     "name": "stdout",
     "output_type": "stream",
     "text": [
      "Appending to Hamiltonian/v5HM_BOB_Hamiltonian-Calibration-Hreal_on_top.txt\n"
     ]
    }
   ],
   "source": [
    "%%writefile -a $Ccodesdir/v5HM_BOB_Hamiltonian-Calibration-Hreal_on_top.txt\n",
    "pr = prstar/xi"
   ]
  },
  {
   "cell_type": "markdown",
   "id": "516dedd5",
   "metadata": {},
   "source": [
    "<a id='xi'></a>\n",
    "\n",
    "# Step : The tortoise transformation $\\xi(r)$ \\[Back to [top](#toc)\\]\n",
    "$$\\label{xi}$$\n",
    "\n",
    "The canonical momentum is expressed in [KB2023](https://arxiv.org/abs/2303.18143) Equation 44:\n",
    "\\begin{equation*}\n",
    "    \\xi = \\frac{\\sqrt{D_{\\rm noS}} \\left( A_{\\rm noS} + a_{+}^{2}/r^{2} \\right) }{1 + a_{+}^2/r^2}.\n",
    "\\end{equation*}\n",
    "\n",
    "Here, $r$ is the radial distance. The potentials: $D_{\\rm noS}$ is defined in [this cell](#dnons), and $A_{\\rm noS}$ is defined in [this cell](#anons). The spin combination $a_{+}$ is given in [this cell](#a)"
   ]
  },
  {
   "cell_type": "code",
   "execution_count": 16,
   "id": "c2f0e092",
   "metadata": {},
   "outputs": [
    {
     "name": "stdout",
     "output_type": "stream",
     "text": [
      "Appending to Hamiltonian/v5HM_BOB_Hamiltonian-Calibration-Hreal_on_top.txt\n"
     ]
    }
   ],
   "source": [
    "%%writefile -a $Ccodesdir/v5HM_BOB_Hamiltonian-Calibration-Hreal_on_top.txt\n",
    "xi = sp.sqrt(Dnons) * ( Anons + ap**2*u*u ) / (1 + ap**2*u*u)"
   ]
  },
  {
   "cell_type": "markdown",
   "id": "bef0b7a7",
   "metadata": {},
   "source": [
    "# Step : The Non-Spinning Contributions"
   ]
  },
  {
   "cell_type": "markdown",
   "id": "5ecfec8a",
   "metadata": {},
   "source": [
    "<a id='anons'></a>\n",
    "\n",
    "# Step : $A_{\\textrm{noS}}$ \\[Back to [top](#toc)\\]\n",
    "$$\\label{anons}$$\n",
    "\n",
    "The Taylor potential $A_{\\rm noS}$ is expressed in [KB2023](https://arxiv.org/abs/2303.18143) Equation 21:\n",
    "\\begin{equation*}\n",
    "    {A}_{\\rm noS}^{\\rm Tay} = 1 + - 2u + 2\\nu u^3 + \\nu\\left(\\frac{94}{3} - \\frac{41\\pi^2}{32} \\right)u^4 + \\left[ \\nu\\left( \\frac{2275\\pi^2}{512} - \\frac{4237}{60} + \\frac{128\\gamma_E}{5} + \\frac{256 \\ln 2}{5} \\right) + \\nu^2\\left(\\frac{41\\pi^2}{32} - \\frac{221}{6}\\right) + \\frac{64}{5}\\nu \\ln u \\right]u^5 + \\left[\\nu a_6 - \\nu\\left(\\frac{144\\nu}{5} + \\frac{7004}{105}\\right)\\ln u \\right]u^6.\n",
    "\\end{equation*}\n",
    "\n",
    "Here, $u$ is the inverse of the radial distance, defined in [this cell](#u). $\\gamma_E$ is the Euler-Mascheroni constant, and $a_{6}$ is chosen as a free parameter that we will fit to NR simulations.\n",
    "\n",
    "The non-spinning potential $A_{\\rm noS}$ is defined as the Padé approximant:\n",
    "\n",
    "\\begin{equation*}\n",
    "    A_{\\rm noS} = P^{1}_{5}\\left[ A_{\\rm noS}^{\\rm Tay} \\right]\n",
    "\\end{equation*}\n",
    "\n",
    "For consistency, we use the "
   ]
  },
  {
   "cell_type": "code",
   "execution_count": 17,
   "id": "5104af72",
   "metadata": {},
   "outputs": [
    {
     "name": "stdout",
     "output_type": "stream",
     "text": [
      "Appending to Hamiltonian/v5HM_BOB_Hamiltonian-Calibration-Hreal_on_top.txt\n"
     ]
    }
   ],
   "source": [
    "%%writefile -a $Ccodesdir/v5HM_BOB_Hamiltonian-Calibration-Hreal_on_top.txt\n",
    "Anons = 7680.0*r**4*(-5416406.59541186*nu**2 + 28.0*nu*(1920.0*a6 + 733955.307463037) + 2048.0*nu*(756.0*nu + 336.0*r + 407.0)*sp.log(r) - 7.0*r*(-185763.092693281*nu**2 + 938918.400156317*nu - 245760.0) - 3440640.0)/(241555486248.807*nu**4 + 1120.0*nu**3*(-17833256.898555*r**2 - 163683964.822551*r - 1188987459.03162) + 7.0*nu**2*(-39321600.0*a6*(3.0*r + 59.0) + 745857848.115604*a6 + 1426660551.8844*r**5 - 3089250703.76879*r**4 - 6178501407.53758*r**3 + 2064783811.32587*r**2 + 122635399361.987*r + 276057889687.011) + 67645734912.0*nu**2*sp.log(r)**2 + 53760.0*nu*(7680.0*a6*(r**4 + 2.0*r**3 + 4.0*r**2 + 8.0*r + 16.0) + 128.0*r*(-6852.34813868015*r**4 + 4264.6962773603*r**3 + 8529.39255472061*r**2 + 13218.7851094412*r - 33722.4297811176) + 113485.217444961*r*(-r**4 + 2.0*r**3 + 4.0*r**2 + 8.0*r + 16.0) + 148.04406601634*r*(349.0*r**4 + 1926.0*r**3 + 3852.0*r**2 + 7704.0*r + 36400.0)) + 32768.0*nu*(-1882456.23663972*nu**2 - 38842241.4769507*nu + 161280.0*r**5 + 480.0*r**4*(756.0*nu + 1079.0) + 960.0*r**3*(756.0*nu + 1079.0) + 1920.0*r**2*(588.0*nu + 1079.0) + 240.0*r*(-3024.0*nu**2 - 7466.27061066206*nu + 17264.0) + 13447680.0)*sp.log(r) + 13212057600.0*r**5)"
   ]
  },
  {
   "cell_type": "markdown",
   "id": "2673e720",
   "metadata": {},
   "source": [
    "<a id='dnons'></a>\n",
    "\n",
    "# Step : $\\bar{D}_{\\textrm{noS}}$ \\[Back to [top](#toc)\\]\n",
    "$$\\label{dnons}$$\n",
    "\n",
    "The Taylor potential $\\bar{D}_{\\rm noS}$ is expressed in [KB2023](https://arxiv.org/abs/2303.18143) Equation 23:\n",
    "\\begin{equation*}\n",
    "    \\bar{D}_{\\rm noS}^{\\rm Tay} = 1 + 6\\nu u^2 + \\left(-6\\nu^2 + 52\\nu\\right) u^3 + \\left[ \\nu\\left( -\\frac{23761\\pi^2}{1536} - \\frac{533}{45} + \\frac{1184\\gamma_E}{15} - \\frac{6496 \\ln 2}{15} + \\frac{2916 \\ln 3}{5}\\right) + \\nu^2\\left(\\frac{123\\pi^2}{16} - 260\\right) + \\frac{592}{15}\\nu \\ln u \\right]u^4 + \\left[ \\nu\\left( \\frac{294464}{175} - \\frac{2840\\gamma_E}{7} - \\frac{63707\\pi^2}{512} + \\frac{120648 \\ln 2}{35} - \\frac{19683}{7} \\right) \\left( \\frac{1069}{3} - \\frac{205\\pi^2}{16} \\right)\\nu^3 + \\left( d^{\\nu^2}_{5} - \\frac{6784\\gamma_E}{15} + \\frac{67736}{105} + \\frac{58320 \\ln 3}{7} - \\frac{326656 \\ln 2}{21} \\right)\\nu^2 \\right]u^5.\n",
    "\\end{equation*}\n",
    "\n",
    "Here, $u$ is the inverse of the radial distance, defined in [this cell](#u). $\\gamma_E$ is the Euler-Mascheroni constant, defined in [this cell](#emgamma) and $d^{\\nu^2}_{5}$ is an NR calibration coefficient that is set to zero.\n",
    "\n",
    "The non-spinning potential $\\bar{D}_{\\rm noS}$ is defined as the Padé approximant:\n",
    "\n",
    "\\begin{equation*}\n",
    "    D_{\\rm noS} = P^{2}_{3}\\left[ D_{\\rm noS}^{\\rm Tay} \\right]\n",
    "\\end{equation*}"
   ]
  },
  {
   "cell_type": "code",
   "execution_count": 18,
   "id": "74069ad0",
   "metadata": {},
   "outputs": [
    {
     "name": "stdout",
     "output_type": "stream",
     "text": [
      "Appending to Hamiltonian/v5HM_BOB_Hamiltonian-Calibration-Hreal_on_top.txt\n"
     ]
    }
   ],
   "source": [
    "%%writefile -a $Ccodesdir/v5HM_BOB_Hamiltonian-Calibration-Hreal_on_top.txt\n",
    "Dnons = r*(6730497718123.02*nu**3 + 22295347200.0*nu**2*d5 + 133772083200.0*nu**2*r**2 + 1822680546449.21*nu**2*r + 80059249540278.2*nu**2 + 22295347200.0*nu*d5*r - 193226342400.0*nu*d5 + 2589101062873.81*nu*r**2 + 10611661054566.2*nu*r - 12049908701745.2*nu + 5107745331375.71*r**2 - 326837426.241486*r*(14700.0*nu + 42911.0) - 39476764256925.6*r - (-5041721180160.0*nu**2 - 25392914995744.3*nu - 879923036160.0*r**2 - 283115520.0*r*(14700.0*nu + 42911.0) + 104186110149937.0)*sp.log(r) + 5787938193408.0*sp.log(r)**2 + 275059053208689.0)/(55296.0*nu*(14515200.0*nu**3 - 42636451.6032331*nu**2 - 7680.0*nu*(315.0*d5 + 890888.810272497) + 4331361844.61149*nu + 1002013764.01019) - 967680.0*r**3*(-138240.0*nu**2 - 2675575.66847905*nu - 5278341.3229329) - 9216.0*r**2*(-197773496.793534*nu**2 - 7680.0*nu*(315.0*d5 + 405152.309729121) + 2481453539.84635*nu + 5805304367.87913) + r*(5927865218923.02*nu**3 + 70778880.0*nu**2*(315.0*d5 + 2561145.80918574) - 138141470005001.0*nu**2 - 4718592.0*nu*(40950.0*d5 + 86207832.4415642) + 450172889755120.0*nu + 86618264430493.3*(1 - 0.496948781616935*nu)**2 + 188440788778196.0) + 5787938193408.0*r*sp.log(r)**2 + (-1698693120.0*nu*(11592.0*nu + 69847.0) + 879923036160.0*r**3 + 283115520.0*r**2*(14700.0*nu + 42911.0) + 49152.0*r*(102574080.0*nu**2 + 409207698.136075*nu - 2119671837.36038))*sp.log(r))\n",
    "d5 = 0"
   ]
  },
  {
   "cell_type": "markdown",
   "id": "ed09b8c2",
   "metadata": {},
   "source": [
    "<a id='qnons'></a>\n",
    "\n",
    "# Step : $Q_{\\textrm{noS}}$ \\[Back to [top](#toc)\\]\n",
    "$$\\label{qnons}$$\n",
    "\n",
    "The potential $Q_{\\rm noS}$ is expressed in [PB2023](https://arxiv.org/pdf/2303.18039.pdf) Equation A2:\n",
    "\n",
    "\\begin{align}\n",
    "\\label{QpmTay}\n",
    "Q_\\text{noS} &= {p_{r_*}^4} \\Bigg\\lbrace 2 (4 - 3 \\nu) \\nu u^2 \n",
    "+u^3 \\left[10 \\nu ^3-131 \\nu ^2+\\nu  \\left(-\\frac{4348}{15}+\\frac{496256 \\ln 2}{45}-\\frac{33048 \\ln 3}{5}\\right)\\right]\n",
    "+ u^4 \\Bigg[\\left(792-\\frac{615 \\pi ^2}{32}\\right) \\nu ^3  \\nonumber\\\\\n",
    "&\\qquad\n",
    "+\\nu ^2 \\left(-\\frac{592 \\ln u}{5}+\\frac{31633 \\pi ^2}{512}-\\frac{1184 \\gamma_E}{5}+\\frac{45683}{105}+\\frac{33693536 \\ln 2}{105}-\\frac{6396489 \\ln 3}{70}-\\frac{9765625 \\ln 5}{126}\\right) \\nonumber\\\\\n",
    "&\\qquad\n",
    "+\\nu  \\left(\\frac{5428 \\ln u}{105}+\\frac{1249177}{1050}-\\frac{93031 \\pi ^2}{1536}+\\frac{10856 \\gamma_E }{105}-\\frac{4396376}{105} \\ln 2+\\frac{9765625 \\ln 5}{504}-\\frac{601911 \\ln 3}{280}\\right)\\Bigg] \n",
    "+ \\frac{88703 \\pi  \\nu  u^{9/2}}{1890} \\Bigg\\rbrace \n",
    "\\nonumber\\\\\n",
    "&\\quad \n",
    "+ {p_{r_*}^6} \\Bigg\\lbrace\n",
    "u^2 \\left[6 \\nu ^3-\\frac{27 \\nu ^2}{5}+\\nu  \\left(-\\frac{827}{3}-\\frac{1}{25} 2358912 \\ln 2+\\frac{1399437 \\ln 3}{50}+\\frac{390625 \\ln 5}{18}\\right)\\right] \\nonumber\\\\\n",
    "&\\qquad\n",
    "+ u^3 \\Bigg[-14 \\nu ^4+188 \\nu ^3+\\nu ^2 \\left(\\frac{154229}{75}-\\frac{4998308864 \\ln 2}{1575}+\\frac{26171875 \\ln 5}{18}-\\frac{45409167 \\ln 3}{350}\\right) \\nonumber\\\\\n",
    "&\\quad\\qquad\n",
    "+\\nu  \\left(-\\frac{860317}{1050}+\\frac{305146624 \\ln 2}{945}+\\frac{35643726 \\ln 3}{175}-\\frac{52468750 \\ln 5}{189}\\right)\\Bigg]\n",
    "-\\frac{2723471 \\pi  \\nu  u^{7/2}}{756000} \\Bigg\\rbrace \n",
    "\\nonumber\\\\\n",
    "&\\quad\n",
    "+ {p_{r_*}^8} \\Bigg\\lbrace\n",
    "u \\nu  \\left[-\\frac{35772}{175}+\\frac{21668992 \\ln 2}{45}+\\frac{6591861 \\ln 3}{350}-\\frac{27734375 \\ln 5}{126}\\right]\n",
    "+\\frac{5994461 \\pi  \\nu  u^{5/2}}{12700800} + u^2 \\Bigg[-6 \\nu ^4+\\frac{24 \\nu ^3}{7} \\nonumber\\\\\n",
    "&\\quad\\qquad\n",
    "+\\nu ^2 \\left(\\frac{870976}{525}+\\frac{703189497728 \\ln 2}{33075}+\\frac{332067403089 \\ln 3}{39200}-\\frac{13841287201 \\ln 7}{4320}-\\frac{468490234375 \\ln 5}{42336}\\right) \\nonumber\\\\\n",
    "&\\quad\\qquad\n",
    "+\\nu  \\left(-\\frac{2222547}{2450}-\\frac{1347019456}{525}  \\ln 2+\\frac{278690984375 \\ln 5}{169344}+\\frac{13841287201 \\ln 7}{17280}-\\frac{346536085761 \\ln 3}{156800}\\right)\\Bigg]\n",
    "\\Bigg\\rbrace.\n",
    "\\end{align}\n",
    "\n",
    "Here, $u$ is the inverse of the radial distance, defined in [this cell](#u).$a_{6}$ is an NR calibration coefficient defined in [this cell](#nr). Following the discussion under Equation 45 in [KB2023](https://arxiv.org/abs/2303.18143), we can replace the canonical momentum $p_r$ in the above equation with the tortoise momentum $p_{r_{*}}$, which is an input variable.  $\\gamma_E$ is the Euler-Mascheroni constant, and is defined in the sympy library.\n",
    "\n",
    "We note small disagreements with the pyseobnr code and the value of the coefficients in the literature. For consistency with pyseobnr we are using their version of Qnos instead of our version (saving our code here for future use):\n",
    "\n",
    "```lang-py\n",
    "Qnos = Qnosterm1 + Qnosterm2 + Qnosterm3\n",
    "Qnosterm1 = (prstar**4) *(\n",
    "    2 * (4 - 3 * nu) * nu * u**2\n",
    "    + u**3 * (\n",
    "        10 * nu**3 \n",
    "        - 131 * nu**2 \n",
    "        + nu * (\n",
    "            -sp.Rational(4348, 15) + sp.Rational(496256,45) * sp.log(2) - sp.Rational(33048,5) * sp.log(3)\n",
    "        )\n",
    "    )\n",
    "    + u**4 * (\n",
    "        (792 - sp.Rational(615,32) * sp.pi**2) * nu**3\n",
    "        + nu**2 * (\n",
    "            - sp.Rational(592,5)*sp.log(u) + sp.Rational(31633,512) * sp.pi**2  - sp.Rational(1184,5) * sp.EulerGamma  \n",
    "            + sp.Rational(45683, 105) + sp.Rational(33693536,105) * sp.log(2) - sp.Rational(6396489,70) * sp.log(3) \n",
    "            - sp.Rational(9765625,126) * sp.log(5)\n",
    "        )\n",
    "        + nu * (\n",
    "            sp.Rational(5428,105)*sp.log(u) + sp.Rational(1249177, 1050) - sp.Rational(93031,1536) * sp.pi**2 \n",
    "            + sp.Rational(10856,105) * sp.EulerGamma - sp.Rational(4396376, 105) * sp.log(2) + sp.Rational(9765625,504) * sp.log(5)\n",
    "            - sp.Rational(601911,280) * sp.log(3)\n",
    "        )\n",
    "    )\n",
    "    + sp.Rational(88703, 1890) * sp.pi * nu * u**(sp.Rational(9, 2))\n",
    ")\n",
    "\n",
    "Qnosterm2 = (prstar**6) * ( \n",
    "    u**2 * ( 6*nu**3 \n",
    "            - sp.Rational(27,5)*nu**2\n",
    "            + nu*(\n",
    "                -sp.Rational(827,3) - sp.Rational(2358912,25)*sp.log(2) + sp.Rational(1399437,50)*sp.log(3) \n",
    "                + sp.Rational(390625,18)*sp.log(5)\n",
    "            ) \n",
    "           )\n",
    "    + u**3 * ( -14*nu**4 \n",
    "              + 188*nu**3\n",
    "              + nu**2 * ( \n",
    "                  sp.Rational(154229,75) - sp.Rational(4998308864,1575)*sp.log(2) + sp.Rational(26171875,18)*sp.log(5)\n",
    "                  - sp.Rational(45409167,350)*sp.log(3)\n",
    "              )\n",
    "              + nu * ( \n",
    "                  -sp.Rational(860317,1050) + sp.Rational(305146624,945)*sp.log(2) + sp.Rational(35643726,175)*sp.log(3)\n",
    "                  - sp.Rational(52468750,189)*sp.log(5)\n",
    "              )\n",
    "             )\n",
    "    - sp.Rational(2723471,756000)*sp.pi*nu*u**(sp.Rational(7,2))\n",
    ")\n",
    "\n",
    "Qnosterm3 = (prstar**8) * ( \n",
    "    u*nu * ( \n",
    "        -sp.Rational(35772,175) + sp.Rational(21668992,45)*sp.log(2) + sp.Rational(6591861,350)*sp.log(3) \n",
    "        - sp.Rational(27734375,126)*sp.log(5)\n",
    "    )\n",
    "    +u**2 * (\n",
    "        -6*nu**4 + \n",
    "        sp.Rational(24,7)*nu**3\n",
    "        +nu**2 * (\n",
    "            sp.Rational(870976,525) + sp.Rational(703189497728,33075)*sp.log(2) + sp.Rational(332067403089,39200)*sp.log(3)\n",
    "            -sp.Rational(13841287201,4320)*sp.log(7) - sp.Rational(468490234375,42336)*sp.log(5)\n",
    "        )\n",
    "        +nu * (\n",
    "            -sp.Rational(2222547,2450) - sp.Rational(1347019456,525)*sp.log(2) + sp.Rational(278690984375,169344)*sp.log(5)\n",
    "            +sp.Rational(13841287201,17280)*sp.log(7) - sp.Rational(346536085761,156800)*sp.log(3)\n",
    "        )\n",
    "    )\n",
    "    +sp.Rational(5994461,12700800)*sp.pi*nu*u**(sp.Rational(5,2))\n",
    ") \n",
    "```"
   ]
  },
  {
   "cell_type": "code",
   "execution_count": 19,
   "id": "9b0bcc2c",
   "metadata": {},
   "outputs": [
    {
     "name": "stdout",
     "output_type": "stream",
     "text": [
      "Appending to Hamiltonian/v5HM_BOB_Hamiltonian-Calibration-Hreal_on_top.txt\n"
     ]
    }
   ],
   "source": [
    "%%writefile -a $Ccodesdir/v5HM_BOB_Hamiltonian-Calibration-Hreal_on_top.txt\n",
    "Qnos = (0.121954868780449*nu*prstar**8/r + prstar**6*(6.0*nu**3 - 5.4*nu**2 - 2.78300763695006*nu)/r**2 + prstar**4*(10.0*nu**3 - 131.0*nu**2 + 92.7110442849544*nu)/r**3) + (prstar**8*(-6.0*nu**4 + 3.42857142857143*nu**3 + 3.33842023648322*nu**2 + 1.38977750996128*nu)/r**2 + prstar**6*(-14.0*nu**4 + 188.0*nu**3 - 89.5298327361234*nu**2 - 33.9782122170436*nu)/r**3 + prstar**4*(602.318540416564*nu**3 + nu**2*(118.4*sp.log(r) - 1796.13660498019) + nu*(452.542166996693 - 51.6952380952381*sp.log(r) ))/r**4) + (1.48275342024365*nu*prstar**8/r**2.5 - 11.3175085791863*nu*prstar**6/r**3.5 + 147.443752990146*nu*prstar**4/r**4.5) + prstar**4*(-6.0*nu**2 + 8.0*nu)/r**2"
   ]
  },
  {
   "cell_type": "markdown",
   "id": "bcd2baaa",
   "metadata": {},
   "source": [
    "<a id='a'></a>\n",
    "\n",
    "# Step : The spin combinations ${a}_{\\pm}$ \\[Back to [top](#toc)\\]\n",
    "$$\\label{a}$$\n",
    "\n",
    "In this section, we define the spin combinations as expressed in [RBB2023](https://arxiv.org/abs/2303.18046) Equation 3:\n",
    "\n",
    "\\begin{equation*}\n",
    "    {a}_{\\pm} = \\frac{m_1}{M}{\\chi}_{1} \\pm \\frac{m_2}{M}{\\chi}_{2}.\n",
    "\\end{equation*}\n",
    "\n",
    "Where, ${\\chi}_{1,2}$ are the dimensionless spins. These are also provided as input parameters to the Hamiltonian function."
   ]
  },
  {
   "cell_type": "code",
   "execution_count": 20,
   "id": "a34f98df",
   "metadata": {},
   "outputs": [
    {
     "name": "stdout",
     "output_type": "stream",
     "text": [
      "Appending to Hamiltonian/v5HM_BOB_Hamiltonian-Calibration-Hreal_on_top.txt\n"
     ]
    }
   ],
   "source": [
    "%%writefile -a $Ccodesdir/v5HM_BOB_Hamiltonian-Calibration-Hreal_on_top.txt\n",
    "ap = (m1*chi1 + m2*chi2)/M\n",
    "am = (m1*chi1 - m2*chi2)/M"
   ]
  },
  {
   "cell_type": "markdown",
   "id": "efa61fe1",
   "metadata": {},
   "source": [
    "# Step: Calibration Coefficients and Constants"
   ]
  },
  {
   "cell_type": "markdown",
   "id": "782ea740",
   "metadata": {},
   "source": [
    "<a id='ga'></a>\n",
    "\n",
    "# Step : The gyro-gravitomagnetic factors $g_{a_\\pm}$ \\[Back to [top](#toc)\\]\n",
    "$$\\label{ga}$$\n",
    "\n",
    "In this section, we define the gyro-gravitomagnetic factors as expressed in [KB2023](https://arxiv.org/abs/2303.18143) Equation 28:\n",
    "\n",
    "\\begin{equation*}\n",
    "\\begin{aligned}\n",
    "&\\begin{aligned}\n",
    "g_{a_{+}}^{3.5 \\mathrm{PN}}=\\frac{7}{4} & +\\left[\\frac{p_{\\phi}^2}{r^2}\\left(-\\frac{45 \\nu}{32}-\\frac{15}{32}\\right)+\\frac{1}{r}\\left(\\frac{23 \\nu}{32}-\\frac{3}{32}\\right)\\right] \\\\\n",
    "+ & {\\left[\\frac{p_{\\phi}^4}{r^4}\\left(\\frac{345 \\nu^2}{256}+\\frac{75 \\nu}{128}+\\frac{105}{256}\\right)\\right.} \\\\\n",
    "& +\\frac{p_{\\phi}^2}{r^3}\\left(-\\frac{1591 \\nu^2}{768}-\\frac{267 \\nu}{128}+\\frac{59}{256}\\right) \\\\\n",
    "& \\left.+\\frac{1}{r^2}\\left(\\frac{109 \\nu^2}{192}-\\frac{177 \\nu}{32}-\\frac{5}{64}\\right)\\right],\n",
    "\\end{aligned}\\\\\n",
    "&\\begin{aligned}\n",
    "g_{a_{-}}^{3.5 \\mathrm{PN}}= & \\frac{1}{4}+\\left[\\frac{p_{\\phi}^2}{r^2}\\left(\\frac{15}{32}-\\frac{9 \\nu}{32}\\right)+\\frac{1}{r}\\left(\\frac{11 \\nu}{32}+\\frac{3}{32}\\right)\\right] \\\\\n",
    "+ & {\\left[\\frac{p_{\\phi}^4}{r^4}\\left(\\frac{75 \\nu^2}{256}-\\frac{45 \\nu}{128}-\\frac{105}{256}\\right)\\right.} \\\\\n",
    "& +\\frac{p_{\\phi}^2}{r^3}\\left(-\\frac{613 \\nu^2}{768}-\\frac{35 \\nu}{128}-\\frac{59}{256}\\right) \\\\\n",
    "& \\left.+\\frac{1}{r^2}\\left(\\frac{103 \\nu^2}{192}-\\frac{\\nu}{32}+\\frac{5}{64}\\right)\\right].\n",
    "\\end{aligned}\n",
    "\\end{aligned}\n",
    "\\end{equation*}\n",
    "Where, ${\\bf \\chi}_{1,2}$ are the dimensionless spin vectors. These are also provided as input parameters to the Hamiltonian function. More importantly, we express the magnitude of the combinations and their dot product."
   ]
  },
  {
   "cell_type": "code",
   "execution_count": 21,
   "id": "4db6c241",
   "metadata": {},
   "outputs": [
    {
     "name": "stdout",
     "output_type": "stream",
     "text": [
      "Appending to Hamiltonian/v5HM_BOB_Hamiltonian-Calibration-Hreal_on_top.txt\n"
     ]
    }
   ],
   "source": [
    "%%writefile -a $Ccodesdir/v5HM_BOB_Hamiltonian-Calibration-Hreal_on_top.txt\n",
    "gap = (\n",
    "        sp.Rational(7, 4)\n",
    "        + (pphi**2 / r**2) * (\n",
    "            -sp.Rational(45, 32) * nu - sp.Rational(15, 32)\n",
    "        )\n",
    "        + (1 / r) * (\n",
    "            sp.Rational(23, 32) * nu - sp.Rational(3, 32)\n",
    "        )\n",
    "        + (pphi**4 / r**4) * (\n",
    "            sp.Rational(345, 256) * nu**2 + sp.Rational(75, 128) * nu + sp.Rational(105, 256)\n",
    "        )\n",
    "        + (pphi**2 / r**3) * (\n",
    "            -sp.Rational(1591, 768) * nu**2 - sp.Rational(267, 128) * nu + sp.Rational(59, 256)\n",
    "        )\n",
    "        + (1 / r**2) * (\n",
    "            sp.Rational(109, 192) * nu**2 - sp.Rational(177, 32) * nu - sp.Rational(5, 64)\n",
    "        )\n",
    "    )\n",
    "gam = (\n",
    "        sp.Rational(1, 4)\n",
    "        + (pphi**2 / r**2) * (\n",
    "            sp.Rational(15, 32) - sp.Rational(9, 32) * nu\n",
    "        )\n",
    "        + (1 / r) * (\n",
    "            sp.Rational(11, 32) * nu + sp.Rational(3, 32)\n",
    "        )\n",
    "        + (pphi**4 / r**4) * (\n",
    "            sp.Rational(75, 256) * nu**2 - sp.Rational(45, 128) * nu - sp.Rational(105, 256)\n",
    "        )\n",
    "        + (pphi**2 / r**3) * (\n",
    "            -sp.Rational(613, 768) * nu**2 - sp.Rational(35, 128) * nu - sp.Rational(59, 256)\n",
    "        )\n",
    "        + (1 / r**2) * (\n",
    "            sp.Rational(103, 192) * nu**2 - sp.Rational(1, 32) * nu + sp.Rational(5, 64)\n",
    "        )\n",
    "    )"
   ]
  },
  {
   "cell_type": "markdown",
   "id": "792ca7cc",
   "metadata": {},
   "source": [
    "<a id='a6'></a>\n",
    "\n",
    "# Step :  $a_{6}$ \\[Back to [top](#toc)\\]\n",
    "$$\\label{a6}$$\n",
    "\n",
    "In this section, we define the calibration coefficient $a_6$ as documented [here](https://dcc.ligo.org/public/0186/T2300060/002/SEOBNRv5HM.pdf):\n",
    "\\begin{equation*}\n",
    "a_6 = 41.7877875 - 3021.93382 \\nu + 33414.4394 \\nu^2 - 169019.14 \\nu^3 + 329523.262 \\nu^4\n",
    "\\end{equation*}\n",
    "\n",
    "Where, $\\nu$ is the symmetric mass ratio and is defined in [this cell](#nu)."
   ]
  },
  {
   "cell_type": "code",
   "execution_count": 22,
   "id": "8ee122fc",
   "metadata": {},
   "outputs": [
    {
     "name": "stdout",
     "output_type": "stream",
     "text": [
      "Appending to Hamiltonian/v5HM_BOB_Hamiltonian-Calibration-Hreal_on_top.txt\n"
     ]
    }
   ],
   "source": [
    "%%writefile -a $Ccodesdir/v5HM_BOB_Hamiltonian-Calibration-Hreal_on_top.txt\n",
    "a6 = 41.7877875 - 3021.93382 * nu + 33414.4394 * nu**2 - 169019.14 * nu**3 + 329523.262 * nu**4"
   ]
  },
  {
   "cell_type": "markdown",
   "id": "5c7fcf1b",
   "metadata": {},
   "source": [
    "# Step : The Mass Combinations"
   ]
  },
  {
   "cell_type": "markdown",
   "id": "6489a8ec",
   "metadata": {},
   "source": [
    "<a id='nu'></a>\n",
    "\n",
    "# Step :  The symmetric mass ratio $\\nu$ \\[Back to [top](#toc)\\]\n",
    "$$\\label{nu}$$\n",
    "\n",
    "In this section, we define the symmetric mass ratio $\\nu$ as expressed in [RBB2023](https://arxiv.org/abs/2303.18046) Equation 1:\n",
    "\\begin{equation*}\n",
    "\\nu = \\frac{m_1 m_2}{M^2}\n",
    "\\end{equation*}\n",
    "\n",
    "Where, $M$ is the total mass defined in [this cell](#m)."
   ]
  },
  {
   "cell_type": "code",
   "execution_count": 23,
   "id": "86b9c406",
   "metadata": {},
   "outputs": [
    {
     "name": "stdout",
     "output_type": "stream",
     "text": [
      "Appending to Hamiltonian/v5HM_BOB_Hamiltonian-Calibration-Hreal_on_top.txt\n"
     ]
    }
   ],
   "source": [
    "%%writefile -a $Ccodesdir/v5HM_BOB_Hamiltonian-Calibration-Hreal_on_top.txt\n",
    "nu = m1*m2/(M**2)"
   ]
  },
  {
   "cell_type": "markdown",
   "id": "81b1ee5d",
   "metadata": {},
   "source": [
    "<a id='delta'></a>\n",
    "\n",
    "# Step :  $\\delta$ \\[Back to [top](#toc)\\]\n",
    "$$\\label{delta}$$\n",
    "\n",
    "In this section, we define $\\delta$ as expressed in [RBB2023](https://arxiv.org/abs/2303.18046) Equation 1:\n",
    "\\begin{equation*}\n",
    "\\delta = \\frac{m_1 - m_2}{M}\n",
    "\\end{equation*}\n",
    "\n",
    "Where, $M$ is the total mass defined in [this cell](#m)."
   ]
  },
  {
   "cell_type": "code",
   "execution_count": 24,
   "id": "c50fe43c",
   "metadata": {},
   "outputs": [
    {
     "name": "stdout",
     "output_type": "stream",
     "text": [
      "Appending to Hamiltonian/v5HM_BOB_Hamiltonian-Calibration-Hreal_on_top.txt\n"
     ]
    }
   ],
   "source": [
    "%%writefile -a $Ccodesdir/v5HM_BOB_Hamiltonian-Calibration-Hreal_on_top.txt\n",
    "delta = (m1-m2)/M"
   ]
  },
  {
   "cell_type": "markdown",
   "id": "d57c3f2d",
   "metadata": {},
   "source": [
    "<a id='m'></a>\n",
    "\n",
    "# Step :  The total mass $M$ \\[Back to [top](#toc)\\]\n",
    "$$\\label{m}$$\n",
    "\n",
    "In this section, we define the total mass as expressed in [RBB2023](https://arxiv.org/abs/2303.18046) Equation 1:\n",
    "\\begin{equation*}\n",
    "M = m_1 + m_2\n",
    "\\end{equation*}\n",
    "\n",
    "Where, $m_{1,2}$ are the individual masses of the black holes, given as input parameters."
   ]
  },
  {
   "cell_type": "code",
   "execution_count": 25,
   "id": "1d0d5945",
   "metadata": {},
   "outputs": [
    {
     "name": "stdout",
     "output_type": "stream",
     "text": [
      "Appending to Hamiltonian/v5HM_BOB_Hamiltonian-Calibration-Hreal_on_top.txt\n"
     ]
    }
   ],
   "source": [
    "%%writefile -a $Ccodesdir/v5HM_BOB_Hamiltonian-Calibration-Hreal_on_top.txt\n",
    "M = m1+m2"
   ]
  },
  {
   "cell_type": "markdown",
   "id": "6d56b296",
   "metadata": {},
   "source": [
    "<a id='u'></a>\n",
    "\n",
    "# Step :  The inverse radius $u$ \\[Back to [top](#toc)\\]\n",
    "$$\\label{u}$$\n",
    "\n",
    "In this section, we define the total mass as expressed in [RBB2023](https://arxiv.org/abs/2303.18046) Equation 1:\n",
    "\\begin{equation*}\n",
    "u = \\frac{1}{r}\n",
    "\\end{equation*}\n",
    "\n",
    "Where, $r$ is the radial distance."
   ]
  },
  {
   "cell_type": "code",
   "execution_count": 26,
   "id": "be007869",
   "metadata": {},
   "outputs": [
    {
     "name": "stdout",
     "output_type": "stream",
     "text": [
      "Appending to Hamiltonian/v5HM_BOB_Hamiltonian-Calibration-Hreal_on_top.txt\n"
     ]
    }
   ],
   "source": [
    "%%writefile -a $Ccodesdir/v5HM_BOB_Hamiltonian-Calibration-Hreal_on_top.txt\n",
    "u = 1/r"
   ]
  },
  {
   "cell_type": "markdown",
   "id": "c45681c2",
   "metadata": {},
   "source": [
    "# Step : Saving the expressions\n",
    "\n",
    "Up till now, the expressions required for the Hamiltonian have been stored in a .txt file. for the sake of readability, some of the expressions have been written in more than one line. \n",
    "\n",
    "Therefore, we save the expressions in one-line format to parse into sympy for generating optimized code or derivative expressions."
   ]
  },
  {
   "cell_type": "code",
   "execution_count": 27,
   "id": "aedc704e",
   "metadata": {},
   "outputs": [],
   "source": [
    "import os \n",
    "with open(os.path.join(Ccodesdir,\"v5HM_BOB_Hamiltonian-Calibration-Hreal_on_top-oneline.txt\"), \"w\") as output:\n",
    "    count = 0\n",
    "    # Read output of this notebook\n",
    "    for line in list(open(os.path.join(Ccodesdir,\"v5HM_BOB_Hamiltonian-Calibration-Hreal_on_top.txt\"),\"r\")):\n",
    "        # Read the first line\n",
    "        if count == 0:\n",
    "            prevline=line\n",
    "        #Check if prevline is a complete expression\n",
    "        elif \"=\" in prevline and \"=\" in line:\n",
    "            output.write(\"%s\\n\" % prevline.strip('\\n'))\n",
    "            prevline=line\n",
    "        # Check if line needs to be adjoined to prevline\n",
    "        elif \"=\" in prevline and not \"=\" in line:\n",
    "            prevline = prevline.strip('\\n')\n",
    "            prevline = (prevline+line).replace(\" \",\"\")\n",
    "        # Be sure to print the last line.\n",
    "        if count == len(list(open(os.path.join(Ccodesdir,\"v5HM_BOB_Hamiltonian-Calibration-Hreal_on_top.txt\"))))-1:\n",
    "            if not \"=\" in line:\n",
    "                print(\"ERROR. Algorithm not robust if there is no equals sign on the final line. Sorry.\")\n",
    "                sys.exit(1)\n",
    "            else:\n",
    "                output.write(\"%s\" % line)\n",
    "        count = count + 1\n",
    "\n",
    "with open(os.path.join(Ccodesdir,\"v5HM_BOB_Hamiltonian-Calibration-Hreal_on_bottom.txt\"), \"w\") as output:\n",
    "    for line in reversed(list(open(os.path.join(Ccodesdir,\"v5HM_BOB_Hamiltonian-Calibration-Hreal_on_top-oneline.txt\"),\"r\"))):\n",
    "        output.write(\"%s\\n\"%line.rstrip())\n"
   ]
  },
  {
   "cell_type": "markdown",
   "id": "0a50e1e3",
   "metadata": {},
   "source": [
    "# Generate unoptimized python code\n",
    "\n",
    "In this step, we'll simply store the Hamiltonian expressions in a python module as is in order to run preliminary validation tests. In addition, we will compare the results of our Hamiltonian function with that of the pyseobnr Hamiltonian function."
   ]
  },
  {
   "cell_type": "code",
   "execution_count": 28,
   "id": "7b3cd9e4",
   "metadata": {},
   "outputs": [
    {
     "name": "stdout",
     "output_type": "stream",
     "text": [
      "Of total  10000  comparisons,\n",
      " number of cases with relative error (total)  greater than allowed:  0 \n",
      " number of cases with relative error O(10)    greater than allowed:  0 \n",
      " number of cases with relative error O(100)   greater than allowed:  0 \n",
      " number of cases with relative error O(1000+) greater than allowed:  0\n"
     ]
    }
   ],
   "source": [
    "with open(os.path.join(Ccodesdir,\"v5HM_BOB_unoptimized_hamiltonian-calibration.py\"), \"w\") as output:\n",
    "    output.write(\"import numpy as np\\ndef v5HM_BOB_unoptimized_hamiltonian-calibration(m1, m2, r, prstar, pphi, chi1, chi2,a6,dSO,verbose = False):\\n\")\n",
    "    for line in reversed(list(open(os.path.join(Ccodesdir,\"v5HM_BOB_Hamiltonian-Calibration-Hreal_on_top-oneline.txt\"),\"r\"))):\n",
    "        output.write(\"    %s\\n\" % line.rstrip().replace(\"sp.sqrt\", \"np.sqrt\").replace(\"sp.Rational\",\n",
    "                                \"np.divide\").replace(\"sp.log\",\"np.log\").replace(\"sp.pi\",\"np.pi\").replace(\"sp.EulerGamma\",\"np.euler_gamma\"))\n",
    "    output.write(\"    if not verbose:\\n        return Hreal,xi\\n    else:\\n        return Hreal,xi,Aalign,Balignnp,Bkerreqnp,Qalign,Heven,Hodd,QalignSS,Qnos,Galigna3,gam,gap,SOcalib,u,nu,ap,am,r,prstar,pphi,chi1,chi2,m1,m2\")\n",
    "    \n",
    "import Hamiltonian.v5HM_unoptimized_hamiltonian as Hreal_unopt\n",
    "import Hamiltonian.pyseobnr_hamiltonian as Hreal_true\n",
    "import numpy as np\n",
    "\n",
    "#generate random input data\n",
    "gt_pert_total = []\n",
    "gt_pert_O1 = []\n",
    "gt_pert_O2 = []\n",
    "gt_pert_gtO3 = []\n",
    "N = 10000\n",
    "rng = np.random.default_rng(seed = 50)\n",
    "nu = rng.random(N)*.25\n",
    "chi1 = 2.*rng.random(N)-1.\n",
    "chi2 = 2.*rng.random(N)-1.\n",
    "m2 = (1 - np.sqrt(1 - 4*nu))*.5\n",
    "m1 = (1 + np.sqrt(1 - 4*nu))*.5\n",
    "r = rng.random(N)*17 + 3.\n",
    "phi = rng.random(N)*2.*np.pi\n",
    "prstar = rng.random(N)*20. - 10.\n",
    "pphi = rng.random(N)*20. - 10.\n",
    "\n",
    "# generate randomized perturbation in order to find the appropriate tolerance\n",
    "pert_exponent = 1e-14;\n",
    "pert_sign = 2*rng.integers(0,high = 2,size = N) - 1;\n",
    "pert_mantissa = 3.*rng.random(N) + 1. ;\n",
    "pert = 1. + pert_sign*pert_mantissa*pert_exponent\n",
    "chi1pert = chi1*pert \n",
    "chi2pert = chi2*pert\n",
    "m2pert = m2*pert\n",
    "m1pert = m1*pert\n",
    "rpert = r*pert\n",
    "phipert = phi*pert\n",
    "prstarpert = prstar*pert\n",
    "pphipert = pphi*pert\n",
    "\n",
    "nans = []\n",
    "def E_rel(a,b):\n",
    "    return np.abs((a - b)/a)\n",
    "\n",
    "for i in range(N):\n",
    "    q  = [r[i],phi[i]]\n",
    "    p = [prstar[i],pphi[i]]\n",
    "    qpert  = [rpert[i],phipert[i]]\n",
    "    ppert = [prstarpert[i],pphipert[i]]\n",
    "    H_unopt,xi = Hreal_unopt.v5HM_unoptimized_hamiltonian(m1[i],m2[i],r[i],prstar[i],pphi[i],chi1[i],chi2[i],verbose = False)\n",
    "    H_pyseobnr,xi = Hreal_true.evaluate_H(q,p, chi1[i], chi2[i], m1[i], m2[i],verbose = False)\n",
    "    H_pert,xi = Hreal_true.evaluate_H(qpert,ppert, chi1pert[i], chi2pert[i], m1pert[i], m2pert[i],verbose = False)\n",
    "    e_rel = E_rel(H_pyseobnr,H_unopt)\n",
    "    tol = E_rel(H_pyseobnr,H_pert)\n",
    "    if (np.isnan(H_pyseobnr) and np.isnan(H_unopt) and np.isnan(H_pert)):\n",
    "        nans.append(i)\n",
    "    else:\n",
    "        if e_rel>tol:\n",
    "            gt_pert_total.append(i)\n",
    "            if e_rel > 1000*tol:\n",
    "                gt_pert_gtO3.append(i)\n",
    "            elif e_rel > 100*tol:\n",
    "                gt_pert_O2.append(i)\n",
    "            elif e_rel > 10*tol:\n",
    "                gt_pert_O1.append(i)\n",
    "\n",
    "print(\"Of total \",str(N),\" comparisons,\\n\",\n",
    "     \"number of cases with relative error (total)  greater than allowed: \",len(gt_pert_total),\"\\n\",\n",
    "     \"number of cases with relative error O(10)    greater than allowed: \",len(gt_pert_O1),\"\\n\",\n",
    "     \"number of cases with relative error O(100)   greater than allowed: \",len(gt_pert_O2),\"\\n\",\n",
    "     \"number of cases with relative error O(1000+) greater than allowed: \",len(gt_pert_gtO3))\n",
    "\n"
   ]
  }
 ],
 "metadata": {
  "kernelspec": {
   "display_name": "Python 3 (ipykernel)",
   "language": "python",
   "name": "python3"
  },
  "language_info": {
   "codemirror_mode": {
    "name": "ipython",
    "version": 3
   },
   "file_extension": ".py",
   "mimetype": "text/x-python",
   "name": "python",
   "nbconvert_exporter": "python",
   "pygments_lexer": "ipython3",
   "version": "3.11.5"
  },
  "toc-autonumbering": false,
  "toc-showcode": false,
  "toc-showmarkdowntxt": false
 },
 "nbformat": 4,
 "nbformat_minor": 5
}
