{
 "cells": [
  {
   "cell_type": "markdown",
   "id": "955e7747",
   "metadata": {},
   "source": [
    "# The Spinning Effective One-Body Hamiltonian: \"v5PHM\"\n",
    "\n",
    "## Author: Siddharth Mahesh\n",
    "\n",
    "## This module documents the reduced spinning effective one-body Hamiltonian as numerically implemented in pySEOBNR's SEOBNRv5PHM gravitational waveform approximant.\n",
    "\n",
    "\n",
    "**Notebook Status:** <font color='red'><b> In Progress </b></font>\n",
    "\n",
    "**Validation Notes:** This module has been validated against the LALSuite [SEOBNRv4P code]( https://git.ligo.org/lscsoft/lalsuite.) that was reviewed and approved for LIGO parameter estimation by the LIGO Scientific Collaboration.  That is, the value $H_{\\rm real}$ output from this notebook agrees to roundoff error with the value of $H_{\\rm real}$ computed by the LALSuite function XLALSimIMRSpinPrecEOBHamiltonian().\n",
    "\n",
    "### NRPy+ Source Code for this module: [SEOBNR_v4P_Hamiltonian.py](../edit/SEOBNR/SEOBNR_v4P_Hamiltonian.py)\n",
    "\n",
    "<a id='intro'></a>\n",
    "\n",
    "## Introduction\n",
    "$$\\label{intro}$$\n",
    "\n",
    "### The Physical System of Interest\n",
    "\n",
    "Consider two black holes with masses $m_{1}$, $m_{2}$ and spins ${\\bf S}_{1}$, ${\\bf S}_{2}$ in a binary system.  The spinning effective one-body (\"SEOB\") Hamiltonian $H_{\\rm real}$ (defined in [this cell](#hreal)) describes the conservative dynamics of this system; we will define $H_{\\rm real}$ as in [Ramos-Buades, Buonnano et. al](https://arxiv.org/abs/2303.18046) Appendix A \\& B.  There, $H_{\\rm real}$ is canonically transformed and mapped to an effective Hamiltonian $H_{\\rm eff}$ (defined in [this cell](#heff)) describing the motion of a test particle of mass $\\mu$ (defined in [this cell](#mu)) moving at the equatorial plane of a deformed Kerr background, independently evolving the spins of the binary point masses.  Here we seek to break up $H_{\\rm real}$ and document the terms in such a way that the resulting Python code can be used to numerically evaluate $H_{\\rm real}$.\n",
    "\n",
    "We write $H_{\\rm real}$ in terms of $r$, and $\\phi, the [Boyer-Lindquist coordinates](https://en.wikipedia.org/wiki/Boyer%E2%80%93Lindquist_coordinates) (see [Barausse and Buonanno (2010)](https://arxiv.org/abs/0912.3517) Section IV).\n",
    "\n",
    "Please note that throughout this notebook we adpot the following conventions:\n",
    "\n",
    "1. $c = 1$ where $c$ is the speed of light in a vacuum,\n",
    "1. spacial tensor indicies are denoted by lowercase Latin letters,\n",
    "1. repeated indices indicate Einstein summation notation, and\n",
    "\n",
    "Running this notebook to completion will generate a file called v4P_Hreal_on_bottom.py.  This file contains the Python function v4P_compute_Hreal(), which takes as input m1, m2 (each in solar masses), the value of the [Euler-Mascheroni constant](https://en.wikipedia.org/wiki/Euler%E2%80%93Mascheroni_constant), a tortoise coordinate, and values for all twelve dynamic variables (3 components of the separation vector, three components of the momentum vector, andthree spin components of each compact object).  Note that the spin components should be dimensionless.\n",
    "\n",
    "### Citations\n",
    "Throughout this module, we will refer to\n",
    "* [Ramos-Buades, Buonanno, et al (2023)](https://arxiv.org/abs/2303.18046) as RBB2023,\n",
    "* [Barausse and Buonanno (2011)](https://arxiv.org/abs/1107.2904) as BB2011,\n",
    "* [Ossokine, Buonanno, Marsat, et al (2020)](https://arxiv.org/abs/2004.09442) as OB2020,\n",
    "* [Steinhoff, Hinderer, Buonanno, et al (2016)](https://arxiv.org/abs/1608.01907) as SH2016,\n",
    "* [Bohe, Shao, Taracchini, et al (2017)](https://arxiv.org/pdf/1611.03703.pdf) as BL2017,\n",
    "* [Pan, Buonanno, Buchman, et. al (2010)](https://arxiv.org/abs/0912.3466v2) as P2010,\n",
    "* [Taracchini, Buonanno, Pan, et al (2014)](https://arxiv.org/abs/1311.2544) as T2014,\n",
    "* [Taracchini, Pan, Buonanno, et al (2012)](https://arxiv.org/abs/1202.0790) as T2012, and\n",
    "* [Damour, Jaranowski, and Schaefer (2000)](https://arxiv.org/abs/gr-qc/0005034) as D2000."
   ]
  },
  {
   "cell_type": "code",
   "execution_count": null,
   "id": "b7cc37fb",
   "metadata": {},
   "outputs": [],
   "source": []
  },
  {
   "cell_type": "markdown",
   "id": "7762cb74",
   "metadata": {},
   "source": [
    "<a id='outputcreation'></a>\n",
    "\n",
    "# Step 0: Creating the output directory for SEOBNR \\[Back to [top](#toc)\\]\n",
    "$$\\label{outputcreation}$$\n",
    "\n",
    "First we create the output directory for SEOBNR (if it does not already exist):"
   ]
  },
  {
   "cell_type": "code",
   "execution_count": 1,
   "id": "f82311b8",
   "metadata": {},
   "outputs": [],
   "source": [
    "import sys#Add sys to get cmdline_helper from NRPy top directory; remove this line and next when debugged\n",
    "sys.path.append('../')\n",
    "import cmdline_helper as cmd     # NRPy+: Multi-platform Python command-line interface\n",
    "\n",
    "# Create C code output directory:\n",
    "Ccodesdir = \"Hamiltonian\"\n",
    "# Then create an output directory in case it does not exist\n",
    "cmd.mkdir(Ccodesdir)"
   ]
  },
  {
   "cell_type": "markdown",
   "id": "edfe856d",
   "metadata": {},
   "source": [
    "<a id='hreal'></a>\n",
    "\n",
    "# Step : The real Hamiltonian $H_{\\textrm{real}}$ \\[Back to [top](#toc)\\]\n",
    "$$\\label{hreal}$$\n",
    "\n",
    "The SEOB Hamiltonian $H_{\\rm real}$ is given by [RBB2023](https://arxiv.org/abs/2303.18046) Equation (8):\n",
    "\n",
    "\\begin{equation*}\n",
    "    H_{\\rm real} = M \\sqrt{ 1 + 2 \\eta \\left( \\frac{ H_{\\rm eff} }{ \\mu } - 1 \\right) }.\n",
    "\\end{equation*}\n",
    "\n",
    "Here $H_{\\rm eff}$ (defined in [this cell](#heff)) is an *effective* Hamiltonian (see [this cell](#intro)) and $M$ (defined in [this cell](#m)), $\\mu$ (defined in [this cell](#mu)), and $\\eta$ (defined in [this cell](#eta)) are constants determined by $m_{1}$ and $m_{2}$."
   ]
  },
  {
   "cell_type": "code",
   "execution_count": 2,
   "id": "08305089",
   "metadata": {},
   "outputs": [
    {
     "name": "stdout",
     "output_type": "stream",
     "text": [
      "Overwriting Hamiltonian/v5PHM_Hamiltonian-Hreal_on_top.txt\n"
     ]
    }
   ],
   "source": [
    "%%writefile $Ccodesdir/v5PHM_Hamiltonian-Hreal_on_top.txt\n",
    "Hreal = M*sp.sqrt(1 + 2*eta*(Heff - 1))"
   ]
  },
  {
   "cell_type": "markdown",
   "id": "92c06b7b",
   "metadata": {},
   "source": [
    "<a id='heff'></a>\n",
    "\n",
    "# Step : The effective Hamiltonian $H_{\\textrm{eff}}$ \\[Back to [top](#toc)\\]\n",
    "$$\\label{heff}$$\n",
    "\n",
    "The effective Hamiltonian $H_{\\rm eff}$ as stated in [RBB2023](https://arxiv.org/abs/2303.18046) under equation B2, is split into odd and even-in-spin components $H_{\\rm odd}$, and $H_{\\rm even}$ but expressed in Equation A:\n",
    "\n",
    "\\begin{equation*}\n",
    "    H_{\\rm eff} = \\underbrace{ \\frac{ Mp_{\\phi} {\\bf l}\\cdot\\left( g_{a_{+}} {\\bf a}_{+} + g_{a_{-}} \\delta {\\bf a}_{-} \\right) + {\\rm SO}_{\\rm calib} + \\langle G^{\\rm pprec}_{a^3} \\rangle}{r^3 + a_{+}^2\\left(r + 2*M\\right)} }_{H_{\\rm odd}} + \\underbrace{ \\sqrt{A^{\\rm pprec} \\left( 1 + B_{p}^{\\rm pprec} \\frac{p_{\\phi}^{2}}{r^2} + \\left(1 + B_{np}^{pprec}\\right)({\\bf n}\\cdot{\\bf p})^2 + B_{npa}^{\\rm Kerr eq} \\frac{p_{\\phi}^{2}\\left({\\bf l}\\cdot{\\bf a}_{+}\\right)^2}{r^2} + Q^{\\rm pprec} \\right) } }_{H_{\\rm even}}.\n",
    "\\end{equation*}\n",
    "\n",
    "Here, $H_{\\rm even}$ is defined in [this cell](#heven), and $H_{\\rm odd}$ is defined in [this cell](#hodd). "
   ]
  },
  {
   "cell_type": "code",
   "execution_count": 3,
   "id": "ccdfd945",
   "metadata": {},
   "outputs": [
    {
     "name": "stdout",
     "output_type": "stream",
     "text": [
      "Appending to Hamiltonian/v5PHM_Hamiltonian-Hreal_on_top.txt\n"
     ]
    }
   ],
   "source": [
    "%%writefile -a $Ccodesdir/v5PHM_Hamiltonian-Hreal_on_top.txt\n",
    "Heff = Hodd + Heven"
   ]
  },
  {
   "cell_type": "markdown",
   "id": "94fa6fea",
   "metadata": {},
   "source": [
    "<a id='hodd'></a>\n",
    "\n",
    "# Step : The odd-in-spin Hamiltonian $H_{\\textrm{odd}}$ \\[Back to [top](#toc)\\]\n",
    "$$\\label{hodd}$$\n",
    "\n",
    "The effective Hamiltonian $H_{\\rm eff}$ as stated in [RBB2023](https://arxiv.org/abs/2303.18046) under equation B2, is split into odd and even-in-spin components $H_{\\rm odd}$, and $H_{\\rm even}$. Here, we state the odd component in Equation A:\n",
    "\n",
    "\\begin{equation*}\n",
    "    H_{\\rm odd} = \\frac{ Mp_{\\phi} {\\bf l}\\cdot\\left( g_{a_{+}} {\\bf a}_{+} + g_{a_{-}} \\delta {\\bf a}_{-} \\right) + {\\rm SO}_{\\rm calib} + \\langle G^{\\rm pprec}_{a^3} \\rangle}{r^3 + a_{+}^2\\left(r + 2*M\\right)}.\n",
    "\\end{equation*}\n",
    "\n",
    "Here, $M$, $p_{\\phi}$, $r$ are the total mass, azimuthal momentum and radial distance respectfully. ${\\bf l}\\cdot{\\bf a}_{\\pm}$ is defined in [this cell](#la), the gyromagnetic constants $g_{a_{\\pm}}$ are defined in [this cell](#ga) the magnitude of ${\\bf a}_{+}$ is defined in [this cell](#a),  ${\\rm SO}_{\\rm calib}$ is defined in [this cell](#socalib), and $\\langle G^{\\rm pprec}_{a^3} \\rangle$ is defined in [this cell](#gppreca3). "
   ]
  },
  {
   "cell_type": "code",
   "execution_count": 4,
   "id": "bf31b01e",
   "metadata": {},
   "outputs": [
    {
     "name": "stdout",
     "output_type": "stream",
     "text": [
      "Appending to Hamiltonian/v5PHM_Hamiltonian-Hreal_on_top.txt\n"
     ]
    }
   ],
   "source": [
    "%%writefile -a $Ccodesdir/v5PHM_Hamiltonian-Hreal_on_top.txt\n",
    "Hodd = (pphi*(gap*lap + delta*gam*lam) + SOcalib + Gppreca3)/(r*r*r + ap2*(r + 2))"
   ]
  },
  {
   "cell_type": "markdown",
   "id": "79048135",
   "metadata": {},
   "source": [
    "<a id='heven'></a>\n",
    "\n",
    "# Step : The even-in-spin Hamiltonian $H_{\\textrm{even}}$ \\[Back to [top](#toc)\\]\n",
    "$$\\label{heven}$$\n",
    "\n",
    "The effective Hamiltonian $H_{\\rm eff}$ as stated in [RBB2023](https://arxiv.org/abs/2303.18046) under equation B2, is split into odd and even-in-spin components $H_{\\rm odd}$, and $H_{\\rm even}$. Here, we state the even component in Equation A:\n",
    "\n",
    "\\begin{equation*}\n",
    "    H_{\\rm even} = \\sqrt{A^{\\rm pprec} \\left( 1 + B_{p}^{\\rm pprec} \\frac{p_{\\phi}^{2}}{r^2} + \\left(1 + B_{np}^{pprec}\\right)p_{r}^{2} + B_{npa}^{\\rm Kerr eq} \\frac{p_{\\phi}^{2}\\left({\\bf l}\\cdot{\\bf a}_{+}\\right)^2}{r^2} + Q^{\\rm pprec} \\right) }.\n",
    "\\end{equation*}\n",
    "\n",
    "Here, $r$, and $p_\\phi$ are the radius, and the azimuthal momentum respectively and the radial momentum $p_{r}$ is defined in [this cell](#pr). $A^{\\rm pprec}$ is defined in [this cell](#apprec), $B_{p}^{\\rm pprec}$ is defined in [this cell](#bppprec), $B_{np}^{pprec}$ is defined in [this cell](#bnpprec), $B_{npa}^{\\rm Kerr eq}$ is defined in [this cell](#bnpakerreq), ${\\bf l}\\cdot{\\bf a}_{+}$ is defined in [this cell](#lap), and $Q^{\\rm pprec}$ is defined in [this cell](#qpprec). "
   ]
  },
  {
   "cell_type": "code",
   "execution_count": 5,
   "id": "04319867",
   "metadata": {},
   "outputs": [
    {
     "name": "stdout",
     "output_type": "stream",
     "text": [
      "Appending to Hamiltonian/v5PHM_Hamiltonian-Hreal_on_top.txt\n"
     ]
    }
   ],
   "source": [
    "%%writefile -a $Ccodesdir/v5PHM_Hamiltonian-Hreal_on_top.txt\n",
    "Heven = sp.sqrt(Apprec * (1 + Bpprec_p*pphi*pphi*u*u + (1 + Bpprec_np)*pr*pr + Bkerreq_npa*pphi*pphi*lap*lap*u*u + Qpprec))"
   ]
  },
  {
   "cell_type": "markdown",
   "id": "16f1c567",
   "metadata": {},
   "source": [
    "# Step: The Odd-In-Spin Terms"
   ]
  },
  {
   "cell_type": "markdown",
   "id": "89eb82bd",
   "metadata": {},
   "source": [
    "<a id='socalib'></a>\n",
    "\n",
    "# Step : ${\\textrm{SO}}_{\\textrm{calib}}$ \\[Back to [top](#toc)\\]\n",
    "$$\\label{socalib}$$\n",
    "\n",
    "The SO calibration term is expressed in [RBB2023](https://arxiv.org/abs/2303.18046) Equation A2. The calibration coefficient is not yet referenced but implemented in pySEOBNR [here](https://git.ligo.org/waveforms/software/pyseobnr/-/blob/main/pyseobnr/eob/fits/fits_Hamiltonian.py) and listed in Equation 91 [here](https://dcc.ligo.org/DocDB/0186/T2300060/001/SEOBNRv5HM.pdf):\n",
    "\n",
    "\\begin{equation*}\n",
    "    {\\rm SO}_{\\rm calib} = \\eta d_{\\rm SO} \\frac{p_{\\phi}}{r^3}  {\\bf l}\\cdot{\\bf a}_{+}, \\\\\n",
    "    d_{\\rm SO} = -7.71251231383957 a_{-}^{3} - 17.2294679794015 a_{-}^{2} a_{+} - 238.430383378296 a_{-}^{2}\\eta + 69.5461667822545 a_{-}^{2} - 10.5225438990315 a_{-} a_{+}^{2} + 362.767393298729 a_{-} a_{+} \\eta - 85.8036338010274 a_{-} a_{+} - 1254.66845939312 a_{-} \\eta^{2} + 472.431937787377 a_{-} \\eta - 39.742317057316 a_{-}\n",
    "        - 7.58458103577458 a_{+}^{3} - 42.7601129678844 a_{+}^{2} \\eta + 18.1783435552183 a_{+}^{2} - 201.905934468847 a_{+} \\eta^{2} - 90.5790079104259 a_{+} \\eta + 49.6299175121658 a_{+}\n",
    "        + 478.546231305475 \\eta^{3} + 679.521769948995 \\eta^{2} - 177.334831768076 \\eta - 37.6897780220529\n",
    ".\n",
    "\\end{equation*}\n",
    "\n",
    "Here, $r$, and $p_\\phi$ are the radial distance and the azimuthal momentum respectively. $\\eta$, is the symmetric mass ratio defined in [this cell](#eta), ${\\bf a}_{\\pm}$ is defined in [this cell](#a), ${\\bf l}\\cdot{\\bf a}_{+}$ is defined in [this cell](#la)."
   ]
  },
  {
   "cell_type": "code",
   "execution_count": 6,
   "id": "42c631a7",
   "metadata": {},
   "outputs": [
    {
     "name": "stdout",
     "output_type": "stream",
     "text": [
      "Appending to Hamiltonian/v5PHM_Hamiltonian-Hreal_on_top.txt\n"
     ]
    }
   ],
   "source": [
    "%%writefile -a $Ccodesdir/v5PHM_Hamiltonian-Hreal_on_top.txt\n",
    "SOcalib = eta*dSO*u*u*u*lap*pphi\n",
    "dSO = -7.71251231383957*am3 - 17.2294679794015*am2*ap - 238.430383378296*am2*eta + 69.5461667822545*am2 - 10.5225438990315*am*ap2 + 362.767393298729*am*ap*eta - 85.8036338010274*am*ap - 1254.66845939312*am*eta*eta + 472.431937787377*am*eta - 39.742317057316*am - 7.58458103577458*ap3 - 42.7601129678844*ap2*eta + 18.1783435552183*ap2 - 201.905934468847*ap*eta*eta - 90.5790079104259*ap*eta + 49.6299175121658*ap + 478.546231305475*eta*eta*eta + 679.521769948995*eta*eta - 177.334831768076*eta - 37.6897780220529"
   ]
  },
  {
   "cell_type": "markdown",
   "id": "b2dc5673",
   "metadata": {},
   "source": [
    "<a id='gpreca3'></a>\n",
    "\n",
    "# Step : $G_{a^3}^{\\textrm{prec}}$ \\[Back to [top](#toc)\\]\n",
    "$$\\label{gpreca3}$$\n",
    "\n",
    "The cubic-in-spin term $G_{a^3}^{\\rm prec}$ is expressed in [RBB2023](https://arxiv.org/abs/2303.18046) Equation A3:\n",
    "\\begin{equation*}\n",
    "    G_{a^3}^{\\rm prec} = p_{\\phi} \\delta \\left({\\bf l}\\cdot{\\bf a}_{-}\\right) \\left\\{ \\frac{M}{r^{2}}\\left[ \\frac{a_{+}^2}{4} - \\frac{5}{24} \\left( {\\bf l}_{N}\\cdot{\\bf a}_{+} \\right)^2 \\right] - \\frac{p_{\\phi}^2}{8r^{3}}\\left( a_{+}^{2} - \\left( {\\bf l}_{N}\\cdot{\\bf a}_{+} \\right)^2 \\right) \\right\\}\\\\\n",
    "    + p_{\\phi}\\left({\\bf l}\\cdot{\\bf a}_{+}\\right)\\left\\{ \\frac{p_{\\phi}^{2}}{r^{3}}\\left[ \\frac{\\delta}{4}\\left[ {\\bf a}_{+}\\cdot{\\bf a}_{-} - \\left( {\\bf l}_{N}\\cdot{\\bf a}_{+} \\right)\\left( {\\bf l}_{N}\\cdot{\\bf a}_{-} \\right) \\right] - \\frac{1}{8}\\left( a_{+}^{2} - \\left( {\\bf l}_{N}\\cdot{\\bf a}_{+} \\right)^2\\right) \\right]\\\\\n",
    "    + \\frac{M}{r^2}\\left[ -\\frac{5a_{+}^2}{8} + \\frac{3}{8}\\left( {\\bf l}_{N}\\cdot{\\bf a}_{+} \\right)^2 - \\delta\\frac{5}{8}\\left( {\\bf a}_{+}\\cdot{\\bf a}_{-} \\right) + \\delta\\frac{5}{6}\\left( {\\bf l}_{N}\\cdot{\\bf a}_{+} \\right)\\left( {\\bf l}_{N}\\cdot{\\bf a}_{-} \\right) \\right] \\right\\}.\n",
    "\\end{equation*}\n",
    "\n",
    "Here, $M$, $r$, and $p_\\phi$ are the total mass, radial distance and the azimuthal momentum respectively. $eta$, is the symmetric mass ratio defined in [this cell](#eta), ${\\bf a}_{+}$ is defined in [this cell](#ap), ${\\bf l}\\cdot{\\bf a}_{+}$ is defined in [this cell](#lap), and ${\\bf a}_{-}$ is defined in [this cell](#am)."
   ]
  },
  {
   "cell_type": "code",
   "execution_count": 7,
   "id": "4f21767b",
   "metadata": {},
   "outputs": [
    {
     "name": "stdout",
     "output_type": "stream",
     "text": [
      "Appending to Hamiltonian/v5PHM_Hamiltonian-Hreal_on_top.txt\n"
     ]
    }
   ],
   "source": [
    "%%writefile -a $Ccodesdir/v5PHM_Hamiltonian-Hreal_on_top.txt\n",
    "Ga3calib = pphi*delta*lam*( u*u*(sp.Rational(1,4)*ap2 - sp.Rational(5,24)*lnap2) - sp.Rational(1,8)*pphi*pphi*u*u*u*(ap2 - lnap2) ) + pphi*lap*( pphi*pphi*u*u*u*( sp.Rational(1,4)*delta*( apam - lnap*lnam ) - sp.Rational(1,8)*( ap2 - lnap2 ) ) + M*u*u*( -sp.Rational(5,8)*ap2 + sp.Rational(3,8)lnap2 - sp.Rational(5,8)*delta*apam + sp.Rational(5,6)*delta*lnap*lnam ) )"
   ]
  },
  {
   "cell_type": "markdown",
   "id": "c8eee7e6",
   "metadata": {},
   "source": [
    "# Step : The Even-In-Spin Terms"
   ]
  },
  {
   "cell_type": "markdown",
   "id": "b2a89130",
   "metadata": {},
   "source": [
    "<a id='apprec'></a>\n",
    "\n",
    "# Step : $A^{\\textrm{pprec}}$ \\[Back to [top](#toc)\\]\n",
    "$$\\label{apprec}$$\n",
    "\n",
    "The potential $A^{\\rm pprec}$ is expressed in [RBB2023](https://arxiv.org/abs/2303.18046) Equation A5:\n",
    "\\begin{equation*}\n",
    "    A^{\\rm pprec} = \\frac{a_{+}^{2}/r^{2} + A_{\\rm noS} + A^{prec}_{\\rm SS} + \\langle \\tilde{A}_{\\rm SS}^{\\rm in plane} \\rangle}{1 + \\left(1 + 2M/r\\right)a_{+}^{2}/r^{2}}.\n",
    "\\end{equation*}\n",
    "\n",
    "Here, $M$, and $r$ are the total mass and radial distance respectively and $a_{+}$ is defined [in this cell](#ap). The spin-spin contributions, $ A_{\\rm SS}^{\\rm prec}$ is defined in [this cell](#aprecss), and $\\langle \\tilde{A}_{\\rm SS}^{\\rm in plane} \\rangle$ isdefined in [this cell](#ainplaness). The non-spinning contribution, $A_{\\rm noS}$ is defined in [this cell](#anons)."
   ]
  },
  {
   "cell_type": "code",
   "execution_count": 8,
   "id": "86abfa7b",
   "metadata": {},
   "outputs": [
    {
     "name": "stdout",
     "output_type": "stream",
     "text": [
      "Appending to Hamiltonian/v5PHM_Hamiltonian-Hreal_on_top.txt\n"
     ]
    }
   ],
   "source": [
    "%%writefile -a $Ccodesdir/v5PHM_Hamiltonian-Hreal_on_top.txt\n",
    "Apprec = (ap2*u*u + Anos + AprecSS + AinplaneSS)/(1 + ap2*u*u*(1 + 2*M*u))"
   ]
  },
  {
   "cell_type": "markdown",
   "id": "5e17e912",
   "metadata": {},
   "source": [
    "<a id='bkerreqnpa'></a>\n",
    "\n",
    "# Step : $B_{npa}^{\\textrm{Kerr eq}}$ \\[Back to [top](#toc)\\]\n",
    "$$\\label{bkerrnpa}$$\n",
    "\n",
    "The potential $B_{npa}^{\\rm Kerr eq}$ is expressed in [RBB2023](https://arxiv.org/abs/2303.18046) Equation A4:\n",
    "\\begin{equation*}\n",
    "    B_{npa}^{\\rm calib} = -\\frac{1 + 2M/r}{r^2 + a_{+}^2\\left(1 + 2M/r\\right)}.\n",
    "\\end{equation*}\n",
    "\n",
    "Here, $M$, $r$, and $p_\\phi$ are the total mass, radial distance and the azimuthal momentum respectively. $eta$, is the symmetric mass ratio defined in [this cell](#eta), ${\\bf a}_{+}$ is defined in [this cell](#ap), ${\\bf l}\\cdot{\\bf a}_{+}$ is defined in [this cell](#lap), and ${\\bf a}_{-}$ is defined in [this cell](#am)."
   ]
  },
  {
   "cell_type": "code",
   "execution_count": 9,
   "id": "0c94a3af",
   "metadata": {},
   "outputs": [
    {
     "name": "stdout",
     "output_type": "stream",
     "text": [
      "Appending to Hamiltonian/v5PHM_Hamiltonian-Hreal_on_top.txt\n"
     ]
    }
   ],
   "source": [
    "%%writefile -a $Ccodesdir/v5PHM_Hamiltonian-Hreal_on_top.txt\n",
    "Bcalibnpa = -r*(r + 2.0)/(ap2*r*(r + 2.0) + r**4)"
   ]
  },
  {
   "cell_type": "markdown",
   "id": "358be947",
   "metadata": {},
   "source": [
    "<a id='bppprec'></a>\n",
    "\n",
    "# Step : $B_{p}^{\\textrm{pprec}}$ \\[Back to [top](#toc)\\]\n",
    "$$\\label{bppprec}$$\n",
    "\n",
    "The potential $B_{p}^{\\rm pprec}$ is expressed in [RBB2023](https://arxiv.org/abs/2303.18046) Equation A5:\n",
    "\\begin{equation*}\n",
    "    B_{p}^{\\rm pprec} = 1 + \\langle \\hat{B}_{p,\\rm SS}^{\\rm in plane} \\rangle.\n",
    "\\end{equation*}\n",
    "\n",
    "The in-plane potential $\\langle \\hat{B}_{p,\\rm SS}^{\\rm in plane} \\rangle$ is defined in [this cell](#eta)."
   ]
  },
  {
   "cell_type": "code",
   "execution_count": 10,
   "id": "821505a2",
   "metadata": {},
   "outputs": [
    {
     "name": "stdout",
     "output_type": "stream",
     "text": [
      "Appending to Hamiltonian/v5PHM_Hamiltonian-Hreal_on_top.txt\n"
     ]
    }
   ],
   "source": [
    "%%writefile -a $Ccodesdir/v5PHM_Hamiltonian-Hreal_on_top.txt\n",
    "Bppprec = 1 + BhatpSSinplane"
   ]
  },
  {
   "cell_type": "markdown",
   "id": "24f2a37a",
   "metadata": {},
   "source": [
    "<a id='bnppprec'></a>\n",
    "\n",
    "# Step : $B_{p}^{\\textrm{pprec}}$ \\[Back to [top](#toc)\\]\n",
    "$$\\label{bpprec}$$\n",
    "\n",
    "The potential $B_{np}^{\\rm pprec}$ is expressed in [RBB2023](https://arxiv.org/abs/2303.18046) Equation A5:\n",
    "\\begin{equation*}\n",
    "    B_{np}^{\\rm pprec} = -1 + a_{+}^{2}/r^{2} + A_{\\rm noS}\\bar{D}_{\\rm noS} + {B}_{np,\\rm SS}^{\\rm prec}.\n",
    "\\end{equation*}\n",
    "\n",
    "Here, $r$ is the radial distance. The spin-spin contribution $ B_{np,\\rm SS}^{\\rm prec}$ is defined in [this cell](#bnpssprec), $a_{+}$ is defined in [this cell](#ap). The non-spinning potentials, $A_{\\rm noS}$ is defined in [this cell](#anons), and $\\bar{D}_{\\rm noS}$ is defined in [this cell](#dnos)"
   ]
  },
  {
   "cell_type": "code",
   "execution_count": 11,
   "id": "37cf1251",
   "metadata": {},
   "outputs": [
    {
     "name": "stdout",
     "output_type": "stream",
     "text": [
      "Appending to Hamiltonian/v5PHM_Hamiltonian-Hreal_on_top.txt\n"
     ]
    }
   ],
   "source": [
    "%%writefile -a $Ccodesdir/v5PHM_Hamiltonian-Hreal_on_top.txt\n",
    "Bnppprec = -1 + ap2*u*u + Anos*Dnos + BnpSSprec"
   ]
  },
  {
   "cell_type": "markdown",
   "id": "c53bc721",
   "metadata": {},
   "source": [
    "<a id='qpprec'></a>\n",
    "\n",
    "# Step : $Q^{\\textrm{pprec}}$ \\[Back to [top](#toc)\\]\n",
    "$$\\label{qpprec}$$\n",
    "\n",
    "The potential $Q^{\\rm pprec}$ is expressed in [RBB2023](https://arxiv.org/abs/2303.18046) Equation A5:\n",
    "\\begin{equation*}\n",
    "    Q^{\\rm pprec} = Q_{\\rm noS} + Q_{\\rm SS}^{\\rm prec}.\n",
    "\\end{equation*}\n",
    "\n",
    "The spin-spin contribution $ Q_{\\rm SS}^{\\rm prec}$ is defined in [this cell](#qssprec). The non-spinning contribution, $Q_{\\rm noS}$ is defined in [this cell](#qnos)."
   ]
  },
  {
   "cell_type": "code",
   "execution_count": 12,
   "id": "f88447ba",
   "metadata": {},
   "outputs": [
    {
     "name": "stdout",
     "output_type": "stream",
     "text": [
      "Appending to Hamiltonian/v5PHM_Hamiltonian-Hreal_on_top.txt\n"
     ]
    }
   ],
   "source": [
    "%%writefile -a $Ccodesdir/v5PHM_Hamiltonian-Hreal_on_top.txt\n",
    "Qpprec = Qnos + Qprecnos"
   ]
  },
  {
   "cell_type": "markdown",
   "id": "5a913d7f",
   "metadata": {},
   "source": [
    "# Step : The Spin-Spin Contributions"
   ]
  },
  {
   "cell_type": "markdown",
   "id": "fccf36a8",
   "metadata": {},
   "source": [
    "<a id='aprecss'></a>\n",
    "\n",
    "# Step : $A_{\\rm SS}^{\\textrm{prec}}$ \\[Back to [top](#toc)\\]\n",
    "$$\\label{aprecss}$$\n",
    "\n",
    "The potential $A_{\\rm SS}^{\\rm prec}$ is expressed in [RBB2023](https://arxiv.org/abs/2303.18046) Equation A6a:\n",
    "\\begin{equation*}\n",
    "    A_{\\rm SS}^{\\rm pprec} = \\frac{M^2}{r^4}\\left[ \\frac{9a_{+}^{2}}{8} - \\frac{5}{4}\\delta {\\bf a}_{-}\\cdot{\\bf a}_{+} + a_{-}^{2}\\left( \\frac{\\eta}{2} + \\frac{1}{8} \\right) \\right] + \\frac{M^3}{r^5}\\left[ a_{+}^{2}\\left( -\\frac{175\\eta}{64} - \\frac{225}{64} \\right) + \\delta {\\bf a}_{-}\\cdot{\\bf a}_{+}\\left( \\frac{117}{32} - \\frac{39\\eta}{16} \\right) + a_{-}^{2} \\left( \\frac{21\\eta^{2}}{16} - \\frac{81\\eta}{64} - \\frac{9}{64} \\right) \\right].\n",
    "\\end{equation*}\n",
    "\n",
    "Here, $M$, and $r$ are the total mass and radial distance respectively. ${\\bf a}_{+}$, ${\\bf a}_{-}$, and ${\\bf a}_{+}\\cdot{\\bf a}_{-}$ are defined [in this cell](#a). "
   ]
  },
  {
   "cell_type": "code",
   "execution_count": 13,
   "id": "c4304d23",
   "metadata": {},
   "outputs": [
    {
     "name": "stdout",
     "output_type": "stream",
     "text": [
      "Appending to Hamiltonian/v5PHM_Hamiltonian-Hreal_on_top.txt\n"
     ]
    }
   ],
   "source": [
    "%%writefile -a $Ccodesdir/v5PHM_Hamiltonian-Hreal_on_top.txt\n",
    "AprecSS = M*M*u*u*u*u*( ap2*sp.Rational(9,8) - delta*apam*sp.Rational(5,4) + am2*(eta*sp.Rational(1,2) + sp.Rational(1,8)) ) + M*M*M*u*u*u*u*u*( ap2*(-eta*sp.Rational(175,64) - sp.Rational(225,64)) + delta*apam*(-eta*sp.Rational(39,16) + sp.Rational(117,32)) + am2*(eta*eta*sp.Rational(21,16) - eta*sp.Rational(81,64) - sp.Rational(9,64)) )"
   ]
  },
  {
   "cell_type": "markdown",
   "id": "d6f505d5",
   "metadata": {},
   "source": [
    "<a id='bnpprecss'></a>\n",
    "\n",
    "# Step : $B_{np,\\rm SS}^{\\textrm{prec}}$ \\[Back to [top](#toc)\\]\n",
    "$$\\label{bnpprecss}$$\n",
    "\n",
    "The potential $B_{\\rm SS}^{\\rm prec}$ is expressed in [RBB2023](https://arxiv.org/abs/2303.18046) Equation A6b:\n",
    "\\begin{equation*}\n",
    "    B_{np,\\rm SS}^{\\rm pprec} = \\frac{M}{r^3}\\left[ a_{+}^{2}\\left(3\\eta + \\frac{45}{16}\\right) - \\frac{21}{8}\\delta {\\bf a}_{-}\\cdot{\\bf a}_{+} + a_{-}^{2}\\left( \\frac{3\\eta}{4} - \\frac{3}{16} \\right) \\right] + \\frac{M^2}{r^4}\\left[ a_{+}^{2}\\left( -\\frac{1171\\eta}{64} - \\frac{861}{64} \\right) + \\delta {\\bf a}_{-}\\cdot{\\bf a}_{+}\\left( \\frac{449}{32} + \\frac{13\\eta}{16} \\right) + a_{-}^{2} \\left( \\frac{\\eta^{2}}{16} + \\frac{115\\eta}{64} - \\frac{37}{64} \\right) \\right].\n",
    "\\end{equation*}\n",
    "\n",
    "Here, $M$, and $r$ are the total mass and radial distance respectively. ${\\bf a}_{+}$, ${\\bf a}_{-}$, and ${\\bf a}_{+}\\cdot{\\bf a}_{-}$ are defined [in this cell](#a)."
   ]
  },
  {
   "cell_type": "code",
   "execution_count": 14,
   "id": "3d0f653a",
   "metadata": {},
   "outputs": [
    {
     "name": "stdout",
     "output_type": "stream",
     "text": [
      "Appending to Hamiltonian/v5PHM_Hamiltonian-Hreal_on_top.txt\n"
     ]
    }
   ],
   "source": [
    "%%writefile -a $Ccodesdir/v5PHM_Hamiltonian-Hreal_on_top.txt\n",
    "BnpprecSS = M*u*u*u*( ap2*(3*eta + sp.Rational(45,16)) - delta*apam*sp.Rational(21,8) + am2*(eta*sp.Rational(3,4) - sp.Rational(3,16)) ) + M*M*u*u*u*u*( ap2*(-eta*sp.Rational(1171,64) - sp.Rational(861,64)) + delta*apam*(-eta*sp.Rational(13,16) + sp.Rational(449,32)) + am2*(eta*eta*sp.Rational(1,16) + eta*sp.Rational(115,64) - sp.Rational(37,64)) )"
   ]
  },
  {
   "cell_type": "markdown",
   "id": "beafeccd",
   "metadata": {},
   "source": []
  },
  {
   "cell_type": "markdown",
   "id": "fa1dd9ac",
   "metadata": {},
   "source": [
    "<a id='qprecss'></a>\n",
    "\n",
    "# Step : $Q_{\\rm SS}^{\\textrm{prec}}$ \\[Back to [top](#toc)\\]\n",
    "$$\\label{qprecss}$$\n",
    "\n",
    "The potential $Q_{\\rm SS}^{\\rm prec}$ is expressed in [RBB2023](https://arxiv.org/abs/2303.18046) Equation A6c:\n",
    "\\begin{equation*}\n",
    "    Q_{\\rm SS}^{\\rm pprec} = \\frac{Mp_{r}^{4}}{\\mu^{2}r^{3}}\\left[ a_{+}^{2}\\left(-5\\eta^2 + \\frac{165\\eta}{32} + \\frac{25}{32} \\right) + \\delta {\\bf a}_{-}\\cdot{\\bf a}_{+}\\left( \\frac{45\\eta}{8} - \\frac{5}{16} \\right) + a_{-}^{2} \\left( -\\frac{15\\eta^{2}}{8} + \\frac{75\\eta}{32} - \\frac{15}{32} \\right) \\right].\n",
    "\\end{equation*}\n",
    "\n",
    "Here, $M$, and $r$ are the total mass and radial distance respectively. The radial momentum $p_{r}$ is defined in [this cell](#pr), and ${\\bf a}_{+}$, ${\\bf a}_{-}$, and ${\\bf a}_{+}\\cdot{\\bf a}_{-}$ are defined in [this cell](#a). "
   ]
  },
  {
   "cell_type": "code",
   "execution_count": 15,
   "id": "fa612fcb",
   "metadata": {},
   "outputs": [
    {
     "name": "stdout",
     "output_type": "stream",
     "text": [
      "Appending to Hamiltonian/v5PHM_Hamiltonian-Hreal_on_top.txt\n"
     ]
    }
   ],
   "source": [
    "%%writefile -a $Ccodesdir/v5PHM_Hamiltonian-Hreal_on_top.txt\n",
    "QprecSS = M*pr4*u*u*u*( ap2*( -5*eta*eta + eta*sp.Rational(165,32) + sp.Rational(25,32)) + delta*apam*(eta*sp.Rational(45,8) - sp.Rational(5,16)) + am2*(-eta*eta*sp.Rational(15,8) + eta*sp.Rational(75,32) - sp.Rational(15,32)) )"
   ]
  },
  {
   "cell_type": "markdown",
   "id": "170cf7e0",
   "metadata": {},
   "source": [
    "<a id='ainplaness'></a>\n",
    "\n",
    "# Step : $\\langle \\tilde{A}_{\\rm SS}^{\\textrm{in plane}}\\rangle$ \\[Back to [top](#toc)\\]\n",
    "$$\\label{ainplaness}$$\n",
    "\n",
    "The potential $\\langle \\tilde{A}_{\\rm SS}^{\\textrm{in plane}}\\rangle$ is expressed in [RBB2023](https://arxiv.org/abs/2303.18046) Equation A6d:\n",
    "\\begin{equation*}\n",
    "    \\langle \\tilde{A}_{\\rm SS}^{\\textrm{in plane}}\\rangle = \\frac{M}{r^3}\\langle\\left( {\\bf n}\\cdot{\\bf a}_{+} \\right)^2\\rangle\\\\\n",
    "    + \\frac{M^2}{r^4}\\left[ \\langle\\left( {\\bf n}\\cdot{\\bf a}_{+} \\right)^2\\rangle\\left(\\frac{7\\eta}{8} - \\frac{31}{8} \\right) + \\frac{33}{16}\\delta \\langle\\left( {\\bf n}\\cdot{\\bf a}_{+} \\right)\\cdot\\left( {\\bf n}\\cdot{\\bf a}_{-} \\right)\\rangle + \\langle\\left( {\\bf n}\\cdot{\\bf a}_{-} \\right)^2\\rangle \\left( -\\frac{\\eta}{4} - \\frac{3}{16} \\right) \\right]\\\\\n",
    "    + \\frac{M^3}{r^5}\\left[ \\langle\\left( {\\bf n}\\cdot{\\bf a}_{+} \\right)^2\\rangle\\left(-\\frac{11}{16}\\eta^2 + \\frac{1435\\eta}{192} + \\frac{187}{128} \\right) + \\delta \\langle\\left( {\\bf n}\\cdot{\\bf a}_{+} \\right)\\cdot\\left( {\\bf n}\\cdot{\\bf a}_{-} \\right)\\rangle\\left( \\frac{17\\eta}{2} - \\frac{1}{8} \\right) + \\langle\\left( {\\bf n}\\cdot{\\bf a}_{-} \\right)^2\\rangle \\left( -\\frac{41\\eta^{2}}{16} + \\frac{583\\eta}{64} - \\frac{171}{128} \\right) \\right].\n",
    "\\end{equation*}\n",
    "\n",
    "Here, $M$, and $r$ are the total mass and radial distance respectively. $\\langle\\left({\\bf n}\\cdot{\\bf a}_{+}\\right)^2\\rangle$, $\\langle\\left({\\bf n}\\cdot{\\bf a}_{-}\\right)^2\\rangle$, and $\\langle\\left({\\bf n}\\cdot{\\bf a}_{+}\\right)\\rangle\\langle\\left({\\bf n}\\cdot{\\bf a}_{-}\\right)\\rangle$ are defined in [this cell](#na). "
   ]
  },
  {
   "cell_type": "code",
   "execution_count": 16,
   "id": "b9df496e",
   "metadata": {},
   "outputs": [
    {
     "name": "stdout",
     "output_type": "stream",
     "text": [
      "Appending to Hamiltonian/v5PHM_Hamiltonian-Hreal_on_top.txt\n"
     ]
    }
   ],
   "source": [
    "%%writefile -a $Ccodesdir/v5PHM_Hamiltonian-Hreal_on_top.txt\n",
    "AinplaneSS = M*u*u*u*nap2 + M*M*u*u*u*u*( nap2*( eta*sp.Rational(7,8) - sp.Rational(31,8)) + delta*napnam*sp.Rational(33,16) + nam2*(-eta*sp.Rational(1,4) - sp.Rational(3,16)) ) + M*M*M*u*u*u*u*u*( nap2*( -eta*eta*sp.Rational(11,16) + eta*sp.Rational(1435,192) + sp.Rational(187,128)) + delta*napnam*(eta*sp.Rational(17,2) - sp.Rational(1,8)) + nam2*(-eta*eta*sp.Rational(41,16) + eta*sp.Rational(538,64) - sp.Rational(171,128)) )"
   ]
  },
  {
   "cell_type": "markdown",
   "id": "36dd7a09",
   "metadata": {},
   "source": [
    "<a id='binplaness'></a>\n",
    "\n",
    "# Step : $\\langle \\tilde{B}_{\\rm SS}^{\\textrm{in plane}}\\rangle$ \\[Back to [top](#toc)\\]\n",
    "$$\\label{binplaness}$$\n",
    "\n",
    "The potential $\\langle \\tilde{B}_{\\rm SS}^{\\textrm{in plane}}\\rangle$ is expressed in [RBB2023](https://arxiv.org/abs/2303.18046) Equation A6e:\n",
    "\\begin{equation*}\n",
    "    \\langle \\tilde{B}_{\\rm SS}^{\\textrm{in plane}}\\rangle = -\\frac{1}{2r^2}\\langle\\left( {\\bf n}\\cdot{\\bf a}_{+} \\right)^2\\rangle\\\\\n",
    "    + \\frac{M}{r^3}\\left[ \\langle\\left( {\\bf n}\\cdot{\\bf a}_{+} \\right)^2\\rangle\\left(-\\frac{7\\eta}{8} - \\frac{15}{32} \\right) + \\frac{3}{8}\\delta \\langle\\left( {\\bf n}\\cdot{\\bf a}_{+} \\right)\\cdot\\left( {\\bf n}\\cdot{\\bf a}_{-} \\right)\\rangle + \\langle\\left( {\\bf n}\\cdot{\\bf a}_{-} \\right)^2\\rangle \\left( -\\frac{3\\eta}{8} + \\frac{3}{32} \\right) \\right]\\\\\n",
    "    + \\frac{M^2}{r^4}\\left[ \\langle\\left( {\\bf n}\\cdot{\\bf a}_{+} \\right)^2\\rangle\\left(\\frac{11}{16}\\eta^2 - \\frac{805\\eta}{192} + \\frac{125}{128} \\right) + \\delta \\langle\\left( {\\bf n}\\cdot{\\bf a}_{+} \\right)\\cdot\\left( {\\bf n}\\cdot{\\bf a}_{-} \\right)\\rangle\\left( -\\frac{49\\eta}{8} - \\frac{43}{16} \\right) + \\langle\\left( {\\bf n}\\cdot{\\bf a}_{-} \\right)^2\\rangle \\left( \\frac{19\\eta^{2}}{16} - \\frac{545\\eta}{64} - \\frac{219}{128} \\right) \\right].\n",
    "\\end{equation*}\n",
    "\n",
    "Here, $M$, and $r$ are the total mass and radial distance respectively. $\\langle\\left({\\bf n}\\cdot{\\bf a}_{+}\\right)^2\\rangle$, $\\langle\\left({\\bf n}\\cdot{\\bf a}_{-}\\right)^2\\rangle$, and $\\langle\\left({\\bf n}\\cdot{\\bf a}_{+}\\right)\\rangle\\langle\\left({\\bf n}\\cdot{\\bf a}_{-}\\right)\\rangle$ are defined in [this cell](#na). "
   ]
  },
  {
   "cell_type": "code",
   "execution_count": 17,
   "id": "cc181c38",
   "metadata": {},
   "outputs": [
    {
     "name": "stdout",
     "output_type": "stream",
     "text": [
      "Appending to Hamiltonian/v5PHM_Hamiltonian-Hreal_on_top.txt\n"
     ]
    }
   ],
   "source": [
    "%%writefile -a $Ccodesdir/v5PHM_Hamiltonian-Hreal_on_top.txt\n",
    "AinplaneSS = sp.Rational(1,2)*u*u*nap2 + M*u*u*u*( nap2*( -eta*sp.Rational(7,8) - sp.Rational(15,32)) + delta*napnam*sp.Rational(3,8) + nam2*(-eta*sp.Rational(3,8) + sp.Rational(3,32)) ) + M*M*u*u*u*u*( nap2*( eta*eta*sp.Rational(11,16) - eta*sp.Rational(805,192) + sp.Rational(125,128)) + delta*napnam*(-eta*sp.Rational(49,8) - sp.Rational(43,16)) + nam2*(eta*eta*sp.Rational(19,16) - eta*sp.Rational(545,64) - sp.Rational(219,128)) )"
   ]
  },
  {
   "cell_type": "markdown",
   "id": "bef0b7a7",
   "metadata": {},
   "source": [
    "# Step : The Non-Spinning Contributions"
   ]
  },
  {
   "cell_type": "markdown",
   "id": "5ecfec8a",
   "metadata": {},
   "source": [
    "<a id='anons'></a>\n",
    "\n",
    "# Step : $A_{\\textrm{noS}}$ \\[Back to [top](#toc)\\]\n",
    "$$\\label{anons}$$\n",
    "\n",
    "The Taylor potential $A_{\\rm noS}$ is expressed in [KB2023](https://arxiv.org/abs/2303.18143) Equation 21:\n",
    "\\begin{equation*}\n",
    "    {A}_{\\rm noS}^{\\rm Tay} = 1 + - 2u + 2\\eta u^3 + \\eta\\left(\\frac{94}{3} - \\frac{41\\pi^2}{32} \\right)u^4 + \\left[ \\eta\\left( \\frac{2275\\pi^2}{512} - \\frac{4237}{60} + \\frac{128\\gamma_E}{5} + \\frac{256 \\ln 2}{5} \\right) + \\eta^2\\left(\\frac{41\\pi^2}{32} - \\frac{221}{6}\\right) + \\frac{64}{5}\\eta \\ln u \\right]u^5 + \\left[\\eta a_6 - \\eta\\left(\\frac{144\\eta}{5} + \\frac{7004}{105}\\right)\\ln u \\right]u^6.\n",
    "\\end{equation*}\n",
    "\n",
    "Here, $u$ is the inverse of the radial distance, defined in [this cell](#u). $\\gamma_E$ is the Euler-Mascheroni constant, defined in [this cell](#emgamma) and $a_{6}$ is an NR calibration coefficient defined in [this cell](#nr).\n",
    "\n",
    "The non-spinning potential $A_{\\rm noS}$ is defined as the Padé approximant:\n",
    "\n",
    "\\begin{equation*}\n",
    "    A_{\\rm noS} = P^{1}_{5}\\left[ A_{\\rm noS}^{\\rm Tay} \\right]\n",
    "\\end{equation*}"
   ]
  },
  {
   "cell_type": "code",
   "execution_count": 18,
   "id": "5104af72",
   "metadata": {},
   "outputs": [
    {
     "name": "stdout",
     "output_type": "stream",
     "text": [
      "Appending to Hamiltonian/v5PHM_Hamiltonian-Hreal_on_top.txt\n"
     ]
    }
   ],
   "source": [
    "%%writefile -a $Ccodesdir/v5PHM_Hamiltonian-Hreal_on_top.txt\n",
    "Anons = 7680.0*r**4*(-5416406.59541186*eta**2 + 28.0*eta*(1920.0*a6 + 733955.307463037) + 2048.0*eta*(756.0*eta + 336.0*r + 407.0)*sp.log(r) - 7.0*r*(-185763.092693281*eta**2 + 938918.400156317*eta - 245760.0) - 3440640.0)/(241555486248.807*eta**4 + 1120.0*eta**3*(-17833256.898555*r**2 - 163683964.822551*r - 1188987459.03162) + 7.0*eta**2*(-39321600.0*a6*(3.0*r + 59.0) + 745857848.115604*a6 + 1426660551.8844*r**5 - 3089250703.76879*r**4 - 6178501407.53758*r**3 + 2064783811.32587*r**2 + 122635399361.987*r + 276057889687.011) + 67645734912.0*eta**2*sp.log(r)**2 + 53760.0*eta*(7680.0*a6*(r**4 + 2.0*r**3 + 4.0*r**2 + 8.0*r + 16.0) + 128.0*r*(-6852.34813868015*r**4 + 4264.6962773603*r**3 + 8529.39255472061*r**2 + 13218.7851094412*r - 33722.4297811176) + 113485.217444961*r*(-r**4 + 2.0*r**3 + 4.0*r**2 + 8.0*r + 16.0) + 148.04406601634*r*(349.0*r**4 + 1926.0*r**3 + 3852.0*r**2 + 7704.0*r + 36400.0)) + 32768.0*eta*(-1882456.23663972*eta**2 - 38842241.4769507*eta + 161280.0*r**5 + 480.0*r**4*(756.0*eta + 1079.0) + 960.0*r**3*(756.0*eta + 1079.0) + 1920.0*r**2*(588.0*eta + 1079.0) + 240.0*r*(-3024.0*eta**2 - 7466.27061066206*eta + 17264.0) + 13447680.0)*sp.log(r) + 13212057600.0*r**5)"
   ]
  },
  {
   "cell_type": "markdown",
   "id": "2673e720",
   "metadata": {},
   "source": [
    "<a id='dnons'></a>\n",
    "\n",
    "# Step : $\\bar{D}_{\\textrm{noS}}$ \\[Back to [top](#toc)\\]\n",
    "$$\\label{dnons}$$\n",
    "\n",
    "The Taylor potential $\\bar{D}_{\\rm noS}$ is expressed in [KB2023](https://arxiv.org/abs/2303.18143) Equation 23:\n",
    "\\begin{equation*}\n",
    "    \\bar{D}_{\\rm noS}^{\\rm Tay} = 1 + 6\\eta u^2 + \\left(-6\\eta^2 + 52\\eta\\right) u^3 + \\left[ \\eta\\left( -\\frac{23761\\pi^2}{1536} - \\frac{533}{45} + \\frac{1184\\gamma_E}{15} - \\frac{6496 \\ln 2}{15} + \\frac{2916 \\ln 3}{5}\\right) + \\eta^2\\left(\\frac{123\\pi^2}{16} - 260\\right) + \\frac{592}{15}\\eta \\ln u \\right]u^4 + \\left[ \\eta\\left( \\frac{294464}{175} - \\frac{2840\\gamma_E}{7} - \\frac{63707\\pi^2}{512} + \\frac{120648 \\ln 2}{35} - \\frac{19683}{7} \\right) \\left( \\frac{1069}{3} - \\frac{205\\pi^2}{16} \\right)\\eta^3 + \\left( d^{\\eta^2}_{5} - \\frac{6784\\gamma_E}{15} + \\frac{67736}{105} + \\frac{58320 \\ln 3}{7} - \\frac{326656 \\ln 2}{21} \\right)\\eta^2 \\right]u^5.\n",
    "\\end{equation*}\n",
    "\n",
    "Here, $u$ is the inverse of the radial distance, defined in [this cell](#u). $\\gamma_E$ is the Euler-Mascheroni constant, defined in [this cell](#emgamma) and $d^{\\eta^2}_{5}$ is an NR calibration coefficient defined in [this cell](#nr).\n",
    "\n",
    "The non-spinning potential $\\bar{D}_{\\rm noS}$ is defined as the Padé approximant:\n",
    "\n",
    "\\begin{equation*}\n",
    "    D_{\\rm noS} = P^{2}_{3}\\left[ D_{\\rm noS}^{\\rm Tay} \\right]\n",
    "\\end{equation*}"
   ]
  },
  {
   "cell_type": "code",
   "execution_count": 19,
   "id": "74069ad0",
   "metadata": {},
   "outputs": [
    {
     "name": "stdout",
     "output_type": "stream",
     "text": [
      "Appending to Hamiltonian/v5PHM_Hamiltonian-Hreal_on_top.txt\n"
     ]
    }
   ],
   "source": [
    "%%writefile -a $Ccodesdir/v5PHM_Hamiltonian-Hreal_on_top.txt\n",
    "Dnons = r*(6730497718123.02*eta**3 + 133772083200.0*eta**2*r**2 + 1822680546449.21*eta**2*r + 80059249540278.2*eta**2 + 2589101062873.81*eta*r**2 + 10611661054566.2*eta*r - 12049908701745.2*eta + 5107745331375.71*r**2 - 326837426.241486*r*(14700.0*eta + 42911.0) - 39476764256925.6*r - (-5041721180160.0*eta**2 - 25392914995744.3*eta - 879923036160.0*r**2 - 283115520.0*r*(14700.0*eta + 42911.0) + 104186110149937.0)*sp.log(r) + 5787938193408.0*sp.log(r)**2 + 275059053208689.0)/(55296.0*eta*(14515200.0*eta**3 - 42636451.6032331*eta**2 - 2510664218.28128*eta + 1002013764.01019) - 967680.0*r**3*(-138240.0*eta**2 - 2675575.66847905*eta - 5278341.3229329) - 9216.0*r**2*(-197773496.793534*eta**2 - 630116198.873299*eta + 5805304367.87913) + r*(5927865218923.02*eta**3 + 43133561885859.3*eta**2 + 43393301259014.8*eta + 86618264430493.3*(1 - 0.496948781616935*eta)**2 + 188440788778196.0) + 5787938193408.0*r*sp.log(r)**2 + (-1698693120.0*eta*(11592.0*eta + 69847.0) + 879923036160.0*r**3 + 283115520.0*r**2*(14700.0*eta + 42911.0) + 49152.0*r*(102574080.0*eta**2 + 409207698.136075*eta - 2119671837.36038))*sp.log(r))"
   ]
  },
  {
   "cell_type": "markdown",
   "id": "ed09b8c2",
   "metadata": {},
   "source": [
    "<a id='qnons'></a>\n",
    "\n",
    "# Step : $Q_{\\textrm{noS}}$ \\[Back to [top](#toc)\\]\n",
    "$$\\label{qnons}$$\n",
    "\n",
    "The potential $Q_{\\rm noS}$ is expressed in [KB2023](https://arxiv.org/abs/2303.18143) Equation 25:\n",
    "$$\n",
    "\\begin{aligned}\n",
    "Q_{\\mathrm{noS}}=\\frac{p_r^4}{\\mu^2}\\{ & 2(4-3 \\eta) \\eta u^2+u^3\\left[10 \\eta^3-83 \\eta^2+\\eta\\left(-\\frac{5308}{15}+\\frac{496256 \\ln 2}{45}-\\frac{33048 \\ln 3}{5}\\right)\\right]+u^4\\left[\\left(640-\\frac{615 \\pi^2}{32}\\right) \\eta^3\\right. \\\\\n",
    "& +\\eta^2\\left(\\frac{31633 \\pi^2}{512}-\\frac{1184 \\gamma}{5}+\\frac{150683}{105}+\\frac{33693536 \\ln 2}{105}-\\frac{6396489 \\ln 3}{70}-\\frac{9765625 \\ln 5}{126}\\right) \\\\\n",
    "& +\\eta\\left(\\frac{1295219}{350}-\\frac{93031 \\pi^2}{1536}+\\frac{10856 \\gamma_E}{105}-\\frac{40979464}{315} \\ln 2+\\frac{14203593 \\ln 3}{280}+\\frac{9765625 \\ln 5}{504}\\right) \\\\\n",
    "& \\left.+\\eta\\left(\\frac{5428}{105}-\\frac{592 \\eta}{5}\\right) \\ln u+\\frac{88703 \\pi \\eta u^{9 / 2}}{1890}\\right\\}\n",
    "\\end{aligned}\n",
    "$$\n",
    "$$\n",
    "\\begin{aligned}\n",
    "&+\\frac{p_r^6}{\\mu^4}\\left\\{u^2\\right. {\\left[6 \\eta^3-\\frac{27 \\eta^2}{5}+\\eta\\left(-\\frac{827}{3}-\\frac{2358912}{25} \\ln 2+\\frac{1399437 \\ln 3}{50}+\\frac{390625 \\ln 5}{18}\\right)\\right] } \\\\\n",
    "&+ u^3\\left[-14 \\eta^4+116 \\eta^3+\\eta^2\\left(\\frac{159089}{75}-\\frac{4998308864 \\ln 2}{1575}+\\frac{26171875 \\ln 5}{18}-\\frac{45409167 \\ln 3}{350}\\right)\\right. \\\\\n",
    "&\\left.\\left.+\\eta\\left(\\frac{2613083}{1050}+\\frac{6875745536 \\ln 2}{4725}-\\frac{23132628 \\ln 3}{175}-\\frac{101687500 \\ln 5}{189}\\right)\\right]-\\frac{2723471 \\pi \\eta u^{7 / 2}}{756000}\\right\\} \\\\\n",
    "&+\\frac{p_r^8}{\\mu^6}\\left\\{u \\eta\\left(-\\frac{35772}{175}+\\frac{21668992 \\ln 2}{45}+\\frac{6591861 \\ln 3}{350}-\\frac{27734375 \\ln 5}{126}\\right)+u^2\\left[-6 \\eta^4+\\frac{24 \\eta^3}{7}\\right.\\right. \\\\\n",
    "& \\quad+\\eta^2\\left(\\frac{870976}{525}+\\frac{703189497728 \\ln 2}{33075}+\\frac{332067403089 \\ln 3}{39200}-\\frac{13841287201 \\ln 7}{4320}-\\frac{468490234375 \\ln 5}{42336}\\right) \\\\\n",
    "&\\left.\\quad+\\eta\\left(\\frac{5790381}{2450}-\\frac{16175693888 \\ln 2}{1575}+\\frac{875090984375 \\ln 5}{169344}+\\frac{13841287201 \\ln 7}{17280}-\\frac{393786545409 \\ln 3}{156800}\\right)\\right] \\\\\n",
    "&+\\left.\\frac{5994461 \\pi \\eta u^{5 / 2}}{12700800}\\right\\} .\n",
    "\\end{aligned}\n",
    "$$\n",
    "Here, $u$ is the inverse of the radial distance, defined in [this cell](#u). $\\gamma_E$ is the Euler-Mascheroni constant, defined in [this cell](#emgamma) and $a_{6}$ is an NR calibration coefficient defined in [this cell](#nr)."
   ]
  },
  {
   "cell_type": "code",
   "execution_count": 20,
   "id": "9b0bcc2c",
   "metadata": {},
   "outputs": [
    {
     "name": "stdout",
     "output_type": "stream",
     "text": [
      "Appending to Hamiltonian/v5PHM_Hamiltonian-Hreal_on_top.txt\n"
     ]
    }
   ],
   "source": [
    "%%writefile -a $Ccodesdir/v5PHM_Hamiltonian-Hreal_on_top.txt\n",
    "Qnos = Qnosterm1 + Qnosterm2 + Qnos term3\n",
    "Qnosterm1 = (pr**4) * (2*(4-3*eta)*eta*u**2 + u**3 * ( 10*eta**3 - 83*eta**2 + eta*(-5308/15 + 496256*sp.log(2)/45 - 33048*sp.log(3)/5) ) + u**4 * ( (640 - 615*sp.pi**2/32)*eta**3 + eta**2 * ( 31633*sp.pi**2/512 - 1184*sp.EulerGamma/5 + 150683/105 + 33693536*sp.log(2)/105 - 6396489*sp.log(3)/70 - 9765625*sp.log(5)/126 ) + eta * ( 1295219/350 - 93031*sp.pi**2/1536 + 10856*sp.EulerGamma/105 - 40979464/315*sp.log(2) + 14203593*sp.log(3)/280 + 9765625*sp.log(5)/504 ) + eta * (5428/105 - 592*eta/5)*sp.log(u) + 88703*sp.pi*eta*u**(9/2)/1890 ))\n",
    "Qnosterm2 = (pr**6) * ( u**2 * ( 6*eta**3 - 27*eta**2/5 + eta*(-827/3 - 2358912/25*sp.log(2) + 1399437*sp.log(3)/50 + 390625*sp.log(5)/18) ) + u**3 * ( -14*eta**4 + 116*eta**3 + eta**2 * ( 159089/75 - 4998308864*sp.log(2)/1575 + 26171875*sp.log(5)/18 - 45409167*sp.log(3)/350 ) + eta * ( 2613083/1050 + 6875745536*sp.log(2)/4725 - 23132628*sp.log(3)/175 - 101687500*sp.log(5)/189 ) - 2723471*sp.pi*eta*u**(7/2)/756000 ))\n",
    "Qnosterm3 = (pr**8) * ( u*eta * ( -35772/175 + 21668992*sp.log(2)/45 + 6591861*sp.log(3)/350 - 27734375*sp.log(5)/126) +u**2 * (-6*eta**4 + 24*eta**3/7 +eta**2 * (870976/525 + 703189497728*sp.log(2)/33075 + 332067403089*sp.log(3)/39200 -13841287201*sp.log(7)/4320 - 468490234375*sp.log(5)/42336) +eta * (5790381/2450 - 16175693888*sp.log(2)/1575 + 875090984375*sp.log(5)/169344 +13841287201*sp.log(7)/17280 - 393786545409*sp.log(3)/156800)) +5994461*sp.pi*eta*u**(5/2)/12700800)"
   ]
  },
  {
   "cell_type": "markdown",
   "id": "77ac9c82",
   "metadata": {},
   "source": [
    "# Step : Spin Combinations and Derived Quantities"
   ]
  },
  {
   "cell_type": "markdown",
   "id": "bca5a521",
   "metadata": {},
   "source": [
    "<a id='na'></a>\n",
    "\n",
    "# Step : The in-plane spin components \\[Back to [top](#toc)\\]\n",
    "$$\\label{na}$$\n",
    "\n",
    "In this section, we define the orbit-averaged in-plane spin components expressed in [RBB2023](https://arxiv.org/abs/2303.18046) Equation A7:\n",
    "\n",
    "\\begin{equation*}\n",
    "    \\langle({\\bf n}\\cdot{\\bf a}_{\\pm})^2\\rangle = \\left[ a_{\\pm}^{2} - \\left({\\bf l}_{N}\\cdot{\\bf a}_{\\pm}\\right)^2 \\right] ,\\\\\n",
    "    \\langle({\\bf n}\\cdot{\\bf a}_{+})({\\bf n}\\cdot{\\bf a}_{-})\\rangle = \\left[ {\\bf a}_{-}\\cdot{\\bf a}_{+} - \\left({\\bf l}_{N}\\cdot{\\bf a}_{+}\\right)\\left({\\bf l}_{N}\\cdot{\\bf a}_{-}\\right) \\right]\n",
    "\\end{equation*}\n",
    "\n",
    "Where, the spin combinations ${\\bf a}_{\\pm}$ are defined in [this cell](#a), and the normal components of the spin ${\\bf l}_{N}\\cdot{\\bf a}_{\\pm}$ are defined in [this cell]. \n",
    "\n",
    "Note: that we do not include the prefactor of $\\frac{1}{2}$ as that is accounted for in the terms where the components enter."
   ]
  },
  {
   "cell_type": "code",
   "execution_count": null,
   "id": "636ace61",
   "metadata": {},
   "outputs": [],
   "source": [
    "%%writefile -a $Ccodesdir/v5PHM_Hamiltonian-Hreal_on_top.txt\n",
    "nap = ap2 - lnap2\n",
    "nam = am2 - lnam2\n",
    "napnam = apam - lnap*lnam"
   ]
  },
  {
   "cell_type": "markdown",
   "id": "cfa0e883",
   "metadata": {},
   "source": [
    "<a id='lna'></a>\n",
    "\n",
    "# Step : The Newtonian normal spin components \\[Back to [top](#toc)\\]\n",
    "$$\\label{lna}$$\n",
    "\n",
    "In this section, we define the normal spin components that enter into [RBB2023](https://arxiv.org/abs/2303.18046) Equation A7:\n",
    "\n",
    "\\begin{equation*}\n",
    "    {\\bf l}_{N}\\cdot{\\bf a}_{\\pm} = \\frac{m_1}{M}\\chi_1 \\pm \\frac{m_2}{M}\\chi_2.\n",
    "\\end{equation*}\n",
    "\n",
    "Where, $\\chi_{1,2}$ are the projections of the spins in the direction of the Newtonian orbital angular momentum ${\\bf L}_{N} \\equiv \\mu{\\bf r}\\times\\dot{{\\bf r}}$. These are provided as input parameters to the Hamiltonian function."
   ]
  },
  {
   "cell_type": "code",
   "execution_count": null,
   "id": "6c0913bf",
   "metadata": {},
   "outputs": [],
   "source": [
    "%%writefile -a $Ccodesdir/v5PHM_Hamiltonian-Hreal_on_top.txt\n",
    "lnap2 = lnap*lnap\n",
    "lnam2 = lnam*lnam\n",
    "lnap =(m1*chi1 + m2*chi2)/M\n",
    "lnam =(m1*chi1 - m2*chi2)/M"
   ]
  },
  {
   "cell_type": "markdown",
   "id": "06ce8b8f",
   "metadata": {},
   "source": [
    "<a id='la'></a>\n",
    "\n",
    "# Step : The normal spin components \\[Back to [top](#toc)\\]\n",
    "$$\\label{la}$$\n",
    "\n",
    "In this section, we define the spin components normal to the orbital angular momentum:\n",
    "\n",
    "\\begin{equation*}\n",
    "    {\\bf l}\\cdot{\\bf a}_{\\pm} = \\frac{m_1}{M}\\chi_{L,1} \\pm \\frac{m_2}{M}\\chi_{L,2}.\n",
    "\\end{equation*}\n",
    "\n",
    "Where, $\\chi_{L,(1,2)}$ are the projections of the spins in the direction of the orbital angular momentum ${\\bf L} \\equiv {\\bf r}\\times{\\bf p}$. These are provided as input parameters to the Hamiltonian function."
   ]
  },
  {
   "cell_type": "code",
   "execution_count": null,
   "id": "f940d2dd",
   "metadata": {},
   "outputs": [],
   "source": [
    "%%writefile -a $Ccodesdir/v5PHM_Hamiltonian-Hreal_on_top.txt\n",
    "lap =(m1*chiL1 + m2*chiL2)/M\n",
    "lam =(m1*chiL1 - m2*chiL2)/M"
   ]
  },
  {
   "cell_type": "markdown",
   "id": "bcd2baaa",
   "metadata": {},
   "source": [
    "<a id='a'></a>\n",
    "\n",
    "# Step : The spin combinations ${\\bf a}_{\\pm}$ \\[Back to [top](#toc)\\]\n",
    "$$\\label{a}$$\n",
    "\n",
    "In this section, we define the spin combinations as expressed in [RBB2023](https://arxiv.org/abs/2303.18046) Equation 3:\n",
    "\n",
    "\\begin{equation*}\n",
    "    {\\bf a}_{\\pm} = \\frac{m_1}{M}{\\bf \\chi}_{1} \\pm \\frac{m_2}{M}{\\bf \\chi}_{2}.\n",
    "\\end{equation*}\n",
    "\n",
    "Where, ${\\bf \\chi}_{1,2}$ are the dimensionless spin vectors. These are also provided as input parameters to the Hamiltonian function. More importantly, we express the magnitude of the combinations and their dot product."
   ]
  },
  {
   "cell_type": "code",
   "execution_count": null,
   "id": "a34f98df",
   "metadata": {},
   "outputs": [],
   "source": [
    "%%writefile -a $Ccodesdir/v5PHM_Hamiltonian-Hreal_on_top.txt\n",
    "ap3 = ap2*ap\n",
    "am3 = am2*am\n",
    "ap = sp.sqrt(ap2)\n",
    "am = sp.sqrt(am2)\n",
    "ap2 = (m1*m1*(chi1x*chix + chi1y*chi1y + chi1z*chiz) + m2*m2*(chi2x*chi2x + chi2y*chi2y + chi2z*chi2z) + 2*m1*m2*(chi1x*chi2x + chi1y*chi2y + chi1z*chi2z))/M/M\n",
    "am2 = (m1*m1*(chi1x*chix + chi1y*chi1y + chi1z*chiz) + m2*m2*(chi2x*chi2x + chi2y*chi2y + chi2z*chi2z) - 2*m1*m2*(chi1x*chi2x + chi1y*chi2y + chi1z*chi2z))/M/M\n",
    "apam = (m1*m1*(chi1x*chix + chi1y*chi1y + chi1z*chiz) - m2*m2*(chi2x*chi2x + chi2y*chi2y + chi2z*chi2z))/M/M"
   ]
  },
  {
   "cell_type": "markdown",
   "id": "efa61fe1",
   "metadata": {},
   "source": [
    "# Step: Calibration Coefficients"
   ]
  },
  {
   "cell_type": "markdown",
   "id": "782ea740",
   "metadata": {},
   "source": [
    "<a id='ga'></a>\n",
    "\n",
    "# Step : The gyro-gravitomagnetic factors $g_{a_\\pm}$ \\[Back to [top](#toc)\\]\n",
    "$$\\label{ga}$$\n",
    "\n",
    "In this section, we define the gyro-gravitomagnetic factors as expressed in [KB2023](https://arxiv.org/abs/2303.18143) Equation 28:\n",
    "\n",
    "\\begin{equation*}\n",
    "\\begin{aligned}\n",
    "&\\begin{aligned}\n",
    "g_{a_{+}}^{3.5 \\mathrm{PN}}=\\frac{7}{4} & +\\left[\\tilde{L}^2 u^2\\left(-\\frac{45 \\eta}{32}-\\frac{15}{32}\\right)+u\\left(\\frac{23 \\eta}{32}-\\frac{3}{32}\\right)\\right] \\\\\n",
    "+ & {\\left[\\tilde{L}^4 u^4\\left(\\frac{345 \\eta^2}{256}+\\frac{75 \\eta}{128}+\\frac{105}{256}\\right)\\right.} \\\\\n",
    "& +\\tilde{L}^2 u^3\\left(-\\frac{1591 \\eta^2}{768}-\\frac{267 \\eta}{128}+\\frac{59}{256}\\right) \\\\\n",
    "& \\left.+u^2\\left(\\frac{109 \\eta^2}{192}-\\frac{177 \\eta}{32}-\\frac{5}{64}\\right)\\right],\n",
    "\\end{aligned}\\\\\n",
    "&\\begin{aligned}\n",
    "g_{a_{-}}^{3.5 \\mathrm{PN}}= & \\frac{1}{4}+\\left[\\tilde{L}^2 u^2\\left(\\frac{15}{32}-\\frac{9 \\eta}{32}\\right)+u\\left(\\frac{11 \\eta}{32}+\\frac{3}{32}\\right)\\right] \\\\\n",
    "+ & {\\left[\\tilde{L}^4 u^4\\left(\\frac{75 \\eta^2}{256}-\\frac{45 \\eta}{128}-\\frac{105}{256}\\right)\\right.} \\\\\n",
    "& +\\tilde{L}^2 u^3\\left(-\\frac{613 \\eta^2}{768}-\\frac{35 \\eta}{128}-\\frac{59}{256}\\right) \\\\\n",
    "& \\left.+u^2\\left(\\frac{103 \\eta^2}{192}-\\frac{\\eta}{32}+\\frac{5}{64}\\right)\\right].\n",
    "\\end{aligned}\n",
    "\\end{aligned}\n",
    "\\end{equation*}\n",
    "Where, ${\\bf \\chi}_{1,2}$ are the dimensionless spin vectors. These are also provided as input parameters to the Hamiltonian function. More importantly, we express the magnitude of the combinations and their dot product."
   ]
  },
  {
   "cell_type": "code",
   "execution_count": null,
   "id": "4db6c241",
   "metadata": {},
   "outputs": [],
   "source": [
    "%%writefile -a $Ccodesdir/v5PHM_Hamiltonian-Hreal_on_top.txt\n",
    "gap = (7/4 + (pphi**2 * u**2 * (-45*eta/32 - 15/32) + u * (23*eta/32 - 3/32)) + (pphi**4 * u**4 * (345*eta**2/256 + 75*eta/128 + 105/256) + pphi**2 * u**3 * (-1591*eta**2/768 - 267*eta/128 + 59/256) +u**2 * (109*eta**2/192 - 177*eta/32 - 5/64)))\n",
    "gam = (1/4 + (pphi**2 * u**2 * (15/32 - 9*eta/32) + u * (11*eta/32 + 3/32)) + (pphi**4 * u**4 * (75*eta**2/256 - 45*eta/128 - 105/256) + pphi**2 * u**3 * (-613*eta**2/768 - 35*eta/128 - 59/256) + u**2 * (103*eta**2/192 - eta/32 + 5/64)))"
   ]
  },
  {
   "cell_type": "markdown",
   "id": "792ca7cc",
   "metadata": {},
   "source": [
    "<a id='a6'></a>\n",
    "\n",
    "# Step :  $a_{6}$ \\[Back to [top](#toc)\\]\n",
    "$$\\label{a6}$$\n",
    "\n",
    "In this section, we define the calibration coefficient $a_6$ as documented [here](https://dcc.ligo.org/public/0186/T2300060/002/SEOBNRv5HM.pdf):\n",
    "\\begin{equation*}\n",
    "a_6 = 41.7877875 - 3021.93382 \\eta + 33414.4394 \\eta^2 - 169019.14 \\eta^3 + 329523.262 \\eta^4\n",
    "\\end{equation*}\n",
    "\n",
    "Where, $\\eta$ is the symmetric mass ratio and is defined in [this cell](#eta)."
   ]
  },
  {
   "cell_type": "code",
   "execution_count": null,
   "id": "8ee122fc",
   "metadata": {},
   "outputs": [],
   "source": [
    "%%writefile -a $Ccodesdir/v5PHM_Hamiltonian-Hreal_on_top.txt\n",
    "a6 = 41.7877875 - 3021.93382 * eta + 33414.4394 * eta**2 - 169019.14 * eta**3 + 329523.262 * eta**4"
   ]
  }
 ],
 "metadata": {
  "kernelspec": {
   "display_name": "Python 3",
   "language": "python",
   "name": "python3"
  },
  "language_info": {
   "codemirror_mode": {
    "name": "ipython",
    "version": 3
   },
   "file_extension": ".py",
   "mimetype": "text/x-python",
   "name": "python",
   "nbconvert_exporter": "python",
   "pygments_lexer": "ipython3",
   "version": "3.8.8"
  }
 },
 "nbformat": 4,
 "nbformat_minor": 5
}
