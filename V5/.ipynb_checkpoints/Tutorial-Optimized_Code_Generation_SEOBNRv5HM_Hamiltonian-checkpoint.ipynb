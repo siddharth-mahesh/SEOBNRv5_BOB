{
 "cells": [
  {
   "cell_type": "markdown",
   "id": "13913834",
   "metadata": {},
   "source": [
    "# Optimized Code for Spinning Effective One-Body Hamiltonian: \"v5HM\"\n",
    "\n",
    "## Author: Siddharth Mahesh\n",
    "\n",
    "## This module documents the generation of optimized code for the effective one-body Hamiltonian in the SEOBNRv5HM gravitational waveform approximant.\n",
    "\n",
    "# Step : Import Core Modules\n"
   ]
  },
  {
   "cell_type": "code",
   "execution_count": null,
   "id": "835ea595",
   "metadata": {},
   "outputs": [],
   "source": [
    "import sys,os#Add sys to get cmdline_helper from NRPy top directory; remove this line and next when debugged\n",
    "sys.path.append('../')\n",
    "# Create C code output directory:\n",
    "Ccodesdir = \"Hamiltonian\""
   ]
  },
  {
   "cell_type": "markdown",
   "id": "a153a9a5",
   "metadata": {},
   "source": [
    "# Step : Create python module\n",
    "\n",
    "In this step we create the python module that will contain the code generation function.\n",
    "\n",
    "There, we import sympy and other nrpy core modules needed for code generation."
   ]
  },
  {
   "cell_type": "code",
   "execution_count": null,
   "id": "08453109",
   "metadata": {},
   "outputs": [],
   "source": [
    "codegen_module = open(os.path.join(Ccodesdir,\"v5HM_Hamiltonian-codegen.py\"),\"w\")\n",
    "codegen_module.write(\n",
    "\"import sympy\\n\n",
    "from outputC import outputC, nrpyAbs\"\n",
    ")"
   ]
  },
  {
   "cell_type": "markdown",
   "id": "b58bb8b9",
   "metadata": {},
   "source": [
    "# Step : Define the codegen function\n",
    "\n",
    "In this step, we define the function in which the Hamiltonanian will be built as a sympy expression."
   ]
  },
  {
   "cell_type": "code",
   "execution_count": null,
   "id": "bcd8903b",
   "metadata": {},
   "outputs": [],
   "source": [
    "codegen_module.write(\n",
    "\"def v5HM_generate_optimized_hamiltonian():\\n\"\n",
    ")"
   ]
  }
 ],
 "metadata": {
  "kernelspec": {
   "display_name": "Python 3",
   "language": "python",
   "name": "python3"
  },
  "language_info": {
   "codemirror_mode": {
    "name": "ipython",
    "version": 3
   },
   "file_extension": ".py",
   "mimetype": "text/x-python",
   "name": "python",
   "nbconvert_exporter": "python",
   "pygments_lexer": "ipython3",
   "version": "3.8.8"
  }
 },
 "nbformat": 4,
 "nbformat_minor": 5
}
