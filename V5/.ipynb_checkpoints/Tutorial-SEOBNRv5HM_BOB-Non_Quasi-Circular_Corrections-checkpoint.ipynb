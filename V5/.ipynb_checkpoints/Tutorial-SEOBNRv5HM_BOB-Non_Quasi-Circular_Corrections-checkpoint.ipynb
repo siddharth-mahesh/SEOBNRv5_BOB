{
 "cells": [
  {
   "cell_type": "code",
   "execution_count": 1,
   "id": "99165dcc",
   "metadata": {},
   "outputs": [],
   "source": [
    "import sys,os#Add sys to get cmdline_helper from NRPy top directory; remove this line and next when debugged\n",
    "sys.path.append('../')\n",
    "import cmdline_helper as cmd     # NRPy+: Multi-platform Python command-line interface\n",
    "\n",
    "# Create C code output directory:\n",
    "Ccodesdir = \"IMR\"\n",
    "# Then create an output directory in case it does not exist\n",
    "cmd.mkdir(Ccodesdir)"
   ]
  },
  {
   "cell_type": "markdown",
   "id": "370f5fa0",
   "metadata": {},
   "source": [
    "# Non Quasi-Circular Corrections\n",
    "\n",
    "In the SEOBNR formalism, the evolution of the binary is broken into two independent phases, the inspiral-plunge phase and the merger-ringdown phase. During the inspiral-plunge phase, the waveform is evaluated from the EOB trajectory using factorized. resummed Post-Newtonian equations for circular orbits. However, the EOB trajectory displays deviations from circular behaviour closer to the transition between the two phases. In order to account for the non-circular behaviour and to ensure that the inspiral-plunge and merger-ringdown waveforms are smoothly connected, it is important to introduce Non Quasi-Circular (NQC) corrections to the PN waveform.\n",
    "\n",
    "This is accomplished by introducting a correction to the factorized waveform of the form:\n",
    "\n",
    "$$\n",
    "h^{\\rm insp-plunge}_{lm} = \n",
    "$$"
   ]
  },
  {
   "cell_type": "markdown",
   "id": "72a31813",
   "metadata": {},
   "source": [
    "# Step : Compute the q_i, p_i \n",
    "\n",
    "$$\n",
    "q = \\left\\{ \\frac{p_r^2}{r^2\\Omega^2} , \\frac{p_r^2}{r^2\\Omega^2}\\frac{1}{r} , \\frac{p_r^2}{r^2\\Omega^2}\\frac{1}{r^{3/2}} \\right\\} \\\\\n",
    "p = -\\left\\{ \\frac{p_r}{r\\Omega} , \\frac{p_r^2}{r\\Omega} \\right\\}\n",
    "$$"
   ]
  },
  {
   "cell_type": "code",
   "execution_count": 2,
   "id": "eb46b501",
   "metadata": {},
   "outputs": [
    {
     "name": "stdout",
     "output_type": "stream",
     "text": [
      "Overwriting IMR/v5HM-BOB_NQC_coefficients.txt\n"
     ]
    }
   ],
   "source": [
    "%%writefile $Ccodesdir/v5HM-BOB_NQC_coefficients.txt\n",
    "time = dynamics_fine[:,0]\n",
    "r = dynamics_fine[:,1]\n",
    "omega_orb = dynamics_fine[:,6]\n",
    "pr = dynamics_fine[:,3]\n",
    "rOmega = r * omega_orb\n",
    "q1 = pr*pr / (rOmega*rOmega)\n",
    "q2 = q1 / r\n",
    "q3 = q2 / np.sqrt(r)\n",
    "p1 = -pr / rOmega\n",
    "p2 = -p1 * pr * pr"
   ]
  },
  {
   "cell_type": "markdown",
   "id": "ed97801c",
   "metadata": {},
   "source": [
    "# Step : Compute amplitude and phase terms"
   ]
  },
  {
   "cell_type": "code",
   "execution_count": 3,
   "id": "91f1f9b3",
   "metadata": {},
   "outputs": [
    {
     "name": "stdout",
     "output_type": "stream",
     "text": [
      "Appending to IMR/v5HM-BOB_NQC_coefficients.txt\n"
     ]
    }
   ],
   "source": [
    "%%writefile -a $Ccodesdir/v5HM-BOB_NQC_coefficients.txt\n",
    "amplitude = np.abs(h22_fine)\n",
    "phase = np.unwrap(np.angle(h22_fine))"
   ]
  },
  {
   "cell_type": "markdown",
   "id": "ddf15b16",
   "metadata": {},
   "source": [
    "# Step Compute the interpolation intervals"
   ]
  },
  {
   "cell_type": "code",
   "execution_count": 4,
   "id": "397112b8",
   "metadata": {},
   "outputs": [
    {
     "name": "stdout",
     "output_type": "stream",
     "text": [
      "Appending to IMR/v5HM-BOB_NQC_coefficients.txt\n"
     ]
    }
   ],
   "source": [
    "%%writefile -a $Ccodesdir/v5HM-BOB_NQC_coefficients.txt\n",
    "idx = np.argmin(np.abs(time - t_attach))\n",
    "N = 5\n",
    "left = np.max((0, idx - N))\n",
    "right = np.min((idx + N, len(time)))"
   ]
  },
  {
   "cell_type": "markdown",
   "id": "8b45b7fe",
   "metadata": {},
   "source": [
    "# Step : Interpolate Q_i and compute the Q matrix"
   ]
  },
  {
   "cell_type": "code",
   "execution_count": 5,
   "id": "03adfe47",
   "metadata": {},
   "outputs": [
    {
     "name": "stdout",
     "output_type": "stream",
     "text": [
      "Appending to IMR/v5HM-BOB_NQC_coefficients.txt\n"
     ]
    }
   ],
   "source": [
    "%%writefile -a $Ccodesdir/v5HM-BOB_NQC_coefficients.txt\n",
    "Q1 = q1 * amplitude\n",
    "Q2 = q2 * amplitude\n",
    "Q3 = q3 * amplitude\n",
    "intrp_Q1 = InterpolatedUnivariateSpline(time[left:right], Q1[left:right])\n",
    "intrp_Q2 = InterpolatedUnivariateSpline(time[left:right], Q2[left:right])\n",
    "intrp_Q3 = InterpolatedUnivariateSpline(time[left:right], Q3[left:right])\n",
    "Q = np.zeros([3,3])\n",
    "Q[:, 0] = intrp_q1LM.derivatives(t_attach)[:-1]\n",
    "Q[:, 1] = intrp_q2LM.derivatives(t_attach)[:-1]\n",
    "Q[:, 2] = intrp_q3LM.derivatives(t_attach)[:-1]"
   ]
  },
  {
   "cell_type": "markdown",
   "id": "5b854ab2",
   "metadata": {},
   "source": [
    "# Step : Interpolate P_i and compute the Q matrix"
   ]
  },
  {
   "cell_type": "code",
   "execution_count": 6,
   "id": "29dcf699",
   "metadata": {},
   "outputs": [
    {
     "name": "stdout",
     "output_type": "stream",
     "text": [
      "Appending to IMR/v5HM-BOB_NQC_coefficients.txt\n"
     ]
    }
   ],
   "source": [
    "%%writefile -a $Ccodesdir/v5HM-BOB_NQC_coefficients.txt\n",
    "intrp_P1 = InterpolatedUnivariateSpline(time[left:right], p1[left:right])\n",
    "intrp_P2 = InterpolatedUnivariateSpline(time[left:right], p2[left:right])\n",
    "P = np.zeros([2,2])\n",
    "P[:, 0] = -intrp_p1.derivatives(t_attach)[1:-1]\n",
    "P[:, 1] = -intrp_p2.derivatives(t_attach)[1:-1]"
   ]
  },
  {
   "cell_type": "markdown",
   "id": "41c60669",
   "metadata": {},
   "source": [
    "# Step : Interpolate A and omega terms\n",
    "\n",
    "pySEOBNR performs checks to ensure that there is no negative frequency"
   ]
  },
  {
   "cell_type": "code",
   "execution_count": 7,
   "id": "23180d5e",
   "metadata": {},
   "outputs": [
    {
     "name": "stdout",
     "output_type": "stream",
     "text": [
      "Appending to IMR/v5HM-BOB_NQC_coefficients.txt\n"
     ]
    }
   ],
   "source": [
    "%%writefile -a $Ccodesdir/v5HM-BOB_NQC_coefficients.txt\n",
    "intrp_amp = InterpolatedUnivariateSpline(time[left:right], amplitude[left:right])\n",
    "amps_inspiral = intrp_amp.derivatives(t_attach)[:-1]\n",
    "intrp_phase = InterpolatedUnivariateSpline(time[left:right], phase[left:right])\n",
    "omega, omegaDot = intrp_phase.derivatives(t_attach)[1:-1]\n",
    "if omega * omegaDot > 0.0:\n",
    "    omega = np.abs(omega)\n",
    "    omegaDot = np.abs(omegaDot)\n",
    "else:\n",
    "    omega = np.abs(omega)\n",
    "    omegaDot = -np.abs(omegaDot)\n",
    "omegas_inspiral = [omega,omegaDot]"
   ]
  },
  {
   "cell_type": "markdown",
   "id": "945c4db5",
   "metadata": {},
   "source": [
    "# Step : Compute corresponding BOB terms"
   ]
  },
  {
   "cell_type": "code",
   "execution_count": 8,
   "id": "7260dde9",
   "metadata": {},
   "outputs": [
    {
     "name": "stdout",
     "output_type": "stream",
     "text": [
      "Appending to IMR/v5HM-BOB_NQC_coefficients.txt\n"
     ]
    }
   ],
   "source": [
    "%%writefile -a $Ccodesdir/v5HM-BOB_NQC_coefficients.txt\n",
    "amps_BOB, omegas_BOB = v5HM_BOB_unoptimized_nqc_terms(t_attach,t_peak_strain,h22NRpeak,omega22NRpeak,omegaQNM,tau)"
   ]
  },
  {
   "cell_type": "markdown",
   "id": "9d841ccd",
   "metadata": {},
   "source": [
    "# Step : Compute the NQC right hand sides\n"
   ]
  },
  {
   "cell_type": "code",
   "execution_count": 9,
   "id": "0c6dd27c",
   "metadata": {},
   "outputs": [
    {
     "name": "stdout",
     "output_type": "stream",
     "text": [
      "Appending to IMR/v5HM-BOB_NQC_coefficients.txt\n"
     ]
    }
   ],
   "source": [
    "%%writefile -a $Ccodesdir/v5HM-BOB_NQC_coefficients.txt\n",
    "rhs_ai = np.array(amps_BOB) - np.array(amps_inspiral)\n",
    "rhs_bi = np.array(omegas_BOB) - np.array(omegas_inspiral)"
   ]
  },
  {
   "cell_type": "markdown",
   "id": "a894cf05",
   "metadata": {},
   "source": [
    "# Step : Solve for a_i and b_i\n"
   ]
  },
  {
   "cell_type": "code",
   "execution_count": 10,
   "id": "ebfd5280",
   "metadata": {},
   "outputs": [
    {
     "name": "stdout",
     "output_type": "stream",
     "text": [
      "Appending to IMR/v5HM-BOB_NQC_coefficients.txt\n"
     ]
    }
   ],
   "source": [
    "%%writefile -a $Ccodesdir/v5HM-BOB_NQC_coefficients.txt\n",
    "res_ai = np.linalg.solve(Q,amps)\n",
    "res_bi = np.linalg.solve(P,omegas)"
   ]
  },
  {
   "cell_type": "markdown",
   "id": "242ea6e1",
   "metadata": {},
   "source": [
    "# Step : Write routine into python function"
   ]
  },
  {
   "cell_type": "code",
   "execution_count": 11,
   "id": "3adaf095",
   "metadata": {},
   "outputs": [],
   "source": [
    "with open(os.path.join(Ccodesdir,\"v5HM_BOB_compute_nqc_coefficents.py\"),\"w\") as output:\n",
    "    output.write(\"import numpy as np\\n\")\n",
    "    output.write( \"from scipy.interpolate import InterpolatedUnivariateSpline\\n\")\n",
    "    output.write( \"from IMR.v5HM_BOB_unoptimized_nqc_terms import v5HM_BOB_unoptimized_nqc_terms\\n\")\n",
    "    output.write( \"def v5HM_BOB_unoptimized_compute_nqc_coefficients(t_peak_strain, t_attach, h22_fine, dynamics_fine, h22NRpeak, omega22NRpeak, omegaQNM, tau):\\n\")\n",
    "    for line in list(open(os.path.join(Ccodesdir,\"v5HM-BOB_NQC_coefficients.txt\"),\"r\")):\n",
    "        output.write(\"    %s\\n\" % line)\n",
    "    output.write('    return {\"a\": res_ai, \"b\" : res_bi}')"
   ]
  },
  {
   "cell_type": "markdown",
   "id": "f227f716",
   "metadata": {},
   "source": [
    "# Step : Apply NQC corrections"
   ]
  },
  {
   "cell_type": "markdown",
   "id": "d1b8cd8d",
   "metadata": {},
   "source": [
    "# Step : Retrieve NQC coefficients"
   ]
  },
  {
   "cell_type": "code",
   "execution_count": 12,
   "id": "25398c6c",
   "metadata": {},
   "outputs": [
    {
     "name": "stdout",
     "output_type": "stream",
     "text": [
      "Writing IMR/v5HM-BOB_NQC_corrections.txt\n"
     ]
    }
   ],
   "source": [
    "%%writefile $Ccodesdir/v5HM-BOB_NQC_corrections.txt\n",
    "ai = nqc_coefficients['a']\n",
    "bi = nqc_coefficients['b']"
   ]
  },
  {
   "cell_type": "markdown",
   "id": "ee6f1558",
   "metadata": {},
   "source": [
    "# Step : compute q_i"
   ]
  },
  {
   "cell_type": "code",
   "execution_count": 13,
   "id": "d2978ad2",
   "metadata": {},
   "outputs": [
    {
     "name": "stdout",
     "output_type": "stream",
     "text": [
      "Appending to IMR/v5HM-BOB_NQC_corrections.txt\n"
     ]
    }
   ],
   "source": [
    "%%writefile -a $Ccodesdir/v5HM-BOB_NQC_corrections.txt\n",
    "r = dynamics[:,1]\n",
    "omega_orb = dynamics[:,6]\n",
    "pr = dynamics[:,3]\n",
    "rOmega = r * omega_orb\n",
    "q1 = pr*pr / (rOmega*rOmega)\n",
    "q2 = q1 / r\n",
    "q3 = q2 / np.sqrt(r)"
   ]
  },
  {
   "cell_type": "markdown",
   "id": "0bf6c9a6",
   "metadata": {},
   "source": [
    "# Step : compute amplitude correction"
   ]
  },
  {
   "cell_type": "code",
   "execution_count": 14,
   "id": "5e262a5d",
   "metadata": {},
   "outputs": [
    {
     "name": "stdout",
     "output_type": "stream",
     "text": [
      "Appending to IMR/v5HM-BOB_NQC_corrections.txt\n"
     ]
    }
   ],
   "source": [
    "%%writefile -a $Ccodesdir/v5HM-BOB_NQC_corrections.txt\n",
    "N22amp = 1 + q1*ai[0] + q2*ai[1] + q3*ai[2]"
   ]
  },
  {
   "cell_type": "markdown",
   "id": "0b192b2e",
   "metadata": {},
   "source": [
    "# Step : compute p_i"
   ]
  },
  {
   "cell_type": "code",
   "execution_count": 15,
   "id": "1c78537c",
   "metadata": {},
   "outputs": [
    {
     "name": "stdout",
     "output_type": "stream",
     "text": [
      "Appending to IMR/v5HM-BOB_NQC_corrections.txt\n"
     ]
    }
   ],
   "source": [
    "%%writefile -a $Ccodesdir/v5HM-BOB_NQC_corrections.txt\n",
    "p1 = -pr / rOmega\n",
    "p2 = -p1 * pr * pr"
   ]
  },
  {
   "cell_type": "markdown",
   "id": "a34f8ebc",
   "metadata": {},
   "source": [
    "# Step : compute phase correction"
   ]
  },
  {
   "cell_type": "code",
   "execution_count": 16,
   "id": "b3b029d9",
   "metadata": {},
   "outputs": [
    {
     "name": "stdout",
     "output_type": "stream",
     "text": [
      "Appending to IMR/v5HM-BOB_NQC_corrections.txt\n"
     ]
    }
   ],
   "source": [
    "%%writefile -a $Ccodesdir/v5HM-BOB_NQC_corrections.txt\n",
    "N22phase = np.exp( 1j*( p1*bi[0] + p2*bi[1] ) )"
   ]
  },
  {
   "cell_type": "markdown",
   "id": "e21143f0",
   "metadata": {},
   "source": [
    "# Step : compute NQC correction"
   ]
  },
  {
   "cell_type": "code",
   "execution_count": 17,
   "id": "b9c8365b",
   "metadata": {},
   "outputs": [
    {
     "name": "stdout",
     "output_type": "stream",
     "text": [
      "Appending to IMR/v5HM-BOB_NQC_corrections.txt\n"
     ]
    }
   ],
   "source": [
    "%%writefile -a $Ccodesdir/v5HM-BOB_NQC_corrections.txt\n",
    "N22 = N22amp*N22phase"
   ]
  },
  {
   "cell_type": "markdown",
   "id": "be46c812",
   "metadata": {},
   "source": [
    "# Step : apply the NQC correction"
   ]
  },
  {
   "cell_type": "code",
   "execution_count": 18,
   "id": "531d92cb",
   "metadata": {},
   "outputs": [
    {
     "name": "stdout",
     "output_type": "stream",
     "text": [
      "Appending to IMR/v5HM-BOB_NQC_corrections.txt\n"
     ]
    }
   ],
   "source": [
    "%%writefile -a $Ccodesdir/v5HM-BOB_NQC_corrections.txt\n",
    "h22_inspiral_plunge = h22_full*N22"
   ]
  },
  {
   "cell_type": "markdown",
   "id": "65c9f432",
   "metadata": {},
   "source": [
    "# Step : Write routine into python function"
   ]
  },
  {
   "cell_type": "code",
   "execution_count": 20,
   "id": "8ace12c8",
   "metadata": {},
   "outputs": [],
   "source": [
    "with open(os.path.join(Ccodesdir,\"v5HM_BOB_apply_nqc_corrections.py\"),\"w\") as output:\n",
    "    output.write(\"import numpy as np\\n\")\n",
    "    output.write(\"def v5HM_BOB_apply_nqc_correction(nqc_corrections, h22_full, dynamics):\\n\")\n",
    "    for line in list(open(os.path.join(Ccodesdir,\"v5HM-BOB_NQC_corrections.txt\"),\"r\")):\n",
    "        output.write(\"    %s\\n\" % line)\n",
    "    output.write('    return h22_inspiral_plunge')"
   ]
  },
  {
   "cell_type": "code",
   "execution_count": null,
   "id": "4c019b3d",
   "metadata": {},
   "outputs": [],
   "source": []
  }
 ],
 "metadata": {
  "kernelspec": {
   "display_name": "Python 3 (ipykernel)",
   "language": "python",
   "name": "python3"
  },
  "language_info": {
   "codemirror_mode": {
    "name": "ipython",
    "version": 3
   },
   "file_extension": ".py",
   "mimetype": "text/x-python",
   "name": "python",
   "nbconvert_exporter": "python",
   "pygments_lexer": "ipython3",
   "version": "3.11.5"
  }
 },
 "nbformat": 4,
 "nbformat_minor": 5
}
