{
 "cells": [
  {
   "cell_type": "code",
   "execution_count": null,
   "metadata": {},
   "outputs": [],
   "source": [
    "import numpy as np"
   ]
  },
  {
   "cell_type": "markdown",
   "metadata": {},
   "source": [
    "# Parameter Space Generator for BOB-related Faithfulness Tests\n",
    "\n",
    "Owing to challenges involved with implementing faithfulness tests in PyCBC and given the way in which we want to test the EOB-BOB waveforms, I felt it necessary to create my own code to do faithfulness tests. Having looked through the codes, creating a faithfulness test requires broadly requires two processes:\n",
    "\n",
    "1. A Parameter Space Set - A (large) set of parameter space points that are sampled to generate the two waveform models in question.\n",
    "\n",
    "2. A Faithfulness Calculator - A code that generates waveforms for the choice of parameters in question and computes the overlap taking into account the detector noice.\n",
    "\n",
    "In this module, we will look at how to generate the former with the latter being developed in a later module.\n",
    "\n",
    "## Step 1: Define Paramaters and Their Available Values\n",
    "\n",
    "In the first step, we list the necessary parameters and their corresponding PDF's:\n",
    "\n",
    "1. Mass of BH1, $M_1\\in \\mathcal{U}(m_\\mathrm{min},m_\\mathrm{max})$\n",
    "2. Mass of BH2, $M_2\\in \\mathcal{U}(m_\\mathrm{min},m_\\mathrm{max})$; additionally, $M = M_1 + M_2 \\in [m_\\mathrm{min},m_\\mathrm{max})$\n",
    "3. Spin unit vector of BH1, $\\hat{S_1} \\in \\mathcal{U}(\\mathcal{S}^2)$\n",
    "4. Spin Magnitude of BH1, $|S_1| \\in \\mathcal{U}(0,S_\\mathrm{max})$\n",
    "5. Spin unit vector of BH2, $\\hat{S_2} \\in \\mathcal{U}(\\mathcal{S}^2)$\n",
    "6. Spin Magnitude BH2, $|S_2| \\in \\mathcal{U}(0,S_\\mathrm{max})$\n",
    "\n"
   ]
  },
  {
   "cell_type": "code",
   "execution_count": null,
   "metadata": {},
   "outputs": [],
   "source": []
  }
 ],
 "metadata": {
  "kernelspec": {
   "display_name": "Python 3",
   "language": "python",
   "name": "python3"
  },
  "language_info": {
   "codemirror_mode": {
    "name": "ipython",
    "version": 3
   },
   "file_extension": ".py",
   "mimetype": "text/x-python",
   "name": "python",
   "nbconvert_exporter": "python",
   "pygments_lexer": "ipython3",
   "version": "3.7.1"
  }
 },
 "nbformat": 4,
 "nbformat_minor": 2
}
