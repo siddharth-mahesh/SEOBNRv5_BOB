{
 "cells": [
  {
   "cell_type": "code",
   "execution_count": null,
   "metadata": {},
   "outputs": [],
   "source": [
    "import sympy as sp\n",
    "import numpy as np"
   ]
  },
  {
   "cell_type": "markdown",
   "metadata": {},
   "source": [
    "# Tutorial - Converting the Cartesian Phase Space Variables to their Spherical Polar Counterparts for the SEOBNR_v3_Sph routine\n",
    "\n",
    "\n",
    "## Author: Siddharth Mahesh\n",
    "\n",
    "## Introduction:\n",
    "\n",
    "The current implementation of the gravitational wave approximant SEOBNRv3 is in Cartesian Coordinates. Additionally, the inputs for generating a waveform in the LIGO Algorithms Library (LALSuite) require the specification of the initial spin configurations of the binary black holes in Cartesian Coordinates.\n",
    "\n",
    "The next implementation of this approximant SEOBNRv3_Sph intends to perform all computations in a spherical polar phase space. Our problem is to take a set of 12 canonical variables: $x,y,z,p_x,p_y,p_z,S_{1x},S_{1y},S_{1z},S_{2x},S_{2y},S_{2z}$ to the set of canonical variables: $r,\\theta,\\phi,p_r,p_\\theta,p_\\phi,S_{1r},S_{1\\theta},S_{1\\phi},S_{2r},S_{2\\theta},S_{2\\phi}$. define them as such. \n",
    "\n",
    "## Step : Position\n",
    "\n",
    "The position vector of a particle in the spherical coordinate basis is always:\n",
    "\n",
    "$$\n",
    "\\mathbf{r} = r\\mathbf{e_r}\\\\\n",
    "r = \\sqrt{x^2 + y^2 + z^2}\n",
    "$$\n",
    "\n",
    "In addition, the polar and azimuthal angles are given by:\n",
    "\n",
    "$$\n",
    "\\theta = \\cos^{-1}\\left(\\frac{z}{r}\\right)\\\\\n",
    "\\phi = \\tan^{-1}\\left(\\frac{y}{x}\\right)\n",
    "$$\n"
   ]
  },
  {
   "cell_type": "code",
   "execution_count": null,
   "metadata": {},
   "outputs": [],
   "source": [
    "x , y , z = sp.symbols(\"x y z\")\n",
    "\n",
    "r = sp.sqrt(x*x + y*y + z*z)\n",
    "th = sp.acos(z/r)\n",
    "ph = sp.atan2(y,x)"
   ]
  },
  {
   "cell_type": "markdown",
   "metadata": {},
   "source": [
    "\n",
    "## Step : Spherical Unit Vectors\n",
    "\n",
    "Originally, there exists a coordinate system $(\\mathbf{e_x},\\mathbf{e_y},\\mathbf{e_z})$ (lebelled by subscript $i$) used to define the components of the position, momentum and spin vectors. When transitioning to the Spherical Coordinates, we work in the system of $\\mathbf{e_r},\\mathbf{e_\\theta},\\mathbf{e_\\phi}$ (labelled by subscript $a$).\n",
    "\n",
    "Any vector must have its components rewritten in this basis through the transformation:\n",
    "\n",
    "$$\n",
    "\\mathbf{V} = V^i\\mathbf{e_i} = V^a\\mathbf{e_a}\\\\\n",
    "V^a = V^i\\mathbf{e_i}\\cdot\\mathbf{e_a}\\\\\n",
    "$$\n",
    "\n",
    "Thus, the vector transforms as:\n",
    "\n",
    "$$\n",
    "\\mathbf{V}^{(S)} = \\mathbf{J}\\mathbf{V}^{(C)}\n",
    "$$\n",
    "\n",
    "Where the Jacobian matrix J is given by:\n",
    "\n",
    "$$\n",
    "J_{ai} = \\mathbf{e_i}\\cdot\\mathbf{e_a}\\\\\n",
    "\\mathbf{J} = \\left(\n",
    "\\begin{array}{ccc}\n",
    " \\sin (\\theta ) \\cos (\\phi ) & \\sin (\\theta ) \\sin (\\phi ) & \\cos (\\theta ) \\\\\n",
    " \\cos (\\theta ) \\cos (\\phi ) & \\cos (\\theta ) \\sin (\\phi ) & -\\sin (\\theta ) \\\\\n",
    " -\\sin (\\phi ) & \\cos (\\phi ) & 0 \\\\\n",
    "\\end{array}\n",
    "\\right)\n",
    "$$\n",
    "\n",
    "\n"
   ]
  },
  {
   "cell_type": "code",
   "execution_count": null,
   "metadata": {},
   "outputs": [],
   "source": [
    "e_r = [sp.cos(phi)*sp.sin(th),sp.sin(phi)*sp.sin(th),sp.cos(th)]\n",
    "e_th = [sp.cos(phi)*sp.cos(th),sp.cos(phi)*sp.sin(th),-sp.sin(th)]\n",
    "e_phi = [-sp.sin(phi),sp.cos(phi),0]\n",
    "\n",
    "J = [e_r,e_th,e_ph]"
   ]
  },
  {
   "cell_type": "markdown",
   "metadata": {},
   "source": [
    "## Step : Momentum\n",
    "\n",
    "The momenta transform according to a canonical transformation given by the generating function:\n",
    "\n",
    "$$\n",
    "F = r\\cos\\phi\\sin\\theta p_x + r\\sin\\phi\\sin\\theta p_y + r\\cos\\theta p_z = r\\mathbf{e_r}\\cdot\\mathbf{p^{(C)}}\\\\\n",
    "p_a = \\frac{\\partial F}{\\partial q_a}\n",
    "$$\n",
    "\n",
    "We therefore get the following transformation law:\n",
    "\n",
    "$$\n",
    "p_r = \\mathbf{e_r}\\cdot\\mathbf{p^{(C)}}\\\\\n",
    "p_\\theta = r\\mathbf{e_\\theta}\\cdot\\mathbf{p^{(C)}}\\\\\n",
    "p_\\phi = r\\sin\\theta\\mathbf{e_\\phi}\\cdot\\mathbf{p^{(C)}}\n",
    "$$\n",
    "\n",
    "We can also gather from above that the momentum vector can be rewritten in the spherical polar basis as:\n",
    "\n",
    "$$\n",
    "\\mathbf{p} = p_r \\mathbf{e_r} + \\frac{p_\\theta}{r}\\mathbf{e_\\theta} + \\frac{p_\\phi}{r\\sin\\theta}\\mathbf{e_\\phi}\n",
    "$$\n",
    "\n"
   ]
  },
  {
   "cell_type": "code",
   "execution_count": null,
   "metadata": {},
   "outputs": [],
   "source": [
    "px , py , pz = sp.symbols(\"px py pz\")\n",
    "\n",
    "pr = px*e_r[0] + py*e_r[1] + pz*e_r[2]\n",
    "pth = r*(px*e_th[0] + py*e_th[1] + pz*e_th[2])\n",
    "pphi = r*sp.sin(th)*(px*e_phi[0] + py*e_phi[1] + pz*e_phi[2])"
   ]
  },
  {
   "cell_type": "markdown",
   "metadata": {},
   "source": [
    "## Step : Spins\n",
    "\n",
    "The spins (omitting the subscripts 1,2 for brevity) are standard vectors and transform according to the vector law derived in the first step:\n",
    "\n",
    "$$\n",
    "\\mathbf{S}^{(S)} = \\mathbf{J}\\mathbf{S}^{(C)}\n",
    "$$\n",
    "\n"
   ]
  },
  {
   "cell_type": "code",
   "execution_count": null,
   "metadata": {},
   "outputs": [],
   "source": [
    "S1x , S1y , S1z = sp.symbols(\"S1x S1y S1z\")\n",
    "S2x , S2y , S2z = sp.symbols(\"S2x S2y S2z\")\n",
    "\n",
    "S1 = [S1x , S1y , S1z]\n",
    "S2 = [S2x , S2y , S2z]\n",
    "\n",
    "S1_pol = []\n",
    "S2_pol = []\n",
    "\n",
    "for i in range(len(S1)):\n",
    "    s1i = 0\n",
    "    s2i = 0\n",
    "    for j in range(len(S1)):\n",
    "        s1i += J[i,j]*S1[j]\n",
    "        s2i += J[i,j]*S2[j]\n",
    "    S1_pol.append(s1i)\n",
    "    S2_pol.append(s2i)\n",
    "\n",
    "S1_r , S1_th , S1_phi = S1_pol[0] , S1_pol[1] , S1_pol[2]\n",
    "S2_r , S2_th , S2_phi = S2_pol[0] , S2_pol[1] , S2_pol[2]"
   ]
  },
  {
   "cell_type": "markdown",
   "metadata": {},
   "source": [
    "Additionally, for the propagation of Hamilton's Equations of Motion, we must consider how this transformation maps the algebra of the phase space variables, especially the spins. By construction, the transformation of the spatial coordinates and momenta to spherical does not change the algebra as canonical transformations preserve Poisson Bracket relations. However, for the spins, this does not apply.\n",
    "\n",
    "We begin by introducing the Poisson Bracket algebra for the spins in Cartesian coordinates:\n",
    "\n",
    "$$\n",
    "\\{S_i,S_j\\} = \\epsilon_{ijk}S_k\n",
    "$$\n",
    "\n",
    "Where, $\\epsilon_{ijk}$ is the 3-dimensional Levi-Civita symbol. More generally, for algebras of the form ${V_i,V_j} = f_{ijk}V_k$, the terms $f_{ijk}$ are referred to as structure constants. \n",
    "Thus, we wish to compute the structure constants specifying the algebra for the spins in spherical polar:\n",
    "\n",
    "$$\n",
    "\\{S_a,S_b\\} = J_{ai}J_{bj}\\{S_i,S_j\\}\\\\\n",
    "\\Rightarrow \\{S_a,S_b\\} = \\epsilon_{ijk}J_{ai}J_{bj}S_k\\\\\n",
    "\\Rightarrow \\{S_a,S_b\\} = \\epsilon_{ijk}J_{ai}J_{bj}J^{-1}_{kc}S_c\n",
    "$$\n",
    "\n",
    "Thus, the structure constant:\n",
    "\n",
    "$$\n",
    "\\{S_a,S_b\\} = f_{abc}S_c\\\\\n",
    "f_{abc} = \\epsilon_{ijk}J_{ai}J_{bj}J^{-1}_{kc}\n",
    "$$\n",
    "\n",
    "## The Hamiltonian and Equation of Motion\n",
    "\n",
    "Since the Hamiltonian and the spherical polar transformations do not depend on time, we can trivially state that the Hamiltonian for the spherical polar system can be obtained by substituting the spherical polar expressions for the canonical variables.\n",
    "Having specified the full Poisson Bracket algebra of the new coordinate system, the Hamilton's equations of motion can be written as:\n",
    "\n",
    "$$\n",
    "\\dot{r} = \\frac{\\partial H}{\\partial p_r}\\\\\n",
    "\\dot{\\theta} = \\frac{\\partial H}{\\partial p_\\theta}\\\\\n",
    "\\dot{\\phi} = \\frac{\\partial H}{\\partial p_\\phi}\\\\\n",
    "\\dot{p}_r = -\\frac{\\partial H}{\\partial r}\\\\\n",
    "\\dot{p}_\\theta = -\\frac{\\partial H}{\\partial \\theta}\\\\\n",
    "\\dot{p}_\\phi = -\\frac{\\partial H}{\\partial \\phi}\\\\\n",
    "\\dot{S}_{1,a} = f_{a,b,c}\\frac{\\partial H}{\\partial S_{1,b}}S_{1,c}\\\\\n",
    "\\dot{S}_{2,a} = f_{a,b,c}\\frac{\\partial H}{\\partial S_{2,b}}S_{2,c}\\\\\n",
    "$$"
   ]
  },
  {
   "cell_type": "code",
   "execution_count": null,
   "metadata": {},
   "outputs": [],
   "source": [
    "output = [r,th,phi,pr,pth,pphi,S1_r,S1_th,S1_phi,S2_r,S2_th,S2_phi]\n",
    "spherical_phase_space_from_cart = sp.lambdify([x,y,z,px,py,pz,S1x,S1y,S1z,S2x,S2y,S2z],output)"
   ]
  },
  {
   "cell_type": "markdown",
   "metadata": {},
   "source": [
    "## Prearing Inputs for Hamiltonian Testing\n",
    "\n",
    "In this section, we prepare input spherical polar phase space values from cartesian inputs for the testing of our spherical hamiltonian"
   ]
  },
  {
   "cell_type": "code",
   "execution_count": null,
   "metadata": {},
   "outputs": [],
   "source": [
    "x=2.129681018601393e+01\n",
    "y=0.000000000000000e+00\n",
    "z=0.000000000000000e+00\n",
    "p1=0.000000000000000e+00\n",
    "p2=2.335391115580442e-01\n",
    "p3=-4.235164736271502e-22\n",
    "S1x=4.857667584940312e-03\n",
    "S1y=9.715161660389764e-03\n",
    "S1z=-1.457311842632286e-02\n",
    "S2x=3.673094582185491e-03\n",
    "S2y=-4.591302628615413e-03\n",
    "S2z=5.509696538546906e-03\n",
    "sph_inputs = spherical_phase_space_from_cart(x,y,z,p1,p2,p3,S1x,S1y,S1z,S2x,S2y,S2z)\n",
    "print(sph_inputs)"
   ]
  }
 ],
 "metadata": {
  "kernelspec": {
   "display_name": "Python 3",
   "language": "python",
   "name": "python3"
  },
  "language_info": {
   "codemirror_mode": {
    "name": "ipython",
    "version": 3
   },
   "file_extension": ".py",
   "mimetype": "text/x-python",
   "name": "python",
   "nbconvert_exporter": "python",
   "pygments_lexer": "ipython3",
   "version": "3.7.1"
  }
 },
 "nbformat": 4,
 "nbformat_minor": 2
}
