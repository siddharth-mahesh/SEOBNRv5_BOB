{
 "cells": [
  {
   "cell_type": "markdown",
   "metadata": {},
   "source": [
    "# Tutorial - Converting the Cartesian Phase Space Variables to their Spherical Polar Counterparts for the SEOBNR_v3_Sph routine\n",
    "\n",
    "\n",
    "## Author: Siddharth Mahesh\n",
    "\n",
    "## Introduction:\n",
    "\n",
    "The current implementation of the gravitational wave approximant SEOBNRv3 is in Cartesian Coordinates. Additionally, the inputs for generating a waveform in the LIGO Algorithms Library (LALSuite) require the specification of the initial spin configurations of the binary black holes in Cartesian Coordinates.\n",
    "\n",
    "The next implementation of this approximant SEOBNRv3_Sph intends to perform all computations in a spherical polar phase space. Our problem is to take a set of 12 canonical variables: $x,y,z,p_x,p_y,p_z,S_{1x},S_{1y},S_{1z},S_{2x},S_{2y},S_{2z}$ to the set of canonical variables: $r,\\theta,\\phi,p_r,p_\\theta,p_\\phi,S_{1r},S_{1\\theta},S_{1\\phi},S_{2r},S_{2\\theta},S_{2\\phi}$. define them as such. \n",
    "\n",
    "## Step : Spherical Unit Vectors\n",
    "\n",
    "Originally, there exists a coordinate system $(\\mathbf{e_x},\\mathbf{e_y},\\mathbf{e_z})$ used to define the components of the position, momentum and spin vectors. When transitioning to the Spherical Coordinates, we work in the system of $\\mathbf{n},$"
   ]
  }
 ],
 "metadata": {
  "kernelspec": {
   "display_name": "Python 3",
   "language": "python",
   "name": "python3"
  },
  "language_info": {
   "codemirror_mode": {
    "name": "ipython",
    "version": 3
   },
   "file_extension": ".py",
   "mimetype": "text/x-python",
   "name": "python",
   "nbconvert_exporter": "python",
   "pygments_lexer": "ipython3",
   "version": "3.7.1"
  }
 },
 "nbformat": 4,
 "nbformat_minor": 2
}
