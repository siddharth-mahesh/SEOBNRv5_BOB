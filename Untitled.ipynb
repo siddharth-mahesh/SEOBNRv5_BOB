{
 "cells": [
  {
   "cell_type": "markdown",
   "id": "66b644cb",
   "metadata": {},
   "source": [
    "# Tutorial: Generating Optimized Pade Approximants\n",
    "\n",
    "In this tutorial we will discuss how to generate the Pade Approximant corresponding to a mathematical function.\n",
    "\n",
    "## What is Pade Approximation and why should I care?\n",
    "\n",
    "A Pade approximation is a technique wherein the series approximation of a mathematical function, such as a Taylor series,  is rewritten as a ratio of polynomials. The individual polynomials are of lower order than the series and accelerates the convergence of the series approximation making them highly accurate closer to the radius of convergence, and, in some cases, extended the radius of convergence. The resulting rational function is called the Pade Approximant.\n",
    "\n",
    "Since the technique involves rewriting a series approximation as a different series, it can also be called Pade resummation.\n",
    "\n",
    "In gravitational wave physics, Pade resummation of Post Newtonian potentials has been crucial for the development of the Effective-One-Body(EOB) formalism. In early EOB models, Pade resummation of the Schwarzschild-like potentials have been crucial in introducing strong-field artifacts such as the innermost stable circular orbit to the EOB dynamics. In later EOB models, the metric potentials include a higher order expansion term whose coefficient is calibrated to numerical relativity results. Pade resummation of the subsequent potential have thus allowed for more accurate NR calibrated model.\n",
    "\n",
    "In numerical methods, Pade approximants have been used to calculate the optimal weights for a finite difference stencil. \n",
    "\n",
    "## How to generate Pade Approximants\n",
    "\n",
    "In this tutorial, we will "
   ]
  },
  {
   "cell_type": "code",
   "execution_count": 1,
   "id": "131ff115",
   "metadata": {},
   "outputs": [
    {
     "ename": "FileNotFoundError",
     "evalue": "[Errno 2] No such file or directory: '-f'",
     "output_type": "error",
     "traceback": [
      "\u001b[1;31m---------------------------------------------------------------------------\u001b[0m",
      "\u001b[1;31mFileNotFoundError\u001b[0m                         Traceback (most recent call last)",
      "Cell \u001b[1;32mIn[1], line 1\u001b[0m\n\u001b[1;32m----> 1\u001b[0m \u001b[38;5;28;01mimport\u001b[39;00m \u001b[38;5;21;01mnrpy\u001b[39;00m\u001b[38;5;21;01m.\u001b[39;00m\u001b[38;5;21;01mexamples\u001b[39;00m\u001b[38;5;21;01m.\u001b[39;00m\u001b[38;5;21;01mwave_equation_cartesian\u001b[39;00m\n",
      "File \u001b[1;32m~\\Documents\\GitHub\\SEOBNRv5_BOB\\nrpy.py:65\u001b[0m\n\u001b[0;32m     56\u001b[0m \u001b[38;5;66;03m#    Run with parameter file & optional list of parameter overrides if NRPy+ is run via\u001b[39;00m\n\u001b[0;32m     57\u001b[0m \u001b[38;5;66;03m#   `python nrpy.py [PARAMETER FILE] [(optional) PARAMETER OVERRIDES]`:\u001b[39;00m\n\u001b[0;32m     58\u001b[0m \u001b[38;5;66;03m# Note that\u001b[39;00m\n\u001b[0;32m     59\u001b[0m \u001b[38;5;66;03m# 1) parameters set in parameter file override parameter defaults, and\u001b[39;00m\n\u001b[0;32m     60\u001b[0m \u001b[38;5;66;03m# 2) parameters set at command line override both parameter defaults\u001b[39;00m\n\u001b[0;32m     61\u001b[0m \u001b[38;5;66;03m#    *and* parameter settings in parameter file\u001b[39;00m\n\u001b[0;32m     62\u001b[0m \u001b[38;5;28;01melif\u001b[39;00m(\u001b[38;5;28mlen\u001b[39m(sys\u001b[38;5;241m.\u001b[39margv) \u001b[38;5;241m>\u001b[39m\u001b[38;5;241m=\u001b[39m \u001b[38;5;241m2\u001b[39m):\n\u001b[0;32m     63\u001b[0m     \u001b[38;5;66;03m# When not in an interactive mode, the NRPy::MainModule parameter must be set,\u001b[39;00m\n\u001b[0;32m     64\u001b[0m     \u001b[38;5;66;03m#   either in the param file (preferred!) or as a command line argument.\u001b[39;00m\n\u001b[1;32m---> 65\u001b[0m     \u001b[38;5;28;01mwith\u001b[39;00m \u001b[38;5;28mopen\u001b[39m(sys\u001b[38;5;241m.\u001b[39margv[\u001b[38;5;241m1\u001b[39m], \u001b[38;5;124m\"\u001b[39m\u001b[38;5;124mr\u001b[39m\u001b[38;5;124m\"\u001b[39m) \u001b[38;5;28;01mas\u001b[39;00m file:\n\u001b[0;32m     66\u001b[0m         \u001b[38;5;28;01mfor\u001b[39;00m line \u001b[38;5;129;01min\u001b[39;00m file:\n\u001b[0;32m     67\u001b[0m             par\u001b[38;5;241m.\u001b[39mset_paramsvals_value(line, sys\u001b[38;5;241m.\u001b[39margv[\u001b[38;5;241m1\u001b[39m], FindMainModuleMode\u001b[38;5;241m=\u001b[39m\u001b[38;5;28;01mTrue\u001b[39;00m)\n",
      "\u001b[1;31mFileNotFoundError\u001b[0m: [Errno 2] No such file or directory: '-f'"
     ]
    }
   ],
   "source": []
  },
  {
   "cell_type": "code",
   "execution_count": null,
   "id": "73c7ee74",
   "metadata": {},
   "outputs": [],
   "source": []
  }
 ],
 "metadata": {
  "kernelspec": {
   "display_name": "Python 3 (ipykernel)",
   "language": "python",
   "name": "python3"
  },
  "language_info": {
   "codemirror_mode": {
    "name": "ipython",
    "version": 3
   },
   "file_extension": ".py",
   "mimetype": "text/x-python",
   "name": "python",
   "nbconvert_exporter": "python",
   "pygments_lexer": "ipython3",
   "version": "3.11.5"
  }
 },
 "nbformat": 4,
 "nbformat_minor": 5
}
