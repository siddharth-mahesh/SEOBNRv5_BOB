{
 "cells": [
  {
   "cell_type": "markdown",
   "id": "66b644cb",
   "metadata": {},
   "source": [
    "# Tutorial: Generating Optimized Pade Approximants\n",
    "\n",
    "In this tutorial we will discuss how to generate the Pade Approximant corresponding to a mathematical function.\n",
    "\n",
    "## What is Pade Approximation and why should I care?\n",
    "\n",
    "A Pade approximation is a technique wherein the series approximation of a mathematical function, such as a Taylor series,  is rewritten as a ratio of polynomials. The individual polynomials are of lower order than the series and accelerates the convergence of the series approximation making them highly accurate closer to the radius of convergence, and, in some cases, extended the radius of convergence. The resulting rational function is called the Pade Approximant.\n",
    "\n",
    "Since the technique involves rewriting a series approximation as a different series, it can also be called Pade resummation.\n",
    "\n",
    "In gravitational wave physics, Pade resummation of Post Newtonian potentials has been crucial for the development of the Effective-One-Body(EOB) formalism. In early EOB models, Pade resummation of the Schwarzschild-like potentials have been crucial in introducing strong-field artifacts such as the innermost stable circular orbit to the EOB dynamics. In later EOB models, the metric potentials include a higher order expansion term whose coefficient is calibrated to numerical relativity results. Pade resummation of the subsequent potential have thus allowed for more accurate NR calibrated model.\n",
    "\n",
    "In numerical methods, Pade approximants have been used to calculate the optimal weights for a finite difference stencil. \n",
    "\n",
    "## How to generate Pade Approximants\n",
    "\n",
    "In this tutorial, we will "
   ]
  },
  {
   "cell_type": "code",
   "execution_count": null,
   "id": "131ff115",
   "metadata": {},
   "outputs": [],
   "source": []
  }
 ],
 "metadata": {
  "kernelspec": {
   "display_name": "Python 3",
   "language": "python",
   "name": "python3"
  },
  "language_info": {
   "codemirror_mode": {
    "name": "ipython",
    "version": 3
   },
   "file_extension": ".py",
   "mimetype": "text/x-python",
   "name": "python",
   "nbconvert_exporter": "python",
   "pygments_lexer": "ipython3",
   "version": "3.8.8"
  }
 },
 "nbformat": 4,
 "nbformat_minor": 5
}
