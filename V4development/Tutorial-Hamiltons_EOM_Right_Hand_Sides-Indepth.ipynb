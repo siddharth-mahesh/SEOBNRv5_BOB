{
 "cells": [
  {
   "cell_type": "markdown",
   "metadata": {
    "tags": []
   },
   "source": [
    "# Tutorial - Right-Hand-Side's for Hamilton's Equation of Motion for SEOBNR Models\n",
    "\n",
    "## Author: Siddharth Mahesh\n",
    "\n",
    "## This module documents the equations of motion that are integrated to give the dynamics of the reduced spinning effective one-body model as numerically implemented in LALSuite's SEBNRv4P gravitational waveform approximant.\n",
    "\n",
    "\n",
    "## Hamilton's EOMs for precessing SEOBNR implementations\n",
    "\n",
    "The Hamilton's EOMs for a general SEOBNR implementation is given in https://arxiv.org/pdf/0912.3466.pdf as a set of derivatives for the positions, momenta and spins.\n",
    "We begin by stating the positional derivatives as\n",
    "\n",
    "$$\n",
    "\\frac{dX^i}{dt} = T^i_j \\frac{\\partial \\mathcal{H}_\\rm{real}}{\\partial P^*_j}\n",
    "$$\n",
    "\n",
    "where $P^*$ represent the tortoise momenta and the matrix $\\mathbb{T}$ represents the transformation matrix from the tortoise momentum to the conjugate momentum. The momentum derivatives, on the other hand, are given as\n",
    "\n",
    "$$\n",
    "\\frac{dP^*_i}{dt} = -T_i^j\\frac{\\partial \\mathcal{H}_\\rm{real}}{\\partial X^j} + \\frac{1}{\\Omega L }\\frac{dE}{dt}P^*_j + P^*_l\\left(T^{-1}\\right)_k^l\\frac{\\partial T_i^k}{\\partial X^j}T_m^j\\frac{\\partial \\mathcal{H}_\\rm{real}}{\\partial P^*_m} \n",
    "$$\n",
    "\n",
    "where $\\Omega$ is the rotational frequency, $L$ is the magnitude of the angular momentum and $\\frac{dE}{dt}$ is the energy flux due ot gravitational waves. Since we already have dedicate functions to compute the Hamiltonian derivates and the fluxes, in this notebook we will document the terms unique to the RHS computations and call the dedicated functions as necessary.\n",
    "\n",
    "Finally, the spin derivatives are given as (where $a$ labels the individual spin vectors so $a \\in \\{1,2\\}$)\n",
    "\n",
    "$$\n",
    "\\dot{\\bf{S}}\\bf{_a} = \\{\\bf{S_a},\\mathcal{H}\\} = \\frac{\\partial \\mathcal{H}}{\\partial \\bf{S_a}}\\times\\bf{S_a}\n",
    "$$\n",
    "\n",
    "Additionally, it is important to note that the momenta $\\bf{p^{,*}}$ are normalized by the reduced mass $\\mu$ while the rest of the quantities are normalized by the total mass $M$. Thus, in the position and momentum time derivaives, the RHS is multiplied by a factor of $\\frac{1}{\\eta}$ to ensure appropriate normalization.\n",
    "\n",
    "In this noteboook, we will build the right hand side terms to implement the SEOBNRv4P approximant.\n",
    "\n",
    "# Step : Create output directory for the module\n",
    "\n",
    "We begin by creating the output directory for the right hand sides( if it does not already exist )"
   ]
  },
  {
   "cell_type": "code",
   "execution_count": 1,
   "metadata": {},
   "outputs": [],
   "source": [
    "import sys,os#TylerK: Add sys to get cmdline_helper from NRPy top directory; remove this line and next when debugged\n",
    "sys.path.append('../')\n",
    "\n",
    "import cmdline_helper as cmd     # NRPy+: Multi-platform Python command-line interface\n",
    "\n",
    "# Create output directory\n",
    "Ccodesdir = \"RightHandSides\"\n",
    "# Create output directory in case it does not exist\n",
    "cmd.mkdir(Ccodesdir)"
   ]
  },
  {
   "cell_type": "markdown",
   "metadata": {},
   "source": [
    "<a id='sdot'></a>\n",
    "# Step : The Spin Derivatives\n",
    "\n",
    "The simplest derivatives are the derivatives of the spin,\n",
    "\n",
    "\\begin{equation*}\n",
    "    \\frac{d \\bf{ S_{1} }}{d t} = \\frac{\\partial \\mathcal{H}}{\\partial \\bf{S_{1}}} \\times \\bf{S_{1}},\\\\\n",
    "    \\frac{d \\bf{ S_{2} }}{d t} = \\frac{\\partial \\mathcal{H}}{\\partial \\bf{S_{2}}} \\times \\bf{S_{1}}.\n",
    "\\end{equation*}\n",
    "\n",
    "The hamiltonian derivatives, $\\frac{\\partial \\mathcal{H}}{\\partial \\bf{S_{1}}}$ and $\\frac{\\partial \\mathcal{H}}{\\partial \\bf{S_{2}}}$, are given [here](#dhdsn) and the spin vectors, $\\bf{S_{1}}$ and $\\bf{S_{2}}$, are primitive variables."
   ]
  },
  {
   "cell_type": "code",
   "execution_count": 2,
   "metadata": {},
   "outputs": [
    {
     "name": "stdout",
     "output_type": "stream",
     "text": [
      "Overwriting RightHandSides/v4P_RHS_on_top.txt\n"
     ]
    }
   ],
   "source": [
    "%%writefile $Ccodesdir/v4P_RHS_on_top.txt\n",
    "S2z_time_deriv = S2x_hamiltonian_deriv*S2y - S2y_hamiltonian_deriv*S2x\n",
    "S2y_time_deriv = S2z_hamiltonian_deriv*S2x - S2x_hamiltonian_deriv*S2y\n",
    "S2x_time_deriv = S2y_hamiltonian_deriv*S2z - S2z_hamiltonian_deriv*S2y\n",
    "S1z_time_deriv = S1x_hamiltonian_deriv*S1y - S1y_hamiltonian_deriv*S1x\n",
    "S1y_time_deriv = S1z_hamiltonian_deriv*S1x - S1x_hamiltonian_deriv*S1y\n",
    "S1x_time_deriv = S1y_hamiltonian_deriv*S1z - S1z_hamiltonian_deriv*S1y"
   ]
  },
  {
   "cell_type": "markdown",
   "metadata": {},
   "source": [
    "<a id='pdot'></a>\n",
    "# Step : The Momentum Derivatives\n",
    "\n",
    "The momentum derivatives can be split into three terms. We note that we are finding the derivative of the tortoise momentum. \n",
    "\n",
    "\\begin{equation*}\n",
    "    \\frac{ d  p^{*}_i }{ d t } = \\underbrace{ T_{i}^{j}\\left( -\\frac{ \\partial \\mathcal{H} }{ \\partial x^{j} }  \\right)_{p} }_{ \\rm{pdotterm1} } + \\underbrace{ \\left( -\\frac{ \\partial p^{*}_{i} }{ \\partial x^{j} } \\frac{d x^j}{d t}  \\right) }_{ \\rm{pdotterm2} } + \\underbrace{ \\frac{1}{\\Omega |\\bf{L}|}\\frac{d \\rm E}{d t} p^{*}_{i} }_{ \\rm{pdotterm3} }.\n",
    "\\end{equation*}\n",
    "\n",
    "The individual terms are given as follows: $\\rm{pdotterm1}$ is given [here](#pdotterm1), $\\rm{pdotterm2}$ is given [here](#pdotterm2) and $\\rm{pdotterm3}$ is given [here](#pdotterm3)."
   ]
  },
  {
   "cell_type": "code",
   "execution_count": 3,
   "metadata": {},
   "outputs": [
    {
     "name": "stdout",
     "output_type": "stream",
     "text": [
      "Appending to RightHandSides/v4P_RHS_on_top.txt\n"
     ]
    }
   ],
   "source": [
    "%%writefile -a $Ccodesdir/v4P_RHS_on_top.txt\n",
    "p1star_time_deriv = pdotterm1_1 + pdotterm2_1 + pdotterm3_1\n",
    "p2star_time_deriv = pdotterm1_2 + pdotterm2_2 + pdotterm3_2\n",
    "p3star_time_deriv = pdotterm1_3 + pdotterm2_3 + pdotterm3_3"
   ]
  },
  {
   "cell_type": "markdown",
   "metadata": {},
   "source": [
    "<a id='pdotterm1'></a>\n",
    "## Step : Momentum Derivative Term 1\n",
    "\n",
    "The first term of the tortoise momentum derivative relates to the tortoise transformed time derivative of the coordinate momentum derivative. This can be written as,\n",
    "\n",
    "\\begin{equation*}\n",
    "    \\rm{pdotterm1} = - T_{i}^{j} \\left(\\frac{ \\partial \\mathcal{H} }{ \\partial x^{j} } \\right)_{p}.\n",
    "\\end{equation*}\n",
    "\n",
    "The tortoise matrix, $T_{i}^{j}$ is given [here](#T). The subscript $p$ indicates that the spatial derivative is taken with a constant coordinate momentum and is defined [here](#dhdx)."
   ]
  },
  {
   "cell_type": "code",
   "execution_count": 4,
   "metadata": {},
   "outputs": [
    {
     "name": "stdout",
     "output_type": "stream",
     "text": [
      "Appending to RightHandSides/v4P_RHS_on_top.txt\n"
     ]
    }
   ],
   "source": [
    "%%writefile -a $Ccodesdir/v4P_RHS_on_top.txt\n",
    "pdotterm1_1 = -T11*x_hamiltonian_deriv - T12*y_hamiltonian_deriv - T13*z_hamiltonian_deriv\n",
    "pdotterm1_2 = -T21*x_hamiltonian_deriv - T22*y_hamiltonian_deriv - T23*z_hamiltonian_deriv\n",
    "pdotterm1_3 = -T31*x_hamiltonian_deriv - T32*y_hamiltonian_deriv - T33*z_hamiltonian_deriv"
   ]
  },
  {
   "cell_type": "markdown",
   "metadata": {},
   "source": [
    "<a id='pdotterm2'></a>\n",
    "\n",
    "## Step : Mometum Derivative Term 2\n",
    "\n",
    "The second term of the tortoise momentum derivative relates to the time derivative of the tortoise transformation. This can be written as,\n",
    "\n",
    "\\begin{equation*}\n",
    "    \\rm{pdotterm2} = \\frac{\\partial p^{*}_{i}}{\\partial x^j} \\frac{d x^j}{d t}.\n",
    "\\end{equation*}\n",
    "\n",
    "The partial derivative of the tortoise momentum, $\\frac{\\partial p^{*}_{i}}{\\partial x^j}$ is given [here](#dpdx), the tortoise matrix, $T_{k}^{j}$ is given [here](#T) and the time derivatives of the postions, $\\frac{dx^j}{dt}$ are given [here](#xdot)"
   ]
  },
  {
   "cell_type": "code",
   "execution_count": 5,
   "metadata": {},
   "outputs": [
    {
     "name": "stdout",
     "output_type": "stream",
     "text": [
      "Appending to RightHandSides/v4P_RHS_on_top.txt\n"
     ]
    }
   ],
   "source": [
    "%%writefile -a $Ccodesdir/v4P_RHS_on_top.txt\n",
    "pdotterm2_1 = dpdx_11*x_time_deriv + dpdx_12*y_time_deriv + dpdx_13*z_time_deriv\n",
    "pdotterm2_2 = dpdx_21*x_time_deriv + dpdx_22*y_time_deriv + dpdx_23*z_time_deriv\n",
    "pdotterm2_3 = dpdx_31*x_time_deriv + dpdx_32*y_time_deriv + dpdx_33*z_time_deriv"
   ]
  },
  {
   "cell_type": "markdown",
   "metadata": {},
   "source": [
    "<a id='dpdx'></a>\n",
    "### The Momentum Spatial Derivative $\\frac{\\partial p^{*}_{i}}{\\partial x^{j}}$\n",
    "\n",
    "The spatial derivative of the tortoise momentum can be rewritten as (taking into account that the spatial derivative of the coordinate momentum vanishes)\n",
    "\n",
    "\\begin{equation*}\n",
    "    \\frac{ \\partial p^{*}_{i}}{\\partial x^j} = \\frac{\\partial \\left(T^{k}_{i}\\right)}{\\partial x^j} p_{k}\n",
    "\\end{equation*}\n",
    "\n",
    "The term $\\frac{\\partial T^{k}_{i}}{\\partial x^{j}}$ is given [here](#dTdx) and the coordinate momentum $\\bf{p}$ is given [here](#pcoord)"
   ]
  },
  {
   "cell_type": "code",
   "execution_count": 6,
   "metadata": {},
   "outputs": [
    {
     "name": "stdout",
     "output_type": "stream",
     "text": [
      "Appending to RightHandSides/v4P_RHS_on_top.txt\n"
     ]
    }
   ],
   "source": [
    "%%writefile -a $Ccodesdir/v4P_RHS_on_top.txt\n",
    "dpdx_33 = T13_xderiv3*p1 + T23_xderiv3*p2 + T33_xderiv3*p3\n",
    "dpdx_32 = T13_xderiv2*p1 + T23_xderiv2*p2 + T33_xderiv2*p3\n",
    "dpdx_31 = T13_xderiv1*p1 + T23_xderiv1*p2 + T33_xderiv1*p3\n",
    "dpdx_23 = T12_xderiv3*p1 + T22_xderiv3*p2 + T32_xderiv3*p3\n",
    "dpdx_22 = T12_xderiv2*p1 + T22_xderiv2*p2 + T32_xderiv2*p3\n",
    "dpdx_21 = T12_xderiv1*p1 + T22_xderiv1*p2 + T32_xderiv1*p3\n",
    "dpdx_13 = T11_xderiv3*p1 + T21_xderiv3*p2 + T31_xderiv3*p3\n",
    "dpdx_12 = T11_xderiv2*p1 + T21_xderiv2*p2 + T31_xderiv2*p3\n",
    "dpdx_11 = T11_xderiv1*p1 + T21_xderiv1*p2 + T31_xderiv1*p3"
   ]
  },
  {
   "cell_type": "markdown",
   "metadata": {},
   "source": [
    "<a id='pdotterm3'></a>\n",
    "## Step : Momentum Derivative Term 3\n",
    "\n",
    "The third term of the tortoise momentum derivative provides the change in the momentum due to the loss of energy and angular momentum in the form of gravitational radiation. This can be written as,\n",
    "\n",
    "\\begin{equation*}\n",
    "    \\rm{pdotterm3} = \\frac{1}{\\eta\\Omega |\\bf{L}|} \\frac{dE}{dt} \\bf{p^{*}}.\n",
    "\\end{equation*}\n",
    "\n",
    "The inverse term, $\\frac{1}{\\Omega |\\bf{L}|}$, is given [here](#invomegalnorm). The flux term, $\\frac{dE}{dt}$ is given [here](#flux). The momentum $\\bf{p^{*}}$ is a primitive variable. The symmetric mass ratio, $\\eta$ , is given [here](#eta)."
   ]
  },
  {
   "cell_type": "code",
   "execution_count": 7,
   "metadata": {},
   "outputs": [
    {
     "name": "stdout",
     "output_type": "stream",
     "text": [
      "Appending to RightHandSides/v4P_RHS_on_top.txt\n"
     ]
    }
   ],
   "source": [
    "%%writefile -a $Ccodesdir/v4P_RHS_on_top.txt\n",
    "pdotterm3_1 = invomegalnorm*dedt*p1star\n",
    "pdotterm3_2 = invomegalnorm*dedt*p2star\n",
    "pdotterm3_3 = invomegalnorm*dedt*p3star"
   ]
  },
  {
   "cell_type": "markdown",
   "metadata": {},
   "source": [
    "<a id='invomegalnorm'></a>\n",
    "### Step : The Inverse Term $\\frac{1}{\\Omega|\\bf{L}|}$\n",
    "\n",
    "The inverse term is given as,\n",
    "\n",
    "\\begin{equation*}\n",
    "    \\rm{inv}\\Omega{|\\bf{L}|} = \\frac{ 1 }{ \\Omega |\\bf{L}| }\n",
    "\\end{equation*}\n",
    "\n",
    "The angular momentum vector $\\bf{L}$ and its magnitude $|\\bf{L}|$ are given [here](#lnorm). The angular frequency $\\Omega$ is given [here](#omega)."
   ]
  },
  {
   "cell_type": "code",
   "execution_count": 8,
   "metadata": {},
   "outputs": [
    {
     "name": "stdout",
     "output_type": "stream",
     "text": [
      "Appending to RightHandSides/v4P_RHS_on_top.txt\n"
     ]
    }
   ],
   "source": [
    "%%writefile -a $Ccodesdir/v4P_RHS_on_top.txt\n",
    "invomegalnorm = 1/(omega*Lnorm)"
   ]
  },
  {
   "cell_type": "markdown",
   "metadata": {},
   "source": [
    "<a id='flux'></a>\n",
    "\n",
    "### Step : The flux $\\frac{dE}{dt}$\n",
    "\n",
    "The flux is given by the function defined in the flux notebook. It's inputs are the input parameters, the primitive variables, the angular frequency $\\Omega$ given [here](#omega), and the Hamiltonian $\\mathcal{H}$ given [here](#hreal)"
   ]
  },
  {
   "cell_type": "code",
   "execution_count": 9,
   "metadata": {},
   "outputs": [
    {
     "name": "stdout",
     "output_type": "stream",
     "text": [
      "Appending to RightHandSides/v4P_RHS_on_top.txt\n"
     ]
    }
   ],
   "source": [
    "%%writefile -a $Ccodesdir/v4P_RHS_on_top.txt\n",
    "dedt = v4P_compute_flux(m1,m2,tortoise,x,y,z,p1star,p2star,p3star,S1x,S1y,S1z,S2x,S2y,S2z,omega,hamiltonian,1.)/eta"
   ]
  },
  {
   "cell_type": "markdown",
   "metadata": {},
   "source": [
    "<a id='omega'></a>\n",
    "#### Step : The Angular Frequency $\\omega$\n",
    "\n",
    "The angular frequency is given by,\n",
    "\n",
    "\\begin{equation*}\n",
    "    \\Omega = \\left|{\\bf{x}} \\times \\frac{d \\bf{x}}{d t}\\right|\\frac{1}{r^2}\n",
    "\\end{equation*}\n",
    "\n",
    "The positions $\\bf{x}$ are primitive variables. The time derivatives $\\frac{d \\bf{x}}{dt}$ are given [here](#xdot). The inverse square of the radial separation is given [here](#ru)"
   ]
  },
  {
   "cell_type": "code",
   "execution_count": 10,
   "metadata": {},
   "outputs": [
    {
     "name": "stdout",
     "output_type": "stream",
     "text": [
      "Appending to RightHandSides/v4P_RHS_on_top.txt\n"
     ]
    }
   ],
   "source": [
    "%%writefile -a $Ccodesdir/v4P_RHS_on_top.txt\n",
    "omega = sp.sqrt(xcrossdx1*xcrossdx1 + xcrossdx2*xcrossdx2 + xcrossdx3*xcrossdx3)*u2\n",
    "xcrossdx3 = x*y_time_deriv - y*x_time_deriv\n",
    "xcrossdx2 = z*x_time_deriv - x*z_time_deriv\n",
    "xcrossdx1 = y*z_time_deriv - z*y_time_deriv"
   ]
  },
  {
   "cell_type": "markdown",
   "metadata": {},
   "source": [
    "<a id='lnorm'></a>\n",
    "\n",
    "#### Step : The Angular Momentum  $\\bf{L}$\n",
    "\n",
    "The angular momentum vector is defined as\n",
    "\n",
    "\\begin{equation*}\n",
    "    \\bf{L} = \\bf{x}\\times\\bf{p^{*}}\n",
    "\\end{equation*}\n",
    "\n",
    "The position and momenta are primitive variables."
   ]
  },
  {
   "cell_type": "code",
   "execution_count": 11,
   "metadata": {},
   "outputs": [
    {
     "name": "stdout",
     "output_type": "stream",
     "text": [
      "Appending to RightHandSides/v4P_RHS_on_top.txt\n"
     ]
    }
   ],
   "source": [
    "%%writefile -a $Ccodesdir/v4P_RHS_on_top.txt\n",
    "Lnorm = sp.sqrt(L1*L1 + L2*L2 + L3*L3)\n",
    "L3 = x*p2star - y*p1star\n",
    "L2 = z*p1star - x*p3star\n",
    "L1 = y*p3star - z*p2star"
   ]
  },
  {
   "cell_type": "markdown",
   "metadata": {},
   "source": [
    "<a id='hreal'></a>\n",
    "#### Step : The Hamiltonian $\\mathcal{H}$\n",
    "\n",
    "The Hamiltonian is given by the function defined in the Hamiltonian notebook. It takes as input the input parameters and the primitive variables."
   ]
  },
  {
   "cell_type": "code",
   "execution_count": 12,
   "metadata": {},
   "outputs": [
    {
     "name": "stdout",
     "output_type": "stream",
     "text": [
      "Appending to RightHandSides/v4P_RHS_on_top.txt\n"
     ]
    }
   ],
   "source": [
    "%%writefile -a $Ccodesdir/v4P_RHS_on_top.txt\n",
    "hamiltonian = v4P_compute_Hamiltonian(m1,m2,tortoise,x,y,z,p1star,p2star,p3star,S1x,S1y,S1z,S2x,S2y,S2z)"
   ]
  },
  {
   "cell_type": "markdown",
   "metadata": {},
   "source": [
    "<a id='xdot'></a>\n",
    "# Step : The Spatial Derivatives\n",
    "\n",
    "The spatial derivatives are given simply by the tortoise transformation\n",
    "\n",
    "\\begin{equation*}\n",
    "    \\frac{d x^i}{dt} = T^{i}_{j} \\frac{ \\partial \\mathcal{H}}{ \\partial p^{*}_{j}}.\n",
    "\\end{equation*}\n",
    "\n",
    "The tortoise matrix, $T^{i}_{j}$ is given [here](#T) and the momentum derivatives of the Hamiltonian are given [here](#dhdp)."
   ]
  },
  {
   "cell_type": "code",
   "execution_count": 13,
   "metadata": {},
   "outputs": [
    {
     "name": "stdout",
     "output_type": "stream",
     "text": [
      "Appending to RightHandSides/v4P_RHS_on_top.txt\n"
     ]
    }
   ],
   "source": [
    "%%writefile -a $Ccodesdir/v4P_RHS_on_top.txt\n",
    "x_time_deriv = T11*p1star_hamiltonian_deriv + T12*p2star_hamiltonian_deriv + T13*p3star_hamiltonian_deriv\n",
    "y_time_deriv = T21*p1star_hamiltonian_deriv + T22*p2star_hamiltonian_deriv + T23*p3star_hamiltonian_deriv\n",
    "z_time_deriv = T31*p1star_hamiltonian_deriv + T32*p2star_hamiltonian_deriv + T33*p3star_hamiltonian_deriv"
   ]
  },
  {
   "cell_type": "markdown",
   "metadata": {},
   "source": [
    "<a id='dh'></a>\n",
    "# Step : The Hamiltonian Derivatives\n",
    "\n",
    "The derivatives of the Hamiltonian with respect to the primitive variables are generated in the Hamiltonian First Derivatives notebook. However, some care is to be taken with the tortoise parameter $\\tau$ (Not to be confused with the tortoise term $\\xi$).\n",
    "The tortoise parameter $\\tau$ can take two values, $\\tau \\in \\{1,2\\}$. Setting $\\tau = 1$ and the tortoise momentum $\\bf{p^{*}}$ as the input momentum ensures that the tortoise momentum is appropriately inverse transformed as the coordinate momentum. On the other hand, setting $\\tau = 2$ and the coordinate momentum $\\bf{p}$ as the input momentum ensures that the coordinate momentum is left untransformed.\n",
    "This is important as, in the momentum derivative, it is important to differentiate the Hamiltonian with respect to $\\bf{p}$. Thus, only in this case, the tortoise of 2 is chosen."
   ]
  },
  {
   "cell_type": "markdown",
   "metadata": {},
   "source": [
    "<a id='dhdsn'> </a>\n",
    "## Step : Derivatives w.r.t Spin $\\frac{\\partial \\mathcal{H}}{\\partial \\bf{S_{a}}}$"
   ]
  },
  {
   "cell_type": "code",
   "execution_count": 14,
   "metadata": {},
   "outputs": [
    {
     "name": "stdout",
     "output_type": "stream",
     "text": [
      "Appending to RightHandSides/v4P_RHS_on_top.txt\n"
     ]
    }
   ],
   "source": [
    "%%writefile -a $Ccodesdir/v4P_RHS_on_top.txt\n",
    "S2z_hamiltonian_deriv = ham_S2z_deriv(m1,m2,tortoise,x,y,z,p1star,p2star,p3star,S1x,S1y,S1z,S2x,S2y,S2z)\n",
    "S2y_hamiltonian_deriv = ham_S2y_deriv(m1,m2,tortoise,x,y,z,p1star,p2star,p3star,S1x,S1y,S1z,S2x,S2y,S2z)\n",
    "S2x_hamiltonian_deriv = ham_S2x_deriv(m1,m2,tortoise,x,y,z,p1star,p2star,p3star,S1x,S1y,S1z,S2x,S2y,S2z)\n",
    "S1z_hamiltonian_deriv = ham_S1z_deriv(m1,m2,tortoise,x,y,z,p1star,p2star,p3star,S1x,S1y,S1z,S2x,S2y,S2z)\n",
    "S1y_hamiltonian_deriv = ham_S1y_deriv(m1,m2,tortoise,x,y,z,p1star,p2star,p3star,S1x,S1y,S1z,S2x,S2y,S2z)\n",
    "S1x_hamiltonian_deriv = ham_S1x_deriv(m1,m2,tortoise,x,y,z,p1star,p2star,p3star,S1x,S1y,S1z,S2x,S2y,S2z)"
   ]
  },
  {
   "cell_type": "markdown",
   "metadata": {},
   "source": [
    "<a id='dhdp'></a>\n",
    "## Step : Derivatives w.r.t Momentum $\\frac{\\partial \\mathcal{H}}{\\partial \\bf{p^{*}}}$"
   ]
  },
  {
   "cell_type": "code",
   "execution_count": 15,
   "metadata": {},
   "outputs": [
    {
     "name": "stdout",
     "output_type": "stream",
     "text": [
      "Appending to RightHandSides/v4P_RHS_on_top.txt\n"
     ]
    }
   ],
   "source": [
    "%%writefile -a $Ccodesdir/v4P_RHS_on_top.txt\n",
    "p3star_hamiltonian_deriv = ham_p3_deriv(m1,m2,tortoise,x,y,z,p1star,p2star,p3star,S1x,S1y,S1z,S2x,S2y,S2z)/eta\n",
    "p2star_hamiltonian_deriv = ham_p2_deriv(m1,m2,tortoise,x,y,z,p1star,p2star,p3star,S1x,S1y,S1z,S2x,S2y,S2z)/eta\n",
    "p1star_hamiltonian_deriv = ham_p1_deriv(m1,m2,tortoise,x,y,z,p1star,p2star,p3star,S1x,S1y,S1z,S2x,S2y,S2z)/eta"
   ]
  },
  {
   "cell_type": "markdown",
   "metadata": {},
   "source": [
    "<a id='dhdx'></a>\n",
    "## Step : Derivatives w.r.t Position $\\frac{\\partial \\mathcal{H}}{\\partial \\bf{x}}$"
   ]
  },
  {
   "cell_type": "code",
   "execution_count": 16,
   "metadata": {},
   "outputs": [
    {
     "name": "stdout",
     "output_type": "stream",
     "text": [
      "Appending to RightHandSides/v4P_RHS_on_top.txt\n"
     ]
    }
   ],
   "source": [
    "%%writefile -a $Ccodesdir/v4P_RHS_on_top.txt\n",
    "z_hamiltonian_deriv = ham_z_deriv(m1,m2,2,x,y,z,p1,p2,p3,S1x,S1y,S1z,S2x,S2y,S2z)/eta\n",
    "y_hamiltonian_deriv = ham_y_deriv(m1,m2,2,x,y,z,p1,p2,p3,S1x,S1y,S1z,S2x,S2y,S2z)/eta\n",
    "x_hamiltonian_deriv = ham_x_deriv(m1,m2,2,x,y,z,p1,p2,p3,S1x,S1y,S1z,S2x,S2y,S2z)/eta"
   ]
  },
  {
   "cell_type": "markdown",
   "metadata": {},
   "source": [
    "<a id='pcoord'></a>\n",
    "### Step : The Coordinate Momentum $\\bf{p}$\n",
    "\n",
    "The coordinate momentum is given by the inverse of the tortoise matrix,\n",
    "\n",
    "\\begin{equation*}\n",
    "    p_i = \\left( T^{-1} \\right)_{i}^{j} p^{*}_{j}.\n",
    "\\end{equation*}\n",
    "\n",
    "The inverse of the tortoise matrix $\\left( T^{-1} \\right)_{i}^{j}$ is given [here](#Tinv). The tortoise momentum is a primitive variable."
   ]
  },
  {
   "cell_type": "code",
   "execution_count": 17,
   "metadata": {},
   "outputs": [
    {
     "name": "stdout",
     "output_type": "stream",
     "text": [
      "Appending to RightHandSides/v4P_RHS_on_top.txt\n"
     ]
    }
   ],
   "source": [
    "%%writefile -a $Ccodesdir/v4P_RHS_on_top.txt\n",
    "p3 = Tinv31*p1star + Tinv32*p2star + Tinv33*p3star\n",
    "p2 = Tinv21*p1star + Tinv22*p2star + Tinv23*p3star\n",
    "p1 = Tinv11*p1star + Tinv13*p2star + Tinv13*p3star"
   ]
  },
  {
   "cell_type": "markdown",
   "metadata": {},
   "source": [
    "<a id='eta'></a>\n",
    "\n",
    "### Step : The Symmetric Mass Ratio $\\eta$\n",
    "\n",
    "The symmetric mass ratio is defined as \n",
    "\n",
    "\\begin{equaion*}\n",
    "    \\eta = \\frac{m_1*m_2}{(m_1 + m_2)^2}\n",
    "\\end{equation*}\n",
    "\n",
    "Where the masses $m_1$ and $m_2$ are input parameters."
   ]
  },
  {
   "cell_type": "code",
   "execution_count": 18,
   "metadata": {},
   "outputs": [
    {
     "name": "stdout",
     "output_type": "stream",
     "text": [
      "Appending to RightHandSides/v4P_RHS_on_top.txt\n"
     ]
    }
   ],
   "source": [
    "%%writefile -a $Ccodesdir/v4P_RHS_on_top.txt\n",
    "eta = m1*m2/((m1 + m2)*(m1+m2))"
   ]
  },
  {
   "cell_type": "markdown",
   "metadata": {},
   "source": [
    "<a id='Tmatrixheader'></a>\n",
    "# Step : The Tortoise Matrices\n",
    "\n",
    "This section covers the Tortoise matrix, its inverse and its derivative as well as all the terms that go into it."
   ]
  },
  {
   "cell_type": "markdown",
   "metadata": {},
   "source": [
    "<a id='T'></a>\n",
    "## Step : The Tortoise Matrix $T_{j}^{i}$\n",
    "\n",
    "The tortoise matrix, governs the transformation between coordinate momenta and tortoise momenta.\n",
    "It is given here as follows\n",
    "\n",
    "\\begin{equation*}\n",
    "    T_{j}^{i} = \\delta_{j}^{i} + \\frac{ x^{i} x_{j} }{ r^{2} } \\left( \\xi - 1 \\right) .\n",
    "\\end{equation*}\n",
    "\n",
    "The $\\delta$ is the Kronecker delta function. The tortoise term $\\xi$ is given [here](#csi). The inverse square of the radial separation is given [here](#ru)."
   ]
  },
  {
   "cell_type": "code",
   "execution_count": 19,
   "metadata": {},
   "outputs": [
    {
     "name": "stdout",
     "output_type": "stream",
     "text": [
      "Appending to RightHandSides/v4P_RHS_on_top.txt\n"
     ]
    }
   ],
   "source": [
    "%%writefile -a $Ccodesdir/v4P_RHS_on_top.txt\n",
    "T33 = 1 + z*z*csi_minus_one*u2\n",
    "T32 = T23\n",
    "T31 = T13\n",
    "T23 = y*z*csi_minus_one*u2\n",
    "T22 = 1 + y*y*csi_minus_one*u2\n",
    "T21 = T12\n",
    "T13 = x*z*csi_minus_one*u2\n",
    "T12 = x*y*csi_minus_one*u2\n",
    "T11 = 1 + x*x*csi_minus_one*u2"
   ]
  },
  {
   "cell_type": "markdown",
   "metadata": {},
   "source": [
    "<a id='Tinv'></a>\n",
    "## Step: The Inverse Tortoise Matrix $\\left(T^{-1}\\right)_{j}^{i}$\n",
    "\n",
    "The inverse of the tortoise matrix can then be computed as\n",
    "\n",
    "\\begin{equation*}\n",
    "    \\left(T^{-1}\\right)_{j}^{i} = \\delta_{j}^{i} - \\frac{ x^{i} x_{j} }{ r^{2} } \\left( 1 - \\frac{1}{\\xi} \\right) .\n",
    "\\end{equation*}\n",
    "\n",
    "The $\\delta$ is the Kronecker delta function. The tortoise term $\\xi$ is given [here](#csi). The inverse square of the radial separation is given [here](#ru)."
   ]
  },
  {
   "cell_type": "code",
   "execution_count": 20,
   "metadata": {},
   "outputs": [
    {
     "name": "stdout",
     "output_type": "stream",
     "text": [
      "Appending to RightHandSides/v4P_RHS_on_top.txt\n"
     ]
    }
   ],
   "source": [
    "%%writefile -a $Ccodesdir/v4P_RHS_on_top.txt\n",
    "Tinv33 = 1 - z*z*one_minus_inverse_csi*u2\n",
    "Tinv32 = Tinv23\n",
    "Tinv31 = Tinv13\n",
    "Tinv23 = -z*y*one_minus_inverse_csi*u2\n",
    "Tinv22 = 1 - y*y*one_minus_inverse_csi*u2\n",
    "Tinv21 = Tinv12\n",
    "Tinv13 = -z*x*one_minus_inverse_csi*u2\n",
    "Tinv12 = -y*x*one_minus_inverse_csi*u2\n",
    "Tinv11 = 1 - x*x*one_minus_inverse_csi*u2"
   ]
  },
  {
   "cell_type": "markdown",
   "metadata": {},
   "source": [
    "<a id='dTdx'></a>\n",
    "## The Derivative of the Tortoise Matrix $\\frac{\\partial T^{i}_{j}}{\\partial x^{k}}$\n",
    "\n",
    "The derivative of the tortoise matrix can be calculated as\n",
    "\n",
    "\\begin{equation*}\n",
    "    \\frac{\\partial T^{i}_{j}}{\\partial x^{k}} = \\left(\\frac{\\delta^{i}_{k}x_{j} + x^{i}\\delta_{kj}}{r^2}\\right)(\\xi - 1) + \\frac{x^{i}x_{j}x_{k}}{r^3}\\left( \\frac{d \\xi}{d r} - 2(\\xi - 1) \\right)\n",
    "\\end{equation*}\n",
    "\n",
    "The $\\delta$ is the Kronecker delta function. The tortoise term $\\xi$ and its radial derivative $\\frac{d \\xi}{dr}$ is given [here](#csi).The inverse square of the radial separation is given [here](#ru)."
   ]
  },
  {
   "cell_type": "code",
   "execution_count": 21,
   "metadata": {},
   "outputs": [
    {
     "name": "stdout",
     "output_type": "stream",
     "text": [
      "Appending to RightHandSides/v4P_RHS_on_top.txt\n"
     ]
    }
   ],
   "source": [
    "%%writefile -a $Ccodesdir/v4P_RHS_on_top.txt\n",
    "T33_xderiv3 = u2*( 2*z*csi_minus_one + u*z*z*z*(dcsi - 2*csi_minus_one))\n",
    "T33_xderiv2 = u2*( u*z*z*y*(dcsi - 2*csi_minus_one))\n",
    "T33_xderiv1 = u2*( u*z*z*x*(dcsi - 2*csi_minus_one))\n",
    "T32_xderiv3 = T23_xderiv3\n",
    "T32_xderiv2 = T23_xderiv2\n",
    "T32_xderiv1 = T23_xderiv1\n",
    "T31_xderiv3 = T13_xderiv3\n",
    "T31_xderiv2 = T13_xderiv2\n",
    "T31_xderiv1 = T13_xderiv1\n",
    "T23_xderiv3 = u2*( y*csi_minus_one + u*y*z*z*(dcsi - 2*csi_minus_one))\n",
    "T23_xderiv2 = u2*( z*csi_minus_one + u*y*z*y*(dcsi - 2*csi_minus_one))\n",
    "T23_xderiv1 = T12_xderiv3\n",
    "T22_xderiv3 = u2*( u*y*y*z*(dcsi - 2*csi_minus_one))\n",
    "T22_xderiv2 = u2*( 2*y*csi_minus_one + u*y*y*y*(dcsi - 2*csi_minus_one))\n",
    "T22_xderiv1 = u2*( u*y*y*x*(dcsi - 2*csi_minus_one))\n",
    "T21_xderiv3 = T12_xderiv3\n",
    "T21_xderiv2 = T12_xderiv2\n",
    "T21_xderiv1 = T12_xderiv1\n",
    "T13_xderiv3 = u2*( x*csi_minus_one + u*x*z*z*(dcsi - 2*csi_minus_one))\n",
    "T13_xderiv2 = T12_xderiv3\n",
    "T13_xderiv1 = u2*( z*csi_minus_one + u*x*z*x*(dcsi - 2*csi_minus_one))\n",
    "T12_xderiv3 = u2*( u*x*y*z*(dcsi - 2*csi_minus_one))\n",
    "T12_xderiv2 = u2*( x*csi_minus_one + u*x*y*y*(dcsi - 2*csi_minus_one))\n",
    "T12_xderiv1 = u2*( y*csi_minus_one + u*x*y*x*(dcsi - 2*csi_minus_one))\n",
    "T11_xderiv3 = u2*( u*x*x*z*(dcsi - 2*csi_minus_one))\n",
    "T11_xderiv2 = u2*( u*x*x*y*(dcsi - 2*csi_minus_one))\n",
    "T11_xderiv1 = u2*( 2*x*csi_minus_one + u*x*x*x*(dcsi - 2*csi_minus_one))"
   ]
  },
  {
   "cell_type": "markdown",
   "metadata": {},
   "source": [
    "<a id='csi'></a>\n",
    "### The Tortoise Term $\\xi$\n",
    "\n",
    "The tortoise term and its radial derivative are generated using the function generated in the Hamiltonian notebook. In addition, we provide the terms $(\\xi - 1)$ and $\\left(1 - \\frac{1}{\\xi}\\right)$ for use in the tortoise matrices."
   ]
  },
  {
   "cell_type": "code",
   "execution_count": 22,
   "metadata": {},
   "outputs": [
    {
     "name": "stdout",
     "output_type": "stream",
     "text": [
      "Appending to RightHandSides/v4P_RHS_on_top.txt\n"
     ]
    }
   ],
   "source": [
    "%%writefile -a $Ccodesdir/v4P_RHS_on_top.txt\n",
    "one_minus_inverse_csi = 1 - 1/csi\n",
    "csi_minus_one = csi - 1\n",
    "csi , dcsi = v4P_compute_csi_dcsi(m1,m2,tortoise,x,y,z,p1star,p2star,p3star,S1x,S1y,S1z,S2x,S2y,S2z)"
   ]
  },
  {
   "cell_type": "markdown",
   "metadata": {},
   "source": [
    "<a id='ru'></a>\n",
    "### The Radial Separation $r$ and its Inverse $u$\n",
    "\n",
    "We define the radial separation and its inverse as \n",
    "\\begin{equation*}\n",
    "    r = \\sqrt{x^2 + y^2 + z^2}\n",
    "    u = \\frac{1}{r}\n",
    "\\end{equation*}\n",
    "\n",
    "The positions $(x,y,z)$ are primitive variables."
   ]
  },
  {
   "cell_type": "code",
   "execution_count": 23,
   "metadata": {},
   "outputs": [
    {
     "name": "stdout",
     "output_type": "stream",
     "text": [
      "Appending to RightHandSides/v4P_RHS_on_top.txt\n"
     ]
    }
   ],
   "source": [
    "%%writefile -a $Ccodesdir/v4P_RHS_on_top.txt\n",
    "u2 = u*u\n",
    "u = 1./r\n",
    "r = sp.sqrt(x*x + y*y + z*z)"
   ]
  },
  {
   "cell_type": "code",
   "execution_count": 24,
   "metadata": {},
   "outputs": [],
   "source": [
    "with open(os.path.join(Ccodesdir,\"v4P_RHS.c\"),\"w\") as outfile:\n",
    "    outfile.write('#include \"mainv4pheader.h\"\\nint v4P_compute_rhs(double t,const double values[],double dvalues[],double m1,double m2,int tortoise){\\n'+\n",
    "            \"    double x = values[0];\\n\"+\n",
    "            \"    double y = values[1];\\n\"+\n",
    "            \"    double z = values[2];\\n\"+\n",
    "            \"    double p1star = values[3];\\n\"+\n",
    "            \"    double p2star = values[4];\\n\"+\n",
    "            \"    double p3star = values[5];\\n\"+\n",
    "            \"    double S1x = values[6];\\n\"+\n",
    "            \"    double S1y = values[7];\\n\"+\n",
    "            \"    double S1z = values[8];\\n\"+\n",
    "            \"    double S2x = values[9];\\n\"+\n",
    "            \"    double S2y = values[10];\\n\"+\n",
    "            \"    double S2z = values[11];\\n\"+\n",
    "            \"    double csi_and_dcsi[2] = {0.};\\n\")\n",
    "    for line in reversed(list(open(os.path.join(Ccodesdir,\"v4P_RHS_on_top.txt\")))):\n",
    "        if 'csi , dcsi' in line:\n",
    "            outfile.write('    int success = v4P_compute_csi_dcsi(csi_and_dcsi,m1,m2,tortoise,x,y,z,p1star,p2star,p3star,S1x,S1y,S1z,S2x,S2y,S2z);\\n'+\n",
    "                          \"    double csi = csi_and_dcsi[0];\\n    double dcsi = csi_and_dcsi[1];\\n\")\n",
    "        else : outfile.write(\"    double \"+line.replace('sp.sqrt','sqrt').replace('\\n','')+\";\\n\")\n",
    "    outfile.write(\"    dvalues[0] = x_time_deriv;\\n\"+\n",
    "            \"    dvalues[1] = y_time_deriv;\\n\"\n",
    "            \"    dvalues[2] = z_time_deriv;\\n\"+\n",
    "            \"    dvalues[3] = p1star_time_deriv;\\n\"+\n",
    "            \"    dvalues[4] = p2star_time_deriv;\\n\"+\n",
    "            \"    dvalues[5] = p3star_time_deriv;\\n\"+\n",
    "            \"    dvalues[6] = S1x_time_deriv;\\n\"+\n",
    "            \"    dvalues[7] = S1y_time_deriv;\\n\"+\n",
    "            \"    dvalues[8] = S1z_time_deriv;\\n\"+ \n",
    "            \"    dvalues[9] = S2x_time_deriv;\\n\"+\n",
    "            \"    dvalues[10] = S2y_time_deriv;\\n\"+\n",
    "            \"    dvalues[11] = S2z_time_deriv;\\n\"+\n",
    "            \"    return GSL_SUCCESS;\\n}\\n\")\n",
    "        "
   ]
  },
  {
   "cell_type": "markdown",
   "metadata": {},
   "source": [
    "## Testing the RHS with the Initial Conditions\n",
    "\n",
    "Here, we will plug into the RHS routine the initial conditions obtained from LALSuite in order to check if the function yields the correct right hand sides"
   ]
  },
  {
   "cell_type": "code",
   "execution_count": 25,
   "metadata": {},
   "outputs": [
    {
     "ename": "NameError",
     "evalue": "name 'np' is not defined",
     "output_type": "error",
     "traceback": [
      "\u001b[1;31m---------------------------------------------------------------------------\u001b[0m",
      "\u001b[1;31mNameError\u001b[0m                                 Traceback (most recent call last)",
      "\u001b[1;32m<ipython-input-25-bc8b49b06162>\u001b[0m in \u001b[0;36m<module>\u001b[1;34m\u001b[0m\n\u001b[0;32m      3\u001b[0m \u001b[0mm2\u001b[0m \u001b[1;33m=\u001b[0m \u001b[0mlal_init_params\u001b[0m\u001b[1;33m[\u001b[0m\u001b[1;34m'm2'\u001b[0m\u001b[1;33m]\u001b[0m\u001b[1;33m\u001b[0m\u001b[1;33m\u001b[0m\u001b[0m\n\u001b[0;32m      4\u001b[0m \u001b[0meta\u001b[0m \u001b[1;33m=\u001b[0m \u001b[0mm1\u001b[0m\u001b[1;33m*\u001b[0m\u001b[0mm2\u001b[0m\u001b[1;33m/\u001b[0m\u001b[1;33m(\u001b[0m\u001b[0mm1\u001b[0m\u001b[1;33m+\u001b[0m\u001b[0mm2\u001b[0m\u001b[1;33m)\u001b[0m\u001b[1;33m/\u001b[0m\u001b[1;33m(\u001b[0m\u001b[0mm1\u001b[0m\u001b[1;33m+\u001b[0m\u001b[0mm2\u001b[0m\u001b[1;33m)\u001b[0m\u001b[1;33m\u001b[0m\u001b[1;33m\u001b[0m\u001b[0m\n\u001b[1;32m----> 5\u001b[1;33m \u001b[0mCartesianderivatives\u001b[0m \u001b[1;33m=\u001b[0m \u001b[0mnp\u001b[0m\u001b[1;33m.\u001b[0m\u001b[0marray\u001b[0m\u001b[1;33m(\u001b[0m\u001b[1;33m[\u001b[0m\u001b[1;33m-\u001b[0m\u001b[1;36m7.4372569706908668e-04\u001b[0m\u001b[1;33m,\u001b[0m\u001b[1;36m2.4307375667449735e-01\u001b[0m\u001b[1;33m,\u001b[0m\u001b[1;36m1.4756359553280453e-10\u001b[0m\u001b[1;33m,\u001b[0m\u001b[1;33m-\u001b[0m\u001b[1;36m3.7825690120400707e-03\u001b[0m\u001b[1;33m,\u001b[0m\u001b[1;33m-\u001b[0m\u001b[1;36m3.8542164835667761e-06\u001b[0m\u001b[1;33m,\u001b[0m\u001b[1;36m1.8559418985917006e-05\u001b[0m\u001b[1;33m,\u001b[0m\u001b[1;36m3.8584811595798732e-06\u001b[0m\u001b[1;33m,\u001b[0m\u001b[1;36m2.2203029875074901e-06\u001b[0m\u001b[1;33m,\u001b[0m\u001b[1;33m-\u001b[0m\u001b[1;36m1.9404160514503526e-07\u001b[0m\u001b[1;33m,\u001b[0m\u001b[1;36m9.7410831950694998e-06\u001b[0m\u001b[1;33m,\u001b[0m\u001b[1;36m7.7030273133600846e-05\u001b[0m\u001b[1;33m,\u001b[0m\u001b[1;33m-\u001b[0m\u001b[1;36m7.4866035579596088e-07\u001b[0m\u001b[1;33m,\u001b[0m\u001b[1;33m-\u001b[0m\u001b[1;36m5.2113451210616946e-09\u001b[0m\u001b[1;33m,\u001b[0m\u001b[1;36m1.4235974532096679e-02\u001b[0m\u001b[1;33m]\u001b[0m\u001b[1;33m)\u001b[0m\u001b[1;33m\u001b[0m\u001b[1;33m\u001b[0m\u001b[0m\n\u001b[0m\u001b[0;32m      6\u001b[0m \u001b[0mCartesianderivativespert\u001b[0m \u001b[1;33m=\u001b[0m \u001b[0mnp\u001b[0m\u001b[1;33m.\u001b[0m\u001b[0marray\u001b[0m\u001b[1;33m(\u001b[0m\u001b[1;33m[\u001b[0m\u001b[1;33m-\u001b[0m\u001b[1;36m7.4454573322703279e-04\u001b[0m\u001b[1;33m,\u001b[0m\u001b[1;36m2.4310747703608343e-01\u001b[0m\u001b[1;33m,\u001b[0m\u001b[1;33m-\u001b[0m\u001b[1;36m2.3061848435273547e-11\u001b[0m\u001b[1;33m,\u001b[0m\u001b[1;33m-\u001b[0m\u001b[1;36m3.7829767995429236e-03\u001b[0m\u001b[1;33m,\u001b[0m\u001b[1;33m-\u001b[0m\u001b[1;36m4.0460694927307497e-06\u001b[0m\u001b[1;33m,\u001b[0m\u001b[1;36m2.2564582971818183e-06\u001b[0m\u001b[1;33m,\u001b[0m\u001b[1;36m3.8565740230520171e-06\u001b[0m\u001b[1;33m,\u001b[0m\u001b[1;36m1.9729606035738584e-06\u001b[0m\u001b[1;33m,\u001b[0m\u001b[1;33m-\u001b[0m\u001b[1;36m2.9782394698566840e-08\u001b[0m\u001b[1;33m,\u001b[0m\u001b[1;36m9.7366413974785400e-06\u001b[0m\u001b[1;33m,\u001b[0m\u001b[1;36m7.6872717575104034e-06\u001b[0m\u001b[1;33m,\u001b[0m\u001b[1;33m-\u001b[0m\u001b[1;36m8.5034467060355696e-08\u001b[0m\u001b[1;33m,\u001b[0m\u001b[1;36m6.6468244710321533e-09\u001b[0m\u001b[1;33m,\u001b[0m\u001b[1;36m1.4235962728866914e-02\u001b[0m\u001b[1;33m]\u001b[0m\u001b[1;33m)\u001b[0m\u001b[1;33m\u001b[0m\u001b[1;33m\u001b[0m\u001b[0m\n\u001b[0;32m      7\u001b[0m \u001b[0mMomentumTerm1\u001b[0m \u001b[1;33m=\u001b[0m \u001b[1;33m[\u001b[0m \u001b[1;33m-\u001b[0m\u001b[1;36m1.3088497326736192e-03\u001b[0m \u001b[1;33m,\u001b[0m \u001b[1;33m-\u001b[0m\u001b[1;36m3.3404908468999864e-08\u001b[0m \u001b[1;33m,\u001b[0m \u001b[1;36m5.8397731095283234e-11\u001b[0m \u001b[1;33m]\u001b[0m\u001b[1;33m\u001b[0m\u001b[1;33m\u001b[0m\u001b[0m\n",
      "\u001b[1;31mNameError\u001b[0m: name 'np' is not defined"
     ]
    }
   ],
   "source": [
    "lal_init_params = {'m1': 2.3000000000000000e+01, 'm2': 2.3000000000000000e+01, 'x': 1.7074619310971148e+01, 'y': 0.0000000000000000e+00, 'z': 0.0000000000000000e+00, 'S1x':  2.5000000000000001e-03, 'S1y': -4.9999999999999984e-03, 'S1z': -7.4999999999999997e-03, 'S2x': 1.0000000000000001e-01, 'S2y': -1.2500000000000001e-02, 'S2z': 1.5000000000000001e-02, 'p1': -8.1031960448995819e-04, 'p2': 2.6570593470494086e-01, 'p3': -2.2379305118219833e-04,'tortoise': 1}\n",
    "m1 = lal_init_params['m1']\n",
    "m2 = lal_init_params['m2']\n",
    "eta = m1*m2/(m1+m2)/(m1+m2)\n",
    "Cartesianderivatives = np.array([-7.4372569706908668e-04,2.4307375667449735e-01,1.4756359553280453e-10,-3.7825690120400707e-03,-3.8542164835667761e-06,1.8559418985917006e-05,3.8584811595798732e-06,2.2203029875074901e-06,-1.9404160514503526e-07,9.7410831950694998e-06,7.7030273133600846e-05,-7.4866035579596088e-07,-5.2113451210616946e-09,1.4235974532096679e-02])\n",
    "Cartesianderivativespert = np.array([-7.4454573322703279e-04,2.4310747703608343e-01,-2.3061848435273547e-11,-3.7829767995429236e-03,-4.0460694927307497e-06,2.2564582971818183e-06,3.8565740230520171e-06,1.9729606035738584e-06,-2.9782394698566840e-08,9.7366413974785400e-06,7.6872717575104034e-06,-8.5034467060355696e-08,6.6468244710321533e-09,1.4235962728866914e-02])\n",
    "MomentumTerm1 = [ -1.3088497326736192e-03 , -3.3404908468999864e-08 , 5.8397731095283234e-11 ]\n",
    "MomentumTerm2 = [ -4.4936867757153234e-05 , 3.3645070075027284e-08 , -9.2124371138343366e-18 ]\n",
    "FluxTerm = [ 3.2505033652576827e-10 , -4.4904787419519459e-07 , 1.6898324103064858e-14]\n",
    "dEdt = 2.7469013978683326e-07\n",
    "def SDA(x1,x2):\n",
    "    erel = abs((x1 - x2)/(0.5*(x1 + x2)))\n",
    "    if (x1 == x2):\n",
    "        return 1000\n",
    "    return int(-np.log10(erel) + 1)\n",
    "EMGamma = 0.577215664901532860606512090082402431\n",
    "tortoise = lal_init_params['tortoise']\n",
    "lal_init_conditions = np.array([lal_init_params['x'], lal_init_params['y'], lal_init_params['z'], lal_init_params['p1'], lal_init_params['p2'], lal_init_params['p3'], lal_init_params['S1x'], lal_init_params['S1y'], lal_init_params['S1z'], lal_init_params['S2x'], lal_init_params['S2y'], lal_init_params['S2z']])\n",
    "rhs_first_step = SEOBNR_RHS(0,lal_init_conditions,m1,m2,tortoise)\n",
    "Cderivatives = [-7.4372569499148253e-04,2.4307375666377112e-01,1.4970668125991029e-10,-3.7825646555424081e-03,-8.9443344855631944e-07,1.8558171188461018e-05,3.8584811624132890e-06,2.2203029803489445e-06,-1.9404159942819939e-07,9.7410831986000941e-06,7.7030273148626601e-05,-7.4866036681179546e-07]\n",
    "print(\"\\n\")\n",
    "for i in range(12):\n",
    "    sdanrpyc = SDA(rhs_first_step[i],Cderivatives[i])\n",
    "    sdanrpylal = SDA(rhs_first_step[i],Cartesianderivatives[i])\n",
    "    sdaclal = SDA(Cderivatives[i],Cartesianderivatives[i])\n",
    "    allowed = SDA(Cartesianderivatives[i],Cartesianderivativespert[i])\n",
    "    print(\"dvalues[%d] (lal , nrpy , c , sda(nrpy - c) , (sda nrpy - lal) , sda(c - lal) , allowed) = %.16e , %.16e , %.16e , %d , %d , %d , %d\"%(i,Cartesianderivatives[i],rhs_first_step[i],Cderivatives[i],sdanrpyc,sdanrpylal,sdaclal,allowed))"
   ]
  },
  {
   "cell_type": "code",
   "execution_count": null,
   "metadata": {},
   "outputs": [],
   "source": [
    "## print out tortoise to make sure all inputs are consistent\n",
    "## toggle the inputs to see which terms are problematic"
   ]
  },
  {
   "cell_type": "code",
   "execution_count": null,
   "metadata": {},
   "outputs": [],
   "source": [
    "#def Euler_Step(t,var,m1,m2,EMGamma,tortoise,h):\n",
    "#    f = SEOBNR_RHS(t,var,m1,m2,EMGamma,tortoise)\n",
    "#    return h*f"
   ]
  },
  {
   "cell_type": "code",
   "execution_count": null,
   "metadata": {},
   "outputs": [],
   "source": [
    "## simply ported final initial conditions from our lal solver\n",
    "\n",
    "EMGamma = 0.577215664901532860606512090082402431\n",
    "var_init = np.array([ 1.7077661371325462e+01, 0.0000000000000000e+00, 0.0000000000000000e+00, -7.1946742122340718e-04, 2.6577885496497711e-01, 4.0197262449583424e-18, 0.0000000000000000e+00, 0.0000000000000000e+00, 2.5000000000000001e-03, 0.0000000000000000e+00, 0.0000000000000000e+00, 2.5000000000000001e-03])\n",
    "params = (23,23,1)\n",
    "m1 = params[0]\n",
    "m2 = params[1]\n",
    "eta = m1*m2/(m1+m2)/(m1+m2)\n",
    "max_time = 4000.\n",
    "\n",
    "result = spint.solve_ivp(SEOBNR_RHS,(0,max_time),var_init,method = 'DOP853',dense_output=True,args = params,rtol = 1e-8, atol = 1e-8, min_step = 8e-5)\n",
    "\n",
    "#result = SEOBNR_RHS(0,var_init,m1,m2,EMGamma,1)\n",
    "dt = 1\n",
    "time_series = np.arange(0.,max_time,dt)\n",
    "#print(time_series)\n",
    "\n",
    "sparse_array = result.y\n",
    "dense_sol = result.sol.__call__(time_series)\n",
    "\n",
    "plot_array = np.array([dense_sol[:,i] for i in range(len(time_series))])\n",
    "\n",
    "plt.plot(plot_array[:,0],plot_array[:,1])\n",
    "plt.axis('square')\n",
    "plt.savefig('inspiraltrajectoryv4p.png',dpi = 300)\n"
   ]
  },
  {
   "cell_type": "code",
   "execution_count": null,
   "metadata": {},
   "outputs": [],
   "source": [
    "## upload trajectory from lalsuite\n",
    "## inputs ./lalsimulation/bin/lalsim-inspiral -a SEOBNRv4P -f 20 -M 23 -m 23 -X 0.01 -Y -0.02 -Z -0.03 -x 0.40 -y -0.05 -z 0.06\n",
    "## perturbed -a SEOBNRv4P -f 20 -M 23.000000000000023 -m 23 -X 0.01000000000000001 -Y -0.02 -Z -0.03 -x 0.40 -y -0.05 -z 0.06\n",
    "\n",
    "laltrajectory = np.loadtxt(\"equalmassprec23.txt\")\n",
    "lalperttrajectory = np.loadtxt(\"equalmassprec23pert.txt\")\n",
    "## upload c trajectory\n",
    "ctrajectory = np.loadtxt(\"output.txt\")\n",
    "## find the 4000M stop point\n",
    "\n",
    "t4000index = np.argmin(np.abs(laltrajectory[:,0] - 4000.))\n",
    "\n",
    "## compute the absolute error\n",
    "dx = np.array([np.abs(lalperttrajectory[i,1] - laltrajectory[i,1]) for i in range(t4000index)])\n",
    "## compare x values\n",
    "\n",
    "#plt.plot(ctrajectory[:,0],ctrajectory[:,1])\n",
    "#plt.plot(time_series,plot_array[:,0],label = \"dense_sol\")\n",
    "plt.scatter(result.t,result.y[0,:],label = \"sparse_sol\")\n",
    "plt.plot(laltrajectory[:t4000index,0],laltrajectory[:t4000index,1],label = \"lal\")\n",
    "plt.fill_between(laltrajectory[:t4000index,0],laltrajectory[:t4000index,1] - dx,laltrajectory[:t4000index,1]+dx)\n",
    "plt.xlabel(\"t (M)\")\n",
    "plt.ylabel(\"x (M)\")\n",
    "plt.legend()\n",
    "plt.savefig(\"comparexvalues.png\")\n",
    "plt.show()"
   ]
  },
  {
   "cell_type": "code",
   "execution_count": null,
   "metadata": {},
   "outputs": [],
   "source": [
    "# get waveform amplitudes\n",
    "\n",
    "amplitudes = []\n",
    "for i in range(len(dense_sol[0])):\n",
    "    #eta = params[0]*params[1]/(params[0] + params[1])/(params[0] + params[1])\n",
    "    q = np.array([dense_sol[0,i],dense_sol[1,i],dense_sol[2,i]])\n",
    "    p = np.array([dense_sol[3,i],dense_sol[4,i],dense_sol[5,i]])\n",
    "    S1 = np.array([dense_sol[6,i],dense_sol[7,i],dense_sol[8,i]])\n",
    "    S2 = np.array([dense_sol[9,i],dense_sol[10,i],dense_sol[11,i]])\n",
    "    tortoise = 1\n",
    "    ham_and_potentials = hr.compute_Hreal_and_csi(m1,m2,EMGamma,tortoise,q[0],q[1],q[2],p[0],p[1],p[2],S1[0],S1[1],S1[2],S2[0],S2[1],S2[2])\n",
    "    Hreal = ham_and_potentials[0]\n",
    "    \n",
    "    dHreal = dh.ham_first_derivs(m1,m2,tortoise,q[0],q[1],q[2],p[0],p[1],p[2],S1[0],S1[1],S1[2],S2[0],S2[1],S2[2])\n",
    "    dHdP = np.array([dHreal[3],dHreal[4],dHreal[5]])/eta\n",
    "    \n",
    "    #for i in range(3):\n",
    "    #    print(\"dHdP[%d] = %.16e\"%(i,dHdP[i]))\n",
    "    \n",
    "    ## Compute R, R^-1 and R^-2\n",
    "    \n",
    "    R = np.linalg.norm(q)\n",
    "    Rinv = 1/R\n",
    "    R2inv = Rinv*Rinv\n",
    "    \n",
    "    ## Compute xi_a and xi_a - 1 and xi_a^-1\n",
    "    \n",
    "    xi_a = ham_and_potentials[1]\n",
    "    xi_a_minusone = xi_a - 1\n",
    "    xi_a_inv = 1/xi_a\n",
    "    #print(xi_a)\n",
    "    dxi_a = np.array([dHreal[12],dHreal[13],dHreal[14]])\n",
    "    \n",
    "    #print(dxi_a)\n",
    "    ## Assign and Populate the Tortoise Matrix, its inverse, and its derivative\n",
    "    \n",
    "    kron_delta = lambda x,y: 1 if x== y else 0 \n",
    "    \n",
    "    T = np.zeros([3,3])\n",
    "    \n",
    "    ## T matrix has been validated\n",
    "    for i in range(3):\n",
    "        for j in range(3):\n",
    "            T[i,j] = kron_delta(i,j) + q[i]*q[j]*xi_a_minusone*R2inv\n",
    "    \n",
    "    ## Compute the X derivatives\n",
    "    \n",
    "    dX = np.dot(T,dHdP)\n",
    "    \n",
    "    ## Compute Omega\n",
    "    \n",
    "    Omega = np.linalg.norm(np.cross(q,dX))*R2inv\n",
    "    v = np.cbrt(Omega)\n",
    "    rcrossp = np.cross(q,p)\n",
    "    rcrosspmag = np.linalg.norm(rcrossp)\n",
    "    m1hat = m1/(m1+m2)\n",
    "    m2hat = m2/(m1+m2)\n",
    "    S1_over_m12 = S1/m1hat/m1hat\n",
    "    S2_over_m22 = S2/m2hat/m2hat\n",
    "    Lhat = rcrossp/rcrosspmag\n",
    "    s1dotL = np.dot(S1_over_m12,Lhat)\n",
    "    s2dotL = np.dot(S2_over_m22,Lhat)\n",
    "    \n",
    "    #print(\"s1dotL = \",s1dotL)\n",
    "    #print(\"s2dotL = \",s2dotL)\n",
    "    \n",
    "    chiS = 0.5*(s1dotL + s2dotL)\n",
    "    chiA = 0.5*(s1dotL - s2dotL)\n",
    "    amplitudes.append(wf.compute_hFlm_for_flux(params[0], params[1], params[2], q, p, S1, S2, 2, 2, Hreal, v,chiA,chiS))\n",
    "\n"
   ]
  },
  {
   "cell_type": "code",
   "execution_count": null,
   "metadata": {},
   "outputs": [],
   "source": [
    "plt.plot(time_series[0:200],amplitudes[0:200])\n",
    "\n",
    "#data = np.loadtxt(\"outputv4Pindex0.txt\")\n",
    "#datpert = np.loadtxt(\"outputv4Pindex0pert.txt\")\n",
    "#M = m1+m2\n",
    "#t_M = M*4.93e-6\n",
    "#t_data = (data[:,0] - data[0,0])/t_M\n",
    "#t_data_pert = (datpert[:,0] - datpert[0,0])/(t_M*(1 + 1e-5))\n",
    "#amp = np.array([np.sqrt(data[i,1]**2 + data[i,2]**2) for i in range(len(data))])\n",
    "#amppert = np.array([np.sqrt(datpert[i,1]**2 + datpert[i,2]**2) for i in range(len(datpert))])\n",
    "#amppert *= amplitudes[0]/amppert[0]\n",
    "#amp *= amplitudes[0]/amp[0]\n",
    "#plt.plot(t_data,amp)\n",
    "plt.plot(time_series,amplitudes)\n",
    "plt.xlim(0,3010)\n",
    "plt.ylim(0.08,0.1)\n",
    "plt.savefig(\"dt1.png\")\n",
    "plt.show()"
   ]
  },
  {
   "cell_type": "code",
   "execution_count": null,
   "metadata": {},
   "outputs": [],
   "source": [
    "data = \"outputv4Pindex0.txt\"\n",
    "#datapert = \"outputv4Pindex0pert.txt\"\n",
    "LALvalues = []\n",
    "LALvaluespert = []\n",
    "eta = (m1*m2)/(m1+m2)/(m1+m2)\n",
    "\n",
    "with open(data) as file, open(datapert) as filepert:\n",
    "    data_lines = file.readlines()\n",
    "    pertdata_lines = filepert.readlines()\n",
    "    for i in range(len(data_lines)//2):\n",
    "        valuepairs = data_lines[2*i].strip('{}\\n').split(',')\n",
    "        pertvaluepairs = pertdata_lines[2*i].strip('{}\\n').split(',')\n",
    "        values = dict()\n",
    "        pertvalues = dict()\n",
    "        #print(i)\n",
    "        for j in range(len(valuepairs)):\n",
    "            pair = valuepairs[j].split(': ')\n",
    "            pertpair = pertvaluepairs[j].split(': ')\n",
    "            #print(pertpair)\n",
    "            values[pair[0].strip(\" ''\")] = float(pair[1])\n",
    "            pertvalues[pertpair[0].strip(\" ''\")] = float(pertpair[1])\n",
    "        LALvalues.append([values['x'],values['y']])\n",
    "        LALvaluespert.append([pertvalues['x'],pertvalues['y']])\n",
    "\n",
    "\n",
    "plt.plot(plot_array[:,0],plot_array[:,1])\n",
    "LALvalues = np.array(LALvalues)\n",
    "LALvaluespert = np.array(LALvaluespert)\n",
    "plt.plot(LALvalues[:,0],LALvalues[:,1])\n",
    "plt.plot(LALvaluespert[:,0],LALvaluespert[:,1])\n",
    "plt.axis('square')\n",
    "\n",
    "\n"
   ]
  },
  {
   "cell_type": "code",
   "execution_count": null,
   "metadata": {},
   "outputs": [],
   "source": [
    "plt.plot(plot_array[:,0],plot_array[:,1])\n",
    "dt = 1\n",
    "time_series = np.arange(0.,max_time,dt)\n",
    "print(time_series)\n",
    "sparse_array = result.y\n",
    "dense_sol = result.sol.__call__(time_series)\n",
    "\n",
    "plot_array = np.array([dense_sol[:,i] for i in range(len(time_series))])\n",
    "\n",
    "LALvalues = np.array(LALvalues)\n",
    "plt.plot(np.log10(np.abs((LALvalues[:,0] - plot_array[:,0])/LALvalues[:,0])))\n",
    "plt.plot(np.log10(np.abs((LALvaluespert[:,0]- LALvalues[:,0])/LALvalues[:,0])))\n",
    "plt.plot(LALvalues[:,0])\n",
    "plt.plot(plot_array[:,0])"
   ]
  },
  {
   "cell_type": "code",
   "execution_count": null,
   "metadata": {},
   "outputs": [],
   "source": [
    "plt.plot(LALvalues[:,1])\n",
    "plt.plot(plot_array[:,1])"
   ]
  },
  {
   "cell_type": "code",
   "execution_count": null,
   "metadata": {},
   "outputs": [],
   "source": [
    "plt.plot([np.linalg.norm([plot_array[i,0],plot_array[i,1]]) for i in range(len(plot_array))])\n",
    "plt.plot([np.linalg.norm([LALvalues[i,0],LALvalues[i,1]]) for i in range(len(plot_array))])\n"
   ]
  },
  {
   "cell_type": "code",
   "execution_count": null,
   "metadata": {},
   "outputs": [],
   "source": []
  }
 ],
 "metadata": {
  "kernelspec": {
   "display_name": "Python 3",
   "language": "python",
   "name": "python3"
  },
  "language_info": {
   "codemirror_mode": {
    "name": "ipython",
    "version": 3
   },
   "file_extension": ".py",
   "mimetype": "text/x-python",
   "name": "python",
   "nbconvert_exporter": "python",
   "pygments_lexer": "ipython3",
   "version": "3.8.8"
  }
 },
 "nbformat": 4,
 "nbformat_minor": 4
}
