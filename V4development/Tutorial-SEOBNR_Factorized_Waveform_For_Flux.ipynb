{
 "cells": [
  {
   "cell_type": "markdown",
   "metadata": {},
   "source": [
    "Import Core Modules\n",
    "\n",
    "** Note: This module computes the absolute value of factorized waveform modes in a manner optimized for flux calculations for the initial conditions and the evolution of the equations of motion. A different module will encapsulate phase terms that factor into the full complex factorized waveform."
   ]
  },
  {
   "cell_type": "code",
   "execution_count": 1,
   "metadata": {},
   "outputs": [],
   "source": [
    "import numpy as np\n",
    "import os.path\n",
    "from scipy.optimize import root\n",
    "from scipy.interpolate import interp1d, interp2d\n",
    "from numpy.linalg import norm\n",
    "#import SEOBNR.NQC_corrections as nqc\n",
    "#import SEOBNR.nqc_interp as nqi\n",
    "\n",
    "# For testing, remove numpy and sympy expression files\n",
    "# For now, do NOT regenerate CSE expressions\n",
    "import shutil, os\n",
    "import sys#TylerK: Add sys to get cmdline_helper from NRPy top directory; remove this line and next when debugged\n",
    "sys.path.append('../')\n",
    "outdir = os.path.join(\"Flux/\")\n",
    "codesdir = \"Flux\"\n",
    "import cmdline_helper as cmd     # NRPy+: Multi-platform Python command-line interface\n"
   ]
  },
  {
   "cell_type": "markdown",
   "metadata": {},
   "source": [
    "## The Factorized Waveform\n",
    "\n",
    "The Factorized Waveform in the SEOBNR formalism is given by:\n",
    "\n",
    "$$\n",
    "h^{\\rm F}_{lm} = h^{(N,\\epsilon)}_{lm} \\hat{S}^{(\\epsilon)}_{\\rm eff} T_{lm} (\\rho_{lm})^l\n",
    "$$\n",
    "\n",
    "Where, $h^{(N,\\epsilon)}_{lm}$ are the Newtonian Modes, $\\hat{S}^{(\\epsilon)}_{\\rm eff}$ is an effective source term, $T_{lm}$ encodes the logarithmic tail terms, and $\\rho_{lm}$ encodes the PN corrections to the Newtonian waveform. Finally, the label $\\epsilon$ is the parity of the waveform."
   ]
  },
  {
   "cell_type": "code",
   "execution_count": 2,
   "metadata": {},
   "outputs": [
    {
     "name": "stdout",
     "output_type": "stream",
     "text": [
      "Writing Flux/Factorized_Waveform_For_Flux-on-top.txt\n"
     ]
    }
   ],
   "source": [
    "%%writefile $codesdir/Factorized_Waveform_For_Flux-on-top.txt\n",
    "\n",
    "hF_lm = hNe_lm*Se_eff*T_lm*rholmpowl"
   ]
  },
  {
   "cell_type": "markdown",
   "metadata": {},
   "source": [
    "### The Newtonian Modes\n",
    "\n",
    "$$\n",
    "h^{(N,\\epsilon)}_{lm} = \\eta n^{(\\epsilon)}_{lm} c_{l+\\epsilon} V^l_{\\Phi} Y^{l - \\epsilon, -m}\\left(\\frac{\\pi}{2},\\Phi\\right)\n",
    "$$\n",
    "\n",
    "Where, $\\eta$ is the symmetric mass ratio, $Y$ represents the scalar spherical harmonics, $n^{(\\epsilon)}_{lm}$ and $c_{l+\\epsilon}$ are numerical coefficients, and $V^l_{\\Phi}$ is the velocity contribution."
   ]
  },
  {
   "cell_type": "code",
   "execution_count": 3,
   "metadata": {},
   "outputs": [
    {
     "name": "stdout",
     "output_type": "stream",
     "text": [
      "Appending to Flux/Factorized_Waveform_For_Flux-on-top.txt\n"
     ]
    }
   ],
   "source": [
    "%%writefile -a $codesdir/Factorized_Waveform_For_Flux-on-top.txt\n",
    "\n",
    "hNe_lm = eta*ne_lm*c_lpluse*Vl_Phi*Ylminuse_minusm"
   ]
  },
  {
   "cell_type": "markdown",
   "metadata": {},
   "source": [
    "The Newtonian Prefix $n^{(\\epsilon)}_{lm}$\n",
    "\n",
    "We define the Newtonian prefix in a different function as part of an auxiliary python module."
   ]
  },
  {
   "cell_type": "code",
   "execution_count": 4,
   "metadata": {},
   "outputs": [
    {
     "name": "stdout",
     "output_type": "stream",
     "text": [
      "Appending to Flux/Factorized_Waveform_For_Flux-on-top.txt\n"
     ]
    }
   ],
   "source": [
    "%%writefile -a $codesdir/Factorized_Waveform_For_Flux-on-top.txt\n",
    "\n",
    "ne_lm = aux.Newtonian_n(m1,m2,l,m)"
   ]
  },
  {
   "cell_type": "markdown",
   "metadata": {},
   "source": [
    "The Newtonian Prefix $c_{l+\\epsilon}$\n",
    "\n",
    "We define the Newtonian prefix in a different function as part of an auxiliary python module."
   ]
  },
  {
   "cell_type": "code",
   "execution_count": 5,
   "metadata": {},
   "outputs": [
    {
     "name": "stdout",
     "output_type": "stream",
     "text": [
      "Appending to Flux/Factorized_Waveform_For_Flux-on-top.txt\n"
     ]
    }
   ],
   "source": [
    "%%writefile -a $codesdir/Factorized_Waveform_For_Flux-on-top.txt\n",
    "\n",
    "c_lpluse = aux.Newtonian_c(m1,m2,l,m)"
   ]
  },
  {
   "cell_type": "markdown",
   "metadata": {},
   "source": [
    "The Spherical Harmonic $Y$\n",
    "\n",
    "The scalar spherical harmonics functions evaluated at the equator are defined in a different function as part of an auxiliary python module."
   ]
  },
  {
   "cell_type": "code",
   "execution_count": 6,
   "metadata": {},
   "outputs": [
    {
     "name": "stdout",
     "output_type": "stream",
     "text": [
      "Appending to Flux/Factorized_Waveform_For_Flux-on-top.txt\n"
     ]
    }
   ],
   "source": [
    "%%writefile -a $codesdir/Factorized_Waveform_For_Flux-on-top.txt\n",
    "\n",
    "Ylminuse_minusm = aux.AbsSphericalHarmonicAtPiOver2(l-epsilon,-m)"
   ]
  },
  {
   "cell_type": "markdown",
   "metadata": {},
   "source": [
    "The Velocity Contribution $V^l_{\\Phi}$\n",
    "\n",
    "The velocity contribution to the Newtonian Mode is given by:\n",
    "$$\n",
    "V^l_{\\Phi} = v^{l+\\epsilon}_{\\Phi}\n",
    "$$\n",
    "\n",
    "Where, $v_{\\Phi}$ is the azimuthal velocity and $\\epsilon$ is the parity of the waveform mode."
   ]
  },
  {
   "cell_type": "code",
   "execution_count": 7,
   "metadata": {},
   "outputs": [
    {
     "name": "stdout",
     "output_type": "stream",
     "text": [
      "Appending to Flux/Factorized_Waveform_For_Flux-on-top.txt\n"
     ]
    }
   ],
   "source": [
    "%%writefile -a $codesdir/Factorized_Waveform_For_Flux-on-top.txt\n",
    "\n",
    "Vl_Phi = np.power(vPhi,l+epsilon)"
   ]
  },
  {
   "cell_type": "markdown",
   "metadata": {},
   "source": [
    "The Azimuthal Velocity $v_\\Phi$\n",
    "\n",
    "The Azimuthal velocity $v_\\Phi$ is given by:\n",
    "\n",
    "$$\n",
    "v_\\Phi = \\Omega v^{(\\mathrm{NK})}_\\Phi\n",
    "$$\n",
    "\n",
    "Where $\\Omega$ is the orbital frequency, and $v^{(\\mathrm{NK})}_\\Phi$ is the non-Keplerian correction to the velocity which is calculated in a different function in an auxiliary python module."
   ]
  },
  {
   "cell_type": "code",
   "execution_count": 8,
   "metadata": {},
   "outputs": [
    {
     "name": "stdout",
     "output_type": "stream",
     "text": [
      "Appending to Flux/Factorized_Waveform_For_Flux-on-top.txt\n"
     ]
    }
   ],
   "source": [
    "%%writefile -a $codesdir/Factorized_Waveform_For_Flux-on-top.txt\n",
    "\n",
    "vPhi = Omega*aux.vPhiNonKeplerian(m1,m2,EMgamma,tortoise,q,p,S1,S2)"
   ]
  },
  {
   "cell_type": "markdown",
   "metadata": {},
   "source": [
    "## Logarithmic Tail Term $T_{lm}$\n",
    "\n",
    "The logarithmic tail terms are given by their resummed form in DNB(1212.4357):\n",
    "\n",
    "$$\n",
    "T_{lm} = \\frac{1}{l!}\\sqrt{\\frac{4\\pi\\hat{\\hat{k}}}{1 - e^{-4\\pi\\hat{\\hat{k}}}}}\\sqrt{\\prod_{s=1}^{l}\\left( s^2 + \\left(2\\hat{\\hat{k}}\\right)^2 \\right)}\n",
    "$$\n",
    "\n",
    "Where, $\\hat{\\hat{k}}$ is the Hamiltonian contribution."
   ]
  },
  {
   "cell_type": "code",
   "execution_count": 9,
   "metadata": {},
   "outputs": [
    {
     "name": "stdout",
     "output_type": "stream",
     "text": [
      "Appending to Flux/Factorized_Waveform_For_Flux-on-top.txt\n"
     ]
    }
   ],
   "source": [
    "%%writefile -a $codesdir/Factorized_Waveform_For_Flux-on-top.txt\n",
    "\n",
    "T_lm = lfactorialinv*Tlmprefac*np.sqrt(Tlmprodfac)"
   ]
  },
  {
   "cell_type": "markdown",
   "metadata": {},
   "source": [
    "$T_{lm}$ Product Factor\n",
    "\n",
    "The product factor entering into the definition of $T_{lm}$ are defined in a different function as part of an auxiliary python module."
   ]
  },
  {
   "cell_type": "code",
   "execution_count": 10,
   "metadata": {},
   "outputs": [
    {
     "name": "stdout",
     "output_type": "stream",
     "text": [
      "Appending to Flux/Factorized_Waveform_For_Flux-on-top.txt\n"
     ]
    }
   ],
   "source": [
    "%%writefile -a $codesdir/Factorized_Waveform_For_Flux-on-top.txt\n",
    "\n",
    "Tlmprodfac = aux.Tlmprodfac(l,hathatk)"
   ]
  },
  {
   "cell_type": "markdown",
   "metadata": {},
   "source": [
    "$T_{lm}$ Prefactor\n",
    "\n",
    "We define the prefactor as:\n",
    "\n",
    "$$\n",
    "T_{lm}^{(\\mathrm{pre})} = \\sqrt{\\frac{4\\pi\\hat{\\hat{k}}}{1 - e^{-4\\pi\\hat{\\hat{k}}}}}\n",
    "$$"
   ]
  },
  {
   "cell_type": "code",
   "execution_count": 11,
   "metadata": {},
   "outputs": [
    {
     "name": "stdout",
     "output_type": "stream",
     "text": [
      "Appending to Flux/Factorized_Waveform_For_Flux-on-top.txt\n"
     ]
    }
   ],
   "source": [
    "%%writefile -a $codesdir/Factorized_Waveform_For_Flux-on-top.txt\n",
    "\n",
    "Tlmprefac = np.sqrt( pihathatk4 / ( 1 - np.exp( -pihathatk4 ) ) )"
   ]
  },
  {
   "cell_type": "markdown",
   "metadata": {},
   "source": [
    "The Coefficient pihathatk4\n",
    "\n",
    "We define here $4\\pi$ times the Hamiltonian factor $\\hat{\\hat{k}}$"
   ]
  },
  {
   "cell_type": "code",
   "execution_count": 12,
   "metadata": {},
   "outputs": [
    {
     "name": "stdout",
     "output_type": "stream",
     "text": [
      "Appending to Flux/Factorized_Waveform_For_Flux-on-top.txt\n"
     ]
    }
   ],
   "source": [
    "%%writefile -a $codesdir/Factorized_Waveform_For_Flux-on-top.txt\n",
    "\n",
    "pihathatk4 = 4*np.pi*hathatk"
   ]
  },
  {
   "cell_type": "markdown",
   "metadata": {},
   "source": [
    "The Hamiltonian Factor hathatk\n",
    "\n",
    "The Hamiltonian factor is given as:\n",
    "\n",
    "$$\n",
    "\\hat{\\hat{k}} = m H_\\mathrm{real} \\Omega\n",
    "$$\n",
    "\n",
    "Where, $H_\\mathrm{real}$ is the Effective-One-Body Hamiltonian, and $\\Omega$ is the orbital frequency."
   ]
  },
  {
   "cell_type": "code",
   "execution_count": 13,
   "metadata": {},
   "outputs": [
    {
     "name": "stdout",
     "output_type": "stream",
     "text": [
      "Appending to Flux/Factorized_Waveform_For_Flux-on-top.txt\n"
     ]
    }
   ],
   "source": [
    "%%writefile -a $codesdir/Factorized_Waveform_For_Flux-on-top.txt\n",
    "\n",
    "hathatk = m*Hreal*Omega"
   ]
  },
  {
   "cell_type": "markdown",
   "metadata": {},
   "source": [
    "The frequency $\\Omega$\n",
    "\n",
    "The orbital frequency $\\Omega$ is defined in terms of the velocity $v$ as:\n",
    "\n",
    "$$\n",
    "\\Omega = v^3\n",
    "$$"
   ]
  },
  {
   "cell_type": "code",
   "execution_count": 14,
   "metadata": {},
   "outputs": [
    {
     "name": "stdout",
     "output_type": "stream",
     "text": [
      "Appending to Flux/Factorized_Waveform_For_Flux-on-top.txt\n"
     ]
    }
   ],
   "source": [
    "%%writefile -a $codesdir/Factorized_Waveform_For_Flux-on-top.txt\n",
    "\n",
    "Omega = np.power(v,3)"
   ]
  },
  {
   "cell_type": "markdown",
   "metadata": {},
   "source": [
    "The term $\\frac{1}{l!}$"
   ]
  },
  {
   "cell_type": "code",
   "execution_count": 15,
   "metadata": {},
   "outputs": [
    {
     "name": "stdout",
     "output_type": "stream",
     "text": [
      "Appending to Flux/Factorized_Waveform_For_Flux-on-top.txt\n"
     ]
    }
   ],
   "source": [
    "%%writefile -a $codesdir/Factorized_Waveform_For_Flux-on-top.txt\n",
    "\n",
    "lfactorialinv = 1/np.math.factorial(l)"
   ]
  },
  {
   "cell_type": "markdown",
   "metadata": {},
   "source": [
    "## The Source Term $\\hat{S}^{(\\epsilon)}_{\\mathrm{eff}}$\n",
    "\n",
    "The effective source term is also computed in a different function as part of an auxiliary python module."
   ]
  },
  {
   "cell_type": "code",
   "execution_count": 16,
   "metadata": {},
   "outputs": [
    {
     "name": "stdout",
     "output_type": "stream",
     "text": [
      "Appending to Flux/Factorized_Waveform_For_Flux-on-top.txt\n"
     ]
    }
   ],
   "source": [
    "%%writefile -a $codesdir/Factorized_Waveform_For_Flux-on-top.txt\n",
    "\n",
    "Se_eff = aux.Se_eff(l,m,Hreal,v,q,p,eta)"
   ]
  },
  {
   "cell_type": "markdown",
   "metadata": {},
   "source": [
    "## The PN Corrections $(\\rho_{lm})^l$\n",
    "\n",
    "This term is simply the PN Corrections $\\rho_{lm}$ raised to the power of $l$"
   ]
  },
  {
   "cell_type": "code",
   "execution_count": 17,
   "metadata": {},
   "outputs": [
    {
     "name": "stdout",
     "output_type": "stream",
     "text": [
      "Appending to Flux/Factorized_Waveform_For_Flux-on-top.txt\n"
     ]
    }
   ],
   "source": [
    "%%writefile -a $codesdir/Factorized_Waveform_For_Flux-on-top.txt\n",
    "\n",
    "rholmpowl = aux.rholmpowl(m1,m2,l,m,chiA,chiS,v,EMgamma)"
   ]
  },
  {
   "cell_type": "markdown",
   "metadata": {},
   "source": [
    "The parity of the Waveform mode $\\epsilon$\n",
    "\n",
    "We define $\\epsilon$ as the parity of the waveform\n",
    "\n",
    "$$\n",
    "\\epsilon = (l+m)\\mathbf{mod}2\n",
    "$$"
   ]
  },
  {
   "cell_type": "code",
   "execution_count": 18,
   "metadata": {},
   "outputs": [
    {
     "name": "stdout",
     "output_type": "stream",
     "text": [
      "Appending to Flux/Factorized_Waveform_For_Flux-on-top.txt\n"
     ]
    }
   ],
   "source": [
    "%%writefile -a $codesdir/Factorized_Waveform_For_Flux-on-top.txt\n",
    "\n",
    "epsilon = (l+m)%2"
   ]
  },
  {
   "cell_type": "markdown",
   "metadata": {},
   "source": [
    "The symmetric mass ratio $\\eta$\n",
    "\n",
    "The symmetric mass ratio $\\eta$ is defined as follows\n",
    "$$\n",
    "\\eta = \\frac{m_1m_2}{(m_1 + m_2)^2}\n",
    "$$"
   ]
  },
  {
   "cell_type": "code",
   "execution_count": 19,
   "metadata": {},
   "outputs": [
    {
     "name": "stdout",
     "output_type": "stream",
     "text": [
      "Appending to Flux/Factorized_Waveform_For_Flux-on-top.txt\n"
     ]
    }
   ],
   "source": [
    "%%writefile -a $codesdir/Factorized_Waveform_For_Flux-on-top.txt\n",
    "\n",
    "eta = m1*m2/(m1+m2)/(m1+m2)"
   ]
  },
  {
   "cell_type": "markdown",
   "metadata": {},
   "source": [
    "Compile this into a python module"
   ]
  },
  {
   "cell_type": "code",
   "execution_count": 20,
   "metadata": {},
   "outputs": [],
   "source": [
    "# Now reverse the expressions and write them in a function\n",
    "\n",
    "with open(os.path.join(outdir,\"factorized_waveform_for_flux.py\"), \"w\") as output:\n",
    "    output.write(\"import numpy as np\\nimport auxiliaryfunctions as aux\\ndef compute_hFlm_for_flux(m1, m2, EMgamma, tortoise, q, p, S1, S2, l, m, Hreal, v,chiA,chiS):\\n\")\n",
    "    for line in reversed(list(open(\"Flux/Factorized_Waveform_For_Flux-on-top.txt\"))):\n",
    "        output.write(\"    %s\\n\" % line.rstrip())\n",
    "    output.write(\"    return hF_lm\")\n"
   ]
  },
  {
   "cell_type": "code",
   "execution_count": null,
   "metadata": {},
   "outputs": [],
   "source": []
  }
 ],
 "metadata": {
  "kernelspec": {
   "display_name": "Python 3",
   "language": "python",
   "name": "python3"
  },
  "language_info": {
   "codemirror_mode": {
    "name": "ipython",
    "version": 3
   },
   "file_extension": ".py",
   "mimetype": "text/x-python",
   "name": "python",
   "nbconvert_exporter": "python",
   "pygments_lexer": "ipython3",
   "version": "3.8.8"
  }
 },
 "nbformat": 4,
 "nbformat_minor": 4
}
