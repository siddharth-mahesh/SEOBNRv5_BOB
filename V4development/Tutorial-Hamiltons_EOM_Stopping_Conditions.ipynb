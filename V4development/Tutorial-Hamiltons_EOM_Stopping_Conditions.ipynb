{
 "cells": [
  {
   "cell_type": "markdown",
   "id": "f66cda99",
   "metadata": {},
   "source": [
    "# Tutorial - Comprehensive Stopping Conditions for Hamilton's Equations of Motion for SEOBNR Models\n",
    "\n",
    "In this notebook we will document the stopping conditions "
   ]
  }
 ],
 "metadata": {
  "kernelspec": {
   "display_name": "Python 3",
   "language": "python",
   "name": "python3"
  },
  "language_info": {
   "codemirror_mode": {
    "name": "ipython",
    "version": 3
   },
   "file_extension": ".py",
   "mimetype": "text/x-python",
   "name": "python",
   "nbconvert_exporter": "python",
   "pygments_lexer": "ipython3",
   "version": "3.8.8"
  }
 },
 "nbformat": 4,
 "nbformat_minor": 5
}
