{
 "cells": [
  {
   "cell_type": "markdown",
   "metadata": {},
   "source": [
    "# Developing a Coordinate Transformation Routine for Solving Hamilton's EOM in Spherical Coordinates\n",
    "\n",
    "### Author: Siddharth Mahesh\n",
    "\n",
    "## Step : Import Modules\n",
    "\n",
    "\n"
   ]
  },
  {
   "cell_type": "code",
   "execution_count": 1,
   "metadata": {},
   "outputs": [],
   "source": [
    "import numpy as np\n",
    "import sympy as sp"
   ]
  },
  {
   "cell_type": "markdown",
   "metadata": {},
   "source": [
    "\n",
    "## Step : Transforming Cartesian Coordinates to Spherical Polar\n",
    "\n",
    "We define the transformation from cartesian coordinates $(x,y,z)$ to spherical polar $(r,\\phi,\\theta)$ as follows:\n",
    "\n",
    "$$\n",
    "r = \\sqrt{x^2 + y^2 + z^2}\\\\\n",
    "\\phi = \\tan^{-1}\\left(\\frac{y}{x}\\right)\\\\\n",
    "\\theta = \\cos^{-1}\\left(\\frac{z}{r}\\right)\n",
    "$$\n",
    "\n",
    "The momenta are then given by:\n",
    "\n",
    "$$\n",
    "p^r = p^x\\cos\\phi\\sin\\theta + p^y\\sin\\phi\\sin\\theta + p^z\\cos\\theta \\\\\n",
    "p^\\phi = -p^xr\\sin\\phi\\cos\\theta + p^yr\\cos\\phi\\sin\\theta\\\\\n",
    "p^\\theta = p^xr\\cos\\phi\\cos\\theta + p^yr\\sin\\phi\\cos\\theta - p^z\\sin\\theta\n",
    "$$"
   ]
  },
  {
   "cell_type": "code",
   "execution_count": null,
   "metadata": {},
   "outputs": [],
   "source": [
    "def TransformCartesianToSpherical(values,off,sep):\n",
    "    x , y , z = values[0] , values[1] , values[2]\n",
    "    px , py , pz = values[off+sep*0] , values[off+sep*1] , values[off+sep*2]\n",
    "    r = np.sqrt(x*x + y*y + z*z)\n",
    "    phi = np.arctan2(y,x)\n",
    "    theta = np.arccos(z,r)\n",
    "    c_phi , s_phi = np.cos(phi) , np.sin(phi)\n",
    "    c_theta , s_theta = np.cos(theta) , np.sin(theta)\n",
    "    sph_values = np.zeros(len(values))\n",
    "    sph_values[0] = r\n",
    "    sph_values[1] = phi\n",
    "    sph_values[2] = theta\n",
    "    sph_values[off+sep*0] = px*c_phi*s_theta + py*s_phi*s_theta + pz*c_theta\n",
    "    sph_values[off+sep*1] = -px*r*s_phi*s_theta + py*c_phi*s_theta\n",
    "    sph_values[off+sep*2] = px*r*c_phi*c_theta + py*r*s_phi*c_theta - pz*r*s_theta\n",
    "    return sph_values   "
   ]
  },
  {
   "cell_type": "markdown",
   "metadata": {},
   "source": [
    "## Step : Transforming Spherical Polar Coordinates to Cartesian\n",
    "\n",
    "We define the transformation from spherical coordinates to cartesian as follows:\n",
    "\n",
    "$$\n",
    "x = r\\cos\\phi\\sin\\theta\\\\\n",
    "y = r\\sin\\phi\\sin\\theta\\\\\n",
    "z = r\\cos\\theta\n",
    "$$\n",
    "\n",
    "The momenta then transform as:\n",
    "\n",
    "$$\n",
    "p^x = p^r\\cos\\phi\\sin\\theta - \\frac{p^\\phi\\sin\\phi\\sin\\theta}{r} + \\frac{p^\\theta\\cos\\phi\\cos\\theta}{r}\\\\\n",
    "p^y = p^r\\sin\\phi\\sin\\theta + \\frac{p^\\phi\\cos\\phi\\sin\\theta}{r} + \\frac{p^\\theta\\sin\\phi\\cos\\theta}{r}\\\\\n",
    "p^z = p^r\\cos\\theta - \\frac{p^\\theta\\sin\\theta}{r}\n",
    "$$"
   ]
  },
  {
   "cell_type": "code",
   "execution_count": null,
   "metadata": {},
   "outputs": [],
   "source": [
    "def TransformSphericalToCartesian(values,off,sep):\n",
    "    r , phi , theta = values[0] , values[1] , values[2]\n",
    "    pr , pphi , ptheta = values[off+sep*0] , values[off+sep*1] , values[off+sep*2]\n",
    "    c_phi , s_phi = np.cos(phi) , np.sin(phi)\n",
    "    c_theta , s_theta = np.cos(theta) , np.sin(theta)\n",
    "    cart_values = np.zeros(len(values))\n",
    "    cart_values[0] = r*c_phi*s_theta\n",
    "    cart_values[1] = r*s_phi*s_theta\n",
    "    cart_values[2] = r*c_theta\n",
    "    cart_values[off+sep*0] = pr*c_phi*s_theta + (-pphi*s_phi*s_theta + ptheta*c_phi*c_theta)/r\n",
    "    cart_values[off+sep*1] = pr*s_phi*s_theta + (pphi*c_phi*s_theta + ptheta*s_phi*c_theta)/r\n",
    "    cart_values[off+sep*2] = pr*c_theta - ptheta*s_theta/r\n",
    "    return sph_values"
   ]
  },
  {
   "cell_type": "markdown",
   "metadata": {},
   "source": [
    "## Step : The Jacobian Matrix of Transformation\n",
    "\n",
    "In order to translate partial derivatives of the Hamiltonian from cartesian coordinates to spherical polar, we must provide a dictionary of how partial derivatives transform from one coordinate system to the other. This is best encoded in the Jacobian matrix. If we were to define the cartesian phase space as $\\eta^C = (x,y,z,p^x,p^y,p^z)$ and likewise define the spherical polar phase space as $\\eta^S$, then the Jacobian can be defined as:\n",
    "\n",
    "$$\n",
    "\\mathbf{J} = \\frac{\\partial\\eta^S}{\\partial\\eta^C}\\\\\n",
    "J_{ij} = \\frac{\\partial\\eta^S_i}{\\partial\\eta^C_j}\n",
    "$$\n",
    "\n",
    "This can be given in cartesian coordinates as:\n",
    "\n",
    "$$\n",
    "\\mathbf{J} = \\begin{pmatrix}\n",
    "\\frac{x}{\\sqrt{x^2+y^2+z^2}} & \\frac{y}{\\sqrt{x^2+y^2+z^2}} &\n",
    "   \\frac{z}{\\sqrt{x^2+y^2+z^2}} & 0 & 0 & 0 \\\\\n",
    " \\frac{y}{x^2+y^2} & -\\frac{x}{x^2+y^2} & 0 & 0 & 0 & 0 \\\\\n",
    " -\\frac{x z}{\\sqrt{x^2+y^2} \\left(x^2+y^2+z^2\\right)} & -\\frac{y\n",
    "   z}{\\sqrt{x^2+y^2} \\left(x^2+y^2+z^2\\right)} &\n",
    "   \\frac{\\sqrt{x^2+y^2}}{x^2+y^2+z^2} & 0 & 0 & 0 \\\\\n",
    " \\frac{p^x}{\\sqrt{x^2+y^2+z^2}}-\\frac{x (p^x x+p^y\n",
    "   y+p^z z)}{\\left(x^2+y^2+z^2\\right)^{3/2}} &\n",
    "   \\frac{p^y}{\\sqrt{x^2+y^2+z^2}}-\\frac{y (p^x x+p^y\n",
    "   y+p^z z)}{\\left(x^2+y^2+z^2\\right)^{3/2}} &\n",
    "   \\frac{p^z}{\\sqrt{x^2+y^2+z^2}}-\\frac{z (p^x x+p^y\n",
    "   y+p^z z)}{\\left(x^2+y^2+z^2\\right)^{3/2}} &\n",
    "   \\frac{x}{\\sqrt{x^2+y^2+z^2}} & \\frac{y}{\\sqrt{x^2+y^2+z^2}} &\n",
    "   \\frac{z}{\\sqrt{x^2+y^2+z^2}} \\\\\n",
    " p^y & -p^x & 0 & -y & x & 0 \\\\\n",
    " -\\frac{(p^x x z+p^y y z)\n",
    "   x}{\\left(x^2+y^2\\right)^{3/2}}-\\frac{p^z\n",
    "   x}{\\sqrt{x^2+y^2}}+\\frac{p^x z}{\\sqrt{x^2+y^2}} &\n",
    "   -\\frac{(p^x x z+p^y y z)\n",
    "   y}{\\left(x^2+y^2\\right)^{3/2}}-\\frac{p^z\n",
    "   y}{\\sqrt{x^2+y^2}}+\\frac{p^y z}{\\sqrt{x^2+y^2}} & \\frac{p^x\n",
    "   x+p^y y}{\\sqrt{x^2+y^2}} & \\frac{x z}{\\sqrt{x^2+y^2}} & \\frac{y\n",
    "   z}{\\sqrt{x^2+y^2}} & -\\sqrt{x^2+y^2} \\\\\n",
    "\\end{pmatrix}\n",
    "$$\n",
    "\n",
    "But since we will have in our possession spherical polar coordinates, alternatively we can rewrite the Jacobian as:\n",
    "\n",
    "$$\n",
    "\\mathbf{J} = \\begin{pmatrix}\n",
    " \\cos \\phi \\sin \\theta & \\sin \\theta \\sin \\phi & \\cos \\theta\n",
    "  & 0 & 0 & 0 \\\\\n",
    " \\frac{\\csc \\theta \\sin \\phi}{r} & -\\frac{\\cos \\phi \\csc \\theta\n",
    " }{r} & 0 & 0 & 0 & 0 \\\\\n",
    " -\\frac{\\cos \\theta \\cos \\phi}{r} & -\\frac{\\cos \\theta \\sin \\phi\n",
    " }{r} & \\frac{\\sin \\theta}{r} & 0 & 0 & 0 \\\\\n",
    " \\frac{p^\\theta \\cos \\theta \\cos \\phi-p^\\phi \\sin\n",
    "   \\theta \\sin \\phi}{r^2} & \\frac{p^\\phi \\cos \\phi \\sin\n",
    "   \\theta+p^\\theta \\cos \\theta \\sin \\phi}{r^2} &\n",
    "   -\\frac{p^\\theta \\sin \\theta}{r^2} & \\cos \\phi \\sin\n",
    "   \\theta & \\sin \\theta \\sin \\phi & \\cos \\theta \\\\\n",
    " \\frac{p^\\phi \\cos \\phi \\sin \\theta+p^r r \\sin \\phi\n",
    "  \\sin \\theta+p^\\theta \\cos \\theta \\sin \\phi}{r} &\n",
    "   \\frac{p^\\phi \\sin \\theta \\sin \\phi-\\cos \\phi\n",
    "   (p^\\theta \\cos \\theta+p^r r \\sin \\theta)}{r} & 0 &\n",
    "   -r \\sin \\theta \\sin \\phi & r \\cos \\phi \\sin \\theta & 0 \\\\\n",
    " \\frac{p^\\theta \\cos \\phi \\sin \\theta-\\cos \\theta\n",
    "   (p^r r \\cos \\phi+p^\\phi \\sin \\phi)}{r} &\n",
    "   \\frac{p^\\phi \\cos \\theta \\cos \\phi-p^r r \\cos\n",
    "   \\theta \\sin \\phi+p^\\theta \\sin \\theta \\sin \\phi\n",
    " }{r} & \\frac{p^\\theta \\cos \\theta}{r}+p^r \\sin\n",
    "   \\theta & r \\cos \\theta \\cos \\phi & r \\cos \\theta \\sin \\phi\n",
    "  & -r \\sin \\theta \\\\\n",
    "\\end{pmatrix}\n",
    "$$"
   ]
  },
  {
   "cell_type": "code",
   "execution_count": 3,
   "metadata": {},
   "outputs": [],
   "source": [
    "def JacobianSphericalbyCart(values):\n",
    "    r , phi , theta = values[0] , values[1] , values[2]\n",
    "    pr , pphi , ptheta = values[off+sep*0] , values[off+sep*1] , values[off+sep*2]\n",
    "    c_phi , s_phi = np.cos(phi) , np.sin(phi)\n",
    "    c_theta , s_theta = np.cos(theta) , np.sin(theta)\n",
    "    rinv = 1/r\n",
    "    csc_theta = 1/s_theta\n",
    "    jacobiansphericalbycart = np.array([[c_phi*s_theta, s_theta*s_phi, c_theta,0, 0, 0], [(csc_theta*s_phi)*rinv, -((c_phi*csc_theta)*rinv), 0, 0, 0,0], [-((c_theta*c_phi)*rinv), -((c_theta*s_phi)*rinv), s_theta*rinv, 0, 0, 0], [(ptheta*c_theta*c_phi - pphi*s_theta*s_phi)*(rinv*rinv), (pphi*c_phi*s_theta + ptheta*c_theta*s_phi)*(rinv*rinv), -((ptheta*s_theta)*(rinv*rinv)), c_phi*s_theta, s_theta*s_phi, c_theta], [(pphi*c_phi*s_theta + ptheta*c_theta*s_phi + pr*r*s_theta*s_phi)*rinv, (-c_phi*(ptheta*c_theta + pr*r*s_theta) + pphi*s_theta*s_phi)*rinv,0, -r*s_theta*s_phi, r*c_phi*s_theta, 0], [(ptheta*c_phi*s_theta - c_theta*(pr*r*c_phi + pphi*s_phi))*rinv, (pphi*c_theta*c_phi - pr*r*c_theta*s_phi + ptheta*s_theta*s_phi)*rinv, (ptheta*c_theta)*rinv + pr*s_theta, r*c_theta*c_phi, r*c_theta*s_phi, -r*s_theta]])\n",
    "    return jacobiansphericalbycart"
   ]
  },
  {
   "cell_type": "markdown",
   "metadata": {},
   "source": [
    "## Step : Hamilton's Equations in Symplectic Form\n",
    "\n",
    "Consider an abstract Hamiltonian $\\mathcal{H}$ that is given in cartesian coordinates. The propagation of the dynamical variables $\\eta = \\left(x,y,z,p^x,p^y,p^z\\right)$ over time can be written in *symplectic form* as follows:\n",
    "\n",
    "$$\n",
    "\\dot{\\eta} = \\mathbf{\\bar{I}}\\frac{\\partial\\mathcal{H}}{\\partial\\eta}\n",
    "$$\n",
    "\n",
    "Where $\\mathbf{\\bar{I}}$ is a matrix that, for $N$ spatial variables, can be given in block form as:\n",
    "\n",
    "$$\n",
    "\\mathbf{\\bar{I}} = \\begin{pmatrix}\n",
    "\\mathbf{0}_{N} & \\mathbf{I}_{N}\\\\\n",
    "-\\mathbf{I}_{N} & \\mathbf{0}_{N}\n",
    "\\end{pmatrix}\n",
    "$$\n",
    "\n",
    "Where $\\mathbf{0}_{N}$ represents the $N\\times N$ zero matrix while $\\mathbf{I}_{N}$ is the $N\\times N$ identity matrix. This matrix will prove valuable in generating the left-hand-sides for the time evolution of spherical polar coordinates and thus, needs to be implemented.\n",
    "\n",
    "Note: While the term symplectic generally refers to Hamiltonians that conserve energy, the name symplectic form here is used to represent writing the Hamilton's Equations in the above form."
   ]
  },
  {
   "cell_type": "code",
   "execution_count": 2,
   "metadata": {},
   "outputs": [
    {
     "name": "stdout",
     "output_type": "stream",
     "text": [
      "[[ 0.  0.  0.  1.  0.  0.]\n",
      " [ 0.  0.  0.  0.  1.  0.]\n",
      " [ 0.  0.  0.  0.  0.  1.]\n",
      " [-1. -0. -0.  0.  0.  0.]\n",
      " [-0. -1. -0.  0.  0.  0.]\n",
      " [-0. -0. -1.  0.  0.  0.]]\n"
     ]
    }
   ],
   "source": [
    "def ConstructIbar():\n",
    "    return np.block([[np.zeros([3,3]) , np.identity(3)],[-np.identity(3) , np.zeros([3,3])]])"
   ]
  },
  {
   "cell_type": "markdown",
   "metadata": {},
   "source": [
    "## Step : The EOM for Spherical Polar Coordinates in Symplectic Form\n",
    "\n",
    "The Equations of Motion satisfied by the spherical polar variables $\\eta^S$ are given by:\n",
    "\n",
    "$$\n",
    "\\dot{\\eta}^S = \\frac{\\partial\\eta^S}{\\partial\\eta}\\dot{\\eta}\n",
    "$$\n",
    "\n",
    "Where, $\\eta$ are the cartesian variables. Thus,\n",
    "\n",
    "$$\n",
    "\\dot{\\eta}^S = \\mathbf{J}\\mathbf{\\bar{I}}\\frac{\\partial\\mathcal{H}}{\\partial\\eta}\n",
    "$$"
   ]
  },
  {
   "cell_type": "code",
   "execution_count": null,
   "metadata": {},
   "outputs": [],
   "source": []
  }
 ],
 "metadata": {
  "kernelspec": {
   "display_name": "Python 3",
   "language": "python",
   "name": "python3"
  },
  "language_info": {
   "codemirror_mode": {
    "name": "ipython",
    "version": 3
   },
   "file_extension": ".py",
   "mimetype": "text/x-python",
   "name": "python",
   "nbconvert_exporter": "python",
   "pygments_lexer": "ipython3",
   "version": "3.7.1"
  }
 },
 "nbformat": 4,
 "nbformat_minor": 2
}
