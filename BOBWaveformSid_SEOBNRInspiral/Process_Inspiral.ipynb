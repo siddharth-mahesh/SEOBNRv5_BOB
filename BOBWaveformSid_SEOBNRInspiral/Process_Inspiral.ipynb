{
 "cells": [
  {
   "cell_type": "code",
   "execution_count": 1,
   "metadata": {},
   "outputs": [],
   "source": [
    "import numpy as np\n",
    "import matplotlib.pyplot as plt\n",
    "%matplotlib inline"
   ]
  },
  {
   "cell_type": "markdown",
   "metadata": {},
   "source": [
    "# Processing Effective-One-Body Inspiral Waveforms for Merger-Ringdown\n",
    "\n",
    "## Introduction\n",
    "\n",
    "In order to generate full waveforms for binary black hole mergers, one requires accurate modelling of the inspiral and merger-ringdown phases of the merger. For the inspiral phase, the Effective-One-Body(EOB) formalism provides fast and accurate waveforms. However, in order to use the BOB formalism to model the merger ringdown, the inspiral datatset needs to be processed to obtain additional information that are need as input.\n",
    "\n",
    "We discuss here the nature of the inspiral dataset and document how to obtain the relevant quantities in order to generate the full waveform.\n",
    "\n",
    "## The Dataset\n",
    "\n",
    "The inspiral dataset provides the following information:\n",
    "\n",
    "1. Time , $t$\n",
    "2. $\\mathfrak{Re}(h_{22})$\n",
    "3. $\\mathfrak{Im}(h_{22})$\n",
    "4. $|h_{22}|$\n",
    "5. Phase, $\\Phi$\n",
    "\n",
    "We read in this data here. We also declare the output array which should have, as intended:\n",
    "\n",
    "1.   Time, $t$\n",
    "2.   $\\mathfrak{Re}(h_{22})$\n",
    "3.   $\\mathfrak{Im}(h_{22})$\n",
    "4.   $|h_{22}|$\n",
    "5.   Phase , $\\Phi$\n",
    "6.   Orbital Frequency, $\\omega$\n",
    "7.   Frequency Derivative, $\\dot{\\omega}$"
   ]
  },
  {
   "cell_type": "code",
   "execution_count": 2,
   "metadata": {},
   "outputs": [],
   "source": [
    "IN_TIME , IN_HR , IN_HI , IN_HMAG , IN_PHI = 0 , 1 , 2 , 3 , 4\n",
    "OUT_TIME , OUT_HR , OUT_HI , OUT_HMAG , OUT_PHI , OUT_OM , OUT_OMDOT = 0 , 1 , 2 , 3 , 4 , 5 , 6\n",
    "\n",
    "inspiral_waveform_in = np.loadtxt(\"23_m_sol_no_spin.dat\")\n",
    "\n",
    "inspiral_waveform_out = np.zeros([len(inspiral_waveform_in),7])\n",
    "inspiral_waveform_out[:,:OUT_PHI] = inspiral_waveform_in[:,:IN_PHI]\n",
    "inspiral_waveform_out[:,OUT_PHI] = np.arctan2(inspiral_waveform_in[:,IN_HI],inspiral_waveform_in[:,IN_HR])"
   ]
  },
  {
   "cell_type": "markdown",
   "metadata": {},
   "source": [
    "## Computing the Frequency and its derivative\n",
    "\n",
    "We can obtain the frequency from the phase information by relating\n",
    "\n",
    "$$\n",
    "\\omega = \\frac{d\\Phi}{dt}\n",
    "$$\n",
    "\n",
    "To do this, we use finite difference derivatives to compute the frequency and its derivative:\n",
    "\n",
    "$$\n",
    "[\\omega]_{i} =  \\frac{\\Phi_{i+1} -  \\Phi_{i-1}}{2\\Delta t} \\\\\n",
    "[\\dot{\\omega}]_{i} = \\frac{\\Phi_{i+1} + \\Phi_{i-1} - 2\\Phi_{i}}{\\left(\\Delta t\\right)^2} \\\\\n",
    "$$\n",
    "\n",
    "As part of the implementation, we choose the first and last data points as \"ghost zones\"."
   ]
  },
  {
   "cell_type": "code",
   "execution_count": 3,
   "metadata": {},
   "outputs": [
    {
     "data": {
      "text/plain": [
       "[<matplotlib.lines.Line2D at 0x7fa67c47e588>]"
      ]
     },
     "execution_count": 3,
     "metadata": {},
     "output_type": "execute_result"
    },
    {
     "data": {
      "image/png": "[encoded data removed]",
      "text/plain": [
       "<Figure size 432x288 with 1 Axes>"
      ]
     },
     "metadata": {},
     "output_type": "display_data"
    }
   ],
   "source": [
    "dt = inspiral_waveform_in[1,IN_TIME] - inspiral_waveform_in[0,IN_TIME]\n",
    "for i in range(1,len(inspiral_waveform_in)-1):\n",
    "    inspiral_waveform_out[i,OUT_OM] = abs((inspiral_waveform_in[i+1,IN_PHI] - inspiral_waveform_in[i-1,IN_PHI])/(2*dt))\n",
    "    inspiral_waveform_out[i,OUT_OMDOT] = abs((inspiral_waveform_in[i+1,IN_PHI] + inspiral_waveform_in[i-1,IN_PHI] - 2*inspiral_waveform_in[i,IN_PHI])/(dt*dt))\n",
    "    \n",
    "plt.plot(inspiral_waveform_out[:,OUT_TIME],inspiral_waveform_out[:,OUT_OM])"
   ]
  },
  {
   "cell_type": "markdown",
   "metadata": {},
   "source": [
    "## Outputting the Processed Waveform and Final State\n",
    "\n",
    "We have the LALSuite numerical fit to the final state of the merger for the equal mass non-spinning case is given by:\n",
    "\n",
    "$$\n",
    "M_f = 0.9517857 M\\\\\n",
    "a_f \\equiv \\frac{J_f}{M^2_f} = 0.6864427\n",
    "$$\n",
    "\n",
    "We now output all this information in order to generate the full waveform using the BOB formalism."
   ]
  },
  {
   "cell_type": "code",
   "execution_count": 4,
   "metadata": {},
   "outputs": [],
   "source": [
    "np.savetxt(\"processed_inspiral_waveform.dat\",inspiral_waveform_out)\n",
    "finstate = np.array([46 , 0.9517857 , 0.6864427])\n",
    "np.savetxt(\"finstate.dat\",finstate)"
   ]
  }
 ],
 "metadata": {
  "kernelspec": {
   "display_name": "Python 3",
   "language": "python",
   "name": "python3"
  },
  "language_info": {
   "codemirror_mode": {
    "name": "ipython",
    "version": 3
   },
   "file_extension": ".py",
   "mimetype": "text/x-python",
   "name": "python",
   "nbconvert_exporter": "python",
   "pygments_lexer": "ipython3",
   "version": "3.6.8"
  }
 },
 "nbformat": 4,
 "nbformat_minor": 2
}
