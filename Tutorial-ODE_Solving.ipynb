{
 "cells": [
  {
   "cell_type": "code",
   "execution_count": 1,
   "metadata": {},
   "outputs": [],
   "source": [
    "import numpy as np\n",
    "import matplotlib.pyplot as plt\n",
    "import scipy.integrate as scint"
   ]
  },
  {
   "cell_type": "markdown",
   "metadata": {},
   "source": [
    "# Tutorial - Solving ODEs using scipy.integrate's RK45 and DenseOutput Functionalities\n",
    "### Author: Siddharth Mahesh\n",
    "\n",
    "In this notebook, we will demonstrate, using a simple, well-behaved Hamiltonian, how we can integrate the Hamilton's equations of motion using scipy.integrate's ode-solving features. To begin we will specify the system of interest.\n",
    "\n",
    "## The System of Interest:\n",
    "\n",
    "For this demonstration, we will use the Hamiltonian for the 2-d Harmonic Oscillator:\n",
    "\n",
    "$$\n",
    "\\mathcal{H} = \\frac{px^2 + py^2}{2} + \\frac{\\omega_x^2 x^2 + \\omega_y^2 y^2}{2} \n",
    "$$\n",
    "\n",
    "The equations of motion for the above system can be rewritten as a general first-order ordinary differential equation as follows:\n",
    "\n",
    "$$\n",
    "\\dot{\\vec{\\eta}} = \\vec{f}(t,\\vec{\\eta})\n",
    "$$\n",
    "\n",
    "Where, $\\vec{\\eta} = (x,y,p_x,p_y)$ and the dot denotes a time derivative. The function $\\vec{f}$ can be written as:\n",
    "\n",
    "$$\n",
    "\\vec{f} = (p_x,p_y,-\\omega_x^2 x, -\\omega_y^2 y)\n",
    "$$\n",
    "\n",
    "We will therefore write two wrapper functions, one where the omegas can be passed as parameters and another where the wrapper function is generated using the omegas as input parameters instead. Let us first define the hamiltonian derivatives regardless of this choice"
   ]
  },
  {
   "cell_type": "code",
   "execution_count": 2,
   "metadata": {},
   "outputs": [],
   "source": [
    "def Ham_derivs(x,y,px,py,omegax,omegay):\n",
    "    return np.array([px,py,-omegax*x,-omegay*y])"
   ]
  },
  {
   "cell_type": "markdown",
   "metadata": {},
   "source": [
    "## Case 1: Generate wrapper using $\\omega$'s as input\n",
    "\n",
    "In this case, we will create a wrapper function where $\\omega_x,\\omega_y$ are provided as inputs to generate the wrapper function."
   ]
  },
  {
   "cell_type": "code",
   "execution_count": 3,
   "metadata": {},
   "outputs": [],
   "source": [
    "def generate_wrapper_with_these_inputs(omegax,omegay):\n",
    "    func = lambda t,eta: Ham_derivs(eta[0],eta[1],eta[2],eta[3],omegax,omegay)\n",
    "    return func\n"
   ]
  },
  {
   "cell_type": "markdown",
   "metadata": {},
   "source": [
    "## Case 2: Generate wrapper with $\\omega$'s as keyword arguments\n",
    "\n",
    "In this case, we will create a wrapper function using python's keyword arguments functionality. "
   ]
  },
  {
   "cell_type": "code",
   "execution_count": 4,
   "metadata": {},
   "outputs": [],
   "source": [
    "def wrapper_function(t,eta,**params):\n",
    "    omegax = params[\"omegax\"]\n",
    "    omegay = params[\"omegay\"]\n",
    "    x, y, px, py = eta[0], eta[1], eta[2], eta[3]\n",
    "    return Ham_derivs(x,y,px,py,omegax,omegay)"
   ]
  },
  {
   "cell_type": "markdown",
   "metadata": {},
   "source": [
    "## Define the Initial Conditions and Final Conditions\n",
    "\n",
    "For this demonstration, we will be using the initial conditions:\n",
    "\n",
    "$$\n",
    "x(0) = 1\\\\\n",
    "y(0) = 0\\\\\n",
    "p_x(0) = 0\\\\\n",
    "p_y(0) = \\frac{1}{\\omega_y}\n",
    "$$\n",
    "\n",
    "Which should give the following solution for the trajectory of the particle (famously known as the Lissajous figure):\n",
    "\n",
    "$$\n",
    "\\vec{r} = (x,y) = (\\cos\\omega_x t, \\sin\\omega_y t)\n",
    "$$\n",
    "\n",
    "We also define the stopping conditions as to stop if one of the positions: $x$  or $y > 1 + \\epsilon$, i.e if the oscillator has moved past it's amplitude by some tolerance factor $\\epsilon$ as well as if the momentum exceeds the maximum momentum i.e, $p_x > \\omega_x(1 + \\epsilon)$ or $p_y > \\omega_y(1 + \\epsilon)$. Finally we stop when we have made 20 orbits of the lowest frequency, i.e $t > \\frac{40\\pi}{\\rm{min}(\\omega_x,\\omega_y)}$."
   ]
  },
  {
   "cell_type": "code",
   "execution_count": 5,
   "metadata": {},
   "outputs": [],
   "source": [
    "def generate_initial_conditions(omegax,omegay):\n",
    "    return np.array([1,0,0,1/omegay])\n",
    "\n",
    "def stop_conditions(t,eta,omegax,omegay,eps):\n",
    "    factor = 1. + eps\n",
    "    max_t = 40*np.pi/(np.min(omegax,omegay))\n",
    "    if eta[0] > factor or eta[1] > factor:\n",
    "        return -1\n",
    "    if eta[2] > omegax*factor or eta[3] > omegay*factor:\n",
    "        return -2\n",
    "    if t > max_time:\n",
    "        return 0\n",
    "    return 1"
   ]
  },
  {
   "cell_type": "markdown",
   "metadata": {},
   "source": [
    "## Create the RK45 object\n",
    "\n",
    "We now create an RK45 object that will factor in all the initial conditions and the right hand side function so that the resulting object can be used to perform adaptive integration."
   ]
  },
  {
   "cell_type": "code",
   "execution_count": 10,
   "metadata": {},
   "outputs": [
    {
     "name": "stderr",
     "output_type": "stream",
     "text": [
      "C:\\Users\\siddh\\anaconda3\\lib\\site-packages\\scipy\\integrate\\_ivp\\common.py:39: UserWarning: The following arguments have no effect for a chosen solver: `omegax`, `omegay`.\n",
      "  warn(\"The following arguments have no effect for a chosen solver: {}.\"\n"
     ]
    },
    {
     "ename": "KeyError",
     "evalue": "'omegax'",
     "output_type": "error",
     "traceback": [
      "\u001b[1;31m---------------------------------------------------------------------------\u001b[0m",
      "\u001b[1;31mKeyError\u001b[0m                                  Traceback (most recent call last)",
      "\u001b[1;32m<ipython-input-10-585b2d228ac1>\u001b[0m in \u001b[0;36m<module>\u001b[1;34m\u001b[0m\n\u001b[0;32m      8\u001b[0m \u001b[1;33m\u001b[0m\u001b[0m\n\u001b[0;32m      9\u001b[0m \u001b[0mrun_case_1\u001b[0m \u001b[1;33m=\u001b[0m \u001b[0mscint\u001b[0m\u001b[1;33m.\u001b[0m\u001b[0mRK45\u001b[0m\u001b[1;33m(\u001b[0m\u001b[0mgenerated_wrapper_function\u001b[0m\u001b[1;33m,\u001b[0m\u001b[0mt_0\u001b[0m\u001b[1;33m,\u001b[0m\u001b[0meta_0\u001b[0m\u001b[1;33m,\u001b[0m\u001b[1;36m200\u001b[0m\u001b[1;33m)\u001b[0m\u001b[1;33m\u001b[0m\u001b[1;33m\u001b[0m\u001b[0m\n\u001b[1;32m---> 10\u001b[1;33m \u001b[0mrun_case_2\u001b[0m \u001b[1;33m=\u001b[0m \u001b[0mscint\u001b[0m\u001b[1;33m.\u001b[0m\u001b[0mRK45\u001b[0m\u001b[1;33m(\u001b[0m\u001b[0mwrapper_function\u001b[0m\u001b[1;33m,\u001b[0m\u001b[0mt_0\u001b[0m\u001b[1;33m,\u001b[0m\u001b[0meta_0\u001b[0m\u001b[1;33m,\u001b[0m\u001b[1;36m200\u001b[0m\u001b[1;33m,\u001b[0m\u001b[0momegax\u001b[0m \u001b[1;33m=\u001b[0m \u001b[0momega_x\u001b[0m\u001b[1;33m,\u001b[0m\u001b[0momegay\u001b[0m \u001b[1;33m=\u001b[0m \u001b[0momega_y\u001b[0m\u001b[1;33m)\u001b[0m\u001b[1;33m\u001b[0m\u001b[1;33m\u001b[0m\u001b[0m\n\u001b[0m",
      "\u001b[1;32m~\\anaconda3\\lib\\site-packages\\scipy\\integrate\\_ivp\\rk.py\u001b[0m in \u001b[0;36m__init__\u001b[1;34m(self, fun, t0, y0, t_bound, max_step, rtol, atol, vectorized, first_step, **extraneous)\u001b[0m\n\u001b[0;32m     92\u001b[0m         \u001b[0mself\u001b[0m\u001b[1;33m.\u001b[0m\u001b[0mmax_step\u001b[0m \u001b[1;33m=\u001b[0m \u001b[0mvalidate_max_step\u001b[0m\u001b[1;33m(\u001b[0m\u001b[0mmax_step\u001b[0m\u001b[1;33m)\u001b[0m\u001b[1;33m\u001b[0m\u001b[1;33m\u001b[0m\u001b[0m\n\u001b[0;32m     93\u001b[0m         \u001b[0mself\u001b[0m\u001b[1;33m.\u001b[0m\u001b[0mrtol\u001b[0m\u001b[1;33m,\u001b[0m \u001b[0mself\u001b[0m\u001b[1;33m.\u001b[0m\u001b[0matol\u001b[0m \u001b[1;33m=\u001b[0m \u001b[0mvalidate_tol\u001b[0m\u001b[1;33m(\u001b[0m\u001b[0mrtol\u001b[0m\u001b[1;33m,\u001b[0m \u001b[0matol\u001b[0m\u001b[1;33m,\u001b[0m \u001b[0mself\u001b[0m\u001b[1;33m.\u001b[0m\u001b[0mn\u001b[0m\u001b[1;33m)\u001b[0m\u001b[1;33m\u001b[0m\u001b[1;33m\u001b[0m\u001b[0m\n\u001b[1;32m---> 94\u001b[1;33m         \u001b[0mself\u001b[0m\u001b[1;33m.\u001b[0m\u001b[0mf\u001b[0m \u001b[1;33m=\u001b[0m \u001b[0mself\u001b[0m\u001b[1;33m.\u001b[0m\u001b[0mfun\u001b[0m\u001b[1;33m(\u001b[0m\u001b[0mself\u001b[0m\u001b[1;33m.\u001b[0m\u001b[0mt\u001b[0m\u001b[1;33m,\u001b[0m \u001b[0mself\u001b[0m\u001b[1;33m.\u001b[0m\u001b[0my\u001b[0m\u001b[1;33m)\u001b[0m\u001b[1;33m\u001b[0m\u001b[1;33m\u001b[0m\u001b[0m\n\u001b[0m\u001b[0;32m     95\u001b[0m         \u001b[1;32mif\u001b[0m \u001b[0mfirst_step\u001b[0m \u001b[1;32mis\u001b[0m \u001b[1;32mNone\u001b[0m\u001b[1;33m:\u001b[0m\u001b[1;33m\u001b[0m\u001b[1;33m\u001b[0m\u001b[0m\n\u001b[0;32m     96\u001b[0m             self.h_abs = select_initial_step(\n",
      "\u001b[1;32m~\\anaconda3\\lib\\site-packages\\scipy\\integrate\\_ivp\\base.py\u001b[0m in \u001b[0;36mfun\u001b[1;34m(t, y)\u001b[0m\n\u001b[0;32m    136\u001b[0m         \u001b[1;32mdef\u001b[0m \u001b[0mfun\u001b[0m\u001b[1;33m(\u001b[0m\u001b[0mt\u001b[0m\u001b[1;33m,\u001b[0m \u001b[0my\u001b[0m\u001b[1;33m)\u001b[0m\u001b[1;33m:\u001b[0m\u001b[1;33m\u001b[0m\u001b[1;33m\u001b[0m\u001b[0m\n\u001b[0;32m    137\u001b[0m             \u001b[0mself\u001b[0m\u001b[1;33m.\u001b[0m\u001b[0mnfev\u001b[0m \u001b[1;33m+=\u001b[0m \u001b[1;36m1\u001b[0m\u001b[1;33m\u001b[0m\u001b[1;33m\u001b[0m\u001b[0m\n\u001b[1;32m--> 138\u001b[1;33m             \u001b[1;32mreturn\u001b[0m \u001b[0mself\u001b[0m\u001b[1;33m.\u001b[0m\u001b[0mfun_single\u001b[0m\u001b[1;33m(\u001b[0m\u001b[0mt\u001b[0m\u001b[1;33m,\u001b[0m \u001b[0my\u001b[0m\u001b[1;33m)\u001b[0m\u001b[1;33m\u001b[0m\u001b[1;33m\u001b[0m\u001b[0m\n\u001b[0m\u001b[0;32m    139\u001b[0m \u001b[1;33m\u001b[0m\u001b[0m\n\u001b[0;32m    140\u001b[0m         \u001b[0mself\u001b[0m\u001b[1;33m.\u001b[0m\u001b[0mfun\u001b[0m \u001b[1;33m=\u001b[0m \u001b[0mfun\u001b[0m\u001b[1;33m\u001b[0m\u001b[1;33m\u001b[0m\u001b[0m\n",
      "\u001b[1;32m~\\anaconda3\\lib\\site-packages\\scipy\\integrate\\_ivp\\base.py\u001b[0m in \u001b[0;36mfun_wrapped\u001b[1;34m(t, y)\u001b[0m\n\u001b[0;32m     18\u001b[0m \u001b[1;33m\u001b[0m\u001b[0m\n\u001b[0;32m     19\u001b[0m     \u001b[1;32mdef\u001b[0m \u001b[0mfun_wrapped\u001b[0m\u001b[1;33m(\u001b[0m\u001b[0mt\u001b[0m\u001b[1;33m,\u001b[0m \u001b[0my\u001b[0m\u001b[1;33m)\u001b[0m\u001b[1;33m:\u001b[0m\u001b[1;33m\u001b[0m\u001b[1;33m\u001b[0m\u001b[0m\n\u001b[1;32m---> 20\u001b[1;33m         \u001b[1;32mreturn\u001b[0m \u001b[0mnp\u001b[0m\u001b[1;33m.\u001b[0m\u001b[0masarray\u001b[0m\u001b[1;33m(\u001b[0m\u001b[0mfun\u001b[0m\u001b[1;33m(\u001b[0m\u001b[0mt\u001b[0m\u001b[1;33m,\u001b[0m \u001b[0my\u001b[0m\u001b[1;33m)\u001b[0m\u001b[1;33m,\u001b[0m \u001b[0mdtype\u001b[0m\u001b[1;33m=\u001b[0m\u001b[0mdtype\u001b[0m\u001b[1;33m)\u001b[0m\u001b[1;33m\u001b[0m\u001b[1;33m\u001b[0m\u001b[0m\n\u001b[0m\u001b[0;32m     21\u001b[0m \u001b[1;33m\u001b[0m\u001b[0m\n\u001b[0;32m     22\u001b[0m     \u001b[1;32mreturn\u001b[0m \u001b[0mfun_wrapped\u001b[0m\u001b[1;33m,\u001b[0m \u001b[0my0\u001b[0m\u001b[1;33m\u001b[0m\u001b[1;33m\u001b[0m\u001b[0m\n",
      "\u001b[1;32m<ipython-input-4-11f41d0f74a3>\u001b[0m in \u001b[0;36mwrapper_function\u001b[1;34m(t, eta, **params)\u001b[0m\n\u001b[0;32m      1\u001b[0m \u001b[1;32mdef\u001b[0m \u001b[0mwrapper_function\u001b[0m\u001b[1;33m(\u001b[0m\u001b[0mt\u001b[0m\u001b[1;33m,\u001b[0m\u001b[0meta\u001b[0m\u001b[1;33m,\u001b[0m\u001b[1;33m**\u001b[0m\u001b[0mparams\u001b[0m\u001b[1;33m)\u001b[0m\u001b[1;33m:\u001b[0m\u001b[1;33m\u001b[0m\u001b[1;33m\u001b[0m\u001b[0m\n\u001b[1;32m----> 2\u001b[1;33m     \u001b[0momegax\u001b[0m \u001b[1;33m=\u001b[0m \u001b[0mparams\u001b[0m\u001b[1;33m[\u001b[0m\u001b[1;34m\"omegax\"\u001b[0m\u001b[1;33m]\u001b[0m\u001b[1;33m\u001b[0m\u001b[1;33m\u001b[0m\u001b[0m\n\u001b[0m\u001b[0;32m      3\u001b[0m     \u001b[0momegay\u001b[0m \u001b[1;33m=\u001b[0m \u001b[0mparams\u001b[0m\u001b[1;33m[\u001b[0m\u001b[1;34m\"omegay\"\u001b[0m\u001b[1;33m]\u001b[0m\u001b[1;33m\u001b[0m\u001b[1;33m\u001b[0m\u001b[0m\n\u001b[0;32m      4\u001b[0m     \u001b[0mx\u001b[0m\u001b[1;33m,\u001b[0m \u001b[0my\u001b[0m\u001b[1;33m,\u001b[0m \u001b[0mpx\u001b[0m\u001b[1;33m,\u001b[0m \u001b[0mpy\u001b[0m \u001b[1;33m=\u001b[0m \u001b[0meta\u001b[0m\u001b[1;33m[\u001b[0m\u001b[1;36m0\u001b[0m\u001b[1;33m]\u001b[0m\u001b[1;33m,\u001b[0m \u001b[0meta\u001b[0m\u001b[1;33m[\u001b[0m\u001b[1;36m1\u001b[0m\u001b[1;33m]\u001b[0m\u001b[1;33m,\u001b[0m \u001b[0meta\u001b[0m\u001b[1;33m[\u001b[0m\u001b[1;36m2\u001b[0m\u001b[1;33m]\u001b[0m\u001b[1;33m,\u001b[0m \u001b[0meta\u001b[0m\u001b[1;33m[\u001b[0m\u001b[1;36m3\u001b[0m\u001b[1;33m]\u001b[0m\u001b[1;33m\u001b[0m\u001b[1;33m\u001b[0m\u001b[0m\n\u001b[0;32m      5\u001b[0m     \u001b[1;32mreturn\u001b[0m \u001b[0mHam_derivs\u001b[0m\u001b[1;33m(\u001b[0m\u001b[0mx\u001b[0m\u001b[1;33m,\u001b[0m\u001b[0my\u001b[0m\u001b[1;33m,\u001b[0m\u001b[0mpx\u001b[0m\u001b[1;33m,\u001b[0m\u001b[0mpy\u001b[0m\u001b[1;33m,\u001b[0m\u001b[0momegax\u001b[0m\u001b[1;33m,\u001b[0m\u001b[0momegay\u001b[0m\u001b[1;33m)\u001b[0m\u001b[1;33m\u001b[0m\u001b[1;33m\u001b[0m\u001b[0m\n",
      "\u001b[1;31mKeyError\u001b[0m: 'omegax'"
     ]
    }
   ],
   "source": [
    "omega_x = 1.2\n",
    "omega_y = 1.1\n",
    "\n",
    "t_0 = 0\n",
    "eta_0 = generate_initial_conditions(omega_x,omega_y)\n",
    "\n",
    "generated_wrapper_function = generate_wrapper_with_these_inputs(omega_x,omega_y)\n",
    "\n",
    "run_case_1 = scint.RK45(generated_wrapper_function,t_0,eta_0,200)\n",
    "run_case_2 = scint.RK45(wrapper_function,t_0,eta_0,200,omegax = omega_x,omegay = omega_y)"
   ]
  },
  {
   "cell_type": "code",
   "execution_count": null,
   "metadata": {},
   "outputs": [],
   "source": []
  }
 ],
 "metadata": {
  "kernelspec": {
   "display_name": "Python 3",
   "language": "python",
   "name": "python3"
  },
  "language_info": {
   "codemirror_mode": {
    "name": "ipython",
    "version": 3
   },
   "file_extension": ".py",
   "mimetype": "text/x-python",
   "name": "python",
   "nbconvert_exporter": "python",
   "pygments_lexer": "ipython3",
   "version": "3.8.5"
  }
 },
 "nbformat": 4,
 "nbformat_minor": 4
}
