{
 "cells": [
  {
   "cell_type": "markdown",
   "metadata": {},
   "source": [
    "<script async src=\"https://www.googletagmanager.com/gtag/js?id=UA-59152712-8\"></script>\n",
    "<script>\n",
    "  window.dataLayer = window.dataLayer || [];\n",
    "  function gtag(){dataLayer.push(arguments);}\n",
    "  gtag('js', new Date());\n",
    "\n",
    "  gtag('config', 'UA-59152712-8');\n",
    "</script>\n",
    "\n",
    "# The Cartesian Schwarzschild Hamiltonian\n",
    "\n",
    "## Author: Tyler Knowles, Siddharth Mahesh\n",
    "### Formatting improvements courtesy Brandon Clark\n",
    "\n",
    "## This module documents the Schwarzschild Hamiltonian in Cartesian Coordinates for Testing the Derivative Routines.\n",
    "\n",
    "\n",
    "**Notebook Status:** <font color='red'><b> In Progress </b></font>\n",
    "\n",
    "~~**Validation Notes:** This module has been validated against the LALSuite [SEOBNRv3/SEOBNRv3_opt code]( https://git.ligo.org/lscsoft/lalsuite.) that was reviewed and approved for LIGO parameter estimation by the LIGO Scientific Collaboration.  That is, the value $H_{\\rm real}$ output from this notebook agrees to roundoff error with the value of $H_{\\rm real}$ computed by the LALSuite function XLALSimIMRSpinPrecEOBHamiltonian().~~\n",
    "\n",
    "### NRPy+ Source Code for this module: [SEOBNR_v3_Hamiltonian.py](../edit/SEOBNR/SEOBNR_v3_Hamiltonian.py)\n",
    "\n",
    "<a id='intro'></a>\n",
    "\n",
    "## Introduction\n",
    "$$\\label{intro}$$\n",
    "\n",
    "### The Physical System of Interest\n",
    "\n",
    "Consider a black hole with mass $M$ and no spin with a non-spinning test particle that evolves under its influence.  The Schwarzschild Hamiltonian $H_{\\rm real}$ (defined in [this cell](#hreal)) describes the dynamics of this system.~~; we will define $H_{\\rm real}$ as in [Barausse and Buonanno (2010)](https://arxiv.org/abs/0912.3517) Section VE.  There, $H_{\\rm real}$ is canonically transformed and mapped to an effective Hamiltonian $H_{\\rm eff}$ (defined in [this cell](#heff)) describing the motion of a test particle of mass $\\mu$ (defined in [this cell](#mu)) and spin ${\\bf S}^{*}$ (defined in [this cell](#sstar)) moving in a defomred Kerr background.~~  Here we seek to break up $H_{\\rm real}$ and document the terms in such a way that the resulting Python code can be used to numerically evaluate $H_{\\rm real}$.\n",
    "\n",
    "We write $H_{\\rm real}$ in terms of Cartesian quasi-isotropic coordinates $x$, $y$, and $z$ ~~(see [Barausse and Buonanno (2010)](https://arxiv.org/abs/0912.3517) Section III).  The spatial coordinates $r$, $\\theta$, and $\\phi$ referenced throughout are [Boyer-Lindquist coordinates](https://en.wikipedia.org/wiki/Boyer%E2%80%93Lindquist_coordinates) (see [Barausse and Buonanno (2010)](https://arxiv.org/abs/0912.3517) Section IV).~~\n",
    "\n",
    "Please note that throughout this notebook we adpot the following conventions:\n",
    "\n",
    "1. $c = 1$ where $c$ is the speed of light in a vacuum,\n",
    "1. spacial tensor indicies are denoted by lowercase Latin letters,\n",
    "1. repeated indices indicate Einstein summation notation, and\n",
    "~~1. we normalize $M=1$ in all terms except for $\\eta$ and $\\mu$ for agreement with LALSuite.  Nonetheless, $M$ appears in other text cells for comparison with the cited literature.~~\n",
    "\n",
    "Running this notebook to completion will generate a file called Hreal_on_bottom.py.  This file contains the Python function compute_Hreal(), which takes as input $M$ (in solar masses), ~~the value of the [Euler-Mascheroni constant](https://en.wikipedia.org/wiki/Euler%E2%80%93Mascheroni_constant), a tortoise coordinate,~~ and values for all six dynamic variables (3 components of the separation vector, and three components of the momentum vector)~~, and three spin components of each compact object).  Note that the spin components should be dimensionless.~~\n",
    "\n",
    "### Citations\n",
    "Throughout this module, we will refer to\n",
    "* [Barausse and Buonanno (2010)](https://arxiv.org/abs/0912.3517) as BB2010,\n",
    "* [Barausse and Buonanno (2011)](https://arxiv.org/abs/1107.2904) as BB2011,\n",
    "* [Steinhoff, Hinderer, Buonanno, et al (2016)](https://arxiv.org/abs/1608.01907) as SH2016,\n",
    "* [Pan, Buonanno, Buchman, et. al. 2010](https://arxiv.org/abs/0912.3466v2) as P2010,\n",
    "* [Taracchini, Buonanno, Pan, et al (2014)](https://arxiv.org/abs/1311.2544) as T2014,\n",
    "* [Taracchini, Pan, Buonanno, et al (2012)](https://arxiv.org/abs/1202.0790) as T2012, and\n",
    "* [Damour, Jaranowski, and Schaefer (2000)](https://arxiv.org/abs/gr-qc/0005034) as D2000."
   ]
  },
  {
   "cell_type": "markdown",
   "metadata": {},
   "source": [
    "<a id='toc'></a>\n",
    "\n",
    "# Table of Contents\n",
    "$$\\label{toc}$$\n",
    "\n",
    "This notebook is organized as follows:\n",
    "\n",
    "1. [Step 0](#outputcreation): Creating the output directory for SEOBNR\n",
    "1. [Step 1](#hreal): The Real Hamiltonian $H_{\\rm real}$\n",
    "1. [Step 2](#heff): The Effective Hamiltonian $H_{\\rm eff}$\n",
    "1. [Step 3](#heff_terms): Terms of $H_{\\rm eff}$  \n",
    "    1. [Step 3.a](#hs): Leading Order Spin Effects $H_{\\rm S}$  \n",
    "    1. [Step 3.b](#hns): The Nonspinning Hamiltonian $H_{\\rm NS}$  \n",
    "    1. [Step 3.c](#hd): The Quadrupole Deformation $H_{\\rm D}$\n",
    "1. [Step 4](#hso): The Spin-Orbit Term $H_{\\rm SO}$  \n",
    "    1. [Step 4.a](#hsoterm1): $H_{\\rm SO}$ Term 1  \n",
    "    1. [Step 4.b](#hsoterm2coeff): $H_{\\rm SO}$ Term 2 Coefficient  \n",
    "    1. [Step 4.c](#hsoterm2): $H_{\\rm SO}$ Term 2  \n",
    "        1. [Step 4.c.i](#hsoterm2a): $H_{\\rm SO}$ Term 2a  \n",
    "        1. [Step 4.c.ii](#hsoterm2b): $H_{\\rm SO}$ Term 2b  \n",
    "        1. [Step 4.c.iii](#hsoterm2c): $H_{\\rm SO}$ Term 2c\n",
    "1. [Step 5](#hss): The Spin-Spin Term $H_{\\rm SS}$  \n",
    "    1. [Step 5.a](#hssterm1): $H_{\\rm SS}$ Term 1  \n",
    "    1. [Step 5.b](#hssterm2coeff): $H_{\\rm SS}$ Term 2 coefficient  \n",
    "    1. [Step 5.c](#hssterm2): $H_{\\rm SS}$ Term 2  \n",
    "    1. [Step 5.d](#hssterm3coeff): $H_{\\rm SS}$ Term 3 coefficient  \n",
    "    1. [Step 5.e](#hssterm3): $H_{\\rm SS}$ Term 3\n",
    "1. [Step 6](#hnsterms): The $H_{\\rm NS}$ Terms  \n",
    "    1. [Step 6.a](#betapsum): $\\beta p$ Sum  \n",
    "    1. [Step 6.b](#alpha): $\\alpha$  \n",
    "    1. [Step 6.c](#hnsradicand): $H_{\\rm NS}$ Radicand  \n",
    "        1. [Step 6.c.i](#gammappsum): $\\gamma p$ Sum  \n",
    "        1. [Step 6.c.ii](#q4): ${\\cal Q}_{4}$\n",
    "1. [Step 7](#hdterms): The $H_{\\rm D}$ Terms  \n",
    "    1. [Step 7.a](#hdcoeff): $H_{\\rm D}$ Coefficient  \n",
    "    1. [Step 7.b](#hdsum): $H_{\\rm D}$ Sum  \n",
    "        1. [Step 7.b.i](#hdsumterm1): $H_{\\rm D}$ Sum Term 1  \n",
    "        1. [Step 7.b.ii](#hdsumterm2): $H_{\\rm D}$ Sum Term 2\n",
    "1. [Step 8](#dotproducts): Common Dot Products\n",
    "    1. [Step 8.a](#sdotxi): ${\\bf S} \\cdot \\boldsymbol{\\xi}$  \n",
    "    1. [Step 8.b](#sdotv): ${\\bf S} \\cdot {\\bf v}$  \n",
    "    1. [Step 8.c](#sdotn): ${\\bf S} \\cdot {\\bf n}$  \n",
    "    1. [Step 8.d](#sdotskerrhat): ${\\bf S} \\cdot \\hat{\\bf S}_{\\rm Kerr}$  \n",
    "    1. [Step 8.e](#sstardotn): ${\\bf S}^{*} \\cdot {\\bf n}$\n",
    "1. [Step 9](#hreal_spin_combos): $H_{\\rm real}$ Spin Combination ${\\bf S}^{*}$  \n",
    "    1. [Step 9a](#sstar): ${\\bf S}^{*}$  \n",
    "    1. [Step 9b](#deltasigmastar): $\\Delta_{\\sigma^{*}}$  \n",
    "    1. [Step 9c](#sigmastarcoeff): $\\sigma^{*}$ Coefficient  \n",
    "        1. [Step 9c i](#sigmastarcoeffterm1): $\\sigma^{*}$ Coefficient Term 1  \n",
    "        1. [Step 9c ii](#sigmastarcoeffterm2): $\\sigma^{*}$ Coefficient Term 2   \n",
    "    1. [Step 9d](#sigmacoeff): $\\sigma$ Coefficient  \n",
    "        1. [Step 9d i](#sigmacoeffterm1): $\\sigma$ Coefficient Term 1  \n",
    "        1. [Step 9d ii](#sigmacoeffterm2): $\\sigma$ Coefficient Term 2  \n",
    "        1. [Step 9d iii](#sigmacoeffterm3): $\\sigma$ Coefficient Term 3\n",
    "1. [Step 10](#metpotderivs): Derivatives of the Metric Potential  \n",
    "    1. [Step 10.a](#omegar): $\\omega_{r}$  \n",
    "    1. [Step 10.b](#nur): $\\nu_{r}$  \n",
    "    1. [Step 10.c](#mur): $\\mu_{r}$  \n",
    "    1. [Step 10.d](#omegacostheta): $\\omega_{\\cos\\theta}$  \n",
    "    1. [Step 10.e](#nucostheta): $\\nu_{\\cos\\theta}$  \n",
    "    1. [Step 10.f](#mucostheta): $\\mu_{\\cos\\theta}$  \n",
    "    1. [Step 10.g](#lambdatprm): $\\Lambda_{t}^{\\prime}$  \n",
    "    1. [Step 10.h](#omegatildeprm): $\\tilde{\\omega}_{\\rm fd}^{\\prime}$\n",
    "1. [Step 11](#metpots): The Deformed and Rescaled Metric Potentials  \n",
    "    1. [Step 11.a](#omega): $\\omega$  \n",
    "    1. [Step 11.b](#exp2nu): $e^{2 \\nu}$  \n",
    "    1. [Step 11.c](#btilde): $\\tilde{B}$  \n",
    "    1. [Step 11.d](#brtilde): $\\tilde{B}_{r}$  \n",
    "    1. [Step 11.e](#exp2mu): $e^{2 \\tilde{\\mu}}$  \n",
    "    1. [Step 11.f](#jtilde): $\\tilde{J}$  \n",
    "    1. [Step 11.g](#q): $Q$  \n",
    "        1. [Step 11.g.i](#drsipn2): $\\frac{ \\Delta_{r} }{ \\Sigma } \\left( \\hat{\\bf p} \\cdot {\\bf n} \\right)^{2}$  \n",
    "        1. [Step 11.g.ii](#qcoeff1): Q Coefficient 1  \n",
    "        1. [Step 11.g.iii](#qcoeff2): Q Coefficient 2\n",
    "1. [Step 12](#tort): Tortoise terms  \n",
    "    1. [Step 12.a](#pphi): $p_{\\phi}$  \n",
    "    1. [Step 12.b](#pdotvr): $\\hat{\\bf p} \\cdot {\\bf v} r$  \n",
    "    1. [Step 12.c](#pdotn): $\\hat{\\bf p} \\cdot {\\bf n}$  \n",
    "    1. [Step 12.d](#pdotxir): $\\hat{\\bf p} \\cdot \\boldsymbol{\\xi} r$  \n",
    "    1. [Step 12.e](#hatp): $\\hat{\\bf p}$  \n",
    "    1. [Step 12.f](#prt): prT  \n",
    "    1. [Step 12.g](#csi2): csi2  \n",
    "    1. [Step 12.h](#csi1): csi1  \n",
    "    1. [Step 12.i](#csi): csi\n",
    "1. [Step 13](#metric): Metric Terms  \n",
    "    1. [Step 13.a](#lambdat): $\\Lambda_{t}$  \n",
    "    1. [Step 13.b](#deltar): $\\Delta_{r}$  \n",
    "    1. [Step 13.c](#deltat): $\\Delta_{t}$  \n",
    "    1. [Step 13.d](#deltatprm): $\\Delta_{t}^{\\prime}$  \n",
    "    1. [Step 13.e](#deltau): $\\Delta_{u}$  \n",
    "        1. [Step 13.e.i](#deltaubar): $\\bar{\\Delta}_{u}$  \n",
    "        1. [Step 13.e.ii](#deltaucalib): $\\Delta_{u}$ Calibration Term  \n",
    "        1. [Step 13.e.iii](#calib_coeffs): Calibration Coefficients  \n",
    "        1. [Step 13.e.iv](#k): $K$  \n",
    "    1. [Step 13.f](#omegatilde): $\\tilde{\\omega}_{\\rm fd}$  \n",
    "    1. [Step 13.g](#dinv): $D^{-1}$\n",
    "1. [Step 14](#coord): Terms Dependent on Coordinates  \n",
    "    1. [Step 14.a](#usigma): $\\Sigma$  \n",
    "    1. [Step 14.b](#w2): $\\varpi^{2}$   \n",
    "    1. [Step 14.d](#sin2theta): $\\sin^{2}\\theta$  \n",
    "    1. [Step 14.e](#costheta): $\\cos\\theta$\n",
    "1. [Step 15](#vectors): Important Vectors  \n",
    "    1. [Step 15.a](#v): ${\\bf v}$  \n",
    "    1. [Step 15.b](#xi): $\\boldsymbol{\\xi}$  \n",
    "    1. [Step 15.c](#e3): ${\\bf e}_{3}$  \n",
    "    1. [Step 15.d](#n): ${\\bf n}$\n",
    "1. [Step 16](#spin_combos): Spin Combinations $\\boldsymbol{\\sigma}$, $\\boldsymbol{\\sigma}^{*}$, and ${\\bf S}_{\\rm Kerr}$   \n",
    "    1. [Step 16.a](#a): $a$  \n",
    "    1. [Step 16.b](#skerrhat): $\\hat{\\bf S}_{\\rm Kerr}$  \n",
    "    1. [Step 16.c](#skerrmag): $\\left\\lvert {\\bf S}_{\\rm Kerr} \\right\\rvert$  \n",
    "    1. [Step 16.d](#skerr): ${\\bf S}_{\\rm Kerr}$  \n",
    "    1. [Step 16.e](#sigma): $\\boldsymbol{\\sigma}$  \n",
    "    1. [Step 16.f](#sigmastar): $\\boldsymbol{\\sigma}^{*}$\n",
    "1. [Step 17](#fundquant): Fundamental Quantities  \n",
    "    1. [Step 17.a](#u): $u$  \n",
    "    1. [Step 17.b](#r): $r$  \n",
    "    1. [Step 17.c](#eta): $\\eta$  \n",
    "    1. [Step 17.d](#mu): $\\mu$  \n",
    "    1. [Step 17.e](#m): $M$\n",
    "1. [Step 18](#validation): Validation\n",
    "1. [Step 19](#latex_pdf_output): Output this notebook to $\\LaTeX$-formatted PDF file"
   ]
  },
  {
   "cell_type": "markdown",
   "metadata": {},
   "source": [
    "<a id='outputcreation'></a>\n",
    "\n",
    "# Step 0: Creating the output directory for Schwarzschild \\[Back to [top](#toc)\\]\n",
    "$$\\label{outputcreation}$$\n",
    "\n",
    "First we create the output directory for Schwarzschild (if it does not already exist):"
   ]
  },
  {
   "cell_type": "code",
   "execution_count": 1,
   "metadata": {},
   "outputs": [],
   "source": [
    "import numpy as np\n",
    "import difflib, sys, os\n",
    "\n",
    "nrpy_dir_path = os.path.join(\"..\") # TYLERK: Remove these three lines when moving to main NRPy+ directory\n",
    "if nrpy_dir_path not in sys.path:\n",
    "    sys.path.append(nrpy_dir_path)\n",
    "\n",
    "\n",
    "import cmdline_helper as cmd     # NRPy+: Multi-platform Python command-line interface\n",
    "\n",
    "# Create C code output directory:\n",
    "Ccodesdir = \"Schwarzschild\"\n",
    "# Then create an output directory in case it does not exist\n",
    "cmd.mkdir(Ccodesdir)"
   ]
  },
  {
   "cell_type": "markdown",
   "metadata": {},
   "source": [
    "<a id='heff'></a>\n",
    "\n",
    "# Step 1: The Hamiltonian $H_{\\rm eff}$ \\[Back to [top](#toc)\\]\n",
    "$$\\label{heff}$$\n",
    "\n",
    "The effective Hamiltonian $H_{\\rm real}$ ~~is given by [BB2010](https://arxiv.org/abs/0912.3517) Equation (5.70)~~:\n",
    "\n",
    "\\begin{equation*}\n",
    "    H_{\\rm eff} = \\underbrace{ \\alpha \\sqrt{ \\mu^{2} + \\gamma^{ij} p_{i} p_{j} } }_{ H_{\\rm NS} } \n",
    "\\end{equation*}\n",
    "\n",
    "Here, ~~,$H_{\\rm S}$ (considered further in [this cell](#hs)) denotes leading order effects of spin-spin and spin-orbit coupling,~~ $H_{\\rm NS}$ (considered further in [this cell](#hns)) is the Hamiltonian for a nonspinning test particle~~, and $H_{\\rm D}$ (considered further in [this cell](#hd)) describes quadrupole deformation of the coupling of the particle's spin with itself to leading order.  [T2014](https://arxiv.org/abs/1311.2544) adds to $H_{\\rm eff}$ a 3PN spin-spin term given by~~\n",
    "\n",
    "\\begin{equation*}\n",
    "    \\frac{d_{\\rm SS} \\eta }{ r^{4} } \\left( {\\bf S}_{1}^{2} + {\\bf S}_{2}^{2} \\right)\n",
    "\\end{equation*}\n",
    "\n",
    "~~where $d_{\\rm SS}$ is an adjustable parameter determined by fitting to numerical relativity results.  We take $u \\equiv \\frac{1}{r}$ (as described in [this cell](#u)) and define $\\eta$ in [this cell](#eta).~~"
   ]
  },
  {
   "cell_type": "code",
   "execution_count": 2,
   "metadata": {},
   "outputs": [
    {
     "name": "stdout",
     "output_type": "stream",
     "text": [
      "Overwriting Schwarzschild/Hamiltonian-Hreal_on_top.txt\n"
     ]
    }
   ],
   "source": [
    "%%writefile  $Ccodesdir/Hamiltonian-Hreal_on_top.txt\n",
    "Heff = Hns"
   ]
  },
  {
   "cell_type": "markdown",
   "metadata": {},
   "source": [
    "<a id='heff_terms'></a>\n",
    "\n",
    "# Step 2: Terms of $H_{\\rm eff}$ \\[Back to [top](#toc)\\]\n",
    "$$\\label{heff_terms}$$\n",
    "\n",
    "In this step, we break down ~~each of the terms $H_{\\rm S}$ (defined in [this cell](#hs)),~~$H_{\\rm NS}$ (defined in [this cell](#hns))~~, and $H_{\\rm D}$ (defined in [this cell](#hd)) in $H_{\\rm eff}$ (defined in [this cell](#heff))."
   ]
  },
  {
   "cell_type": "markdown",
   "metadata": {},
   "source": [
    "<a id='hns'></a>\n",
    "\n",
    "## Step 2.a: The Nonspinning Hamiltonian $H_{\\rm NS}$ \\[Back to [top](#toc)\\]\n",
    "$$\\label{hns}$$\n",
    "\n",
    "We defined $H_{\\rm NS}$ in [this cell](#heff) as\n",
    "\n",
    "\\begin{equation*}\n",
    "    H_{\\rm NS} = \\alpha \\sqrt{ \\smash[b]{ \\underbrace{ \\mu^{2} + \\gamma^{ij} p_{i} p_{j}}_{ H_{\\rm NS}\\ \\rm radicand } } }.\n",
    "\\end{equation*}\n",
    "\n",
    "We compute ~~,$\\beta\\ p$ sum in [this cell](#betapsum),~~ $\\alpha$ in [this cell](#alpha), and $H_{\\rm NS}$ radicand in [this cell](#hnsradicand)."
   ]
  },
  {
   "cell_type": "code",
   "execution_count": 3,
   "metadata": {
    "scrolled": true
   },
   "outputs": [
    {
     "name": "stdout",
     "output_type": "stream",
     "text": [
      "Appending to Schwarzschild/Hamiltonian-Hreal_on_top.txt\n"
     ]
    }
   ],
   "source": [
    "%%writefile -a $Ccodesdir/Hamiltonian-Hreal_on_top.txt\n",
    "Hns = alpha*sp.sqrt(Hnsradicand)"
   ]
  },
  {
   "cell_type": "markdown",
   "metadata": {},
   "source": [
    "<a id='hnsterms'></a>\n",
    "\n",
    "# Step 3: $H_{\\rm NS}$ Terms \\[Back to [top](#toc)\\]\n",
    "$$\\label{hnsterms}$$\n",
    "\n",
    "We collect here the terms in $H_{\\rm NS}$ (defined in [this cell](#hns))."
   ]
  },
  {
   "cell_type": "markdown",
   "metadata": {},
   "source": [
    "<a id='alpha'></a>\n",
    "\n",
    "## Step 3.a: $\\alpha$ \\[Back to [top](#toc)\\]\n",
    "$$\\label{alpha}$$\n",
    "\n",
    "From [BB2010](https://arxiv.org/abs/0912.3517) Equation (5.44), we have\n",
    "\\begin{equation*}\n",
    "    \\alpha = \\frac{ 1 }{ \\sqrt{ -g^{tt}} },\n",
    "\\end{equation*}\n",
    "\n",
    "and ~~from [BB2010](https://arxiv.org/abs/0912.3517) Equation (5.36a)~~ we have\n",
    "\n",
    "\\begin{equation*}\n",
    "    g^{tt} = -\\frac{ 1 }{ A }.\n",
    "\\end{equation*}\n",
    "\n",
    "Therefore\n",
    "\n",
    "\\begin{equation*}\n",
    "    \\alpha = \\sqrt{ A }.\n",
    "\\end{equation*}\n",
    "\n",
    "We define $A$ in [this cell](#deltat)"
   ]
  },
  {
   "cell_type": "code",
   "execution_count": 4,
   "metadata": {},
   "outputs": [
    {
     "name": "stdout",
     "output_type": "stream",
     "text": [
      "Appending to Schwarzschild/Hamiltonian-Hreal_on_top.txt\n"
     ]
    }
   ],
   "source": [
    "%%writefile -a $Ccodesdir/Hamiltonian-Hreal_on_top.txt\n",
    "alpha = sp.sqrt(A)"
   ]
  },
  {
   "cell_type": "markdown",
   "metadata": {},
   "source": [
    "<a id='hnsradicand'></a>\n",
    "\n",
    "## Step 3.b: $H_{\\rm NS}$ radicand \\[Back to [top](#toc)\\]\n",
    "$$\\label{hnsradicand}$$\n",
    "\n",
    "Recall that we defined $H_{\\rm NS}$ radicand in [this cell](#hns) as\n",
    "\n",
    "\\begin{equation*}\n",
    "    H_{\\rm NS}\\ {\\rm radicand} = \\mu^{2} + \\underbrace{\\gamma^{ij} p_{i} p_{j}}_{\\gamma p\\ \\rm sum}\n",
    "\\end{equation*}\n",
    "\n",
    "We normalize $\\mu = 1$, and define $\\gamma p$ sum in [this cell](#gammappsum)"
   ]
  },
  {
   "cell_type": "code",
   "execution_count": 5,
   "metadata": {},
   "outputs": [
    {
     "name": "stdout",
     "output_type": "stream",
     "text": [
      "Appending to Schwarzschild/Hamiltonian-Hreal_on_top.txt\n"
     ]
    }
   ],
   "source": [
    "%%writefile -a $Ccodesdir/Hamiltonian-Hreal_on_top.txt\n",
    "Hnsradicand = 1 + gammappsum"
   ]
  },
  {
   "cell_type": "markdown",
   "metadata": {},
   "source": [
    "<a id='gammappsum'></a>\n",
    "\n",
    "### Step 3.b.i: $\\gamma^{ij} p_{i} p_{j}$ \\[Back to [top](#toc)\\]\n",
    "$$\\label{gammappsum}$$\n",
    "\n",
    "From [BB2010](https://arxiv.org/abs/0912.3517) Equation (5.46), we have\n",
    "\n",
    "\\begin{equation*}\n",
    "    \\gamma^{ij} = g^{ij} - \\frac{ g^{ti} g^{tj} }{ g^{tt} }.\n",
    "\\end{equation*}\n",
    "\n",
    "~~Combining this result with [BB2010](https://arxiv.org/abs/0912.3517) Equations 5.36,~~ we have\n",
    "\n",
    "\\begin{equation*}\n",
    "    \\gamma^{r\\theta} = \\gamma^{r\\phi} = \\gamma^{\\theta r} = \\gamma^{\\theta\\phi} = \\gamma^{\\phi r} = \\gamma^{\\phi\\theta} = 0\n",
    "\\end{equation*}\n",
    "\n",
    "and\n",
    "\n",
    "\\begin{align*}\n",
    "    \\gamma^{rr} &= g^{rr} = \\frac{ 1 }{ B } \\\\\n",
    "    \\gamma^{\\theta\\theta} &= g^{\\theta\\theta} = \\frac{1}{r^2}  \\\\\n",
    "    \\gamma^{\\phi\\phi} &= \\frac{1}{r^2 \\sin^{2} \\theta} .\n",
    "\\end{align*}\n",
    "\n",
    "Therefore,\n",
    "\n",
    "\\begin{align*}\n",
    "    \\gamma^{ij} p_{i} p_{j} &= \\gamma^{rr} p_{r} p_{r} + \\gamma^{\\theta\\theta} p_{\\theta} p_{\\theta} + \\gamma^{\\phi\\phi} p_{\\phi} p_{\\phi} \\\\\n",
    "        &= \\frac{ 1 }{ B } p_{r}^{2} + \\frac{ 1 }{ r^2 } p_{\\theta}^{2} + \\frac{ 1 }{ r^2 \\sin^{2} \\theta } p_{\\phi}^{2}.\n",
    "\\end{align*}\n",
    "\n",
    "We define $B$ in [this cell](#deltar)~~, $\\Sigma$ in [this cell](#sigma),~~ $ p_r$ in [this cell](#pdotn), $p_\\theta$ in [this cell](#pdotvr), $\\sin^{2} \\theta$ in [this cell](#sin2theta), $r$ in [this cell](#r), and $p_\\phi$ in [this cell](#pdotxir)."
   ]
  },
  {
   "cell_type": "code",
   "execution_count": 6,
   "metadata": {},
   "outputs": [
    {
     "name": "stdout",
     "output_type": "stream",
     "text": [
      "Appending to Schwarzschild/Hamiltonian-Hreal_on_top.txt\n"
     ]
    }
   ],
   "source": [
    "%%writefile -a $Ccodesdir/Hamiltonian-Hreal_on_top.txt\n",
    "gammappsum = pr*pr/B + ptheta*ptheta/r/r + pphi2/r/r/sin2theta"
   ]
  },
  {
   "cell_type": "markdown",
   "metadata": {},
   "source": [
    "<a id='tort'></a>\n",
    "\n",
    "# Step 4: Momentum Terms \\[Back to [top](#toc)\\]\n",
    "$$\\label{tort}$$\n",
    "\n",
    "We collect here terms related to the conversion from cartesian coordinates to Schwarzschild coordinates.  ~~Details of the converstion are given in the appendix of [P2010](https://arxiv.org/abs/0912.3466v2).~~"
   ]
  },
  {
   "cell_type": "markdown",
   "metadata": {},
   "source": [
    "<a id='pdotvr'></a>\n",
    "\n",
    "## Step 4.a: $p_\\theta$ \\[Back to [top](#toc)\\]\n",
    "$$\\label{pdotvr}$$\n",
    "\n",
    "We have\n",
    "\n",
    "\\begin{equation*}\n",
    "    p_\\theta = \\left( \\hat{\\theta}_{1} p_{1} + \\hat{\\theta}_{2} p_{2} + \\hat{\\theta}_{3} p_{3} \\right) r\n",
    "\\end{equation*}\n",
    "\n",
    "We have $\\bf p$ as the canonical momentum vector in cartesian coordinates, and we define $\\hat{\\boldsymbol{\\theta}}$ in [this cell](#xi), and $r$ in [this cell](#r)."
   ]
  },
  {
   "cell_type": "code",
   "execution_count": 7,
   "metadata": {},
   "outputs": [
    {
     "name": "stdout",
     "output_type": "stream",
     "text": [
      "Appending to Schwarzschild/Hamiltonian-Hreal_on_top.txt\n"
     ]
    }
   ],
   "source": [
    "%%writefile -a $Ccodesdir/Hamiltonian-Hreal_on_top.txt\n",
    "ptheta = (thetahat1*p1 + thetahat2*p2 + thetahat3*p3)*r"
   ]
  },
  {
   "cell_type": "markdown",
   "metadata": {},
   "source": [
    "<a id='pdotn'></a>\n",
    "\n",
    "## Step 4.b: $p_r$ \\[Back to [top](#toc)\\]\n",
    "$$\\label{pdotn}$$\n",
    "\n",
    "We have\n",
    "\n",
    "\\begin{equation*}\n",
    "    p_r = \\hat{r}_{1} p_{1} + \\hat{r}_{2} p_{2} + \\hat{r}_{3} p_{3}\n",
    "\\end{equation*}\n",
    "\n",
    "We define $\\hat{\\bf r}$ in [this cell](#n)."
   ]
  },
  {
   "cell_type": "code",
   "execution_count": 8,
   "metadata": {},
   "outputs": [
    {
     "name": "stdout",
     "output_type": "stream",
     "text": [
      "Appending to Schwarzschild/Hamiltonian-Hreal_on_top.txt\n"
     ]
    }
   ],
   "source": [
    "%%writefile -a $Ccodesdir/Hamiltonian-Hreal_on_top.txt\n",
    "pr = rhat1*p1 + rhat2*p2 + rhat3*p3"
   ]
  },
  {
   "cell_type": "markdown",
   "metadata": {},
   "source": [
    "<a id='pdotxir'></a>\n",
    "\n",
    "## Step 4.c: $p_\\phi$ \\[Back to [top](#toc)\\]\n",
    "$$\\label{pdotxir}$$\n",
    "\n",
    "We have\n",
    "\n",
    "\\begin{equation*}\n",
    "    p_\\phi = \\left( \\hat{\\phi}_{1} p_{1} + \\hat{\\phi}_{2} p_{2} + \\hat{\\phi}_{3} p_{3} \\right) r \\sin\\theta \\\\\n",
    "    p_\\phi^2 = \\left( \\hat{\\phi}_{1} p_{1} + \\hat{\\phi}_{2} p_{2} + \\hat{\\phi}_{3} p_{3} \\right)^2 r^2 \\sin^2\\theta\n",
    "\\end{equation*}\n",
    "\n",
    "We define $\\hat{\\boldsymbol{\\phi}}$ in [this cell](#e3), $\\sin\\theta$ in [this cell](#sin2theta) and $r$ in [this cell](#r)."
   ]
  },
  {
   "cell_type": "code",
   "execution_count": 9,
   "metadata": {},
   "outputs": [
    {
     "name": "stdout",
     "output_type": "stream",
     "text": [
      "Appending to Schwarzschild/Hamiltonian-Hreal_on_top.txt\n"
     ]
    }
   ],
   "source": [
    "%%writefile -a $Ccodesdir/Hamiltonian-Hreal_on_top.txt\n",
    "pphi2 = pphi*pphi*sin2theta\n",
    "pphi = (phihat1*p1 + phihat2*p2 + phihat3*p3)*r"
   ]
  },
  {
   "cell_type": "markdown",
   "metadata": {},
   "source": [
    "<a id='metric'></a>\n",
    "\n",
    "# Step 5: Metric Terms \\[Back to [top](#toc)\\]\n",
    "$$\\label{metric}$$\n",
    "\n",
    "We collect here terms used to define the Schwarzschild metric. ~~See [BB2010](https://arxiv.org/abs/0912.3517) Equations (5.38)--(5.40) and (5.71)--(5.75).~~"
   ]
  },
  {
   "cell_type": "markdown",
   "metadata": {},
   "source": [
    "<a id='deltar'></a>\n",
    "\n",
    "## Step 5.a: $B$ \\[Back to [top](#toc)\\]\n",
    "$$\\label{deltar}$$\n",
    "\n",
    "We have ~~From [BB2010](https://arxiv.org/abs/0912.3517) Equation (5.38),~~\n",
    "\n",
    "\\begin{equation*}\n",
    "    B = A^{-1}.\n",
    "\\end{equation*}\n",
    "\n",
    "We define $A$ in [this cell](#deltat)"
   ]
  },
  {
   "cell_type": "code",
   "execution_count": 10,
   "metadata": {},
   "outputs": [
    {
     "name": "stdout",
     "output_type": "stream",
     "text": [
      "Appending to Schwarzschild/Hamiltonian-Hreal_on_top.txt\n"
     ]
    }
   ],
   "source": [
    "%%writefile -a $Ccodesdir/Hamiltonian-Hreal_on_top.txt\n",
    "B = 1/A"
   ]
  },
  {
   "cell_type": "markdown",
   "metadata": {},
   "source": [
    "<a id='deltat'></a>\n",
    "\n",
    "## Step 5.b: $A$ \\[Back to [top](#toc)\\]\n",
    "$$\\label{deltat}$$\n",
    "\n",
    "From [BB2010](https://arxiv.org/abs/0912.3517) Equation (5.71), we have\n",
    "\n",
    "\\begin{equation*}\n",
    "    A = 1 - 2M/r = 1 - 2u .\n",
    "\\end{equation*}\n",
    "\n",
    "We define $u$ in [this cell](#u)."
   ]
  },
  {
   "cell_type": "code",
   "execution_count": 11,
   "metadata": {},
   "outputs": [
    {
     "name": "stdout",
     "output_type": "stream",
     "text": [
      "Appending to Schwarzschild/Hamiltonian-Hreal_on_top.txt\n"
     ]
    }
   ],
   "source": [
    "%%writefile -a $Ccodesdir/Hamiltonian-Hreal_on_top.txt\n",
    "A = 1 - 2*u"
   ]
  },
  {
   "cell_type": "markdown",
   "metadata": {},
   "source": [
    "<a id='coord'></a>\n",
    "\n",
    "# Step 6: Terms Dependent on Coordinates \\[Back to [top](#toc)\\]\n",
    "$$\\label{coord}$$\n",
    "\n",
    "We collect here terms directly dependend on the coordinates.  See [BB2010](https://arxiv.org/abs/0912.3517) Equations (4.5) and (4.6)."
   ]
  },
  {
   "cell_type": "markdown",
   "metadata": {},
   "source": [
    "<a id='sin2theta'></a>\n",
    "\n",
    "## Step 6.a: $\\sin^{2} \\theta$ \\[Back to [top](#toc)\\]\n",
    "$$\\label{sin2theta}$$\n",
    "\n"
   ]
  },
  {
   "cell_type": "code",
   "execution_count": 12,
   "metadata": {},
   "outputs": [
    {
     "name": "stdout",
     "output_type": "stream",
     "text": [
      "Appending to Schwarzschild/Hamiltonian-Hreal_on_top.txt\n"
     ]
    }
   ],
   "source": [
    "%%writefile -a $Ccodesdir/Hamiltonian-Hreal_on_top.txt\n",
    "sin2theta = 1 - costheta*costheta"
   ]
  },
  {
   "cell_type": "markdown",
   "metadata": {},
   "source": [
    "<a id='costheta'></a>\n",
    "\n",
    "## Step 6.b: $\\cos \\theta$ \\[Back to [top](#toc)\\]\n",
    "$$\\label{costheta}$$\n",
    "\n",
    "~~From the discussion in [BB2010](https://arxiv.org/abs/0912.3517) after equation (5.52) (noting that ${\\bf e}_{3} = \\hat{\\bf S}_{\\rm Kerr}$),~~\n",
    "\n",
    "\\begin{equation*}\n",
    "    \\cos \\theta = \\frac{z}{r}\n",
    "\\end{equation*}\n",
    "\n",
    "We ~~define ${\\bf e}_{3}$ in [this cell](#e3)~ and~~ define $r$ in [this cell](#r)."
   ]
  },
  {
   "cell_type": "code",
   "execution_count": 13,
   "metadata": {},
   "outputs": [
    {
     "name": "stdout",
     "output_type": "stream",
     "text": [
      "Appending to Schwarzschild/Hamiltonian-Hreal_on_top.txt\n"
     ]
    }
   ],
   "source": [
    "%%writefile -a $Ccodesdir/Hamiltonian-Hreal_on_top.txt\n",
    "costheta = z*u"
   ]
  },
  {
   "cell_type": "markdown",
   "metadata": {},
   "source": [
    "<a id='vectors'></a>\n",
    "\n",
    "# Step 7: Important Vectors \\[Back to [top](#toc)\\]\n",
    "$$\\label{vectors}$$\n",
    "\n",
    "We collect the vectors common for computing $H_{\\rm real}$ (defined in [this cell](#hreal)) below."
   ]
  },
  {
   "cell_type": "markdown",
   "metadata": {},
   "source": [
    "<a id='xi'></a>\n",
    "\n",
    "## Step 7.a: $\\boldsymbol{\\hat{\\theta}}$ \\[Back to [top](#toc)\\]\n",
    "$$\\label{xi}$$\n",
    "\n",
    "From [BB2010](https://arxiv.org/abs/0912.3517) Equation (3.38), we have\n",
    "\n",
    "\\begin{equation*}\n",
    "    \\boldsymbol{\\hat{\\theta}} = \\boldsymbol{\\hat{\\phi}} \\times \\mathbf{\\hat{r}}\n",
    "\\end{equation*}\n",
    "\n",
    "We define ${\\boldsymbol{\\hat{\\phi}}}$ in [this cell](#e3) and ${\\mathbf{\\hat{r}}}$ in [this cell](#n)."
   ]
  },
  {
   "cell_type": "code",
   "execution_count": 14,
   "metadata": {},
   "outputs": [
    {
     "name": "stdout",
     "output_type": "stream",
     "text": [
      "Appending to Schwarzschild/Hamiltonian-Hreal_on_top.txt\n"
     ]
    }
   ],
   "source": [
    "%%writefile -a $Ccodesdir/Hamiltonian-Hreal_on_top.txt\n",
    "thetahat1 = phihat2*rhat3 - phihat3*rhat2\n",
    "thetahat2 = -phihat1*rhat3 + phihat3*rhat1\n",
    "thetahat3 = phihat1*rhat2 - phihat2*rhat1"
   ]
  },
  {
   "cell_type": "markdown",
   "metadata": {},
   "source": [
    "<a id='e3'></a>\n",
    "\n",
    "## Step 7.b: ${\\boldsymbol{\\hat{\\phi}}}$ \\[Back to [top](#toc)\\]\n",
    "$$\\label{e3}$$\n",
    "\n",
    "From the discussion in [BB2010](https://arxiv.org/abs/0912.3517) after equation (5.52),\n",
    "\n",
    "\\begin{equation*}\n",
    "    {\\boldsymbol{\\hat{\\phi}}} = \\frac{1}{\\sqrt{x^2 + y^2}}(-y,x,0).\n",
    "\\end{equation*}\n"
   ]
  },
  {
   "cell_type": "code",
   "execution_count": 15,
   "metadata": {},
   "outputs": [
    {
     "name": "stdout",
     "output_type": "stream",
     "text": [
      "Appending to Schwarzschild/Hamiltonian-Hreal_on_top.txt\n"
     ]
    }
   ],
   "source": [
    "%%writefile -a $Ccodesdir/Hamiltonian-Hreal_on_top.txt\n",
    "phihat1 = -y*rhoinv\n",
    "phihat2 = x*rhoinv\n",
    "phihat3 = 0\n",
    "rhoinv = 1/sp.sqrt(x*x + y*y)"
   ]
  },
  {
   "cell_type": "markdown",
   "metadata": {},
   "source": [
    "<a id='n'></a>\n",
    "\n",
    "## Step 7.c: ${\\mathbf{\\hat{r}}}$ \\[Back to [top](#toc)\\]\n",
    "$$\\label{n}$$\n",
    "\n",
    "From [BB2010](https://arxiv.org/abs/0912.3517) Equation (3.37), we have\n",
    "\n",
    "\\begin{equation*}\n",
    "    {\\mathbf{\\hat{r}}} = \\frac{\\bf x }{ r }\n",
    "\\end{equation*}\n",
    "\n",
    "where ${\\bf x} = (x, y, z)$.  We define $r$ in [this cell](#r)."
   ]
  },
  {
   "cell_type": "code",
   "execution_count": 16,
   "metadata": {},
   "outputs": [
    {
     "name": "stdout",
     "output_type": "stream",
     "text": [
      "Appending to Schwarzschild/Hamiltonian-Hreal_on_top.txt\n"
     ]
    }
   ],
   "source": [
    "%%writefile -a $Ccodesdir/Hamiltonian-Hreal_on_top.txt\n",
    "rhat1 = x*u\n",
    "rhat2 = y*u\n",
    "rhat3 = z*u"
   ]
  },
  {
   "cell_type": "markdown",
   "metadata": {},
   "source": [
    "<a id='fundquant'></a>\n",
    "\n",
    "# Step 8: Fundamental Quantities \\[Back to [top](#toc)\\]\n",
    "$$\\label{fundquant}$$\n",
    "\n",
    " We collect here fundamental quantities from which we build $H_{\\rm real}$ (defined in [this cell](#Hreal))."
   ]
  },
  {
   "cell_type": "markdown",
   "metadata": {},
   "source": [
    "<a id='u'></a>\n",
    "\n",
    "## Step 8.a: $u$ \\[Back to [top](#toc)\\]\n",
    "$$\\label{u}$$\n",
    "\n",
    "From the discussion after [BB2010](https://arxiv.org/abs/0912.3517) Equation (5.40),\n",
    "\n",
    "\\begin{equation*}\n",
    "    u = \\frac{ 1 }{ r }.\n",
    "\\end{equation*}\n",
    "\n",
    "We define $M$ in [this cell](#m) and $r$ in [this cell](#r)."
   ]
  },
  {
   "cell_type": "code",
   "execution_count": 17,
   "metadata": {},
   "outputs": [
    {
     "name": "stdout",
     "output_type": "stream",
     "text": [
      "Appending to Schwarzschild/Hamiltonian-Hreal_on_top.txt\n"
     ]
    }
   ],
   "source": [
    "%%writefile -a $Ccodesdir/Hamiltonian-Hreal_on_top.txt\n",
    "u = 1/r"
   ]
  },
  {
   "cell_type": "markdown",
   "metadata": {},
   "source": [
    "<a id='r'></a>\n",
    "\n",
    "## Step 8.b: $r$ \\[Back to [top](#toc)\\]\n",
    "$$\\label{r}$$\n",
    "\n",
    "From the discussion after [BB2010](https://arxiv.org/abs/0912.3517) Equation (5.52),\n",
    "\n",
    "\\begin{equation*}\n",
    "    r = \\sqrt{ x^{2} + y^{2} + z^{2} }.\n",
    "\\end{equation*}"
   ]
  },
  {
   "cell_type": "code",
   "execution_count": 18,
   "metadata": {},
   "outputs": [
    {
     "name": "stdout",
     "output_type": "stream",
     "text": [
      "Appending to Schwarzschild/Hamiltonian-Hreal_on_top.txt\n"
     ]
    }
   ],
   "source": [
    "%%writefile -a $Ccodesdir/Hamiltonian-Hreal_on_top.txt\n",
    "r = sp.sqrt(x*x + y*y + z*z)"
   ]
  },
  {
   "cell_type": "markdown",
   "metadata": {},
   "source": [
    "<a id='validation'></a>\n",
    "\n",
    "# Step 9: Validation \\[Back to [top](#toc)\\]\n",
    "$$\\label{validation}$$\n",
    "\n",
    "The following code cell reverses the order of the expressions output to SEOBNR/Hamiltonian_on_top.txt and creates a Python function to validate the value of $H_{\\rm real}$ against the SEOBNRv3 Hamiltonian value computed in LALSuite git commit bba40f21e9 for command-line input parameters\n",
    "\n",
    "-M 23 -m 10 -f 20 -X 0.01 -Y 0.02 -Z -0.03 -x 0.04 -y -0.05 -z 0.06."
   ]
  },
  {
   "cell_type": "code",
   "execution_count": 19,
   "metadata": {},
   "outputs": [],
   "source": [
    "import numpy as np\n",
    "import difflib, sys, os\n",
    "\n",
    "# The subterms in the Hamiltonian expression are sometimes written on more than\n",
    "# one line for readability in this Jupyter notebook.  We first create a file of\n",
    "# one-line expressions, Hamiltonian-Hreal_one_line_expressions.txt.\n",
    "with open(os.path.join(Ccodesdir,\"Hamiltonian-one_line_expressions.txt\"), \"w\") as output:\n",
    "    count = 0\n",
    "    # Read output of this notebook\n",
    "    for line in list(open(\"Schwarzschild/Hamiltonian-Hreal_on_top.txt\")):\n",
    "        # Read the first line\n",
    "        if count == 0:\n",
    "            prevline=line\n",
    "        #Check if prevline is a complete expression\n",
    "        elif \"=\" in prevline and \"=\" in line:\n",
    "            output.write(\"%s\\n\" % prevline.strip('\\n'))\n",
    "            prevline=line\n",
    "        # Check if line needs to be adjoined to prevline\n",
    "        elif \"=\" in prevline and not \"=\" in line:\n",
    "            prevline = prevline.strip('\\n')\n",
    "            prevline = (prevline+line).replace(\" \",\"\")\n",
    "        # Be sure to print the last line.\n",
    "        if count == len(list(open(\"Schwarzschild/Hamiltonian-Hreal_on_top.txt\")))-1:\n",
    "            if not \"=\" in line:\n",
    "                print(\"ERROR. Algorithm not robust if there is no equals sign on the final line. Sorry.\")\n",
    "                sys.exit(1)\n",
    "            else:\n",
    "                output.write(\"%s\" % line)\n",
    "        count = count + 1\n",
    "\n",
    "# Now reverse the expressions and write them in a function\n",
    "# This formulation is used to check that we get a reasonable H_real value\n",
    "with open(os.path.join(Ccodesdir,\"Hreal_on_bottom.py\"), \"w\") as output:\n",
    "    output.write(\"import numpy as np\\ndef compute_Hreal(x=2.129681018601393e+01, y=0.000000000000000e+00, z=0.000000000000000e+00, p1=0.000000000000000e+00, p2=2.335391115580442e-01, p3=-4.235164736271502e-22):\\n\")\n",
    "    for line in reversed(list(open(\"Schwarzschild/Hamiltonian-one_line_expressions.txt\"))):\n",
    "        output.write(\"    %s\\n\" % line.rstrip().replace(\"sp.sqrt\", \"np.sqrt\").replace(\"sp.Rational\",\n",
    "                                \"np.divide\").replace(\"sp.abs\", \"np.abs\").replace(\"sp.log\",\n",
    "                                \"np.log\").replace(\"sp.sign\", \"np.sign\").replace(\"sp.pi\",\n",
    "                                \"np.pi\"))\n",
    "    output.write(\"    return Heff\")\n"
   ]
  },
  {
   "cell_type": "markdown",
   "metadata": {},
   "source": [
    "<a id='latex_pdf_output'></a>\n",
    "\n",
    "# Step 19: Output this notebook to $\\LaTeX$-formatted PDF file \\[Back to [top](#toc)\\]\n",
    "$$\\label{latex_pdf_output}$$\n",
    "\n",
    "The following code cell converts this Jupyter notebook into a proper, clickable $\\LaTeX$-formatted PDF file. After the cell is successfully run, the generated PDF may be found in the root NRPy+ tutorial directory, with filename\n",
    "[Tutorial-SEOBNR_Documentation.pdf](Tutorial-SEOBNR_Documentation.pdf) (Note that clicking on this link may not work; you may need to open the PDF file through another means.)"
   ]
  },
  {
   "cell_type": "code",
   "execution_count": 20,
   "metadata": {
    "scrolled": true
   },
   "outputs": [
    {
     "ename": "AttributeError",
     "evalue": "module 'cmdline_helper' has no attribute 'output_Jupyter_notebook_to_LaTeXed_PDF'",
     "output_type": "error",
     "traceback": [
      "\u001b[1;31m---------------------------------------------------------------------------\u001b[0m",
      "\u001b[1;31mAttributeError\u001b[0m                            Traceback (most recent call last)",
      "\u001b[1;32m<ipython-input-20-9c300e7f83d4>\u001b[0m in \u001b[0;36m<module>\u001b[1;34m\u001b[0m\n\u001b[0;32m      1\u001b[0m \u001b[1;32mimport\u001b[0m \u001b[0mcmdline_helper\u001b[0m \u001b[1;32mas\u001b[0m \u001b[0mcmd\u001b[0m    \u001b[1;31m# NRPy+: Multi-platform Python command-line interface\u001b[0m\u001b[1;33m\u001b[0m\u001b[1;33m\u001b[0m\u001b[0m\n\u001b[1;32m----> 2\u001b[1;33m \u001b[0mcmd\u001b[0m\u001b[1;33m.\u001b[0m\u001b[0moutput_Jupyter_notebook_to_LaTeXed_PDF\u001b[0m\u001b[1;33m(\u001b[0m\u001b[1;34m\"Tutorial-SEOBNR_Documentation\"\u001b[0m\u001b[1;33m)\u001b[0m\u001b[1;33m\u001b[0m\u001b[1;33m\u001b[0m\u001b[0m\n\u001b[0m",
      "\u001b[1;31mAttributeError\u001b[0m: module 'cmdline_helper' has no attribute 'output_Jupyter_notebook_to_LaTeXed_PDF'"
     ]
    }
   ],
   "source": [
    "import cmdline_helper as cmd    # NRPy+: Multi-platform Python command-line interface\n",
    "cmd.output_Jupyter_notebook_to_LaTeXed_PDF(\"Tutorial-SEOBNR_Documentation\")"
   ]
  }
 ],
 "metadata": {
  "kernelspec": {
   "display_name": "Python 3",
   "language": "python",
   "name": "python3"
  },
  "language_info": {
   "codemirror_mode": {
    "name": "ipython",
    "version": 3
   },
   "file_extension": ".py",
   "mimetype": "text/x-python",
   "name": "python",
   "nbconvert_exporter": "python",
   "pygments_lexer": "ipython3",
   "version": "3.7.1"
  }
 },
 "nbformat": 4,
 "nbformat_minor": 2
}
