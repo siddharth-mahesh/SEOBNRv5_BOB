{
 "cells": [
  {
   "cell_type": "markdown",
   "id": "0ab1ed56-1f20-4647-b708-da4a26941663",
   "metadata": {},
   "source": [
    "# Symbolic Partial Derivative Routine\n",
    "\n",
    "## Authors: Zach Etienne, Tyler Knowles & Siddharth Mahesh\n",
    "\n",
    "## This module contains a routine for computing partial derivatives of a mathematical expression that is written as several subexpressions.\n",
    "\n",
    "**Notebook Status:** <font color='green'><b> Validated </b></font>\n",
    "\n",
    "**Validation Notes:** This tutorial notebook has been confirmed to be self-consistent with its corresponding NRPy+ module, as documented [below](#code_validation). Additionally, this notebook has been validated by checking that results are consistent with exact derivative expressions used in the SEOBNRv3_opt approixment of [LALSuite](https://git.ligo.org/lscsoft/lalsuite).\n",
    "\n",
    "### NRPy+ Source Code for this module: [SEOBNR_Derivative_Routine.py](../edit/SEOBNR/SEOBNR_Derivative_Routine.py)\n",
    "\n",
    "## Introduction\n",
    "$$\\label{intro}$$\n",
    "\n",
    "This notebook documents the symbolic partial derivative routine used to generate analytic derivatives of the [SEOBNRv3](https://git.ligo.org/lscsoft/lalsuite) Hamiltonian (documented [here](../Tutorial-SEOBNR_v3_Hamiltonian.ipynb)) and described in [this article](https://arxiv.org/abs/1803.06346).  In general, this notebook takes as input a file of inter-dependent mathematical expressions (in SymPy syntax), a file listing the names of values within those expressions, and a file listing all variables with which to take partial derivatives of each expression.  The output is a text file containing the original expression and those for each partial derivative computation.  The intention is to perform CSE on these expressions to create efficient partial derivative code!"
   ]
  },
  {
   "cell_type": "markdown",
   "id": "b50fc401-5924-4387-a58c-b62b0ec3e0bb",
   "metadata": {},
   "source": [
    "<a id='toc'></a>\n",
    "\n",
    "# Table of Contents\n",
    "$$\\label{toc}$$\n",
    "\n",
    "This notebook is organized as follows\n",
    "\n",
    "1. [Step 1](#initializenrpy): Initialize core Python/NRPy+ modules\n",
    "1. [Step 2:](#read_expressions) Read in Hamiltonian expressions from `Sympy_Hreal_on_Bottom.txt`\n",
    "1. [Step 3:](#list_constants) Specify constants and variables in Hamiltonian expression\n",
    "1. [Step 4:](#list_free_symbols) Extract free symbols\n",
    "1. [Step 5:](#convert_to_func) Convert variables to function notation; e.g., `var` goes to `var(xx)`\n",
    "1. [Step 6:](#differentiate) Differentiate with respect to `xx`\n",
    "1. [Step 7:](#remove_zeros) Remove derivatives (of constants) that evaluate to zero, simplifying derivative expressions\n",
    "1. [Step 8:](#store_results) Store partial derivatives to SymPy notebook `partial_derivatives.txt-VALIDATION.txt`\n",
    "1. [Step 9:](#numpy_function) Create numpy function to output exact derivatives for all 12 dynamic variables \n",
    "1. [Step 10:](#code_validation) Validate against LALSuite and trusted `SEOBNR_Derivative_Routine` NRPy+ module\n",
    "1. [Step 11:](#spherical_orbit) Spherical Orbit Test\n",
    "1. [Step 11:](#latex_pdf_output) Output this notebook to $\\LaTeX$-formatted PDF file"
   ]
  },
  {
   "cell_type": "markdown",
   "id": "767bff5f-7649-4612-b82a-f70e1c0ef905",
   "metadata": {},
   "source": [
    "<a id='initializenrpy'></a>\n",
    "\n",
    "# Step 1: Initialize core Python/NRPy+ modules \\[Back to [top](#toc)\\]\n",
    "$$\\label{initializenrpy}$$\n",
    "\n",
    "Let's start by importing all the needed modules from Python/NRPy+ and creating the output directory (if it does not already exist). Note that since the expression 'Q' appears in the Hamiltonian and is a protected symbol in sympy we must create a new global dictionary to ensure that sympy does not spit out errors."
   ]
  },
  {
   "cell_type": "code",
   "execution_count": 1,
   "id": "67fb819c-2004-4297-9361-c8d9ce9d859e",
   "metadata": {},
   "outputs": [],
   "source": [
    "# Step 1.a: import all needed modules from Python/NRPy+:\n",
    "import sympy as sp                # SymPy: The Python computer algebra package upon which NRPy+ depends\n",
    "import sys, os     # Standard Python modules for multiplatform OS-level functions\n",
    "sys.path.append('../')\n",
    "\n",
    "from outputC import superfast_uniq, lhrh      # Remove duplicate entries from a Python array; store left- and right-\n",
    "                                              #   hand sides of mathematical expressions\n",
    "\n",
    "# As of April 2021, \"sp.sympify(\"Q+1\")\" fails because Q is a reserved keyword.\n",
    "#   This is the workaround, courtesy Ken Sible.\n",
    "custom_global_dict = {}\n",
    "exec('from sympy import *', custom_global_dict)\n",
    "del custom_global_dict['Q']\n",
    "\n",
    "# Step 1.b: Check for a sufficiently new version of SymPy (for validation)\n",
    "# Ignore the rc's and b's for release candidates & betas.\n",
    "sympy_version = sp.__version__.replace('rc', '...').replace('b', '...')\n",
    "sympy_version_decimal = float(int(sympy_version.split(\".\")[0]) + int(sympy_version.split(\".\")[1])/10.0)\n",
    "if sympy_version_decimal > 1.2:\n",
    "    custom_parse_expr = lambda expr: sp.parse_expr(expr, global_dict=custom_global_dict)\n",
    "else:\n",
    "    custom_parse_expr = lambda expr: sp.sympify(expr)\n",
    "\n",
    "if sympy_version_decimal < 1.2:\n",
    "    print('Error: NRPy+ does not support SymPy < 1.2')\n",
    "    sys.exit(1)\n",
    "\n",
    "# Step 1.c: Name of the directory containing the input file\n",
    "inputdir = \"Derivatives\""
   ]
  },
  {
   "cell_type": "markdown",
   "id": "8ce1dc0f-0c03-47c7-8bac-d0561e7d6844",
   "metadata": {},
   "source": [
    "<a id='read_expressions'></a>\n",
    "\n",
    "# Step 2: Read in Hamiltonian expressions from `Sympy_Hreal_on_Bottom.txt` \\[Back to [top](#toc)\\]\n",
    "$$\\label{read_expressions}$$\n",
    "\n",
    "We read in the expressions of which we will compute partial derivatives in a single large string before splitting the string by line (carriage return) and by \"=\".  Doing so allows us to manipulate the right- and left-hand sides of the expressions appropriately.  We store the left- and right-hand sides in the array `lr`, which consists of `lhrh` arrays with left-hand sides `lhs` and right-hand sides `rhs`.  Note that `Lambda` is a protected keyword in Python, so the variable $\\Lambda$ in the Hamiltonian is renamed `Lamb`."
   ]
  },
  {
   "cell_type": "code",
   "execution_count": 2,
   "id": "4cccacea-a177-4c37-8d26-a7cc147791c9",
   "metadata": {},
   "outputs": [],
   "source": [
    "# Step 2.a: Read in expressions as a (single) string\n",
    "with open(os.path.join(inputdir,'partial_derivatives.txt-VALIDATION'), 'r') as file:\n",
    "    expressions_as_lines = file.readlines()\n",
    "\n",
    "#print(expressions_as_lines)\n",
    "# Step 2.b: Create and populate the \"lr\" array, which separates each line into left- and right-hand sides\n",
    "#   Each entry is a string of the form lhrh(lhs='',rhs='')\n",
    "lr = []\n",
    "\n",
    "for i in range(len(expressions_as_lines)):\n",
    "    # Ignore lines with 2 or fewer characters and those starting with #\n",
    "    if len(expressions_as_lines[i]) > 2 and expressions_as_lines[i][0] != \"#\":\n",
    "        # Split each line by its equals sign\n",
    "        split_line = expressions_as_lines[i].split(\"=\")\n",
    "        #print(split_line)\n",
    "        # Append the line to \"lr\", removing spaces, \"sp.\" prefixes, and replacing Lambda->Lamb\n",
    "        #   (Lambda is a protected keyword):\n",
    "        lr.append(lhrh(lhs=split_line[0].replace(\" \",\"\"),\n",
    "                       rhs=split_line[1].replace(\" \",\"\").replace(\"sp.\",\"\")))\n",
    "\n",
    "# Step 2.c: Separate and sympify right- and left-hand sides into separate arrays\n",
    "lhss = []\n",
    "rhss = []\n",
    "for i in range(len(lr)):\n",
    "    #print(lr[i].rhs)\n",
    "    lhss.append(custom_parse_expr(lr[i].lhs))\n",
    "    rhss.append(custom_parse_expr(lr[i].rhs))"
   ]
  },
  {
   "cell_type": "markdown",
   "id": "4120292c-4f8f-4812-8385-1bb6ca3707e9",
   "metadata": {},
   "source": [
    "<a id='list_constants'></a>\n",
    "\n",
    "# Step 3: Specify constants and variables in Hamiltonian expression \\[Back to [top](#toc)\\]\n",
    "$$\\label{list_constants}$$\n",
    "\n",
    "We read in and declare as SymPy symbols the constant values; derivatives with respect to these variables will be set to zero.  We then read in the variables with respect to which we want to take derivatives and declare those as SymPy variables as well."
   ]
  },
  {
   "cell_type": "code",
   "execution_count": 3,
   "id": "a122a72f-99a3-4baa-bb71-367503b9dece",
   "metadata": {},
   "outputs": [],
   "source": [
    "# Step 3.a: Create `input_constants` array and populate with SymPy symbols\n",
    "m1,m2,eta= sp.symbols('m1 m2 eta',\n",
    "                                                                real=True)\n",
    "input_constants = [m1,m2,eta]\n",
    "\n",
    "# Step 3.b: Create `dynamic_variables` array and populate with SymPy symbols\n",
    "#x,y,z,p1,p2,p3,S1x,S1y,S1z,S2x,S2y,S2z = sp.symbols(\"x y z p1 p2 p3 S1x S1y S1z S2x S2y S2z\", real=True)\n",
    "q1,q2,q3,p1,p2,p3 = sp.symbols(\"q1 q2 q3 p1 p2 p3\")\n",
    "dynamic_variables = [q1,q2,q3,p1,p2,p3]\n"
   ]
  },
  {
   "cell_type": "markdown",
   "id": "1b6d0132-5f9f-4df5-b0e1-6972123504d4",
   "metadata": {},
   "source": [
    "<a id='list_free_symbols'></a>\n",
    "\n",
    "# Step 4: Extract free symbols \\[Back to [top](#toc)\\]\n",
    "$$\\label{list_free_symbols}$$\n",
    "\n",
    "By ''free symbols'' we mean the variables in the right-hand sides.  We first create a list of all such terms (using SymPy's built-in free_symbol attribute), including duplicates, and then strip the duplicates.  We then remove input constants from the symbol list."
   ]
  },
  {
   "cell_type": "code",
   "execution_count": 4,
   "id": "939c1c97-3a44-4ab3-93de-b2266356296a",
   "metadata": {},
   "outputs": [],
   "source": [
    "# Step 4.a: Prepare array of \"free symbols\" in the right-hand side expressions\n",
    "full_symbol_list_with_dups = []\n",
    "for i in range(len(lr)):\n",
    "    for variable in rhss[i].free_symbols:\n",
    "        full_symbol_list_with_dups.append(variable)\n",
    "\n",
    "# Step 4.b: Remove duplicate free symbols\n",
    "full_symbol_list = superfast_uniq(full_symbol_list_with_dups)\n",
    "\n",
    "# Step 4.c: Remove input constants from symbol list\n",
    "for inputconst in input_constants:\n",
    "    for symbol in full_symbol_list:\n",
    "        if str(symbol) == str(inputconst):\n",
    "            full_symbol_list.remove(symbol)\n",
    "for dynamic_variable in dynamic_variables:\n",
    "    for symbol in full_symbol_list:\n",
    "        if str(symbol) == str(dynamic_variable):\n",
    "            full_symbol_list.remove(symbol)\n"
   ]
  },
  {
   "cell_type": "markdown",
   "id": "cb3004a0-35f5-4b0b-b308-6e225b5f053a",
   "metadata": {},
   "source": [
    "<a id='convert_to_func'></a>\n",
    "\n",
    "# Step 5: Convert variables to function notation; e.g., `var` goes to `var(x,y,z,p1,p2,p3,S1x,S1y,S1z,S2x,S2y,S2z)` \\[Back to [top](#toc)\\]\n",
    "$$\\label{convert_to_func}$$\n",
    "\n",
    "In order to compute the partial derivative of each right-hand side, we mark each variable (left-hand side) and each free symbol (in right-hand sides) as a function with the dynamic variables as arguments."
   ]
  },
  {
   "cell_type": "code",
   "execution_count": 5,
   "id": "c9b297f2-8c60-4988-94fe-2e9b493de607",
   "metadata": {},
   "outputs": [],
   "source": [
    "# Step 5.b: Mark each free variable as a function with arguments as the dynamic variables\n",
    "full_function_list = []\n",
    "for symb in full_symbol_list:\n",
    "    func = sp.sympify(sp.Function(str(symb),real=True)(q1,q2,q3,p1,p2,p3))\n",
    "    full_function_list.append(func)\n",
    "    for i in range(len(rhss)):\n",
    "        for var in rhss[i].free_symbols:\n",
    "            if str(var) == str(symb):\n",
    "                rhss[i] = rhss[i].subs(var,func)"
   ]
  },
  {
   "cell_type": "markdown",
   "id": "7e288e96-4643-4b70-9e06-1d7f885136ca",
   "metadata": {},
   "source": [
    "<a id='differentiate'></a>\n",
    "\n",
    "# Step 6: Differentiate with respect to dynamic variables \\[Back to [top](#toc)\\]\n",
    "$$\\label{differentiate}$$\n",
    "\n",
    "Now we differentiate the right-hand expressions with respect to the dynamic variabls.  We use the SymPy $\\texttt{diff}$ command, differentiating with respect to each dynamic variable.  After so doing, we remove $\\texttt{(xx)}$, where 'xx' represents a dynamic variable and \"Derivative\" (which is output by $\\texttt{diff}$), and use \"prm_xx\" suffix to denote the derivative with respect to $\\texttt{xx}$."
   ]
  },
  {
   "cell_type": "code",
   "execution_count": 6,
   "id": "56d4132a-98e0-476b-8524-3826a3f06f97",
   "metadata": {},
   "outputs": [],
   "source": [
    "# Step 6: Use SymPy's diff function to differentiate right-hand sides with respect to dynamic variables\n",
    "#   and append \"prm\" notation to left-hand sides\n",
    "lhss_deriv = []\n",
    "rhss_deriv = []\n",
    "for i in range(len(rhss)):\n",
    "    for dynamic_variable in dynamic_variables:\n",
    "        var = str(dynamic_variable)\n",
    "        lhss_deriv.append(custom_parse_expr(str(lhss[i])+\"prm\"+var))\n",
    "        newrhs = custom_parse_expr(str(sp.diff(rhss[i],dynamic_variable)).replace(\"(q1, q2, q3, p1, p2, p3)\",\"\").replace(\", \"+var+\")\",\"prm\"+var).replace(\"Derivative(\",\"\"))\n",
    "        rhss_deriv.append(newrhs)"
   ]
  },
  {
   "cell_type": "markdown",
   "id": "d7a8d93e-fe35-4c88-a0b5-cfedc3c26e21",
   "metadata": {},
   "source": [
    "<a id='remove_zeros'></a>\n",
    "\n",
    "# Step 7: Remove derivatives (of constants) that evaluate to zero, simplifying derivative expressions \\[Back to [top](#toc)\\]\n",
    "$$\\label{remove_zeros}$$\n",
    "\n",
    "We declare a function to simply the derivative expressions.  In particular, we want to remove terms equal to zero."
   ]
  },
  {
   "cell_type": "code",
   "execution_count": 7,
   "id": "3f9dc3f1-040d-43f5-9b8c-c305ed9c6495",
   "metadata": {},
   "outputs": [],
   "source": [
    "# Step 7.a: Define derivative simplification function\n",
    "def simplify_deriv(lhss_deriv,rhss_deriv):\n",
    "    # Copy expressions into another array\n",
    "    lhss_deriv_simp = []\n",
    "    rhss_deriv_simp = []\n",
    "    for i in range(len(rhss_deriv)):\n",
    "        lhss_deriv_simp.append(lhss_deriv[i])\n",
    "        rhss_deriv_simp.append(rhss_deriv[i])\n",
    "    # If a right-hand side is 0, substitute value 0 for the corresponding left-hand side in later terms\n",
    "    for i in range(len(rhss_deriv_simp)):\n",
    "        if rhss_deriv_simp[i] == 0:\n",
    "            for j in range(i+1,len(rhss_deriv_simp)):\n",
    "                for var in rhss_deriv_simp[j].free_symbols:\n",
    "                    if str(var) == str(lhss_deriv_simp[i]):\n",
    "                        rhss_deriv_simp[j] = rhss_deriv_simp[j].subs(var,0)\n",
    "    zero_elements_to_remove = []\n",
    "    # Create array of indices for expressions that are zero\n",
    "    for i in range(len(rhss_deriv_simp)):\n",
    "        if rhss_deriv_simp[i] == sp.sympify(0):\n",
    "            zero_elements_to_remove.append(i)\n",
    "    # When removing terms that are zero, we need to take into account their new index (after each removal)\n",
    "    count = 0\n",
    "    for i in range(len(zero_elements_to_remove)):\n",
    "        del lhss_deriv_simp[zero_elements_to_remove[i]+count]\n",
    "        del rhss_deriv_simp[zero_elements_to_remove[i]+count]\n",
    "        count -= 1\n",
    "    return lhss_deriv_simp,rhss_deriv_simp\n",
    "\n",
    "# Step 7.b: Call the simplication function and then copy results\n",
    "lhss_deriv_simp,rhss_deriv_simp = simplify_deriv(lhss_deriv,rhss_deriv)\n",
    "lhss_deriv = lhss_deriv_simp\n",
    "rhss_deriv = rhss_deriv_simp"
   ]
  },
  {
   "cell_type": "markdown",
   "id": "22e4d7f5-b072-48a7-a163-41eddb85e736",
   "metadata": {},
   "source": [
    "<a id='store_results'></a>\n",
    "\n",
    "# Step 8: Store partial derivatives to SymPy notebook `partial_derivatives.txt-VALIDATION.txt` \\[Back to [top](#toc)\\]\n",
    "$$\\label{store_results}$$\n",
    "\n",
    "We write the resulting derivatives in SymPy syntax.  Each partial derivative is output in its own file, in a similar format to the input expressions."
   ]
  },
  {
   "cell_type": "code",
   "execution_count": 8,
   "id": "dda1c8f9-a837-4643-9ccf-d0f471eb1d6f",
   "metadata": {},
   "outputs": [],
   "source": [
    "# Step 9: Output original expression and each partial derivative expression in SymPy snytax\n",
    "outputdir = \"Derivatives\"\n",
    "with open(os.path.join(outputdir,'partial_second_derivatives.txt-VALIDATION'), 'w') as output:\n",
    "    for i in range(len(lr)):\n",
    "        right_side = lr[i].rhs\n",
    "        right_side_in_sp = right_side.replace(\"sqrt(\",\"sp.sqrt(\")\n",
    "        output.write(str(lr[i].lhs)+\" = \"+right_side_in_sp)\n",
    "    for i in range(len(lhss_deriv)):\n",
    "            right_side = str(rhss_deriv[i])\n",
    "            right_side_in_sp = right_side.replace(\"sqrt(\",\"sp.sqrt(\").replace(\"prm\",\n",
    "                                                \"_prm\").replace(\"__prm\",\"_prm\")\n",
    "            output.write(str(lhss_deriv[i]).replace(\"prm\",\"_prm\").replace(\"__prm\",\"_prm\")+\" = \"+right_side_in_sp+\"\\n\")"
   ]
  },
  {
   "cell_type": "markdown",
   "id": "dc442914-7461-4c22-bc79-5a9b86bd0efc",
   "metadata": {},
   "source": [
    "<a id='numpy_function'></a>\n",
    "\n",
    "# Step 9: Create numpy function to output exact derivatives for all 12 dynamic variables \\[Back to [top](#toc)\\]\n",
    "$$\\label{numpy_function}$$\n",
    "\n",
    "We create a python module where we store the exact derivatives as a numpy function."
   ]
  },
  {
   "cell_type": "code",
   "execution_count": 9,
   "id": "bc20b0d3-c7c2-48fc-af5b-b91409bf92d1",
   "metadata": {},
   "outputs": [],
   "source": [
    "# Step 10: Create Numpy function to output exact derivatives for all 6 dynamical variables\n",
    "\n",
    "with open(os.path.join(outputdir,'EOB2PN_hamiltonian_second_derivatives.py'),\"w\") as file:\n",
    "    file.write(\"\"\"from __future__ import division\n",
    "import numpy as np\n",
    "def ham_second_derivs(m1, m2, q1, q2, q3, p1, p2, p3):\n",
    "\"\"\")\n",
    "    for i in range(len(lr)):\n",
    "        right_side = lr[i].rhs\n",
    "        right_side_in_np = right_side.replace(\"sqrt(\",\"np.sqrt(\")\n",
    "        file.write(\"    \" + lr[i].lhs + \" = \" + right_side_in_np)\n",
    "    for i in range(len(lhss_deriv)):\n",
    "        right_side = str(rhss_deriv[i])\n",
    "        right_side_in_np = right_side.replace(\"sqrt(\",\"np.sqrt(\").replace(\"prm\",\n",
    "                                                \"_prm\")\n",
    "        file.write(\"    \" + str(lhss_deriv[i]).replace(\"prm\", \"_prm\") + \" = \" + right_side_in_np + \"\\n\")\n",
    "    file.write(\"    return np.array([Hreal__prmq1_prmq1, Hreal__prmq1_prmp2, Hreal__prmp2_prmp2])\\n\")\n",
    "    "
   ]
  },
  {
   "cell_type": "code",
   "execution_count": null,
   "id": "91726558-9c78-401b-9827-ac84fe416203",
   "metadata": {},
   "outputs": [],
   "source": []
  }
 ],
 "metadata": {
  "kernelspec": {
   "display_name": "Python 3",
   "language": "python",
   "name": "python3"
  },
  "language_info": {
   "codemirror_mode": {
    "name": "ipython",
    "version": 3
   },
   "file_extension": ".py",
   "mimetype": "text/x-python",
   "name": "python",
   "nbconvert_exporter": "python",
   "pygments_lexer": "ipython3",
   "version": "3.8.8"
  }
 },
 "nbformat": 4,
 "nbformat_minor": 5
}
