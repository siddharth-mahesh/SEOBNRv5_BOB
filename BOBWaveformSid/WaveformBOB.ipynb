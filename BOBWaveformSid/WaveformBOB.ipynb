{
  "nbformat": 4,
  "nbformat_minor": 0,
  "metadata": {
    "colab": {
      "name": "WaveformBOB.ipynb",
      "provenance": [],
      "collapsed_sections": []
    },
    "kernelspec": {
      "name": "python3",
      "display_name": "Python 3"
    }
  },
  "cells": [
    {
      "cell_type": "code",
      "metadata": {
        "id": "9chPmoUnbQr_",
        "colab_type": "code",
        "colab": {}
      },
      "source": [
        "import sympy as sp\n",
        "import numpy as np\n",
        "import matplotlib.pyplot as pltb\n",
        "from scipy.special import comb,factorial\n",
        "\n",
        "def sYlm(l,m,s,th,p):\n",
        "  temp = 0\n",
        "  for r in range(0,l-s+1):\n",
        "    temp += comb(l-s,r,exact = True)*comb(l+s,r+s-m,exact = True)*(-1**(l-r-s))/(np.tan(th/2)**(2*r + s - m) )\n",
        "  \n",
        "  prefact = (-1**m)*np.sqrt(factorial(l+m)*(2*l + 1)/(4*np.pi*factorial(l+s)*factorial(l-s)))*(np.sin(th/2)**(2*l))\n",
        "  \n",
        "  return temp*prefact*np.exp(m*p*1J)"
      ],
      "execution_count": 0,
      "outputs": []
    },
    {
      "cell_type": "markdown",
      "metadata": {
        "id": "F8s1xMsHbVrA",
        "colab_type": "text"
      },
      "source": [
        "# Generating Waveforms from the Backwards One Body Model\n",
        "\n",
        "### Author: Siddharth Mahesh\n",
        "\n",
        "## Waveform Characterisation in the BOB model\n",
        "\n",
        "In the Backwards-One-Body model, the late inspiral and the merger-ringdown parts of the binary black hole merger are assumed to dominate the waveform. At these stages of the merger, the final black hole is the relavent background spacetime, the waveform amplitude and phase are given by the evolution of the Quasi-Normal Modes (QNMs) of perturbations about the final black hole.\n",
        "\n",
        "### Amplitude\n",
        "\n",
        "The Amplitude of the gravitational waveform is first recorded in terms of the amplitude of the Weyl Scalar as:\n",
        "\n",
        "$$\n",
        "|\\psi_4| = A_p\\text{sech}\\left[\\gamma(t - t_p)\\right]\n",
        "$$\n",
        "\n",
        "Where, $t_p$ corresponds to the time at which the waveform reaches peak amplitude. The strain amplitude is then given by:\n",
        "\n",
        "$$\n",
        "|h_{lm}|  = \\frac{1}{\\omega_{lm}^2}|\\psi_4|\n",
        "$$\n",
        "\n",
        "Here, $\\omega$ and $\\gamma$ in the previous equation denote the orbital frequency of the null congruence as well as the corresponding Lyapunov Exponent, respectively. The Lyapunov exponent is given by:\n",
        "\n",
        "$$\n",
        "\\gamma = \\sqrt{3\\omega^2\\left(1 - \\frac{2M}{r_{lr}} + \\frac{a^2}{r_{lr}^2}\\right)}\n",
        "$$\n",
        "\n",
        "Where, $(M,a)$ are the mass and spin of the final Kerr black hole and $r_{lr}$ is the location of the light ring given by:\n",
        "\n",
        "$$\n",
        "r_{lr} = 2M\\left(1 + \\cos\\left(\\frac{2}{3}\\cos^{-1}\\left(-\\frac{a}{M}\\right)\\right)\\right)\n",
        "$$\n",
        "\n",
        "And the frequency at the light ring is given by:\n",
        "\n",
        "$$\n",
        "\\omega = \\frac{M^{1/2}}{r^{3/2} + aM^{1/2}}\n",
        "$$"
      ]
    },
    {
      "cell_type": "code",
      "metadata": {
        "id": "Ov2YYMdAzsdg",
        "colab_type": "code",
        "outputId": "70fecee4-6730-4aae-e378-fb1c91b7da5d",
        "colab": {
          "base_uri": "https://localhost:8080/",
          "height": 54
        }
      },
      "source": [
        "M , a = sp.symbols(\"M a\")\n",
        "A_p , t_p , t = sp.symbols(\"A_p t t_p\")\n",
        "\n",
        "r_lr = 2*M*(1+sp.cos(sp.Rational(2,3)*sp.acos(-a/M)))\n",
        "w_lr = sp.sqrt(M)/(sp.sqrt(r_lr**3) + a*sp.sqrt(M))\n",
        "gamma = sp.sqrt(3*(w_lr**2)*(1 - 2*M/r_lr + a**2/r_lr**2))\n",
        "\n",
        "psi4 = A_p / sp.cosh(gamma * (t - t_p))\n",
        "\n",
        "print(psi4)"
      ],
      "execution_count": 0,
      "outputs": [
        {
          "output_type": "stream",
          "text": [
            "A_p/cosh(sqrt(3)*sqrt((32*M**2*cos(acos(-a/M)/3)**6 - 16*M**2*cos(acos(-a/M)/3)**4 + a**2*(cos(2*acos(-a/M)/3) + 1))/(M*(sqrt(M)*a + 8*sqrt(M**3*cos(acos(-a/M)/3)**6))**2*(cos(2*acos(-a/M)/3) + 1)*cos(acos(-a/M)/3)**4))*(t - t_p)/4)\n"
          ],
          "name": "stdout"
        }
      ]
    },
    {
      "cell_type": "markdown",
      "metadata": {
        "id": "2gJkpidTzsvR",
        "colab_type": "text"
      },
      "source": [
        "### Phase \n",
        "\n",
        "The phase of the waveform is given by:\n",
        "\n",
        "$$\n",
        "\\mathbf{\\Phi} = \\text{arctan}_+ + \\text{arctanh}_+ - \\text{arctan}_- - \\text{arctan}_-\n",
        "$$\n",
        "\n",
        "Where the individual terms:\n",
        "\n",
        "$$\n",
        "\\text{arctan[h]}_\\pm = \\kappa_\\pm\\tau\\left[\\text{arctan[h]}\\left(\\frac{\\Omega}{\\kappa_\\pm}\\right) - \\text{arctan[h]}\\left(\\frac{\\Omega_0}{\\kappa_\\pm}\\right)\\right]\n",
        "$$\n",
        "\n",
        "The term $\\kappa$ is then given by:\n",
        "\n",
        "$$\n",
        "\\kappa_\\pm = \\left\\{\\Omega_0^4 \\pm k\\left[1 - \\mp \\tanh\\left(\\frac{t_0 - t_p}{\\tau}\\right)\\right]\\right\\}\n",
        "$$\n",
        "\n",
        "And $\\Omega$ given by:\n",
        "\n",
        "$$\n",
        "\\Omega = \\left\\{\\Omega_0^4 + k\\left[\\tanh\\left(\\frac{t - t_p}{\\tau} \\right) - \\tanh\\left(\\frac{t_0 - t_p}{\\tau} \\right)\\right]\\right\\}^{1/4}\n",
        "$$\n",
        "\n",
        "Where, $k$ is given by:\n",
        "\n",
        "$$\n",
        "k = \\left(\\frac{\\Omega^4_{\\text{QNM}} - \\Omega^4_0}{1 - \\tanh\\left\\{(t_0 - t_p)/\\tau\\right\\}}\\right)\n",
        "$$\n",
        "\n",
        "Where, $t_0$ , $\\Omega_0$ correspond to the time and corresponding angular frequency of the perturber when it transitions from inspiral. $\\Omega_{\\text{QNM}} = \\omega_{\\text{QNM}}/m$ is the orbital frequency associated with the light ring perturbation which sources quasinormal mode emission at frequency $\\omega_{\\text{QNM}}$. Lastly, $\\tau = \\gamma^{-1}$ is the damping timescale related to the Lyapunov exponent."
      ]
    },
    {
      "cell_type": "code",
      "metadata": {
        "id": "a9O-IFAOzttb",
        "colab_type": "code",
        "outputId": "cf6b75fc-ed27-47d2-c0ec-bb245d89a77d",
        "colab": {
          "base_uri": "https://localhost:8080/",
          "height": 54
        }
      },
      "source": [
        "W_QNM = w_lr/2\n",
        "W_0 , t_0 = sp.symbols(\"W_0 t_0\")\n",
        "\n",
        "k = (W_QNM**4 - W_0**4)/(1 - sp.tanh(gamma*(t_0 - t_p)))\n",
        "W = (W_0**4 + k*(sp.tanh(gamma*(t - t_p)) - sp.tanh(gamma*(t_0 - t_p))))**(1/4)\n",
        "\n",
        "kappa_p = W_0**4 + k * ( 1 + sp.tanh(gamma*(t_0 - t_p)))\n",
        "kappa_m = W_0**4 - k * ( 1 - sp.tanh(gamma*(t_0 - t_p)))\n",
        "\n",
        "arctan_p = kappa_p*(sp.atan(W/kappa_p) - sp.atan(W_0/kappa_p))/gamma\n",
        "arctan_m = kappa_m*(sp.atan(W/kappa_m) - sp.atan(W_0/kappa_m))/gamma\n",
        "arctan_hp = kappa_p*(sp.atanh(W/kappa_p) - sp.atanh(W_0/kappa_p))/gamma\n",
        "arctan_hm = kappa_m*(sp.atanh(W/kappa_m) - sp.atanh(W_0/kappa_m))/gamma\n",
        "\n",
        "Phi = arctan_p + arctan_hp - arctan_m - arctan_hm\n",
        "\n",
        "w_lm = 2*W\n",
        "\n",
        "print(Phi)"
      ],
      "execution_count": 0,
      "outputs": [
        {
          "output_type": "stream",
          "text": [
            "-2*sqrt(3)*(W_0**4 - (M**2/16 - W_0**4*(sqrt(M)*a + 8*sqrt(M**3*cos(acos(-a/M)/3)**6))**4)*(-tanh(sqrt(3)*sqrt((4*M - 4*M/(cos(2*acos(-a/M)/3) + 1) + a**2/(4*M*cos(acos(-a/M)/3)**4))/(sqrt(M)*a + 8*sqrt(M**3*cos(acos(-a/M)/3)**6))**2)*(-t + t_0)/2) + 1)/((sqrt(M)*a + 8*sqrt(M**3*cos(acos(-a/M)/3)**6))**4*(tanh(sqrt(3)*sqrt((32*M**2*cos(acos(-a/M)/3)**6 - 16*M**2*cos(acos(-a/M)/3)**4 + a**2*(cos(2*acos(-a/M)/3) + 1))/(M*(sqrt(M)*a + 8*sqrt(M**3*cos(acos(-a/M)/3)**6))**2*(cos(2*acos(-a/M)/3) + 1)*cos(acos(-a/M)/3)**4))*(t - t_0)/4) + 1)))*(-atan(W_0/(W_0**4 - (M**2/16 - W_0**4*(sqrt(M)*a + 8*sqrt(M**3*cos(acos(-a/M)/3)**6))**4)*(-tanh(sqrt(3)*sqrt((4*M - 4*M/(cos(2*acos(-a/M)/3) + 1) + a**2/(4*M*cos(acos(-a/M)/3)**4))/(sqrt(M)*a + 8*sqrt(M**3*cos(acos(-a/M)/3)**6))**2)*(-t + t_0)/2) + 1)/((sqrt(M)*a + 8*sqrt(M**3*cos(acos(-a/M)/3)**6))**4*(tanh(sqrt(3)*sqrt((32*M**2*cos(acos(-a/M)/3)**6 - 16*M**2*cos(acos(-a/M)/3)**4 + a**2*(cos(2*acos(-a/M)/3) + 1))/(M*(sqrt(M)*a + 8*sqrt(M**3*cos(acos(-a/M)/3)**6))**2*(cos(2*acos(-a/M)/3) + 1)*cos(acos(-a/M)/3)**4))*(t - t_0)/4) + 1)))) + atan(0.5*((16*W_0**4*(sqrt(M)*a + 8*sqrt(M**3*cos(acos(-a/M)/3)**6))**4*(tanh(sqrt(3)*sqrt((32*M**2*cos(acos(-a/M)/3)**6 - 16*M**2*cos(acos(-a/M)/3)**4 + a**2*(cos(2*acos(-a/M)/3) + 1))/(M*(sqrt(M)*a + 8*sqrt(M**3*cos(acos(-a/M)/3)**6))**2*(cos(2*acos(-a/M)/3) + 1)*cos(acos(-a/M)/3)**4))*(t - t_0)/4) + 1) + (M**2 - 16*W_0**4*(sqrt(M)*a + 8*sqrt(M**3*cos(acos(-a/M)/3)**6))**4)*(tanh(sqrt(3)*sqrt((32*M**2*cos(acos(-a/M)/3)**6 - 16*M**2*cos(acos(-a/M)/3)**4 + a**2*(cos(2*acos(-a/M)/3) + 1))/(M*(sqrt(M)*a + 8*sqrt(M**3*cos(acos(-a/M)/3)**6))**2*(cos(2*acos(-a/M)/3) + 1)*cos(acos(-a/M)/3)**4))*(t - t_0)/4) - tanh(sqrt(3)*sqrt((32*M**2*cos(acos(-a/M)/3)**6 - 16*M**2*cos(acos(-a/M)/3)**4 + a**2*(cos(2*acos(-a/M)/3) + 1))/(M*(sqrt(M)*a + 8*sqrt(M**3*cos(acos(-a/M)/3)**6))**2*(cos(2*acos(-a/M)/3) + 1)*cos(acos(-a/M)/3)**4))*(t - t_p)/4)))/((sqrt(M)*a + 8*sqrt(M**3*cos(acos(-a/M)/3)**6))**4*(tanh(sqrt(3)*sqrt((32*M**2*cos(acos(-a/M)/3)**6 - 16*M**2*cos(acos(-a/M)/3)**4 + a**2*(cos(2*acos(-a/M)/3) + 1))/(M*(sqrt(M)*a + 8*sqrt(M**3*cos(acos(-a/M)/3)**6))**2*(cos(2*acos(-a/M)/3) + 1)*cos(acos(-a/M)/3)**4))*(t - t_0)/4) + 1)))**0.25/(W_0**4 - (M**2/16 - W_0**4*(sqrt(M)*a + 8*sqrt(M**3*cos(acos(-a/M)/3)**6))**4)*(-tanh(sqrt(3)*sqrt((4*M - 4*M/(cos(2*acos(-a/M)/3) + 1) + a**2/(4*M*cos(acos(-a/M)/3)**4))/(sqrt(M)*a + 8*sqrt(M**3*cos(acos(-a/M)/3)**6))**2)*(-t + t_0)/2) + 1)/((sqrt(M)*a + 8*sqrt(M**3*cos(acos(-a/M)/3)**6))**4*(tanh(sqrt(3)*sqrt((32*M**2*cos(acos(-a/M)/3)**6 - 16*M**2*cos(acos(-a/M)/3)**4 + a**2*(cos(2*acos(-a/M)/3) + 1))/(M*(sqrt(M)*a + 8*sqrt(M**3*cos(acos(-a/M)/3)**6))**2*(cos(2*acos(-a/M)/3) + 1)*cos(acos(-a/M)/3)**4))*(t - t_0)/4) + 1)))))/(3*sqrt((4*M - 4*M/(cos(2*acos(-a/M)/3) + 1) + a**2/(4*M*cos(acos(-a/M)/3)**4))/(sqrt(M)*a + 8*sqrt(M**3*cos(acos(-a/M)/3)**6))**2)) - 2*sqrt(3)*(W_0**4 - (M**2/16 - W_0**4*(sqrt(M)*a + 8*sqrt(M**3*cos(acos(-a/M)/3)**6))**4)*(-tanh(sqrt(3)*sqrt((4*M - 4*M/(cos(2*acos(-a/M)/3) + 1) + a**2/(4*M*cos(acos(-a/M)/3)**4))/(sqrt(M)*a + 8*sqrt(M**3*cos(acos(-a/M)/3)**6))**2)*(-t + t_0)/2) + 1)/((sqrt(M)*a + 8*sqrt(M**3*cos(acos(-a/M)/3)**6))**4*(tanh(sqrt(3)*sqrt((32*M**2*cos(acos(-a/M)/3)**6 - 16*M**2*cos(acos(-a/M)/3)**4 + a**2*(cos(2*acos(-a/M)/3) + 1))/(M*(sqrt(M)*a + 8*sqrt(M**3*cos(acos(-a/M)/3)**6))**2*(cos(2*acos(-a/M)/3) + 1)*cos(acos(-a/M)/3)**4))*(t - t_0)/4) + 1)))*(-atanh(W_0/(W_0**4 - (M**2/16 - W_0**4*(sqrt(M)*a + 8*sqrt(M**3*cos(acos(-a/M)/3)**6))**4)*(-tanh(sqrt(3)*sqrt((4*M - 4*M/(cos(2*acos(-a/M)/3) + 1) + a**2/(4*M*cos(acos(-a/M)/3)**4))/(sqrt(M)*a + 8*sqrt(M**3*cos(acos(-a/M)/3)**6))**2)*(-t + t_0)/2) + 1)/((sqrt(M)*a + 8*sqrt(M**3*cos(acos(-a/M)/3)**6))**4*(tanh(sqrt(3)*sqrt((32*M**2*cos(acos(-a/M)/3)**6 - 16*M**2*cos(acos(-a/M)/3)**4 + a**2*(cos(2*acos(-a/M)/3) + 1))/(M*(sqrt(M)*a + 8*sqrt(M**3*cos(acos(-a/M)/3)**6))**2*(cos(2*acos(-a/M)/3) + 1)*cos(acos(-a/M)/3)**4))*(t - t_0)/4) + 1)))) + atanh(0.5*((16*W_0**4*(sqrt(M)*a + 8*sqrt(M**3*cos(acos(-a/M)/3)**6))**4*(tanh(sqrt(3)*sqrt((32*M**2*cos(acos(-a/M)/3)**6 - 16*M**2*cos(acos(-a/M)/3)**4 + a**2*(cos(2*acos(-a/M)/3) + 1))/(M*(sqrt(M)*a + 8*sqrt(M**3*cos(acos(-a/M)/3)**6))**2*(cos(2*acos(-a/M)/3) + 1)*cos(acos(-a/M)/3)**4))*(t - t_0)/4) + 1) + (M**2 - 16*W_0**4*(sqrt(M)*a + 8*sqrt(M**3*cos(acos(-a/M)/3)**6))**4)*(tanh(sqrt(3)*sqrt((32*M**2*cos(acos(-a/M)/3)**6 - 16*M**2*cos(acos(-a/M)/3)**4 + a**2*(cos(2*acos(-a/M)/3) + 1))/(M*(sqrt(M)*a + 8*sqrt(M**3*cos(acos(-a/M)/3)**6))**2*(cos(2*acos(-a/M)/3) + 1)*cos(acos(-a/M)/3)**4))*(t - t_0)/4) - tanh(sqrt(3)*sqrt((32*M**2*cos(acos(-a/M)/3)**6 - 16*M**2*cos(acos(-a/M)/3)**4 + a**2*(cos(2*acos(-a/M)/3) + 1))/(M*(sqrt(M)*a + 8*sqrt(M**3*cos(acos(-a/M)/3)**6))**2*(cos(2*acos(-a/M)/3) + 1)*cos(acos(-a/M)/3)**4))*(t - t_p)/4)))/((sqrt(M)*a + 8*sqrt(M**3*cos(acos(-a/M)/3)**6))**4*(tanh(sqrt(3)*sqrt((32*M**2*cos(acos(-a/M)/3)**6 - 16*M**2*cos(acos(-a/M)/3)**4 + a**2*(cos(2*acos(-a/M)/3) + 1))/(M*(sqrt(M)*a + 8*sqrt(M**3*cos(acos(-a/M)/3)**6))**2*(cos(2*acos(-a/M)/3) + 1)*cos(acos(-a/M)/3)**4))*(t - t_0)/4) + 1)))**0.25/(W_0**4 - (M**2/16 - W_0**4*(sqrt(M)*a + 8*sqrt(M**3*cos(acos(-a/M)/3)**6))**4)*(-tanh(sqrt(3)*sqrt((4*M - 4*M/(cos(2*acos(-a/M)/3) + 1) + a**2/(4*M*cos(acos(-a/M)/3)**4))/(sqrt(M)*a + 8*sqrt(M**3*cos(acos(-a/M)/3)**6))**2)*(-t + t_0)/2) + 1)/((sqrt(M)*a + 8*sqrt(M**3*cos(acos(-a/M)/3)**6))**4*(tanh(sqrt(3)*sqrt((32*M**2*cos(acos(-a/M)/3)**6 - 16*M**2*cos(acos(-a/M)/3)**4 + a**2*(cos(2*acos(-a/M)/3) + 1))/(M*(sqrt(M)*a + 8*sqrt(M**3*cos(acos(-a/M)/3)**6))**2*(cos(2*acos(-a/M)/3) + 1)*cos(acos(-a/M)/3)**4))*(t - t_0)/4) + 1)))))/(3*sqrt((4*M - 4*M/(cos(2*acos(-a/M)/3) + 1) + a**2/(4*M*cos(acos(-a/M)/3)**4))/(sqrt(M)*a + 8*sqrt(M**3*cos(acos(-a/M)/3)**6))**2)) + 2*sqrt(3)*(W_0**4 + (M**2/16 - W_0**4*(sqrt(M)*a + 8*sqrt(M**3*cos(acos(-a/M)/3)**6))**4)*(tanh(sqrt(3)*sqrt((4*M - 4*M/(cos(2*acos(-a/M)/3) + 1) + a**2/(4*M*cos(acos(-a/M)/3)**4))/(sqrt(M)*a + 8*sqrt(M**3*cos(acos(-a/M)/3)**6))**2)*(-t + t_0)/2) + 1)/((sqrt(M)*a + 8*sqrt(M**3*cos(acos(-a/M)/3)**6))**4*(tanh(sqrt(3)*sqrt((32*M**2*cos(acos(-a/M)/3)**6 - 16*M**2*cos(acos(-a/M)/3)**4 + a**2*(cos(2*acos(-a/M)/3) + 1))/(M*(sqrt(M)*a + 8*sqrt(M**3*cos(acos(-a/M)/3)**6))**2*(cos(2*acos(-a/M)/3) + 1)*cos(acos(-a/M)/3)**4))*(t - t_0)/4) + 1)))*(-atan(W_0/(W_0**4 + (M**2/16 - W_0**4*(sqrt(M)*a + 8*sqrt(M**3*cos(acos(-a/M)/3)**6))**4)*(tanh(sqrt(3)*sqrt((4*M - 4*M/(cos(2*acos(-a/M)/3) + 1) + a**2/(4*M*cos(acos(-a/M)/3)**4))/(sqrt(M)*a + 8*sqrt(M**3*cos(acos(-a/M)/3)**6))**2)*(-t + t_0)/2) + 1)/((sqrt(M)*a + 8*sqrt(M**3*cos(acos(-a/M)/3)**6))**4*(tanh(sqrt(3)*sqrt((32*M**2*cos(acos(-a/M)/3)**6 - 16*M**2*cos(acos(-a/M)/3)**4 + a**2*(cos(2*acos(-a/M)/3) + 1))/(M*(sqrt(M)*a + 8*sqrt(M**3*cos(acos(-a/M)/3)**6))**2*(cos(2*acos(-a/M)/3) + 1)*cos(acos(-a/M)/3)**4))*(t - t_0)/4) + 1)))) + atan(0.5*((16*W_0**4*(sqrt(M)*a + 8*sqrt(M**3*cos(acos(-a/M)/3)**6))**4*(tanh(sqrt(3)*sqrt((32*M**2*cos(acos(-a/M)/3)**6 - 16*M**2*cos(acos(-a/M)/3)**4 + a**2*(cos(2*acos(-a/M)/3) + 1))/(M*(sqrt(M)*a + 8*sqrt(M**3*cos(acos(-a/M)/3)**6))**2*(cos(2*acos(-a/M)/3) + 1)*cos(acos(-a/M)/3)**4))*(t - t_0)/4) + 1) + (M**2 - 16*W_0**4*(sqrt(M)*a + 8*sqrt(M**3*cos(acos(-a/M)/3)**6))**4)*(tanh(sqrt(3)*sqrt((32*M**2*cos(acos(-a/M)/3)**6 - 16*M**2*cos(acos(-a/M)/3)**4 + a**2*(cos(2*acos(-a/M)/3) + 1))/(M*(sqrt(M)*a + 8*sqrt(M**3*cos(acos(-a/M)/3)**6))**2*(cos(2*acos(-a/M)/3) + 1)*cos(acos(-a/M)/3)**4))*(t - t_0)/4) - tanh(sqrt(3)*sqrt((32*M**2*cos(acos(-a/M)/3)**6 - 16*M**2*cos(acos(-a/M)/3)**4 + a**2*(cos(2*acos(-a/M)/3) + 1))/(M*(sqrt(M)*a + 8*sqrt(M**3*cos(acos(-a/M)/3)**6))**2*(cos(2*acos(-a/M)/3) + 1)*cos(acos(-a/M)/3)**4))*(t - t_p)/4)))/((sqrt(M)*a + 8*sqrt(M**3*cos(acos(-a/M)/3)**6))**4*(tanh(sqrt(3)*sqrt((32*M**2*cos(acos(-a/M)/3)**6 - 16*M**2*cos(acos(-a/M)/3)**4 + a**2*(cos(2*acos(-a/M)/3) + 1))/(M*(sqrt(M)*a + 8*sqrt(M**3*cos(acos(-a/M)/3)**6))**2*(cos(2*acos(-a/M)/3) + 1)*cos(acos(-a/M)/3)**4))*(t - t_0)/4) + 1)))**0.25/(W_0**4 + (M**2/16 - W_0**4*(sqrt(M)*a + 8*sqrt(M**3*cos(acos(-a/M)/3)**6))**4)*(tanh(sqrt(3)*sqrt((4*M - 4*M/(cos(2*acos(-a/M)/3) + 1) + a**2/(4*M*cos(acos(-a/M)/3)**4))/(sqrt(M)*a + 8*sqrt(M**3*cos(acos(-a/M)/3)**6))**2)*(-t + t_0)/2) + 1)/((sqrt(M)*a + 8*sqrt(M**3*cos(acos(-a/M)/3)**6))**4*(tanh(sqrt(3)*sqrt((32*M**2*cos(acos(-a/M)/3)**6 - 16*M**2*cos(acos(-a/M)/3)**4 + a**2*(cos(2*acos(-a/M)/3) + 1))/(M*(sqrt(M)*a + 8*sqrt(M**3*cos(acos(-a/M)/3)**6))**2*(cos(2*acos(-a/M)/3) + 1)*cos(acos(-a/M)/3)**4))*(t - t_0)/4) + 1)))))/(3*sqrt((4*M - 4*M/(cos(2*acos(-a/M)/3) + 1) + a**2/(4*M*cos(acos(-a/M)/3)**4))/(sqrt(M)*a + 8*sqrt(M**3*cos(acos(-a/M)/3)**6))**2)) + 2*sqrt(3)*(W_0**4 + (M**2/16 - W_0**4*(sqrt(M)*a + 8*sqrt(M**3*cos(acos(-a/M)/3)**6))**4)*(tanh(sqrt(3)*sqrt((4*M - 4*M/(cos(2*acos(-a/M)/3) + 1) + a**2/(4*M*cos(acos(-a/M)/3)**4))/(sqrt(M)*a + 8*sqrt(M**3*cos(acos(-a/M)/3)**6))**2)*(-t + t_0)/2) + 1)/((sqrt(M)*a + 8*sqrt(M**3*cos(acos(-a/M)/3)**6))**4*(tanh(sqrt(3)*sqrt((32*M**2*cos(acos(-a/M)/3)**6 - 16*M**2*cos(acos(-a/M)/3)**4 + a**2*(cos(2*acos(-a/M)/3) + 1))/(M*(sqrt(M)*a + 8*sqrt(M**3*cos(acos(-a/M)/3)**6))**2*(cos(2*acos(-a/M)/3) + 1)*cos(acos(-a/M)/3)**4))*(t - t_0)/4) + 1)))*(-atanh(W_0/(W_0**4 + (M**2/16 - W_0**4*(sqrt(M)*a + 8*sqrt(M**3*cos(acos(-a/M)/3)**6))**4)*(tanh(sqrt(3)*sqrt((4*M - 4*M/(cos(2*acos(-a/M)/3) + 1) + a**2/(4*M*cos(acos(-a/M)/3)**4))/(sqrt(M)*a + 8*sqrt(M**3*cos(acos(-a/M)/3)**6))**2)*(-t + t_0)/2) + 1)/((sqrt(M)*a + 8*sqrt(M**3*cos(acos(-a/M)/3)**6))**4*(tanh(sqrt(3)*sqrt((32*M**2*cos(acos(-a/M)/3)**6 - 16*M**2*cos(acos(-a/M)/3)**4 + a**2*(cos(2*acos(-a/M)/3) + 1))/(M*(sqrt(M)*a + 8*sqrt(M**3*cos(acos(-a/M)/3)**6))**2*(cos(2*acos(-a/M)/3) + 1)*cos(acos(-a/M)/3)**4))*(t - t_0)/4) + 1)))) + atanh(0.5*((16*W_0**4*(sqrt(M)*a + 8*sqrt(M**3*cos(acos(-a/M)/3)**6))**4*(tanh(sqrt(3)*sqrt((32*M**2*cos(acos(-a/M)/3)**6 - 16*M**2*cos(acos(-a/M)/3)**4 + a**2*(cos(2*acos(-a/M)/3) + 1))/(M*(sqrt(M)*a + 8*sqrt(M**3*cos(acos(-a/M)/3)**6))**2*(cos(2*acos(-a/M)/3) + 1)*cos(acos(-a/M)/3)**4))*(t - t_0)/4) + 1) + (M**2 - 16*W_0**4*(sqrt(M)*a + 8*sqrt(M**3*cos(acos(-a/M)/3)**6))**4)*(tanh(sqrt(3)*sqrt((32*M**2*cos(acos(-a/M)/3)**6 - 16*M**2*cos(acos(-a/M)/3)**4 + a**2*(cos(2*acos(-a/M)/3) + 1))/(M*(sqrt(M)*a + 8*sqrt(M**3*cos(acos(-a/M)/3)**6))**2*(cos(2*acos(-a/M)/3) + 1)*cos(acos(-a/M)/3)**4))*(t - t_0)/4) - tanh(sqrt(3)*sqrt((32*M**2*cos(acos(-a/M)/3)**6 - 16*M**2*cos(acos(-a/M)/3)**4 + a**2*(cos(2*acos(-a/M)/3) + 1))/(M*(sqrt(M)*a + 8*sqrt(M**3*cos(acos(-a/M)/3)**6))**2*(cos(2*acos(-a/M)/3) + 1)*cos(acos(-a/M)/3)**4))*(t - t_p)/4)))/((sqrt(M)*a + 8*sqrt(M**3*cos(acos(-a/M)/3)**6))**4*(tanh(sqrt(3)*sqrt((32*M**2*cos(acos(-a/M)/3)**6 - 16*M**2*cos(acos(-a/M)/3)**4 + a**2*(cos(2*acos(-a/M)/3) + 1))/(M*(sqrt(M)*a + 8*sqrt(M**3*cos(acos(-a/M)/3)**6))**2*(cos(2*acos(-a/M)/3) + 1)*cos(acos(-a/M)/3)**4))*(t - t_0)/4) + 1)))**0.25/(W_0**4 + (M**2/16 - W_0**4*(sqrt(M)*a + 8*sqrt(M**3*cos(acos(-a/M)/3)**6))**4)*(tanh(sqrt(3)*sqrt((4*M - 4*M/(cos(2*acos(-a/M)/3) + 1) + a**2/(4*M*cos(acos(-a/M)/3)**4))/(sqrt(M)*a + 8*sqrt(M**3*cos(acos(-a/M)/3)**6))**2)*(-t + t_0)/2) + 1)/((sqrt(M)*a + 8*sqrt(M**3*cos(acos(-a/M)/3)**6))**4*(tanh(sqrt(3)*sqrt((32*M**2*cos(acos(-a/M)/3)**6 - 16*M**2*cos(acos(-a/M)/3)**4 + a**2*(cos(2*acos(-a/M)/3) + 1))/(M*(sqrt(M)*a + 8*sqrt(M**3*cos(acos(-a/M)/3)**6))**2*(cos(2*acos(-a/M)/3) + 1)*cos(acos(-a/M)/3)**4))*(t - t_0)/4) + 1)))))/(3*sqrt((4*M - 4*M/(cos(2*acos(-a/M)/3) + 1) + a**2/(4*M*cos(acos(-a/M)/3)**4))/(sqrt(M)*a + 8*sqrt(M**3*cos(acos(-a/M)/3)**6))**2))\n"
          ],
          "name": "stdout"
        }
      ]
    },
    {
      "cell_type": "markdown",
      "metadata": {
        "id": "90F_k9q9zeRS",
        "colab_type": "text"
      },
      "source": [
        "### The Waveform\n",
        "\n",
        "The waveform can be characterised by the complex sum that encodes the strain of the gravitational waves observed in both polarisations.\n",
        "\n",
        "$$\n",
        "h = h_+ + ih_\\times\n",
        "$$\n",
        "\n",
        "This complex strain is then subject to a spin weighted spherical harmonic decomposition:\n",
        "\n",
        "$$\n",
        "h = \\sum\\limits_{l=2}^{\\infty}\\sum\\limits_{m = -l}^{l} h_{lm}(t,R) _{-2}Y^m_l(\\theta,\\phi) \n",
        "$$\n",
        "\n",
        "Where , $(R,\\theta,\\phi)$ represent the radius and polar angles at which the strain is extracted.\n",
        "\n",
        "Each harmonic mode $h_{lm}$ is a propagating wave of the form:\n",
        "\n",
        "$$\n",
        "h_{lm} = |h_{lm}|e^{i\\mathbf{m\\Phi_{lm}}}\n",
        "$$\n"
      ]
    },
    {
      "cell_type": "code",
      "metadata": {
        "id": "LaAlmJ9ZcSj4",
        "colab_type": "code",
        "outputId": "cf6585d9-9142-463b-dcab-21a9cabe8353",
        "colab": {
          "base_uri": "https://localhost:8080/",
          "height": 54
        }
      },
      "source": [
        "modh_lm = psi4/(w_lm**2)\n",
        "\n",
        "h_lm = modh_lm*sp.exp((1J)*2*Phi)\n",
        "print(h_lm)"
      ],
      "execution_count": 0,
      "outputs": [
        {
          "output_type": "stream",
          "text": [
            "1.0*A_p*((16*W_0**4*(sqrt(M)*a + 8*sqrt(M**3*cos(acos(-a/M)/3)**6))**4*(tanh(sqrt(3)*sqrt((32*M**2*cos(acos(-a/M)/3)**6 - 16*M**2*cos(acos(-a/M)/3)**4 + a**2*(cos(2*acos(-a/M)/3) + 1))/(M*(sqrt(M)*a + 8*sqrt(M**3*cos(acos(-a/M)/3)**6))**2*(cos(2*acos(-a/M)/3) + 1)*cos(acos(-a/M)/3)**4))*(t - t_0)/4) + 1) + (M**2 - 16*W_0**4*(sqrt(M)*a + 8*sqrt(M**3*cos(acos(-a/M)/3)**6))**4)*(tanh(sqrt(3)*sqrt((32*M**2*cos(acos(-a/M)/3)**6 - 16*M**2*cos(acos(-a/M)/3)**4 + a**2*(cos(2*acos(-a/M)/3) + 1))/(M*(sqrt(M)*a + 8*sqrt(M**3*cos(acos(-a/M)/3)**6))**2*(cos(2*acos(-a/M)/3) + 1)*cos(acos(-a/M)/3)**4))*(t - t_0)/4) - tanh(sqrt(3)*sqrt((32*M**2*cos(acos(-a/M)/3)**6 - 16*M**2*cos(acos(-a/M)/3)**4 + a**2*(cos(2*acos(-a/M)/3) + 1))/(M*(sqrt(M)*a + 8*sqrt(M**3*cos(acos(-a/M)/3)**6))**2*(cos(2*acos(-a/M)/3) + 1)*cos(acos(-a/M)/3)**4))*(t - t_p)/4)))/((sqrt(M)*a + 8*sqrt(M**3*cos(acos(-a/M)/3)**6))**4*(tanh(sqrt(3)*sqrt((32*M**2*cos(acos(-a/M)/3)**6 - 16*M**2*cos(acos(-a/M)/3)**4 + a**2*(cos(2*acos(-a/M)/3) + 1))/(M*(sqrt(M)*a + 8*sqrt(M**3*cos(acos(-a/M)/3)**6))**2*(cos(2*acos(-a/M)/3) + 1)*cos(acos(-a/M)/3)**4))*(t - t_0)/4) + 1)))**(-0.5)*exp(2.0*I*(-2*sqrt(3)*(W_0**4 - (M**2/16 - W_0**4*(sqrt(M)*a + 8*sqrt(M**3*cos(acos(-a/M)/3)**6))**4)*(-tanh(sqrt(3)*sqrt((4*M - 4*M/(cos(2*acos(-a/M)/3) + 1) + a**2/(4*M*cos(acos(-a/M)/3)**4))/(sqrt(M)*a + 8*sqrt(M**3*cos(acos(-a/M)/3)**6))**2)*(-t + t_0)/2) + 1)/((sqrt(M)*a + 8*sqrt(M**3*cos(acos(-a/M)/3)**6))**4*(tanh(sqrt(3)*sqrt((32*M**2*cos(acos(-a/M)/3)**6 - 16*M**2*cos(acos(-a/M)/3)**4 + a**2*(cos(2*acos(-a/M)/3) + 1))/(M*(sqrt(M)*a + 8*sqrt(M**3*cos(acos(-a/M)/3)**6))**2*(cos(2*acos(-a/M)/3) + 1)*cos(acos(-a/M)/3)**4))*(t - t_0)/4) + 1)))*(-atan(W_0/(W_0**4 - (M**2/16 - W_0**4*(sqrt(M)*a + 8*sqrt(M**3*cos(acos(-a/M)/3)**6))**4)*(-tanh(sqrt(3)*sqrt((4*M - 4*M/(cos(2*acos(-a/M)/3) + 1) + a**2/(4*M*cos(acos(-a/M)/3)**4))/(sqrt(M)*a + 8*sqrt(M**3*cos(acos(-a/M)/3)**6))**2)*(-t + t_0)/2) + 1)/((sqrt(M)*a + 8*sqrt(M**3*cos(acos(-a/M)/3)**6))**4*(tanh(sqrt(3)*sqrt((32*M**2*cos(acos(-a/M)/3)**6 - 16*M**2*cos(acos(-a/M)/3)**4 + a**2*(cos(2*acos(-a/M)/3) + 1))/(M*(sqrt(M)*a + 8*sqrt(M**3*cos(acos(-a/M)/3)**6))**2*(cos(2*acos(-a/M)/3) + 1)*cos(acos(-a/M)/3)**4))*(t - t_0)/4) + 1)))) + atan(0.5*((16*W_0**4*(sqrt(M)*a + 8*sqrt(M**3*cos(acos(-a/M)/3)**6))**4*(tanh(sqrt(3)*sqrt((32*M**2*cos(acos(-a/M)/3)**6 - 16*M**2*cos(acos(-a/M)/3)**4 + a**2*(cos(2*acos(-a/M)/3) + 1))/(M*(sqrt(M)*a + 8*sqrt(M**3*cos(acos(-a/M)/3)**6))**2*(cos(2*acos(-a/M)/3) + 1)*cos(acos(-a/M)/3)**4))*(t - t_0)/4) + 1) + (M**2 - 16*W_0**4*(sqrt(M)*a + 8*sqrt(M**3*cos(acos(-a/M)/3)**6))**4)*(tanh(sqrt(3)*sqrt((32*M**2*cos(acos(-a/M)/3)**6 - 16*M**2*cos(acos(-a/M)/3)**4 + a**2*(cos(2*acos(-a/M)/3) + 1))/(M*(sqrt(M)*a + 8*sqrt(M**3*cos(acos(-a/M)/3)**6))**2*(cos(2*acos(-a/M)/3) + 1)*cos(acos(-a/M)/3)**4))*(t - t_0)/4) - tanh(sqrt(3)*sqrt((32*M**2*cos(acos(-a/M)/3)**6 - 16*M**2*cos(acos(-a/M)/3)**4 + a**2*(cos(2*acos(-a/M)/3) + 1))/(M*(sqrt(M)*a + 8*sqrt(M**3*cos(acos(-a/M)/3)**6))**2*(cos(2*acos(-a/M)/3) + 1)*cos(acos(-a/M)/3)**4))*(t - t_p)/4)))/((sqrt(M)*a + 8*sqrt(M**3*cos(acos(-a/M)/3)**6))**4*(tanh(sqrt(3)*sqrt((32*M**2*cos(acos(-a/M)/3)**6 - 16*M**2*cos(acos(-a/M)/3)**4 + a**2*(cos(2*acos(-a/M)/3) + 1))/(M*(sqrt(M)*a + 8*sqrt(M**3*cos(acos(-a/M)/3)**6))**2*(cos(2*acos(-a/M)/3) + 1)*cos(acos(-a/M)/3)**4))*(t - t_0)/4) + 1)))**0.25/(W_0**4 - (M**2/16 - W_0**4*(sqrt(M)*a + 8*sqrt(M**3*cos(acos(-a/M)/3)**6))**4)*(-tanh(sqrt(3)*sqrt((4*M - 4*M/(cos(2*acos(-a/M)/3) + 1) + a**2/(4*M*cos(acos(-a/M)/3)**4))/(sqrt(M)*a + 8*sqrt(M**3*cos(acos(-a/M)/3)**6))**2)*(-t + t_0)/2) + 1)/((sqrt(M)*a + 8*sqrt(M**3*cos(acos(-a/M)/3)**6))**4*(tanh(sqrt(3)*sqrt((32*M**2*cos(acos(-a/M)/3)**6 - 16*M**2*cos(acos(-a/M)/3)**4 + a**2*(cos(2*acos(-a/M)/3) + 1))/(M*(sqrt(M)*a + 8*sqrt(M**3*cos(acos(-a/M)/3)**6))**2*(cos(2*acos(-a/M)/3) + 1)*cos(acos(-a/M)/3)**4))*(t - t_0)/4) + 1)))))/(3*sqrt((4*M - 4*M/(cos(2*acos(-a/M)/3) + 1) + a**2/(4*M*cos(acos(-a/M)/3)**4))/(sqrt(M)*a + 8*sqrt(M**3*cos(acos(-a/M)/3)**6))**2)) - 2*sqrt(3)*(W_0**4 - (M**2/16 - W_0**4*(sqrt(M)*a + 8*sqrt(M**3*cos(acos(-a/M)/3)**6))**4)*(-tanh(sqrt(3)*sqrt((4*M - 4*M/(cos(2*acos(-a/M)/3) + 1) + a**2/(4*M*cos(acos(-a/M)/3)**4))/(sqrt(M)*a + 8*sqrt(M**3*cos(acos(-a/M)/3)**6))**2)*(-t + t_0)/2) + 1)/((sqrt(M)*a + 8*sqrt(M**3*cos(acos(-a/M)/3)**6))**4*(tanh(sqrt(3)*sqrt((32*M**2*cos(acos(-a/M)/3)**6 - 16*M**2*cos(acos(-a/M)/3)**4 + a**2*(cos(2*acos(-a/M)/3) + 1))/(M*(sqrt(M)*a + 8*sqrt(M**3*cos(acos(-a/M)/3)**6))**2*(cos(2*acos(-a/M)/3) + 1)*cos(acos(-a/M)/3)**4))*(t - t_0)/4) + 1)))*(-atanh(W_0/(W_0**4 - (M**2/16 - W_0**4*(sqrt(M)*a + 8*sqrt(M**3*cos(acos(-a/M)/3)**6))**4)*(-tanh(sqrt(3)*sqrt((4*M - 4*M/(cos(2*acos(-a/M)/3) + 1) + a**2/(4*M*cos(acos(-a/M)/3)**4))/(sqrt(M)*a + 8*sqrt(M**3*cos(acos(-a/M)/3)**6))**2)*(-t + t_0)/2) + 1)/((sqrt(M)*a + 8*sqrt(M**3*cos(acos(-a/M)/3)**6))**4*(tanh(sqrt(3)*sqrt((32*M**2*cos(acos(-a/M)/3)**6 - 16*M**2*cos(acos(-a/M)/3)**4 + a**2*(cos(2*acos(-a/M)/3) + 1))/(M*(sqrt(M)*a + 8*sqrt(M**3*cos(acos(-a/M)/3)**6))**2*(cos(2*acos(-a/M)/3) + 1)*cos(acos(-a/M)/3)**4))*(t - t_0)/4) + 1)))) + atanh(0.5*((16*W_0**4*(sqrt(M)*a + 8*sqrt(M**3*cos(acos(-a/M)/3)**6))**4*(tanh(sqrt(3)*sqrt((32*M**2*cos(acos(-a/M)/3)**6 - 16*M**2*cos(acos(-a/M)/3)**4 + a**2*(cos(2*acos(-a/M)/3) + 1))/(M*(sqrt(M)*a + 8*sqrt(M**3*cos(acos(-a/M)/3)**6))**2*(cos(2*acos(-a/M)/3) + 1)*cos(acos(-a/M)/3)**4))*(t - t_0)/4) + 1) + (M**2 - 16*W_0**4*(sqrt(M)*a + 8*sqrt(M**3*cos(acos(-a/M)/3)**6))**4)*(tanh(sqrt(3)*sqrt((32*M**2*cos(acos(-a/M)/3)**6 - 16*M**2*cos(acos(-a/M)/3)**4 + a**2*(cos(2*acos(-a/M)/3) + 1))/(M*(sqrt(M)*a + 8*sqrt(M**3*cos(acos(-a/M)/3)**6))**2*(cos(2*acos(-a/M)/3) + 1)*cos(acos(-a/M)/3)**4))*(t - t_0)/4) - tanh(sqrt(3)*sqrt((32*M**2*cos(acos(-a/M)/3)**6 - 16*M**2*cos(acos(-a/M)/3)**4 + a**2*(cos(2*acos(-a/M)/3) + 1))/(M*(sqrt(M)*a + 8*sqrt(M**3*cos(acos(-a/M)/3)**6))**2*(cos(2*acos(-a/M)/3) + 1)*cos(acos(-a/M)/3)**4))*(t - t_p)/4)))/((sqrt(M)*a + 8*sqrt(M**3*cos(acos(-a/M)/3)**6))**4*(tanh(sqrt(3)*sqrt((32*M**2*cos(acos(-a/M)/3)**6 - 16*M**2*cos(acos(-a/M)/3)**4 + a**2*(cos(2*acos(-a/M)/3) + 1))/(M*(sqrt(M)*a + 8*sqrt(M**3*cos(acos(-a/M)/3)**6))**2*(cos(2*acos(-a/M)/3) + 1)*cos(acos(-a/M)/3)**4))*(t - t_0)/4) + 1)))**0.25/(W_0**4 - (M**2/16 - W_0**4*(sqrt(M)*a + 8*sqrt(M**3*cos(acos(-a/M)/3)**6))**4)*(-tanh(sqrt(3)*sqrt((4*M - 4*M/(cos(2*acos(-a/M)/3) + 1) + a**2/(4*M*cos(acos(-a/M)/3)**4))/(sqrt(M)*a + 8*sqrt(M**3*cos(acos(-a/M)/3)**6))**2)*(-t + t_0)/2) + 1)/((sqrt(M)*a + 8*sqrt(M**3*cos(acos(-a/M)/3)**6))**4*(tanh(sqrt(3)*sqrt((32*M**2*cos(acos(-a/M)/3)**6 - 16*M**2*cos(acos(-a/M)/3)**4 + a**2*(cos(2*acos(-a/M)/3) + 1))/(M*(sqrt(M)*a + 8*sqrt(M**3*cos(acos(-a/M)/3)**6))**2*(cos(2*acos(-a/M)/3) + 1)*cos(acos(-a/M)/3)**4))*(t - t_0)/4) + 1)))))/(3*sqrt((4*M - 4*M/(cos(2*acos(-a/M)/3) + 1) + a**2/(4*M*cos(acos(-a/M)/3)**4))/(sqrt(M)*a + 8*sqrt(M**3*cos(acos(-a/M)/3)**6))**2)) + 2*sqrt(3)*(W_0**4 + (M**2/16 - W_0**4*(sqrt(M)*a + 8*sqrt(M**3*cos(acos(-a/M)/3)**6))**4)*(tanh(sqrt(3)*sqrt((4*M - 4*M/(cos(2*acos(-a/M)/3) + 1) + a**2/(4*M*cos(acos(-a/M)/3)**4))/(sqrt(M)*a + 8*sqrt(M**3*cos(acos(-a/M)/3)**6))**2)*(-t + t_0)/2) + 1)/((sqrt(M)*a + 8*sqrt(M**3*cos(acos(-a/M)/3)**6))**4*(tanh(sqrt(3)*sqrt((32*M**2*cos(acos(-a/M)/3)**6 - 16*M**2*cos(acos(-a/M)/3)**4 + a**2*(cos(2*acos(-a/M)/3) + 1))/(M*(sqrt(M)*a + 8*sqrt(M**3*cos(acos(-a/M)/3)**6))**2*(cos(2*acos(-a/M)/3) + 1)*cos(acos(-a/M)/3)**4))*(t - t_0)/4) + 1)))*(-atan(W_0/(W_0**4 + (M**2/16 - W_0**4*(sqrt(M)*a + 8*sqrt(M**3*cos(acos(-a/M)/3)**6))**4)*(tanh(sqrt(3)*sqrt((4*M - 4*M/(cos(2*acos(-a/M)/3) + 1) + a**2/(4*M*cos(acos(-a/M)/3)**4))/(sqrt(M)*a + 8*sqrt(M**3*cos(acos(-a/M)/3)**6))**2)*(-t + t_0)/2) + 1)/((sqrt(M)*a + 8*sqrt(M**3*cos(acos(-a/M)/3)**6))**4*(tanh(sqrt(3)*sqrt((32*M**2*cos(acos(-a/M)/3)**6 - 16*M**2*cos(acos(-a/M)/3)**4 + a**2*(cos(2*acos(-a/M)/3) + 1))/(M*(sqrt(M)*a + 8*sqrt(M**3*cos(acos(-a/M)/3)**6))**2*(cos(2*acos(-a/M)/3) + 1)*cos(acos(-a/M)/3)**4))*(t - t_0)/4) + 1)))) + atan(0.5*((16*W_0**4*(sqrt(M)*a + 8*sqrt(M**3*cos(acos(-a/M)/3)**6))**4*(tanh(sqrt(3)*sqrt((32*M**2*cos(acos(-a/M)/3)**6 - 16*M**2*cos(acos(-a/M)/3)**4 + a**2*(cos(2*acos(-a/M)/3) + 1))/(M*(sqrt(M)*a + 8*sqrt(M**3*cos(acos(-a/M)/3)**6))**2*(cos(2*acos(-a/M)/3) + 1)*cos(acos(-a/M)/3)**4))*(t - t_0)/4) + 1) + (M**2 - 16*W_0**4*(sqrt(M)*a + 8*sqrt(M**3*cos(acos(-a/M)/3)**6))**4)*(tanh(sqrt(3)*sqrt((32*M**2*cos(acos(-a/M)/3)**6 - 16*M**2*cos(acos(-a/M)/3)**4 + a**2*(cos(2*acos(-a/M)/3) + 1))/(M*(sqrt(M)*a + 8*sqrt(M**3*cos(acos(-a/M)/3)**6))**2*(cos(2*acos(-a/M)/3) + 1)*cos(acos(-a/M)/3)**4))*(t - t_0)/4) - tanh(sqrt(3)*sqrt((32*M**2*cos(acos(-a/M)/3)**6 - 16*M**2*cos(acos(-a/M)/3)**4 + a**2*(cos(2*acos(-a/M)/3) + 1))/(M*(sqrt(M)*a + 8*sqrt(M**3*cos(acos(-a/M)/3)**6))**2*(cos(2*acos(-a/M)/3) + 1)*cos(acos(-a/M)/3)**4))*(t - t_p)/4)))/((sqrt(M)*a + 8*sqrt(M**3*cos(acos(-a/M)/3)**6))**4*(tanh(sqrt(3)*sqrt((32*M**2*cos(acos(-a/M)/3)**6 - 16*M**2*cos(acos(-a/M)/3)**4 + a**2*(cos(2*acos(-a/M)/3) + 1))/(M*(sqrt(M)*a + 8*sqrt(M**3*cos(acos(-a/M)/3)**6))**2*(cos(2*acos(-a/M)/3) + 1)*cos(acos(-a/M)/3)**4))*(t - t_0)/4) + 1)))**0.25/(W_0**4 + (M**2/16 - W_0**4*(sqrt(M)*a + 8*sqrt(M**3*cos(acos(-a/M)/3)**6))**4)*(tanh(sqrt(3)*sqrt((4*M - 4*M/(cos(2*acos(-a/M)/3) + 1) + a**2/(4*M*cos(acos(-a/M)/3)**4))/(sqrt(M)*a + 8*sqrt(M**3*cos(acos(-a/M)/3)**6))**2)*(-t + t_0)/2) + 1)/((sqrt(M)*a + 8*sqrt(M**3*cos(acos(-a/M)/3)**6))**4*(tanh(sqrt(3)*sqrt((32*M**2*cos(acos(-a/M)/3)**6 - 16*M**2*cos(acos(-a/M)/3)**4 + a**2*(cos(2*acos(-a/M)/3) + 1))/(M*(sqrt(M)*a + 8*sqrt(M**3*cos(acos(-a/M)/3)**6))**2*(cos(2*acos(-a/M)/3) + 1)*cos(acos(-a/M)/3)**4))*(t - t_0)/4) + 1)))))/(3*sqrt((4*M - 4*M/(cos(2*acos(-a/M)/3) + 1) + a**2/(4*M*cos(acos(-a/M)/3)**4))/(sqrt(M)*a + 8*sqrt(M**3*cos(acos(-a/M)/3)**6))**2)) + 2*sqrt(3)*(W_0**4 + (M**2/16 - W_0**4*(sqrt(M)*a + 8*sqrt(M**3*cos(acos(-a/M)/3)**6))**4)*(tanh(sqrt(3)*sqrt((4*M - 4*M/(cos(2*acos(-a/M)/3) + 1) + a**2/(4*M*cos(acos(-a/M)/3)**4))/(sqrt(M)*a + 8*sqrt(M**3*cos(acos(-a/M)/3)**6))**2)*(-t + t_0)/2) + 1)/((sqrt(M)*a + 8*sqrt(M**3*cos(acos(-a/M)/3)**6))**4*(tanh(sqrt(3)*sqrt((32*M**2*cos(acos(-a/M)/3)**6 - 16*M**2*cos(acos(-a/M)/3)**4 + a**2*(cos(2*acos(-a/M)/3) + 1))/(M*(sqrt(M)*a + 8*sqrt(M**3*cos(acos(-a/M)/3)**6))**2*(cos(2*acos(-a/M)/3) + 1)*cos(acos(-a/M)/3)**4))*(t - t_0)/4) + 1)))*(-atanh(W_0/(W_0**4 + (M**2/16 - W_0**4*(sqrt(M)*a + 8*sqrt(M**3*cos(acos(-a/M)/3)**6))**4)*(tanh(sqrt(3)*sqrt((4*M - 4*M/(cos(2*acos(-a/M)/3) + 1) + a**2/(4*M*cos(acos(-a/M)/3)**4))/(sqrt(M)*a + 8*sqrt(M**3*cos(acos(-a/M)/3)**6))**2)*(-t + t_0)/2) + 1)/((sqrt(M)*a + 8*sqrt(M**3*cos(acos(-a/M)/3)**6))**4*(tanh(sqrt(3)*sqrt((32*M**2*cos(acos(-a/M)/3)**6 - 16*M**2*cos(acos(-a/M)/3)**4 + a**2*(cos(2*acos(-a/M)/3) + 1))/(M*(sqrt(M)*a + 8*sqrt(M**3*cos(acos(-a/M)/3)**6))**2*(cos(2*acos(-a/M)/3) + 1)*cos(acos(-a/M)/3)**4))*(t - t_0)/4) + 1)))) + atanh(0.5*((16*W_0**4*(sqrt(M)*a + 8*sqrt(M**3*cos(acos(-a/M)/3)**6))**4*(tanh(sqrt(3)*sqrt((32*M**2*cos(acos(-a/M)/3)**6 - 16*M**2*cos(acos(-a/M)/3)**4 + a**2*(cos(2*acos(-a/M)/3) + 1))/(M*(sqrt(M)*a + 8*sqrt(M**3*cos(acos(-a/M)/3)**6))**2*(cos(2*acos(-a/M)/3) + 1)*cos(acos(-a/M)/3)**4))*(t - t_0)/4) + 1) + (M**2 - 16*W_0**4*(sqrt(M)*a + 8*sqrt(M**3*cos(acos(-a/M)/3)**6))**4)*(tanh(sqrt(3)*sqrt((32*M**2*cos(acos(-a/M)/3)**6 - 16*M**2*cos(acos(-a/M)/3)**4 + a**2*(cos(2*acos(-a/M)/3) + 1))/(M*(sqrt(M)*a + 8*sqrt(M**3*cos(acos(-a/M)/3)**6))**2*(cos(2*acos(-a/M)/3) + 1)*cos(acos(-a/M)/3)**4))*(t - t_0)/4) - tanh(sqrt(3)*sqrt((32*M**2*cos(acos(-a/M)/3)**6 - 16*M**2*cos(acos(-a/M)/3)**4 + a**2*(cos(2*acos(-a/M)/3) + 1))/(M*(sqrt(M)*a + 8*sqrt(M**3*cos(acos(-a/M)/3)**6))**2*(cos(2*acos(-a/M)/3) + 1)*cos(acos(-a/M)/3)**4))*(t - t_p)/4)))/((sqrt(M)*a + 8*sqrt(M**3*cos(acos(-a/M)/3)**6))**4*(tanh(sqrt(3)*sqrt((32*M**2*cos(acos(-a/M)/3)**6 - 16*M**2*cos(acos(-a/M)/3)**4 + a**2*(cos(2*acos(-a/M)/3) + 1))/(M*(sqrt(M)*a + 8*sqrt(M**3*cos(acos(-a/M)/3)**6))**2*(cos(2*acos(-a/M)/3) + 1)*cos(acos(-a/M)/3)**4))*(t - t_0)/4) + 1)))**0.25/(W_0**4 + (M**2/16 - W_0**4*(sqrt(M)*a + 8*sqrt(M**3*cos(acos(-a/M)/3)**6))**4)*(tanh(sqrt(3)*sqrt((4*M - 4*M/(cos(2*acos(-a/M)/3) + 1) + a**2/(4*M*cos(acos(-a/M)/3)**4))/(sqrt(M)*a + 8*sqrt(M**3*cos(acos(-a/M)/3)**6))**2)*(-t + t_0)/2) + 1)/((sqrt(M)*a + 8*sqrt(M**3*cos(acos(-a/M)/3)**6))**4*(tanh(sqrt(3)*sqrt((32*M**2*cos(acos(-a/M)/3)**6 - 16*M**2*cos(acos(-a/M)/3)**4 + a**2*(cos(2*acos(-a/M)/3) + 1))/(M*(sqrt(M)*a + 8*sqrt(M**3*cos(acos(-a/M)/3)**6))**2*(cos(2*acos(-a/M)/3) + 1)*cos(acos(-a/M)/3)**4))*(t - t_0)/4) + 1)))))/(3*sqrt((4*M - 4*M/(cos(2*acos(-a/M)/3) + 1) + a**2/(4*M*cos(acos(-a/M)/3)**4))/(sqrt(M)*a + 8*sqrt(M**3*cos(acos(-a/M)/3)**6))**2))))/cosh(sqrt(3)*sqrt((32*M**2*cos(acos(-a/M)/3)**6 - 16*M**2*cos(acos(-a/M)/3)**4 + a**2*(cos(2*acos(-a/M)/3) + 1))/(M*(sqrt(M)*a + 8*sqrt(M**3*cos(acos(-a/M)/3)**6))**2*(cos(2*acos(-a/M)/3) + 1)*cos(acos(-a/M)/3)**4))*(t - t_p)/4)\n"
          ],
          "name": "stdout"
        }
      ]
    },
    {
      "cell_type": "markdown",
      "metadata": {
        "id": "PGKczflBbTqu",
        "colab_type": "text"
      },
      "source": [
        "## Computing the Peak Amplitude Time\n",
        "\n",
        "In order to generate waveforms, it is required to enforce continuity with the waveform from the inspiral at some transition time $t_0$.\n",
        "\n",
        "In the EOB formalism, the light ringis associated with the time of peak strain and therefore, for determination of the appropriate time $t_0$, it is first crucial to compute the $t^{(h)}_p$ at which the strain is at the maximum. To do this, we extremise the strain\n",
        "\n",
        "$$\n",
        "\\dot{h}_{lm} = 0\n",
        "$$"
      ]
    },
    {
      "cell_type": "markdown",
      "metadata": {
        "id": "n56Da4aXyaEg",
        "colab_type": "text"
      },
      "source": [
        "## Matching the Waveform to the EOB Inspiral\n",
        "\n"
      ]
    }
  ]
}