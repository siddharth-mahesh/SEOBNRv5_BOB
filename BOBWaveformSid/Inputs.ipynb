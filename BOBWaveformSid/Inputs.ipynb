{
 "cells": [
  {
   "cell_type": "code",
   "execution_count": null,
   "metadata": {
    "colab": {},
    "colab_type": "code",
    "id": "75dhvTZ1FTwL"
   },
   "outputs": [],
   "source": [
    "import numpy as np\n",
    "import matplotlib.pyplot as pl\n",
    "import sympy as sp\n",
    "import matplotlib.pyplot as plt\n",
    "\n",
    "\n",
    "Mf , af = sp.symbols(\"Mf af\")"
   ]
  },
  {
   "cell_type": "markdown",
   "metadata": {
    "colab_type": "text",
    "id": "JYQZxmQcFY7x"
   },
   "source": [
    "# Calibrating Outputs from EOB Inspirals to Backwards-One-Body\n",
    "\n",
    "Author: Siddharth Mahesh\n",
    "\n",
    "The Effective One Body(EOB) formalism allows for the generation of waveforms for the inspiral component of Binary Black Hole mergers. The merger-ringdown component of the corresponding waveform is modelled using the Backwards-One-Body(BOB) formalism.\n",
    "\n",
    "In order to generate the BOB waveforms, the data obtained from EOB inspirals need to be represented in BOB-friendly inputs that can then be plugged into amplitude and phase functions to generate the waveform. The data from EOB inspirals are two-fold:\n",
    "\n",
    "*   A Time-Series Waveform for the Inspiral terminating at the EOB prescribed Light Ring\n",
    "*   Numerically Calibrated fits to the Mass and Spin of the Final Black Hole\n",
    "\n",
    "We additionally prescribe a reference time, $t_0 = t_{p,h} - 10M$ where we attach the two waveforms.\n",
    "\n",
    "## End State Quantities\n",
    "\n",
    "The quantites we can compute from the end state include the damping time of Quasinormal Modes (QNM) and the frequency of QNMs sourced by the final black hole.\n",
    "To do this, given $(M_f,a_f)$ are the mass and spin of the final Kerr black hole, $r_{lr}$ is the location of the light ring must be computed by:\n",
    "\n",
    "$$\n",
    "r_{lr} = 2M_f\\left(1 + \\cos\\left(\\frac{2}{3}\\cos^{-1}\\left(-\\frac{a_f}{M_f}\\right)\\right)\\right)\n",
    "$$"
   ]
  },
  {
   "cell_type": "code",
   "execution_count": null,
   "metadata": {
    "colab": {},
    "colab_type": "code",
    "id": "W_AXyOITOkjO"
   },
   "outputs": [],
   "source": [
    "r_lr = 2*Mf*(1 + sp.cos(sp.Rational(2,3)*sp.acos(-af/Mf)))"
   ]
  },
  {
   "cell_type": "markdown",
   "metadata": {
    "colab_type": "text",
    "id": "LOclYtaRQDJC"
   },
   "source": [
    "The frequency at the light ring, $\\omega$ is then given by:\n",
    "\n",
    "$$\n",
    "\\omega = \\frac{M_f^{1/2}}{r_{lr}^{3/2} + a_fM_f^{1/2}}\n",
    "$$\n",
    "Then, the QNM frequency:\n",
    "\n",
    "$$\n",
    "\\Omega_{QNM} = \\frac{\\omega}{2}\n",
    "$$"
   ]
  },
  {
   "cell_type": "code",
   "execution_count": null,
   "metadata": {
    "colab": {
     "base_uri": "https://localhost:8080/",
     "height": 34
    },
    "colab_type": "code",
    "id": "oa2DDRTGQWDe",
    "outputId": "08a5def3-1705-466d-f011-1e1c01331bf6"
   },
   "outputs": [
    {
     "name": "stdout",
     "output_type": "stream",
     "text": [
      "0.0\n"
     ]
    }
   ],
   "source": [
    "w = sp.sqrt(Mf)/(r_lr**(sp.Rational(3,2)) + af*sp.sqrt(Mf))\n",
    "\n",
    "Om_QNM = sp.lambdify([Mf,af],w/2)\n",
    "\n",
    "## Test Schwarzschild Case\n",
    "print(Om_QNM(1,0) -3**(-3/2)/2)"
   ]
  },
  {
   "cell_type": "markdown",
   "metadata": {
    "colab_type": "text",
    "id": "uEYIaiZ6QWN7"
   },
   "source": [
    "And finally, the damping time is given by:\n",
    "\n",
    "$$\n",
    "\\tau = \\frac{1}{\\sqrt{3\\omega^2\\left(1 - \\frac{2M_f}{r_{lr}} + \\frac{a_f^2}{r_{lr}^2}\\right)}}\n",
    "$$\n"
   ]
  },
  {
   "cell_type": "code",
   "execution_count": null,
   "metadata": {
    "colab": {
     "base_uri": "https://localhost:8080/",
     "height": 34
    },
    "colab_type": "code",
    "id": "6nLnshF8Xrb_",
    "outputId": "141f51a5-5c15-4e8c-d3b2-4b3921a771c9"
   },
   "outputs": [
    {
     "name": "stdout",
     "output_type": "stream",
     "text": [
      "-8.881784197001252e-16\n"
     ]
    }
   ],
   "source": [
    "gamma = sp.sqrt(3*w**2*(1 - 2*Mf/r_lr + (af/r_lr)**2))\n",
    "\n",
    "tau = sp.lambdify([Mf,af],1/gamma)\n",
    "\n",
    "##Test Schwarzschild Case\n",
    "print(tau(1,0)-np.sqrt(27))"
   ]
  },
  {
   "cell_type": "markdown",
   "metadata": {
    "colab_type": "text",
    "id": "QowMTIk0YmU0"
   },
   "source": [
    "## Inspiral Quantities\n",
    "\n",
    "The EOB time series contains in it 8 columns which are, in order\n",
    "\n",
    "\n",
    "\n",
    "1.   Time, $t$\n",
    "2.   $\\mathfrak{Re}(h_{22})$\n",
    "3.   $\\mathfrak{Im}(h_{22})$\n",
    "4.   $|h_{22}|$\n",
    "5.   Phase , $\\Phi$\n",
    "6.   Orbital Frequency, $\\omega$\n",
    "7.   Orbital Frequency, $\\omega$\n",
    "8.   Frequency Derivative, $\\dot{\\omega}$\n",
    "\n",
    "The BOB merger waveform requires the magnitude of strain, frequency and frequency derivative at the reference time $t_0 = t_{p,h} - 10M$ in order to compute several coefficients. "
   ]
  },
  {
   "cell_type": "code",
   "execution_count": null,
   "metadata": {
    "colab": {},
    "colab_type": "code",
    "id": "l5VmO280YJ5t"
   },
   "outputs": [],
   "source": [
    "def reftime_inputs(waveform,dt_ref,ind_t,ind_hmag,ind_w, ind_wdot):\n",
    "  fin = len(waveform) - 1\n",
    "  t_ph = waveform[fin,ind_t]\n",
    "  for i in range(fin,-1,-1):\n",
    "    if t_ph - waveform[i,ind_t] == dt_ref:\n",
    "      break\n",
    "  return t_ph , waveform[i,ind_t] , waveform[i,ind_hmag] , waveform[i,ind_w] , waveform[i,ind_wdot]\n",
    "\n",
    "t_ph , t_0sym , Om_0 , Om_0dot , Om_Q_sym , h_0 , tau_sym = sp.symbols(\"t_ph t_0 Om_0 Om_0dot Om_Q h_0 tau\")"
   ]
  },
  {
   "cell_type": "markdown",
   "metadata": {
    "colab_type": "text",
    "id": "-UNezvGFquQp"
   },
   "source": [
    "## Peak $\\psi_4$ time: $t_p$\n",
    "\n",
    "The BOB model amplitude and phase are given as functions of $t - t_p$ where $t_p$ is the peak time for the Weyl scalar $\\psi_4$ instead of the time of peak strain. We first write down the reference time $t_0 - t_p$ in the BOB framework:\n",
    "\n",
    "$$\n",
    "\\frac{t_0 - t_p}{\\tau} = -\\frac{1}{2}\\ln\\left(\\frac{\\Omega^4_{QNM} - \\Omega_0^4}{2\\tau\\Omega_0^3\\dot{\\Omega}_0}-1\\right)\n",
    "$$\n",
    "\n"
   ]
  },
  {
   "cell_type": "code",
   "execution_count": null,
   "metadata": {
    "colab": {
     "base_uri": "https://localhost:8080/",
     "height": 34
    },
    "colab_type": "code",
    "id": "i-ZX4jlyF6DG",
    "outputId": "2979782f-8757-444a-c5e9-ae68bcbcc956"
   },
   "outputs": [
    {
     "name": "stdout",
     "output_type": "stream",
     "text": [
      "-0.7333333333333334\n"
     ]
    }
   ],
   "source": [
    "tanharg = -sp.Rational(1,2)*sp.log((Om_Q_sym**4 - Om_0**4)/(2*tau_sym*Om_0**3*Om_0dot) - 1)\n",
    "\n",
    "tanhterm = sp.lambdify([Om_Q_sym, tau_sym, Om_0 , Om_0dot], sp.tanh(tanharg))\n",
    "print(tanhterm(2,1,1,1))\n",
    "tanh_term = sp.Symbol(\"Tanh\")"
   ]
  },
  {
   "cell_type": "markdown",
   "metadata": {
    "colab_type": "text",
    "id": "yJtjFUVaHgpX"
   },
   "source": [
    "We next compute the folowing coefficients:\n",
    "\n",
    "$$\n",
    "\\Omega_+^4 = \\frac{\\Omega_0^4 - \\Omega_{QNM}^4\\tanh\\left(\\frac{t_0 - t_p}{\\tau}\\right)}{1 - \\tanh\\left(\\frac{t_0 - t_p}{\\tau}\\right)}\\\\\n",
    "\\Omega_-^4 = \\frac{\\Omega_{QNM}^4 - \\Omega_{0}^4}{1 - \\tanh\\left(\\frac{t_0 - t_p}{\\tau}\\right)}\\\\\n",
    "\\kappa_+ = \\left\\{\\Omega_0^4 +\\Omega^4_-\\left(1 - \\tanh\\left(\\frac{t_0 - t_p}{\\tau}\\right)\\right)\\right\\}^{1/4}\\\\\n",
    "\\kappa_- = \\left\\{\\Omega_0^4 -\\Omega^4_-\\left(1 + \\tanh\\left(\\frac{t_0 - t_p}{\\tau}\\right)\\right)\\right\\}^{1/4}\n",
    "$$\n"
   ]
  },
  {
   "cell_type": "code",
   "execution_count": null,
   "metadata": {
    "colab": {},
    "colab_type": "code",
    "id": "yeKptL21KLqv"
   },
   "outputs": [],
   "source": [
    "Om4p = sp.lambdify([Om_0,Om_Q_sym,tanh_term],(Om_0**4 - Om_Q_sym**4*tanh_term)/(1 - tanh_term))\n",
    "Om4m = sp.lambdify([Om_0,Om_Q_sym,tanh_term],(Om_Q_sym**4 - Om_0**4)/(1 - tanh_term))\n",
    "\n",
    "Om4p_sym , Om4m_sym = sp.symbols(\"Om4p Om4m\")\n",
    "kapp_p = sp.lambdify([Om_0,Om4m_sym,tanh_term],(Om_0**4 + Om4m_sym*(1 - tanh_term))**(sp.Rational(1,4)))\n",
    "kapp_m = sp.lambdify([Om_0,Om4m_sym,tanh_term],(Om_0**4 - Om4m_sym*(1 + tanh_term))**(sp.Rational(1,4)))"
   ]
  },
  {
   "cell_type": "markdown",
   "metadata": {
    "colab_type": "text",
    "id": "BIoMGvefLqFo"
   },
   "source": [
    "We now define the peak $\\psi_4$ time:\n",
    "\n",
    "$$\n",
    "t_p = t_{p,h} - \\frac{\\tau}{2}\\tanh^{-1}\\left(\\frac{\\Omega_+^4}{\\Omega^4_-} - \\sqrt{\\frac{\\Omega_+^8}{\\Omega^8_-} - 1}\\right)\n",
    "$$"
   ]
  },
  {
   "cell_type": "code",
   "execution_count": null,
   "metadata": {
    "colab": {},
    "colab_type": "code",
    "id": "nklTsURuMbPV"
   },
   "outputs": [],
   "source": [
    "t_peakpsi4 = sp.lambdify([t_ph,tau_sym,Om4p_sym,Om4m_sym],t_ph - sp.Rational(1,2)*tau_sym*sp.atanh(Om4p_sym/Om4m_sym - sp.sqrt((Om4p_sym/Om4m_sym)**2 - 1)))"
   ]
  },
  {
   "cell_type": "markdown",
   "metadata": {
    "colab_type": "text",
    "id": "DQcFqJlXNPEI"
   },
   "source": [
    "## The Phase Evolution\n",
    "\n",
    "Before specifying the amplitude it is worth specifying the phase of the merger waveform. We compute the frequency $\\Omega$ as:\n",
    "\n",
    "$$\n",
    "\\Omega = \\left\\{\\Omega_+^4 + \\Omega_-^4\\tanh\\left(\\frac{t - t_p}{\\tau}\\right)\\right\\}^{1/4}\n",
    "$$\n",
    "\n",
    "The phase is then given by:\n",
    "\n",
    "$$\n",
    "\\Phi = \\text{arctan}_+ +  \\text{arctanh}_+ - \\text{arctan}_- - \\text{arctanh}_- \\\\\n",
    "\\text{arctan[h]}_\\pm = \\kappa_\\pm\\tau\\left[\\text{arctan[h]}\\left(\\frac{\\Omega}{\\kappa_\\pm}\\right) - \\text{arctan[h]}\\left(\\frac{\\Omega_0}{\\kappa_\\pm}\\right)\\right] \n",
    "$$\n",
    "\n"
   ]
  },
  {
   "cell_type": "code",
   "execution_count": null,
   "metadata": {
    "colab": {},
    "colab_type": "code",
    "id": "-azUi3y6OxXu"
   },
   "outputs": [],
   "source": [
    "def Omega(time_series,tpeak,tau,Om4plus,Om4minus):\n",
    "  return (Om4plus + Om4minus*np.tanh((time_series - tpeak)/tau))**0.25\n",
    "\n",
    "Om, kp , km = sp.symbols(\"Om kp km\")\n",
    "arctanhp = kp*tau_sym*( sp.atanh(Om/kp+0j) - sp.atanh(Om_0/kp+0j) )\n",
    "arctanhm = km*tau_sym*(sp.atanh(Om/km+0j) - sp.atanh(Om_0/km+0j))\n",
    "arctanp = kp*tau_sym*(sp.atan(Om/kp+0j) - sp.atan(Om_0/kp+0j))\n",
    "arctanm = km*tau_sym*(sp.atan(Om/km+0j) - sp.atan(Om_0/km+0j))\n",
    "Phi = sp.lambdify([Om,Om_0,kp,km,tau_sym], arctanhp+arctanp-arctanhm-arctanm)"
   ]
  },
  {
   "cell_type": "markdown",
   "metadata": {
    "colab_type": "text",
    "id": "os1fQrwKTWzQ"
   },
   "source": [
    "## Amplitude Evolution\n",
    "\n",
    "In order to get the magnitude of the strain, we first need to set the $|\\psi_4|$ amplitude at the reference time as:\n",
    "\n",
    "$$\n",
    "A_0 = |h_{22}|4\\Omega_0^2\n",
    "$$\n",
    "\n",
    "Which then gives the peak $\\psi_4$ amplitude as:\n",
    "\n",
    "$$\n",
    "A_p = A_0\\cosh(\\frac{t_0 - t_p}{\\tau})\n",
    "$$"
   ]
  },
  {
   "cell_type": "code",
   "execution_count": null,
   "metadata": {
    "colab": {},
    "colab_type": "code",
    "id": "nzF87OYRVCn4"
   },
   "outputs": [],
   "source": [
    "A_0 = h_0/(4*Om_0**2)\n",
    "A_p = sp.lambdify([h_0,Om_0,tanh_term], A_0*sp.cosh(tanh_term))"
   ]
  },
  {
   "cell_type": "markdown",
   "metadata": {
    "colab_type": "text",
    "id": "6cJKQ5k8UXDR"
   },
   "source": [
    "\n",
    "The magnitude of $\\psi_4$ is given by:\n",
    "\n",
    "$$\n",
    "|\\psi_4| = A_p\\text{sech}\\left(\\frac{t - t_p}{\\tau}\\right)\\\\\n",
    "$$\n",
    "\n",
    "And the strain magnitude is given by:\n",
    "\n",
    "$$\n",
    "|h| = \\frac{|\\psi_4|}{4\\Omega^2}\n",
    "$$"
   ]
  },
  {
   "cell_type": "code",
   "execution_count": null,
   "metadata": {
    "colab": {},
    "colab_type": "code",
    "id": "I9FKkU8enlza"
   },
   "outputs": [],
   "source": [
    "def psi_4amplitude(time_set,Ap,tau,tp):\n",
    "  return Ap/np.cosh((time_set - tp)/tau)\n",
    "\n",
    "def strain_amplitude(psi4amp,freq):\n",
    "  return psi4amp/(4*(freq**2))\n",
    "\n",
    "def waveform(amp,phase):\n",
    "  return amp*np.exp((2J)*phase)\n"
   ]
  },
  {
   "cell_type": "markdown",
   "metadata": {
    "colab_type": "text",
    "id": "FagTdhiaoYJJ"
   },
   "source": [
    "##Plotting a Model Waveform"
   ]
  },
  {
   "cell_type": "code",
   "execution_count": null,
   "metadata": {
    "colab": {
     "base_uri": "https://localhost:8080/",
     "height": 948
    },
    "colab_type": "code",
    "id": "jiaAQu42o5be",
    "outputId": "1342f48f-5b90-441c-c036-303307a5252d"
   },
   "outputs": [
    {
     "name": "stdout",
     "output_type": "stream",
     "text": [
      "[nan+nanj nan+nanj nan+nanj nan+nanj nan+nanj nan+nanj nan+nanj nan+nanj\n",
      " nan+nanj nan+nanj nan+nanj nan+nanj nan+nanj nan+nanj nan+nanj nan+nanj\n",
      " nan+nanj nan+nanj nan+nanj nan+nanj nan+nanj nan+nanj nan+nanj nan+nanj\n",
      " nan+nanj nan+nanj nan+nanj nan+nanj nan+nanj nan+nanj nan+nanj nan+nanj\n",
      " nan+nanj nan+nanj nan+nanj nan+nanj nan+nanj nan+nanj nan+nanj nan+nanj\n",
      " nan+nanj nan+nanj nan+nanj nan+nanj nan+nanj nan+nanj nan+nanj nan+nanj\n",
      " nan+nanj nan+nanj nan+nanj nan+nanj nan+nanj nan+nanj nan+nanj nan+nanj\n",
      " nan+nanj nan+nanj nan+nanj nan+nanj nan+nanj nan+nanj nan+nanj nan+nanj\n",
      " nan+nanj nan+nanj nan+nanj nan+nanj nan+nanj nan+nanj nan+nanj nan+nanj\n",
      " nan+nanj nan+nanj nan+nanj nan+nanj nan+nanj nan+nanj nan+nanj nan+nanj\n",
      " nan+nanj nan+nanj nan+nanj nan+nanj nan+nanj nan+nanj nan+nanj nan+nanj\n",
      " nan+nanj nan+nanj nan+nanj nan+nanj nan+nanj nan+nanj nan+nanj nan+nanj\n",
      " nan+nanj nan+nanj nan+nanj nan+nanj nan+nanj nan+nanj nan+nanj nan+nanj\n",
      " nan+nanj nan+nanj nan+nanj nan+nanj nan+nanj nan+nanj nan+nanj nan+nanj\n",
      " nan+nanj nan+nanj nan+nanj nan+nanj nan+nanj nan+nanj nan+nanj nan+nanj\n",
      " nan+nanj nan+nanj nan+nanj nan+nanj nan+nanj nan+nanj nan+nanj nan+nanj\n",
      " nan+nanj nan+nanj nan+nanj nan+nanj nan+nanj nan+nanj nan+nanj nan+nanj\n",
      " nan+nanj nan+nanj nan+nanj nan+nanj nan+nanj nan+nanj nan+nanj nan+nanj\n",
      " nan+nanj nan+nanj nan+nanj nan+nanj nan+nanj nan+nanj nan+nanj nan+nanj\n",
      " nan+nanj nan+nanj nan+nanj nan+nanj nan+nanj nan+nanj nan+nanj nan+nanj\n",
      " nan+nanj nan+nanj nan+nanj nan+nanj nan+nanj nan+nanj nan+nanj nan+nanj\n",
      " nan+nanj nan+nanj nan+nanj nan+nanj nan+nanj nan+nanj nan+nanj nan+nanj\n",
      " nan+nanj nan+nanj nan+nanj nan+nanj nan+nanj nan+nanj nan+nanj nan+nanj\n",
      " nan+nanj nan+nanj nan+nanj nan+nanj nan+nanj nan+nanj nan+nanj nan+nanj\n",
      " nan+nanj nan+nanj nan+nanj nan+nanj nan+nanj nan+nanj nan+nanj nan+nanj]\n",
      "[nan nan nan nan nan nan nan nan nan nan nan nan nan nan nan nan nan nan\n",
      " nan nan nan nan nan nan nan nan nan nan nan nan nan nan nan nan nan nan\n",
      " nan nan nan nan nan nan nan nan nan nan nan nan nan nan nan nan nan nan\n",
      " nan nan nan nan nan nan nan nan nan nan nan nan nan nan nan nan nan nan\n",
      " nan nan nan nan nan nan nan nan nan nan nan nan nan nan nan nan nan nan\n",
      " nan nan nan nan nan nan nan nan nan nan nan nan nan nan nan nan nan nan\n",
      " nan nan nan nan nan nan nan nan nan nan nan nan nan nan nan nan nan nan\n",
      " nan nan nan nan nan nan nan nan nan nan nan nan nan nan nan nan nan nan\n",
      " nan nan nan nan nan nan nan nan nan nan nan nan nan nan nan nan nan nan\n",
      " nan nan nan nan nan nan nan nan nan nan nan nan nan nan nan nan nan nan\n",
      " nan nan nan nan nan nan nan nan nan nan nan nan nan nan nan nan nan nan\n",
      " nan nan]\n"
     ]
    },
    {
     "name": "stderr",
     "output_type": "stream",
     "text": [
      "/usr/local/lib/python3.6/dist-packages/numpy/__init__.py:1: RuntimeWarning: invalid value encountered in arctanh\n",
      "  \"\"\"\n"
     ]
    },
    {
     "data": {
      "image/png": "[encoded data removed]",
      "text/plain": [
       "<Figure size 432x288 with 1 Axes>"
      ]
     },
     "metadata": {
      "tags": []
     },
     "output_type": "display_data"
    }
   ],
   "source": [
    "t_peak_strain_num = 0\n",
    "t_ref_num = -4\n",
    "h_ref_time_num = 3.780336357338e-01\n",
    "omega_ref_time_num = 2.364406630394e-01/2\n",
    "omegdot_ref_time_num = 5.366200927301e-03/2\n",
    "af_num = 0.6864\n",
    "Mf_num = 0.9516\n",
    "time_set = np.arange(t_ref_num,t_ref_num + 200,1)\n",
    "\n",
    "#Om_QNM_num = Om_QNM(Mf_num,af_num)\n",
    "#tau_num = tau(Mf_num,af_num)\n",
    "omqnm = 1.5251-1.1568*(1-af_num)**0.1292\n",
    "omqnm = omqnm/Mf_num\n",
    "Om_ONM_num = omqnm/2\n",
    "Q = 0.7+1.4187*(1-af_num)**(-0.499)\n",
    "tau = Q/omqnm\n",
    "tau_num = 2*tau\n",
    "\n",
    "tanhterm_num = tanhterm(Om_QNM_num, tau_num, omega_ref_time_num , omegdot_ref_time_num)\n",
    "Om4p_num = Om4p(omega_ref_time_num,Om_QNM_num,tanhterm_num)\n",
    "Om4m_num = Om4m(omega_ref_time_num,Om_QNM_num,tanhterm_num)\n",
    "kapp_p_num = kapp_p(omega_ref_time_num,Om4m_num,tanhterm_num)\n",
    "kapp_m_num = kapp_m(omega_ref_time_num,Om4m_num,tanhterm_num)\n",
    "t_peakpsi4_num = t_peakpsi4(t_peak_strain_num,tau_num,Om4p_num,Om4m_num)\n",
    "frequency_series = Omega(time_set,t_peakpsi4_num,tau_num,Om4p_num,Om4m_num)\n",
    "phase_series = Phi(frequency_series,omega_ref_time_num,kapp_p_num,kapp_m_num,tau_num)\n",
    "A_0_num = h_ref_time_num*(4*omega_ref_time_num**2)\n",
    "A_p_num = A_0_num*np.cosh(tanhterm_num)\n",
    "psi4_series = psi_4amplitude(time_set,A_p_num,tau_num,t_peakpsi4_num)\n",
    "strainamp_series = strain_amplitude(psi4_series,frequency_series)\n",
    "strain_series = waveform(strainamp_series,phase_series)\n",
    "print(strain_series)\n",
    "print(np.real(strain_series))\n",
    "\n",
    "plt.plot(time_set,np.real(strain_series))\n",
    "plt.show()\n",
    "\n",
    "\n",
    "\n",
    "\n",
    "\n",
    " \n",
    "\n",
    "\n"
   ]
  },
  {
   "cell_type": "code",
   "execution_count": null,
   "metadata": {
    "colab": {
     "base_uri": "https://localhost:8080/",
     "height": 1000
    },
    "colab_type": "code",
    "id": "43bjaeq-ubJI",
    "outputId": "65219b43-1266-42cd-8fe9-e202ccf22e26"
   },
   "outputs": [
    {
     "name": "stdout",
     "output_type": "stream",
     "text": [
      "0.1182203315197\n",
      "0.15044420389401889\n",
      "11.61663186296606\n",
      "-0.3500622836553021\n",
      "0.0002775112671293743\n",
      "0.00023476217587665632\n",
      "0.15044420389401889\n",
      "0.0808596247907456\n",
      "-3.606253564781474\n",
      "[0.12813349 0.13046879 0.13266574 0.13471096 0.13659579 0.13831621\n",
      " 0.13987243 0.14126837 0.1425109  0.14360913 0.14457368 0.14541603\n",
      " 0.14614797 0.14678115 0.14732679 0.14779539 0.14819665 0.14853939\n",
      " 0.1488315  0.14908    0.14929106 0.14947009 0.14962175 0.14975012\n",
      " 0.14985868 0.14995042 0.1500279  0.1500933  0.15014849 0.15019504\n",
      " 0.15023429 0.15026738 0.15029527 0.15031877 0.15033857 0.15035525\n",
      " 0.1503693  0.15038113 0.15039109 0.15039949 0.15040655 0.15041251\n",
      " 0.15041752 0.15042174 0.15042529 0.15042828 0.1504308  0.15043292\n",
      " 0.1504347  0.1504362  0.15043747 0.15043853 0.15043943 0.15044019\n",
      " 0.15044082 0.15044136 0.15044181 0.15044219 0.1504425  0.15044277\n",
      " 0.150443   0.15044319 0.15044335 0.15044349 0.1504436  0.15044369\n",
      " 0.15044378 0.15044384 0.1504439  0.15044395 0.15044399 0.15044402\n",
      " 0.15044405 0.15044408 0.1504441  0.15044411 0.15044413 0.15044414\n",
      " 0.15044415 0.15044416 0.15044417 0.15044417 0.15044418 0.15044418\n",
      " 0.15044418 0.15044419 0.15044419 0.15044419 0.15044419 0.1504442\n",
      " 0.1504442  0.1504442  0.1504442  0.1504442  0.1504442  0.1504442\n",
      " 0.1504442  0.1504442  0.1504442  0.1504442  0.1504442  0.1504442\n",
      " 0.1504442  0.1504442  0.1504442  0.1504442  0.1504442  0.1504442\n",
      " 0.1504442  0.1504442  0.1504442  0.1504442  0.1504442  0.1504442\n",
      " 0.1504442  0.1504442  0.1504442  0.1504442  0.1504442  0.1504442\n",
      " 0.1504442  0.1504442  0.1504442  0.1504442  0.1504442  0.1504442\n",
      " 0.1504442  0.1504442  0.1504442  0.1504442  0.1504442  0.1504442\n",
      " 0.1504442  0.1504442  0.1504442  0.1504442  0.1504442  0.1504442\n",
      " 0.1504442  0.1504442  0.1504442  0.1504442  0.1504442  0.1504442\n",
      " 0.1504442  0.1504442  0.1504442  0.1504442  0.1504442  0.1504442\n",
      " 0.1504442  0.1504442  0.1504442  0.1504442  0.1504442  0.1504442\n",
      " 0.1504442  0.1504442  0.1504442  0.1504442  0.1504442  0.1504442\n",
      " 0.1504442  0.1504442  0.1504442  0.1504442  0.1504442  0.1504442\n",
      " 0.1504442  0.1504442  0.1504442  0.1504442  0.1504442  0.1504442\n",
      " 0.1504442  0.1504442  0.1504442  0.1504442  0.1504442  0.1504442\n",
      " 0.1504442  0.1504442  0.1504442  0.1504442  0.1504442  0.1504442\n",
      " 0.1504442  0.1504442  0.1504442  0.1504442  0.1504442  0.1504442\n",
      " 0.1504442  0.1504442  0.1504442  0.1504442  0.1504442  0.1504442\n",
      " 0.1504442  0.1504442 ]\n",
      "[nan nan nan nan nan nan nan nan nan nan nan nan nan nan nan nan nan nan\n",
      " nan nan nan nan nan nan nan nan nan nan nan nan nan nan nan nan nan nan\n",
      " nan nan nan nan nan nan nan nan nan nan nan nan nan nan nan nan nan nan\n",
      " nan nan nan nan nan nan nan nan nan nan nan nan nan nan nan nan nan nan\n",
      " nan nan nan nan nan nan nan nan nan nan nan nan nan nan nan nan nan nan\n",
      " nan nan nan nan nan nan nan nan nan nan nan nan nan nan nan nan nan nan\n",
      " nan nan nan nan nan nan nan nan nan nan nan nan nan nan nan nan nan nan\n",
      " nan nan nan nan nan nan nan nan nan nan nan nan nan nan nan nan nan nan\n",
      " nan nan nan nan nan nan nan nan nan nan nan nan nan nan nan nan nan nan\n",
      " nan nan nan nan nan nan nan nan nan nan nan nan nan nan nan nan nan nan\n",
      " nan nan nan nan nan nan nan nan nan nan nan nan nan nan nan nan nan nan\n",
      " nan nan]\n",
      "0.02113366311671409\n",
      "0.02244183830701784\n",
      "[2.24289530e-02 2.24113113e-02 2.22290001e-02 2.18886378e-02\n",
      " 2.14022382e-02 2.07862079e-02 2.00600656e-02 1.92450606e-02\n",
      " 1.83628510e-02 1.74343701e-02 1.64789542e-02 1.55137557e-02\n",
      " 1.45534257e-02 1.36100227e-02 1.26930943e-02 1.18098751e-02\n",
      " 1.09655538e-02 1.01635692e-02 9.40590784e-03 8.69338316e-03\n",
      " 8.02588751e-03 7.40261013e-03 6.82222115e-03 6.28302321e-03\n",
      " 5.78307371e-03 5.32028142e-03 4.89248159e-03 4.49749291e-03\n",
      " 4.13316002e-03 3.79738416e-03 3.48814463e-03 3.20351307e-03\n",
      " 2.94166207e-03 2.70086969e-03 2.47952080e-03 2.27610608e-03\n",
      " 2.08921944e-03 1.91755423e-03 1.75989882e-03 1.61513156e-03\n",
      " 1.48221566e-03 1.36019388e-03 1.24818335e-03 1.14537045e-03\n",
      " 1.05100591e-03 9.64400144e-04 8.84918792e-04 8.11978542e-04\n",
      " 7.45043214e-04 6.83620093e-04 6.27256515e-04 5.75536700e-04\n",
      " 5.28078810e-04 4.84532234e-04 4.44575068e-04 4.07911798e-04\n",
      " 3.74271160e-04 3.43404169e-04 3.15082301e-04 2.89095823e-04\n",
      " 2.65252258e-04 2.43374970e-04 2.23301867e-04 2.04884205e-04\n",
      " 1.87985492e-04 1.72480484e-04 1.58254256e-04 1.45201357e-04\n",
      " 1.33225027e-04 1.22236483e-04 1.12154261e-04 1.02903615e-04\n",
      " 9.44159605e-05 8.66283700e-05 7.94831045e-05 7.29271868e-05\n",
      " 6.69120083e-05 6.13929696e-05 5.63291494e-05 5.16830011e-05\n",
      " 4.74200752e-05 4.35087633e-05 3.99200638e-05 3.66273673e-05\n",
      " 3.36062592e-05 3.08343384e-05 2.82910516e-05 2.59575405e-05\n",
      " 2.38165026e-05 2.18520623e-05 2.00496534e-05 1.83959113e-05\n",
      " 1.68785736e-05 1.54863894e-05 1.42090357e-05 1.30370411e-05\n",
      " 1.19617154e-05 1.09750850e-05 1.00698342e-05 9.23925061e-06\n",
      " 8.47717548e-06 7.77795810e-06 7.13641380e-06 6.54778558e-06\n",
      " 6.00770880e-06 5.51217883e-06 5.05752133e-06 4.64036505e-06\n",
      " 4.25761680e-06 3.90643853e-06 3.58422627e-06 3.28859084e-06\n",
      " 3.01734011e-06 2.76846278e-06 2.54011344e-06 2.33059890e-06\n",
      " 2.13836560e-06 1.96198817e-06 1.80015875e-06 1.65167741e-06\n",
      " 1.51544317e-06 1.39044584e-06 1.27575859e-06 1.17053101e-06\n",
      " 1.07398285e-06 9.85398213e-07 9.04120244e-07 8.29546274e-07\n",
      " 7.61123340e-07 6.98344092e-07 6.40743024e-07 5.87893028e-07\n",
      " 5.39402225e-07 4.94911057e-07 4.54089626e-07 4.16635242e-07\n",
      " 3.82270185e-07 3.50739638e-07 3.21809806e-07 2.95266174e-07\n",
      " 2.70911923e-07 2.48566469e-07 2.28064120e-07 2.09252854e-07\n",
      " 1.91993185e-07 1.76157134e-07 1.61627278e-07 1.48295879e-07\n",
      " 1.36064085e-07 1.24841198e-07 1.14544002e-07 1.05096142e-07\n",
      " 9.64275647e-08 8.84739917e-08 8.11764482e-08 7.44808233e-08\n",
      " 6.83374693e-08 6.27008336e-08 5.75291210e-08 5.27839834e-08\n",
      " 4.84302359e-08 4.44355958e-08 4.07704431e-08 3.74076008e-08\n",
      " 3.43221336e-08 3.14911631e-08 2.88936977e-08 2.65104773e-08\n",
      " 2.43238306e-08 2.23175437e-08 2.04767401e-08 1.87877702e-08\n",
      " 1.72381106e-08 1.58162706e-08 1.45117073e-08 1.33147475e-08\n",
      " 1.22165157e-08 1.12088687e-08 1.02843347e-08 9.43605855e-09\n",
      " 8.65775018e-09 7.94363852e-09 7.28842848e-09 6.68726171e-09\n",
      " 6.13568059e-09 5.62959518e-09 5.16525289e-09 4.73921065e-09\n",
      " 4.34830938e-09 3.98965056e-09 3.66057478e-09 3.35864193e-09\n",
      " 3.08161323e-09 2.82743450e-09 2.59422103e-09 2.38024356e-09\n",
      " 2.18391546e-09 2.00378096e-09 1.83850438e-09 1.68686020e-09]\n",
      "[3.41525924e-01 3.29150137e-01 3.15749290e-01 3.01545533e-01\n",
      " 2.86763970e-01 2.71624627e-01 2.56335113e-01 2.41084567e-01\n",
      " 2.26039297e-01 2.11340229e-01 1.97102076e-01 1.83413968e-01\n",
      " 1.70341194e-01 1.57927685e-01 1.46198890e-01 1.35164780e-01\n",
      " 1.24822759e-01 1.15160348e-01 1.06157574e-01 9.77890084e-02\n",
      " 9.00254801e-02 8.28354662e-02 7.61862017e-02 7.00445426e-02\n",
      " 6.43776223e-02 5.91533365e-02 5.43406903e-02 4.99100335e-02\n",
      " 4.58332112e-02 4.20836464e-02 3.86363732e-02 3.54680315e-02\n",
      " 3.25568353e-02 2.98825210e-02 2.74262833e-02 2.51707027e-02\n",
      " 2.30996679e-02 2.11982975e-02 1.94528602e-02 1.78506979e-02\n",
      " 1.63801501e-02 1.50304828e-02 1.37918195e-02 1.26550769e-02\n",
      " 1.16119047e-02 1.06546283e-02 9.77619630e-03 8.97013145e-03\n",
      " 8.23048472e-03 7.55179327e-03 6.92904131e-03 6.35762405e-03\n",
      " 5.83331441e-03 5.35223237e-03 4.91081666e-03 4.50579880e-03\n",
      " 4.13417915e-03 3.79320490e-03 3.48034987e-03 3.19329589e-03\n",
      " 2.92991572e-03 2.68825741e-03 2.46652981e-03 2.26308941e-03\n",
      " 2.07642817e-03 1.90516234e-03 1.74802227e-03 1.60384298e-03\n",
      " 1.47155554e-03 1.35017919e-03 1.23881401e-03 1.13663432e-03\n",
      " 1.04288251e-03 9.56863463e-04 8.77939388e-04 8.05525093e-04\n",
      " 7.39083650e-04 6.78122417e-04 6.22189380e-04 5.70869810e-04\n",
      " 5.23783181e-04 4.80580354e-04 4.40940989e-04 4.04571163e-04\n",
      " 3.71201201e-04 3.40583666e-04 3.12491535e-04 2.86716506e-04\n",
      " 2.63067460e-04 2.41369041e-04 2.21460358e-04 2.03193788e-04\n",
      " 1.86433888e-04 1.71056383e-04 1.56947251e-04 1.44001873e-04\n",
      " 1.32124260e-04 1.21226340e-04 1.11227306e-04 1.02053016e-04\n",
      " 9.36354427e-05 8.59121708e-05 7.88259325e-05 7.23241838e-05\n",
      " 6.63587147e-05 6.08852914e-05 5.58633291e-05 5.12555900e-05\n",
      " 4.70279081e-05 4.31489353e-05 3.95899094e-05 3.63244403e-05\n",
      " 3.33283148e-05 3.05793168e-05 2.80570626e-05 2.57428499e-05\n",
      " 2.36195189e-05 2.16713253e-05 1.98838233e-05 1.82437586e-05\n",
      " 1.67389704e-05 1.53583006e-05 1.40915118e-05 1.29292107e-05\n",
      " 1.18627789e-05 1.08843089e-05 9.98654541e-06 9.16283159e-06\n",
      " 8.40705963e-06 7.71362552e-06 7.07738750e-06 6.49362788e-06\n",
      " 5.95801814e-06 5.46658675e-06 5.01568978e-06 4.60198386e-06\n",
      " 4.22240137e-06 3.87412775e-06 3.55458055e-06 3.26139036e-06\n",
      " 2.99238319e-06 2.74556437e-06 2.51910375e-06 2.31132213e-06\n",
      " 2.12067883e-06 1.94576023e-06 1.78526934e-06 1.63801611e-06\n",
      " 1.50290868e-06 1.37894523e-06 1.26520657e-06 1.16084935e-06\n",
      " 1.06509976e-06 9.77247818e-07 8.96642113e-07 8.22684957e-07\n",
      " 7.54827961e-07 6.92567970e-07 6.35443331e-07 5.83030466e-07\n",
      " 5.34940738e-07 4.90817564e-07 4.50333774e-07 4.13189182e-07\n",
      " 3.79108363e-07 3.47838611e-07 3.19148062e-07 2.92823977e-07\n",
      " 2.68671165e-07 2.46510534e-07 2.26177763e-07 2.07522088e-07\n",
      " 1.90405177e-07 1.74700109e-07 1.60290432e-07 1.47069299e-07\n",
      " 1.34938676e-07 1.23808616e-07 1.13596589e-07 1.04226874e-07\n",
      " 9.56299960e-08 8.77422084e-08 8.05050241e-08 7.38647798e-08\n",
      " 6.77722385e-08 6.21822245e-08 5.70532879e-08 5.23473982e-08\n",
      " 4.80296613e-08 4.40680615e-08 4.04332239e-08 3.70981962e-08\n",
      " 3.40382495e-08 3.12306944e-08 2.86547130e-08 2.62912047e-08\n",
      " 2.41226441e-08 2.21329515e-08 2.03073735e-08 1.86323734e-08]\n",
      "[nan+nanj nan+nanj nan+nanj nan+nanj nan+nanj nan+nanj nan+nanj nan+nanj\n",
      " nan+nanj nan+nanj nan+nanj nan+nanj nan+nanj nan+nanj nan+nanj nan+nanj\n",
      " nan+nanj nan+nanj nan+nanj nan+nanj nan+nanj nan+nanj nan+nanj nan+nanj\n",
      " nan+nanj nan+nanj nan+nanj nan+nanj nan+nanj nan+nanj nan+nanj nan+nanj\n",
      " nan+nanj nan+nanj nan+nanj nan+nanj nan+nanj nan+nanj nan+nanj nan+nanj\n",
      " nan+nanj nan+nanj nan+nanj nan+nanj nan+nanj nan+nanj nan+nanj nan+nanj\n",
      " nan+nanj nan+nanj nan+nanj nan+nanj nan+nanj nan+nanj nan+nanj nan+nanj\n",
      " nan+nanj nan+nanj nan+nanj nan+nanj nan+nanj nan+nanj nan+nanj nan+nanj\n",
      " nan+nanj nan+nanj nan+nanj nan+nanj nan+nanj nan+nanj nan+nanj nan+nanj\n",
      " nan+nanj nan+nanj nan+nanj nan+nanj nan+nanj nan+nanj nan+nanj nan+nanj\n",
      " nan+nanj nan+nanj nan+nanj nan+nanj nan+nanj nan+nanj nan+nanj nan+nanj\n",
      " nan+nanj nan+nanj nan+nanj nan+nanj nan+nanj nan+nanj nan+nanj nan+nanj\n",
      " nan+nanj nan+nanj nan+nanj nan+nanj nan+nanj nan+nanj nan+nanj nan+nanj\n",
      " nan+nanj nan+nanj nan+nanj nan+nanj nan+nanj nan+nanj nan+nanj nan+nanj\n",
      " nan+nanj nan+nanj nan+nanj nan+nanj nan+nanj nan+nanj nan+nanj nan+nanj\n",
      " nan+nanj nan+nanj nan+nanj nan+nanj nan+nanj nan+nanj nan+nanj nan+nanj\n",
      " nan+nanj nan+nanj nan+nanj nan+nanj nan+nanj nan+nanj nan+nanj nan+nanj\n",
      " nan+nanj nan+nanj nan+nanj nan+nanj nan+nanj nan+nanj nan+nanj nan+nanj\n",
      " nan+nanj nan+nanj nan+nanj nan+nanj nan+nanj nan+nanj nan+nanj nan+nanj\n",
      " nan+nanj nan+nanj nan+nanj nan+nanj nan+nanj nan+nanj nan+nanj nan+nanj\n",
      " nan+nanj nan+nanj nan+nanj nan+nanj nan+nanj nan+nanj nan+nanj nan+nanj\n",
      " nan+nanj nan+nanj nan+nanj nan+nanj nan+nanj nan+nanj nan+nanj nan+nanj\n",
      " nan+nanj nan+nanj nan+nanj nan+nanj nan+nanj nan+nanj nan+nanj nan+nanj\n",
      " nan+nanj nan+nanj nan+nanj nan+nanj nan+nanj nan+nanj nan+nanj nan+nanj\n",
      " nan+nanj nan+nanj nan+nanj nan+nanj nan+nanj nan+nanj nan+nanj nan+nanj]\n"
     ]
    },
    {
     "data": {
      "image/png": "[encoded data removed]",
      "text/plain": [
       "<Figure size 432x288 with 1 Axes>"
      ]
     },
     "metadata": {
      "tags": []
     },
     "output_type": "display_data"
    }
   ],
   "source": [
    "print(omega_ref_time_num)\n",
    "print(Om_QNM_num)\n",
    "print(tau_num)\n",
    "print(tanhterm_num)\n",
    "print(Om4p_num)\n",
    "print(Om4m_num)\n",
    "print(kapp_p_num)\n",
    "print(kapp_m_num)\n",
    "print(t_peakpsi4_num)\n",
    "print(frequency_series)\n",
    "print(phase_series)\n",
    "print(A_0_num)\n",
    "print(A_p_num) \n",
    "print(psi4_series)\n",
    "print(strainamp_series)\n",
    "print(strain_series)\n",
    "\n",
    "plt.plot(time_set,np.real(strainamp_series))\n",
    "plt.show()\n",
    "\n"
   ]
  },
  {
   "cell_type": "code",
   "execution_count": null,
   "metadata": {
    "colab": {
     "base_uri": "https://localhost:8080/",
     "height": 1000
    },
    "colab_type": "code",
    "id": "eLP9EUxSN-zb",
    "outputId": "2f4508f4-09c6-416a-867a-f3d682f19ffb"
   },
   "outputs": [
    {
     "name": "stdout",
     "output_type": "stream",
     "text": [
      "[ 0.47486923+0.j  0.60418121+0.j  0.73576063+0.j  0.86946206+0.j\n",
      "  1.00512903+0.j  1.14259878+0.j  1.28170667+0.j  1.42229019+0.j\n",
      "  1.56419226+0.j  1.70726387+0.j  1.85136594+0.j  1.99637049+0.j\n",
      "  2.1421612 +0.j  2.28863351+0.j  2.43569433+0.j  2.58326142+0.j\n",
      "  2.73126267+0.j  2.87963523+0.j  3.02832459+0.j  3.17728371+0.j\n",
      "  3.32647213+0.j  3.47585516+0.j  3.62540319+0.j  3.77509091+0.j\n",
      "  3.92489683+0.j  4.07480267+0.j  4.22479292+0.j  4.37485445+0.j\n",
      "  4.52497613+0.j  4.67514855+0.j  4.82536377+0.j  4.97561508+0.j\n",
      "  5.1258968 +0.j  5.27620415+0.j  5.4265331 +0.j  5.57688025+0.j\n",
      "  5.72724272+0.j  5.8776181 +0.j  6.02800435+0.j  6.17839976+0.j\n",
      "  6.32880289+0.j  6.4792125 +0.j  6.62962758+0.j  6.78004727+0.j\n",
      "  6.93047083+0.j  7.08089766+0.j  7.23132723+0.j  7.38175912+0.j\n",
      "  7.53219296+0.j  7.68262843+0.j  7.83306529+0.j  7.9835033 +0.j\n",
      "  8.1339423 +0.j  8.28438212+0.j  8.43482263+0.j  8.58526373+0.j\n",
      "  8.73570532+0.j  8.88614732+0.j  9.03658967+0.j  9.18703231+0.j\n",
      "  9.3374752 +0.j  9.4879183 +0.j  9.63836157+0.j  9.78880499+0.j\n",
      "  9.93924854+0.j 10.08969218+0.j 10.24013592+0.j 10.39057973+0.j\n",
      " 10.5410236 +0.j 10.69146753+0.j 10.8419115 +0.j 10.9923555 +0.j\n",
      " 11.14279954+0.j 11.2932436 +0.j 11.44368769+0.j 11.59413179+0.j\n",
      " 11.74457592+0.j 11.89502005+0.j 12.04546419+0.j 12.19590835+0.j\n",
      " 12.34635251+0.j 12.49679668+0.j 12.64724085+0.j 12.79768503+0.j\n",
      " 12.94812921+0.j 13.0985734 +0.j 13.24901759+0.j 13.39946178+0.j\n",
      " 13.54990597+0.j 13.70035017+0.j 13.85079436+0.j 14.00123856+0.j\n",
      " 14.15168276+0.j 14.30212696+0.j 14.45257116+0.j 14.60301536+0.j\n",
      " 14.75345956+0.j 14.90390376+0.j 15.05434796+0.j 15.20479217+0.j\n",
      " 15.35523637+0.j 15.50568056+0.j 15.65612477+0.j 15.80656897+0.j\n",
      " 15.95701319+0.j 16.1074574 +0.j 16.25790156+0.j 16.40834581+0.j\n",
      " 16.55879001+0.j 16.70923417+0.j 16.85967842+0.j 17.01012267+0.j\n",
      " 17.16056687+0.j 17.311011  +0.j 17.46145519+0.j 17.61189948+0.j\n",
      " 17.76234356+0.j 17.91278779+0.j 18.0632319 +0.j 18.21367608+0.j\n",
      " 18.36412044+0.j 18.5145646 +0.j 18.66500865+0.j 18.81545271+0.j\n",
      " 18.96589721+0.j 19.11634064+0.j 19.2667859 +0.j 19.41723006+0.j\n",
      " 19.56767561+0.j 19.71811753+0.j 19.86856138+0.j 20.0190082 +0.j\n",
      " 20.16945166+0.j 20.31989272+0.j 20.47033882+0.j 20.62078167+0.j\n",
      " 20.7712262 +0.j 20.92166805+0.j 21.07212547+0.j 21.22256529+0.j\n",
      " 21.37300369+0.j 21.52344358+0.j 21.67389669+0.j 21.82434196+0.j\n",
      " 21.97476392+0.j 22.12523659+0.j 22.2756446 +0.j 22.42612639+0.j\n",
      " 22.57655327+0.j 22.72695113+0.j 22.87742648+0.j 23.02787028+0.j\n",
      " 23.17842877+0.j 23.32871093+0.j 23.47909634+0.j 23.62970881+0.j\n",
      " 23.78018386+0.j 23.93048833+0.j 24.08065581+0.j 24.23125812+0.j\n",
      " 24.38186568+0.j 24.53271524+0.j 24.68274768+0.j 24.83297929+0.j\n",
      " 24.98429007+0.j 25.13495583+0.j 25.28383289+0.j 25.43502178+0.j\n",
      " 25.58420372+0.j 25.73635287+0.j 25.88545013+0.j 26.03587167+0.j\n",
      " 26.18845637+0.j 26.33862384+0.j 26.48708629+0.j 26.64156271+0.j\n",
      " 26.78841738+0.j 26.94431489+0.j 27.09277733+0.j 27.24243927+0.j\n",
      " 27.39983846+0.j 27.53645795+0.j 27.6824344 +0.j 27.81978748+0.j\n",
      " 28.0055295 +0.j 28.15569698+0.j 28.27238038+0.j 28.44427123+0.j\n",
      " 28.56639906+0.j 28.70841256+0.j 28.942829  +0.j 29.01277252+0.j\n",
      " 29.1720901 +0.j 29.36707907+0.j 29.48376246+0.j 29.77778115+0.j\n",
      " 29.77778115+0.j 29.77778115+0.j 30.22415461+0.j 30.22415461+0.j]\n"
     ]
    },
    {
     "data": {
      "text/plain": [
       "[<matplotlib.lines.Line2D at 0x7fc5d6c81320>]"
      ]
     },
     "execution_count": 113,
     "metadata": {
      "tags": []
     },
     "output_type": "execute_result"
    },
    {
     "data": {
      "image/png": "[encoded data removed]",
      "text/plain": [
       "<Figure size 432x288 with 1 Axes>"
      ]
     },
     "metadata": {
      "tags": []
     },
     "output_type": "display_data"
    }
   ],
   "source": [
    "arctanhp_num = kapp_p_num*tau_num*( np.arctanh(frequency_series/kapp_p_num+0j) - np.arctanh(omega_ref_time_num/kapp_p_num+0j) )\n",
    "arctanhm_num = kapp_m_num*tau_num*( np.arctanh(frequency_series/kapp_m_num+0j) - np.arctanh(omega_ref_time_num/kapp_m_num+0j) )\n",
    "arctanp_num = kapp_p_num*tau_num*( np.arctan(frequency_series/kapp_p_num+0j) - np.arctan(omega_ref_time_num/kapp_p_num+0j) )\n",
    "arctanm_num = kapp_m_num*tau_num*( np.arctan(frequency_series/kapp_m_num+0j) - np.arctan(omega_ref_time_num/kapp_m_num+0j) )\n",
    "print(arctanhp_num - arctanhm_num + arctanp_num - arctanm_num)\n",
    "phase_info = np.real(arctanhp_num - arctanhm_num + arctanp_num - arctanm_num)\n",
    "plt.plot(time_set,strainamp_series*np.cos(2*phase_info))"
   ]
  },
  {
   "cell_type": "code",
   "execution_count": null,
   "metadata": {
    "colab": {},
    "colab_type": "code",
    "id": "JQOU_gZMu-27"
   },
   "outputs": [],
   "source": []
  }
 ],
 "metadata": {
  "colab": {
   "collapsed_sections": [],
   "name": "Inputs.ipynb",
   "provenance": []
  },
  "kernelspec": {
   "display_name": "Python 3",
   "language": "python",
   "name": "python3"
  },
  "language_info": {
   "codemirror_mode": {
    "name": "ipython",
    "version": 3
   },
   "file_extension": ".py",
   "mimetype": "text/x-python",
   "name": "python",
   "nbconvert_exporter": "python",
   "pygments_lexer": "ipython3",
   "version": "3.8.8"
  }
 },
 "nbformat": 4,
 "nbformat_minor": 4
}
