{
 "cells": [
  {
   "cell_type": "code",
   "execution_count": 1,
   "metadata": {
    "colab": {},
    "colab_type": "code",
    "id": "75dhvTZ1FTwL"
   },
   "outputs": [],
   "source": [
    "import numpy as np\n",
    "import matplotlib.pyplot as pl\n",
    "import sympy as sp\n",
    "import matplotlib.pyplot as plt\n",
    "\n",
    "Mf , af = sp.symbols(\"Mf af\")\n",
    "\n",
    "%matplotlib notebook"
   ]
  },
  {
   "cell_type": "markdown",
   "metadata": {
    "colab_type": "text",
    "id": "JYQZxmQcFY7x"
   },
   "source": [
    "# Calibrating Outputs from EOB Inspirals to Backwards-One-Body\n",
    "\n",
    "Author: Siddharth Mahesh\n",
    "\n",
    "The Effective One Body(EOB) formalism allows for the generation of waveforms for the inspiral component of Binary Black Hole mergers. The merger-ringdown component of the corresponding waveform is modelled using the Backwards-One-Body(BOB) formalism.\n",
    "\n",
    "In order to generate the BOB waveforms, the data obtained from EOB inspirals need to be represented in BOB-friendly inputs that can then be plugged into amplitude and phase functions to generate the waveform. The data from EOB inspirals are two-fold:\n",
    "\n",
    "*   A Time-Series Waveform for the Inspiral terminating at the EOB prescribed Light Ring\n",
    "*   Numerically Calibrated fits to the Mass and Spin of the Final Black Hole\n",
    "\n",
    "We additionally prescribe a reference time, $t_0 = t_{p,h} - 10M$ where we attach the two waveforms.\n",
    "\n",
    "## End State Quantities\n",
    "\n",
    "The quantites we can compute from the end state include the damping time of Quasinormal Modes (QNM) and the frequency of QNMs sourced by the final black hole.\n",
    "To do this, we first quote the frequency and quality factor of the (l,m) = (2,2)QNMs for a Kerr black hole with mass , dimensionless spin given by: $(M_f,a_f)$\n",
    "\n",
    "$$\n",
    "\\omega = M_f^{-1}\\left(1.5251 - 1.1568(1 - a_f)^{0.1292}\\right)\\\\\n",
    "Q = 0.7000 + 1.4187(1 - a_f)^{-0.4990}\n",
    "$$"
   ]
  },
  {
   "cell_type": "code",
   "execution_count": 2,
   "metadata": {
    "colab": {},
    "colab_type": "code",
    "id": "oa2DDRTGQWDe"
   },
   "outputs": [
    {
     "name": "stdout",
     "output_type": "stream",
     "text": [
      "0.9516 0.6864\n"
     ]
    }
   ],
   "source": [
    "finstate = np.loadtxt(\"finstate.dat\")\n",
    "\n",
    "af_num = finstate[1]\n",
    "Mf_num = finstate[0]\n",
    "print(Mf_num,af_num)\n",
    "omqnm = 1.5251-1.1568*(1-af_num)**0.1292\n",
    "omqnm = omqnm/Mf_num\n",
    "Q = 0.7+1.4187*(1-af_num)**(-0.499)"
   ]
  },
  {
   "cell_type": "markdown",
   "metadata": {
    "colab_type": "text",
    "id": "uEYIaiZ6QWN7"
   },
   "source": [
    "The QNM frequency $\\Omega_{QNM}$ and the damping time $\\tau$ are then given by:\n",
    "\n",
    "$$\n",
    "\\Omega_{QNM} = \\frac{\\omega}{2}\\\\\n",
    "\\tau = \\frac{Q}{\\Omega_{QNM}}\n",
    "$$"
   ]
  },
  {
   "cell_type": "code",
   "execution_count": 3,
   "metadata": {
    "colab": {},
    "colab_type": "code",
    "id": "6nLnshF8Xrb_"
   },
   "outputs": [],
   "source": [
    "Om_QNM_num = omqnm/2\n",
    "tau_num = Q/Om_QNM_num"
   ]
  },
  {
   "cell_type": "markdown",
   "metadata": {
    "colab_type": "text",
    "id": "QowMTIk0YmU0"
   },
   "source": [
    "## Inspiral Quantities\n",
    "\n",
    "The EOB time series contains in it 8 columns which are, in order\n",
    "\n",
    "\n",
    "\n",
    "1.   Time, $t$\n",
    "2.   $\\mathfrak{Re}(h_{22})$\n",
    "3.   $\\mathfrak{Im}(h_{22})$\n",
    "4.   $|h_{22}|$\n",
    "5.   Phase , $\\Phi$\n",
    "6.   Orbital Frequency, $\\omega$\n",
    "7.   Orbital Frequency, $\\omega$\n",
    "8.   Frequency Derivative, $\\dot{\\omega}$\n",
    "\n",
    "The BOB merger waveform requires the magnitude of strain, frequency and frequency derivative at the reference time $t_0 = t_{p,h} - 10M$ in order to compute several coefficients. "
   ]
  },
  {
   "cell_type": "code",
   "execution_count": 4,
   "metadata": {
    "colab": {},
    "colab_type": "code",
    "id": "l5VmO280YJ5t"
   },
   "outputs": [],
   "source": [
    "def reftime_inputs(waveform,dt_ref,ind_t,ind_hmag,ind_w, ind_wdot):\n",
    "  fin = len(waveform) - 1\n",
    "  t_ph = waveform[fin,ind_t]\n",
    "  for i in range(fin,-1,-1):\n",
    "    if t_ph - waveform[i,ind_t] == dt_ref:\n",
    "      break\n",
    "  return t_ph , waveform[i,ind_t] , i, waveform[i,ind_hmag] , waveform[i,ind_w] , waveform[i,ind_wdot]\n",
    "\n",
    "inspiral_waveform = np.loadtxt(\"prh_2_2_inspiral.dat\")\n",
    "\n",
    "t_ph , t_0sym , Om_0 , Om_0dot , Om_Q_sym , h_0 , tau_sym = sp.symbols(\"t_ph t_0 Om_0 Om_0dot Om_Q h_0 tau\")\n",
    "\n",
    "t_peak_strain_num , t_ref_num , t_ref_ind, h_ref_time_num , omega_ref_time_num , omegdot_ref_time_num = reftime_inputs(inspiral_waveform,10,0,3,5,7)\n",
    "omega_ref_time_num /= 2\n",
    "omegdot_ref_time_num /= 2\n",
    "time_set = np.arange(t_ref_num,t_ref_num + 10,1)"
   ]
  },
  {
   "cell_type": "markdown",
   "metadata": {
    "colab_type": "text",
    "id": "-UNezvGFquQp"
   },
   "source": [
    "## Peak $\\psi_4$ time: $t_p$\n",
    "\n",
    "The BOB model amplitude and phase are given as functions of $t - t_p$ where $t_p$ is the peak time for the Weyl scalar $\\psi_4$ instead of the time of peak strain. We first write down the reference time $t_0 - t_p$ in the BOB framework:\n",
    "\n",
    "$$\n",
    "\\frac{t_0 - t_p}{\\tau} = -\\frac{1}{2}\\ln\\left(\\frac{\\Omega^4_{QNM} - \\Omega_0^4}{2\\tau\\Omega_0^3\\dot{\\Omega}_0}-1\\right)\n",
    "$$\n",
    "\n",
    "Since the tanh of the above expression will recur in subsequent computations, we define $\\tanh\\left(\\frac{t_0 - t_p}{\\tau}\\right)$ in it's own right.\n",
    "\n",
    "Thus, we define the peak $\\psi_4$ time as:\n",
    "\n",
    "$$\n",
    "t_p = t_0 - \\tau\\left(\\frac{t_0 - t_p}{\\tau}\\right)\n",
    "$$"
   ]
  },
  {
   "cell_type": "code",
   "execution_count": 5,
   "metadata": {
    "colab": {},
    "colab_type": "code",
    "id": "i-ZX4jlyF6DG"
   },
   "outputs": [],
   "source": [
    "tanharg = -sp.Rational(1,2)*sp.log((Om_Q_sym**4 - Om_0**4)/(2*tau_sym*Om_0**3*Om_0dot) - 1)\n",
    "tanh_arg = sp.lambdify([Om_Q_sym, tau_sym, Om_0 , Om_0dot], tanharg)\n",
    "tanhterm = sp.lambdify([Om_Q_sym, tau_sym, Om_0 , Om_0dot], sp.tanh(tanharg))\n",
    "tanh_term = sp.Symbol(\"Tanh\")\n",
    "tanharg_sym = sp.Symbol(\"Tanharg\")\n",
    "\n",
    "tanh_arg_num = tanh_arg(Om_QNM_num, tau_num, omega_ref_time_num , omegdot_ref_time_num)\n",
    "tanhterm_num = tanhterm(Om_QNM_num, tau_num, omega_ref_time_num , omegdot_ref_time_num)\n",
    "\n",
    "t_peakpsi4_num = t_ref_num - tau_num*tanh_arg_num\n",
    "t_peakpsi4 = sp.Symbol(\"t_peakpsi4\")"
   ]
  },
  {
   "cell_type": "markdown",
   "metadata": {
    "colab_type": "text",
    "id": "yJtjFUVaHgpX"
   },
   "source": [
    "We next compute the folowing coefficients:\n",
    "\n",
    "$$\n",
    "\\Omega_+^4 = \\frac{\\Omega_0^4 - \\Omega_{QNM}^4\\tanh\\left(\\frac{t_0 - t_p}{\\tau}\\right)}{1 - \\tanh\\left(\\frac{t_0 - t_p}{\\tau}\\right)}\\\\\n",
    "\\Omega_-^4 = \\frac{\\Omega_{QNM}^4 - \\Omega_{0}^4}{1 - \\tanh\\left(\\frac{t_0 - t_p}{\\tau}\\right)}\\\\\n",
    "\\kappa_+ = \\left\\{\\Omega_0^4 +\\Omega^4_-\\left(1 - \\tanh\\left(\\frac{t_0 - t_p}{\\tau}\\right)\\right)\\right\\}^{1/4}\\\\\n",
    "\\kappa_- = \\left\\{\\Omega_0^4 -\\Omega^4_-\\left(1 + \\tanh\\left(\\frac{t_0 - t_p}{\\tau}\\right)\\right)\\right\\}^{1/4}\n",
    "$$\n"
   ]
  },
  {
   "cell_type": "code",
   "execution_count": 6,
   "metadata": {
    "colab": {},
    "colab_type": "code",
    "id": "yeKptL21KLqv"
   },
   "outputs": [],
   "source": [
    "Om4p = sp.lambdify([Om_0,Om_Q_sym,tanh_term],(Om_0**4 - Om_Q_sym**4*tanh_term)/(1 - tanh_term))\n",
    "Om4m = sp.lambdify([Om_0,Om_Q_sym,tanh_term],(Om_Q_sym**4 - Om_0**4)/(1 - tanh_term))\n",
    "\n",
    "Om4p_sym , Om4m_sym = sp.symbols(\"Om4p Om4m\")\n",
    "kapp_p = sp.lambdify([Om_0,Om4m_sym,tanh_term],(Om_0**4 + Om4m_sym*(1 - tanh_term))**(sp.Rational(1,4)))\n",
    "kapp_m = sp.lambdify([Om_0,Om4m_sym,tanh_term],(Om_0**4 - Om4m_sym*(1 + tanh_term))**(sp.Rational(1,4)))\n",
    "\n",
    "Om4p_num = Om4p(omega_ref_time_num,Om_QNM_num,tanhterm_num)\n",
    "Om4m_num = Om4m(omega_ref_time_num,Om_QNM_num,tanhterm_num)\n",
    "kapp_p_num = kapp_p(omega_ref_time_num,Om4m_num,tanhterm_num) + 0J\n",
    "kapp_m_num = kapp_m(omega_ref_time_num,Om4m_num,tanhterm_num) + 0J"
   ]
  },
  {
   "cell_type": "markdown",
   "metadata": {
    "colab_type": "text",
    "id": "BIoMGvefLqFo"
   },
   "source": [
    "We now define the peak $\\psi_4$ time:\n",
    "\n",
    "$$\n",
    "t_p = t_{p,h} - \\frac{\\tau}{2}\\tanh^{-1}\\left(\\frac{\\Omega_+^4}{\\Omega^4_-} - \\sqrt{\\frac{\\Omega_+^8}{\\Omega^8_-} - 1}\\right)\n",
    "$$"
   ]
  },
  {
   "cell_type": "code",
   "execution_count": 7,
   "metadata": {
    "colab": {},
    "colab_type": "code",
    "id": "nklTsURuMbPV"
   },
   "outputs": [],
   "source": [
    "t_peakstrain = sp.lambdify([t_peakpsi4,tau_sym,Om4p_sym,Om4m_sym],t_peakpsi4 + sp.Rational(1,2)*tau_sym*sp.atanh(Om4p_sym/Om4m_sym - sp.sqrt((Om4p_sym/Om4m_sym)**2 - 1)))\n",
    "\n",
    "t_peakstrain_num = t_peakstrain(t_peakpsi4_num,tau_num,Om4p_num,Om4m_num)\n",
    "\n",
    "dt_peakstrain = t_peakstrain_num - inspiral_waveform[-1,0] "
   ]
  },
  {
   "cell_type": "markdown",
   "metadata": {
    "colab_type": "text",
    "id": "DQcFqJlXNPEI"
   },
   "source": [
    "## The Phase Evolution\n",
    "\n",
    "Before specifying the amplitude it is worth specifying the phase of the merger waveform. We compute the frequency $\\Omega$ as:\n",
    "\n",
    "$$\n",
    "\\Omega = \\left\\{\\Omega_+^4 + \\Omega_-^4\\tanh\\left(\\frac{t - t_p}{\\tau}\\right)\\right\\}^{1/4}\n",
    "$$\n",
    "\n",
    "The phase is then given by:\n",
    "\n",
    "$$\n",
    "\\Phi = \\text{arctan}_+ +  \\text{arctanh}_+ - \\text{arctan}_- - \\text{arctanh}_- \\\\\n",
    "\\text{arctan[h]}_\\pm = \\kappa_\\pm\\tau\\left[\\text{arctan[h]}\\left(\\frac{\\Omega}{\\kappa_\\pm}\\right) - \\text{arctan[h]}\\left(\\frac{\\Omega_0}{\\kappa_\\pm}\\right)\\right] \n",
    "$$\n",
    "\n"
   ]
  },
  {
   "cell_type": "code",
   "execution_count": 8,
   "metadata": {
    "colab": {},
    "colab_type": "code",
    "id": "-azUi3y6OxXu"
   },
   "outputs": [],
   "source": [
    "def Omega(time_series,tpeak,tau,Om4plus,Om4minus):\n",
    "  return (Om4plus + Om4minus*np.tanh((time_series - tpeak)/tau))**0.25\n",
    "\n",
    "Om, kp , km = sp.symbols(\"Om kp km\")\n",
    "arctanhp = kp*tau_sym*( sp.atanh(Om/kp) - sp.atanh(Om_0/kp) )\n",
    "arctanhm = km*tau_sym*( sp.atanh(Om/km) - sp.atanh(Om_0/km) )\n",
    "arctanp = kp*tau_sym*( sp.atan(Om/kp) - sp.atan(Om_0/kp) )\n",
    "arctanm = km*tau_sym*( sp.atan(Om/km) - sp.atan(Om_0/km) )\n",
    "Phi = sp.lambdify([Om,Om_0,kp,km,tau_sym], arctanhp+arctanp-arctanhm-arctanm)\n",
    "\n",
    "frequency_series = Omega(time_set,t_peakpsi4_num,tau_num,Om4p_num,Om4m_num)\n",
    "phase_info = np.real(Phi(frequency_series , omega_ref_time_num, kapp_p_num, kapp_m_num, tau_num))"
   ]
  },
  {
   "cell_type": "markdown",
   "metadata": {
    "colab_type": "text",
    "id": "os1fQrwKTWzQ"
   },
   "source": [
    "## Amplitude Evolution\n",
    "\n",
    "In order to get the magnitude of the strain, we first need to set the $|\\psi_4|$ amplitude at the reference time as:\n",
    "\n",
    "$$\n",
    "A_0 = |h_{22}|4\\Omega_0^2\n",
    "$$\n",
    "\n",
    "Which then gives the peak $\\psi_4$ amplitude as:\n",
    "\n",
    "$$\n",
    "A_p = A_0\\cosh(\\frac{t_0 - t_p}{\\tau})\n",
    "$$"
   ]
  },
  {
   "cell_type": "code",
   "execution_count": 9,
   "metadata": {
    "colab": {},
    "colab_type": "code",
    "id": "nzF87OYRVCn4"
   },
   "outputs": [],
   "source": [
    "A_0 = h_0*(4*Om_0**2)\n",
    "A_p = sp.lambdify([h_0,Om_0,tanharg_sym], A_0*sp.cosh(tanharg_sym))\n",
    "\n",
    "A_0_num = h_ref_time_num*(4*omega_ref_time_num**2)\n",
    "A_p_num = A_p(h_ref_time_num,omega_ref_time_num,tanh_arg_num)"
   ]
  },
  {
   "cell_type": "markdown",
   "metadata": {
    "colab_type": "text",
    "id": "6cJKQ5k8UXDR"
   },
   "source": [
    "\n",
    "The magnitude of $\\psi_4$ is given by:\n",
    "\n",
    "$$\n",
    "|\\psi_4| = A_p\\text{sech}\\left(\\frac{t - t_p}{\\tau}\\right)\\\\\n",
    "$$\n",
    "\n",
    "And the strain magnitude is given by:\n",
    "\n",
    "$$\n",
    "|h| = \\frac{|\\psi_4|}{4\\Omega^2}\n",
    "$$"
   ]
  },
  {
   "cell_type": "code",
   "execution_count": 10,
   "metadata": {
    "colab": {},
    "colab_type": "code",
    "id": "I9FKkU8enlza"
   },
   "outputs": [],
   "source": [
    "def psi_4amplitude(time_set,Ap,tau,tp):\n",
    "  return Ap/np.cosh((time_set - tp)/tau)\n",
    "\n",
    "def strain_amplitude(psi4amp,freq):\n",
    "  return psi4amp/(4*(freq**2))\n",
    "\n",
    "def waveform(amp,phase):\n",
    "  return amp*np.exp((2J)*phase)\n",
    "\n",
    "psi4_series = psi_4amplitude(time_set,A_p_num,tau_num,t_peakpsi4_num)\n",
    "strainamp_series = strain_amplitude(psi4_series,frequency_series)\n",
    "strain_series = -waveform(strainamp_series,phase_info)\n",
    "#print(strain_series)\n",
    "\n",
    "#print(A_0_num-psi4_series[0])\n",
    "#print(h_ref_time_num - (psi4_series[0]/(4*(frequency_series[0]**2))) )"
   ]
  },
  {
   "cell_type": "markdown",
   "metadata": {
    "colab_type": "text",
    "id": "FagTdhiaoYJJ"
   },
   "source": [
    "## Plotting a Model Waveform"
   ]
  },
  {
   "cell_type": "code",
   "execution_count": 11,
   "metadata": {
    "colab": {
     "base_uri": "https://localhost:8080/",
     "height": 282
    },
    "colab_type": "code",
    "executionInfo": {
     "elapsed": 976,
     "status": "ok",
     "timestamp": 1576096773440,
     "user": {
      "displayName": "Sean McWilliams",
      "photoUrl": "https://lh3.googleusercontent.com/a-/AAuE7mAFulrEb5Xyum_mFQJ2jq26crrrbvxBYWZoySPSWA=s64",
      "userId": "08321619707690587381"
     },
     "user_tz": 300
    },
    "id": "jiaAQu42o5be",
    "outputId": "f79bfc16-3db4-46a9-efa6-9da50121a6d4"
   },
   "outputs": [
    {
     "data": {
      "text/plain": [
       "[<matplotlib.lines.Line2D at 0x7f647f67d240>]"
      ]
     },
     "execution_count": 11,
     "metadata": {},
     "output_type": "execute_result"
    },
    {
     "data": {
      "image/png": "[encoded data removed]",
      "text/plain": [
       "<Figure size 432x288 with 1 Axes>"
      ]
     },
     "metadata": {},
     "output_type": "display_data"
    }
   ],
   "source": [
    "#plt.plot(time_set,np.real(strainamp_series),color = 'blue')\n",
    "#plt.plot(time_set,np.real(-strainamp_series),color = 'blue')\n",
    "plt.plot(inspiral_waveform[t_ref_ind-10:,0],inspiral_waveform[t_ref_ind-10:,1],color = 'green')\n",
    "plt.plot(inspiral_waveform[t_ref_ind-10:t_ref_ind+1,0],inspiral_waveform[t_ref_ind-10:t_ref_ind+1,1],color = 'black')\n",
    "plt.plot(time_set,np.real(strain_series),color = 'black')\n"
   ]
  },
  {
   "cell_type": "code",
   "execution_count": 12,
   "metadata": {},
   "outputs": [
    {
     "name": "stdout",
     "output_type": "stream",
     "text": [
      "3.6286314395376676e-13\n",
      "201645.0 201645.0\n"
     ]
    },
    {
     "data": {
      "image/png": "[encoded data removed]",
      "text/plain": [
       "<Figure size 432x288 with 1 Axes>"
      ]
     },
     "metadata": {},
     "output_type": "display_data"
    }
   ],
   "source": [
    "plt.plot(inspiral_waveform[t_ref_ind-10:,0],inspiral_waveform[t_ref_ind-10:,3],color = 'green')\n",
    "plt.plot(inspiral_waveform[t_ref_ind-10:t_ref_ind+1,0],inspiral_waveform[t_ref_ind-10:t_ref_ind+1,3],color = 'black')\n",
    "plt.plot(time_set,np.real(strainamp_series),color = 'black')\n",
    "\n",
    "print(abs(strainamp_series[0]-inspiral_waveform[t_ref_ind,3])/inspiral_waveform[t_ref_ind,3])\n",
    "\n",
    "print(inspiral_waveform[t_ref_ind,0],t_ref_num)"
   ]
  },
  {
   "cell_type": "code",
   "execution_count": 13,
   "metadata": {},
   "outputs": [
    {
     "data": {
      "text/plain": [
       "[<matplotlib.lines.Line2D at 0x7f647f523208>]"
      ]
     },
     "execution_count": 13,
     "metadata": {},
     "output_type": "execute_result"
    },
    {
     "data": {
      "image/png": "[encoded data removed]",
      "text/plain": [
       "<Figure size 432x288 with 1 Axes>"
      ]
     },
     "metadata": {},
     "output_type": "display_data"
    }
   ],
   "source": [
    "plt.plot(inspiral_waveform[t_ref_ind-10:,0],inspiral_waveform[t_ref_ind-10:,5],color = 'green')\n",
    "plt.plot(inspiral_waveform[t_ref_ind-10:t_ref_ind+1,0],inspiral_waveform[t_ref_ind-10:t_ref_ind+1,5],color = 'black')\n",
    "plt.plot(time_set,2*(frequency_series),color = 'black')"
   ]
  },
  {
   "cell_type": "code",
   "execution_count": 14,
   "metadata": {},
   "outputs": [
    {
     "data": {
      "text/plain": [
       "[<matplotlib.lines.Line2D at 0x7f647f48ebe0>]"
      ]
     },
     "execution_count": 14,
     "metadata": {},
     "output_type": "execute_result"
    },
    {
     "data": {
      "image/png": "[encoded data removed]",
      "text/plain": [
       "<Figure size 432x288 with 1 Axes>"
      ]
     },
     "metadata": {},
     "output_type": "display_data"
    }
   ],
   "source": [
    "plt.plot(inspiral_waveform[t_ref_ind-10:,0],inspiral_waveform[t_ref_ind-10:,2],color = 'green')\n",
    "plt.plot(inspiral_waveform[t_ref_ind-10:t_ref_ind+1,0],inspiral_waveform[t_ref_ind-10:t_ref_ind+1,2],color = 'black')\n",
    "plt.plot(time_set,np.imag(strain_series),color = 'black')"
   ]
  },
  {
   "cell_type": "code",
   "execution_count": null,
   "metadata": {},
   "outputs": [],
   "source": []
  }
 ],
 "metadata": {
  "colab": {
   "collapsed_sections": [],
   "name": "Inputsv2.ipynb",
   "provenance": []
  },
  "kernelspec": {
   "display_name": "Python 3",
   "language": "python",
   "name": "python3"
  },
  "language_info": {
   "codemirror_mode": {
    "name": "ipython",
    "version": 3
   },
   "file_extension": ".py",
   "mimetype": "text/x-python",
   "name": "python",
   "nbconvert_exporter": "python",
   "pygments_lexer": "ipython3",
   "version": "3.6.8"
  }
 },
 "nbformat": 4,
 "nbformat_minor": 1
}
